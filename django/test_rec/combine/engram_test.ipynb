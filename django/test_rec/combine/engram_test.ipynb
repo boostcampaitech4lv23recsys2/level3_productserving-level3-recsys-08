{
 "cells": [
  {
   "cell_type": "code",
   "execution_count": 9,
   "id": "c40a7465",
   "metadata": {
    "ExecuteTime": {
     "end_time": "2023-01-21T09:15:01.851887Z",
     "start_time": "2023-01-21T09:15:01.505916Z"
    }
   },
   "outputs": [],
   "source": [
    "import pandas as pd"
   ]
  },
  {
   "cell_type": "code",
   "execution_count": 1,
   "id": "8924f417",
   "metadata": {
    "ExecuteTime": {
     "end_time": "2023-01-21T09:01:05.886730Z",
     "start_time": "2023-01-21T09:01:05.878034Z"
    }
   },
   "outputs": [],
   "source": [
    "engram=['2','B']"
   ]
  },
  {
   "cell_type": "code",
   "execution_count": 3,
   "id": "0d0c9a76",
   "metadata": {
    "ExecuteTime": {
     "end_time": "2023-01-21T09:01:41.481918Z",
     "start_time": "2023-01-21T09:01:41.478647Z"
    }
   },
   "outputs": [],
   "source": [
    "engram_crite = ''.join(engram)"
   ]
  },
  {
   "cell_type": "code",
   "execution_count": 12,
   "id": "944e3664",
   "metadata": {
    "ExecuteTime": {
     "end_time": "2023-01-21T09:16:32.947465Z",
     "start_time": "2023-01-21T09:16:32.941777Z"
    }
   },
   "outputs": [],
   "source": [
    "df = pd.read_csv('enn.csv')"
   ]
  },
  {
   "cell_type": "code",
   "execution_count": 21,
   "id": "7c01853e",
   "metadata": {
    "ExecuteTime": {
     "end_time": "2023-01-21T09:22:40.543155Z",
     "start_time": "2023-01-21T09:22:40.532841Z"
    }
   },
   "outputs": [
    {
     "data": {
      "text/html": [
       "<div>\n",
       "<style scoped>\n",
       "    .dataframe tbody tr th:only-of-type {\n",
       "        vertical-align: middle;\n",
       "    }\n",
       "\n",
       "    .dataframe tbody tr th {\n",
       "        vertical-align: top;\n",
       "    }\n",
       "\n",
       "    .dataframe thead th {\n",
       "        text-align: right;\n",
       "    }\n",
       "</style>\n",
       "<table border=\"1\" class=\"dataframe\">\n",
       "  <thead>\n",
       "    <tr style=\"text-align: right;\">\n",
       "      <th></th>\n",
       "      <th>question</th>\n",
       "      <th>three_letter</th>\n",
       "    </tr>\n",
       "  </thead>\n",
       "  <tbody>\n",
       "    <tr>\n",
       "      <th>0</th>\n",
       "      <td>이상주의적이고, 학구적이며, 차분하고, 특히 내향적이다.</td>\n",
       "      <td>1w9</td>\n",
       "    </tr>\n",
       "    <tr>\n",
       "      <th>1</th>\n",
       "      <td>순수이상보다는 현실의 개선을 투구하고, 열정적이며, 관계맺기를 좋아한다.</td>\n",
       "      <td>1w2</td>\n",
       "    </tr>\n",
       "  </tbody>\n",
       "</table>\n",
       "</div>"
      ],
      "text/plain": [
       "                                   question three_letter\n",
       "0           이상주의적이고, 학구적이며, 차분하고, 특히 내향적이다.          1w9\n",
       "1  순수이상보다는 현실의 개선을 투구하고, 열정적이며, 관계맺기를 좋아한다.          1w2"
      ]
     },
     "execution_count": 21,
     "metadata": {},
     "output_type": "execute_result"
    }
   ],
   "source": [
    "add_quest = df[df.base==engram_crite][['question','three_letter']].copy()\n",
    "add_quest"
   ]
  },
  {
   "cell_type": "code",
   "execution_count": 23,
   "id": "0c3a45ff",
   "metadata": {
    "ExecuteTime": {
     "end_time": "2023-01-21T09:22:50.057034Z",
     "start_time": "2023-01-21T09:22:50.051931Z"
    }
   },
   "outputs": [
    {
     "data": {
      "text/plain": [
       "[{'question': '이상주의적이고, 학구적이며, 차분하고, 특히 내향적이다.', 'three_letter': '1w9'},\n",
       " {'question': '순수이상보다는 현실의 개선을 투구하고, 열정적이며, 관계맺기를 좋아한다.',\n",
       "  'three_letter': '1w2'}]"
      ]
     },
     "execution_count": 23,
     "metadata": {},
     "output_type": "execute_result"
    }
   ],
   "source": [
    "add_quest.to_dict(orient='records')"
   ]
  },
  {
   "cell_type": "code",
   "execution_count": 16,
   "id": "e1f16736",
   "metadata": {
    "ExecuteTime": {
     "end_time": "2023-01-21T09:18:01.684211Z",
     "start_time": "2023-01-21T09:18:01.678846Z"
    }
   },
   "outputs": [
    {
     "data": {
      "text/plain": [
       "['이상주의적이고, 학구적이며, 차분하고, 특히 내향적이다.', '순수이상보다는 현실의 개선을 투구하고, 열정적이며, 관계맺기를 좋아한다.']"
      ]
     },
     "execution_count": 16,
     "metadata": {},
     "output_type": "execute_result"
    }
   ],
   "source": [
    "df[df.base==engram_crite].question.tolist()"
   ]
  }
 ],
 "metadata": {
  "kernelspec": {
   "display_name": "Python 3 (ipykernel)",
   "language": "python",
   "name": "python3"
  },
  "language_info": {
   "codemirror_mode": {
    "name": "ipython",
    "version": 3
   },
   "file_extension": ".py",
   "mimetype": "text/x-python",
   "name": "python",
   "nbconvert_exporter": "python",
   "pygments_lexer": "ipython3",
   "version": "3.8.5"
  },
  "toc": {
   "base_numbering": 1,
   "nav_menu": {},
   "number_sections": true,
   "sideBar": true,
   "skip_h1_title": false,
   "title_cell": "Table of Contents",
   "title_sidebar": "Contents",
   "toc_cell": false,
   "toc_position": {},
   "toc_section_display": true,
   "toc_window_display": false
  }
 },
 "nbformat": 4,
 "nbformat_minor": 5
}
