{
 "cells": [
  {
   "cell_type": "code",
   "execution_count": 86,
   "id": "1d5713e5-2fb2-4c43-8572-e4447f6de7ec",
   "metadata": {},
   "outputs": [
    {
     "name": "stdout",
     "output_type": "stream",
     "text": [
      "/opt/ml/input/fighting/Test\n"
     ]
    }
   ],
   "source": [
    "!pwd"
   ]
  },
  {
   "cell_type": "code",
   "execution_count": 1,
   "id": "3b495da5-62ee-456d-8cd1-58bd22e57faf",
   "metadata": {},
   "outputs": [],
   "source": [
    "import os\n",
    "import sys\n",
    "sys.path.append('..')\n",
    "from Utils import model_recommend_movies\n",
    "from interaction_model import Inference\n",
    "import pandas as pd\n",
    "from tqdm import tqdm"
   ]
  },
  {
   "cell_type": "code",
   "execution_count": 2,
   "id": "2ca34f21-d822-4424-8cf0-da50ca766f00",
   "metadata": {},
   "outputs": [],
   "source": [
    "ratings = pd.read_csv('/opt/ml/input/fighting/CSV/ml-25m/ratings.csv')"
   ]
  },
  {
   "cell_type": "code",
   "execution_count": 3,
   "id": "f77a933c-9d15-49a8-b1c3-4721da4bbdf9",
   "metadata": {},
   "outputs": [
    {
     "data": {
      "text/html": [
       "<div>\n",
       "<style scoped>\n",
       "    .dataframe tbody tr th:only-of-type {\n",
       "        vertical-align: middle;\n",
       "    }\n",
       "\n",
       "    .dataframe tbody tr th {\n",
       "        vertical-align: top;\n",
       "    }\n",
       "\n",
       "    .dataframe thead th {\n",
       "        text-align: right;\n",
       "    }\n",
       "</style>\n",
       "<table border=\"1\" class=\"dataframe\">\n",
       "  <thead>\n",
       "    <tr style=\"text-align: right;\">\n",
       "      <th></th>\n",
       "      <th>userId</th>\n",
       "      <th>movieId</th>\n",
       "      <th>rating</th>\n",
       "      <th>timestamp</th>\n",
       "    </tr>\n",
       "  </thead>\n",
       "  <tbody>\n",
       "    <tr>\n",
       "      <th>0</th>\n",
       "      <td>1</td>\n",
       "      <td>296</td>\n",
       "      <td>5.0</td>\n",
       "      <td>1147880044</td>\n",
       "    </tr>\n",
       "    <tr>\n",
       "      <th>1</th>\n",
       "      <td>1</td>\n",
       "      <td>306</td>\n",
       "      <td>3.5</td>\n",
       "      <td>1147868817</td>\n",
       "    </tr>\n",
       "    <tr>\n",
       "      <th>2</th>\n",
       "      <td>1</td>\n",
       "      <td>307</td>\n",
       "      <td>5.0</td>\n",
       "      <td>1147868828</td>\n",
       "    </tr>\n",
       "    <tr>\n",
       "      <th>3</th>\n",
       "      <td>1</td>\n",
       "      <td>665</td>\n",
       "      <td>5.0</td>\n",
       "      <td>1147878820</td>\n",
       "    </tr>\n",
       "    <tr>\n",
       "      <th>4</th>\n",
       "      <td>1</td>\n",
       "      <td>899</td>\n",
       "      <td>3.5</td>\n",
       "      <td>1147868510</td>\n",
       "    </tr>\n",
       "    <tr>\n",
       "      <th>...</th>\n",
       "      <td>...</td>\n",
       "      <td>...</td>\n",
       "      <td>...</td>\n",
       "      <td>...</td>\n",
       "    </tr>\n",
       "    <tr>\n",
       "      <th>25000090</th>\n",
       "      <td>162541</td>\n",
       "      <td>50872</td>\n",
       "      <td>4.5</td>\n",
       "      <td>1240953372</td>\n",
       "    </tr>\n",
       "    <tr>\n",
       "      <th>25000091</th>\n",
       "      <td>162541</td>\n",
       "      <td>55768</td>\n",
       "      <td>2.5</td>\n",
       "      <td>1240951998</td>\n",
       "    </tr>\n",
       "    <tr>\n",
       "      <th>25000092</th>\n",
       "      <td>162541</td>\n",
       "      <td>56176</td>\n",
       "      <td>2.0</td>\n",
       "      <td>1240950697</td>\n",
       "    </tr>\n",
       "    <tr>\n",
       "      <th>25000093</th>\n",
       "      <td>162541</td>\n",
       "      <td>58559</td>\n",
       "      <td>4.0</td>\n",
       "      <td>1240953434</td>\n",
       "    </tr>\n",
       "    <tr>\n",
       "      <th>25000094</th>\n",
       "      <td>162541</td>\n",
       "      <td>63876</td>\n",
       "      <td>5.0</td>\n",
       "      <td>1240952515</td>\n",
       "    </tr>\n",
       "  </tbody>\n",
       "</table>\n",
       "<p>25000095 rows × 4 columns</p>\n",
       "</div>"
      ],
      "text/plain": [
       "          userId  movieId  rating   timestamp\n",
       "0              1      296     5.0  1147880044\n",
       "1              1      306     3.5  1147868817\n",
       "2              1      307     5.0  1147868828\n",
       "3              1      665     5.0  1147878820\n",
       "4              1      899     3.5  1147868510\n",
       "...          ...      ...     ...         ...\n",
       "25000090  162541    50872     4.5  1240953372\n",
       "25000091  162541    55768     2.5  1240951998\n",
       "25000092  162541    56176     2.0  1240950697\n",
       "25000093  162541    58559     4.0  1240953434\n",
       "25000094  162541    63876     5.0  1240952515\n",
       "\n",
       "[25000095 rows x 4 columns]"
      ]
     },
     "execution_count": 3,
     "metadata": {},
     "output_type": "execute_result"
    }
   ],
   "source": [
    "ratings"
   ]
  },
  {
   "cell_type": "code",
   "execution_count": 4,
   "id": "f29fa68a-39ce-4bf6-bb14-db5359232e4c",
   "metadata": {},
   "outputs": [
    {
     "data": {
      "text/plain": [
       "(162541, 59047)"
      ]
     },
     "execution_count": 4,
     "metadata": {},
     "output_type": "execute_result"
    }
   ],
   "source": [
    "ratings['userId'].nunique(), ratings['movieId'].nunique()"
   ]
  },
  {
   "cell_type": "code",
   "execution_count": 5,
   "id": "4c233212-d520-4d1e-b1b6-175d29435c50",
   "metadata": {},
   "outputs": [],
   "source": [
    "data_path = \"/opt/ml/input/fighting/CSV/\"\n",
    "inter_mbti_ml_title_movieid = pd.read_csv(data_path+\"inter_mbti_ml_title_movieId.csv\")"
   ]
  },
  {
   "cell_type": "code",
   "execution_count": 6,
   "id": "440acd65-cc6e-44af-8c1d-962e58dae154",
   "metadata": {},
   "outputs": [],
   "source": [
    "inter_mbti_ml_movieid = list(inter_mbti_ml_title_movieid['movieId'].values)"
   ]
  },
  {
   "cell_type": "code",
   "execution_count": 7,
   "id": "b7d3ea9d-ffdd-41f6-bf18-9f741af8b4ac",
   "metadata": {},
   "outputs": [],
   "source": [
    "# mbti와 movielens에 공통으로 있는 영화에 대한 interaction만 고려\n",
    "ratings = ratings[ratings['movieId'].isin(inter_mbti_ml_movieid)]"
   ]
  },
  {
   "cell_type": "code",
   "execution_count": 8,
   "id": "cc6109c6-c9b3-4eba-b1c2-2eba088bd272",
   "metadata": {},
   "outputs": [
    {
     "data": {
      "text/plain": [
       "(162537, 3213)"
      ]
     },
     "execution_count": 8,
     "metadata": {},
     "output_type": "execute_result"
    }
   ],
   "source": [
    "ratings['userId'].nunique(), ratings['movieId'].nunique()"
   ]
  },
  {
   "cell_type": "markdown",
   "id": "b9cb3e14-b06b-4a51-bd08-3aabff04f0dd",
   "metadata": {},
   "source": [
    "## 9:1로 train, test 유저나누기"
   ]
  },
  {
   "cell_type": "code",
   "execution_count": 9,
   "id": "3e42f893-37ef-4aba-b041-769f4b938d5a",
   "metadata": {},
   "outputs": [],
   "source": [
    "import random\n",
    "\n",
    "user_list = list(ratings['userId'].unique())\n",
    "test_size = int(len(user_list) * 0.1)\n",
    "random.seed(42)\n",
    "test_user = random.sample(user_list, test_size)\n",
    "train_user = list(set(user_list)-set(test_user))"
   ]
  },
  {
   "cell_type": "code",
   "execution_count": 10,
   "id": "57245ff0-2662-454d-a908-3f5260d39141",
   "metadata": {},
   "outputs": [
    {
     "data": {
      "text/plain": [
       "(162537, 3213)"
      ]
     },
     "execution_count": 10,
     "metadata": {},
     "output_type": "execute_result"
    }
   ],
   "source": [
    "ratings['userId'].nunique(), ratings['movieId'].nunique()"
   ]
  },
  {
   "cell_type": "code",
   "execution_count": 11,
   "id": "189001d0-f686-4686-ae8a-f93114f130c9",
   "metadata": {},
   "outputs": [],
   "source": [
    "train_df = ratings[ratings['userId'].isin(train_user)]"
   ]
  },
  {
   "cell_type": "code",
   "execution_count": 12,
   "id": "8a4ce92a-5213-472b-ac83-ac23d1b76d7a",
   "metadata": {},
   "outputs": [
    {
     "data": {
      "text/plain": [
       "(146284, 3212)"
      ]
     },
     "execution_count": 12,
     "metadata": {},
     "output_type": "execute_result"
    }
   ],
   "source": [
    "train_df['userId'].nunique(), train_df['movieId'].nunique()"
   ]
  },
  {
   "cell_type": "code",
   "execution_count": 13,
   "id": "ac03c893-4d20-4c92-a091-081c49988bb3",
   "metadata": {},
   "outputs": [],
   "source": [
    "train_df.to_csv(\"train_df.csv\", index=False)"
   ]
  },
  {
   "cell_type": "code",
   "execution_count": 14,
   "id": "ca45660b-e3bc-463e-af1d-c4d0be0c66f6",
   "metadata": {},
   "outputs": [],
   "source": [
    "test_df = ratings[ratings['userId'].isin(test_user)]"
   ]
  },
  {
   "cell_type": "code",
   "execution_count": 15,
   "id": "4066d20d-33d5-41e6-af8d-f9efefd59ceb",
   "metadata": {},
   "outputs": [
    {
     "data": {
      "text/plain": [
       "(16253, 2950)"
      ]
     },
     "execution_count": 15,
     "metadata": {},
     "output_type": "execute_result"
    }
   ],
   "source": [
    "test_df['userId'].nunique(), test_df['movieId'].nunique()"
   ]
  },
  {
   "cell_type": "markdown",
   "id": "8f9e82e9-d15c-4ee6-a4a0-a932729fbadf",
   "metadata": {},
   "source": [
    "## train_df으로 학습한 annoy 함수 만들기"
   ]
  },
  {
   "cell_type": "code",
   "execution_count": 16,
   "id": "44f73246-0a81-417e-920b-94cc5f112451",
   "metadata": {},
   "outputs": [
    {
     "name": "stdout",
     "output_type": "stream",
     "text": [
      "/opt/ml/input/fighting/Test\n"
     ]
    }
   ],
   "source": [
    "!pwd"
   ]
  },
  {
   "cell_type": "code",
   "execution_count": 17,
   "id": "01faf547-34e7-4d38-bfc3-970689f8b511",
   "metadata": {},
   "outputs": [
    {
     "data": {
      "application/vnd.jupyter.widget-view+json": {
       "model_id": "2104d40f8348498db709a472ed53f846",
       "version_major": 2,
       "version_minor": 0
      },
      "text/plain": [
       "HBox(children=(HTML(value=''), FloatProgress(value=0.0, max=200.0), HTML(value='')))"
      ]
     },
     "metadata": {},
     "output_type": "display_data"
    },
    {
     "name": "stdout",
     "output_type": "stream",
     "text": [
      "\n"
     ]
    }
   ],
   "source": [
    "from scipy import sparse\n",
    "from scipy.sparse import csr_matrix, lil_matrix\n",
    "import implicit\n",
    "import annoy\n",
    "\n",
    "data_path = \"/opt/ml/input/fighting/CSV/\"\n",
    "ratings = pd.read_csv(\"./train_df.csv\")\n",
    "movies = pd.read_csv(data_path + \"ml-25m/movies.csv\")\n",
    "\n",
    "ratings = ratings.merge(movies[[\"movieId\",\"title\"]],how=\"left\",on = \"movieId\")\n",
    "ratings['rating'] = 1\n",
    "ratings.drop(columns = \"timestamp\",inplace = True)\n",
    "inter_mbti_ml_title_movieid = pd.read_csv(data_path+\"inter_mbti_ml_title_movieId.csv\")\n",
    "\n",
    "user2idx = {k:v for v,k in enumerate(ratings['userId'].unique())}\n",
    "item2idx = {k:v for v,k in enumerate(ratings['movieId'].unique())}\n",
    "idx2item = {v:k for v,k in enumerate(ratings['movieId'].unique())}\n",
    "\n",
    "ratings['useridx'] = ratings['userId'].map(user2idx) # userId -> 인덱스로 바꿔줍니다.\n",
    "ratings['movieidx'] = ratings['movieId'].map(item2idx) # movieId -> 인덱스로 바꿔줍니다.\n",
    "\n",
    "sparse_user_item = sparse.csr_matrix((ratings['rating'].astype(float),\n",
    "                                      (ratings['useridx'], ratings['movieidx']))) # csr_matrix 생성\n",
    "\n",
    "als_model = implicit.als.AlternatingLeastSquares(\n",
    "                                factors = 64,\n",
    "                                regularization = 0.1,\n",
    "                                iterations = 200,\n",
    "                                calculate_training_loss = False,\n",
    "                                use_gpu = True\n",
    "                            ) # 모델 init\n",
    "\n",
    "als_model.fit(sparse_user_item) # 학습\n",
    "item_vecs = als_model.item_factors.to_numpy() # item vector만 빼옵니다."
   ]
  },
  {
   "cell_type": "code",
   "execution_count": 18,
   "id": "e38f66dc-acb0-4507-845c-19365300a25c",
   "metadata": {},
   "outputs": [
    {
     "data": {
      "text/plain": [
       "True"
      ]
     },
     "execution_count": 18,
     "metadata": {},
     "output_type": "execute_result"
    }
   ],
   "source": [
    "# inter_mbti_ml_title_movieid도 인덱싱처리\n",
    "inter_mbti_ml_title_movieid['movieidx'] = inter_mbti_ml_title_movieid['movieId'].map(item2idx)\n",
    "inter_mbti_ml_title_movieid.dropna(inplace = True)\n",
    "inter_mbti_ml_title_movieid['movieidx'] = inter_mbti_ml_title_movieid['movieidx'].astype(int)\n",
    "\n",
    "# 유사도 측정방법\n",
    "# angular : cosine similarity\n",
    "# euclidean : l2-norm distance\n",
    "# manhattan : l1-norm distance\n",
    "# hamming : binary vector에\n",
    "similar_items_index = annoy.AnnoyIndex(64,'angular')\n",
    "n_trees = 40\n",
    "for idx in inter_mbti_ml_title_movieid['movieidx']:\n",
    "    similar_items_index.add_item(idx2item[idx],item_vecs[idx]) # idx -> movieId로 바꿔서 annoy에 저장합니다.\n",
    "similar_items_index.build(n_trees)\n",
    "similar_items_index.save(\"ALS_angular_64\")"
   ]
  },
  {
   "cell_type": "code",
   "execution_count": null,
   "id": "1873b0f6-6fc5-43ca-a9d0-b7278e873528",
   "metadata": {},
   "outputs": [],
   "source": []
  },
  {
   "cell_type": "markdown",
   "id": "0ac9f57e-7d1e-4d2b-b546-a19b73777334",
   "metadata": {},
   "source": [
    "## test 유저별 interaction 영화 id list"
   ]
  },
  {
   "cell_type": "code",
   "execution_count": 16,
   "id": "58bb398a-4f77-4ad4-b1ee-4877fa316d4d",
   "metadata": {},
   "outputs": [],
   "source": [
    "grouped = test_df.groupby('userId')\n",
    "test_user_movie = grouped['movieId'].apply(list)"
   ]
  },
  {
   "cell_type": "code",
   "execution_count": 17,
   "id": "a9846559-dab6-452e-9fda-7b54675c24fd",
   "metadata": {},
   "outputs": [
    {
     "data": {
      "text/plain": [
       "userId\n",
       "3         [1, 32, 50, 111, 173, 293, 296, 318, 356, 442,...\n",
       "10        [1, 32, 50, 110, 150, 193, 296, 318, 356, 380,...\n",
       "23        [6, 7, 14, 16, 25, 32, 36, 39, 50, 104, 105, 1...\n",
       "25        [16, 17, 25, 36, 39, 50, 110, 141, 150, 151, 1...\n",
       "45        [141, 150, 296, 380, 562, 590, 608, 648, 653, ...\n",
       "                                ...                        \n",
       "162472    [1, 16, 32, 50, 110, 111, 163, 198, 223, 288, ...\n",
       "162476    [1, 2, 17, 25, 32, 34, 36, 39, 50, 110, 141, 1...\n",
       "162493    [1, 25, 32, 34, 50, 70, 110, 111, 151, 223, 25...\n",
       "162501    [16, 32, 50, 111, 150, 223, 293, 296, 318, 356...\n",
       "162513    [16, 50, 104, 110, 150, 173, 235, 266, 296, 31...\n",
       "Name: movieId, Length: 16253, dtype: object"
      ]
     },
     "execution_count": 17,
     "metadata": {},
     "output_type": "execute_result"
    }
   ],
   "source": [
    "test_user_movie"
   ]
  },
  {
   "cell_type": "code",
   "execution_count": 18,
   "id": "ab52c350-3154-4a5f-9856-43b95c7a453e",
   "metadata": {},
   "outputs": [],
   "source": [
    "test_user_movie_dict = dict(test_user_movie)"
   ]
  },
  {
   "cell_type": "markdown",
   "id": "c87a4faf-b489-4e3e-8ebd-53f50e7addac",
   "metadata": {},
   "source": [
    "## test_유저의 valid score 확인(한명에 대한 실험)"
   ]
  },
  {
   "cell_type": "markdown",
   "id": "8b735712-4424-4580-a916-dd529522f2e3",
   "metadata": {},
   "source": [
    "### 5:5로 test_유저별 영화기록을 입력, valid 나누기"
   ]
  },
  {
   "cell_type": "code",
   "execution_count": 19,
   "id": "7c5c5e86-bcab-4aea-bc13-17222cd8314f",
   "metadata": {},
   "outputs": [],
   "source": [
    "valid_ratio = 0.5"
   ]
  },
  {
   "cell_type": "code",
   "execution_count": 20,
   "id": "f9b39874-fcbc-4f37-b64a-de1fd669788c",
   "metadata": {},
   "outputs": [],
   "source": [
    "sys.path.append(os.path.join(os.path.abspath(os.path.curdir),\"..\"))\n",
    "from Utils.utils import model_recommend_movies"
   ]
  },
  {
   "cell_type": "code",
   "execution_count": 21,
   "id": "e1be344b-558e-406e-85c8-7b42135d656c",
   "metadata": {},
   "outputs": [],
   "source": [
    "# 모델명\n",
    "model_name = './ALS_angular_64'"
   ]
  },
  {
   "cell_type": "code",
   "execution_count": 22,
   "id": "3c78ea35-5cd0-4f34-9657-9a95a7b0546c",
   "metadata": {},
   "outputs": [],
   "source": [
    "# inference 입력 영화 id\n",
    "test_user_prefer_movieids = random.sample(test_user_movie_dict[3], int(len(test_user_movie_dict[3])*(1-valid_ratio)))"
   ]
  },
  {
   "cell_type": "code",
   "execution_count": 23,
   "id": "c3f77a3f-158f-4378-9219-7554f08bca2d",
   "metadata": {},
   "outputs": [],
   "source": [
    "# valid 영화 id\n",
    "test_user_valid_movieids = list(set(test_user_movie_dict[3]) - set(test_user_prefer_movieids))"
   ]
  },
  {
   "cell_type": "markdown",
   "id": "8885f360-f235-41a5-aba6-3a7b5e69c69c",
   "metadata": {},
   "source": [
    "### 추천 영화와 valid 영화 교집합 비율 확인"
   ]
  },
  {
   "cell_type": "code",
   "execution_count": 24,
   "id": "cef1f2e3-cf0c-4424-85d5-abf66031b3ed",
   "metadata": {},
   "outputs": [],
   "source": [
    "# 추천받은 영화 id\n",
    "recommend_movie_ids = model_recommend_movies(\"INFP\",\"5w4\", test_user_prefer_movieids, 10, model_name)\n"
   ]
  },
  {
   "cell_type": "code",
   "execution_count": 25,
   "id": "f5836c08-d595-4d8e-b9ed-c2eada8c6db8",
   "metadata": {},
   "outputs": [
    {
     "data": {
      "text/plain": [
       "143"
      ]
     },
     "execution_count": 25,
     "metadata": {},
     "output_type": "execute_result"
    }
   ],
   "source": [
    "# 추천받은 영화와 valid 영화 교집합\n",
    "len(set(recommend_movie_ids) & set(test_user_valid_movieids))"
   ]
  },
  {
   "cell_type": "code",
   "execution_count": 26,
   "id": "c1ee3e94-455d-42ee-8edc-1f0bb1eadebf",
   "metadata": {},
   "outputs": [
    {
     "data": {
      "text/plain": [
       "170"
      ]
     },
     "execution_count": 26,
     "metadata": {},
     "output_type": "execute_result"
    }
   ],
   "source": [
    "# valid 영화 집합\n",
    "len(test_user_valid_movieids)"
   ]
  },
  {
   "cell_type": "code",
   "execution_count": 27,
   "id": "35b4322d-51ba-4c84-a69e-707558772a6a",
   "metadata": {},
   "outputs": [
    {
     "data": {
      "text/plain": [
       "0.8411764705882353"
      ]
     },
     "execution_count": 27,
     "metadata": {},
     "output_type": "execute_result"
    }
   ],
   "source": [
    "# 유저 3에 대한 valid score\n",
    "len(set(recommend_movie_ids) & set(test_user_valid_movieids)) / len(test_user_valid_movieids)"
   ]
  },
  {
   "cell_type": "markdown",
   "id": "ee183799-e481-4d81-b2cf-15999511295a",
   "metadata": {},
   "source": [
    "## test_유저의 valid score 확인(일반화)"
   ]
  },
  {
   "cell_type": "code",
   "execution_count": 28,
   "id": "46f02f98-5d0e-40c1-b3fc-c16f1f8cded4",
   "metadata": {},
   "outputs": [],
   "source": [
    "sys.path.append(os.path.join(os.path.abspath(os.path.curdir),\"..\"))\n",
    "from Utils.utils import model_recommend_movies\n",
    "# 모델명\n",
    "model_name = './ALS_angular_64'"
   ]
  },
  {
   "cell_type": "code",
   "execution_count": 29,
   "id": "590b2c4e-e6e7-4363-b055-635c588dcecc",
   "metadata": {},
   "outputs": [
    {
     "name": "stderr",
     "output_type": "stream",
     "text": [
      "100%|██████████| 16253/16253 [04:26<00:00, 61.01it/s]\n"
     ]
    }
   ],
   "source": [
    "scores = []\n",
    "for user, movie_list in tqdm(test_user_movie_dict.items()):\n",
    "    movie_list_len = len(movie_list)\n",
    "    user_prefer_movieids = random.sample(movie_list, movie_list_len//2)     # inference 입력 영화 id list\n",
    "    user_valid_movieids = list(set(movie_list) - set(user_prefer_movieids)) # valid 영화 id list\n",
    "    user_rec_movieids = model_recommend_movies(\"INFP\",\"5w4\",user_prefer_movieids,10,model_name) #추천 영화 id list\n",
    "    inter_cnt = len(set(user_valid_movieids) & set(user_rec_movieids))      # valid 영화와 추천 영화 교집합 개수\n",
    "    score = inter_cnt / len(user_valid_movieids)                            # valid 영화 개수\n",
    "    scores.append(score)"
   ]
  },
  {
   "cell_type": "code",
   "execution_count": 30,
   "id": "6e553f86-acf1-4e56-be12-ebee0f95898e",
   "metadata": {
    "tags": []
   },
   "outputs": [],
   "source": [
    "# scores"
   ]
  },
  {
   "cell_type": "code",
   "execution_count": 31,
   "id": "640341cb-6614-4ec9-946b-ef3adfa66786",
   "metadata": {},
   "outputs": [
    {
     "name": "stdout",
     "output_type": "stream",
     "text": [
      "test_유저의 valid 스코어의 평균: 0.5561527517997764\n",
      "test_유저의 valid 스코어의 표준편차: 0.2351874599828928\n"
     ]
    }
   ],
   "source": [
    "import numpy as np\n",
    "mean = np.mean(scores)\n",
    "print(f'test_유저의 valid 스코어의 평균: {mean}')\n",
    "stdev = np.std(scores)\n",
    "print(f'test_유저의 valid 스코어의 표준편차: {stdev}')"
   ]
  },
  {
   "cell_type": "code",
   "execution_count": null,
   "id": "ede73cbd-eca6-4ecc-80a5-07ba93f63ef7",
   "metadata": {},
   "outputs": [],
   "source": []
  }
 ],
 "metadata": {
  "kernelspec": {
   "display_name": "Python 3 (ipykernel)",
   "language": "python",
   "name": "python3"
  },
  "language_info": {
   "codemirror_mode": {
    "name": "ipython",
    "version": 3
   },
   "file_extension": ".py",
   "mimetype": "text/x-python",
   "name": "python",
   "nbconvert_exporter": "python",
   "pygments_lexer": "ipython3",
   "version": "3.8.5"
  }
 },
 "nbformat": 4,
 "nbformat_minor": 5
}
