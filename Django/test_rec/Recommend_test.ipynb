{
 "cells": [
  {
   "cell_type": "code",
   "execution_count": 4,
   "id": "e823c7b0",
   "metadata": {
    "ExecuteTime": {
     "end_time": "2023-02-04T09:20:54.954380Z",
     "start_time": "2023-02-04T09:20:54.950643Z"
    }
   },
   "outputs": [],
   "source": [
    "import sys, os\n",
    "import pandas as pd\n",
    "import numpy\n",
    "import pickle\n",
    "from pathlib import Path\n",
    "sys.path.append('../..')\n",
    "from Utils import *"
   ]
  },
  {
   "cell_type": "code",
   "execution_count": 44,
   "id": "7eb44753",
   "metadata": {
    "ExecuteTime": {
     "end_time": "2023-02-04T13:11:53.532872Z",
     "start_time": "2023-02-04T13:11:53.510348Z"
    }
   },
   "outputs": [],
   "source": [
    "pickle_path = Path(Path('.').absolute()).parent.parent.absolute()/\"Utils/Pickle\"\n",
    "movieId2poster_path = pickle_path / 'movieid_to_poster_file.pickle'\n",
    "\n",
    "\n",
    "with open(movieId2poster_path,'rb') as f:\n",
    "    movieId_to_posterfile = pickle.load(f)\n",
    "\n",
    "\n",
    "character_df = pd.read_pickle(pickle_path / '230203_character_movie_merge.pickle')\n",
    "movie_df = pd.read_pickle(pickle_path / '230130_Popular_movie_1192_cwj.pickle')\n",
    "watch_link =  pd.read_pickle(pickle_path / '230131_watch_link_4679_rows.pickle')\n",
    "engram_sim = pd.read_pickle(pickle_path / 'enneagram_similarity_075_099.pickle')"
   ]
  },
  {
   "cell_type": "markdown",
   "id": "9c4f5268",
   "metadata": {},
   "source": [
    "## 목표\n",
    "\n",
    "    prefer movie ids -> rec movie ids -> mbti 필터링 -> interaction, side info 따로 DB에 저장\n",
    "    index 페이지에서도 결과 보여주기"
   ]
  },
  {
   "cell_type": "markdown",
   "id": "1aa6f921",
   "metadata": {
    "ExecuteTime": {
     "end_time": "2023-02-04T09:53:59.668314Z",
     "start_time": "2023-02-04T09:53:59.664497Z"
    }
   },
   "source": [
    "## 주피터에서 할일\n",
    "\n",
    "    - prefer movie ids에서 interaction, side-info에 대한 rec movie ids 받고\n",
    "    - rec movie ids에서 나와 유사한, 나 와 잘맞는 MBTI 캐릭터 필터링\n",
    "    - 애니어그램 유사도 적용\n",
    "    - 내림차순하여 context 리스트로 만들기"
   ]
  },
  {
   "cell_type": "code",
   "execution_count": 33,
   "id": "0a694ade",
   "metadata": {
    "ExecuteTime": {
     "end_time": "2023-02-04T09:55:15.405731Z",
     "start_time": "2023-02-04T09:55:15.402589Z"
    }
   },
   "outputs": [],
   "source": [
    "prefer_movie_ids = [115713, 91653, 111622, 80463, 197711, 1172, 300209, 81591]"
   ]
  },
  {
   "cell_type": "code",
   "execution_count": 34,
   "id": "db9eeaf9",
   "metadata": {
    "ExecuteTime": {
     "end_time": "2023-02-04T09:55:16.139949Z",
     "start_time": "2023-02-04T09:55:16.136849Z"
    }
   },
   "outputs": [],
   "source": [
    "interaction_prefer_movie_ids = [i for i in prefer_movie_ids if i < 300_000]\n",
    "side_info_prefer_movie_ids = [i for i in prefer_movie_ids if i >= 300_000]"
   ]
  },
  {
   "cell_type": "code",
   "execution_count": 35,
   "id": "5eb8be6b",
   "metadata": {
    "ExecuteTime": {
     "end_time": "2023-02-04T09:55:25.848078Z",
     "start_time": "2023-02-04T09:55:25.844227Z"
    }
   },
   "outputs": [
    {
     "data": {
      "text/plain": [
       "(7, 1)"
      ]
     },
     "execution_count": 35,
     "metadata": {},
     "output_type": "execute_result"
    }
   ],
   "source": [
    "len(interaction_prefer_movie_ids), len(side_info_prefer_movie_ids)"
   ]
  },
  {
   "cell_type": "code",
   "execution_count": 36,
   "id": "ce932195",
   "metadata": {
    "ExecuteTime": {
     "end_time": "2023-02-04T09:55:50.664750Z",
     "start_time": "2023-02-04T09:55:50.337103Z"
    }
   },
   "outputs": [
    {
     "data": {
      "text/plain": [
       "(300209, 300335, 138036, 300098, 176935, 160674, 2587, 164179, 300654, 99273)"
      ]
     },
     "execution_count": 36,
     "metadata": {},
     "output_type": "execute_result"
    }
   ],
   "source": [
    "top_k=10\n",
    "sideinfo_movie_list,scores = zip(*content_based_filtering(side_info_prefer_movie_ids, top_k))\n",
    "sideinfo_movie_list"
   ]
  },
  {
   "cell_type": "code",
   "execution_count": 38,
   "id": "86fac292",
   "metadata": {
    "ExecuteTime": {
     "end_time": "2023-02-04T09:56:21.676156Z",
     "start_time": "2023-02-04T09:56:21.664799Z"
    }
   },
   "outputs": [
    {
     "name": "stdout",
     "output_type": "stream",
     "text": [
      "/opt/ml/project/Utils/../interaction_model/LightGCN_64\n",
      "10\n"
     ]
    },
    {
     "data": {
      "text/plain": [
       "[97921, 105355, 96821, 134393, 118900, 86882, 94959, 95873, 44555, 3418]"
      ]
     },
     "execution_count": 38,
     "metadata": {},
     "output_type": "execute_result"
    }
   ],
   "source": [
    "interaction_movie_list = model_recommend_movies(interaction_prefer_movie_ids, top_k)\n",
    "interaction_movie_list"
   ]
  },
  {
   "cell_type": "code",
   "execution_count": 47,
   "id": "73c32228",
   "metadata": {
    "ExecuteTime": {
     "end_time": "2023-02-04T15:04:48.559878Z",
     "start_time": "2023-02-04T15:04:48.557236Z"
    }
   },
   "outputs": [],
   "source": [
    "user_mbti = \"INTJ\"\n",
    "user_enn = '1w9'"
   ]
  },
  {
   "cell_type": "code",
   "execution_count": 46,
   "id": "ea0bcbf0",
   "metadata": {
    "ExecuteTime": {
     "end_time": "2023-02-04T13:12:13.233973Z",
     "start_time": "2023-02-04T13:12:13.228120Z"
    }
   },
   "outputs": [
    {
     "data": {
      "text/plain": [
       "{'1w9': 0.99,\n",
       " '1w2': 0.8600571270043009,\n",
       " '2w1': 0.767798564966392,\n",
       " '2w3': 0.7517287497838617,\n",
       " '3w2': 0.7942160971855593,\n",
       " '3w4': 0.8170706465981564,\n",
       " '4w3': 0.7546855319453264,\n",
       " '4w5': 0.7696335465492191,\n",
       " '5w4': 0.8244548190157155,\n",
       " '5w6': 0.8674300432273276,\n",
       " '6w5': 0.9199934004919502,\n",
       " '6w7': 0.7652736727326449,\n",
       " '7w6': 0.7497725865278099,\n",
       " '7w8': 0.7509678065546699,\n",
       " '8w7': 0.8058175852958114,\n",
       " '8w9': 0.8251301505755028,\n",
       " '9w8': 0.74478806867785,\n",
       " '9w1': 0.8406499535326831}"
      ]
     },
     "execution_count": 46,
     "metadata": {},
     "output_type": "execute_result"
    }
   ],
   "source": [
    "get_en_sim(user_enn,engram_sim)"
   ]
  },
  {
   "cell_type": "code",
   "execution_count": 59,
   "id": "c4007c30",
   "metadata": {
    "ExecuteTime": {
     "end_time": "2023-02-04T17:02:07.281302Z",
     "start_time": "2023-02-04T17:02:07.275078Z"
    }
   },
   "outputs": [
    {
     "data": {
      "text/plain": [
       "6w5    285\n",
       "7w8    239\n",
       "8w7    237\n",
       "9w1    207\n",
       "7w6    202\n",
       "3w4    160\n",
       "4w5    160\n",
       "6w7    160\n",
       "9w8    146\n",
       "8w9    143\n",
       "1w2    129\n",
       "5w6    128\n",
       "5w4    120\n",
       "1w9    118\n",
       "3w2    114\n",
       "4w3    110\n",
       "2w3    106\n",
       "2w1    103\n",
       "Name: Enneagram, dtype: int64"
      ]
     },
     "execution_count": 59,
     "metadata": {},
     "output_type": "execute_result"
    }
   ],
   "source": [
    "character_df.Enneagram.value_counts()"
   ]
  },
  {
   "cell_type": "code",
   "execution_count": 58,
   "id": "7bba01f5",
   "metadata": {
    "ExecuteTime": {
     "end_time": "2023-02-04T17:02:03.290022Z",
     "start_time": "2023-02-04T17:02:03.284918Z"
    }
   },
   "outputs": [
    {
     "data": {
      "text/plain": [
       "18"
      ]
     },
     "execution_count": 58,
     "metadata": {},
     "output_type": "execute_result"
    }
   ],
   "source": [
    "len(character_df.Enneagram.value_counts().tolist())"
   ]
  },
  {
   "cell_type": "code",
   "execution_count": 50,
   "id": "53ec8a51",
   "metadata": {
    "ExecuteTime": {
     "end_time": "2023-02-04T15:13:45.408500Z",
     "start_time": "2023-02-04T15:13:45.404513Z"
    }
   },
   "outputs": [],
   "source": [
    "character_movie_id = character_df[character_df.CharacterId==1287].movieId.iloc[0]"
   ]
  },
  {
   "cell_type": "code",
   "execution_count": 52,
   "id": "2ece10d0",
   "metadata": {
    "ExecuteTime": {
     "end_time": "2023-02-04T16:57:52.159924Z",
     "start_time": "2023-02-04T16:57:52.156126Z"
    }
   },
   "outputs": [],
   "source": [
    "char_df = character_df[character_df.movieId==character_movie_id]"
   ]
  },
  {
   "cell_type": "code",
   "execution_count": 60,
   "id": "18450911",
   "metadata": {
    "ExecuteTime": {
     "end_time": "2023-02-04T17:02:32.939556Z",
     "start_time": "2023-02-04T17:02:32.785788Z"
    }
   },
   "outputs": [],
   "source": [
    "char_df['Enneagram_sim'] = char_df.Enneagram.map(get_en_sim(user_enn,engram_sim))"
   ]
  },
  {
   "cell_type": "code",
   "execution_count": 61,
   "id": "dd9196b7",
   "metadata": {
    "ExecuteTime": {
     "end_time": "2023-02-04T17:02:34.151844Z",
     "start_time": "2023-02-04T17:02:34.139746Z"
    }
   },
   "outputs": [
    {
     "data": {
      "text/html": [
       "<div>\n",
       "<style scoped>\n",
       "    .dataframe tbody tr th:only-of-type {\n",
       "        vertical-align: middle;\n",
       "    }\n",
       "\n",
       "    .dataframe tbody tr th {\n",
       "        vertical-align: top;\n",
       "    }\n",
       "\n",
       "    .dataframe thead th {\n",
       "        text-align: right;\n",
       "    }\n",
       "</style>\n",
       "<table border=\"1\" class=\"dataframe\">\n",
       "  <thead>\n",
       "    <tr style=\"text-align: right;\">\n",
       "      <th></th>\n",
       "      <th>CharacterId</th>\n",
       "      <th>Character</th>\n",
       "      <th>vote</th>\n",
       "      <th>MBTI</th>\n",
       "      <th>Enneagram</th>\n",
       "      <th>movieId</th>\n",
       "      <th>contents_year</th>\n",
       "      <th>Contents</th>\n",
       "      <th>ko_title</th>\n",
       "      <th>rating</th>\n",
       "      <th>npop</th>\n",
       "      <th>img_src</th>\n",
       "      <th>Enneagram_sim</th>\n",
       "    </tr>\n",
       "  </thead>\n",
       "  <tbody>\n",
       "    <tr>\n",
       "      <th>65</th>\n",
       "      <td>1287</td>\n",
       "      <td>Charlie Kelmeckis</td>\n",
       "      <td>1700</td>\n",
       "      <td>INFP</td>\n",
       "      <td>9w1</td>\n",
       "      <td>96821</td>\n",
       "      <td>2012</td>\n",
       "      <td>The Perks of Being a Wallflower (2012)</td>\n",
       "      <td>월플라워</td>\n",
       "      <td>3.8</td>\n",
       "      <td>300000</td>\n",
       "      <td>https://static1.personality-database.com/profi...</td>\n",
       "      <td>0.840650</td>\n",
       "    </tr>\n",
       "    <tr>\n",
       "      <th>303</th>\n",
       "      <td>2899</td>\n",
       "      <td>Patrick Stewart</td>\n",
       "      <td>514</td>\n",
       "      <td>ENFP</td>\n",
       "      <td>7w6</td>\n",
       "      <td>96821</td>\n",
       "      <td>2012</td>\n",
       "      <td>The Perks of Being a Wallflower (2012)</td>\n",
       "      <td>월플라워</td>\n",
       "      <td>3.8</td>\n",
       "      <td>300000</td>\n",
       "      <td>https://static1.personality-database.com/profi...</td>\n",
       "      <td>0.749773</td>\n",
       "    </tr>\n",
       "    <tr>\n",
       "      <th>366</th>\n",
       "      <td>14682</td>\n",
       "      <td>Samantha \"Sam\" Button</td>\n",
       "      <td>386</td>\n",
       "      <td>ESFJ</td>\n",
       "      <td>2w3</td>\n",
       "      <td>96821</td>\n",
       "      <td>2012</td>\n",
       "      <td>The Perks of Being a Wallflower (2012)</td>\n",
       "      <td>월플라워</td>\n",
       "      <td>3.8</td>\n",
       "      <td>300000</td>\n",
       "      <td>https://static1.personality-database.com/profi...</td>\n",
       "      <td>0.751729</td>\n",
       "    </tr>\n",
       "  </tbody>\n",
       "</table>\n",
       "</div>"
      ],
      "text/plain": [
       "     CharacterId              Character  vote  MBTI Enneagram  movieId  \\\n",
       "65          1287      Charlie Kelmeckis  1700  INFP       9w1    96821   \n",
       "303         2899        Patrick Stewart   514  ENFP       7w6    96821   \n",
       "366        14682  Samantha \"Sam\" Button   386  ESFJ       2w3    96821   \n",
       "\n",
       "    contents_year                                Contents ko_title rating  \\\n",
       "65           2012  The Perks of Being a Wallflower (2012)     월플라워    3.8   \n",
       "303          2012  The Perks of Being a Wallflower (2012)     월플라워    3.8   \n",
       "366          2012  The Perks of Being a Wallflower (2012)     월플라워    3.8   \n",
       "\n",
       "       npop                                            img_src  Enneagram_sim  \n",
       "65   300000  https://static1.personality-database.com/profi...       0.840650  \n",
       "303  300000  https://static1.personality-database.com/profi...       0.749773  \n",
       "366  300000  https://static1.personality-database.com/profi...       0.751729  "
      ]
     },
     "execution_count": 61,
     "metadata": {},
     "output_type": "execute_result"
    }
   ],
   "source": [
    "char_df"
   ]
  },
  {
   "cell_type": "code",
   "execution_count": 62,
   "id": "fd2496bd",
   "metadata": {
    "ExecuteTime": {
     "end_time": "2023-02-04T17:03:35.987451Z",
     "start_time": "2023-02-04T17:03:35.984747Z"
    }
   },
   "outputs": [],
   "source": [
    "mbti_list=[\"adf\"]"
   ]
  },
  {
   "cell_type": "code",
   "execution_count": 66,
   "id": "9d955938",
   "metadata": {
    "ExecuteTime": {
     "end_time": "2023-02-04T17:03:45.638747Z",
     "start_time": "2023-02-04T17:03:45.634393Z"
    }
   },
   "outputs": [],
   "source": [
    "char_df.loc[char_df.MBTI.isin(mbti_list), 'Enneagram_sim'] -= 15"
   ]
  },
  {
   "cell_type": "code",
   "execution_count": 68,
   "id": "c26de63f",
   "metadata": {
    "ExecuteTime": {
     "end_time": "2023-02-04T17:04:48.916831Z",
     "start_time": "2023-02-04T17:04:48.914244Z"
    }
   },
   "outputs": [],
   "source": [
    "user_fit_MBTI=\"INFP\""
   ]
  },
  {
   "cell_type": "code",
   "execution_count": 69,
   "id": "c3f0531c",
   "metadata": {
    "ExecuteTime": {
     "end_time": "2023-02-04T17:04:49.617860Z",
     "start_time": "2023-02-04T17:04:49.612454Z"
    }
   },
   "outputs": [
    {
     "data": {
      "text/plain": [
       "65    0.84065\n",
       "Name: Enneagram_sim, dtype: float64"
      ]
     },
     "execution_count": 69,
     "metadata": {},
     "output_type": "execute_result"
    }
   ],
   "source": [
    "char_df.loc[char_df.MBTI==user_fit_MBTI, 'Enneagram_sim']"
   ]
  },
  {
   "cell_type": "code",
   "execution_count": 70,
   "id": "d19ae5ee",
   "metadata": {
    "ExecuteTime": {
     "end_time": "2023-02-04T17:38:52.065798Z",
     "start_time": "2023-02-04T17:38:52.062780Z"
    }
   },
   "outputs": [],
   "source": [
    "char_cols=['CharacterId','Character','img_src','ko_title','MBTI','hashtag','Enneagram_sim']"
   ]
  },
  {
   "cell_type": "code",
   "execution_count": 67,
   "id": "aa691605",
   "metadata": {
    "ExecuteTime": {
     "end_time": "2023-02-04T17:03:49.673165Z",
     "start_time": "2023-02-04T17:03:49.657860Z"
    }
   },
   "outputs": [
    {
     "data": {
      "text/html": [
       "<div>\n",
       "<style scoped>\n",
       "    .dataframe tbody tr th:only-of-type {\n",
       "        vertical-align: middle;\n",
       "    }\n",
       "\n",
       "    .dataframe tbody tr th {\n",
       "        vertical-align: top;\n",
       "    }\n",
       "\n",
       "    .dataframe thead th {\n",
       "        text-align: right;\n",
       "    }\n",
       "</style>\n",
       "<table border=\"1\" class=\"dataframe\">\n",
       "  <thead>\n",
       "    <tr style=\"text-align: right;\">\n",
       "      <th></th>\n",
       "      <th>CharacterId</th>\n",
       "      <th>Character</th>\n",
       "      <th>vote</th>\n",
       "      <th>MBTI</th>\n",
       "      <th>Enneagram</th>\n",
       "      <th>movieId</th>\n",
       "      <th>contents_year</th>\n",
       "      <th>Contents</th>\n",
       "      <th>ko_title</th>\n",
       "      <th>rating</th>\n",
       "      <th>npop</th>\n",
       "      <th>img_src</th>\n",
       "      <th>Enneagram_sim</th>\n",
       "    </tr>\n",
       "  </thead>\n",
       "  <tbody>\n",
       "    <tr>\n",
       "      <th>65</th>\n",
       "      <td>1287</td>\n",
       "      <td>Charlie Kelmeckis</td>\n",
       "      <td>1700</td>\n",
       "      <td>INFP</td>\n",
       "      <td>9w1</td>\n",
       "      <td>96821</td>\n",
       "      <td>2012</td>\n",
       "      <td>The Perks of Being a Wallflower (2012)</td>\n",
       "      <td>월플라워</td>\n",
       "      <td>3.8</td>\n",
       "      <td>300000</td>\n",
       "      <td>https://static1.personality-database.com/profi...</td>\n",
       "      <td>0.840650</td>\n",
       "    </tr>\n",
       "    <tr>\n",
       "      <th>303</th>\n",
       "      <td>2899</td>\n",
       "      <td>Patrick Stewart</td>\n",
       "      <td>514</td>\n",
       "      <td>ENFP</td>\n",
       "      <td>7w6</td>\n",
       "      <td>96821</td>\n",
       "      <td>2012</td>\n",
       "      <td>The Perks of Being a Wallflower (2012)</td>\n",
       "      <td>월플라워</td>\n",
       "      <td>3.8</td>\n",
       "      <td>300000</td>\n",
       "      <td>https://static1.personality-database.com/profi...</td>\n",
       "      <td>0.749773</td>\n",
       "    </tr>\n",
       "    <tr>\n",
       "      <th>366</th>\n",
       "      <td>14682</td>\n",
       "      <td>Samantha \"Sam\" Button</td>\n",
       "      <td>386</td>\n",
       "      <td>ESFJ</td>\n",
       "      <td>2w3</td>\n",
       "      <td>96821</td>\n",
       "      <td>2012</td>\n",
       "      <td>The Perks of Being a Wallflower (2012)</td>\n",
       "      <td>월플라워</td>\n",
       "      <td>3.8</td>\n",
       "      <td>300000</td>\n",
       "      <td>https://static1.personality-database.com/profi...</td>\n",
       "      <td>0.751729</td>\n",
       "    </tr>\n",
       "  </tbody>\n",
       "</table>\n",
       "</div>"
      ],
      "text/plain": [
       "     CharacterId              Character  vote  MBTI Enneagram  movieId  \\\n",
       "65          1287      Charlie Kelmeckis  1700  INFP       9w1    96821   \n",
       "303         2899        Patrick Stewart   514  ENFP       7w6    96821   \n",
       "366        14682  Samantha \"Sam\" Button   386  ESFJ       2w3    96821   \n",
       "\n",
       "    contents_year                                Contents ko_title rating  \\\n",
       "65           2012  The Perks of Being a Wallflower (2012)     월플라워    3.8   \n",
       "303          2012  The Perks of Being a Wallflower (2012)     월플라워    3.8   \n",
       "366          2012  The Perks of Being a Wallflower (2012)     월플라워    3.8   \n",
       "\n",
       "       npop                                            img_src  Enneagram_sim  \n",
       "65   300000  https://static1.personality-database.com/profi...       0.840650  \n",
       "303  300000  https://static1.personality-database.com/profi...       0.749773  \n",
       "366  300000  https://static1.personality-database.com/profi...       0.751729  "
      ]
     },
     "execution_count": 67,
     "metadata": {},
     "output_type": "execute_result"
    }
   ],
   "source": [
    "char_df"
   ]
  },
  {
   "cell_type": "code",
   "execution_count": 30,
   "id": "4deadf8c",
   "metadata": {
    "ExecuteTime": {
     "end_time": "2023-02-04T09:25:58.615376Z",
     "start_time": "2023-02-04T09:25:58.611518Z"
    }
   },
   "outputs": [
    {
     "data": {
      "text/plain": [
       "(138036, 168610, 142488, 162606, 140174, 166486, 203322, 156605, 2256, 136562)"
      ]
     },
     "execution_count": 30,
     "metadata": {},
     "output_type": "execute_result"
    }
   ],
   "source": [
    "sideinfo_movie_list"
   ]
  }
 ],
 "metadata": {
  "kernelspec": {
   "display_name": "Python 3 (ipykernel)",
   "language": "python",
   "name": "python3"
  },
  "language_info": {
   "codemirror_mode": {
    "name": "ipython",
    "version": 3
   },
   "file_extension": ".py",
   "mimetype": "text/x-python",
   "name": "python",
   "nbconvert_exporter": "python",
   "pygments_lexer": "ipython3",
   "version": "3.8.5"
  },
  "toc": {
   "base_numbering": 1,
   "nav_menu": {},
   "number_sections": true,
   "sideBar": true,
   "skip_h1_title": false,
   "title_cell": "Table of Contents",
   "title_sidebar": "Contents",
   "toc_cell": false,
   "toc_position": {},
   "toc_section_display": true,
   "toc_window_display": false
  }
 },
 "nbformat": 4,
 "nbformat_minor": 5
}
