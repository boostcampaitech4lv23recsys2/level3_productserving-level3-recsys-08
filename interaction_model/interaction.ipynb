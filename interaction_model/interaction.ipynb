{
 "cells": [
  {
   "cell_type": "code",
   "execution_count": 3,
   "metadata": {},
   "outputs": [],
   "source": [
    "from scipy import sparse\n",
    "from scipy.sparse import csr_matrix, lil_matrix\n",
    "import implicit\n",
    "import annoy\n",
    "import sys\n",
    "import pandas as pd\n",
    "import os\n",
    "import numpy as np"
   ]
  },
  {
   "attachments": {},
   "cell_type": "markdown",
   "metadata": {},
   "source": [
    "## Data Load\n",
    "- ratings : ml interaction 데이터 \n",
    "- movies : ml movieId, title 데이터 \n",
    "- inter_mbti_ml_title_movieid : ml, mbti 겹치는 데이터"
   ]
  },
  {
   "cell_type": "code",
   "execution_count": 4,
   "metadata": {},
   "outputs": [],
   "source": [
    "data_path = \"/opt/ml/input/project/data/\"\n",
    "ratings = pd.read_csv(data_path+\"ml-25m/ratings.csv\")\n",
    "movies = pd.read_csv(data_path + \"ml-25m/movies.csv\")\n",
    "\n",
    "ratings = ratings.merge(movies[[\"movieId\",\"title\"]],how=\"left\",on = \"movieId\")\n",
    "ratings['rating'] = 1                               \n",
    "ratings.drop(columns = \"timestamp\",inplace = True)\n",
    "\n",
    "inter_mbti_ml_title_movieid = pd.read_csv(data_path+\"inter_mbti_ml_title_movieId.csv\")\n"
   ]
  },
  {
   "cell_type": "code",
   "execution_count": 5,
   "metadata": {},
   "outputs": [],
   "source": [
    "user2idx = {k:v for v,k in enumerate(ratings['userId'].unique())}\n",
    "item2idx = {k:v for v,k in enumerate(ratings['movieId'].unique())}\n",
    "idx2item = {v:k for v,k in enumerate(ratings['movieId'].unique())}"
   ]
  },
  {
   "cell_type": "code",
   "execution_count": 6,
   "metadata": {},
   "outputs": [],
   "source": [
    "ratings['useridx'] = ratings['userId'].map(user2idx) # userId -> 인덱스로 바꿔줍니다.\n",
    "ratings['movieidx'] = ratings['movieId'].map(item2idx) # movieId -> 인덱스로 바꿔줍니다."
   ]
  },
  {
   "attachments": {},
   "cell_type": "markdown",
   "metadata": {},
   "source": [
    "## ALS 학습 \n",
    "- csr_matrix 선언"
   ]
  },
  {
   "cell_type": "code",
   "execution_count": 7,
   "metadata": {},
   "outputs": [],
   "source": [
    "sparse_user_item = sparse.csr_matrix((ratings['rating'].astype(float),\n",
    "                                      (ratings['useridx'], ratings['movieidx']))) # csr_matrix 생성"
   ]
  },
  {
   "attachments": {},
   "cell_type": "markdown",
   "metadata": {},
   "source": [
    "- ALS 모델 init 및 학습"
   ]
  },
  {
   "cell_type": "code",
   "execution_count": 18,
   "metadata": {},
   "outputs": [
    {
     "data": {
      "application/json": {
       "ascii": false,
       "bar_format": null,
       "colour": null,
       "elapsed": 0.02093505859375,
       "initial": 0,
       "n": 0,
       "ncols": null,
       "nrows": null,
       "postfix": null,
       "prefix": "",
       "rate": null,
       "total": 200,
       "unit": "it",
       "unit_divisor": 1000,
       "unit_scale": false
      },
      "application/vnd.jupyter.widget-view+json": {
       "model_id": "8df1b88824cf4134ad9b4e2fdcdff093",
       "version_major": 2,
       "version_minor": 0
      },
      "text/plain": [
       "  0%|          | 0/200 [00:00<?, ?it/s]"
      ]
     },
     "metadata": {},
     "output_type": "display_data"
    },
    {
     "data": {
      "text/plain": [
       "(59047, 64)"
      ]
     },
     "execution_count": 18,
     "metadata": {},
     "output_type": "execute_result"
    }
   ],
   "source": [
    "als_model = implicit.als.AlternatingLeastSquares(\n",
    "                                factors = 64,\n",
    "                                regularization = 0.1,\n",
    "                                iterations = 200,\n",
    "                                calculate_training_loss = False,\n",
    "                                use_gpu = True\n",
    "                            ) # 모델 init\n",
    "als_model.fit(sparse_user_item) # 학습\n",
    "item_vecs = als_model.item_factors.to_numpy() # item vector만 빼옵니다.\n",
    "np.save(\"movie_vecs\",item_vecs) # 혹시 몰라 numpy 형태로 item vector를 저장\n",
    "item_vecs.shape"
   ]
  },
  {
   "attachments": {},
   "cell_type": "markdown",
   "metadata": {},
   "source": [
    "inter_mbti_ml_title_movieid에 인덱스 column추가, null값을 제거합니다"
   ]
  },
  {
   "cell_type": "code",
   "execution_count": 9,
   "metadata": {},
   "outputs": [],
   "source": [
    "inter_mbti_ml_title_movieid['movieidx'] = inter_mbti_ml_title_movieid['movieId'].map(item2idx)"
   ]
  },
  {
   "cell_type": "code",
   "execution_count": 13,
   "metadata": {},
   "outputs": [
    {
     "data": {
      "text/html": [
       "<div>\n",
       "<style scoped>\n",
       "    .dataframe tbody tr th:only-of-type {\n",
       "        vertical-align: middle;\n",
       "    }\n",
       "\n",
       "    .dataframe tbody tr th {\n",
       "        vertical-align: top;\n",
       "    }\n",
       "\n",
       "    .dataframe thead th {\n",
       "        text-align: right;\n",
       "    }\n",
       "</style>\n",
       "<table border=\"1\" class=\"dataframe\">\n",
       "  <thead>\n",
       "    <tr style=\"text-align: right;\">\n",
       "      <th></th>\n",
       "      <th>title</th>\n",
       "      <th>movieId</th>\n",
       "      <th>movieidx</th>\n",
       "    </tr>\n",
       "  </thead>\n",
       "  <tbody>\n",
       "    <tr>\n",
       "      <th>220</th>\n",
       "      <td>marry me</td>\n",
       "      <td>150834</td>\n",
       "      <td>NaN</td>\n",
       "    </tr>\n",
       "    <tr>\n",
       "      <th>270</th>\n",
       "      <td>the three musketeers</td>\n",
       "      <td>150106</td>\n",
       "      <td>NaN</td>\n",
       "    </tr>\n",
       "    <tr>\n",
       "      <th>432</th>\n",
       "      <td>the intruder</td>\n",
       "      <td>151939</td>\n",
       "      <td>NaN</td>\n",
       "    </tr>\n",
       "    <tr>\n",
       "      <th>435</th>\n",
       "      <td>the kitchen</td>\n",
       "      <td>138086</td>\n",
       "      <td>NaN</td>\n",
       "    </tr>\n",
       "    <tr>\n",
       "      <th>671</th>\n",
       "      <td>the last of the mohicans</td>\n",
       "      <td>167876</td>\n",
       "      <td>NaN</td>\n",
       "    </tr>\n",
       "  </tbody>\n",
       "</table>\n",
       "</div>"
      ],
      "text/plain": [
       "                        title  movieId  movieidx\n",
       "220                  marry me   150834       NaN\n",
       "270      the three musketeers   150106       NaN\n",
       "432              the intruder   151939       NaN\n",
       "435               the kitchen   138086       NaN\n",
       "671  the last of the mohicans   167876       NaN"
      ]
     },
     "metadata": {},
     "output_type": "display_data"
    },
    {
     "name": "stdout",
     "output_type": "stream",
     "text": [
      "null값 개수 :  16\n"
     ]
    }
   ],
   "source": [
    "display(inter_mbti_ml_title_movieid[inter_mbti_ml_title_movieid['movieidx'].isnull()].head())\n",
    "print(\"null값 개수 : \",inter_mbti_ml_title_movieid[inter_mbti_ml_title_movieid['movieidx'].isnull()].shape[0])"
   ]
  },
  {
   "cell_type": "code",
   "execution_count": 14,
   "metadata": {},
   "outputs": [],
   "source": [
    "inter_mbti_ml_title_movieid.dropna(inplace = True)\n",
    "inter_mbti_ml_title_movieid['movieidx'] = inter_mbti_ml_title_movieid['movieidx'].astype(int)"
   ]
  },
  {
   "attachments": {},
   "cell_type": "markdown",
   "metadata": {},
   "source": [
    "annoy init 부분\n",
    "- AnnoyIndex(item_vector_size, 유사도 측정 방법)\n",
    "- 유사도 측정방법\n",
    "    - angular : cosine similarity\n",
    "    - euclidean : l2-norm distance\n",
    "    - manhattan : l1-norm distance\n",
    "    - hamming : binary vector에만 사용\n",
    "    - dot : dot product"
   ]
  },
  {
   "cell_type": "code",
   "execution_count": 16,
   "metadata": {},
   "outputs": [],
   "source": [
    "similar_items_index = annoy.AnnoyIndex(64,'euclidean')"
   ]
  },
  {
   "attachments": {},
   "cell_type": "markdown",
   "metadata": {},
   "source": [
    "- add_item : movieId를 인덱스로 하는 embedding vector들을 annoy에 하나씩 넣어줍니다.\n",
    "- build : add_item을 통해 받은 vector들의 유사도를 계산합니다."
   ]
  },
  {
   "cell_type": "code",
   "execution_count": 19,
   "metadata": {},
   "outputs": [
    {
     "data": {
      "text/plain": [
       "True"
      ]
     },
     "execution_count": 19,
     "metadata": {},
     "output_type": "execute_result"
    }
   ],
   "source": [
    "n_trees = 20\n",
    "for idx in inter_mbti_ml_title_movieid['movieidx']:\n",
    "    similar_items_index.add_item(idx2item[idx],item_vecs[idx]) # idx -> movieId로 바꿔서 annoy에 저장합니다.\n",
    "similar_items_index.build(n_trees)"
   ]
  },
  {
   "attachments": {},
   "cell_type": "markdown",
   "metadata": {},
   "source": [
    "- save : 파일로 저장합니다.\n",
    "- load : 저장한 파일을 불러옵니다."
   ]
  },
  {
   "cell_type": "code",
   "execution_count": 37,
   "metadata": {},
   "outputs": [
    {
     "data": {
      "text/plain": [
       "True"
      ]
     },
     "execution_count": 37,
     "metadata": {},
     "output_type": "execute_result"
    }
   ],
   "source": [
    "# similar_items_index.save(\"ALS_euclidean_64\")"
   ]
  },
  {
   "cell_type": "code",
   "execution_count": 38,
   "metadata": {},
   "outputs": [
    {
     "data": {
      "text/plain": [
       "True"
      ]
     },
     "execution_count": 38,
     "metadata": {},
     "output_type": "execute_result"
    }
   ],
   "source": [
    "similar_items_index = annoy.AnnoyIndex(64,'angular')\n",
    "similar_items_index.load(\"ALS_64\")"
   ]
  },
  {
   "cell_type": "code",
   "execution_count": 39,
   "metadata": {},
   "outputs": [],
   "source": [
    "def similar_item(id,N):\n",
    "    result = []\n",
    "    neighbour,dist = similar_items_index.get_nns_by_item(id, N+1, include_distances=True)\n",
    "    for i in range(0,N):\n",
    "        result.append(inter_mbti_ml_title_movieid[inter_mbti_ml_title_movieid['movieId']==neighbour[i]]['title'].values[0])\n",
    "    return result[0],result[1:],dist[1:]\n",
    "    "
   ]
  },
  {
   "cell_type": "code",
   "execution_count": 47,
   "metadata": {},
   "outputs": [],
   "source": [
    "movieId_list = inter_mbti_ml_title_movieid['movieId'].unique()\n",
    "title,result,dist = similar_item(movieId_list[2],10)"
   ]
  },
  {
   "cell_type": "code",
   "execution_count": 43,
   "metadata": {},
   "outputs": [
    {
     "name": "stdout",
     "output_type": "stream",
     "text": [
      "title :  zootopia\n"
     ]
    },
    {
     "data": {
      "text/plain": [
       "(['kubo and the two strings',\n",
       "  'the secret life of pets',\n",
       "  'the jungle book',\n",
       "  'arrival',\n",
       "  'the good dinosaur',\n",
       "  'the martian',\n",
       "  'hidden figures',\n",
       "  'thor: ragnarok',\n",
       "  'trolls'],\n",
       " [0.5943165421485901,\n",
       "  0.6597697734832764,\n",
       "  0.6920070052146912,\n",
       "  0.7352758049964905,\n",
       "  0.7466049194335938,\n",
       "  0.75857013463974,\n",
       "  0.7666743993759155,\n",
       "  0.777453601360321,\n",
       "  0.793731153011322,\n",
       "  0.7965688109397888])"
      ]
     },
     "execution_count": 43,
     "metadata": {},
     "output_type": "execute_result"
    }
   ],
   "source": [
    "print(\"title : \",title)\n",
    "result,dist"
   ]
  },
  {
   "cell_type": "code",
   "execution_count": 46,
   "metadata": {},
   "outputs": [
    {
     "data": {
      "text/plain": [
       "True"
      ]
     },
     "execution_count": 46,
     "metadata": {},
     "output_type": "execute_result"
    }
   ],
   "source": [
    "similar_items_index = annoy.AnnoyIndex(64,'euclidean')\n",
    "similar_items_index.load(\"ALS_euclidean_64\")"
   ]
  },
  {
   "cell_type": "code",
   "execution_count": 48,
   "metadata": {},
   "outputs": [
    {
     "name": "stdout",
     "output_type": "stream",
     "text": [
      "title :  zootopia\n"
     ]
    },
    {
     "data": {
      "text/plain": [
       "(['big hero 6',\n",
       "  'the lego movie',\n",
       "  'wreck-it ralph',\n",
       "  'brave',\n",
       "  'monsters university',\n",
       "  'megamind',\n",
       "  'tangled',\n",
       "  'despicable me',\n",
       "  'cloudy with a chance of meatballs'],\n",
       " [1.3419342041015625,\n",
       "  1.47872793674469,\n",
       "  1.4849172830581665,\n",
       "  1.5692397356033325,\n",
       "  1.5921216011047363,\n",
       "  1.7869476079940796,\n",
       "  1.7883639335632324,\n",
       "  1.8061836957931519,\n",
       "  1.8138846158981323,\n",
       "  1.8814114332199097])"
      ]
     },
     "execution_count": 48,
     "metadata": {},
     "output_type": "execute_result"
    }
   ],
   "source": [
    "print(\"title : \",title)\n",
    "result,dist"
   ]
  },
  {
   "cell_type": "code",
   "execution_count": 12,
   "metadata": {},
   "outputs": [],
   "source": [
    "sys.path.append(os.path.join(os.path.abspath(os.path.curdir),\"..\"))\n",
    "from Utils.utils import model_recommend_movies"
   ]
  },
  {
   "cell_type": "code",
   "execution_count": 14,
   "metadata": {},
   "outputs": [
    {
     "data": {
      "text/plain": [
       "[171779, 33380, 192869, 156732, 152047, 170739, 92660, 116092, 124476, 116702]"
      ]
     },
     "execution_count": 14,
     "metadata": {},
     "output_type": "execute_result"
    }
   ],
   "source": [
    "model_recommend_movies(\"ISTP\", \"1w9\", [73141], 10, model_path='../interaction_model/ALS_64')"
   ]
  },
  {
   "cell_type": "code",
   "execution_count": null,
   "metadata": {},
   "outputs": [],
   "source": []
  }
 ],
 "metadata": {
  "kernelspec": {
   "display_name": "base",
   "language": "python",
   "name": "python3"
  },
  "language_info": {
   "codemirror_mode": {
    "name": "ipython",
    "version": 3
   },
   "file_extension": ".py",
   "mimetype": "text/x-python",
   "name": "python",
   "nbconvert_exporter": "python",
   "pygments_lexer": "ipython3",
   "version": "3.8.5 (default, Sep  4 2020, 07:30:14) \n[GCC 7.3.0]"
  },
  "orig_nbformat": 4,
  "vscode": {
   "interpreter": {
    "hash": "d4d1e4263499bec80672ea0156c357c1ee493ec2b1c70f0acce89fc37c4a6abe"
   }
  }
 },
 "nbformat": 4,
 "nbformat_minor": 2
}
