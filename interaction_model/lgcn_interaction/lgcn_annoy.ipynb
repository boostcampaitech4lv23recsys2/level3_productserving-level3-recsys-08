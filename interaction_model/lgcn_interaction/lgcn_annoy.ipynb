{
 "cells": [
  {
   "attachments": {},
   "cell_type": "markdown",
   "metadata": {},
   "source": [
    "## [인터랙션] LightGCN 에서 뽑아온 임베딩 벡터로 annoy"
   ]
  },
  {
   "cell_type": "code",
   "execution_count": 1,
   "metadata": {},
   "outputs": [],
   "source": [
    "import pandas as pd"
   ]
  },
  {
   "cell_type": "code",
   "execution_count": 2,
   "metadata": {},
   "outputs": [],
   "source": [
    "data_path = \"/opt/ml/input/data/\"\n",
    "ratings = pd.read_csv(data_path+\"ml-25m/ratings.csv\")\n",
    "movies = pd.read_csv(data_path + \"230129_Popular_movie_1192_cwj.csv\")"
   ]
  },
  {
   "cell_type": "code",
   "execution_count": 4,
   "metadata": {},
   "outputs": [
    {
     "data": {
      "text/plain": [
       "(1192, 13)"
      ]
     },
     "execution_count": 4,
     "metadata": {},
     "output_type": "execute_result"
    }
   ],
   "source": [
    "movies.shape"
   ]
  },
  {
   "cell_type": "code",
   "execution_count": 7,
   "metadata": {},
   "outputs": [],
   "source": [
    "merge_df = ratings.merge(movies[[\"movieId\",\"Contents\"]], how=\"inner\", on = \"movieId\")\n",
    "merge_df['rating'] = 1"
   ]
  },
  {
   "cell_type": "code",
   "execution_count": 8,
   "metadata": {},
   "outputs": [
    {
     "data": {
      "text/html": [
       "<div>\n",
       "<style scoped>\n",
       "    .dataframe tbody tr th:only-of-type {\n",
       "        vertical-align: middle;\n",
       "    }\n",
       "\n",
       "    .dataframe tbody tr th {\n",
       "        vertical-align: top;\n",
       "    }\n",
       "\n",
       "    .dataframe thead th {\n",
       "        text-align: right;\n",
       "    }\n",
       "</style>\n",
       "<table border=\"1\" class=\"dataframe\">\n",
       "  <thead>\n",
       "    <tr style=\"text-align: right;\">\n",
       "      <th></th>\n",
       "      <th>userId</th>\n",
       "      <th>movieId</th>\n",
       "      <th>rating</th>\n",
       "      <th>timestamp</th>\n",
       "      <th>Contents</th>\n",
       "    </tr>\n",
       "  </thead>\n",
       "  <tbody>\n",
       "    <tr>\n",
       "      <th>0</th>\n",
       "      <td>1</td>\n",
       "      <td>296</td>\n",
       "      <td>1</td>\n",
       "      <td>1147880044</td>\n",
       "      <td>Pulp Fiction (1994)</td>\n",
       "    </tr>\n",
       "    <tr>\n",
       "      <th>1</th>\n",
       "      <td>3</td>\n",
       "      <td>296</td>\n",
       "      <td>1</td>\n",
       "      <td>1439474476</td>\n",
       "      <td>Pulp Fiction (1994)</td>\n",
       "    </tr>\n",
       "    <tr>\n",
       "      <th>2</th>\n",
       "      <td>4</td>\n",
       "      <td>296</td>\n",
       "      <td>1</td>\n",
       "      <td>1573938898</td>\n",
       "      <td>Pulp Fiction (1994)</td>\n",
       "    </tr>\n",
       "    <tr>\n",
       "      <th>3</th>\n",
       "      <td>5</td>\n",
       "      <td>296</td>\n",
       "      <td>1</td>\n",
       "      <td>830786155</td>\n",
       "      <td>Pulp Fiction (1994)</td>\n",
       "    </tr>\n",
       "    <tr>\n",
       "      <th>4</th>\n",
       "      <td>7</td>\n",
       "      <td>296</td>\n",
       "      <td>1</td>\n",
       "      <td>835444730</td>\n",
       "      <td>Pulp Fiction (1994)</td>\n",
       "    </tr>\n",
       "  </tbody>\n",
       "</table>\n",
       "</div>"
      ],
      "text/plain": [
       "   userId  movieId  rating   timestamp             Contents\n",
       "0       1      296       1  1147880044  Pulp Fiction (1994)\n",
       "1       3      296       1  1439474476  Pulp Fiction (1994)\n",
       "2       4      296       1  1573938898  Pulp Fiction (1994)\n",
       "3       5      296       1   830786155  Pulp Fiction (1994)\n",
       "4       7      296       1   835444730  Pulp Fiction (1994)"
      ]
     },
     "execution_count": 8,
     "metadata": {},
     "output_type": "execute_result"
    }
   ],
   "source": [
    "merge_df.head()"
   ]
  },
  {
   "cell_type": "code",
   "execution_count": 13,
   "metadata": {},
   "outputs": [
    {
     "data": {
      "text/plain": [
       "0"
      ]
     },
     "execution_count": 13,
     "metadata": {},
     "output_type": "execute_result"
    }
   ],
   "source": [
    "merge_df[merge_df['movieId'] > 300000]['movieId'].nunique()"
   ]
  },
  {
   "cell_type": "code",
   "execution_count": 14,
   "metadata": {},
   "outputs": [],
   "source": [
    "user2idx = {k:v for v,k in enumerate(merge_df['userId'].unique())}\n",
    "item2idx = {k:v for v,k in enumerate(merge_df['movieId'].unique())}\n",
    "idx2item = {v:k for v,k in enumerate(merge_df['movieId'].unique())}"
   ]
  },
  {
   "cell_type": "code",
   "execution_count": 15,
   "metadata": {},
   "outputs": [],
   "source": [
    "merge_df['useridx'] = merge_df['userId'].map(user2idx) \n",
    "merge_df['movieidx'] = merge_df['movieId'].map(item2idx) "
   ]
  },
  {
   "cell_type": "code",
   "execution_count": 16,
   "metadata": {},
   "outputs": [
    {
     "data": {
      "text/html": [
       "<div>\n",
       "<style scoped>\n",
       "    .dataframe tbody tr th:only-of-type {\n",
       "        vertical-align: middle;\n",
       "    }\n",
       "\n",
       "    .dataframe tbody tr th {\n",
       "        vertical-align: top;\n",
       "    }\n",
       "\n",
       "    .dataframe thead th {\n",
       "        text-align: right;\n",
       "    }\n",
       "</style>\n",
       "<table border=\"1\" class=\"dataframe\">\n",
       "  <thead>\n",
       "    <tr style=\"text-align: right;\">\n",
       "      <th></th>\n",
       "      <th>userId</th>\n",
       "      <th>movieId</th>\n",
       "      <th>rating</th>\n",
       "      <th>timestamp</th>\n",
       "      <th>Contents</th>\n",
       "      <th>useridx</th>\n",
       "      <th>movieidx</th>\n",
       "    </tr>\n",
       "  </thead>\n",
       "  <tbody>\n",
       "    <tr>\n",
       "      <th>0</th>\n",
       "      <td>1</td>\n",
       "      <td>296</td>\n",
       "      <td>1</td>\n",
       "      <td>1147880044</td>\n",
       "      <td>Pulp Fiction (1994)</td>\n",
       "      <td>0</td>\n",
       "      <td>0</td>\n",
       "    </tr>\n",
       "    <tr>\n",
       "      <th>1</th>\n",
       "      <td>3</td>\n",
       "      <td>296</td>\n",
       "      <td>1</td>\n",
       "      <td>1439474476</td>\n",
       "      <td>Pulp Fiction (1994)</td>\n",
       "      <td>1</td>\n",
       "      <td>0</td>\n",
       "    </tr>\n",
       "    <tr>\n",
       "      <th>2</th>\n",
       "      <td>4</td>\n",
       "      <td>296</td>\n",
       "      <td>1</td>\n",
       "      <td>1573938898</td>\n",
       "      <td>Pulp Fiction (1994)</td>\n",
       "      <td>2</td>\n",
       "      <td>0</td>\n",
       "    </tr>\n",
       "    <tr>\n",
       "      <th>3</th>\n",
       "      <td>5</td>\n",
       "      <td>296</td>\n",
       "      <td>1</td>\n",
       "      <td>830786155</td>\n",
       "      <td>Pulp Fiction (1994)</td>\n",
       "      <td>3</td>\n",
       "      <td>0</td>\n",
       "    </tr>\n",
       "    <tr>\n",
       "      <th>4</th>\n",
       "      <td>7</td>\n",
       "      <td>296</td>\n",
       "      <td>1</td>\n",
       "      <td>835444730</td>\n",
       "      <td>Pulp Fiction (1994)</td>\n",
       "      <td>4</td>\n",
       "      <td>0</td>\n",
       "    </tr>\n",
       "  </tbody>\n",
       "</table>\n",
       "</div>"
      ],
      "text/plain": [
       "   userId  movieId  rating   timestamp             Contents  useridx  movieidx\n",
       "0       1      296       1  1147880044  Pulp Fiction (1994)        0         0\n",
       "1       3      296       1  1439474476  Pulp Fiction (1994)        1         0\n",
       "2       4      296       1  1573938898  Pulp Fiction (1994)        2         0\n",
       "3       5      296       1   830786155  Pulp Fiction (1994)        3         0\n",
       "4       7      296       1   835444730  Pulp Fiction (1994)        4         0"
      ]
     },
     "execution_count": 16,
     "metadata": {},
     "output_type": "execute_result"
    }
   ],
   "source": [
    "merge_df.head()"
   ]
  },
  {
   "attachments": {},
   "cell_type": "markdown",
   "metadata": {},
   "source": [
    "ratings의 유저, 영화 임베딩을 뽑기 위해 train_data.inter 파일을 만드는 과정"
   ]
  },
  {
   "cell_type": "code",
   "execution_count": 17,
   "metadata": {},
   "outputs": [
    {
     "data": {
      "text/html": [
       "<div>\n",
       "<style scoped>\n",
       "    .dataframe tbody tr th:only-of-type {\n",
       "        vertical-align: middle;\n",
       "    }\n",
       "\n",
       "    .dataframe tbody tr th {\n",
       "        vertical-align: top;\n",
       "    }\n",
       "\n",
       "    .dataframe thead th {\n",
       "        text-align: right;\n",
       "    }\n",
       "</style>\n",
       "<table border=\"1\" class=\"dataframe\">\n",
       "  <thead>\n",
       "    <tr style=\"text-align: right;\">\n",
       "      <th></th>\n",
       "      <th>userId:token</th>\n",
       "      <th>movieId:token</th>\n",
       "      <th>timestamp:float</th>\n",
       "    </tr>\n",
       "  </thead>\n",
       "  <tbody>\n",
       "    <tr>\n",
       "      <th>0</th>\n",
       "      <td>1</td>\n",
       "      <td>296</td>\n",
       "      <td>1147880044</td>\n",
       "    </tr>\n",
       "    <tr>\n",
       "      <th>1</th>\n",
       "      <td>3</td>\n",
       "      <td>296</td>\n",
       "      <td>1439474476</td>\n",
       "    </tr>\n",
       "    <tr>\n",
       "      <th>2</th>\n",
       "      <td>4</td>\n",
       "      <td>296</td>\n",
       "      <td>1573938898</td>\n",
       "    </tr>\n",
       "    <tr>\n",
       "      <th>3</th>\n",
       "      <td>5</td>\n",
       "      <td>296</td>\n",
       "      <td>830786155</td>\n",
       "    </tr>\n",
       "    <tr>\n",
       "      <th>4</th>\n",
       "      <td>7</td>\n",
       "      <td>296</td>\n",
       "      <td>835444730</td>\n",
       "    </tr>\n",
       "    <tr>\n",
       "      <th>...</th>\n",
       "      <td>...</td>\n",
       "      <td>...</td>\n",
       "      <td>...</td>\n",
       "    </tr>\n",
       "    <tr>\n",
       "      <th>6348455</th>\n",
       "      <td>140195</td>\n",
       "      <td>141882</td>\n",
       "      <td>1441489258</td>\n",
       "    </tr>\n",
       "    <tr>\n",
       "      <th>6348456</th>\n",
       "      <td>142801</td>\n",
       "      <td>139425</td>\n",
       "      <td>1450966216</td>\n",
       "    </tr>\n",
       "    <tr>\n",
       "      <th>6348457</th>\n",
       "      <td>156975</td>\n",
       "      <td>135739</td>\n",
       "      <td>1435166063</td>\n",
       "    </tr>\n",
       "    <tr>\n",
       "      <th>6348458</th>\n",
       "      <td>157975</td>\n",
       "      <td>138448</td>\n",
       "      <td>1541083731</td>\n",
       "    </tr>\n",
       "    <tr>\n",
       "      <th>6348459</th>\n",
       "      <td>158727</td>\n",
       "      <td>196039</td>\n",
       "      <td>1566478558</td>\n",
       "    </tr>\n",
       "  </tbody>\n",
       "</table>\n",
       "<p>6348460 rows × 3 columns</p>\n",
       "</div>"
      ],
      "text/plain": [
       "         userId:token  movieId:token  timestamp:float\n",
       "0                   1            296       1147880044\n",
       "1                   3            296       1439474476\n",
       "2                   4            296       1573938898\n",
       "3                   5            296        830786155\n",
       "4                   7            296        835444730\n",
       "...               ...            ...              ...\n",
       "6348455        140195         141882       1441489258\n",
       "6348456        142801         139425       1450966216\n",
       "6348457        156975         135739       1435166063\n",
       "6348458        157975         138448       1541083731\n",
       "6348459        158727         196039       1566478558\n",
       "\n",
       "[6348460 rows x 3 columns]"
      ]
     },
     "execution_count": 17,
     "metadata": {},
     "output_type": "execute_result"
    }
   ],
   "source": [
    "# 임베딩을 뽑기 위해 train_data.inter 파일 만들기 쉘\n",
    "# df_for_lgcn = merge_df[['userId', 'movieId', 'timestamp']]\n",
    "# df_for_lgcn.columns = ['userId:token', 'movieId:token', 'timestamp:float']\n",
    "# df_for_lgcn"
   ]
  },
  {
   "cell_type": "code",
   "execution_count": 18,
   "metadata": {},
   "outputs": [],
   "source": [
    "# 임베딩을 뽑기 위해 train_data.inter 파일 만들기 쉘\n",
    "# df_for_lgcn.to_csv(\"train_data.inter\",sep='\\t',index=False)"
   ]
  },
  {
   "attachments": {},
   "cell_type": "markdown",
   "metadata": {},
   "source": [
    "위의 인터랙션으로 학습된 모델에서 임베딩 가져오기"
   ]
  },
  {
   "cell_type": "code",
   "execution_count": 19,
   "metadata": {},
   "outputs": [],
   "source": [
    "emb = pd.read_csv(\"/opt/ml/input/BaseLine/emb_list.csv\", header=None)"
   ]
  },
  {
   "cell_type": "code",
   "execution_count": 20,
   "metadata": {},
   "outputs": [
    {
     "data": {
      "text/html": [
       "<div>\n",
       "<style scoped>\n",
       "    .dataframe tbody tr th:only-of-type {\n",
       "        vertical-align: middle;\n",
       "    }\n",
       "\n",
       "    .dataframe tbody tr th {\n",
       "        vertical-align: top;\n",
       "    }\n",
       "\n",
       "    .dataframe thead th {\n",
       "        text-align: right;\n",
       "    }\n",
       "</style>\n",
       "<table border=\"1\" class=\"dataframe\">\n",
       "  <thead>\n",
       "    <tr style=\"text-align: right;\">\n",
       "      <th></th>\n",
       "      <th>0</th>\n",
       "      <th>1</th>\n",
       "      <th>2</th>\n",
       "      <th>3</th>\n",
       "      <th>4</th>\n",
       "      <th>5</th>\n",
       "      <th>6</th>\n",
       "      <th>7</th>\n",
       "      <th>8</th>\n",
       "      <th>9</th>\n",
       "      <th>...</th>\n",
       "      <th>54</th>\n",
       "      <th>55</th>\n",
       "      <th>56</th>\n",
       "      <th>57</th>\n",
       "      <th>58</th>\n",
       "      <th>59</th>\n",
       "      <th>60</th>\n",
       "      <th>61</th>\n",
       "      <th>62</th>\n",
       "      <th>63</th>\n",
       "    </tr>\n",
       "  </thead>\n",
       "  <tbody>\n",
       "    <tr>\n",
       "      <th>0</th>\n",
       "      <td>0.001447</td>\n",
       "      <td>0.003067</td>\n",
       "      <td>0.005185</td>\n",
       "      <td>0.005932</td>\n",
       "      <td>0.001417</td>\n",
       "      <td>-0.004484</td>\n",
       "      <td>-0.006085</td>\n",
       "      <td>0.000977</td>\n",
       "      <td>-0.003611</td>\n",
       "      <td>-0.001321</td>\n",
       "      <td>...</td>\n",
       "      <td>-0.002388</td>\n",
       "      <td>0.005874</td>\n",
       "      <td>0.002494</td>\n",
       "      <td>0.005249</td>\n",
       "      <td>0.005303</td>\n",
       "      <td>-0.005525</td>\n",
       "      <td>-0.004237</td>\n",
       "      <td>0.000277</td>\n",
       "      <td>0.004405</td>\n",
       "      <td>0.005722</td>\n",
       "    </tr>\n",
       "    <tr>\n",
       "      <th>1</th>\n",
       "      <td>-0.411705</td>\n",
       "      <td>0.144978</td>\n",
       "      <td>-0.110031</td>\n",
       "      <td>0.406389</td>\n",
       "      <td>-0.137845</td>\n",
       "      <td>-0.273445</td>\n",
       "      <td>-0.057522</td>\n",
       "      <td>-0.189093</td>\n",
       "      <td>0.191096</td>\n",
       "      <td>0.417126</td>\n",
       "      <td>...</td>\n",
       "      <td>-0.096101</td>\n",
       "      <td>0.524510</td>\n",
       "      <td>-0.455345</td>\n",
       "      <td>-0.061308</td>\n",
       "      <td>-0.138573</td>\n",
       "      <td>0.401053</td>\n",
       "      <td>-0.031066</td>\n",
       "      <td>-0.035163</td>\n",
       "      <td>0.491166</td>\n",
       "      <td>0.507365</td>\n",
       "    </tr>\n",
       "    <tr>\n",
       "      <th>2</th>\n",
       "      <td>-0.089149</td>\n",
       "      <td>0.083583</td>\n",
       "      <td>0.288098</td>\n",
       "      <td>0.189069</td>\n",
       "      <td>0.174910</td>\n",
       "      <td>-0.060023</td>\n",
       "      <td>0.104671</td>\n",
       "      <td>-0.094015</td>\n",
       "      <td>-0.001819</td>\n",
       "      <td>-0.035408</td>\n",
       "      <td>...</td>\n",
       "      <td>0.167791</td>\n",
       "      <td>0.025839</td>\n",
       "      <td>0.004732</td>\n",
       "      <td>0.313755</td>\n",
       "      <td>-0.132171</td>\n",
       "      <td>-0.067872</td>\n",
       "      <td>0.304446</td>\n",
       "      <td>0.225709</td>\n",
       "      <td>-0.031670</td>\n",
       "      <td>-0.478959</td>\n",
       "    </tr>\n",
       "    <tr>\n",
       "      <th>3</th>\n",
       "      <td>0.056450</td>\n",
       "      <td>0.240335</td>\n",
       "      <td>0.130249</td>\n",
       "      <td>0.043207</td>\n",
       "      <td>0.435233</td>\n",
       "      <td>-0.062407</td>\n",
       "      <td>0.319574</td>\n",
       "      <td>-0.178064</td>\n",
       "      <td>0.131424</td>\n",
       "      <td>-0.000510</td>\n",
       "      <td>...</td>\n",
       "      <td>0.252748</td>\n",
       "      <td>0.102753</td>\n",
       "      <td>0.005904</td>\n",
       "      <td>0.349831</td>\n",
       "      <td>-0.462447</td>\n",
       "      <td>-0.180874</td>\n",
       "      <td>0.296328</td>\n",
       "      <td>0.036821</td>\n",
       "      <td>-0.193880</td>\n",
       "      <td>-0.449668</td>\n",
       "    </tr>\n",
       "    <tr>\n",
       "      <th>4</th>\n",
       "      <td>0.199000</td>\n",
       "      <td>0.041364</td>\n",
       "      <td>-0.086331</td>\n",
       "      <td>-0.502220</td>\n",
       "      <td>-0.001410</td>\n",
       "      <td>-0.123295</td>\n",
       "      <td>0.084441</td>\n",
       "      <td>-0.017350</td>\n",
       "      <td>0.628859</td>\n",
       "      <td>0.200379</td>\n",
       "      <td>...</td>\n",
       "      <td>0.021379</td>\n",
       "      <td>-0.105530</td>\n",
       "      <td>-0.073088</td>\n",
       "      <td>-0.191528</td>\n",
       "      <td>0.208807</td>\n",
       "      <td>0.438959</td>\n",
       "      <td>-0.169127</td>\n",
       "      <td>0.265380</td>\n",
       "      <td>0.135667</td>\n",
       "      <td>-0.064249</td>\n",
       "    </tr>\n",
       "    <tr>\n",
       "      <th>...</th>\n",
       "      <td>...</td>\n",
       "      <td>...</td>\n",
       "      <td>...</td>\n",
       "      <td>...</td>\n",
       "      <td>...</td>\n",
       "      <td>...</td>\n",
       "      <td>...</td>\n",
       "      <td>...</td>\n",
       "      <td>...</td>\n",
       "      <td>...</td>\n",
       "      <td>...</td>\n",
       "      <td>...</td>\n",
       "      <td>...</td>\n",
       "      <td>...</td>\n",
       "      <td>...</td>\n",
       "      <td>...</td>\n",
       "      <td>...</td>\n",
       "      <td>...</td>\n",
       "      <td>...</td>\n",
       "      <td>...</td>\n",
       "      <td>...</td>\n",
       "    </tr>\n",
       "    <tr>\n",
       "      <th>162887</th>\n",
       "      <td>2.302095</td>\n",
       "      <td>-2.905504</td>\n",
       "      <td>-1.816259</td>\n",
       "      <td>-1.881941</td>\n",
       "      <td>-2.781708</td>\n",
       "      <td>2.347564</td>\n",
       "      <td>-2.816595</td>\n",
       "      <td>2.409938</td>\n",
       "      <td>-2.926673</td>\n",
       "      <td>-0.902084</td>\n",
       "      <td>...</td>\n",
       "      <td>-2.884155</td>\n",
       "      <td>-2.515359</td>\n",
       "      <td>2.420408</td>\n",
       "      <td>-1.125737</td>\n",
       "      <td>2.810323</td>\n",
       "      <td>-2.496958</td>\n",
       "      <td>-2.335555</td>\n",
       "      <td>-2.067235</td>\n",
       "      <td>-2.270148</td>\n",
       "      <td>2.348064</td>\n",
       "    </tr>\n",
       "    <tr>\n",
       "      <th>162888</th>\n",
       "      <td>2.340808</td>\n",
       "      <td>-2.969501</td>\n",
       "      <td>-1.949137</td>\n",
       "      <td>-1.458936</td>\n",
       "      <td>-2.943861</td>\n",
       "      <td>2.713679</td>\n",
       "      <td>-3.157698</td>\n",
       "      <td>2.682608</td>\n",
       "      <td>-2.873862</td>\n",
       "      <td>-0.891256</td>\n",
       "      <td>...</td>\n",
       "      <td>-2.716762</td>\n",
       "      <td>-2.488197</td>\n",
       "      <td>2.484194</td>\n",
       "      <td>-1.056008</td>\n",
       "      <td>2.777972</td>\n",
       "      <td>-3.001619</td>\n",
       "      <td>-2.234762</td>\n",
       "      <td>-2.223665</td>\n",
       "      <td>-2.497193</td>\n",
       "      <td>2.323746</td>\n",
       "    </tr>\n",
       "    <tr>\n",
       "      <th>162889</th>\n",
       "      <td>2.279299</td>\n",
       "      <td>-2.669130</td>\n",
       "      <td>-1.917689</td>\n",
       "      <td>-1.545815</td>\n",
       "      <td>-2.967257</td>\n",
       "      <td>2.366077</td>\n",
       "      <td>-2.914693</td>\n",
       "      <td>2.435194</td>\n",
       "      <td>-2.950706</td>\n",
       "      <td>-0.807945</td>\n",
       "      <td>...</td>\n",
       "      <td>-2.934708</td>\n",
       "      <td>-2.251430</td>\n",
       "      <td>2.338023</td>\n",
       "      <td>-1.393874</td>\n",
       "      <td>2.737505</td>\n",
       "      <td>-2.639929</td>\n",
       "      <td>-2.163454</td>\n",
       "      <td>-2.297381</td>\n",
       "      <td>-2.305760</td>\n",
       "      <td>2.474304</td>\n",
       "    </tr>\n",
       "    <tr>\n",
       "      <th>162890</th>\n",
       "      <td>2.454712</td>\n",
       "      <td>-2.638638</td>\n",
       "      <td>-2.042677</td>\n",
       "      <td>-1.922691</td>\n",
       "      <td>-2.767234</td>\n",
       "      <td>2.261418</td>\n",
       "      <td>-2.796830</td>\n",
       "      <td>2.393147</td>\n",
       "      <td>-2.962508</td>\n",
       "      <td>-0.812445</td>\n",
       "      <td>...</td>\n",
       "      <td>-2.680679</td>\n",
       "      <td>-2.329730</td>\n",
       "      <td>2.289745</td>\n",
       "      <td>-1.344935</td>\n",
       "      <td>2.666235</td>\n",
       "      <td>-2.521540</td>\n",
       "      <td>-2.360548</td>\n",
       "      <td>-2.150203</td>\n",
       "      <td>-2.281486</td>\n",
       "      <td>2.378356</td>\n",
       "    </tr>\n",
       "    <tr>\n",
       "      <th>162891</th>\n",
       "      <td>1.786129</td>\n",
       "      <td>-2.176023</td>\n",
       "      <td>-1.777266</td>\n",
       "      <td>-1.188527</td>\n",
       "      <td>-2.460710</td>\n",
       "      <td>1.938772</td>\n",
       "      <td>-2.560283</td>\n",
       "      <td>2.058716</td>\n",
       "      <td>-2.415039</td>\n",
       "      <td>-0.671856</td>\n",
       "      <td>...</td>\n",
       "      <td>-2.340959</td>\n",
       "      <td>-1.786310</td>\n",
       "      <td>1.867769</td>\n",
       "      <td>-1.082888</td>\n",
       "      <td>2.059921</td>\n",
       "      <td>-2.153872</td>\n",
       "      <td>-1.822646</td>\n",
       "      <td>-1.995801</td>\n",
       "      <td>-1.719413</td>\n",
       "      <td>2.220159</td>\n",
       "    </tr>\n",
       "  </tbody>\n",
       "</table>\n",
       "<p>162892 rows × 64 columns</p>\n",
       "</div>"
      ],
      "text/plain": [
       "              0         1         2         3         4         5         6   \\\n",
       "0       0.001447  0.003067  0.005185  0.005932  0.001417 -0.004484 -0.006085   \n",
       "1      -0.411705  0.144978 -0.110031  0.406389 -0.137845 -0.273445 -0.057522   \n",
       "2      -0.089149  0.083583  0.288098  0.189069  0.174910 -0.060023  0.104671   \n",
       "3       0.056450  0.240335  0.130249  0.043207  0.435233 -0.062407  0.319574   \n",
       "4       0.199000  0.041364 -0.086331 -0.502220 -0.001410 -0.123295  0.084441   \n",
       "...          ...       ...       ...       ...       ...       ...       ...   \n",
       "162887  2.302095 -2.905504 -1.816259 -1.881941 -2.781708  2.347564 -2.816595   \n",
       "162888  2.340808 -2.969501 -1.949137 -1.458936 -2.943861  2.713679 -3.157698   \n",
       "162889  2.279299 -2.669130 -1.917689 -1.545815 -2.967257  2.366077 -2.914693   \n",
       "162890  2.454712 -2.638638 -2.042677 -1.922691 -2.767234  2.261418 -2.796830   \n",
       "162891  1.786129 -2.176023 -1.777266 -1.188527 -2.460710  1.938772 -2.560283   \n",
       "\n",
       "              7         8         9   ...        54        55        56  \\\n",
       "0       0.000977 -0.003611 -0.001321  ... -0.002388  0.005874  0.002494   \n",
       "1      -0.189093  0.191096  0.417126  ... -0.096101  0.524510 -0.455345   \n",
       "2      -0.094015 -0.001819 -0.035408  ...  0.167791  0.025839  0.004732   \n",
       "3      -0.178064  0.131424 -0.000510  ...  0.252748  0.102753  0.005904   \n",
       "4      -0.017350  0.628859  0.200379  ...  0.021379 -0.105530 -0.073088   \n",
       "...          ...       ...       ...  ...       ...       ...       ...   \n",
       "162887  2.409938 -2.926673 -0.902084  ... -2.884155 -2.515359  2.420408   \n",
       "162888  2.682608 -2.873862 -0.891256  ... -2.716762 -2.488197  2.484194   \n",
       "162889  2.435194 -2.950706 -0.807945  ... -2.934708 -2.251430  2.338023   \n",
       "162890  2.393147 -2.962508 -0.812445  ... -2.680679 -2.329730  2.289745   \n",
       "162891  2.058716 -2.415039 -0.671856  ... -2.340959 -1.786310  1.867769   \n",
       "\n",
       "              57        58        59        60        61        62        63  \n",
       "0       0.005249  0.005303 -0.005525 -0.004237  0.000277  0.004405  0.005722  \n",
       "1      -0.061308 -0.138573  0.401053 -0.031066 -0.035163  0.491166  0.507365  \n",
       "2       0.313755 -0.132171 -0.067872  0.304446  0.225709 -0.031670 -0.478959  \n",
       "3       0.349831 -0.462447 -0.180874  0.296328  0.036821 -0.193880 -0.449668  \n",
       "4      -0.191528  0.208807  0.438959 -0.169127  0.265380  0.135667 -0.064249  \n",
       "...          ...       ...       ...       ...       ...       ...       ...  \n",
       "162887 -1.125737  2.810323 -2.496958 -2.335555 -2.067235 -2.270148  2.348064  \n",
       "162888 -1.056008  2.777972 -3.001619 -2.234762 -2.223665 -2.497193  2.323746  \n",
       "162889 -1.393874  2.737505 -2.639929 -2.163454 -2.297381 -2.305760  2.474304  \n",
       "162890 -1.344935  2.666235 -2.521540 -2.360548 -2.150203 -2.281486  2.378356  \n",
       "162891 -1.082888  2.059921 -2.153872 -1.822646 -1.995801 -1.719413  2.220159  \n",
       "\n",
       "[162892 rows x 64 columns]"
      ]
     },
     "execution_count": 20,
     "metadata": {},
     "output_type": "execute_result"
    }
   ],
   "source": [
    "emb"
   ]
  },
  {
   "cell_type": "code",
   "execution_count": 21,
   "metadata": {},
   "outputs": [],
   "source": [
    "emb_list = emb.values.tolist()"
   ]
  },
  {
   "cell_type": "code",
   "execution_count": 22,
   "metadata": {},
   "outputs": [
    {
     "data": {
      "text/plain": [
       "162892"
      ]
     },
     "execution_count": 22,
     "metadata": {},
     "output_type": "execute_result"
    }
   ],
   "source": [
    "len(emb_list)"
   ]
  },
  {
   "attachments": {},
   "cell_type": "markdown",
   "metadata": {},
   "source": [
    "불러온 임베딩 벡터를 각각 아이템 임베딩 벡터, 유저 임베딩 벡터로 나눠주기"
   ]
  },
  {
   "cell_type": "code",
   "execution_count": 23,
   "metadata": {},
   "outputs": [],
   "source": [
    "userId_len = merge_df['userId'].nunique()"
   ]
  },
  {
   "cell_type": "code",
   "execution_count": 24,
   "metadata": {},
   "outputs": [],
   "source": [
    "user_vecs = emb_list[1:userId_len+1]\n",
    "item_vecs = emb_list[userId_len+2:]"
   ]
  },
  {
   "cell_type": "code",
   "execution_count": 25,
   "metadata": {},
   "outputs": [
    {
     "data": {
      "text/plain": [
       "161859"
      ]
     },
     "execution_count": 25,
     "metadata": {},
     "output_type": "execute_result"
    }
   ],
   "source": [
    "len(user_vecs)"
   ]
  },
  {
   "cell_type": "code",
   "execution_count": 26,
   "metadata": {},
   "outputs": [
    {
     "data": {
      "text/plain": [
       "1031"
      ]
     },
     "execution_count": 26,
     "metadata": {},
     "output_type": "execute_result"
    }
   ],
   "source": [
    "len(item_vecs)"
   ]
  },
  {
   "attachments": {},
   "cell_type": "markdown",
   "metadata": {},
   "source": [
    "annoy"
   ]
  },
  {
   "cell_type": "code",
   "execution_count": 28,
   "metadata": {},
   "outputs": [],
   "source": [
    "import annoy"
   ]
  },
  {
   "cell_type": "code",
   "execution_count": 29,
   "metadata": {},
   "outputs": [],
   "source": [
    "embedding_size = 64\n",
    "similar_items_index = annoy.AnnoyIndex(embedding_size,'angular')"
   ]
  },
  {
   "cell_type": "code",
   "execution_count": 30,
   "metadata": {},
   "outputs": [],
   "source": [
    "merge_df['movieidx'] = merge_df['movieId'].map(item2idx)"
   ]
  },
  {
   "cell_type": "code",
   "execution_count": 32,
   "metadata": {},
   "outputs": [
    {
     "data": {
      "text/plain": [
       "True"
      ]
     },
     "execution_count": 32,
     "metadata": {},
     "output_type": "execute_result"
    }
   ],
   "source": [
    "n_trees = 40\n",
    "for idx in merge_df['movieidx']:\n",
    "    similar_items_index.add_item(idx2item[idx],item_vecs[idx]) \n",
    "similar_items_index.build(n_trees)"
   ]
  },
  {
   "cell_type": "code",
   "execution_count": 33,
   "metadata": {},
   "outputs": [
    {
     "data": {
      "text/plain": [
       "True"
      ]
     },
     "execution_count": 33,
     "metadata": {},
     "output_type": "execute_result"
    }
   ],
   "source": [
    "similar_items_index.save(\"similarity\")"
   ]
  },
  {
   "cell_type": "code",
   "execution_count": 36,
   "metadata": {},
   "outputs": [],
   "source": [
    "def similar_item(id,N):\n",
    "    result = []\n",
    "    neighbour,dist = similar_items_index.get_nns_by_item(id, N, include_distances=True)\n",
    "    for i in range(0,N):\n",
    "        result.append(merge_df[merge_df['movieId']==neighbour[i]]['Contents'].values[0])\n",
    "    return result[1:N]"
   ]
  },
  {
   "cell_type": "code",
   "execution_count": 37,
   "metadata": {},
   "outputs": [],
   "source": [
    "movieId_list = merge_df['movieId'].unique()\n",
    "result = similar_item(movieId_list[1],10)"
   ]
  },
  {
   "cell_type": "code",
   "execution_count": 38,
   "metadata": {},
   "outputs": [
    {
     "data": {
      "text/plain": [
       "79672    The Break-Up (2006)\n",
       "79673    The Break-Up (2006)\n",
       "79674    The Break-Up (2006)\n",
       "79675    The Break-Up (2006)\n",
       "79676    The Break-Up (2006)\n",
       "                ...         \n",
       "92301    The Break-Up (2006)\n",
       "92302    The Break-Up (2006)\n",
       "92303    The Break-Up (2006)\n",
       "92304    The Break-Up (2006)\n",
       "92305    The Break-Up (2006)\n",
       "Name: Contents, Length: 12634, dtype: object"
      ]
     },
     "execution_count": 38,
     "metadata": {},
     "output_type": "execute_result"
    }
   ],
   "source": [
    "merge_df[merge_df['movieId'] == movieId_list[1]]['Contents']"
   ]
  },
  {
   "cell_type": "code",
   "execution_count": 39,
   "metadata": {},
   "outputs": [
    {
     "data": {
      "text/plain": [
       "['Amadeus (1984)',\n",
       " 'A Clockwork Orange (1971)',\n",
       " 'Gattaca (1997)',\n",
       " 'A Few Good Men (1992)',\n",
       " 'Cinema Paradiso (1988)',\n",
       " 'The Man from Earth (2007)',\n",
       " 'Reservoir Dogs (1992)',\n",
       " 'High Fidelity (2000)',\n",
       " 'Contact (1997)']"
      ]
     },
     "execution_count": 39,
     "metadata": {},
     "output_type": "execute_result"
    }
   ],
   "source": [
    "result"
   ]
  }
 ],
 "metadata": {
  "kernelspec": {
   "display_name": "Python 3",
   "language": "python",
   "name": "python3"
  },
  "language_info": {
   "codemirror_mode": {
    "name": "ipython",
    "version": 3
   },
   "file_extension": ".py",
   "mimetype": "text/x-python",
   "name": "python",
   "nbconvert_exporter": "python",
   "pygments_lexer": "ipython3",
   "version": "3.8.5"
  },
  "orig_nbformat": 4,
  "vscode": {
   "interpreter": {
    "hash": "d4d1e4263499bec80672ea0156c357c1ee493ec2b1c70f0acce89fc37c4a6abe"
   }
  }
 },
 "nbformat": 4,
 "nbformat_minor": 2
}
