{
 "cells": [
  {
   "cell_type": "code",
   "execution_count": 6,
   "id": "b1f81227",
   "metadata": {
    "ExecuteTime": {
     "end_time": "2023-01-16T06:52:49.351433Z",
     "start_time": "2023-01-16T06:52:49.331047Z"
    }
   },
   "outputs": [],
   "source": [
    "\"\"\"Welcome to Pynecone! This file create a counter app.\"\"\"\n",
    "import pynecone as pc\n",
    "import random\n",
    "from fastapi import FastAPI, Form, Request\n",
    "from fastapi.templating import Jinja2Templates\n",
    "\n",
    "import uvicorn"
   ]
  },
  {
   "cell_type": "code",
   "execution_count": 1,
   "id": "bef9dfc7",
   "metadata": {
    "ExecuteTime": {
     "end_time": "2023-01-16T06:51:57.559206Z",
     "start_time": "2023-01-16T06:51:56.172737Z"
    }
   },
   "outputs": [],
   "source": [
    "class State(pc.State):\n",
    "    \"\"\"The app state.\"\"\"\n",
    "\n",
    "    count = 0\n",
    "\n",
    "    def increment(self):\n",
    "        \"\"\"Increment the count.\"\"\"\n",
    "        self.count += 1\n",
    "\n",
    "    def decrement(self):\n",
    "        \"\"\"Decrement the count.\"\"\"\n",
    "        self.count -= 1\n",
    "\n",
    "    def random(self):\n",
    "        \"\"\"Randomize the count.\"\"\"\n",
    "        self.count = random.randint(0, 100)\n",
    "\n",
    "\n",
    "def index():\n",
    "    \"\"\"The main view.\"\"\"\n",
    "    return pc.center(\n",
    "        pc.vstack(\n",
    "            pc.heading(State.count),\n",
    "            pc.hstack(\n",
    "                pc.button(\"Decrement\", on_click=State.decrement, color_scheme=\"red\"),\n",
    "                pc.button(\n",
    "                    \"Randomize\",\n",
    "                    on_click=State.random,\n",
    "                    background_image=\"linear-gradient(90deg, rgba(255,0,0,1) 0%, rgba(0,176,34,1) 100%)\",\n",
    "                    color=\"white\",\n",
    "                ),\n",
    "                pc.button(\"Increment\", on_click=State.increment, color_scheme=\"green\"),\n",
    "            ),\n",
    "            padding=\"1em\",\n",
    "            bg=\"#ededed\",\n",
    "            border_radius=\"1em\",\n",
    "            box_shadow=\"lg\",\n",
    "        ),\n",
    "        padding_y=\"5em\",\n",
    "        font_size=\"2em\",\n",
    "        text_align=\"center\",\n",
    "    )"
   ]
  },
  {
   "cell_type": "code",
   "execution_count": 2,
   "id": "97745fb1",
   "metadata": {
    "ExecuteTime": {
     "end_time": "2023-01-16T06:52:00.993616Z",
     "start_time": "2023-01-16T06:52:00.989197Z"
    }
   },
   "outputs": [],
   "source": [
    "# Pynecone App\n",
    "app = pc.App(state=State)\n",
    "\n",
    "# FastAPI App\n",
    "app2 = FastAPI()\n",
    "templates = Jinja2Templates(directory=\"../00_simple_mbti/\")"
   ]
  },
  {
   "cell_type": "code",
   "execution_count": 11,
   "id": "74fe09dc",
   "metadata": {
    "ExecuteTime": {
     "end_time": "2023-01-16T13:54:40.473988Z",
     "start_time": "2023-01-16T13:54:40.469841Z"
    }
   },
   "outputs": [
    {
     "data": {
      "text/plain": [
       "fastapi.applications.FastAPI"
      ]
     },
     "execution_count": 11,
     "metadata": {},
     "output_type": "execute_result"
    }
   ],
   "source": [
    "type(app.api)"
   ]
  },
  {
   "cell_type": "code",
   "execution_count": 8,
   "id": "97132c04",
   "metadata": {
    "ExecuteTime": {
     "end_time": "2023-01-16T06:52:54.017868Z",
     "start_time": "2023-01-16T06:52:54.013509Z"
    }
   },
   "outputs": [
    {
     "data": {
      "text/plain": [
       "fastapi.applications.FastAPI"
      ]
     },
     "execution_count": 8,
     "metadata": {},
     "output_type": "execute_result"
    }
   ],
   "source": [
    "type(app2)"
   ]
  },
  {
   "cell_type": "code",
   "execution_count": 4,
   "id": "0fcc65e3",
   "metadata": {
    "ExecuteTime": {
     "end_time": "2023-01-16T06:52:06.474947Z",
     "start_time": "2023-01-16T06:52:06.471242Z"
    }
   },
   "outputs": [
    {
     "data": {
      "text/plain": [
       "pynecone.app.App"
      ]
     },
     "execution_count": 4,
     "metadata": {},
     "output_type": "execute_result"
    }
   ],
   "source": [
    "type(app)"
   ]
  },
  {
   "cell_type": "code",
   "execution_count": null,
   "id": "284bc125",
   "metadata": {},
   "outputs": [],
   "source": [
    "app.add_page(index, title=\"Counter\")\n",
    "app.compile()"
   ]
  }
 ],
 "metadata": {
  "kernelspec": {
   "display_name": "Python 3 (ipykernel)",
   "language": "python",
   "name": "python3"
  },
  "language_info": {
   "codemirror_mode": {
    "name": "ipython",
    "version": 3
   },
   "file_extension": ".py",
   "mimetype": "text/x-python",
   "name": "python",
   "nbconvert_exporter": "python",
   "pygments_lexer": "ipython3",
   "version": "3.8.5"
  },
  "toc": {
   "base_numbering": 1,
   "nav_menu": {},
   "number_sections": true,
   "sideBar": true,
   "skip_h1_title": false,
   "title_cell": "Table of Contents",
   "title_sidebar": "Contents",
   "toc_cell": false,
   "toc_position": {},
   "toc_section_display": true,
   "toc_window_display": false
  }
 },
 "nbformat": 4,
 "nbformat_minor": 5
}
