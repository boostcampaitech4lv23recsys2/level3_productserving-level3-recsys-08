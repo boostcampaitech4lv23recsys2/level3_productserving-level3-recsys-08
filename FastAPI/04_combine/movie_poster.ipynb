{
 "cells": [
  {
   "cell_type": "code",
   "execution_count": 72,
   "id": "79f9f4ae",
   "metadata": {
    "ExecuteTime": {
     "end_time": "2023-01-24T19:09:00.510929Z",
     "start_time": "2023-01-24T19:09:00.508289Z"
    }
   },
   "outputs": [],
   "source": [
    "import pandas as pd"
   ]
  },
  {
   "cell_type": "code",
   "execution_count": 9,
   "id": "37169d03",
   "metadata": {
    "ExecuteTime": {
     "end_time": "2023-01-24T18:11:41.455635Z",
     "start_time": "2023-01-24T18:11:41.337317Z"
    }
   },
   "outputs": [
    {
     "name": "stdout",
     "output_type": "stream",
     "text": [
      "__pycache__\t   enneagram.html   main.py\t\tresult.html\r\n",
      "character.html\t   enneagram2.html  mbti.html\t\tstatic\r\n",
      "engram_test.ipynb  enneagram3.html  movie.html\r\n",
      "enn.csv\t\t   main.html\t    movie_poster.ipynb\r\n"
     ]
    }
   ],
   "source": [
    "!ls"
   ]
  },
  {
   "cell_type": "code",
   "execution_count": 3,
   "id": "76188742",
   "metadata": {
    "ExecuteTime": {
     "end_time": "2023-01-24T18:11:02.472733Z",
     "start_time": "2023-01-24T18:11:02.454244Z"
    }
   },
   "outputs": [],
   "source": [
    "img_file_list = !ls static/img/"
   ]
  },
  {
   "cell_type": "code",
   "execution_count": 4,
   "id": "5d76b8a1",
   "metadata": {
    "ExecuteTime": {
     "end_time": "2023-01-24T18:11:06.420748Z",
     "start_time": "2023-01-24T18:11:06.409901Z"
    }
   },
   "outputs": [
    {
     "data": {
      "text/plain": [
       "3229"
      ]
     },
     "execution_count": 4,
     "metadata": {},
     "output_type": "execute_result"
    }
   ],
   "source": [
    "len(img_file_list)"
   ]
  },
  {
   "cell_type": "code",
   "execution_count": 7,
   "id": "be43c8d8",
   "metadata": {
    "ExecuteTime": {
     "end_time": "2023-01-24T18:11:27.690565Z",
     "start_time": "2023-01-24T18:11:27.685679Z"
    }
   },
   "outputs": [],
   "source": [
    "movie_id_list = [int(i.split('_')[0]) for i in img_file_list]"
   ]
  },
  {
   "cell_type": "code",
   "execution_count": 13,
   "id": "515c9f50",
   "metadata": {
    "ExecuteTime": {
     "end_time": "2023-01-24T18:12:37.001535Z",
     "start_time": "2023-01-24T18:12:36.993705Z"
    }
   },
   "outputs": [
    {
     "data": {
      "text/plain": [
       "(15926, 6)"
      ]
     },
     "execution_count": 13,
     "metadata": {},
     "output_type": "execute_result"
    }
   ],
   "source": [
    "df[df.movieId.isin(movie_id_list)].shape"
   ]
  },
  {
   "cell_type": "code",
   "execution_count": 16,
   "id": "bba1c937",
   "metadata": {
    "ExecuteTime": {
     "end_time": "2023-01-24T18:16:58.367504Z",
     "start_time": "2023-01-24T18:16:58.360934Z"
    }
   },
   "outputs": [],
   "source": [
    "movieId_to_posterfile = dict(zip(movie_id_list,img_file_list))"
   ]
  },
  {
   "cell_type": "code",
   "execution_count": 7,
   "id": "9066348d",
   "metadata": {
    "ExecuteTime": {
     "end_time": "2023-01-24T18:24:48.469955Z",
     "start_time": "2023-01-24T18:24:48.467222Z"
    }
   },
   "outputs": [],
   "source": [
    "import pickle"
   ]
  },
  {
   "cell_type": "code",
   "execution_count": 24,
   "id": "11221ecd",
   "metadata": {
    "ExecuteTime": {
     "end_time": "2023-01-24T18:41:56.209572Z",
     "start_time": "2023-01-24T18:41:56.205576Z"
    }
   },
   "outputs": [],
   "source": [
    "with open('/opt/ml/project/Utils/Pickle/movieid_to_poster_file.pickle','wb') as f:\n",
    "    pickle.dump(movieId_to_posterfile, f)"
   ]
  },
  {
   "cell_type": "code",
   "execution_count": 25,
   "id": "3f9c551c",
   "metadata": {
    "ExecuteTime": {
     "end_time": "2023-01-24T18:41:58.027800Z",
     "start_time": "2023-01-24T18:41:58.023207Z"
    }
   },
   "outputs": [],
   "source": [
    "movieId2poster_path='/opt/ml/project/Utils/Pickle/movieid_to_poster_file.pickle'\n",
    "with open(movieId2poster_path,'rb') as f:\n",
    "    movieId_to_posterfile = pickle.load(f)"
   ]
  },
  {
   "cell_type": "code",
   "execution_count": 11,
   "id": "fee55f60",
   "metadata": {
    "ExecuteTime": {
     "end_time": "2023-01-24T18:24:58.545574Z",
     "start_time": "2023-01-24T18:24:58.543099Z"
    }
   },
   "outputs": [],
   "source": [
    "posterfile_list = list(movieId_to_posterfile.values())"
   ]
  },
  {
   "cell_type": "code",
   "execution_count": 1,
   "id": "a1672ca5",
   "metadata": {
    "ExecuteTime": {
     "end_time": "2023-01-24T18:24:34.636908Z",
     "start_time": "2023-01-24T18:24:34.628385Z"
    }
   },
   "outputs": [],
   "source": [
    "import random"
   ]
  },
  {
   "cell_type": "code",
   "execution_count": 3,
   "id": "e8fcdd73",
   "metadata": {
    "ExecuteTime": {
     "end_time": "2023-01-24T18:24:37.405795Z",
     "start_time": "2023-01-24T18:24:37.403192Z"
    }
   },
   "outputs": [],
   "source": [
    "random.seed(42)"
   ]
  },
  {
   "cell_type": "code",
   "execution_count": 16,
   "id": "ccaf0caa",
   "metadata": {
    "ExecuteTime": {
     "end_time": "2023-01-24T18:25:01.894835Z",
     "start_time": "2023-01-24T18:25:01.890758Z"
    }
   },
   "outputs": [
    {
     "data": {
      "text/plain": [
       "['68237_moon.png',\n",
       " '133832_the_green_inferno.png',\n",
       " '107707_dhoom.png',\n",
       " '88405_friends_with_benefits.png',\n",
       " '190781_the_house_that_jack_built.png',\n",
       " '179815_roman_j_israel_esq.png',\n",
       " '173147_my_stepdaughter.png',\n",
       " '142184_silenced.png',\n",
       " '8738_a_woman_is_a_woman.png',\n",
       " '132046_tomorrowland.png',\n",
       " '7371_dogville.png',\n",
       " '88179_one_day.png',\n",
       " '51077_ghost_rider.png',\n",
       " '127084_suicide_room.png',\n",
       " '588_aladdin.png',\n",
       " '31524_the_bitter_tears_of_petra_von_kant.png',\n",
       " '109607_in_fear.png',\n",
       " '1091_weekend_at_bernies.png',\n",
       " '1287_benhur.png',\n",
       " '171611_baahubali.png']"
      ]
     },
     "execution_count": 16,
     "metadata": {},
     "output_type": "execute_result"
    }
   ],
   "source": [
    "random.seed(42)\n",
    "random.sample(posterfile_list,20)"
   ]
  }
 ],
 "metadata": {
  "kernelspec": {
   "display_name": "Python 3 (ipykernel)",
   "language": "python",
   "name": "python3"
  },
  "language_info": {
   "codemirror_mode": {
    "name": "ipython",
    "version": 3
   },
   "file_extension": ".py",
   "mimetype": "text/x-python",
   "name": "python",
   "nbconvert_exporter": "python",
   "pygments_lexer": "ipython3",
   "version": "3.8.5"
  },
  "toc": {
   "base_numbering": 1,
   "nav_menu": {},
   "number_sections": true,
   "sideBar": true,
   "skip_h1_title": false,
   "title_cell": "Table of Contents",
   "title_sidebar": "Contents",
   "toc_cell": false,
   "toc_position": {},
   "toc_section_display": true,
   "toc_window_display": false
  }
 },
 "nbformat": 4,
 "nbformat_minor": 5
}
