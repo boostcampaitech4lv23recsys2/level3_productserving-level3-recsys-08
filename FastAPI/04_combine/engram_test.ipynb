{
 "cells": [
  {
   "cell_type": "code",
   "execution_count": 24,
   "id": "c40a7465",
   "metadata": {
    "ExecuteTime": {
     "end_time": "2023-01-25T02:54:10.424446Z",
     "start_time": "2023-01-25T02:54:10.421782Z"
    }
   },
   "outputs": [],
   "source": [
    "import pandas as pd"
   ]
  },
  {
   "cell_type": "code",
   "execution_count": 1,
   "id": "8924f417",
   "metadata": {
    "ExecuteTime": {
     "end_time": "2023-01-21T09:01:05.886730Z",
     "start_time": "2023-01-21T09:01:05.878034Z"
    }
   },
   "outputs": [],
   "source": [
    "engram=['2','B']"
   ]
  },
  {
   "cell_type": "code",
   "execution_count": 3,
   "id": "0d0c9a76",
   "metadata": {
    "ExecuteTime": {
     "end_time": "2023-01-21T09:01:41.481918Z",
     "start_time": "2023-01-21T09:01:41.478647Z"
    }
   },
   "outputs": [],
   "source": [
    "engram_crite = ''.join(engram)"
   ]
  },
  {
   "cell_type": "code",
   "execution_count": 12,
   "id": "944e3664",
   "metadata": {
    "ExecuteTime": {
     "end_time": "2023-01-21T09:16:32.947465Z",
     "start_time": "2023-01-21T09:16:32.941777Z"
    }
   },
   "outputs": [],
   "source": [
    "df = pd.read_csv('enn.csv')"
   ]
  },
  {
   "cell_type": "code",
   "execution_count": 21,
   "id": "7c01853e",
   "metadata": {
    "ExecuteTime": {
     "end_time": "2023-01-21T09:22:40.543155Z",
     "start_time": "2023-01-21T09:22:40.532841Z"
    }
   },
   "outputs": [
    {
     "data": {
      "text/html": [
       "<div>\n",
       "<style scoped>\n",
       "    .dataframe tbody tr th:only-of-type {\n",
       "        vertical-align: middle;\n",
       "    }\n",
       "\n",
       "    .dataframe tbody tr th {\n",
       "        vertical-align: top;\n",
       "    }\n",
       "\n",
       "    .dataframe thead th {\n",
       "        text-align: right;\n",
       "    }\n",
       "</style>\n",
       "<table border=\"1\" class=\"dataframe\">\n",
       "  <thead>\n",
       "    <tr style=\"text-align: right;\">\n",
       "      <th></th>\n",
       "      <th>question</th>\n",
       "      <th>three_letter</th>\n",
       "    </tr>\n",
       "  </thead>\n",
       "  <tbody>\n",
       "    <tr>\n",
       "      <th>0</th>\n",
       "      <td>이상주의적이고, 학구적이며, 차분하고, 특히 내향적이다.</td>\n",
       "      <td>1w9</td>\n",
       "    </tr>\n",
       "    <tr>\n",
       "      <th>1</th>\n",
       "      <td>순수이상보다는 현실의 개선을 투구하고, 열정적이며, 관계맺기를 좋아한다.</td>\n",
       "      <td>1w2</td>\n",
       "    </tr>\n",
       "  </tbody>\n",
       "</table>\n",
       "</div>"
      ],
      "text/plain": [
       "                                   question three_letter\n",
       "0           이상주의적이고, 학구적이며, 차분하고, 특히 내향적이다.          1w9\n",
       "1  순수이상보다는 현실의 개선을 투구하고, 열정적이며, 관계맺기를 좋아한다.          1w2"
      ]
     },
     "execution_count": 21,
     "metadata": {},
     "output_type": "execute_result"
    }
   ],
   "source": [
    "add_quest = df[df.base==engram_crite][['question','three_letter']].copy()\n",
    "add_quest"
   ]
  },
  {
   "cell_type": "code",
   "execution_count": 23,
   "id": "0c3a45ff",
   "metadata": {
    "ExecuteTime": {
     "end_time": "2023-01-21T09:22:50.057034Z",
     "start_time": "2023-01-21T09:22:50.051931Z"
    }
   },
   "outputs": [
    {
     "data": {
      "text/plain": [
       "[{'question': '이상주의적이고, 학구적이며, 차분하고, 특히 내향적이다.', 'three_letter': '1w9'},\n",
       " {'question': '순수이상보다는 현실의 개선을 투구하고, 열정적이며, 관계맺기를 좋아한다.',\n",
       "  'three_letter': '1w2'}]"
      ]
     },
     "execution_count": 23,
     "metadata": {},
     "output_type": "execute_result"
    }
   ],
   "source": [
    "add_quest.to_dict(orient='records')"
   ]
  },
  {
   "cell_type": "code",
   "execution_count": 16,
   "id": "e1f16736",
   "metadata": {
    "ExecuteTime": {
     "end_time": "2023-01-21T09:18:01.684211Z",
     "start_time": "2023-01-21T09:18:01.678846Z"
    }
   },
   "outputs": [
    {
     "data": {
      "text/plain": [
       "['이상주의적이고, 학구적이며, 차분하고, 특히 내향적이다.', '순수이상보다는 현실의 개선을 투구하고, 열정적이며, 관계맺기를 좋아한다.']"
      ]
     },
     "execution_count": 16,
     "metadata": {},
     "output_type": "execute_result"
    }
   ],
   "source": [
    "df[df.base==engram_crite].question.tolist()"
   ]
  },
  {
   "cell_type": "code",
   "execution_count": 25,
   "id": "7d153fba",
   "metadata": {
    "ExecuteTime": {
     "end_time": "2023-01-25T02:54:17.729825Z",
     "start_time": "2023-01-25T02:54:17.724410Z"
    }
   },
   "outputs": [],
   "source": [
    "df = pd.read_csv('enn.csv')"
   ]
  },
  {
   "cell_type": "code",
   "execution_count": 26,
   "id": "937f2114",
   "metadata": {
    "ExecuteTime": {
     "end_time": "2023-01-25T02:54:18.509207Z",
     "start_time": "2023-01-25T02:54:18.500793Z"
    }
   },
   "outputs": [
    {
     "data": {
      "text/html": [
       "<div>\n",
       "<style scoped>\n",
       "    .dataframe tbody tr th:only-of-type {\n",
       "        vertical-align: middle;\n",
       "    }\n",
       "\n",
       "    .dataframe tbody tr th {\n",
       "        vertical-align: top;\n",
       "    }\n",
       "\n",
       "    .dataframe thead th {\n",
       "        text-align: right;\n",
       "    }\n",
       "</style>\n",
       "<table border=\"1\" class=\"dataframe\">\n",
       "  <thead>\n",
       "    <tr style=\"text-align: right;\">\n",
       "      <th></th>\n",
       "      <th>base</th>\n",
       "      <th>three_letter</th>\n",
       "      <th>question</th>\n",
       "    </tr>\n",
       "  </thead>\n",
       "  <tbody>\n",
       "    <tr>\n",
       "      <th>0</th>\n",
       "      <td>2B</td>\n",
       "      <td>1w9</td>\n",
       "      <td>이상주의적이고, 학구적이며, 차분하고, 특히 내향적이다.</td>\n",
       "    </tr>\n",
       "    <tr>\n",
       "      <th>1</th>\n",
       "      <td>2B</td>\n",
       "      <td>1w2</td>\n",
       "      <td>순수이상보다는 현실의 개선을 투구하고, 열정적이며, 관계맺기를 좋아한다.</td>\n",
       "    </tr>\n",
       "    <tr>\n",
       "      <th>2</th>\n",
       "      <td>2A</td>\n",
       "      <td>2w1</td>\n",
       "      <td>이타적 봉사를 추구한다.</td>\n",
       "    </tr>\n",
       "    <tr>\n",
       "      <th>3</th>\n",
       "      <td>2A</td>\n",
       "      <td>2w3</td>\n",
       "      <td>봉사보다는 자신의 능력에서 자존심을 얻는다.</td>\n",
       "    </tr>\n",
       "    <tr>\n",
       "      <th>4</th>\n",
       "      <td>1B</td>\n",
       "      <td>3w2</td>\n",
       "      <td>많은 사람들이 추구하는 가치를 얻음으로써 나의 가치를 증명하는 편이다.</td>\n",
       "    </tr>\n",
       "    <tr>\n",
       "      <th>5</th>\n",
       "      <td>1B</td>\n",
       "      <td>3w4</td>\n",
       "      <td>다른 사람들은 하기 힘든 것을 전문화 시켜 높은 수준으로 끌어올려 가치를 증명하는 ...</td>\n",
       "    </tr>\n",
       "    <tr>\n",
       "      <th>6</th>\n",
       "      <td>3C</td>\n",
       "      <td>4w3</td>\n",
       "      <td>자신을 표현하는 것과 관련된 일에 많은 노력을 쏟되, 표현방식에 신중하며, 반감을 ...</td>\n",
       "    </tr>\n",
       "    <tr>\n",
       "      <th>7</th>\n",
       "      <td>3C</td>\n",
       "      <td>4w5</td>\n",
       "      <td>자기 표현에 있어서 아주 개인적이고 독특하며, 자신을 위해 창조성을 발휘한다.</td>\n",
       "    </tr>\n",
       "    <tr>\n",
       "      <th>8</th>\n",
       "      <td>3B</td>\n",
       "      <td>5w4</td>\n",
       "      <td>과거의 정형화된 틀을 깨고 자신만의 것을 만들어낸는 것이 좋다.</td>\n",
       "    </tr>\n",
       "    <tr>\n",
       "      <th>9</th>\n",
       "      <td>3B</td>\n",
       "      <td>5w6</td>\n",
       "      <td>사실을 기반으로 한 다양한 정보를 가지고 결과를 도출해내는 편이다.</td>\n",
       "    </tr>\n",
       "    <tr>\n",
       "      <th>10</th>\n",
       "      <td>2C</td>\n",
       "      <td>6w5</td>\n",
       "      <td>독립적이며 스스로 문제 해결하는 것을 좋아한다.</td>\n",
       "    </tr>\n",
       "    <tr>\n",
       "      <th>11</th>\n",
       "      <td>2C</td>\n",
       "      <td>6w7</td>\n",
       "      <td>사람들로부터 재미있다고 듣는 편이며, 본인이 내린 결정에 걱정을 하는 편이다.</td>\n",
       "    </tr>\n",
       "    <tr>\n",
       "      <th>12</th>\n",
       "      <td>1A</td>\n",
       "      <td>7w6</td>\n",
       "      <td>주변사람들의 모임이나 집단과 상호작용을 많이하며 열정적으로 활동하기 때문에 자신의 ...</td>\n",
       "    </tr>\n",
       "    <tr>\n",
       "      <th>13</th>\n",
       "      <td>1A</td>\n",
       "      <td>7w8</td>\n",
       "      <td>사람들과 상호작용하기 보다는 스스로가 활동거리를 찾아다니며 자신이 주도적으로 열정을...</td>\n",
       "    </tr>\n",
       "    <tr>\n",
       "      <th>14</th>\n",
       "      <td>1C</td>\n",
       "      <td>8w7</td>\n",
       "      <td>물질적인 부를 좋아하고, 이를 위해 공격적인 리스크를 감수하기도 한다.</td>\n",
       "    </tr>\n",
       "    <tr>\n",
       "      <th>15</th>\n",
       "      <td>1C</td>\n",
       "      <td>8w9</td>\n",
       "      <td>목표지향적이나 다른 사람들을 배려하며 일을 진행하는 등 상황에 따라 전투력을 조정하...</td>\n",
       "    </tr>\n",
       "    <tr>\n",
       "      <th>16</th>\n",
       "      <td>3A</td>\n",
       "      <td>9w8</td>\n",
       "      <td>무언가 하고싶다면, 바로 실행에 옮긴다.</td>\n",
       "    </tr>\n",
       "    <tr>\n",
       "      <th>17</th>\n",
       "      <td>3A</td>\n",
       "      <td>9w1</td>\n",
       "      <td>한번 발을 들이면 꾸준히 성실하게 하지만, 시작하기 어렵다.</td>\n",
       "    </tr>\n",
       "  </tbody>\n",
       "</table>\n",
       "</div>"
      ],
      "text/plain": [
       "   base three_letter                                           question\n",
       "0    2B          1w9                    이상주의적이고, 학구적이며, 차분하고, 특히 내향적이다.\n",
       "1    2B          1w2           순수이상보다는 현실의 개선을 투구하고, 열정적이며, 관계맺기를 좋아한다.\n",
       "2    2A          2w1                                      이타적 봉사를 추구한다.\n",
       "3    2A          2w3                           봉사보다는 자신의 능력에서 자존심을 얻는다.\n",
       "4    1B          3w2            많은 사람들이 추구하는 가치를 얻음으로써 나의 가치를 증명하는 편이다.\n",
       "5    1B          3w4  다른 사람들은 하기 힘든 것을 전문화 시켜 높은 수준으로 끌어올려 가치를 증명하는 ...\n",
       "6    3C          4w3  자신을 표현하는 것과 관련된 일에 많은 노력을 쏟되, 표현방식에 신중하며, 반감을 ...\n",
       "7    3C          4w5        자기 표현에 있어서 아주 개인적이고 독특하며, 자신을 위해 창조성을 발휘한다.\n",
       "8    3B          5w4                과거의 정형화된 틀을 깨고 자신만의 것을 만들어낸는 것이 좋다.\n",
       "9    3B          5w6              사실을 기반으로 한 다양한 정보를 가지고 결과를 도출해내는 편이다.\n",
       "10   2C          6w5                         독립적이며 스스로 문제 해결하는 것을 좋아한다.\n",
       "11   2C          6w7        사람들로부터 재미있다고 듣는 편이며, 본인이 내린 결정에 걱정을 하는 편이다.\n",
       "12   1A          7w6  주변사람들의 모임이나 집단과 상호작용을 많이하며 열정적으로 활동하기 때문에 자신의 ...\n",
       "13   1A          7w8  사람들과 상호작용하기 보다는 스스로가 활동거리를 찾아다니며 자신이 주도적으로 열정을...\n",
       "14   1C          8w7            물질적인 부를 좋아하고, 이를 위해 공격적인 리스크를 감수하기도 한다.\n",
       "15   1C          8w9  목표지향적이나 다른 사람들을 배려하며 일을 진행하는 등 상황에 따라 전투력을 조정하...\n",
       "16   3A          9w8                             무언가 하고싶다면, 바로 실행에 옮긴다.\n",
       "17   3A          9w1                  한번 발을 들이면 꾸준히 성실하게 하지만, 시작하기 어렵다."
      ]
     },
     "execution_count": 26,
     "metadata": {},
     "output_type": "execute_result"
    }
   ],
   "source": [
    "df"
   ]
  },
  {
   "cell_type": "code",
   "execution_count": 27,
   "id": "f280f7eb",
   "metadata": {
    "ExecuteTime": {
     "end_time": "2023-01-25T02:54:58.797138Z",
     "start_time": "2023-01-25T02:54:58.794079Z"
    }
   },
   "outputs": [],
   "source": [
    "import pickle"
   ]
  },
  {
   "cell_type": "code",
   "execution_count": 29,
   "id": "7b0638dc",
   "metadata": {
    "ExecuteTime": {
     "end_time": "2023-01-25T02:55:23.998823Z",
     "start_time": "2023-01-25T02:55:23.995517Z"
    }
   },
   "outputs": [],
   "source": [
    "en_path='/opt/ml/project/Utils/Pickle/enneagram_question.pickle'\n",
    "df.to_pickle(en_path)"
   ]
  },
  {
   "cell_type": "code",
   "execution_count": 31,
   "id": "b76aa1e6",
   "metadata": {
    "ExecuteTime": {
     "end_time": "2023-01-25T02:55:57.494819Z",
     "start_time": "2023-01-25T02:55:57.485456Z"
    }
   },
   "outputs": [
    {
     "data": {
      "text/html": [
       "<div>\n",
       "<style scoped>\n",
       "    .dataframe tbody tr th:only-of-type {\n",
       "        vertical-align: middle;\n",
       "    }\n",
       "\n",
       "    .dataframe tbody tr th {\n",
       "        vertical-align: top;\n",
       "    }\n",
       "\n",
       "    .dataframe thead th {\n",
       "        text-align: right;\n",
       "    }\n",
       "</style>\n",
       "<table border=\"1\" class=\"dataframe\">\n",
       "  <thead>\n",
       "    <tr style=\"text-align: right;\">\n",
       "      <th></th>\n",
       "      <th>base</th>\n",
       "      <th>three_letter</th>\n",
       "      <th>question</th>\n",
       "    </tr>\n",
       "  </thead>\n",
       "  <tbody>\n",
       "    <tr>\n",
       "      <th>0</th>\n",
       "      <td>2B</td>\n",
       "      <td>1w9</td>\n",
       "      <td>이상주의적이고, 학구적이며, 차분하고, 특히 내향적이다.</td>\n",
       "    </tr>\n",
       "    <tr>\n",
       "      <th>1</th>\n",
       "      <td>2B</td>\n",
       "      <td>1w2</td>\n",
       "      <td>순수이상보다는 현실의 개선을 투구하고, 열정적이며, 관계맺기를 좋아한다.</td>\n",
       "    </tr>\n",
       "    <tr>\n",
       "      <th>2</th>\n",
       "      <td>2A</td>\n",
       "      <td>2w1</td>\n",
       "      <td>이타적 봉사를 추구한다.</td>\n",
       "    </tr>\n",
       "    <tr>\n",
       "      <th>3</th>\n",
       "      <td>2A</td>\n",
       "      <td>2w3</td>\n",
       "      <td>봉사보다는 자신의 능력에서 자존심을 얻는다.</td>\n",
       "    </tr>\n",
       "    <tr>\n",
       "      <th>4</th>\n",
       "      <td>1B</td>\n",
       "      <td>3w2</td>\n",
       "      <td>많은 사람들이 추구하는 가치를 얻음으로써 나의 가치를 증명하는 편이다.</td>\n",
       "    </tr>\n",
       "    <tr>\n",
       "      <th>5</th>\n",
       "      <td>1B</td>\n",
       "      <td>3w4</td>\n",
       "      <td>다른 사람들은 하기 힘든 것을 전문화 시켜 높은 수준으로 끌어올려 가치를 증명하는 ...</td>\n",
       "    </tr>\n",
       "    <tr>\n",
       "      <th>6</th>\n",
       "      <td>3C</td>\n",
       "      <td>4w3</td>\n",
       "      <td>자신을 표현하는 것과 관련된 일에 많은 노력을 쏟되, 표현방식에 신중하며, 반감을 ...</td>\n",
       "    </tr>\n",
       "    <tr>\n",
       "      <th>7</th>\n",
       "      <td>3C</td>\n",
       "      <td>4w5</td>\n",
       "      <td>자기 표현에 있어서 아주 개인적이고 독특하며, 자신을 위해 창조성을 발휘한다.</td>\n",
       "    </tr>\n",
       "    <tr>\n",
       "      <th>8</th>\n",
       "      <td>3B</td>\n",
       "      <td>5w4</td>\n",
       "      <td>과거의 정형화된 틀을 깨고 자신만의 것을 만들어낸는 것이 좋다.</td>\n",
       "    </tr>\n",
       "    <tr>\n",
       "      <th>9</th>\n",
       "      <td>3B</td>\n",
       "      <td>5w6</td>\n",
       "      <td>사실을 기반으로 한 다양한 정보를 가지고 결과를 도출해내는 편이다.</td>\n",
       "    </tr>\n",
       "    <tr>\n",
       "      <th>10</th>\n",
       "      <td>2C</td>\n",
       "      <td>6w5</td>\n",
       "      <td>독립적이며 스스로 문제 해결하는 것을 좋아한다.</td>\n",
       "    </tr>\n",
       "    <tr>\n",
       "      <th>11</th>\n",
       "      <td>2C</td>\n",
       "      <td>6w7</td>\n",
       "      <td>사람들로부터 재미있다고 듣는 편이며, 본인이 내린 결정에 걱정을 하는 편이다.</td>\n",
       "    </tr>\n",
       "    <tr>\n",
       "      <th>12</th>\n",
       "      <td>1A</td>\n",
       "      <td>7w6</td>\n",
       "      <td>주변사람들의 모임이나 집단과 상호작용을 많이하며 열정적으로 활동하기 때문에 자신의 ...</td>\n",
       "    </tr>\n",
       "    <tr>\n",
       "      <th>13</th>\n",
       "      <td>1A</td>\n",
       "      <td>7w8</td>\n",
       "      <td>사람들과 상호작용하기 보다는 스스로가 활동거리를 찾아다니며 자신이 주도적으로 열정을...</td>\n",
       "    </tr>\n",
       "    <tr>\n",
       "      <th>14</th>\n",
       "      <td>1C</td>\n",
       "      <td>8w7</td>\n",
       "      <td>물질적인 부를 좋아하고, 이를 위해 공격적인 리스크를 감수하기도 한다.</td>\n",
       "    </tr>\n",
       "    <tr>\n",
       "      <th>15</th>\n",
       "      <td>1C</td>\n",
       "      <td>8w9</td>\n",
       "      <td>목표지향적이나 다른 사람들을 배려하며 일을 진행하는 등 상황에 따라 전투력을 조정하...</td>\n",
       "    </tr>\n",
       "    <tr>\n",
       "      <th>16</th>\n",
       "      <td>3A</td>\n",
       "      <td>9w8</td>\n",
       "      <td>무언가 하고싶다면, 바로 실행에 옮긴다.</td>\n",
       "    </tr>\n",
       "    <tr>\n",
       "      <th>17</th>\n",
       "      <td>3A</td>\n",
       "      <td>9w1</td>\n",
       "      <td>한번 발을 들이면 꾸준히 성실하게 하지만, 시작하기 어렵다.</td>\n",
       "    </tr>\n",
       "  </tbody>\n",
       "</table>\n",
       "</div>"
      ],
      "text/plain": [
       "   base three_letter                                           question\n",
       "0    2B          1w9                    이상주의적이고, 학구적이며, 차분하고, 특히 내향적이다.\n",
       "1    2B          1w2           순수이상보다는 현실의 개선을 투구하고, 열정적이며, 관계맺기를 좋아한다.\n",
       "2    2A          2w1                                      이타적 봉사를 추구한다.\n",
       "3    2A          2w3                           봉사보다는 자신의 능력에서 자존심을 얻는다.\n",
       "4    1B          3w2            많은 사람들이 추구하는 가치를 얻음으로써 나의 가치를 증명하는 편이다.\n",
       "5    1B          3w4  다른 사람들은 하기 힘든 것을 전문화 시켜 높은 수준으로 끌어올려 가치를 증명하는 ...\n",
       "6    3C          4w3  자신을 표현하는 것과 관련된 일에 많은 노력을 쏟되, 표현방식에 신중하며, 반감을 ...\n",
       "7    3C          4w5        자기 표현에 있어서 아주 개인적이고 독특하며, 자신을 위해 창조성을 발휘한다.\n",
       "8    3B          5w4                과거의 정형화된 틀을 깨고 자신만의 것을 만들어낸는 것이 좋다.\n",
       "9    3B          5w6              사실을 기반으로 한 다양한 정보를 가지고 결과를 도출해내는 편이다.\n",
       "10   2C          6w5                         독립적이며 스스로 문제 해결하는 것을 좋아한다.\n",
       "11   2C          6w7        사람들로부터 재미있다고 듣는 편이며, 본인이 내린 결정에 걱정을 하는 편이다.\n",
       "12   1A          7w6  주변사람들의 모임이나 집단과 상호작용을 많이하며 열정적으로 활동하기 때문에 자신의 ...\n",
       "13   1A          7w8  사람들과 상호작용하기 보다는 스스로가 활동거리를 찾아다니며 자신이 주도적으로 열정을...\n",
       "14   1C          8w7            물질적인 부를 좋아하고, 이를 위해 공격적인 리스크를 감수하기도 한다.\n",
       "15   1C          8w9  목표지향적이나 다른 사람들을 배려하며 일을 진행하는 등 상황에 따라 전투력을 조정하...\n",
       "16   3A          9w8                             무언가 하고싶다면, 바로 실행에 옮긴다.\n",
       "17   3A          9w1                  한번 발을 들이면 꾸준히 성실하게 하지만, 시작하기 어렵다."
      ]
     },
     "execution_count": 31,
     "metadata": {},
     "output_type": "execute_result"
    }
   ],
   "source": [
    "pd.read_pickle('/opt/ml/project/Utils/Pickle/enneagram_question.pickle')"
   ]
  }
 ],
 "metadata": {
  "kernelspec": {
   "display_name": "Python 3 (ipykernel)",
   "language": "python",
   "name": "python3"
  },
  "language_info": {
   "codemirror_mode": {
    "name": "ipython",
    "version": 3
   },
   "file_extension": ".py",
   "mimetype": "text/x-python",
   "name": "python",
   "nbconvert_exporter": "python",
   "pygments_lexer": "ipython3",
   "version": "3.8.5"
  },
  "toc": {
   "base_numbering": 1,
   "nav_menu": {},
   "number_sections": true,
   "sideBar": true,
   "skip_h1_title": false,
   "title_cell": "Table of Contents",
   "title_sidebar": "Contents",
   "toc_cell": false,
   "toc_position": {},
   "toc_section_display": true,
   "toc_window_display": false
  }
 },
 "nbformat": 4,
 "nbformat_minor": 5
}
