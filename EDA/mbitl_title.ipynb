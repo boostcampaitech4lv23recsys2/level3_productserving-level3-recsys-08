{
 "cells": [
  {
   "attachments": {},
   "cell_type": "markdown",
   "metadata": {},
   "source": [
    "## 🧪 MBTI 크롤링 데이터 제목과 무비렌즈 데이터 제목 맞추기"
   ]
  },
  {
   "attachments": {},
   "cell_type": "markdown",
   "metadata": {},
   "source": [
    "#### 다운 받은 데이터프레임 불러오기"
   ]
  },
  {
   "cell_type": "code",
   "execution_count": 1,
   "metadata": {},
   "outputs": [],
   "source": [
    "import pandas as pd\n",
    "import numpy as np"
   ]
  },
  {
   "cell_type": "code",
   "execution_count": 2,
   "metadata": {},
   "outputs": [],
   "source": [
    "ml_title = pd.read_csv(\"/Users/jeonhaelee/Documents/boostcamp/project/code/data/ml_title.csv\")\n",
    "mbti_all_title = pd.read_csv(\"/Users/jeonhaelee/Documents/boostcamp/project/code/data/mbti_all_title.csv\")\n",
    "mbti_none_title = pd.read_csv(\"/Users/jeonhaelee/Documents/boostcamp/project/code/data/mbti_none_title.csv\")"
   ]
  },
  {
   "cell_type": "code",
   "execution_count": 3,
   "metadata": {},
   "outputs": [
    {
     "data": {
      "text/html": [
       "<div>\n",
       "<style scoped>\n",
       "    .dataframe tbody tr th:only-of-type {\n",
       "        vertical-align: middle;\n",
       "    }\n",
       "\n",
       "    .dataframe tbody tr th {\n",
       "        vertical-align: top;\n",
       "    }\n",
       "\n",
       "    .dataframe thead th {\n",
       "        text-align: right;\n",
       "    }\n",
       "</style>\n",
       "<table border=\"1\" class=\"dataframe\">\n",
       "  <thead>\n",
       "    <tr style=\"text-align: right;\">\n",
       "      <th></th>\n",
       "      <th>title</th>\n",
       "    </tr>\n",
       "  </thead>\n",
       "  <tbody>\n",
       "    <tr>\n",
       "      <th>0</th>\n",
       "      <td>toy story</td>\n",
       "    </tr>\n",
       "    <tr>\n",
       "      <th>1</th>\n",
       "      <td>jumanji</td>\n",
       "    </tr>\n",
       "    <tr>\n",
       "      <th>2</th>\n",
       "      <td>grumpier old men</td>\n",
       "    </tr>\n",
       "    <tr>\n",
       "      <th>3</th>\n",
       "      <td>waiting to exhale</td>\n",
       "    </tr>\n",
       "    <tr>\n",
       "      <th>4</th>\n",
       "      <td>father of the bride part ii</td>\n",
       "    </tr>\n",
       "  </tbody>\n",
       "</table>\n",
       "</div>"
      ],
      "text/plain": [
       "                         title\n",
       "0                    toy story\n",
       "1                      jumanji\n",
       "2             grumpier old men\n",
       "3            waiting to exhale\n",
       "4  father of the bride part ii"
      ]
     },
     "execution_count": 3,
     "metadata": {},
     "output_type": "execute_result"
    }
   ],
   "source": [
    "ml_title.head()"
   ]
  },
  {
   "cell_type": "code",
   "execution_count": 22,
   "metadata": {},
   "outputs": [
    {
     "data": {
      "text/plain": [
       "title    7\n",
       "dtype: int64"
      ]
     },
     "execution_count": 22,
     "metadata": {},
     "output_type": "execute_result"
    }
   ],
   "source": [
    "ml_title.isna().sum()"
   ]
  },
  {
   "cell_type": "code",
   "execution_count": 23,
   "metadata": {},
   "outputs": [],
   "source": [
    "ml_title = ml_title.dropna(axis=0)"
   ]
  },
  {
   "cell_type": "code",
   "execution_count": 4,
   "metadata": {},
   "outputs": [
    {
     "data": {
      "text/html": [
       "<div>\n",
       "<style scoped>\n",
       "    .dataframe tbody tr th:only-of-type {\n",
       "        vertical-align: middle;\n",
       "    }\n",
       "\n",
       "    .dataframe tbody tr th {\n",
       "        vertical-align: top;\n",
       "    }\n",
       "\n",
       "    .dataframe thead th {\n",
       "        text-align: right;\n",
       "    }\n",
       "</style>\n",
       "<table border=\"1\" class=\"dataframe\">\n",
       "  <thead>\n",
       "    <tr style=\"text-align: right;\">\n",
       "      <th></th>\n",
       "      <th>Character</th>\n",
       "      <th>Contents</th>\n",
       "      <th>Votes</th>\n",
       "      <th>MBTI</th>\n",
       "      <th>Enneagram</th>\n",
       "      <th>category</th>\n",
       "      <th>img_src</th>\n",
       "    </tr>\n",
       "  </thead>\n",
       "  <tbody>\n",
       "    <tr>\n",
       "      <th>0</th>\n",
       "      <td>Moana Waialiki</td>\n",
       "      <td>moana</td>\n",
       "      <td>2.7k/477</td>\n",
       "      <td>ENFJ</td>\n",
       "      <td>7w6</td>\n",
       "      <td>movie</td>\n",
       "      <td>https://static1.personality-database.com/profi...</td>\n",
       "    </tr>\n",
       "    <tr>\n",
       "      <th>1</th>\n",
       "      <td>Joy</td>\n",
       "      <td>inside out</td>\n",
       "      <td>2.5k/358</td>\n",
       "      <td>ENFJ</td>\n",
       "      <td>7w6</td>\n",
       "      <td>movie</td>\n",
       "      <td>https://static1.personality-database.com/profi...</td>\n",
       "    </tr>\n",
       "    <tr>\n",
       "      <th>2</th>\n",
       "      <td>Judy Hopps</td>\n",
       "      <td>zootopia</td>\n",
       "      <td>2.3k/350</td>\n",
       "      <td>ENFJ</td>\n",
       "      <td>1w2</td>\n",
       "      <td>movie</td>\n",
       "      <td>https://static1.personality-database.com/profi...</td>\n",
       "    </tr>\n",
       "    <tr>\n",
       "      <th>3</th>\n",
       "      <td>Elle Woods</td>\n",
       "      <td>legally blonde</td>\n",
       "      <td>1.9k/227</td>\n",
       "      <td>ENFJ</td>\n",
       "      <td>3w2</td>\n",
       "      <td>movie</td>\n",
       "      <td>https://static1.personality-database.com/profi...</td>\n",
       "    </tr>\n",
       "    <tr>\n",
       "      <th>4</th>\n",
       "      <td>Neil Perry</td>\n",
       "      <td>dead poets society</td>\n",
       "      <td>1.7k/222</td>\n",
       "      <td>ENFJ</td>\n",
       "      <td>4w3</td>\n",
       "      <td>movie</td>\n",
       "      <td>https://static1.personality-database.com/profi...</td>\n",
       "    </tr>\n",
       "  </tbody>\n",
       "</table>\n",
       "</div>"
      ],
      "text/plain": [
       "        Character            Contents     Votes  MBTI Enneagram category  \\\n",
       "0  Moana Waialiki               moana  2.7k/477  ENFJ       7w6    movie   \n",
       "1             Joy          inside out  2.5k/358  ENFJ       7w6    movie   \n",
       "2      Judy Hopps            zootopia  2.3k/350  ENFJ       1w2    movie   \n",
       "3      Elle Woods      legally blonde  1.9k/227  ENFJ       3w2    movie   \n",
       "4      Neil Perry  dead poets society  1.7k/222  ENFJ       4w3    movie   \n",
       "\n",
       "                                             img_src  \n",
       "0  https://static1.personality-database.com/profi...  \n",
       "1  https://static1.personality-database.com/profi...  \n",
       "2  https://static1.personality-database.com/profi...  \n",
       "3  https://static1.personality-database.com/profi...  \n",
       "4  https://static1.personality-database.com/profi...  "
      ]
     },
     "execution_count": 4,
     "metadata": {},
     "output_type": "execute_result"
    }
   ],
   "source": [
    "mbti_all_title.head()"
   ]
  },
  {
   "cell_type": "code",
   "execution_count": 5,
   "metadata": {},
   "outputs": [
    {
     "data": {
      "text/html": [
       "<div>\n",
       "<style scoped>\n",
       "    .dataframe tbody tr th:only-of-type {\n",
       "        vertical-align: middle;\n",
       "    }\n",
       "\n",
       "    .dataframe tbody tr th {\n",
       "        vertical-align: top;\n",
       "    }\n",
       "\n",
       "    .dataframe thead th {\n",
       "        text-align: right;\n",
       "    }\n",
       "</style>\n",
       "<table border=\"1\" class=\"dataframe\">\n",
       "  <thead>\n",
       "    <tr style=\"text-align: right;\">\n",
       "      <th></th>\n",
       "      <th>Contents</th>\n",
       "    </tr>\n",
       "  </thead>\n",
       "  <tbody>\n",
       "    <tr>\n",
       "      <th>0</th>\n",
       "      <td>turning red</td>\n",
       "    </tr>\n",
       "    <tr>\n",
       "      <th>1</th>\n",
       "      <td>star wars</td>\n",
       "    </tr>\n",
       "    <tr>\n",
       "      <th>2</th>\n",
       "      <td>harry potter / wizarding world films</td>\n",
       "    </tr>\n",
       "    <tr>\n",
       "      <th>3</th>\n",
       "      <td>emma.</td>\n",
       "    </tr>\n",
       "    <tr>\n",
       "      <th>4</th>\n",
       "      <td>the matrix trilogy</td>\n",
       "    </tr>\n",
       "  </tbody>\n",
       "</table>\n",
       "</div>"
      ],
      "text/plain": [
       "                               Contents\n",
       "0                           turning red\n",
       "1                             star wars\n",
       "2  harry potter / wizarding world films\n",
       "3                                 emma.\n",
       "4                    the matrix trilogy"
      ]
     },
     "execution_count": 5,
     "metadata": {},
     "output_type": "execute_result"
    }
   ],
   "source": [
    "mbti_none_title.head()"
   ]
  },
  {
   "attachments": {},
   "cell_type": "markdown",
   "metadata": {},
   "source": [
    "#### 제목으로 유사도 측정 후 top 3 구해주는 함수"
   ]
  },
  {
   "attachments": {},
   "cell_type": "markdown",
   "metadata": {},
   "source": [
    "* title_list에는 무비렌즈 제목 리스트를 넣어주시고,\n",
    "* title에는 MBTI 크롤링 데이터 제목을 하나씩 넣어주시면 됩니다.\n",
    "\n",
    "-> 그럼 title_list에서 title과 제목이 유사한 제목 top 3가 결과로 나옵니다."
   ]
  },
  {
   "cell_type": "code",
   "execution_count": 14,
   "metadata": {},
   "outputs": [],
   "source": [
    "def content_based_filtering_jaccard(title_list, title):\n",
    "    topn=3\n",
    "    target_split_set = set(title.split())\n",
    "    sim_list = []\n",
    "    sim_df = pd.DataFrame(title_list, columns=['title'])\n",
    "    for idx, movie in enumerate(title_list):\n",
    "        title_split_set = set(movie.split())\n",
    "        title_intersection = target_split_set.intersection(title_split_set)\n",
    "        jac_sim = float(len(title_intersection)) / (len(target_split_set) + len(title_split_set) - len(title_intersection))\n",
    "        sim_list.append(jac_sim)\n",
    "    sim_df['jaccard_similarity'] = sim_list\n",
    "\n",
    "    return sim_df.sort_values('jaccard_similarity', ascending=False).reset_index(drop=True)[:topn]"
   ]
  },
  {
   "cell_type": "code",
   "execution_count": 24,
   "metadata": {},
   "outputs": [],
   "source": [
    "ml_title_list = list(ml_title['title'])\n",
    "mbti_none_title_list = list(mbti_none_title['Contents'])"
   ]
  },
  {
   "attachments": {},
   "cell_type": "markdown",
   "metadata": {},
   "source": [
    "사용 예시"
   ]
  },
  {
   "cell_type": "code",
   "execution_count": 25,
   "metadata": {},
   "outputs": [
    {
     "name": "stdout",
     "output_type": "stream",
     "text": [
      "crawling title : harry potter / wizarding world films\n"
     ]
    },
    {
     "data": {
      "text/html": [
       "<div>\n",
       "<style scoped>\n",
       "    .dataframe tbody tr th:only-of-type {\n",
       "        vertical-align: middle;\n",
       "    }\n",
       "\n",
       "    .dataframe tbody tr th {\n",
       "        vertical-align: top;\n",
       "    }\n",
       "\n",
       "    .dataframe thead th {\n",
       "        text-align: right;\n",
       "    }\n",
       "</style>\n",
       "<table border=\"1\" class=\"dataframe\">\n",
       "  <thead>\n",
       "    <tr style=\"text-align: right;\">\n",
       "      <th></th>\n",
       "      <th>title</th>\n",
       "      <th>jaccard_similarity</th>\n",
       "    </tr>\n",
       "  </thead>\n",
       "  <tbody>\n",
       "    <tr>\n",
       "      <th>0</th>\n",
       "      <td>harry potter and the half-blood prince</td>\n",
       "      <td>0.200000</td>\n",
       "    </tr>\n",
       "    <tr>\n",
       "      <th>1</th>\n",
       "      <td>harry potter and the sorcerer's stone</td>\n",
       "      <td>0.200000</td>\n",
       "    </tr>\n",
       "    <tr>\n",
       "      <th>2</th>\n",
       "      <td>harry potter and the order of the phoenix</td>\n",
       "      <td>0.181818</td>\n",
       "    </tr>\n",
       "  </tbody>\n",
       "</table>\n",
       "</div>"
      ],
      "text/plain": [
       "                                       title  jaccard_similarity\n",
       "0     harry potter and the half-blood prince            0.200000\n",
       "1      harry potter and the sorcerer's stone            0.200000\n",
       "2  harry potter and the order of the phoenix            0.181818"
      ]
     },
     "execution_count": 25,
     "metadata": {},
     "output_type": "execute_result"
    }
   ],
   "source": [
    "title_list = ml_title_list\n",
    "title = mbti_none_title_list[2] # 'harry potter / wizarding world films'\n",
    "print('crawling title :', title)\n",
    "content_based_filtering_jaccard(title_list, title)"
   ]
  },
  {
   "cell_type": "code",
   "execution_count": null,
   "metadata": {},
   "outputs": [],
   "source": [
    "real_none_title = []"
   ]
  },
  {
   "attachments": {},
   "cell_type": "markdown",
   "metadata": {},
   "source": [
    "위처럼 MBTI 크롤링 데이터 제목을 하나씩 무비렌즈 제목 데이터랑 비교해주신 다음에, \n",
    "\n",
    "1. 같은 영화이거나 시리즈 영화이면 제목을 동일하게 처리해주시고\n",
    "\n",
    "2. 아예 관련이 없는 제목 top 3가 나온다면 'MBTI 크롤링 데이터 제목'을 따로 리스트(real_none_title)에 담아서 저장해주세요!\n",
    "\n",
    "    -> 얘네는 따로 처리 필요!"
   ]
  }
 ],
 "metadata": {
  "kernelspec": {
   "display_name": "aiserving",
   "language": "python",
   "name": "python3"
  },
  "language_info": {
   "codemirror_mode": {
    "name": "ipython",
    "version": 3
   },
   "file_extension": ".py",
   "mimetype": "text/x-python",
   "name": "python",
   "nbconvert_exporter": "python",
   "pygments_lexer": "ipython3",
   "version": "3.9.13"
  },
  "orig_nbformat": 4,
  "vscode": {
   "interpreter": {
    "hash": "742dbc7da983f9d46f8f562db0024c8fa2f61dc544a1e0fb1ef9dc08c479c661"
   }
  }
 },
 "nbformat": 4,
 "nbformat_minor": 2
}
