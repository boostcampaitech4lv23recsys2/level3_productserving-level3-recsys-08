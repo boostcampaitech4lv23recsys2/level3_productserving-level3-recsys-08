{
 "cells": [
  {
   "cell_type": "markdown",
   "metadata": {},
   "source": [
    "# BTS 모델(자체 개발 모델)의 성능 측정"
   ]
  },
  {
   "cell_type": "code",
   "execution_count": 17,
   "metadata": {
    "ExecuteTime": {
     "end_time": "2023-02-08T15:37:28.511629Z",
     "start_time": "2023-02-08T15:37:28.508752Z"
    }
   },
   "outputs": [],
   "source": [
    "import sys\n",
    "sys.path.append('..')\n",
    "from Utils import content_based_filtering\n",
    "import pandas as pd\n",
    "from tqdm import tqdm\n",
    "import random"
   ]
  },
  {
   "cell_type": "markdown",
   "metadata": {},
   "source": [
    "인기있는 영화와 MovieLens 데이터에서 겹치는 영화를 찾아낸다.  \n",
    "-> 인기있는 영화의 interaction 데이터를 얻기위해"
   ]
  },
  {
   "cell_type": "code",
   "execution_count": 33,
   "metadata": {
    "ExecuteTime": {
     "end_time": "2023-02-08T15:40:50.596787Z",
     "start_time": "2023-02-08T15:40:46.416831Z"
    }
   },
   "outputs": [],
   "source": [
    "# # specify the start and end row indices\n",
    "# start_index = 0\n",
    "# end_index = 80\n",
    "\n",
    "# # group the DataFrame by the 'userId' column\n",
    "# grouped = interactions_df.groupby(\"userId\")\n",
    "\n",
    "# # extract the specified rows for each group into a list of DataFrames\n",
    "# result = [group.iloc[start_index:end_index] for _, group in grouped]\n",
    "\n",
    "# # concatenate the list of DataFrames into a single DataFrame\n",
    "# train_df = pd.concat(result)\n",
    "\n",
    "# # specify the start and end row indices\n",
    "# start_index = 80\n",
    "# end_index = 140 #100\n",
    "\n",
    "# # # group the DataFrame by the 'userId' column\n",
    "# # grouped = interactions_df.groupby(\"userId\")\n",
    "\n",
    "# # extract the specified rows for each group into a list of DataFrames\n",
    "# result = [group.iloc[start_index:] for _, group in grouped]\n",
    "\n",
    "# # concatenate the list of DataFrames into a single DataFrame\n",
    "# test_df = pd.concat(result)\n"
   ]
  },
  {
   "cell_type": "code",
   "execution_count": 9,
   "metadata": {
    "ExecuteTime": {
     "end_time": "2023-02-08T15:34:20.539962Z",
     "start_time": "2023-02-08T15:34:05.999480Z"
    }
   },
   "outputs": [],
   "source": [
    "mv_df = pd.read_pickle('../Utils/Pickle/230130_Popular_movie_1192_cwj.pickle')\n",
    "ml_df = pd.read_csv('../Data/EDA/ml-25m/ratings.csv')\n",
    "\n",
    "merged_df = pd.merge(ml_df,mv_df,how='inner',on='movieId')\n",
    "\n",
    "merged_df = merged_df.drop(['rating_x', 'timestamp', 'Contents', 'ko_title',\n",
    "       'contents_year', 'country', 'ko_genre', 'ko_plot', 'rating_y', 'npop',\n",
    "       'genres', 'plot', 'directors', 'actors'],axis=1)"
   ]
  },
  {
   "cell_type": "code",
   "execution_count": 14,
   "metadata": {
    "ExecuteTime": {
     "end_time": "2023-02-08T15:36:53.130579Z",
     "start_time": "2023-02-08T15:36:53.045653Z"
    }
   },
   "outputs": [
    {
     "data": {
      "text/plain": [
       "161859"
      ]
     },
     "execution_count": 14,
     "metadata": {},
     "output_type": "execute_result"
    }
   ],
   "source": [
    "merged_df.userId.nunique()\n",
    "\n",
    "user_ids = sorted(set(merged_df.userId))\n",
    "len(user_ids)\n",
    "\n",
    "random_user_ids = random.sample(user_ids,len(user_ids)//10)\n",
    "len(random_user_ids)\n",
    "\n",
    "byuser_item = merged_df[merged_df.userId.isin(random_user_ids)].groupby('userId').movieId.count().reset_index()\n",
    "byuser_item\n",
    "\n",
    "byuser_item.movieId.sort_values()"
   ]
  },
  {
   "cell_type": "code",
   "execution_count": 52,
   "metadata": {
    "ExecuteTime": {
     "end_time": "2023-02-08T15:47:44.476594Z",
     "start_time": "2023-02-08T15:47:42.736730Z"
    }
   },
   "outputs": [],
   "source": [
    "mask = merged_df.userId.isin(merged_df.userId.value_counts()[merged_df.userId.value_counts() > 1].index)\n",
    "interactions_df = merged_df[mask]\n",
    "\n",
    "interactions_df = interactions_df.sort_values('userId')"
   ]
  },
  {
   "cell_type": "code",
   "execution_count": 53,
   "metadata": {
    "ExecuteTime": {
     "end_time": "2023-02-08T15:47:45.793799Z",
     "start_time": "2023-02-08T15:47:45.745326Z"
    }
   },
   "outputs": [
    {
     "data": {
      "text/plain": [
       "(6346505, 2)"
      ]
     },
     "execution_count": 53,
     "metadata": {},
     "output_type": "execute_result"
    }
   ],
   "source": [
    "interactions_df.userId.nunique()\n",
    "interactions_df.shape"
   ]
  },
  {
   "cell_type": "code",
   "execution_count": 58,
   "metadata": {
    "ExecuteTime": {
     "end_time": "2023-02-08T15:48:19.602313Z",
     "start_time": "2023-02-08T15:48:19.398630Z"
    }
   },
   "outputs": [
    {
     "data": {
      "text/html": [
       "<div>\n",
       "<style scoped>\n",
       "    .dataframe tbody tr th:only-of-type {\n",
       "        vertical-align: middle;\n",
       "    }\n",
       "\n",
       "    .dataframe tbody tr th {\n",
       "        vertical-align: top;\n",
       "    }\n",
       "\n",
       "    .dataframe thead th {\n",
       "        text-align: right;\n",
       "    }\n",
       "</style>\n",
       "<table border=\"1\" class=\"dataframe\">\n",
       "  <thead>\n",
       "    <tr style=\"text-align: right;\">\n",
       "      <th></th>\n",
       "      <th>userId</th>\n",
       "      <th>movieId</th>\n",
       "    </tr>\n",
       "  </thead>\n",
       "  <tbody>\n",
       "    <tr>\n",
       "      <th>100182</th>\n",
       "      <td>101787</td>\n",
       "      <td>2</td>\n",
       "    </tr>\n",
       "    <tr>\n",
       "      <th>114577</th>\n",
       "      <td>116422</td>\n",
       "      <td>2</td>\n",
       "    </tr>\n",
       "    <tr>\n",
       "      <th>155222</th>\n",
       "      <td>157779</td>\n",
       "      <td>2</td>\n",
       "    </tr>\n",
       "    <tr>\n",
       "      <th>54722</th>\n",
       "      <td>55631</td>\n",
       "      <td>2</td>\n",
       "    </tr>\n",
       "    <tr>\n",
       "      <th>138638</th>\n",
       "      <td>140920</td>\n",
       "      <td>2</td>\n",
       "    </tr>\n",
       "    <tr>\n",
       "      <th>...</th>\n",
       "      <td>...</td>\n",
       "      <td>...</td>\n",
       "    </tr>\n",
       "    <tr>\n",
       "      <th>121739</th>\n",
       "      <td>123711</td>\n",
       "      <td>694</td>\n",
       "    </tr>\n",
       "    <tr>\n",
       "      <th>30144</th>\n",
       "      <td>30643</td>\n",
       "      <td>723</td>\n",
       "    </tr>\n",
       "    <tr>\n",
       "      <th>109293</th>\n",
       "      <td>111038</td>\n",
       "      <td>742</td>\n",
       "    </tr>\n",
       "    <tr>\n",
       "      <th>56618</th>\n",
       "      <td>57548</td>\n",
       "      <td>775</td>\n",
       "    </tr>\n",
       "    <tr>\n",
       "      <th>71176</th>\n",
       "      <td>72315</td>\n",
       "      <td>921</td>\n",
       "    </tr>\n",
       "  </tbody>\n",
       "</table>\n",
       "<p>159904 rows × 2 columns</p>\n",
       "</div>"
      ],
      "text/plain": [
       "        userId  movieId\n",
       "100182  101787        2\n",
       "114577  116422        2\n",
       "155222  157779        2\n",
       "54722    55631        2\n",
       "138638  140920        2\n",
       "...        ...      ...\n",
       "121739  123711      694\n",
       "30144    30643      723\n",
       "109293  111038      742\n",
       "56618    57548      775\n",
       "71176    72315      921\n",
       "\n",
       "[159904 rows x 2 columns]"
      ]
     },
     "execution_count": 58,
     "metadata": {},
     "output_type": "execute_result"
    }
   ],
   "source": [
    "interactions_df.groupby('userId').movieId.count().reset_index().sort_values('movieId')"
   ]
  },
  {
   "cell_type": "code",
   "execution_count": 82,
   "metadata": {
    "ExecuteTime": {
     "end_time": "2023-02-08T16:07:17.693683Z",
     "start_time": "2023-02-08T16:07:16.832709Z"
    }
   },
   "outputs": [],
   "source": [
    "user_ids = list(set(interactions_df.userId))"
   ]
  },
  {
   "cell_type": "code",
   "execution_count": 95,
   "metadata": {
    "ExecuteTime": {
     "end_time": "2023-02-08T16:52:04.738293Z",
     "start_time": "2023-02-08T16:52:04.734809Z"
    }
   },
   "outputs": [],
   "source": [
    "random_user_ids = random.sample(user_ids,600)"
   ]
  },
  {
   "cell_type": "code",
   "execution_count": 96,
   "metadata": {
    "ExecuteTime": {
     "end_time": "2023-02-08T16:52:05.012411Z",
     "start_time": "2023-02-08T16:52:05.008993Z"
    }
   },
   "outputs": [
    {
     "data": {
      "text/plain": [
       "600"
      ]
     },
     "execution_count": 96,
     "metadata": {},
     "output_type": "execute_result"
    }
   ],
   "source": [
    "len(random_user_ids)"
   ]
  },
  {
   "cell_type": "markdown",
   "metadata": {},
   "source": [
    "HitRate@10을 구한다.  \n",
    "80개의 interaction을 입력하고 10개의 추천리스트를 만든다.  \n",
    "추천 리스트에서 입력으로 넣지 않은 유저-영화 상호작용한 데이터가 있으면 Hit이다."
   ]
  },
  {
   "cell_type": "code",
   "execution_count": 85,
   "metadata": {
    "ExecuteTime": {
     "end_time": "2023-02-08T16:07:20.931749Z",
     "start_time": "2023-02-08T16:07:20.879088Z"
    }
   },
   "outputs": [
    {
     "data": {
      "text/html": [
       "<div>\n",
       "<style scoped>\n",
       "    .dataframe tbody tr th:only-of-type {\n",
       "        vertical-align: middle;\n",
       "    }\n",
       "\n",
       "    .dataframe tbody tr th {\n",
       "        vertical-align: top;\n",
       "    }\n",
       "\n",
       "    .dataframe thead th {\n",
       "        text-align: right;\n",
       "    }\n",
       "</style>\n",
       "<table border=\"1\" class=\"dataframe\">\n",
       "  <thead>\n",
       "    <tr style=\"text-align: right;\">\n",
       "      <th></th>\n",
       "      <th>userId</th>\n",
       "      <th>movieId</th>\n",
       "    </tr>\n",
       "  </thead>\n",
       "  <tbody>\n",
       "    <tr>\n",
       "      <th>400005</th>\n",
       "      <td>122</td>\n",
       "      <td>318</td>\n",
       "    </tr>\n",
       "    <tr>\n",
       "      <th>5525480</th>\n",
       "      <td>122</td>\n",
       "      <td>339</td>\n",
       "    </tr>\n",
       "    <tr>\n",
       "      <th>1456889</th>\n",
       "      <td>122</td>\n",
       "      <td>50</td>\n",
       "    </tr>\n",
       "    <tr>\n",
       "      <th>4447135</th>\n",
       "      <td>122</td>\n",
       "      <td>539</td>\n",
       "    </tr>\n",
       "    <tr>\n",
       "      <th>59</th>\n",
       "      <td>122</td>\n",
       "      <td>296</td>\n",
       "    </tr>\n",
       "    <tr>\n",
       "      <th>...</th>\n",
       "      <td>...</td>\n",
       "      <td>...</td>\n",
       "    </tr>\n",
       "    <tr>\n",
       "      <th>79602</th>\n",
       "      <td>162429</td>\n",
       "      <td>296</td>\n",
       "    </tr>\n",
       "    <tr>\n",
       "      <th>4550721</th>\n",
       "      <td>162429</td>\n",
       "      <td>597</td>\n",
       "    </tr>\n",
       "    <tr>\n",
       "      <th>4289308</th>\n",
       "      <td>162429</td>\n",
       "      <td>377</td>\n",
       "    </tr>\n",
       "    <tr>\n",
       "      <th>481364</th>\n",
       "      <td>162429</td>\n",
       "      <td>318</td>\n",
       "    </tr>\n",
       "    <tr>\n",
       "      <th>562860</th>\n",
       "      <td>162429</td>\n",
       "      <td>356</td>\n",
       "    </tr>\n",
       "  </tbody>\n",
       "</table>\n",
       "<p>18941 rows × 2 columns</p>\n",
       "</div>"
      ],
      "text/plain": [
       "         userId  movieId\n",
       "400005      122      318\n",
       "5525480     122      339\n",
       "1456889     122       50\n",
       "4447135     122      539\n",
       "59          122      296\n",
       "...         ...      ...\n",
       "79602    162429      296\n",
       "4550721  162429      597\n",
       "4289308  162429      377\n",
       "481364   162429      318\n",
       "562860   162429      356\n",
       "\n",
       "[18941 rows x 2 columns]"
      ]
     },
     "execution_count": 85,
     "metadata": {},
     "output_type": "execute_result"
    }
   ],
   "source": [
    "valid_df = interactions_df[interactions_df.userId.isin(random_user_ids)]\n",
    "valid_df"
   ]
  },
  {
   "cell_type": "code",
   "execution_count": 97,
   "metadata": {
    "ExecuteTime": {
     "end_time": "2023-02-08T16:52:17.840808Z",
     "start_time": "2023-02-08T16:52:17.820229Z"
    }
   },
   "outputs": [],
   "source": [
    "df = valid_df.groupby(\"userId\").movieId.apply(list).reset_index()"
   ]
  },
  {
   "cell_type": "code",
   "execution_count": 98,
   "metadata": {
    "ExecuteTime": {
     "end_time": "2023-02-08T16:52:19.142559Z",
     "start_time": "2023-02-08T16:52:19.139750Z"
    }
   },
   "outputs": [],
   "source": [
    "def divide_list(lst):\n",
    "    half = len(lst)//2\n",
    "    return lst[:half], lst[half:]"
   ]
  },
  {
   "cell_type": "code",
   "execution_count": 99,
   "metadata": {
    "ExecuteTime": {
     "end_time": "2023-02-08T17:26:50.088972Z",
     "start_time": "2023-02-08T16:52:20.442607Z"
    }
   },
   "outputs": [
    {
     "name": "stderr",
     "output_type": "stream",
     "text": [
      "100%|██████████████████████████████████████████████████████████████████████████████████████████████████████████| 500/500 [34:29<00:00,  4.14s/it]"
     ]
    },
    {
     "name": "stdout",
     "output_type": "stream",
     "text": [
      "19\n"
     ]
    },
    {
     "name": "stderr",
     "output_type": "stream",
     "text": [
      "\n"
     ]
    }
   ],
   "source": [
    "cnt=0\n",
    "for l in tqdm(df.itertuples(), total=df.shape[0]):\n",
    "    train, test = divide_list(l.movieId)\n",
    "    reccomend_list = [i[0] for i in content_based_filtering(train,10)]\n",
    "#     print(reccomend_list, test)\n",
    "    if set(reccomend_list).intersection(test):\n",
    "        cnt+=1\n",
    "    else:\n",
    "        pass\n",
    "print(cnt)"
   ]
  },
  {
   "cell_type": "code",
   "execution_count": 101,
   "metadata": {
    "ExecuteTime": {
     "end_time": "2023-02-08T18:32:28.409520Z",
     "start_time": "2023-02-08T18:32:28.404538Z"
    }
   },
   "outputs": [
    {
     "name": "stdout",
     "output_type": "stream",
     "text": [
      "1462410\n",
      "17772\n"
     ]
    },
    {
     "data": {
      "text/plain": [
       "0.0010690974566734189"
      ]
     },
     "execution_count": 101,
     "metadata": {},
     "output_type": "execute_result"
    }
   ],
   "source": [
    "print(len(test_df))\n",
    "print(len(test_dict))\n",
    "cnt/len(test_dict) # HitRate@10"
   ]
  }
 ],
 "metadata": {
  "kernelspec": {
   "display_name": "Python 3 (ipykernel)",
   "language": "python",
   "name": "python3"
  },
  "language_info": {
   "codemirror_mode": {
    "name": "ipython",
    "version": 3
   },
   "file_extension": ".py",
   "mimetype": "text/x-python",
   "name": "python",
   "nbconvert_exporter": "python",
   "pygments_lexer": "ipython3",
   "version": "3.8.5"
  },
  "toc": {
   "base_numbering": 1,
   "nav_menu": {},
   "number_sections": true,
   "sideBar": true,
   "skip_h1_title": false,
   "title_cell": "Table of Contents",
   "title_sidebar": "Contents",
   "toc_cell": false,
   "toc_position": {},
   "toc_section_display": true,
   "toc_window_display": false
  },
  "vscode": {
   "interpreter": {
    "hash": "d4d1e4263499bec80672ea0156c357c1ee493ec2b1c70f0acce89fc37c4a6abe"
   }
  }
 },
 "nbformat": 4,
 "nbformat_minor": 2
}
