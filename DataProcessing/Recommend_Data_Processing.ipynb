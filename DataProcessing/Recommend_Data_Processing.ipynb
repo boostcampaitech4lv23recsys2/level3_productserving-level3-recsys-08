{
 "cells": [
  {
   "cell_type": "markdown",
   "id": "5c9a5c60",
   "metadata": {},
   "source": [
    "    mbti, engram, prefer_movie_ids 입력받기\n",
    "    모델 불러오기\n",
    "    mbti - movie lens 합친 데이터 불러오기"
   ]
  },
  {
   "cell_type": "code",
   "execution_count": 1,
   "id": "d9ddd8e9",
   "metadata": {
    "ExecuteTime": {
     "end_time": "2023-01-17T18:31:39.266947Z",
     "start_time": "2023-01-17T18:31:38.925363Z"
    }
   },
   "outputs": [],
   "source": [
    "import pandas as pd"
   ]
  },
  {
   "cell_type": "code",
   "execution_count": null,
   "id": "307709a6",
   "metadata": {},
   "outputs": [],
   "source": [
    "pd.read_csv('')"
   ]
  },
  {
   "cell_type": "code",
   "execution_count": 5,
   "id": "680b3d3a",
   "metadata": {
    "ExecuteTime": {
     "end_time": "2023-01-17T18:43:13.698313Z",
     "start_time": "2023-01-17T18:43:13.301618Z"
    }
   },
   "outputs": [],
   "source": [
    "import sys\n",
    "sys.path.append('../interaction_model/')\n",
    "from inference import Inference"
   ]
  },
  {
   "cell_type": "code",
   "execution_count": 6,
   "id": "3139fbde",
   "metadata": {
    "ExecuteTime": {
     "end_time": "2023-01-17T18:44:01.866060Z",
     "start_time": "2023-01-17T18:44:01.862764Z"
    }
   },
   "outputs": [],
   "source": [
    "model_path='../interaction_model/similarity'"
   ]
  },
  {
   "cell_type": "code",
   "execution_count": 7,
   "id": "d359dbf9",
   "metadata": {
    "ExecuteTime": {
     "end_time": "2023-01-17T18:44:07.128556Z",
     "start_time": "2023-01-17T18:44:07.113890Z"
    }
   },
   "outputs": [
    {
     "data": {
      "text/plain": [
       "[780, 648, 736, 32, 733, 608, 480, 2355, 588]"
      ]
     },
     "execution_count": 7,
     "metadata": {},
     "output_type": "execute_result"
    }
   ],
   "source": [
    "Inference(model_path, 1, 10)"
   ]
  }
 ],
 "metadata": {
  "kernelspec": {
   "display_name": "Python 3 (ipykernel)",
   "language": "python",
   "name": "python3"
  },
  "language_info": {
   "codemirror_mode": {
    "name": "ipython",
    "version": 3
   },
   "file_extension": ".py",
   "mimetype": "text/x-python",
   "name": "python",
   "nbconvert_exporter": "python",
   "pygments_lexer": "ipython3",
   "version": "3.8.5"
  },
  "toc": {
   "base_numbering": 1,
   "nav_menu": {},
   "number_sections": true,
   "sideBar": true,
   "skip_h1_title": false,
   "title_cell": "Table of Contents",
   "title_sidebar": "Contents",
   "toc_cell": false,
   "toc_position": {},
   "toc_section_display": true,
   "toc_window_display": false
  }
 },
 "nbformat": 4,
 "nbformat_minor": 5
}
