{
 "cells": [
  {
   "cell_type": "code",
   "execution_count": 1,
   "metadata": {},
   "outputs": [],
   "source": [
    "from LGCN_update import ml_django_interaction_merge\n",
    "\n",
    "ml_django_interaction_merge()"
   ]
  },
  {
   "cell_type": "code",
   "execution_count": 3,
   "metadata": {},
   "outputs": [
    {
     "name": "stdout",
     "output_type": "stream",
     "text": [
      "running LightGCN...\n"
     ]
    },
    {
     "name": "stderr",
     "output_type": "stream",
     "text": [
      "08 Feb 11:04    INFO  ['/opt/conda/lib/python3.8/site-packages/ipykernel_launcher.py', '--ip=127.0.0.1', '--stdin=9023', '--control=9021', '--hb=9020', '--Session.signature_scheme=\"hmac-sha256\"', '--Session.key=b\"7ae73b10-2488-492d-aa26-97c98232035b\"', '--shell=9022', '--transport=\"tcp\"', '--iopub=9024', '--f=/opt/ml/.local/share/jupyter/runtime/kernel-v2-119601SAf0GHuiS6A.json']\n",
      "08 Feb 11:04    INFO  \n",
      "General Hyper Parameters:\n",
      "gpu_id = 0\n",
      "use_gpu = True\n",
      "seed = 2020\n",
      "state = INFO\n",
      "reproducibility = True\n",
      "data_path = dataset/train_data\n",
      "checkpoint_dir = saved\n",
      "show_progress = False\n",
      "save_dataset = False\n",
      "dataset_save_path = None\n",
      "save_dataloaders = False\n",
      "dataloaders_save_path = None\n",
      "log_wandb = False\n",
      "\n",
      "Training Hyper Parameters:\n",
      "epochs = 1\n",
      "train_batch_size = 2048\n",
      "learner = adam\n",
      "learning_rate = 0.001\n",
      "train_neg_sample_args = {'distribution': 'uniform', 'sample_num': 1, 'alpha': 1.0, 'dynamic': False, 'candidate_num': 0}\n",
      "eval_step = 1\n",
      "stopping_step = 5\n",
      "clip_grad_norm = None\n",
      "weight_decay = 0.0\n",
      "loss_decimal_place = 4\n",
      "\n",
      "Evaluation Hyper Parameters:\n",
      "eval_args = {'split': {'RS': [9, 1, 0]}, 'group_by': 'user', 'order': 'RO', 'mode': 'full'}\n",
      "repeatable = False\n",
      "metrics = ['Recall', 'MRR', 'NDCG', 'Hit', 'Precision', 'MAP']\n",
      "topk = [10]\n",
      "valid_metric = Recall@10\n",
      "valid_metric_bigger = True\n",
      "eval_batch_size = 4096\n",
      "metric_decimal_place = 4\n",
      "\n",
      "Dataset Hyper Parameters:\n",
      "field_separator = \t\n",
      "seq_separator =  \n",
      "USER_ID_FIELD = user_id\n",
      "ITEM_ID_FIELD = item_id\n",
      "RATING_FIELD = rating\n",
      "TIME_FIELD = timestamp\n",
      "seq_len = None\n",
      "LABEL_FIELD = label\n",
      "threshold = None\n",
      "NEG_PREFIX = neg_\n",
      "load_col = {'inter': ['user_id', 'item_id'], 'user': ['user_id'], 'item': ['item_id']}\n",
      "unload_col = None\n",
      "unused_col = None\n",
      "additional_feat_suffix = None\n",
      "rm_dup_inter = None\n",
      "val_interval = None\n",
      "filter_inter_by_user_or_item = True\n",
      "user_inter_num_interval = [0,inf)\n",
      "item_inter_num_interval = [0,inf)\n",
      "alias_of_user_id = None\n",
      "alias_of_item_id = None\n",
      "alias_of_entity_id = None\n",
      "alias_of_relation_id = None\n",
      "preload_weight = None\n",
      "normalize_field = None\n",
      "normalize_all = None\n",
      "ITEM_LIST_LENGTH_FIELD = item_length\n",
      "LIST_SUFFIX = _list\n",
      "MAX_ITEM_LIST_LENGTH = 50\n",
      "POSITION_FIELD = position_id\n",
      "HEAD_ENTITY_ID_FIELD = head_id\n",
      "TAIL_ENTITY_ID_FIELD = tail_id\n",
      "RELATION_ID_FIELD = relation_id\n",
      "ENTITY_ID_FIELD = entity_id\n",
      "benchmark_filename = None\n",
      "\n",
      "Other Hyper Parameters: \n",
      "worker = 0\n",
      "wandb_project = Recbole\n",
      "shuffle = True\n",
      "require_pow = False\n",
      "enable_amp = False\n",
      "enable_scaler = False\n",
      "transform = None\n",
      "embedding_size = 64\n",
      "n_layers = 2\n",
      "reg_weight = 1e-05\n",
      "numerical_features = []\n",
      "discretization = None\n",
      "kg_reverse_r = False\n",
      "entity_kg_num_interval = [0,inf)\n",
      "relation_kg_num_interval = [0,inf)\n",
      "MODEL_TYPE = ModelType.GENERAL\n",
      "loss_type = CE\n",
      "device = cuda\n",
      "model_name = LightGCN\n",
      "dataset_name = train_data\n",
      "inference = False\n",
      "config = Model_config/LGCN_update.yaml\n",
      "top_k = 10\n",
      "mvti = True\n",
      "wandb = False\n",
      "MODEL_INPUT_TYPE = InputType.PAIRWISE\n",
      "eval_type = EvaluatorType.RANKING\n",
      "single_spec = True\n",
      "local_rank = 0\n",
      "eval_neg_sample_args = {'distribution': 'uniform', 'sample_num': 'none'}\n",
      "\n",
      "\n",
      "08 Feb 11:05    INFO  train_data\n",
      "The number of users: 161871\n",
      "Average actions of users: 39.2220485574844\n",
      "The number of items: 1080\n",
      "Average actions of items: 5884.0342910101945\n",
      "The number of inters: 6348873\n",
      "The sparsity of the dataset: 96.36835127285856%\n",
      "Remain Fields: ['user_id', 'item_id']\n",
      "08 Feb 11:05    INFO  [Training]: train_batch_size = [2048] train_neg_sample_args: [{'distribution': 'uniform', 'sample_num': 1, 'alpha': 1.0, 'dynamic': False, 'candidate_num': 0}]\n",
      "08 Feb 11:05    INFO  [Evaluation]: eval_batch_size = [4096] eval_args: [{'split': {'RS': [9, 1, 0]}, 'group_by': 'user', 'order': 'RO', 'mode': 'full'}]\n",
      "08 Feb 11:06    INFO  LightGCN(\n",
      "  (user_embedding): Embedding(161871, 64)\n",
      "  (item_embedding): Embedding(1080, 64)\n",
      "  (mf_loss): BPRLoss()\n",
      "  (reg_loss): EmbLoss()\n",
      ")\n",
      "Trainable parameters: 10428864\n",
      "08 Feb 11:06    INFO  FLOPs: 0.0\n",
      "08 Feb 11:17    INFO  epoch 0 training [time: 673.20s, train loss: 770.5057]\n",
      "08 Feb 11:18    INFO  epoch 0 evaluating [time: 47.07s, valid_score: 0.308300]\n",
      "08 Feb 11:18    INFO  valid result: \n",
      "recall@10 : 0.3083    mrr@10 : 0.2628    ndcg@10 : 0.2183    hit@10 : 0.5231    precision@10 : 0.0886    map@10 : 0.1451\n",
      "08 Feb 11:18    INFO  Saving current: saved/LightGCN-Feb-08-2023_11-06-24.pth\n",
      "08 Feb 11:18    INFO  best valid : OrderedDict([('recall@10', 0.3083), ('mrr@10', 0.2628), ('ndcg@10', 0.2183), ('hit@10', 0.5231), ('precision@10', 0.0886), ('map@10', 0.1451)])\n",
      "08 Feb 11:18    INFO  test result: None\n"
     ]
    },
    {
     "name": "stdout",
     "output_type": "stream",
     "text": [
      "{'best_valid_score': 0.3083, 'valid_score_bigger': True, 'best_valid_result': OrderedDict([('recall@10', 0.3083), ('mrr@10', 0.2628), ('ndcg@10', 0.2183), ('hit@10', 0.5231), ('precision@10', 0.0886), ('map@10', 0.1451)]), 'test_result': None}\n"
     ]
    }
   ],
   "source": [
    "from train import main\n",
    "import argparse\n",
    "\n",
    "args = argparse.Namespace(\n",
    "    epochs = 1,\n",
    "    model_name=\"LightGCN\",\n",
    "    dataset_name = \"train_data\",\n",
    "    inference = False,\n",
    "    config = \"Model_config/LGCN_update.yaml\",\n",
    "    top_k = 10,\n",
    "    mvti = True,\n",
    "    wandb = \"False\"\n",
    ")\n",
    "main(args)"
   ]
  },
  {
   "cell_type": "code",
   "execution_count": 4,
   "metadata": {},
   "outputs": [],
   "source": [
    "import os\n",
    "model_name = \"LightGCN\"\n",
    "\n",
    "# model_name이 들어가는 pth 파일 중 최근에 생성된 걸로 불러옴\n",
    "os.makedirs('saved',exist_ok=True)\n",
    "save_path = os.listdir('./saved')\n",
    "model_path = './saved/' + sorted([file for file in save_path if model_name in file ])[-1]"
   ]
  },
  {
   "cell_type": "code",
   "execution_count": 48,
   "metadata": {},
   "outputs": [
    {
     "name": "stderr",
     "output_type": "stream",
     "text": [
      "08 Feb 11:43    INFO  [Training]: train_batch_size = [2048] train_neg_sample_args: [{'distribution': 'uniform', 'sample_num': 1, 'alpha': 1.0, 'dynamic': False, 'candidate_num': 0}]\n",
      "08 Feb 11:43    INFO  [Evaluation]: eval_batch_size = [4096] eval_args: [{'split': {'RS': [999999, 0, 1]}, 'group_by': 'user', 'order': 'RO', 'mode': 'full'}]\n"
     ]
    },
    {
     "data": {
      "text/plain": [
       "True"
      ]
     },
     "execution_count": 48,
     "metadata": {},
     "output_type": "execute_result"
    }
   ],
   "source": [
    "import torch\n",
    "import numpy as np\n",
    "import pandas as pd\n",
    "from tqdm import tqdm\n",
    "import pickle\n",
    "import argparse\n",
    "import annoy\n",
    "from recbole.data import create_dataset, data_preparation, Interaction\n",
    "from recbole.utils import init_logger, get_trainer, get_model, init_seed, set_color\n",
    "from recbole.utils.case_study import full_sort_topk\n",
    "\n",
    "model_name = \"LightGCN\"\n",
    "\n",
    "# model_name이 들어가는 pth 파일 중 최근에 생성된 걸로 불러옴\n",
    "os.makedirs('saved',exist_ok=True)\n",
    "save_path = os.listdir('./saved')\n",
    "model_path = './saved/' + sorted([file for file in save_path if model_name in file ])[-1]\n",
    "\n",
    "checkpoint = torch.load(model_path)\n",
    "config = checkpoint['config']\n",
    "\n",
    "init_seed(config['seed'], config['reproducibility'])\n",
    "config['dataset'] = 'train_data'\n",
    "\n",
    "config['eval_args']['split']['RS']=[999999,0,1]\n",
    "\n",
    "dataset = create_dataset(config)\n",
    "train_data, valid_data, test_data = data_preparation(config, dataset)\n",
    "\n",
    "model = get_model(config['model'])(config, train_data.dataset).to(config['device'])\n",
    "model.load_state_dict(checkpoint['state_dict'])\n",
    "model.load_other_parameter(checkpoint.get('other_parameter'))\n",
    "    \n",
    "emb = model.get_ego_embeddings()\n",
    "\n",
    "user_id = config['USER_ID_FIELD']\n",
    "item_id = config['ITEM_ID_FIELD']\n",
    "user_id2token = dataset.field2id_token[user_id]\n",
    "item_id2token = dataset.field2id_token[item_id]\n",
    "\n",
    "item_emb = emb[len(user_id2token)+1:]\n",
    "item_id2token = item_id2token[1:]\n",
    "\n",
    "annoy_lgcn = annoy.AnnoyIndex(64,'angular')\n",
    "n_trees = 40\n",
    "for idx,emb in enumerate(item_emb):\n",
    "    annoy_lgcn.add_item(int(item_id2token[idx]),emb) \n",
    "annoy_lgcn.build(n_trees)\n",
    "\n",
    "annoy_lgcn.save(\"LightGCN_test_64\")"
   ]
  },
  {
   "cell_type": "code",
   "execution_count": 1,
   "metadata": {},
   "outputs": [],
   "source": [
    "from LGCN_update import ml_django_interaction_merge,train_LGCN,save_annoy"
   ]
  },
  {
   "cell_type": "code",
   "execution_count": 2,
   "metadata": {},
   "outputs": [],
   "source": [
    "ml_django_interaction_merge()"
   ]
  },
  {
   "cell_type": "code",
   "execution_count": 2,
   "metadata": {},
   "outputs": [
    {
     "name": "stderr",
     "output_type": "stream",
     "text": [
      "08 Feb 13:35    INFO  ['/opt/conda/lib/python3.8/site-packages/ipykernel_launcher.py', '--ip=127.0.0.1', '--stdin=9048', '--control=9046', '--hb=9045', '--Session.signature_scheme=\"hmac-sha256\"', '--Session.key=b\"1ca5285a-5e87-4c0f-82d0-7837600d1a5b\"', '--shell=9047', '--transport=\"tcp\"', '--iopub=9049', '--f=/opt/ml/.local/share/jupyter/runtime/kernel-v2-11960d3XWuRkFZDdp.json']\n",
      "08 Feb 13:35    INFO  \n",
      "General Hyper Parameters:\n",
      "gpu_id = 0\n",
      "use_gpu = True\n",
      "seed = 2020\n",
      "state = INFO\n",
      "reproducibility = True\n",
      "data_path = dataset/train_data\n",
      "checkpoint_dir = saved\n",
      "show_progress = False\n",
      "save_dataset = False\n",
      "dataset_save_path = None\n",
      "save_dataloaders = False\n",
      "dataloaders_save_path = None\n",
      "log_wandb = False\n",
      "\n",
      "Training Hyper Parameters:\n",
      "epochs = 1\n",
      "train_batch_size = 2048\n",
      "learner = adam\n",
      "learning_rate = 0.001\n",
      "train_neg_sample_args = {'distribution': 'uniform', 'sample_num': 1, 'alpha': 1.0, 'dynamic': False, 'candidate_num': 0}\n",
      "eval_step = 1\n",
      "stopping_step = 5\n",
      "clip_grad_norm = None\n",
      "weight_decay = 0.0\n",
      "loss_decimal_place = 4\n",
      "\n",
      "Evaluation Hyper Parameters:\n",
      "eval_args = {'split': {'RS': [9, 1, 0]}, 'group_by': 'user', 'order': 'RO', 'mode': 'full'}\n",
      "repeatable = False\n",
      "metrics = ['Recall', 'MRR', 'NDCG', 'Hit', 'Precision', 'MAP']\n",
      "topk = [10]\n",
      "valid_metric = Recall@10\n",
      "valid_metric_bigger = True\n",
      "eval_batch_size = 4096\n",
      "metric_decimal_place = 4\n",
      "\n",
      "Dataset Hyper Parameters:\n",
      "field_separator = \t\n",
      "seq_separator =  \n",
      "USER_ID_FIELD = user_id\n",
      "ITEM_ID_FIELD = item_id\n",
      "RATING_FIELD = rating\n",
      "TIME_FIELD = timestamp\n",
      "seq_len = None\n",
      "LABEL_FIELD = label\n",
      "threshold = None\n",
      "NEG_PREFIX = neg_\n",
      "load_col = {'inter': ['user_id', 'item_id'], 'user': ['user_id'], 'item': ['item_id']}\n",
      "unload_col = None\n",
      "unused_col = None\n",
      "additional_feat_suffix = None\n",
      "rm_dup_inter = None\n",
      "val_interval = None\n",
      "filter_inter_by_user_or_item = True\n",
      "user_inter_num_interval = [0,inf)\n",
      "item_inter_num_interval = [0,inf)\n",
      "alias_of_user_id = None\n",
      "alias_of_item_id = None\n",
      "alias_of_entity_id = None\n",
      "alias_of_relation_id = None\n",
      "preload_weight = None"
     ]
    },
    {
     "name": "stdout",
     "output_type": "stream",
     "text": [
      "running LightGCN...\n"
     ]
    },
    {
     "name": "stderr",
     "output_type": "stream",
     "text": [
      "\n",
      "normalize_field = None\n",
      "normalize_all = None\n",
      "ITEM_LIST_LENGTH_FIELD = item_length\n",
      "LIST_SUFFIX = _list\n",
      "MAX_ITEM_LIST_LENGTH = 50\n",
      "POSITION_FIELD = position_id\n",
      "HEAD_ENTITY_ID_FIELD = head_id\n",
      "TAIL_ENTITY_ID_FIELD = tail_id\n",
      "RELATION_ID_FIELD = relation_id\n",
      "ENTITY_ID_FIELD = entity_id\n",
      "benchmark_filename = None\n",
      "\n",
      "Other Hyper Parameters: \n",
      "worker = 0\n",
      "wandb_project = Recbole\n",
      "shuffle = True\n",
      "require_pow = False\n",
      "enable_amp = False\n",
      "enable_scaler = False\n",
      "transform = None\n",
      "embedding_size = 64\n",
      "n_layers = 2\n",
      "reg_weight = 1e-05\n",
      "numerical_features = []\n",
      "discretization = None\n",
      "kg_reverse_r = False\n",
      "entity_kg_num_interval = [0,inf)\n",
      "relation_kg_num_interval = [0,inf)\n",
      "MODEL_TYPE = ModelType.GENERAL\n",
      "loss_type = CE\n",
      "device = cuda\n",
      "model_name = LightGCN\n",
      "dataset_name = train_data\n",
      "inference = False\n",
      "config = Model_config/LGCN_update.yaml\n",
      "top_k = 10\n",
      "mvti = True\n",
      "wandb = False\n",
      "MODEL_INPUT_TYPE = InputType.PAIRWISE\n",
      "eval_type = EvaluatorType.RANKING\n",
      "single_spec = True\n",
      "local_rank = 0\n",
      "eval_neg_sample_args = {'distribution': 'uniform', 'sample_num': 'none'}\n",
      "\n",
      "\n",
      "08 Feb 13:36    INFO  train_data\n",
      "The number of users: 161871\n",
      "Average actions of users: 39.222110335454374\n",
      "The number of items: 1081\n",
      "Average actions of items: 5878.595370370371\n",
      "The number of inters: 6348883\n",
      "The sparsity of the dataset: 96.37170508504016%\n",
      "Remain Fields: ['user_id', 'item_id']\n",
      "08 Feb 13:37    INFO  [Training]: train_batch_size = [2048] train_neg_sample_args: [{'distribution': 'uniform', 'sample_num': 1, 'alpha': 1.0, 'dynamic': False, 'candidate_num': 0}]\n",
      "08 Feb 13:37    INFO  [Evaluation]: eval_batch_size = [4096] eval_args: [{'split': {'RS': [9, 1, 0]}, 'group_by': 'user', 'order': 'RO', 'mode': 'full'}]\n",
      "08 Feb 13:37    INFO  LightGCN(\n",
      "  (user_embedding): Embedding(161871, 64)\n",
      "  (item_embedding): Embedding(1081, 64)\n",
      "  (mf_loss): BPRLoss()\n",
      "  (reg_loss): EmbLoss()\n",
      ")\n",
      "Trainable parameters: 10428928\n",
      "08 Feb 13:37    INFO  FLOPs: 0.0\n",
      "08 Feb 13:48    INFO  epoch 0 training [time: 672.67s, train loss: 770.7144]\n",
      "08 Feb 13:49    INFO  epoch 0 evaluating [time: 46.94s, valid_score: 0.307700]\n",
      "08 Feb 13:49    INFO  valid result: \n",
      "recall@10 : 0.3077    mrr@10 : 0.2633    ndcg@10 : 0.2182    hit@10 : 0.5227    precision@10 : 0.0887    map@10 : 0.145\n",
      "08 Feb 13:49    INFO  Saving current: saved/LightGCN-Feb-08-2023_13-37-46.pth\n",
      "08 Feb 13:49    INFO  best valid : OrderedDict([('recall@10', 0.3077), ('mrr@10', 0.2633), ('ndcg@10', 0.2182), ('hit@10', 0.5227), ('precision@10', 0.0887), ('map@10', 0.145)])\n",
      "08 Feb 13:49    INFO  test result: None\n"
     ]
    },
    {
     "name": "stdout",
     "output_type": "stream",
     "text": [
      "result :  {'best_valid_score': 0.3077, 'valid_score_bigger': True, 'best_valid_result': OrderedDict([('recall@10', 0.3077), ('mrr@10', 0.2633), ('ndcg@10', 0.2182), ('hit@10', 0.5227), ('precision@10', 0.0887), ('map@10', 0.145)]), 'test_result': None}\n"
     ]
    }
   ],
   "source": [
    "result = train_LGCN()"
   ]
  },
  {
   "cell_type": "code",
   "execution_count": 28,
   "metadata": {},
   "outputs": [
    {
     "name": "stderr",
     "output_type": "stream",
     "text": [
      "08 Feb 12:41    INFO  [Training]: train_batch_size = [2048] train_neg_sample_args: [{'distribution': 'uniform', 'sample_num': 1, 'alpha': 1.0, 'dynamic': False, 'candidate_num': 0}]\n",
      "08 Feb 12:41    INFO  [Evaluation]: eval_batch_size = [4096] eval_args: [{'split': {'RS': [999999, 0, 1]}, 'group_by': 'user', 'order': 'RO', 'mode': 'full'}]\n"
     ]
    }
   ],
   "source": [
    "save_annoy()"
   ]
  },
  {
   "cell_type": "code",
   "execution_count": 21,
   "metadata": {},
   "outputs": [],
   "source": [
    "import os\n",
    "model_name = \"LightGCN\"\n",
    "    \n",
    "# model_name이 들어가는 pth 파일 중 최근에 생성된 걸로 불러옴\n",
    "log_path = './log/LightGCN/'\n",
    "os.makedirs('log/LightGCN/',exist_ok=True)\n",
    "save_path = os.listdir(log_path)\n",
    "last_log = log_path + sorted([file for file in save_path if model_name in file ])[-2]"
   ]
  },
  {
   "cell_type": "code",
   "execution_count": 22,
   "metadata": {},
   "outputs": [],
   "source": [
    "with open(last_log,'r') as f:\n",
    "    temp = f.readlines()"
   ]
  },
  {
   "cell_type": "code",
   "execution_count": 23,
   "metadata": {},
   "outputs": [],
   "source": [
    "for line in temp:\n",
    "    if 'best valid' in line:\n",
    "        log_line = line"
   ]
  },
  {
   "cell_type": "code",
   "execution_count": 25,
   "metadata": {},
   "outputs": [
    {
     "data": {
      "text/plain": [
       "\"Wed 08 Feb 2023 11:18:25 INFO  best valid : OrderedDict([('recall@10', 0.3083), ('mrr@10', 0.2628), ('ndcg@10', 0.2183), ('hit@10', 0.5231), ('precision@10', 0.0886), ('map@10', 0.1451)])\\n\""
      ]
     },
     "execution_count": 25,
     "metadata": {},
     "output_type": "execute_result"
    }
   ],
   "source": [
    "log_line"
   ]
  },
  {
   "cell_type": "code",
   "execution_count": 30,
   "metadata": {},
   "outputs": [],
   "source": [
    "import torch\n",
    "model_name = \"LightGCN\"\n",
    "\n",
    "# model_name이 들어가는 pth 파일 중 최근에 생성된 걸로 불러옴\n",
    "os.makedirs('saved',exist_ok=True)\n",
    "save_path = os.listdir('./saved')\n",
    "model_path = './saved/' + sorted([file for file in save_path if model_name in file ])[-1]\n",
    "\n",
    "checkpoint = torch.load(model_path)"
   ]
  },
  {
   "cell_type": "code",
   "execution_count": 31,
   "metadata": {},
   "outputs": [
    {
     "data": {
      "text/plain": [
       "dict_keys(['config', 'epoch', 'cur_step', 'best_valid_score', 'state_dict', 'other_parameter', 'optimizer'])"
      ]
     },
     "execution_count": 31,
     "metadata": {},
     "output_type": "execute_result"
    }
   ],
   "source": [
    "checkpoint.keys()"
   ]
  },
  {
   "cell_type": "code",
   "execution_count": 3,
   "metadata": {},
   "outputs": [
    {
     "data": {
      "text/plain": [
       "{'best_valid_score': 0.3077,\n",
       " 'valid_score_bigger': True,\n",
       " 'best_valid_result': OrderedDict([('recall@10', 0.3077),\n",
       "              ('mrr@10', 0.2633),\n",
       "              ('ndcg@10', 0.2182),\n",
       "              ('hit@10', 0.5227),\n",
       "              ('precision@10', 0.0887),\n",
       "              ('map@10', 0.145)]),\n",
       " 'test_result': None}"
      ]
     },
     "execution_count": 3,
     "metadata": {},
     "output_type": "execute_result"
    }
   ],
   "source": [
    "result"
   ]
  },
  {
   "cell_type": "code",
   "execution_count": 8,
   "metadata": {},
   "outputs": [
    {
     "name": "stdout",
     "output_type": "stream",
     "text": [
      "recall@10 0.3077\n",
      "mrr@10 0.2633\n",
      "ndcg@10 0.2182\n",
      "hit@10 0.5227\n",
      "precision@10 0.0887\n",
      "map@10 0.145\n"
     ]
    }
   ],
   "source": [
    "import mlflow\n",
    "import pandas as pd\n",
    "import numpy as np\n",
    "import os\n",
    "import warnings\n",
    "warnings.filterwarnings('ignore')\n",
    "\n",
    "from collections import OrderedDict\n",
    "\n",
    "remote_server_uri=\"http://101.101.219.178:30005\"\n",
    "mlflow.set_tracking_uri(remote_server_uri)\n",
    "\n",
    "client = mlflow.tracking.MlflowClient()\n",
    "experiment_name = \"LightGCN\" # experiment 이름\n",
    "try:\n",
    "    experiment_id = client.create_experiment(experiment_name)\n",
    "except:\n",
    "    experiment = client.get_experiment_by_name(experiment_name)\n",
    "    experiment_id = experiment.experiment_id\n",
    "experiment_id\n",
    "\n",
    "run_name=\"LightGCN\"\n",
    "\n",
    "model_name = \"LightGCN\"\n",
    "\n",
    "# model_name이 들어가는 pth 파일 중 최근에 생성된 걸로 불러옴\n",
    "os.makedirs('saved',exist_ok=True)\n",
    "save_path = os.listdir('./saved')\n",
    "model_path = './saved/' + sorted([file for file in save_path if model_name in file ])[-1]\n",
    "\n",
    "desc=\"Model path: \" + model_path\n",
    "with mlflow.start_run(run_name=run_name, description=desc, experiment_id=experiment_id) as run:\n",
    "    for metric, score in result['best_valid_result'].items():\n",
    "        print(metric,score)\n",
    "        mlflow.log_metric(metric.replace('@','.'), score)"
   ]
  },
  {
   "cell_type": "code",
   "execution_count": null,
   "metadata": {},
   "outputs": [],
   "source": []
  }
 ],
 "metadata": {
  "kernelspec": {
   "display_name": "base",
   "language": "python",
   "name": "python3"
  },
  "language_info": {
   "codemirror_mode": {
    "name": "ipython",
    "version": 3
   },
   "file_extension": ".py",
   "mimetype": "text/x-python",
   "name": "python",
   "nbconvert_exporter": "python",
   "pygments_lexer": "ipython3",
   "version": "3.8.5"
  },
  "orig_nbformat": 4,
  "vscode": {
   "interpreter": {
    "hash": "d4d1e4263499bec80672ea0156c357c1ee493ec2b1c70f0acce89fc37c4a6abe"
   }
  }
 },
 "nbformat": 4,
 "nbformat_minor": 2
}
