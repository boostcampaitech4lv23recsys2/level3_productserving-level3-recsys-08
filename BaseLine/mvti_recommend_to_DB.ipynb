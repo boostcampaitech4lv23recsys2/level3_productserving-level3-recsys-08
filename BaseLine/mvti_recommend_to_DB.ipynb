{
 "cells": [
  {
   "cell_type": "code",
   "execution_count": 9,
   "id": "18372410",
   "metadata": {
    "ExecuteTime": {
     "end_time": "2023-02-08T10:31:52.251207Z",
     "start_time": "2023-02-08T10:31:52.240315Z"
    }
   },
   "outputs": [
    {
     "name": "stdout",
     "output_type": "stream",
     "text": [
      "create engine!\n",
      "inference start!\n"
     ]
    }
   ],
   "source": [
    "import torch\n",
    "import numpy as np\n",
    "import pandas as pd\n",
    "from tqdm import tqdm\n",
    "import pickle\n",
    "from recbole.data import create_dataset, data_preparation, Interaction\n",
    "from recbole.utils import init_logger, get_trainer, get_model, init_seed, set_color\n",
    "from recbole.utils.case_study import full_sort_topk\n",
    "import os\n",
    "import glob\n",
    "from environ import Env\n",
    "from pathlib import Path\n",
    "from sqlalchemy import create_engine\n",
    "\n",
    "print(\"create engine!\")\n",
    "# Build paths inside the project like this: BASE_DIR / 'subdir'.\n",
    "BASE_DIR = Path(os.curdir).resolve().parent\n",
    "env = Env()\n",
    "env_path = BASE_DIR / \"django/.env\"\n",
    "if env_path.exists():\n",
    "    with env_path.open(\"rt\", encoding=\"utf8\") as f:\n",
    "        env.read_env(f, overwrite=True)\n",
    "\n",
    "dbname = env.get_value('GCPDB_NAME')\n",
    "user = env.get_value('GCPDB_USER')\n",
    "pw = env.get_value('GCPDB_PASSWORD')\n",
    "host = env.get_value('GCPDB_HOST')\n",
    "\n",
    "# engine 생성\n",
    "engine = create_engine(f'mysql+mysqldb://{user}:{pw}@{host}:3306/{dbname}?charset=utf8')\n",
    "\n",
    "topk=500\n",
    "model_name=\"EASE\"\n",
    "model_path=None\n",
    "\n",
    "\n",
    "print('inference start!')\n",
    "if model_path is None:\n",
    "    # model_name이 들어가는 pth 파일 중 최근에 생성된 걸로 불러옴\n",
    "    os.makedirs('saved',exist_ok=True)\n",
    "    save_path = glob.glob('./saved/*')\n",
    "    latest_model_path = max(save_path, key=os.path.getctime)\n",
    "model_path_absolute = Path(latest_model_path).absolute()"
   ]
  },
  {
   "cell_type": "code",
   "execution_count": 1,
   "id": "a2c862d1",
   "metadata": {
    "ExecuteTime": {
     "end_time": "2023-02-08T06:25:20.689147Z",
     "start_time": "2023-02-08T06:24:16.994393Z"
    }
   },
   "outputs": [
    {
     "name": "stdout",
     "output_type": "stream",
     "text": [
      "inference start!\n",
      "create dataset start!\n"
     ]
    },
    {
     "name": "stderr",
     "output_type": "stream",
     "text": [
      "In inter_feat, line [6348477, 6348671], item_id do not exist, so they will be removed.\n"
     ]
    },
    {
     "name": "stdout",
     "output_type": "stream",
     "text": [
      "{'RS': [999999, 0, 1]}\n",
      "create dataset done!\n"
     ]
    },
    {
     "name": "stderr",
     "output_type": "stream",
     "text": [
      "/opt/conda/lib/python3.8/site-packages/recbole/utils/case_study.py:39: UserWarning: To copy construct from a tensor, it is recommended to use sourceTensor.clone().detach() or sourceTensor.clone().detach().requires_grad_(True), rather than torch.tensor(sourceTensor).\n",
      "  uid_series = torch.tensor(uid_series)\n"
     ]
    },
    {
     "data": {
      "text/plain": [
       "12"
      ]
     },
     "execution_count": 1,
     "metadata": {},
     "output_type": "execute_result"
    }
   ],
   "source": [
    "K = topk\n",
    "\n",
    "# config, model, dataset 불러오기\n",
    "checkpoint = torch.load(latest_model_path)\n",
    "config = checkpoint['config']\n",
    "\n",
    "init_seed(config['seed'], config['reproducibility'])\n",
    "config['dataset'] = 'train_data'\n",
    "if model_name==\"S3Rec\":\n",
    "    config['eval_args']['split']={'RS':[99999,0,1]}\n",
    "else:\n",
    "    config['eval_args']['split']['RS']=[999999,0,1]\n",
    "print(\"create dataset start!\")\n",
    "dataset = create_dataset(config)\n",
    "train_data, valid_data, test_data = data_preparation(config, dataset)\n",
    "print(\"create dataset done!\")\n",
    "\n",
    "model = get_model(config['model'])(config, train_data.dataset).to(config['device'])\n",
    "model.load_state_dict(checkpoint['state_dict'])\n",
    "model.load_other_parameter(checkpoint.get('other_parameter'))\n",
    "\n",
    "# device 설정\n",
    "device = config.final_config_dict['device']\n",
    "\n",
    "# user, item id -> token 변환 array\n",
    "user_id = config['USER_ID_FIELD']\n",
    "item_id = config['ITEM_ID_FIELD']\n",
    "user_id2token = dataset.field2id_token[user_id]\n",
    "item_id2token = dataset.field2id_token[item_id]\n",
    "\n",
    "# 30만 번 이상 유저만, user tensor list 생성\n",
    "user_list=[]\n",
    "for idx,i in enumerate(user_id2token):\n",
    "    if i!='[PAD]':\n",
    "        if int(i)>=300_000:\n",
    "            user_list.append(idx)\n",
    "user_tensor_list = torch.tensor(user_list).clone().detach()\n",
    "\n",
    "# 예측\n",
    "pred_list = full_sort_topk(user_tensor_list, model, test_data, topk, device=device)[1]\n",
    "\n",
    "# user별 item 추천 결과 하나로 합쳐주기\n",
    "result = []\n",
    "for user, pred in zip(user_list, pred_list):\n",
    "    for item in pred:\n",
    "        result.append((int(user_id2token[user]), int(item_id2token[item])))\n",
    "sub = pd.DataFrame(result, columns=[\"user\", \"item\"])\n",
    "\n",
    "# DB에 쓸 결과 파일 생성\n",
    "result = sub.groupby('user').item.apply(list).reset_index()\n",
    "\n",
    "# 결과 파일 정제\n",
    "result['model_name'] = model_name\n",
    "result['model_path'] = model_path_absolute\n",
    "result['create_time'] = str(pd.Timestamp.now())\n",
    "result['id'] = 0\n",
    "\n",
    "# 유저 번호 30만 내려주기\n",
    "result.user -= 300_000\n",
    "\n",
    "result.rename(columns={'user':'LoginUser_id','item':'recommended_movie_list'},inplace=True)\n",
    "cols = ['id','LoginUser_id', 'model_name','model_path', 'recommended_movie_list', 'create_time']\n",
    "result = result[cols]\n",
    "# DB에 쓰기\n",
    "result.astype(str).to_sql(name='common_batchtrain', con=engine, index=False, if_exists='append')"
   ]
  }
 ],
 "metadata": {
  "kernelspec": {
   "display_name": "Python 3 (ipykernel)",
   "language": "python",
   "name": "python3"
  },
  "language_info": {
   "codemirror_mode": {
    "name": "ipython",
    "version": 3
   },
   "file_extension": ".py",
   "mimetype": "text/x-python",
   "name": "python",
   "nbconvert_exporter": "python",
   "pygments_lexer": "ipython3",
   "version": "3.8.5"
  },
  "toc": {
   "base_numbering": 1,
   "nav_menu": {},
   "number_sections": true,
   "sideBar": true,
   "skip_h1_title": false,
   "title_cell": "Table of Contents",
   "title_sidebar": "Contents",
   "toc_cell": false,
   "toc_position": {},
   "toc_section_display": true,
   "toc_window_display": false
  }
 },
 "nbformat": 4,
 "nbformat_minor": 5
}
