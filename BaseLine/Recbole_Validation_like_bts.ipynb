{
 "cells": [
  {
   "cell_type": "code",
   "execution_count": 1,
   "id": "18372410",
   "metadata": {
    "ExecuteTime": {
     "end_time": "2023-02-08T16:16:33.323593Z",
     "start_time": "2023-02-08T16:16:32.016699Z"
    }
   },
   "outputs": [
    {
     "name": "stdout",
     "output_type": "stream",
     "text": [
      "create engine!\n",
      "inference start!\n"
     ]
    }
   ],
   "source": [
    "import torch\n",
    "import numpy as np\n",
    "import pandas as pd\n",
    "from tqdm import tqdm\n",
    "import pickle\n",
    "from recbole.data import create_dataset, data_preparation, Interaction\n",
    "from recbole.utils import init_logger, get_trainer, get_model, init_seed, set_color\n",
    "from recbole.utils.case_study import full_sort_topk\n",
    "import os\n",
    "import glob\n",
    "from environ import Env\n",
    "from pathlib import Path\n",
    "from sqlalchemy import create_engine\n",
    "\n",
    "print(\"create engine!\")\n",
    "# Build paths inside the project like this: BASE_DIR / 'subdir'.\n",
    "BASE_DIR = Path(os.curdir).resolve().parent\n",
    "env = Env()\n",
    "env_path = BASE_DIR / \"django/.env\"\n",
    "if env_path.exists():\n",
    "    with env_path.open(\"rt\", encoding=\"utf8\") as f:\n",
    "        env.read_env(f, overwrite=True)\n",
    "\n",
    "dbname = env.get_value('GCPDB_NAME')\n",
    "user = env.get_value('GCPDB_USER')\n",
    "pw = env.get_value('GCPDB_PASSWORD')\n",
    "host = env.get_value('GCPDB_HOST')\n",
    "\n",
    "# engine 생성\n",
    "engine = create_engine(f'mysql+mysqldb://{user}:{pw}@{host}:3306/{dbname}?charset=utf8')\n",
    "\n",
    "topk=500\n",
    "model_name=\"EASE\"\n",
    "model_path=None\n",
    "\n",
    "\n",
    "print('inference start!')\n",
    "if model_path is None:\n",
    "    # model_name이 들어가는 pth 파일 중 최근에 생성된 걸로 불러옴\n",
    "    os.makedirs('saved',exist_ok=True)\n",
    "    save_path = glob.glob('./saved/*')\n",
    "    latest_model_path = max(save_path, key=os.path.getctime)\n",
    "model_path_absolute = Path(latest_model_path).absolute()"
   ]
  },
  {
   "cell_type": "code",
   "execution_count": 3,
   "id": "43d9753f",
   "metadata": {
    "ExecuteTime": {
     "end_time": "2023-02-08T16:18:10.281549Z",
     "start_time": "2023-02-08T16:17:55.272627Z"
    }
   },
   "outputs": [
    {
     "data": {
      "text/html": [
       "<div>\n",
       "<style scoped>\n",
       "    .dataframe tbody tr th:only-of-type {\n",
       "        vertical-align: middle;\n",
       "    }\n",
       "\n",
       "    .dataframe tbody tr th {\n",
       "        vertical-align: top;\n",
       "    }\n",
       "\n",
       "    .dataframe thead th {\n",
       "        text-align: right;\n",
       "    }\n",
       "</style>\n",
       "<table border=\"1\" class=\"dataframe\">\n",
       "  <thead>\n",
       "    <tr style=\"text-align: right;\">\n",
       "      <th></th>\n",
       "      <th>userId</th>\n",
       "      <th>movieId</th>\n",
       "    </tr>\n",
       "  </thead>\n",
       "  <tbody>\n",
       "    <tr>\n",
       "      <th>261</th>\n",
       "      <td>548</td>\n",
       "      <td>296</td>\n",
       "    </tr>\n",
       "    <tr>\n",
       "      <th>3955949</th>\n",
       "      <td>548</td>\n",
       "      <td>79702</td>\n",
       "    </tr>\n",
       "    <tr>\n",
       "      <th>5902187</th>\n",
       "      <td>548</td>\n",
       "      <td>64969</td>\n",
       "    </tr>\n",
       "    <tr>\n",
       "      <th>5898945</th>\n",
       "      <td>548</td>\n",
       "      <td>52245</td>\n",
       "    </tr>\n",
       "    <tr>\n",
       "      <th>2193245</th>\n",
       "      <td>548</td>\n",
       "      <td>4447</td>\n",
       "    </tr>\n",
       "    <tr>\n",
       "      <th>...</th>\n",
       "      <td>...</td>\n",
       "      <td>...</td>\n",
       "    </tr>\n",
       "    <tr>\n",
       "      <th>3047145</th>\n",
       "      <td>162516</td>\n",
       "      <td>60072</td>\n",
       "    </tr>\n",
       "    <tr>\n",
       "      <th>2454996</th>\n",
       "      <td>162516</td>\n",
       "      <td>7147</td>\n",
       "    </tr>\n",
       "    <tr>\n",
       "      <th>3294910</th>\n",
       "      <td>162516</td>\n",
       "      <td>76251</td>\n",
       "    </tr>\n",
       "    <tr>\n",
       "      <th>6121435</th>\n",
       "      <td>162516</td>\n",
       "      <td>82667</td>\n",
       "    </tr>\n",
       "    <tr>\n",
       "      <th>6249274</th>\n",
       "      <td>162516</td>\n",
       "      <td>80586</td>\n",
       "    </tr>\n",
       "  </tbody>\n",
       "</table>\n",
       "<p>261295 rows × 2 columns</p>\n",
       "</div>"
      ],
      "text/plain": [
       "         userId  movieId\n",
       "261         548      296\n",
       "3955949     548    79702\n",
       "5902187     548    64969\n",
       "5898945     548    52245\n",
       "2193245     548     4447\n",
       "...         ...      ...\n",
       "3047145  162516    60072\n",
       "2454996  162516     7147\n",
       "3294910  162516    76251\n",
       "6121435  162516    82667\n",
       "6249274  162516    80586\n",
       "\n",
       "[261295 rows x 2 columns]"
      ]
     },
     "execution_count": 3,
     "metadata": {},
     "output_type": "execute_result"
    }
   ],
   "source": [
    "mv_df = pd.read_pickle('../Utils/Pickle/230130_Popular_movie_1192_cwj.pickle')\n",
    "ml_df = pd.read_csv('../Data/EDA/ml-25m/ratings.csv')\n",
    "\n",
    "merged_df = pd.merge(ml_df,mv_df,how='inner',on='movieId')\n",
    "\n",
    "merged_df = merged_df.drop(['rating_x', 'timestamp', 'Contents', 'ko_title',\n",
    "       'contents_year', 'country', 'ko_genre', 'ko_plot', 'rating_y', 'npop',\n",
    "       'genres', 'plot', 'directors', 'actors'],axis=1)\n",
    "\n",
    "mask = merged_df.userId.isin(merged_df.userId.value_counts()[merged_df.userId.value_counts() > 350].index)\n",
    "interactions_df = merged_df[mask]\n",
    "\n",
    "interactions_df = interactions_df.sort_values('userId')\n",
    "\n",
    "interactions_df"
   ]
  },
  {
   "cell_type": "code",
   "execution_count": 58,
   "id": "ae1511bf",
   "metadata": {
    "ExecuteTime": {
     "end_time": "2023-02-08T16:43:30.975979Z",
     "start_time": "2023-02-08T16:43:30.972835Z"
    }
   },
   "outputs": [],
   "source": [
    "interactions_df.columns = ['user_id:token', 'item_id:token']"
   ]
  },
  {
   "cell_type": "code",
   "execution_count": 61,
   "id": "f776c06e",
   "metadata": {
    "ExecuteTime": {
     "end_time": "2023-02-08T16:49:00.604868Z",
     "start_time": "2023-02-08T16:49:00.235543Z"
    }
   },
   "outputs": [],
   "source": [
    "interactions_df.to_csv('../BaseLine/dataset/train_data/train_data.inter',sep='\\t',index=False)"
   ]
  }
 ],
 "metadata": {
  "kernelspec": {
   "display_name": "Python 3 (ipykernel)",
   "language": "python",
   "name": "python3"
  },
  "language_info": {
   "codemirror_mode": {
    "name": "ipython",
    "version": 3
   },
   "file_extension": ".py",
   "mimetype": "text/x-python",
   "name": "python",
   "nbconvert_exporter": "python",
   "pygments_lexer": "ipython3",
   "version": "3.8.5"
  },
  "toc": {
   "base_numbering": 1,
   "nav_menu": {},
   "number_sections": true,
   "sideBar": true,
   "skip_h1_title": false,
   "title_cell": "Table of Contents",
   "title_sidebar": "Contents",
   "toc_cell": false,
   "toc_position": {},
   "toc_section_display": true,
   "toc_window_display": false
  }
 },
 "nbformat": 4,
 "nbformat_minor": 5
}
