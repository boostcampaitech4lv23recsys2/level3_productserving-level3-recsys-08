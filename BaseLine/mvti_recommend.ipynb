{
 "cells": [
  {
   "cell_type": "code",
   "execution_count": 40,
   "id": "453c7330",
   "metadata": {
    "ExecuteTime": {
     "end_time": "2023-02-08T06:08:07.117874Z",
     "start_time": "2023-02-08T06:08:07.106945Z"
    }
   },
   "outputs": [],
   "source": [
    "import torch\n",
    "import numpy as np\n",
    "import pandas as pd\n",
    "from tqdm import tqdm\n",
    "import pickle\n",
    "from recbole.data import create_dataset, data_preparation, Interaction\n",
    "from recbole.utils import init_logger, get_trainer, get_model, init_seed, set_color\n",
    "from recbole.utils.case_study import full_sort_topk\n",
    "import os\n",
    "from environ import Env\n",
    "from pathlib import Path\n",
    "from sqlalchemy import create_engine"
   ]
  },
  {
   "cell_type": "code",
   "execution_count": 43,
   "id": "3d82d64f",
   "metadata": {
    "ExecuteTime": {
     "end_time": "2023-02-08T06:08:29.260540Z",
     "start_time": "2023-02-08T06:08:29.129474Z"
    }
   },
   "outputs": [],
   "source": [
    "# Build paths inside the project like this: BASE_DIR / 'subdir'.\n",
    "BASE_DIR = Path(os.curdir).resolve().parent\n",
    "env = Env()\n",
    "env_path = BASE_DIR / \"django/.env\"\n",
    "if env_path.exists():\n",
    "    with env_path.open(\"rt\", encoding=\"utf8\") as f:\n",
    "        env.read_env(f, overwrite=True)\n",
    "\n",
    "dbname = env.get_value('GCPDB_NAME')\n",
    "user = env.get_value('GCPDB_USER')\n",
    "pw = env.get_value('GCPDB_PASSWORD')\n",
    "host = env.get_value('GCPDB_HOST')\n",
    "\n",
    "# engine 생성\n",
    "engine = create_engine(f'mysql+mysqldb://{user}:{pw}@{host}:3306/{dbname}?charset=utf8')"
   ]
  },
  {
   "cell_type": "code",
   "execution_count": 68,
   "id": "e98f42aa",
   "metadata": {
    "ExecuteTime": {
     "end_time": "2023-02-08T16:14:34.832791Z",
     "start_time": "2023-02-08T16:14:34.829519Z"
    }
   },
   "outputs": [],
   "source": [
    "topk=500\n",
    "model_name=\"EASE\"\n",
    "model_path=\"./saved/EASE-Feb-05-2023_05-23-53.pth\"\n",
    "model_path_absolute = Path(model_path).absolute()"
   ]
  },
  {
   "cell_type": "code",
   "execution_count": 70,
   "id": "4f6ba668",
   "metadata": {
    "ExecuteTime": {
     "end_time": "2023-02-08T16:14:42.920523Z",
     "start_time": "2023-02-08T16:14:42.916591Z"
    }
   },
   "outputs": [
    {
     "data": {
      "text/plain": [
       "'/opt/ml/project2/BaseLine/saved/EASE-Feb-05-2023_05-23-53.pth'"
      ]
     },
     "execution_count": 70,
     "metadata": {},
     "output_type": "execute_result"
    }
   ],
   "source": [
    "str(model_path_absolute)"
   ]
  },
  {
   "cell_type": "code",
   "execution_count": 64,
   "id": "37b409c7",
   "metadata": {
    "ExecuteTime": {
     "end_time": "2023-02-08T07:11:09.777915Z",
     "start_time": "2023-02-08T07:10:05.436787Z"
    }
   },
   "outputs": [
    {
     "name": "stdout",
     "output_type": "stream",
     "text": [
      "inference start!\n",
      "create dataset start!\n"
     ]
    },
    {
     "name": "stderr",
     "output_type": "stream",
     "text": [
      "In inter_feat, line [6348477, 6348671], item_id do not exist, so they will be removed.\n"
     ]
    },
    {
     "name": "stdout",
     "output_type": "stream",
     "text": [
      "{'RS': [999999, 0, 1]}\n",
      "create dataset done!\n"
     ]
    }
   ],
   "source": [
    "print('inference start!')\n",
    "if model_path is None:\n",
    "    # model_name이 들어가는 pth 파일 중 최근에 생성된 걸로 불러옴\n",
    "    os.makedirs('saved',exist_ok=True)\n",
    "    save_path = os.listdir('./saved')\n",
    "    model_path = './saved/' + sorted([file for file in save_path if model_name in file ])[-1]\n",
    "\n",
    "K = topk\n",
    "\n",
    "# config, model, dataset 불러오기\n",
    "checkpoint = torch.load(model_path)\n",
    "config = checkpoint['config']\n",
    "\n",
    "init_seed(config['seed'], config['reproducibility'])\n",
    "config['dataset'] = 'train_data'\n",
    "if model_name==\"S3Rec\":\n",
    "    config['eval_args']['split']={'RS':[99999,0,1]}\n",
    "else:\n",
    "    config['eval_args']['split']['RS']=[999999,0,1]\n",
    "print(\"create dataset start!\")\n",
    "dataset = create_dataset(config)\n",
    "train_data, valid_data, test_data = data_preparation(config, dataset)\n",
    "print(\"create dataset done!\")\n",
    "\n",
    "model = get_model(config['model'])(config, train_data.dataset).to(config['device'])\n",
    "model.load_state_dict(checkpoint['state_dict'])\n",
    "model.load_other_parameter(checkpoint.get('other_parameter'))\n",
    "\n",
    "# device 설정\n",
    "device = config.final_config_dict['device']\n",
    "\n",
    "# user, item id -> token 변환 array\n",
    "user_id = config['USER_ID_FIELD']\n",
    "item_id = config['ITEM_ID_FIELD']\n",
    "user_id2token = dataset.field2id_token[user_id]\n",
    "item_id2token = dataset.field2id_token[item_id]"
   ]
  },
  {
   "cell_type": "code",
   "execution_count": 65,
   "id": "9593cd2f",
   "metadata": {
    "ExecuteTime": {
     "end_time": "2023-02-08T07:11:09.910995Z",
     "start_time": "2023-02-08T07:11:09.780130Z"
    }
   },
   "outputs": [],
   "source": [
    "user_list=[]\n",
    "for idx,i in enumerate(user_id2token):\n",
    "    if i!='[PAD]':\n",
    "        if int(i)>=300_000:\n",
    "            user_list.append(idx)"
   ]
  },
  {
   "cell_type": "code",
   "execution_count": 66,
   "id": "a95b3e88",
   "metadata": {
    "ExecuteTime": {
     "end_time": "2023-02-08T07:11:12.765241Z",
     "start_time": "2023-02-08T07:11:12.761131Z"
    }
   },
   "outputs": [
    {
     "data": {
      "text/plain": [
       "tensor([161860, 161861, 161862, 161863, 161864, 161865, 161866, 161867, 161868,\n",
       "        161869, 161870, 161871])"
      ]
     },
     "execution_count": 66,
     "metadata": {},
     "output_type": "execute_result"
    }
   ],
   "source": [
    "user_tensor_list = torch.tensor(copy(user_list))\n",
    "user_tensor_list"
   ]
  },
  {
   "cell_type": "code",
   "execution_count": null,
   "id": "3e9c29e4",
   "metadata": {},
   "outputs": [],
   "source": []
  },
  {
   "cell_type": "code",
   "execution_count": 67,
   "id": "7edd7af6",
   "metadata": {
    "ExecuteTime": {
     "end_time": "2023-02-08T07:11:16.118055Z",
     "start_time": "2023-02-08T07:11:16.111998Z"
    }
   },
   "outputs": [
    {
     "name": "stderr",
     "output_type": "stream",
     "text": [
      "/opt/conda/lib/python3.8/site-packages/recbole/utils/case_study.py:39: UserWarning: To copy construct from a tensor, it is recommended to use sourceTensor.clone().detach() or sourceTensor.clone().detach().requires_grad_(True), rather than torch.tensor(sourceTensor).\n",
      "  uid_series = torch.tensor(uid_series)\n"
     ]
    }
   ],
   "source": [
    "pred_list = full_sort_topk(user_tensor_list, model, test_data, topk, device=device)[1]"
   ]
  },
  {
   "cell_type": "code",
   "execution_count": 22,
   "id": "1955f82f",
   "metadata": {
    "ExecuteTime": {
     "end_time": "2023-02-08T05:59:24.405971Z",
     "start_time": "2023-02-08T05:59:24.380478Z"
    }
   },
   "outputs": [],
   "source": [
    "# user별 item 추천 결과 하나로 합쳐주기\n",
    "result = []\n",
    "for user, pred in zip(user_list, pred_list):\n",
    "    for item in pred:\n",
    "        result.append((int(user_id2token[user]), int(item_id2token[item])))\n",
    "sub = pd.DataFrame(result, columns=[\"user\", \"item\"])"
   ]
  },
  {
   "cell_type": "code",
   "execution_count": 24,
   "id": "d69a8136",
   "metadata": {
    "ExecuteTime": {
     "end_time": "2023-02-08T05:59:54.413298Z",
     "start_time": "2023-02-08T05:59:54.406290Z"
    }
   },
   "outputs": [],
   "source": [
    "result = sub.groupby('user').item.apply(list).reset_index()"
   ]
  },
  {
   "cell_type": "code",
   "execution_count": 49,
   "id": "1444759b",
   "metadata": {
    "ExecuteTime": {
     "end_time": "2023-02-08T06:10:38.184468Z",
     "start_time": "2023-02-08T06:10:38.179740Z"
    }
   },
   "outputs": [],
   "source": [
    "result['model_name'] = model_name\n",
    "result['model_path'] = model_path_absolute\n",
    "result['create_time'] = str(pd.Timestamp.now())\n",
    "result['id'] = 0"
   ]
  },
  {
   "cell_type": "code",
   "execution_count": 30,
   "id": "06538aa8",
   "metadata": {
    "ExecuteTime": {
     "end_time": "2023-02-08T06:04:46.511988Z",
     "start_time": "2023-02-08T06:04:46.508592Z"
    }
   },
   "outputs": [],
   "source": [
    "result.user -= 300_000"
   ]
  },
  {
   "cell_type": "code",
   "execution_count": 35,
   "id": "c40189af",
   "metadata": {
    "ExecuteTime": {
     "end_time": "2023-02-08T06:06:40.666056Z",
     "start_time": "2023-02-08T06:06:40.662400Z"
    }
   },
   "outputs": [],
   "source": [
    "result.rename(columns={'user':'LoginUser_id','item':'recommended_movie_list'},inplace=True)"
   ]
  },
  {
   "cell_type": "code",
   "execution_count": 45,
   "id": "0dce5fd4",
   "metadata": {
    "ExecuteTime": {
     "end_time": "2023-02-08T06:08:56.729266Z",
     "start_time": "2023-02-08T06:08:56.723798Z"
    }
   },
   "outputs": [],
   "source": [
    "cols = ['id','LoginUser_id', 'model_name','model_path', 'recommended_movie_list', 'create_time']\n",
    "result = result[cols]"
   ]
  },
  {
   "cell_type": "code",
   "execution_count": 55,
   "id": "9ac09628",
   "metadata": {
    "ExecuteTime": {
     "end_time": "2023-02-08T06:13:01.240129Z",
     "start_time": "2023-02-08T06:13:01.193965Z"
    }
   },
   "outputs": [
    {
     "data": {
      "text/plain": [
       "12"
      ]
     },
     "execution_count": 55,
     "metadata": {},
     "output_type": "execute_result"
    }
   ],
   "source": [
    "result.astype(str).to_sql(name='common_batchtrain', con=engine, index=False, if_exists='append')"
   ]
  },
  {
   "cell_type": "code",
   "execution_count": null,
   "id": "e50a3dff",
   "metadata": {},
   "outputs": [],
   "source": []
  },
  {
   "cell_type": "code",
   "execution_count": null,
   "id": "90a57b73",
   "metadata": {},
   "outputs": [],
   "source": []
  },
  {
   "cell_type": "code",
   "execution_count": 51,
   "id": "2a4c1090",
   "metadata": {
    "ExecuteTime": {
     "end_time": "2023-02-06T20:08:40.108089Z",
     "start_time": "2023-02-06T20:08:40.098678Z"
    },
    "collapsed": true
   },
   "outputs": [
    {
     "data": {
      "text/html": [
       "<div>\n",
       "<style scoped>\n",
       "    .dataframe tbody tr th:only-of-type {\n",
       "        vertical-align: middle;\n",
       "    }\n",
       "\n",
       "    .dataframe tbody tr th {\n",
       "        vertical-align: top;\n",
       "    }\n",
       "\n",
       "    .dataframe thead th {\n",
       "        text-align: right;\n",
       "    }\n",
       "</style>\n",
       "<table border=\"1\" class=\"dataframe\">\n",
       "  <thead>\n",
       "    <tr style=\"text-align: right;\">\n",
       "      <th></th>\n",
       "      <th>user</th>\n",
       "      <th>item</th>\n",
       "    </tr>\n",
       "  </thead>\n",
       "  <tbody>\n",
       "    <tr>\n",
       "      <th>0</th>\n",
       "      <td>300001</td>\n",
       "      <td>35836</td>\n",
       "    </tr>\n",
       "    <tr>\n",
       "      <th>1</th>\n",
       "      <td>300001</td>\n",
       "      <td>80463</td>\n",
       "    </tr>\n",
       "    <tr>\n",
       "      <th>2</th>\n",
       "      <td>300001</td>\n",
       "      <td>7451</td>\n",
       "    </tr>\n",
       "    <tr>\n",
       "      <th>3</th>\n",
       "      <td>300001</td>\n",
       "      <td>182715</td>\n",
       "    </tr>\n",
       "    <tr>\n",
       "      <th>4</th>\n",
       "      <td>300001</td>\n",
       "      <td>7293</td>\n",
       "    </tr>\n",
       "    <tr>\n",
       "      <th>...</th>\n",
       "      <td>...</td>\n",
       "      <td>...</td>\n",
       "    </tr>\n",
       "    <tr>\n",
       "      <th>145</th>\n",
       "      <td>300001</td>\n",
       "      <td>45666</td>\n",
       "    </tr>\n",
       "    <tr>\n",
       "      <th>146</th>\n",
       "      <td>300001</td>\n",
       "      <td>70286</td>\n",
       "    </tr>\n",
       "    <tr>\n",
       "      <th>147</th>\n",
       "      <td>300001</td>\n",
       "      <td>105213</td>\n",
       "    </tr>\n",
       "    <tr>\n",
       "      <th>148</th>\n",
       "      <td>300001</td>\n",
       "      <td>1954</td>\n",
       "    </tr>\n",
       "    <tr>\n",
       "      <th>149</th>\n",
       "      <td>300001</td>\n",
       "      <td>6155</td>\n",
       "    </tr>\n",
       "  </tbody>\n",
       "</table>\n",
       "<p>150 rows × 2 columns</p>\n",
       "</div>"
      ],
      "text/plain": [
       "       user    item\n",
       "0    300001   35836\n",
       "1    300001   80463\n",
       "2    300001    7451\n",
       "3    300001  182715\n",
       "4    300001    7293\n",
       "..      ...     ...\n",
       "145  300001   45666\n",
       "146  300001   70286\n",
       "147  300001  105213\n",
       "148  300001    1954\n",
       "149  300001    6155\n",
       "\n",
       "[150 rows x 2 columns]"
      ]
     },
     "execution_count": 51,
     "metadata": {},
     "output_type": "execute_result"
    }
   ],
   "source": [
    "sub[sub.item.isin(mdf.movieId)]"
   ]
  },
  {
   "cell_type": "code",
   "execution_count": null,
   "id": "a16feadc",
   "metadata": {},
   "outputs": [],
   "source": [
    "user 별 인터랙션 확인\n",
    "user 별 로 1200개 영화에 포함되는 추천 안정적으로 받는 K개 찾기 -> 엄청 넉넉하게주기 거의 다 sort한다는 느낌\n",
    "user 별로 1200개 내의 100개 영화이상 추천 받도록하기\n"
   ]
  },
  {
   "cell_type": "code",
   "execution_count": null,
   "id": "81e12bf6",
   "metadata": {},
   "outputs": [],
   "source": []
  },
  {
   "cell_type": "code",
   "execution_count": null,
   "id": "f6e555ef",
   "metadata": {},
   "outputs": [],
   "source": []
  },
  {
   "cell_type": "code",
   "execution_count": null,
   "id": "a846e12c",
   "metadata": {},
   "outputs": [],
   "source": []
  },
  {
   "cell_type": "code",
   "execution_count": null,
   "id": "df2a24e0",
   "metadata": {},
   "outputs": [],
   "source": [
    "# user, item 길이\n",
    "user_len = len(user_id2token) # 31361 (PAD 포함)\n",
    "item_len = len(item_id2token) # 6808 (PAD 포함)\n",
    "\n",
    "# user-item sparse matrix\n",
    "matrix = dataset.inter_matrix(form='csr') # (31361, 6808)\n",
    "\n",
    "# user id, predict item id 저장 변수\n",
    "pred_list = None\n",
    "user_list = []\n",
    "\n",
    "# user id list\n",
    "all_user_list = torch.arange(1, len(user_id2token)).view(-1,128) # 245, 128\n",
    "\n",
    "tbar = tqdm(all_user_list, desc=set_color(f\"Inference\", 'pink')) # 245, 128\n",
    "\n",
    "for data in tbar:\n",
    "    batch_pred_list = full_sort_topk(data, model, test_data, K+50, device=device)[1]\n",
    "    batch_pred_list = batch_pred_list.clone().detach().cpu().numpy()\n",
    "    if pred_list is None:\n",
    "        pred_list = batch_pred_list\n",
    "        user_list = data.numpy()\n",
    "    else:\n",
    "        pred_list = np.append(pred_list, batch_pred_list, axis=0)\n",
    "        user_list = np.append(\n",
    "            user_list, data.numpy(), axis=0\n",
    "        )\n",
    "tbar.close()\n",
    "\n",
    "# user별 item 추천 결과 하나로 합쳐주기\n",
    "result = []\n",
    "for user, pred in zip(user_list, pred_list):\n",
    "    for item in pred:\n",
    "        result.append((int(user_id2token[user]), int(item_id2token[item])))\n",
    "\n",
    "sub = pd.DataFrame(result, columns=[\"user\", \"item\"])\n",
    "\n",
    "# 인덱스 -> 유저 아이템번호 dictionary 불러오기\n",
    "with open('./index/uidx2user.pickle','rb') as f:\n",
    "    uidx2user = pickle.load(f)\n",
    "with open('./index/iidx2item.pickle','rb') as f:\n",
    "    iidx2item = pickle.load(f)   \n",
    "\n",
    "# submission 생성\n",
    "sub = pd.DataFrame(result, columns=[\"user\", \"item\"])\n",
    "sub.user = sub.user.map(uidx2user)\n",
    "sub.item = sub.item.map(iidx2item)\n",
    "\n",
    "# extract Top K \n",
    "users = sub.groupby('user').user.head(K).reset_index(drop=True)\n",
    "items = sub.groupby('user').item.head(K).reset_index(drop=True)\n",
    "sub = pd.concat([users,items],axis=1)\n",
    "\n",
    "print(f\"submission length: {sub.shape[0]}\")\n",
    "\n",
    "os.makedirs('submission',exist_ok=True)\n",
    "submission=f\"./submission/{model_path[8:-4]}.csv\"\n",
    "submission = uniquify(submission)\n",
    "sub[['user','item']].to_csv(\n",
    "    submission, index=False # \"./saved/\" 와 \".pth\" 제거\n",
    ")\n",
    "print(f\"model path: {model_path}\")\n",
    "print(f\"submission path: {os.path.relpath(submission)}\")\n",
    "print('inference done!')"
   ]
  }
 ],
 "metadata": {
  "kernelspec": {
   "display_name": "Python 3 (ipykernel)",
   "language": "python",
   "name": "python3"
  },
  "language_info": {
   "codemirror_mode": {
    "name": "ipython",
    "version": 3
   },
   "file_extension": ".py",
   "mimetype": "text/x-python",
   "name": "python",
   "nbconvert_exporter": "python",
   "pygments_lexer": "ipython3",
   "version": "3.8.5"
  },
  "toc": {
   "base_numbering": 1,
   "nav_menu": {},
   "number_sections": true,
   "sideBar": true,
   "skip_h1_title": false,
   "title_cell": "Table of Contents",
   "title_sidebar": "Contents",
   "toc_cell": false,
   "toc_position": {},
   "toc_section_display": true,
   "toc_window_display": false
  }
 },
 "nbformat": 4,
 "nbformat_minor": 5
}
