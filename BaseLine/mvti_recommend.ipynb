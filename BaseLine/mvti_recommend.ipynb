{
 "cells": [
  {
   "cell_type": "code",
   "execution_count": 1,
   "id": "453c7330",
   "metadata": {
    "ExecuteTime": {
     "end_time": "2023-02-04T20:12:17.999120Z",
     "start_time": "2023-02-04T20:12:16.902184Z"
    }
   },
   "outputs": [],
   "source": [
    "import torch\n",
    "import numpy as np\n",
    "import pandas as pd\n",
    "from tqdm import tqdm\n",
    "import pickle\n",
    "from recbole.data import create_dataset, data_preparation, Interaction\n",
    "from recbole.utils import init_logger, get_trainer, get_model, init_seed, set_color\n",
    "from recbole.utils.case_study import full_sort_topk\n",
    "import os"
   ]
  },
  {
   "cell_type": "code",
   "execution_count": 44,
   "id": "bd21cc40",
   "metadata": {
    "ExecuteTime": {
     "end_time": "2023-02-06T20:06:52.151701Z",
     "start_time": "2023-02-06T20:06:52.133464Z"
    }
   },
   "outputs": [],
   "source": [
    "cdf = pd.read_pickle('../Utils/Pickle/230203_character_movie_merge.pickle')\n",
    "mdf = pd.read_pickle('../Utils/Pickle/230130_Popular_movie_1192_cwj.pickle')"
   ]
  },
  {
   "cell_type": "code",
   "execution_count": 46,
   "id": "2600d808",
   "metadata": {
    "ExecuteTime": {
     "end_time": "2023-02-06T20:06:58.448546Z",
     "start_time": "2023-02-06T20:06:58.443982Z"
    }
   },
   "outputs": [
    {
     "data": {
      "text/plain": [
       "((2869, 11), (1192, 13))"
      ]
     },
     "execution_count": 46,
     "metadata": {},
     "output_type": "execute_result"
    }
   ],
   "source": [
    "cdf.shape, mdf.shape"
   ]
  },
  {
   "cell_type": "code",
   "execution_count": 6,
   "id": "e98f42aa",
   "metadata": {
    "ExecuteTime": {
     "end_time": "2023-02-04T20:27:12.407118Z",
     "start_time": "2023-02-04T20:27:12.404254Z"
    }
   },
   "outputs": [],
   "source": [
    "topk=100\n",
    "model_name=\"EASE\"\n",
    "model_path=\"./saved/EASE-Feb-05-2023_05-23-53.pth\""
   ]
  },
  {
   "cell_type": "code",
   "execution_count": 8,
   "id": "37b409c7",
   "metadata": {
    "ExecuteTime": {
     "end_time": "2023-02-06T19:53:40.007791Z",
     "start_time": "2023-02-06T19:52:42.135904Z"
    }
   },
   "outputs": [
    {
     "name": "stdout",
     "output_type": "stream",
     "text": [
      "inference start!\n",
      "create dataset start!\n"
     ]
    },
    {
     "name": "stderr",
     "output_type": "stream",
     "text": [
      "In inter_feat, line [6348477, 6348671], item_id do not exist, so they will be removed.\n"
     ]
    },
    {
     "name": "stdout",
     "output_type": "stream",
     "text": [
      "{'RS': [999999, 0, 1]}\n",
      "create dataset done!\n"
     ]
    }
   ],
   "source": [
    "print('inference start!')\n",
    "if model_path is None:\n",
    "    # model_name이 들어가는 pth 파일 중 최근에 생성된 걸로 불러옴\n",
    "    os.makedirs('saved',exist_ok=True)\n",
    "    save_path = os.listdir('./saved')\n",
    "    model_path = './saved/' + sorted([file for file in save_path if model_name in file ])[-1]\n",
    "\n",
    "K = topk\n",
    "\n",
    "# config, model, dataset 불러오기\n",
    "checkpoint = torch.load(model_path)\n",
    "config = checkpoint['config']\n",
    "\n",
    "init_seed(config['seed'], config['reproducibility'])\n",
    "config['dataset'] = 'train_data'\n",
    "if model_name==\"S3Rec\":\n",
    "    config['eval_args']['split']={'RS':[99999,0,1]}\n",
    "else:\n",
    "    config['eval_args']['split']['RS']=[999999,0,1]\n",
    "print(\"create dataset start!\")\n",
    "dataset = create_dataset(config)\n",
    "train_data, valid_data, test_data = data_preparation(config, dataset)\n",
    "print(\"create dataset done!\")\n",
    "\n",
    "model = get_model(config['model'])(config, train_data.dataset).to(config['device'])\n",
    "model.load_state_dict(checkpoint['state_dict'])\n",
    "model.load_other_parameter(checkpoint.get('other_parameter'))\n",
    "\n",
    "# device 설정\n",
    "device = config.final_config_dict['device']\n",
    "\n",
    "# user, item id -> token 변환 array\n",
    "user_id = config['USER_ID_FIELD']\n",
    "item_id = config['ITEM_ID_FIELD']\n",
    "user_id2token = dataset.field2id_token[user_id]\n",
    "item_id2token = dataset.field2id_token[item_id]"
   ]
  },
  {
   "cell_type": "code",
   "execution_count": 56,
   "id": "7ffc813e",
   "metadata": {
    "ExecuteTime": {
     "end_time": "2023-02-07T07:45:28.182432Z",
     "start_time": "2023-02-07T07:45:28.178490Z"
    }
   },
   "outputs": [
    {
     "data": {
      "text/plain": [
       "array(['[PAD]', '1', '2', ..., '300010', '300011', '300013'], dtype='<U6')"
      ]
     },
     "execution_count": 56,
     "metadata": {},
     "output_type": "execute_result"
    }
   ],
   "source": [
    "user_id2token"
   ]
  },
  {
   "cell_type": "code",
   "execution_count": 21,
   "id": "9593cd2f",
   "metadata": {
    "ExecuteTime": {
     "end_time": "2023-02-06T19:57:24.189904Z",
     "start_time": "2023-02-06T19:57:24.079965Z"
    }
   },
   "outputs": [
    {
     "name": "stdout",
     "output_type": "stream",
     "text": [
      "161860 300001\n",
      "161861 300002\n",
      "161862 300003\n",
      "161863 300004\n",
      "161864 300005\n",
      "161865 300006\n",
      "161866 300007\n",
      "161867 300008\n",
      "161868 300009\n",
      "161869 300010\n",
      "161870 300011\n",
      "161871 300013\n"
     ]
    }
   ],
   "source": [
    "user_list=[]\n",
    "for idx,i in enumerate(user_id2token):\n",
    "    if i!='[PAD]':\n",
    "        if int(i)>=300_000:\n",
    "            print(idx,i)\n",
    "            user_list.append(idx)"
   ]
  },
  {
   "cell_type": "code",
   "execution_count": 22,
   "id": "8d16af1d",
   "metadata": {
    "ExecuteTime": {
     "end_time": "2023-02-06T19:57:25.612407Z",
     "start_time": "2023-02-06T19:57:25.608594Z"
    }
   },
   "outputs": [
    {
     "data": {
      "text/plain": [
       "[161860,\n",
       " 161861,\n",
       " 161862,\n",
       " 161863,\n",
       " 161864,\n",
       " 161865,\n",
       " 161866,\n",
       " 161867,\n",
       " 161868,\n",
       " 161869,\n",
       " 161870,\n",
       " 161871]"
      ]
     },
     "execution_count": 22,
     "metadata": {},
     "output_type": "execute_result"
    }
   ],
   "source": [
    "user_list"
   ]
  },
  {
   "cell_type": "code",
   "execution_count": 36,
   "id": "a95b3e88",
   "metadata": {
    "ExecuteTime": {
     "end_time": "2023-02-06T20:01:53.415491Z",
     "start_time": "2023-02-06T20:01:53.410991Z"
    }
   },
   "outputs": [
    {
     "data": {
      "text/plain": [
       "tensor([161860, 161861, 161862, 161863, 161864, 161865, 161866, 161867, 161868,\n",
       "        161869, 161870, 161871])"
      ]
     },
     "execution_count": 36,
     "metadata": {},
     "output_type": "execute_result"
    }
   ],
   "source": [
    "user_tensor_list = torch.tensor(user_list)\n",
    "user_tensor_list"
   ]
  },
  {
   "cell_type": "code",
   "execution_count": 47,
   "id": "7edd7af6",
   "metadata": {
    "ExecuteTime": {
     "end_time": "2023-02-06T20:07:45.489253Z",
     "start_time": "2023-02-06T20:07:45.481641Z"
    }
   },
   "outputs": [
    {
     "name": "stderr",
     "output_type": "stream",
     "text": [
      "/opt/conda/lib/python3.8/site-packages/recbole/utils/case_study.py:39: UserWarning: To copy construct from a tensor, it is recommended to use sourceTensor.clone().detach() or sourceTensor.clone().detach().requires_grad_(True), rather than torch.tensor(sourceTensor).\n",
      "  uid_series = torch.tensor(uid_series)\n"
     ]
    },
    {
     "data": {
      "text/plain": [
       "tensor([[ 56, 203, 276, 293, 114, 473, 223, 597, 208, 736, 295, 755, 288, 669,\n",
       "         588, 401, 395, 882, 229, 657, 396, 636, 270, 269, 129, 643, 705, 325,\n",
       "         393, 806, 572, 645, 649, 474, 741, 535, 465, 155, 206, 429,  37, 505,\n",
       "         477, 804, 527, 807, 326, 866, 641,  49, 204, 690, 523, 452, 503, 264,\n",
       "         332,  18, 383, 701, 590, 544, 529, 850,  20, 651, 258, 292, 632, 220,\n",
       "         631, 268, 329, 502, 596, 128, 792, 545, 439, 105, 711,  51,   1, 249,\n",
       "         454, 714, 762, 746, 616, 163, 818, 216, 172,  31,  38, 650, 445,  46,\n",
       "          99, 246, 154,  36, 629, 558, 791, 619, 245, 308,  34, 381, 528,  71,\n",
       "         262,  32, 412, 397, 422, 552, 151, 355, 595, 303,  57, 582, 449, 648,\n",
       "         672, 531,  82, 769, 344, 743,  22, 121, 277, 698, 692, 375, 143, 499,\n",
       "         832,  90, 817, 676, 654, 140, 189, 235, 408, 103]])"
      ]
     },
     "execution_count": 47,
     "metadata": {},
     "output_type": "execute_result"
    }
   ],
   "source": [
    "pred_list = full_sort_topk(user_tensor_list[:1], model, test_data, K+50, device=device)[1]\n",
    "pred_list"
   ]
  },
  {
   "cell_type": "code",
   "execution_count": 48,
   "id": "1955f82f",
   "metadata": {
    "ExecuteTime": {
     "end_time": "2023-02-06T20:08:18.362543Z",
     "start_time": "2023-02-06T20:08:18.356855Z"
    }
   },
   "outputs": [],
   "source": [
    "# user별 item 추천 결과 하나로 합쳐주기\n",
    "result = []\n",
    "for user, pred in zip(user_list, pred_list):\n",
    "    for item in pred:\n",
    "        result.append((int(user_id2token[user]), int(item_id2token[item])))\n",
    "sub = pd.DataFrame(result, columns=[\"user\", \"item\"])"
   ]
  },
  {
   "cell_type": "code",
   "execution_count": 53,
   "id": "1a6694a7",
   "metadata": {
    "ExecuteTime": {
     "end_time": "2023-02-06T20:08:55.357828Z",
     "start_time": "2023-02-06T20:08:55.351973Z"
    }
   },
   "outputs": [
    {
     "data": {
      "text/plain": [
       "0        73141\n",
       "1       122470\n",
       "2       152081\n",
       "3         4447\n",
       "4         1246\n",
       "         ...  \n",
       "1187    300997\n",
       "1188    300998\n",
       "1189    300999\n",
       "1190    301010\n",
       "1191    301014\n",
       "Name: movieId, Length: 1192, dtype: int64"
      ]
     },
     "execution_count": 53,
     "metadata": {},
     "output_type": "execute_result"
    }
   ],
   "source": [
    "mdf.movieId"
   ]
  },
  {
   "cell_type": "code",
   "execution_count": 55,
   "id": "e5e2d65c",
   "metadata": {
    "ExecuteTime": {
     "end_time": "2023-02-06T20:09:18.560122Z",
     "start_time": "2023-02-06T20:09:18.538187Z"
    }
   },
   "outputs": [
    {
     "data": {
      "text/html": [
       "<div>\n",
       "<style scoped>\n",
       "    .dataframe tbody tr th:only-of-type {\n",
       "        vertical-align: middle;\n",
       "    }\n",
       "\n",
       "    .dataframe tbody tr th {\n",
       "        vertical-align: top;\n",
       "    }\n",
       "\n",
       "    .dataframe thead th {\n",
       "        text-align: right;\n",
       "    }\n",
       "</style>\n",
       "<table border=\"1\" class=\"dataframe\">\n",
       "  <thead>\n",
       "    <tr style=\"text-align: right;\">\n",
       "      <th></th>\n",
       "      <th>user</th>\n",
       "      <th>item</th>\n",
       "      <th>Contents</th>\n",
       "      <th>ko_title</th>\n",
       "      <th>contents_year</th>\n",
       "      <th>country</th>\n",
       "      <th>ko_genre</th>\n",
       "      <th>ko_plot</th>\n",
       "      <th>rating</th>\n",
       "      <th>npop</th>\n",
       "      <th>genres</th>\n",
       "      <th>plot</th>\n",
       "      <th>directors</th>\n",
       "      <th>actors</th>\n",
       "      <th>movieId</th>\n",
       "    </tr>\n",
       "  </thead>\n",
       "  <tbody>\n",
       "    <tr>\n",
       "      <th>0</th>\n",
       "      <td>300001</td>\n",
       "      <td>35836</td>\n",
       "      <td>The 40-Year-Old Virgin (2005)</td>\n",
       "      <td>40살까지 못해본 남자</td>\n",
       "      <td>2005</td>\n",
       "      <td>미국</td>\n",
       "      <td>로맨스/코미디</td>\n",
       "      <td>40세의 노총각 앤디는 지금까지 한번도 섹스를 못해본 그야말로 숫총각 이다. 대형 ...</td>\n",
       "      <td>3.1</td>\n",
       "      <td>20000</td>\n",
       "      <td>'Comedy', 'Romance'</td>\n",
       "      <td>Goaded by his buddies, a nerdy guy who\\'s neve...</td>\n",
       "      <td>'Judd Apatow'</td>\n",
       "      <td>'Steve Carell', 'Catherine Keener', 'Paul Rudd...</td>\n",
       "      <td>35836</td>\n",
       "    </tr>\n",
       "    <tr>\n",
       "      <th>1</th>\n",
       "      <td>300001</td>\n",
       "      <td>80463</td>\n",
       "      <td>The Social Network (2010)</td>\n",
       "      <td>소셜 네트워크</td>\n",
       "      <td>2010</td>\n",
       "      <td>미국</td>\n",
       "      <td>전기/드라마</td>\n",
       "      <td>2004년 첫 투자금 단돈 1천 달러</td>\n",
       "      <td>3.5</td>\n",
       "      <td>300000</td>\n",
       "      <td>'Biography', 'Drama'</td>\n",
       "      <td>As Harvard student Mark Zuckerberg creates the...</td>\n",
       "      <td>'David Fincher'</td>\n",
       "      <td>'Jesse Eisenberg', 'Rooney Mara', 'Bryan Barte...</td>\n",
       "      <td>80463</td>\n",
       "    </tr>\n",
       "    <tr>\n",
       "      <th>2</th>\n",
       "      <td>300001</td>\n",
       "      <td>7451</td>\n",
       "      <td>Mean Girls (2004)</td>\n",
       "      <td>퀸카로 살아남는 법</td>\n",
       "      <td>2004</td>\n",
       "      <td>캐나다,미국</td>\n",
       "      <td>로맨틱 코미디/코미디</td>\n",
       "      <td>동물학자인 아버지를 따라 아프리카에서 성장한 케이디 (린제이 로한 분)는 일리노이즈...</td>\n",
       "      <td>3.7</td>\n",
       "      <td>420000</td>\n",
       "      <td>'Comedy'</td>\n",
       "      <td>Cady Heron is a hit with The Plastics, the A-l...</td>\n",
       "      <td>'Mark Waters'</td>\n",
       "      <td>'Lindsay Lohan', 'Rachel McAdams', 'Tina Fey',...</td>\n",
       "      <td>7451</td>\n",
       "    </tr>\n",
       "    <tr>\n",
       "      <th>3</th>\n",
       "      <td>300001</td>\n",
       "      <td>182715</td>\n",
       "      <td>Annihilation (2018)</td>\n",
       "      <td>서던 리치: 소멸의 땅</td>\n",
       "      <td>2018</td>\n",
       "      <td>영국,미국</td>\n",
       "      <td>판타지/미스터리/공포/드라마/SF/스릴러/액션/모험</td>\n",
       "      <td>불가사의한 이유로 사람들의 출입이 금지된 채 방치된 미국 해안지대에 펼쳐져 있는 미...</td>\n",
       "      <td>3.3</td>\n",
       "      <td>30000</td>\n",
       "      <td>'Adventure', 'Drama', 'Horror', 'Mystery', 'Sc...</td>\n",
       "      <td>A biologist signs up for a dangerous, secret e...</td>\n",
       "      <td>'Alex Garland'</td>\n",
       "      <td>'Natalie Portman', 'Benedict Wong', 'Sonoya Mi...</td>\n",
       "      <td>182715</td>\n",
       "    </tr>\n",
       "    <tr>\n",
       "      <th>4</th>\n",
       "      <td>300001</td>\n",
       "      <td>7293</td>\n",
       "      <td>50 First Dates</td>\n",
       "      <td>첫 키스만 50번째</td>\n",
       "      <td>2004</td>\n",
       "      <td>미국</td>\n",
       "      <td>코미디/드라마/로맨스</td>\n",
       "      <td>그녀에겐 매일이 첫 데이트, 첫 키스, 첫 사랑!? 로맨틱 아일랜드 하와이에서 펼쳐...</td>\n",
       "      <td>3.7</td>\n",
       "      <td>380000</td>\n",
       "      <td>'Comedy', 'Drama', 'Romance'</td>\n",
       "      <td>Henry Roth is a man afraid of commitment until...</td>\n",
       "      <td>'Peter Segal'</td>\n",
       "      <td>'Adam Sandler', 'Drew Barrymore', 'Rob Schneid...</td>\n",
       "      <td>7293</td>\n",
       "    </tr>\n",
       "    <tr>\n",
       "      <th>...</th>\n",
       "      <td>...</td>\n",
       "      <td>...</td>\n",
       "      <td>...</td>\n",
       "      <td>...</td>\n",
       "      <td>...</td>\n",
       "      <td>...</td>\n",
       "      <td>...</td>\n",
       "      <td>...</td>\n",
       "      <td>...</td>\n",
       "      <td>...</td>\n",
       "      <td>...</td>\n",
       "      <td>...</td>\n",
       "      <td>...</td>\n",
       "      <td>...</td>\n",
       "      <td>...</td>\n",
       "    </tr>\n",
       "    <tr>\n",
       "      <th>145</th>\n",
       "      <td>300001</td>\n",
       "      <td>45666</td>\n",
       "      <td>Nacho Libre (2006)</td>\n",
       "      <td>나쵸 리브레</td>\n",
       "      <td>2006</td>\n",
       "      <td>독일,미국</td>\n",
       "      <td>코미디/가족/스포츠</td>\n",
       "      <td>수도사 이그나쵸는 요리와 환자 심방 외엔 주어지는 일거리가 없는 수도원의 미운 오리...</td>\n",
       "      <td>3.4</td>\n",
       "      <td>30000</td>\n",
       "      <td>'Comedy', 'Family', 'Sport'</td>\n",
       "      <td>Berated all his life by those around him, a mo...</td>\n",
       "      <td>'Jared Hess'</td>\n",
       "      <td>'Jack Black', 'Ana de la Reguera', 'Héctor Jim...</td>\n",
       "      <td>45666</td>\n",
       "    </tr>\n",
       "    <tr>\n",
       "      <th>146</th>\n",
       "      <td>300001</td>\n",
       "      <td>70286</td>\n",
       "      <td>District 9 (2009)</td>\n",
       "      <td>디스트릭트 9</td>\n",
       "      <td>2009</td>\n",
       "      <td>남아프리카 공화국,미국,뉴질랜드,캐나다</td>\n",
       "      <td>액션/SF/스릴러</td>\n",
       "      <td>남아공 상공에 불시착한 외계인들은 요하네스버그 인근 지역 외계인 수용구역 ‘디스트릭...</td>\n",
       "      <td>3.8</td>\n",
       "      <td>410000</td>\n",
       "      <td>'Action', 'Sci-Fi', 'Thriller'</td>\n",
       "      <td>Violence ensues after an extraterrestrial race...</td>\n",
       "      <td>'Neill Blomkamp'</td>\n",
       "      <td>'Sharlto Copley', 'Jason Cope', 'Nathalie Bolt...</td>\n",
       "      <td>70286</td>\n",
       "    </tr>\n",
       "    <tr>\n",
       "      <th>147</th>\n",
       "      <td>300001</td>\n",
       "      <td>105213</td>\n",
       "      <td>Don Jon (2013)</td>\n",
       "      <td>돈 존</td>\n",
       "      <td>2013</td>\n",
       "      <td>미국</td>\n",
       "      <td>코미디/드라마/로맨스</td>\n",
       "      <td>섹시녀들의 사랑을 한 몸에 받고 있는 클럽의 지존. 그러나 그 어떤 섹시녀와의 하룻...</td>\n",
       "      <td>2.9</td>\n",
       "      <td>90000</td>\n",
       "      <td>'Comedy', 'Drama', 'Romance'</td>\n",
       "      <td>A New Jersey guy dedicated to his family, frie...</td>\n",
       "      <td>'Joseph Gordon-Levitt'</td>\n",
       "      <td>'Joseph Gordon-Levitt', 'Scarlett Johansson', ...</td>\n",
       "      <td>105213</td>\n",
       "    </tr>\n",
       "    <tr>\n",
       "      <th>148</th>\n",
       "      <td>300001</td>\n",
       "      <td>1954</td>\n",
       "      <td>Rocky</td>\n",
       "      <td>록키 발보아</td>\n",
       "      <td>2006</td>\n",
       "      <td>미국</td>\n",
       "      <td>액션/드라마/스포츠</td>\n",
       "      <td>최고의 헤비급 챔피언에서 성공한 사업가로 변신한 록키. 록키의 즐거움은 레스토랑을 ...</td>\n",
       "      <td>3.6</td>\n",
       "      <td>30000</td>\n",
       "      <td>'Drama', 'Sport'</td>\n",
       "      <td>A small-time Philadelphia boxer gets a supreme...</td>\n",
       "      <td>'John G. Avildsen'</td>\n",
       "      <td>'Sylvester Stallone', 'Talia Shire', 'Burt You...</td>\n",
       "      <td>1954</td>\n",
       "    </tr>\n",
       "    <tr>\n",
       "      <th>149</th>\n",
       "      <td>300001</td>\n",
       "      <td>6155</td>\n",
       "      <td>How to Lose a Guy in 10 days</td>\n",
       "      <td>10일 안에 남자 친구에게 차이는 법</td>\n",
       "      <td>2003</td>\n",
       "      <td>미국,독일</td>\n",
       "      <td>로맨틱 코미디/코미디</td>\n",
       "      <td>'Composure' 잡지의 칼럼니스트인 앤디 앤더슨 (케이트 허드슨 분)은 기사를...</td>\n",
       "      <td>3.4</td>\n",
       "      <td>70000</td>\n",
       "      <td>'Comedy', 'Romance'</td>\n",
       "      <td>Benjamin Barry is an advertising executive and...</td>\n",
       "      <td>'Donald Petrie'</td>\n",
       "      <td>'Kate Hudson', 'Matthew McConaughey', 'Kathryn...</td>\n",
       "      <td>6155</td>\n",
       "    </tr>\n",
       "  </tbody>\n",
       "</table>\n",
       "<p>150 rows × 15 columns</p>\n",
       "</div>"
      ],
      "text/plain": [
       "       user    item                       Contents              ko_title  \\\n",
       "0    300001   35836  The 40-Year-Old Virgin (2005)          40살까지 못해본 남자   \n",
       "1    300001   80463      The Social Network (2010)               소셜 네트워크   \n",
       "2    300001    7451              Mean Girls (2004)            퀸카로 살아남는 법   \n",
       "3    300001  182715            Annihilation (2018)          서던 리치: 소멸의 땅   \n",
       "4    300001    7293                 50 First Dates            첫 키스만 50번째   \n",
       "..      ...     ...                            ...                   ...   \n",
       "145  300001   45666             Nacho Libre (2006)                나쵸 리브레   \n",
       "146  300001   70286              District 9 (2009)               디스트릭트 9   \n",
       "147  300001  105213                 Don Jon (2013)                   돈 존   \n",
       "148  300001    1954                          Rocky                록키 발보아   \n",
       "149  300001    6155   How to Lose a Guy in 10 days  10일 안에 남자 친구에게 차이는 법   \n",
       "\n",
       "     contents_year                country                      ko_genre  \\\n",
       "0             2005                     미국                       로맨스/코미디   \n",
       "1             2010                     미국                        전기/드라마   \n",
       "2             2004                 캐나다,미국                   로맨틱 코미디/코미디   \n",
       "3             2018                  영국,미국  판타지/미스터리/공포/드라마/SF/스릴러/액션/모험   \n",
       "4             2004                     미국                   코미디/드라마/로맨스   \n",
       "..             ...                    ...                           ...   \n",
       "145           2006                  독일,미국                    코미디/가족/스포츠   \n",
       "146           2009  남아프리카 공화국,미국,뉴질랜드,캐나다                     액션/SF/스릴러   \n",
       "147           2013                     미국                   코미디/드라마/로맨스   \n",
       "148           2006                     미국                    액션/드라마/스포츠   \n",
       "149           2003                  미국,독일                   로맨틱 코미디/코미디   \n",
       "\n",
       "                                               ko_plot rating    npop  \\\n",
       "0    40세의 노총각 앤디는 지금까지 한번도 섹스를 못해본 그야말로 숫총각 이다. 대형 ...    3.1   20000   \n",
       "1                                 2004년 첫 투자금 단돈 1천 달러    3.5  300000   \n",
       "2    동물학자인 아버지를 따라 아프리카에서 성장한 케이디 (린제이 로한 분)는 일리노이즈...    3.7  420000   \n",
       "3    불가사의한 이유로 사람들의 출입이 금지된 채 방치된 미국 해안지대에 펼쳐져 있는 미...    3.3   30000   \n",
       "4    그녀에겐 매일이 첫 데이트, 첫 키스, 첫 사랑!? 로맨틱 아일랜드 하와이에서 펼쳐...    3.7  380000   \n",
       "..                                                 ...    ...     ...   \n",
       "145  수도사 이그나쵸는 요리와 환자 심방 외엔 주어지는 일거리가 없는 수도원의 미운 오리...    3.4   30000   \n",
       "146  남아공 상공에 불시착한 외계인들은 요하네스버그 인근 지역 외계인 수용구역 ‘디스트릭...    3.8  410000   \n",
       "147  섹시녀들의 사랑을 한 몸에 받고 있는 클럽의 지존. 그러나 그 어떤 섹시녀와의 하룻...    2.9   90000   \n",
       "148  최고의 헤비급 챔피언에서 성공한 사업가로 변신한 록키. 록키의 즐거움은 레스토랑을 ...    3.6   30000   \n",
       "149  'Composure' 잡지의 칼럼니스트인 앤디 앤더슨 (케이트 허드슨 분)은 기사를...    3.4   70000   \n",
       "\n",
       "                                                genres  \\\n",
       "0                                  'Comedy', 'Romance'   \n",
       "1                                 'Biography', 'Drama'   \n",
       "2                                             'Comedy'   \n",
       "3    'Adventure', 'Drama', 'Horror', 'Mystery', 'Sc...   \n",
       "4                         'Comedy', 'Drama', 'Romance'   \n",
       "..                                                 ...   \n",
       "145                        'Comedy', 'Family', 'Sport'   \n",
       "146                     'Action', 'Sci-Fi', 'Thriller'   \n",
       "147                       'Comedy', 'Drama', 'Romance'   \n",
       "148                                   'Drama', 'Sport'   \n",
       "149                                'Comedy', 'Romance'   \n",
       "\n",
       "                                                  plot  \\\n",
       "0    Goaded by his buddies, a nerdy guy who\\'s neve...   \n",
       "1    As Harvard student Mark Zuckerberg creates the...   \n",
       "2    Cady Heron is a hit with The Plastics, the A-l...   \n",
       "3    A biologist signs up for a dangerous, secret e...   \n",
       "4    Henry Roth is a man afraid of commitment until...   \n",
       "..                                                 ...   \n",
       "145  Berated all his life by those around him, a mo...   \n",
       "146  Violence ensues after an extraterrestrial race...   \n",
       "147  A New Jersey guy dedicated to his family, frie...   \n",
       "148  A small-time Philadelphia boxer gets a supreme...   \n",
       "149  Benjamin Barry is an advertising executive and...   \n",
       "\n",
       "                  directors  \\\n",
       "0             'Judd Apatow'   \n",
       "1           'David Fincher'   \n",
       "2             'Mark Waters'   \n",
       "3            'Alex Garland'   \n",
       "4             'Peter Segal'   \n",
       "..                      ...   \n",
       "145            'Jared Hess'   \n",
       "146        'Neill Blomkamp'   \n",
       "147  'Joseph Gordon-Levitt'   \n",
       "148      'John G. Avildsen'   \n",
       "149         'Donald Petrie'   \n",
       "\n",
       "                                                actors  movieId  \n",
       "0    'Steve Carell', 'Catherine Keener', 'Paul Rudd...    35836  \n",
       "1    'Jesse Eisenberg', 'Rooney Mara', 'Bryan Barte...    80463  \n",
       "2    'Lindsay Lohan', 'Rachel McAdams', 'Tina Fey',...     7451  \n",
       "3    'Natalie Portman', 'Benedict Wong', 'Sonoya Mi...   182715  \n",
       "4    'Adam Sandler', 'Drew Barrymore', 'Rob Schneid...     7293  \n",
       "..                                                 ...      ...  \n",
       "145  'Jack Black', 'Ana de la Reguera', 'Héctor Jim...    45666  \n",
       "146  'Sharlto Copley', 'Jason Cope', 'Nathalie Bolt...    70286  \n",
       "147  'Joseph Gordon-Levitt', 'Scarlett Johansson', ...   105213  \n",
       "148  'Sylvester Stallone', 'Talia Shire', 'Burt You...     1954  \n",
       "149  'Kate Hudson', 'Matthew McConaughey', 'Kathryn...     6155  \n",
       "\n",
       "[150 rows x 15 columns]"
      ]
     },
     "execution_count": 55,
     "metadata": {},
     "output_type": "execute_result"
    }
   ],
   "source": [
    "sub.merge(mdf,left_on='item',right_on='movieId')"
   ]
  },
  {
   "cell_type": "code",
   "execution_count": 51,
   "id": "2a4c1090",
   "metadata": {
    "ExecuteTime": {
     "end_time": "2023-02-06T20:08:40.108089Z",
     "start_time": "2023-02-06T20:08:40.098678Z"
    }
   },
   "outputs": [
    {
     "data": {
      "text/html": [
       "<div>\n",
       "<style scoped>\n",
       "    .dataframe tbody tr th:only-of-type {\n",
       "        vertical-align: middle;\n",
       "    }\n",
       "\n",
       "    .dataframe tbody tr th {\n",
       "        vertical-align: top;\n",
       "    }\n",
       "\n",
       "    .dataframe thead th {\n",
       "        text-align: right;\n",
       "    }\n",
       "</style>\n",
       "<table border=\"1\" class=\"dataframe\">\n",
       "  <thead>\n",
       "    <tr style=\"text-align: right;\">\n",
       "      <th></th>\n",
       "      <th>user</th>\n",
       "      <th>item</th>\n",
       "    </tr>\n",
       "  </thead>\n",
       "  <tbody>\n",
       "    <tr>\n",
       "      <th>0</th>\n",
       "      <td>300001</td>\n",
       "      <td>35836</td>\n",
       "    </tr>\n",
       "    <tr>\n",
       "      <th>1</th>\n",
       "      <td>300001</td>\n",
       "      <td>80463</td>\n",
       "    </tr>\n",
       "    <tr>\n",
       "      <th>2</th>\n",
       "      <td>300001</td>\n",
       "      <td>7451</td>\n",
       "    </tr>\n",
       "    <tr>\n",
       "      <th>3</th>\n",
       "      <td>300001</td>\n",
       "      <td>182715</td>\n",
       "    </tr>\n",
       "    <tr>\n",
       "      <th>4</th>\n",
       "      <td>300001</td>\n",
       "      <td>7293</td>\n",
       "    </tr>\n",
       "    <tr>\n",
       "      <th>...</th>\n",
       "      <td>...</td>\n",
       "      <td>...</td>\n",
       "    </tr>\n",
       "    <tr>\n",
       "      <th>145</th>\n",
       "      <td>300001</td>\n",
       "      <td>45666</td>\n",
       "    </tr>\n",
       "    <tr>\n",
       "      <th>146</th>\n",
       "      <td>300001</td>\n",
       "      <td>70286</td>\n",
       "    </tr>\n",
       "    <tr>\n",
       "      <th>147</th>\n",
       "      <td>300001</td>\n",
       "      <td>105213</td>\n",
       "    </tr>\n",
       "    <tr>\n",
       "      <th>148</th>\n",
       "      <td>300001</td>\n",
       "      <td>1954</td>\n",
       "    </tr>\n",
       "    <tr>\n",
       "      <th>149</th>\n",
       "      <td>300001</td>\n",
       "      <td>6155</td>\n",
       "    </tr>\n",
       "  </tbody>\n",
       "</table>\n",
       "<p>150 rows × 2 columns</p>\n",
       "</div>"
      ],
      "text/plain": [
       "       user    item\n",
       "0    300001   35836\n",
       "1    300001   80463\n",
       "2    300001    7451\n",
       "3    300001  182715\n",
       "4    300001    7293\n",
       "..      ...     ...\n",
       "145  300001   45666\n",
       "146  300001   70286\n",
       "147  300001  105213\n",
       "148  300001    1954\n",
       "149  300001    6155\n",
       "\n",
       "[150 rows x 2 columns]"
      ]
     },
     "execution_count": 51,
     "metadata": {},
     "output_type": "execute_result"
    }
   ],
   "source": [
    "sub[sub.item.isin(mdf.movieId)]"
   ]
  },
  {
   "cell_type": "code",
   "execution_count": null,
   "id": "a16feadc",
   "metadata": {},
   "outputs": [],
   "source": [
    "user 별 인터랙션 확인\n",
    "user 별 로 1200개 영화에 포함되는 추천 안정적으로 받는 K개 찾기 -> 엄청 넉넉하게주기 거의 다 sort한다는 느낌\n",
    "user 별로 1200개 내의 100개 영화이상 추천 받도록하기\n"
   ]
  },
  {
   "cell_type": "code",
   "execution_count": null,
   "id": "81e12bf6",
   "metadata": {},
   "outputs": [],
   "source": []
  },
  {
   "cell_type": "code",
   "execution_count": null,
   "id": "f6e555ef",
   "metadata": {},
   "outputs": [],
   "source": []
  },
  {
   "cell_type": "code",
   "execution_count": null,
   "id": "a846e12c",
   "metadata": {},
   "outputs": [],
   "source": []
  },
  {
   "cell_type": "code",
   "execution_count": null,
   "id": "df2a24e0",
   "metadata": {},
   "outputs": [],
   "source": [
    "# user, item 길이\n",
    "user_len = len(user_id2token) # 31361 (PAD 포함)\n",
    "item_len = len(item_id2token) # 6808 (PAD 포함)\n",
    "\n",
    "# user-item sparse matrix\n",
    "matrix = dataset.inter_matrix(form='csr') # (31361, 6808)\n",
    "\n",
    "# user id, predict item id 저장 변수\n",
    "pred_list = None\n",
    "user_list = []\n",
    "\n",
    "# user id list\n",
    "all_user_list = torch.arange(1, len(user_id2token)).view(-1,128) # 245, 128\n",
    "\n",
    "tbar = tqdm(all_user_list, desc=set_color(f\"Inference\", 'pink')) # 245, 128\n",
    "\n",
    "for data in tbar:\n",
    "    batch_pred_list = full_sort_topk(data, model, test_data, K+50, device=device)[1]\n",
    "    batch_pred_list = batch_pred_list.clone().detach().cpu().numpy()\n",
    "    if pred_list is None:\n",
    "        pred_list = batch_pred_list\n",
    "        user_list = data.numpy()\n",
    "    else:\n",
    "        pred_list = np.append(pred_list, batch_pred_list, axis=0)\n",
    "        user_list = np.append(\n",
    "            user_list, data.numpy(), axis=0\n",
    "        )\n",
    "tbar.close()\n",
    "\n",
    "# user별 item 추천 결과 하나로 합쳐주기\n",
    "result = []\n",
    "for user, pred in zip(user_list, pred_list):\n",
    "    for item in pred:\n",
    "        result.append((int(user_id2token[user]), int(item_id2token[item])))\n",
    "\n",
    "sub = pd.DataFrame(result, columns=[\"user\", \"item\"])\n",
    "\n",
    "# 인덱스 -> 유저 아이템번호 dictionary 불러오기\n",
    "with open('./index/uidx2user.pickle','rb') as f:\n",
    "    uidx2user = pickle.load(f)\n",
    "with open('./index/iidx2item.pickle','rb') as f:\n",
    "    iidx2item = pickle.load(f)   \n",
    "\n",
    "# submission 생성\n",
    "sub = pd.DataFrame(result, columns=[\"user\", \"item\"])\n",
    "sub.user = sub.user.map(uidx2user)\n",
    "sub.item = sub.item.map(iidx2item)\n",
    "\n",
    "# extract Top K \n",
    "users = sub.groupby('user').user.head(K).reset_index(drop=True)\n",
    "items = sub.groupby('user').item.head(K).reset_index(drop=True)\n",
    "sub = pd.concat([users,items],axis=1)\n",
    "\n",
    "print(f\"submission length: {sub.shape[0]}\")\n",
    "\n",
    "os.makedirs('submission',exist_ok=True)\n",
    "submission=f\"./submission/{model_path[8:-4]}.csv\"\n",
    "submission = uniquify(submission)\n",
    "sub[['user','item']].to_csv(\n",
    "    submission, index=False # \"./saved/\" 와 \".pth\" 제거\n",
    ")\n",
    "print(f\"model path: {model_path}\")\n",
    "print(f\"submission path: {os.path.relpath(submission)}\")\n",
    "print('inference done!')"
   ]
  }
 ],
 "metadata": {
  "kernelspec": {
   "display_name": "Python 3 (ipykernel)",
   "language": "python",
   "name": "python3"
  },
  "language_info": {
   "codemirror_mode": {
    "name": "ipython",
    "version": 3
   },
   "file_extension": ".py",
   "mimetype": "text/x-python",
   "name": "python",
   "nbconvert_exporter": "python",
   "pygments_lexer": "ipython3",
   "version": "3.8.5"
  },
  "toc": {
   "base_numbering": 1,
   "nav_menu": {},
   "number_sections": true,
   "sideBar": true,
   "skip_h1_title": false,
   "title_cell": "Table of Contents",
   "title_sidebar": "Contents",
   "toc_cell": false,
   "toc_position": {},
   "toc_section_display": true,
   "toc_window_display": false
  }
 },
 "nbformat": 4,
 "nbformat_minor": 5
}
