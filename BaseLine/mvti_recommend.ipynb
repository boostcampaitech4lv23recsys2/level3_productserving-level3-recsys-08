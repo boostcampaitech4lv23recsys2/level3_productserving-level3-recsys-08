{
 "cells": [
  {
   "cell_type": "code",
   "execution_count": 1,
   "id": "453c7330",
   "metadata": {
    "ExecuteTime": {
     "end_time": "2023-02-04T20:12:17.999120Z",
     "start_time": "2023-02-04T20:12:16.902184Z"
    }
   },
   "outputs": [],
   "source": [
    "import torch\n",
    "import numpy as np\n",
    "import pandas as pd\n",
    "from tqdm import tqdm\n",
    "import pickle\n",
    "from recbole.data import create_dataset, data_preparation, Interaction\n",
    "from recbole.utils import init_logger, get_trainer, get_model, init_seed, set_color\n",
    "from recbole.utils.case_study import full_sort_topk\n",
    "import os"
   ]
  },
  {
   "cell_type": "code",
   "execution_count": 6,
   "id": "e98f42aa",
   "metadata": {
    "ExecuteTime": {
     "end_time": "2023-02-04T20:27:12.407118Z",
     "start_time": "2023-02-04T20:27:12.404254Z"
    }
   },
   "outputs": [],
   "source": [
    "topk=100\n",
    "model_name=\"EASE\"\n",
    "model_path=\"./saved/EASE-Feb-05-2023_05-23-53.pth\""
   ]
  },
  {
   "cell_type": "code",
   "execution_count": null,
   "id": "37b409c7",
   "metadata": {},
   "outputs": [],
   "source": [
    "print('inference start!')\n",
    "if model_path is None:\n",
    "    # model_name이 들어가는 pth 파일 중 최근에 생성된 걸로 불러옴\n",
    "    os.makedirs('saved',exist_ok=True)\n",
    "    save_path = os.listdir('./saved')\n",
    "    model_path = './saved/' + sorted([file for file in save_path if model_name in file ])[-1]\n",
    "\n",
    "K = topk\n",
    "\n",
    "# config, model, dataset 불러오기\n",
    "checkpoint = torch.load(model_path)\n",
    "config = checkpoint['config']\n",
    "\n",
    "init_seed(config['seed'], config['reproducibility'])\n",
    "config['dataset'] = 'train_data'\n",
    "if model_name==\"S3Rec\":\n",
    "    config['eval_args']['split']={'RS':[99999,0,1]}\n",
    "else:\n",
    "    config['eval_args']['split']['RS']=[999999,0,1]\n",
    "print(\"create dataset start!\")\n",
    "dataset = create_dataset(config)\n",
    "train_data, valid_data, test_data = data_preparation(config, dataset)\n",
    "print(\"create dataset done!\")\n",
    "\n",
    "model = get_model(config['model'])(config, train_data.dataset).to(config['device'])\n",
    "model.load_state_dict(checkpoint['state_dict'])\n",
    "model.load_other_parameter(checkpoint.get('other_parameter'))\n",
    "\n",
    "# device 설정\n",
    "device = config.final_config_dict['device']\n",
    "\n",
    "# user, item id -> token 변환 array\n",
    "user_id = config['USER_ID_FIELD']\n",
    "item_id = config['ITEM_ID_FIELD']\n",
    "user_id2token = dataset.field2id_token[user_id]\n",
    "item_id2token = dataset.field2id_token[item_id]"
   ]
  },
  {
   "cell_type": "code",
   "execution_count": null,
   "id": "df2a24e0",
   "metadata": {},
   "outputs": [],
   "source": [
    "# user id list\n",
    "all_user_list = torch.arange(1, len(user_id2token)).view(-1,128) # 245, 128\n",
    "\n",
    "# user, item 길이\n",
    "user_len = len(user_id2token) # 31361 (PAD 포함)\n",
    "item_len = len(item_id2token) # 6808 (PAD 포함)\n",
    "\n",
    "# user-item sparse matrix\n",
    "matrix = dataset.inter_matrix(form='csr') # (31361, 6808)\n",
    "\n",
    "# user id, predict item id 저장 변수\n",
    "pred_list = None\n",
    "user_list = []\n",
    "\n",
    "# user id list\n",
    "all_user_list = torch.arange(1, len(user_id2token)).view(-1,128) # 245, 128\n",
    "\n",
    "tbar = tqdm(all_user_list, desc=set_color(f\"Inference\", 'pink')) # 245, 128\n",
    "\n",
    "for data in tbar:\n",
    "    batch_pred_list = full_sort_topk(data, model, test_data, K+50, device=device)[1]\n",
    "    batch_pred_list = batch_pred_list.clone().detach().cpu().numpy()\n",
    "    if pred_list is None:\n",
    "        pred_list = batch_pred_list\n",
    "        user_list = data.numpy()\n",
    "    else:\n",
    "        pred_list = np.append(pred_list, batch_pred_list, axis=0)\n",
    "        user_list = np.append(\n",
    "            user_list, data.numpy(), axis=0\n",
    "        )\n",
    "tbar.close()\n",
    "\n",
    "# user별 item 추천 결과 하나로 합쳐주기\n",
    "result = []\n",
    "for user, pred in zip(user_list, pred_list):\n",
    "    for item in pred:\n",
    "        result.append((int(user_id2token[user]), int(item_id2token[item])))\n",
    "\n",
    "sub = pd.DataFrame(result, columns=[\"user\", \"item\"])\n",
    "\n",
    "# 인덱스 -> 유저 아이템번호 dictionary 불러오기\n",
    "with open('./index/uidx2user.pickle','rb') as f:\n",
    "    uidx2user = pickle.load(f)\n",
    "with open('./index/iidx2item.pickle','rb') as f:\n",
    "    iidx2item = pickle.load(f)   \n",
    "\n",
    "# submission 생성\n",
    "sub = pd.DataFrame(result, columns=[\"user\", \"item\"])\n",
    "sub.user = sub.user.map(uidx2user)\n",
    "sub.item = sub.item.map(iidx2item)\n",
    "\n",
    "# extract Top K \n",
    "users = sub.groupby('user').user.head(K).reset_index(drop=True)\n",
    "items = sub.groupby('user').item.head(K).reset_index(drop=True)\n",
    "sub = pd.concat([users,items],axis=1)\n",
    "\n",
    "print(f\"submission length: {sub.shape[0]}\")\n",
    "\n",
    "os.makedirs('submission',exist_ok=True)\n",
    "submission=f\"./submission/{model_path[8:-4]}.csv\"\n",
    "submission = uniquify(submission)\n",
    "sub[['user','item']].to_csv(\n",
    "    submission, index=False # \"./saved/\" 와 \".pth\" 제거\n",
    ")\n",
    "print(f\"model path: {model_path}\")\n",
    "print(f\"submission path: {os.path.relpath(submission)}\")\n",
    "print('inference done!')"
   ]
  }
 ],
 "metadata": {
  "kernelspec": {
   "display_name": "Python 3 (ipykernel)",
   "language": "python",
   "name": "python3"
  },
  "language_info": {
   "codemirror_mode": {
    "name": "ipython",
    "version": 3
   },
   "file_extension": ".py",
   "mimetype": "text/x-python",
   "name": "python",
   "nbconvert_exporter": "python",
   "pygments_lexer": "ipython3",
   "version": "3.8.5"
  },
  "toc": {
   "base_numbering": 1,
   "nav_menu": {},
   "number_sections": true,
   "sideBar": true,
   "skip_h1_title": false,
   "title_cell": "Table of Contents",
   "title_sidebar": "Contents",
   "toc_cell": false,
   "toc_position": {},
   "toc_section_display": true,
   "toc_window_display": false
  }
 },
 "nbformat": 4,
 "nbformat_minor": 5
}
