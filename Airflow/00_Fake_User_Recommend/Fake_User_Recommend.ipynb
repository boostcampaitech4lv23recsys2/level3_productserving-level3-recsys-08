{
 "cells": [
  {
   "cell_type": "code",
   "execution_count": 85,
   "id": "223dc18b",
   "metadata": {
    "ExecuteTime": {
     "end_time": "2023-01-31T05:08:38.688005Z",
     "start_time": "2023-01-31T05:08:38.680084Z"
    }
   },
   "outputs": [],
   "source": [
    "import os\n",
    "from ast import literal_eval\n",
    "import pandas as pd\n",
    "from pathlib import Path\n",
    "from environ import Env\n",
    "import warnings\n",
    "warnings.filterwarnings('ignore')\n",
    "\n",
    "# Build paths inside the project like this: BASE_DIR / 'subdir'.\n",
    "BASE_DIR = Path(os.curdir).resolve().parent.parent\n",
    "env = Env()\n",
    "env_path = BASE_DIR / \"django/.env\"\n",
    "if env_path.exists():\n",
    "    with env_path.open(\"rt\", encoding=\"utf8\") as f:\n",
    "        env.read_env(f, overwrite=True)\n",
    "\n",
    "dbname = env.get_value('GCPDB_NAME')\n",
    "user = env.get_value('GCPDB_USER')\n",
    "pw = env.get_value('GCPDB_PASSWORD')\n",
    "host = env.get_value('GCPDB_HOST')\n",
    "\n",
    "from sqlalchemy import create_engine\n",
    "# echo를 true로 설정하면 command창에 실행된 sql문이 뜨게 됨\n",
    "engine = create_engine(f'mysql+mysqldb://{user}:{pw}@{host}:3306/{dbname}?charset=utf8')\n",
    "\n",
    "PKL_DIR = Path(os.curdir).resolve().parent.parent\n",
    "PKL_DIR = PKL_DIR / \"Utils/Pickle\""
   ]
  },
  {
   "cell_type": "code",
   "execution_count": 23,
   "id": "ae12b2cd",
   "metadata": {
    "ExecuteTime": {
     "end_time": "2023-01-31T02:24:59.766269Z",
     "start_time": "2023-01-31T02:24:59.648213Z"
    }
   },
   "outputs": [
    {
     "name": "stdout",
     "output_type": "stream",
     "text": [
      "README.txt\t   genome-tags.csv  movies.csv\t tags.csv\r\n",
      "genome-scores.csv  links.csv\t    ratings.csv\r\n"
     ]
    }
   ],
   "source": [
    "!ls ../../Data/EDA/ml-25m/"
   ]
  },
  {
   "cell_type": "code",
   "execution_count": 11,
   "id": "58090498",
   "metadata": {
    "ExecuteTime": {
     "end_time": "2023-01-29T16:59:35.315601Z",
     "start_time": "2023-01-29T16:59:35.197638Z"
    }
   },
   "outputs": [
    {
     "name": "stdout",
     "output_type": "stream",
     "text": [
      "/opt/ml/project2/Utils/Pickle/230130_Popular_movie_1192_cwj.pickle\r\n",
      "/opt/ml/project2/Utils/Pickle/230130_Popular_movie_character_2867_cwj.pickle\r\n"
     ]
    }
   ],
   "source": [
    "!ls /opt/ml/project2/Utils/Pickle/23*"
   ]
  },
  {
   "cell_type": "code",
   "execution_count": 24,
   "id": "28e4470a",
   "metadata": {
    "ExecuteTime": {
     "end_time": "2023-01-31T02:25:24.809151Z",
     "start_time": "2023-01-31T02:25:14.583589Z"
    }
   },
   "outputs": [],
   "source": [
    "rating = pd.read_csv('/opt/ml/project2/Data/EDA/ml-25m/ratings.csv')"
   ]
  },
  {
   "cell_type": "code",
   "execution_count": 12,
   "id": "f9be24d0",
   "metadata": {
    "ExecuteTime": {
     "end_time": "2023-01-29T16:59:38.755813Z",
     "start_time": "2023-01-29T16:59:38.736512Z"
    }
   },
   "outputs": [],
   "source": [
    "cdf = pd.read_pickle(PKL_DIR / '230130_Popular_movie_character_2867_cwj.pickle')\n",
    "mdf = pd.read_pickle(PKL_DIR / '230130_Popular_movie_1192_cwj.pickle')"
   ]
  },
  {
   "cell_type": "markdown",
   "id": "867d49d4",
   "metadata": {},
   "source": [
    "## Fake User DB에서 불러오기"
   ]
  },
  {
   "cell_type": "code",
   "execution_count": 36,
   "id": "0534edc5",
   "metadata": {
    "ExecuteTime": {
     "end_time": "2023-01-31T03:22:53.923335Z",
     "start_time": "2023-01-31T03:22:53.867133Z"
    }
   },
   "outputs": [],
   "source": [
    "tmp_user = pd.read_sql_query(\"select * from test_rec_tmpuser\", engine)\n",
    "auth_user = pd.read_sql_query(\"select * from auth_user\", engine)"
   ]
  },
  {
   "cell_type": "code",
   "execution_count": 68,
   "id": "5aa74003",
   "metadata": {
    "ExecuteTime": {
     "end_time": "2023-01-31T04:04:08.719850Z",
     "start_time": "2023-01-31T04:04:08.716999Z"
    }
   },
   "outputs": [],
   "source": [
    "auth_cols=['id','username']\n",
    "tmp_cols = ['LoginUser_id','MBTI','ennea_res','prefer_movie_id','create_time']"
   ]
  },
  {
   "cell_type": "code",
   "execution_count": 69,
   "id": "bb7c9321",
   "metadata": {
    "ExecuteTime": {
     "end_time": "2023-01-31T04:04:09.441095Z",
     "start_time": "2023-01-31T04:04:09.428719Z"
    }
   },
   "outputs": [
    {
     "data": {
      "text/html": [
       "<div>\n",
       "<style scoped>\n",
       "    .dataframe tbody tr th:only-of-type {\n",
       "        vertical-align: middle;\n",
       "    }\n",
       "\n",
       "    .dataframe tbody tr th {\n",
       "        vertical-align: top;\n",
       "    }\n",
       "\n",
       "    .dataframe thead th {\n",
       "        text-align: right;\n",
       "    }\n",
       "</style>\n",
       "<table border=\"1\" class=\"dataframe\">\n",
       "  <thead>\n",
       "    <tr style=\"text-align: right;\">\n",
       "      <th></th>\n",
       "      <th>id</th>\n",
       "      <th>password</th>\n",
       "      <th>last_login</th>\n",
       "      <th>is_superuser</th>\n",
       "      <th>username</th>\n",
       "      <th>first_name</th>\n",
       "      <th>last_name</th>\n",
       "      <th>email</th>\n",
       "      <th>is_staff</th>\n",
       "      <th>is_active</th>\n",
       "      <th>date_joined</th>\n",
       "    </tr>\n",
       "  </thead>\n",
       "  <tbody>\n",
       "    <tr>\n",
       "      <th>1</th>\n",
       "      <td>2</td>\n",
       "      <td>!mmQE7zcvRQ9pcGnOtyEMySzGF8peQu62SKVirA6o</td>\n",
       "      <td>2023-01-29 18:14:17.479271</td>\n",
       "      <td>0</td>\n",
       "      <td>awsed2486</td>\n",
       "      <td>나현</td>\n",
       "      <td>이</td>\n",
       "      <td>awsed2486@gmail.com</td>\n",
       "      <td>0</td>\n",
       "      <td>1</td>\n",
       "      <td>2023-01-29 18:14:11.020115</td>\n",
       "    </tr>\n",
       "  </tbody>\n",
       "</table>\n",
       "</div>"
      ],
      "text/plain": [
       "   id                                   password                 last_login  \\\n",
       "1   2  !mmQE7zcvRQ9pcGnOtyEMySzGF8peQu62SKVirA6o 2023-01-29 18:14:17.479271   \n",
       "\n",
       "   is_superuser   username first_name last_name                email  \\\n",
       "1             0  awsed2486         나현         이  awsed2486@gmail.com   \n",
       "\n",
       "   is_staff  is_active                date_joined  \n",
       "1         0          1 2023-01-29 18:14:11.020115  "
      ]
     },
     "execution_count": 69,
     "metadata": {},
     "output_type": "execute_result"
    }
   ],
   "source": [
    "fake_user = auth_user[auth_user.id==2]\n",
    "fake_user"
   ]
  },
  {
   "cell_type": "code",
   "execution_count": 77,
   "id": "2603252c",
   "metadata": {
    "ExecuteTime": {
     "end_time": "2023-01-31T04:10:02.674694Z",
     "start_time": "2023-01-31T04:10:02.657158Z"
    }
   },
   "outputs": [
    {
     "data": {
      "text/html": [
       "<div>\n",
       "<style scoped>\n",
       "    .dataframe tbody tr th:only-of-type {\n",
       "        vertical-align: middle;\n",
       "    }\n",
       "\n",
       "    .dataframe tbody tr th {\n",
       "        vertical-align: top;\n",
       "    }\n",
       "\n",
       "    .dataframe thead th {\n",
       "        text-align: right;\n",
       "    }\n",
       "</style>\n",
       "<table border=\"1\" class=\"dataframe\">\n",
       "  <thead>\n",
       "    <tr style=\"text-align: right;\">\n",
       "      <th></th>\n",
       "      <th>id</th>\n",
       "      <th>username</th>\n",
       "      <th>LoginUser_id</th>\n",
       "      <th>MBTI</th>\n",
       "      <th>ennea_res</th>\n",
       "      <th>prefer_movie_id</th>\n",
       "      <th>create_time</th>\n",
       "    </tr>\n",
       "  </thead>\n",
       "  <tbody>\n",
       "    <tr>\n",
       "      <th>0</th>\n",
       "      <td>2</td>\n",
       "      <td>awsed2486</td>\n",
       "      <td>2.0</td>\n",
       "      <td>ESTP</td>\n",
       "      <td>1w2</td>\n",
       "      <td>[103228, 5445, 48516, 3535, 44199]</td>\n",
       "      <td>2023-01-29 18:12:49.103621</td>\n",
       "    </tr>\n",
       "    <tr>\n",
       "      <th>1</th>\n",
       "      <td>2</td>\n",
       "      <td>awsed2486</td>\n",
       "      <td>2.0</td>\n",
       "      <td>ISTP</td>\n",
       "      <td>1w2</td>\n",
       "      <td>[64614, 62155, 55247, 164909, 64969, 112552, 6...</td>\n",
       "      <td>2023-01-30 01:49:01.041521</td>\n",
       "    </tr>\n",
       "    <tr>\n",
       "      <th>2</th>\n",
       "      <td>2</td>\n",
       "      <td>awsed2486</td>\n",
       "      <td>2.0</td>\n",
       "      <td>ENTP</td>\n",
       "      <td>1w2</td>\n",
       "      <td>[31878, 72011, 5620, 3996, 41571, 4447]</td>\n",
       "      <td>2023-01-30 04:22:55.664887</td>\n",
       "    </tr>\n",
       "    <tr>\n",
       "      <th>3</th>\n",
       "      <td>2</td>\n",
       "      <td>awsed2486</td>\n",
       "      <td>2.0</td>\n",
       "      <td>ENTP</td>\n",
       "      <td>1w2</td>\n",
       "      <td>[8949, 105844, 6711, 8666, 8798, 54995]</td>\n",
       "      <td>2023-01-30 05:02:00.143908</td>\n",
       "    </tr>\n",
       "    <tr>\n",
       "      <th>4</th>\n",
       "      <td>2</td>\n",
       "      <td>awsed2486</td>\n",
       "      <td>2.0</td>\n",
       "      <td>ENFJ</td>\n",
       "      <td>4w5</td>\n",
       "      <td>[30749, 132480, 194448, 44195, 4014, 8376]</td>\n",
       "      <td>2023-01-30 13:20:28.742866</td>\n",
       "    </tr>\n",
       "  </tbody>\n",
       "</table>\n",
       "</div>"
      ],
      "text/plain": [
       "   id   username  LoginUser_id  MBTI ennea_res  \\\n",
       "0   2  awsed2486           2.0  ESTP       1w2   \n",
       "1   2  awsed2486           2.0  ISTP       1w2   \n",
       "2   2  awsed2486           2.0  ENTP       1w2   \n",
       "3   2  awsed2486           2.0  ENTP       1w2   \n",
       "4   2  awsed2486           2.0  ENFJ       4w5   \n",
       "\n",
       "                                     prefer_movie_id  \\\n",
       "0                 [103228, 5445, 48516, 3535, 44199]   \n",
       "1  [64614, 62155, 55247, 164909, 64969, 112552, 6...   \n",
       "2            [31878, 72011, 5620, 3996, 41571, 4447]   \n",
       "3            [8949, 105844, 6711, 8666, 8798, 54995]   \n",
       "4         [30749, 132480, 194448, 44195, 4014, 8376]   \n",
       "\n",
       "                 create_time  \n",
       "0 2023-01-29 18:12:49.103621  \n",
       "1 2023-01-30 01:49:01.041521  \n",
       "2 2023-01-30 04:22:55.664887  \n",
       "3 2023-01-30 05:02:00.143908  \n",
       "4 2023-01-30 13:20:28.742866  "
      ]
     },
     "execution_count": 77,
     "metadata": {},
     "output_type": "execute_result"
    }
   ],
   "source": [
    "fake_user_df = fake_user[auth_cols].merge(tmp_user[tmp_cols], left_on='id',right_on='LoginUser_id')\n",
    "fake_user_df.prefer_movie_id = fake_user_df.prefer_movie_id.map(literal_eval)\n",
    "fake_user_df"
   ]
  },
  {
   "cell_type": "markdown",
   "id": "888b07f5",
   "metadata": {},
   "source": [
    "### MBTI, ennea_res가 바뀐 다면 create_time이 가장 마지막인 것을 기준으로 추천하기"
   ]
  },
  {
   "cell_type": "markdown",
   "id": "7e236c9d",
   "metadata": {},
   "source": [
    "## 기존 mdf와 MovieLens로 Interaction 만들기"
   ]
  },
  {
   "cell_type": "code",
   "execution_count": 65,
   "id": "42b94374",
   "metadata": {
    "ExecuteTime": {
     "end_time": "2023-01-31T03:58:05.864723Z",
     "start_time": "2023-01-31T03:58:04.816950Z"
    }
   },
   "outputs": [
    {
     "data": {
      "text/html": [
       "<div>\n",
       "<style scoped>\n",
       "    .dataframe tbody tr th:only-of-type {\n",
       "        vertical-align: middle;\n",
       "    }\n",
       "\n",
       "    .dataframe tbody tr th {\n",
       "        vertical-align: top;\n",
       "    }\n",
       "\n",
       "    .dataframe thead th {\n",
       "        text-align: right;\n",
       "    }\n",
       "</style>\n",
       "<table border=\"1\" class=\"dataframe\">\n",
       "  <thead>\n",
       "    <tr style=\"text-align: right;\">\n",
       "      <th></th>\n",
       "      <th>userId</th>\n",
       "      <th>movieId</th>\n",
       "      <th>rating</th>\n",
       "      <th>timestamp</th>\n",
       "    </tr>\n",
       "  </thead>\n",
       "  <tbody>\n",
       "    <tr>\n",
       "      <th>0</th>\n",
       "      <td>1</td>\n",
       "      <td>296</td>\n",
       "      <td>5.0</td>\n",
       "      <td>1147880044</td>\n",
       "    </tr>\n",
       "    <tr>\n",
       "      <th>9</th>\n",
       "      <td>1</td>\n",
       "      <td>1250</td>\n",
       "      <td>4.0</td>\n",
       "      <td>1147868414</td>\n",
       "    </tr>\n",
       "    <tr>\n",
       "      <th>11</th>\n",
       "      <td>1</td>\n",
       "      <td>1653</td>\n",
       "      <td>4.0</td>\n",
       "      <td>1147868097</td>\n",
       "    </tr>\n",
       "    <tr>\n",
       "      <th>23</th>\n",
       "      <td>1</td>\n",
       "      <td>3949</td>\n",
       "      <td>5.0</td>\n",
       "      <td>1147868678</td>\n",
       "    </tr>\n",
       "    <tr>\n",
       "      <th>25</th>\n",
       "      <td>1</td>\n",
       "      <td>4308</td>\n",
       "      <td>3.0</td>\n",
       "      <td>1147868534</td>\n",
       "    </tr>\n",
       "    <tr>\n",
       "      <th>...</th>\n",
       "      <td>...</td>\n",
       "      <td>...</td>\n",
       "      <td>...</td>\n",
       "      <td>...</td>\n",
       "    </tr>\n",
       "    <tr>\n",
       "      <th>25000081</th>\n",
       "      <td>162541</td>\n",
       "      <td>7361</td>\n",
       "      <td>4.5</td>\n",
       "      <td>1240953484</td>\n",
       "    </tr>\n",
       "    <tr>\n",
       "      <th>25000090</th>\n",
       "      <td>162541</td>\n",
       "      <td>50872</td>\n",
       "      <td>4.5</td>\n",
       "      <td>1240953372</td>\n",
       "    </tr>\n",
       "    <tr>\n",
       "      <th>25000091</th>\n",
       "      <td>162541</td>\n",
       "      <td>55768</td>\n",
       "      <td>2.5</td>\n",
       "      <td>1240951998</td>\n",
       "    </tr>\n",
       "    <tr>\n",
       "      <th>25000092</th>\n",
       "      <td>162541</td>\n",
       "      <td>56176</td>\n",
       "      <td>2.0</td>\n",
       "      <td>1240950697</td>\n",
       "    </tr>\n",
       "    <tr>\n",
       "      <th>25000094</th>\n",
       "      <td>162541</td>\n",
       "      <td>63876</td>\n",
       "      <td>5.0</td>\n",
       "      <td>1240952515</td>\n",
       "    </tr>\n",
       "  </tbody>\n",
       "</table>\n",
       "<p>6348460 rows × 4 columns</p>\n",
       "</div>"
      ],
      "text/plain": [
       "          userId  movieId  rating   timestamp\n",
       "0              1      296     5.0  1147880044\n",
       "9              1     1250     4.0  1147868414\n",
       "11             1     1653     4.0  1147868097\n",
       "23             1     3949     5.0  1147868678\n",
       "25             1     4308     3.0  1147868534\n",
       "...          ...      ...     ...         ...\n",
       "25000081  162541     7361     4.5  1240953484\n",
       "25000090  162541    50872     4.5  1240953372\n",
       "25000091  162541    55768     2.5  1240951998\n",
       "25000092  162541    56176     2.0  1240950697\n",
       "25000094  162541    63876     5.0  1240952515\n",
       "\n",
       "[6348460 rows x 4 columns]"
      ]
     },
     "execution_count": 65,
     "metadata": {},
     "output_type": "execute_result"
    }
   ],
   "source": [
    "mdf_rating = rating[rating.movieId.isin(mdf.movieId)]\n",
    "mdf_rating"
   ]
  },
  {
   "cell_type": "code",
   "execution_count": 86,
   "id": "26172f50",
   "metadata": {
    "ExecuteTime": {
     "end_time": "2023-01-31T05:08:43.051762Z",
     "start_time": "2023-01-31T05:08:43.004758Z"
    }
   },
   "outputs": [
    {
     "data": {
      "text/html": [
       "<div>\n",
       "<style scoped>\n",
       "    .dataframe tbody tr th:only-of-type {\n",
       "        vertical-align: middle;\n",
       "    }\n",
       "\n",
       "    .dataframe tbody tr th {\n",
       "        vertical-align: top;\n",
       "    }\n",
       "\n",
       "    .dataframe thead th {\n",
       "        text-align: right;\n",
       "    }\n",
       "</style>\n",
       "<table border=\"1\" class=\"dataframe\">\n",
       "  <thead>\n",
       "    <tr style=\"text-align: right;\">\n",
       "      <th></th>\n",
       "      <th>userId</th>\n",
       "      <th>movieId</th>\n",
       "      <th>rating</th>\n",
       "      <th>timestamp</th>\n",
       "    </tr>\n",
       "  </thead>\n",
       "  <tbody>\n",
       "    <tr>\n",
       "      <th>0</th>\n",
       "      <td>1</td>\n",
       "      <td>296</td>\n",
       "      <td>1</td>\n",
       "      <td>1147880044</td>\n",
       "    </tr>\n",
       "    <tr>\n",
       "      <th>9</th>\n",
       "      <td>1</td>\n",
       "      <td>1250</td>\n",
       "      <td>1</td>\n",
       "      <td>1147868414</td>\n",
       "    </tr>\n",
       "  </tbody>\n",
       "</table>\n",
       "</div>"
      ],
      "text/plain": [
       "   userId  movieId  rating   timestamp\n",
       "0       1      296       1  1147880044\n",
       "9       1     1250       1  1147868414"
      ]
     },
     "execution_count": 86,
     "metadata": {},
     "output_type": "execute_result"
    }
   ],
   "source": [
    "mdf_rating.rating=1\n",
    "mdf_rating[:2]"
   ]
  },
  {
   "cell_type": "markdown",
   "id": "d1dc8ec0",
   "metadata": {},
   "source": [
    "## Fake User의 Interaction 합치기"
   ]
  },
  {
   "cell_type": "markdown",
   "id": "3036b457",
   "metadata": {},
   "source": [
    "### Fake User의 userID 변환 (Django DB user id: rating에 쓰일 user id)"
   ]
  },
  {
   "cell_type": "code",
   "execution_count": 67,
   "id": "852d3d9a",
   "metadata": {
    "ExecuteTime": {
     "end_time": "2023-01-31T03:59:49.534971Z",
     "start_time": "2023-01-31T03:59:49.523835Z"
    }
   },
   "outputs": [
    {
     "data": {
      "text/plain": [
       "162541"
      ]
     },
     "execution_count": 67,
     "metadata": {},
     "output_type": "execute_result"
    }
   ],
   "source": [
    "mdf_rating.userId.max()"
   ]
  },
  {
   "cell_type": "code",
   "execution_count": 104,
   "id": "a57a7626",
   "metadata": {
    "ExecuteTime": {
     "end_time": "2023-01-31T05:20:24.900061Z",
     "start_time": "2023-01-31T05:20:24.897104Z"
    }
   },
   "outputs": [],
   "source": [
    "common_cols = ['userId','movieId']"
   ]
  },
  {
   "cell_type": "code",
   "execution_count": 105,
   "id": "76280618",
   "metadata": {
    "ExecuteTime": {
     "end_time": "2023-01-31T05:20:29.689424Z",
     "start_time": "2023-01-31T05:20:29.674409Z"
    }
   },
   "outputs": [
    {
     "name": "stdout",
     "output_type": "stream",
     "text": [
      "유저별 중복 영화 제거 전: 41\n",
      "유저별 중복 영화 제거 후: 41\n"
     ]
    },
    {
     "data": {
      "text/html": [
       "<div>\n",
       "<style scoped>\n",
       "    .dataframe tbody tr th:only-of-type {\n",
       "        vertical-align: middle;\n",
       "    }\n",
       "\n",
       "    .dataframe tbody tr th {\n",
       "        vertical-align: top;\n",
       "    }\n",
       "\n",
       "    .dataframe thead th {\n",
       "        text-align: right;\n",
       "    }\n",
       "</style>\n",
       "<table border=\"1\" class=\"dataframe\">\n",
       "  <thead>\n",
       "    <tr style=\"text-align: right;\">\n",
       "      <th></th>\n",
       "      <th>userId</th>\n",
       "      <th>movieId</th>\n",
       "    </tr>\n",
       "  </thead>\n",
       "  <tbody>\n",
       "    <tr>\n",
       "      <th>0</th>\n",
       "      <td>300002</td>\n",
       "      <td>103228</td>\n",
       "    </tr>\n",
       "    <tr>\n",
       "      <th>0</th>\n",
       "      <td>300002</td>\n",
       "      <td>5445</td>\n",
       "    </tr>\n",
       "    <tr>\n",
       "      <th>0</th>\n",
       "      <td>300002</td>\n",
       "      <td>48516</td>\n",
       "    </tr>\n",
       "    <tr>\n",
       "      <th>0</th>\n",
       "      <td>300002</td>\n",
       "      <td>3535</td>\n",
       "    </tr>\n",
       "    <tr>\n",
       "      <th>0</th>\n",
       "      <td>300002</td>\n",
       "      <td>44199</td>\n",
       "    </tr>\n",
       "    <tr>\n",
       "      <th>1</th>\n",
       "      <td>300002</td>\n",
       "      <td>64614</td>\n",
       "    </tr>\n",
       "    <tr>\n",
       "      <th>1</th>\n",
       "      <td>300002</td>\n",
       "      <td>62155</td>\n",
       "    </tr>\n",
       "    <tr>\n",
       "      <th>1</th>\n",
       "      <td>300002</td>\n",
       "      <td>55247</td>\n",
       "    </tr>\n",
       "    <tr>\n",
       "      <th>1</th>\n",
       "      <td>300002</td>\n",
       "      <td>164909</td>\n",
       "    </tr>\n",
       "    <tr>\n",
       "      <th>1</th>\n",
       "      <td>300002</td>\n",
       "      <td>64969</td>\n",
       "    </tr>\n",
       "  </tbody>\n",
       "</table>\n",
       "</div>"
      ],
      "text/plain": [
       "   userId movieId\n",
       "0  300002  103228\n",
       "0  300002    5445\n",
       "0  300002   48516\n",
       "0  300002    3535\n",
       "0  300002   44199\n",
       "1  300002   64614\n",
       "1  300002   62155\n",
       "1  300002   55247\n",
       "1  300002  164909\n",
       "1  300002   64969"
      ]
     },
     "execution_count": 105,
     "metadata": {},
     "output_type": "execute_result"
    }
   ],
   "source": [
    "fake_user_inter = fake_user_df[['id','prefer_movie_id']].explode('prefer_movie_id')\n",
    "# fake_user_inter['rating']=1\n",
    "fake_user_inter.columns=common_cols\n",
    "print(f\"유저별 중복 영화 제거 전: {fake_user_inter.shape[0]}\")\n",
    "fake_user_inter.drop_duplicates(subset=['userId','movieId'], inplace=True)\n",
    "print(f\"유저별 중복 영화 제거 후: {fake_user_inter.shape[0]}\")\n",
    "fake_user_inter.userId+=300000\n",
    "fake_user_inter[:10]"
   ]
  },
  {
   "cell_type": "markdown",
   "id": "3bcc9ee2",
   "metadata": {
    "ExecuteTime": {
     "end_time": "2023-01-31T05:12:55.959617Z",
     "start_time": "2023-01-31T05:12:55.948277Z"
    }
   },
   "source": [
    "### 합치기"
   ]
  },
  {
   "cell_type": "code",
   "execution_count": 106,
   "id": "bbb01c11",
   "metadata": {
    "ExecuteTime": {
     "end_time": "2023-01-31T05:20:34.193041Z",
     "start_time": "2023-01-31T05:20:34.189008Z"
    }
   },
   "outputs": [
    {
     "data": {
      "text/plain": [
       "((6348460, 4), (41, 2))"
      ]
     },
     "execution_count": 106,
     "metadata": {},
     "output_type": "execute_result"
    }
   ],
   "source": [
    "mdf_rating.shape, fake_user_inter.shape"
   ]
  },
  {
   "cell_type": "code",
   "execution_count": 107,
   "id": "49fca44f",
   "metadata": {
    "ExecuteTime": {
     "end_time": "2023-01-31T05:20:39.628397Z",
     "start_time": "2023-01-31T05:20:39.195743Z"
    }
   },
   "outputs": [
    {
     "data": {
      "text/plain": [
       "(6348501, 2)"
      ]
     },
     "execution_count": 107,
     "metadata": {},
     "output_type": "execute_result"
    }
   ],
   "source": [
    "merge_rating = pd.concat([mdf_rating[common_cols],fake_user_inter])\n",
    "merge_rating.shape"
   ]
  },
  {
   "cell_type": "code",
   "execution_count": 108,
   "id": "bbe97c0f",
   "metadata": {
    "ExecuteTime": {
     "end_time": "2023-01-31T05:21:15.777006Z",
     "start_time": "2023-01-31T05:21:15.769523Z"
    }
   },
   "outputs": [
    {
     "data": {
      "text/html": [
       "<div>\n",
       "<style scoped>\n",
       "    .dataframe tbody tr th:only-of-type {\n",
       "        vertical-align: middle;\n",
       "    }\n",
       "\n",
       "    .dataframe tbody tr th {\n",
       "        vertical-align: top;\n",
       "    }\n",
       "\n",
       "    .dataframe thead th {\n",
       "        text-align: right;\n",
       "    }\n",
       "</style>\n",
       "<table border=\"1\" class=\"dataframe\">\n",
       "  <thead>\n",
       "    <tr style=\"text-align: right;\">\n",
       "      <th></th>\n",
       "      <th>userId:token</th>\n",
       "      <th>movieId:token</th>\n",
       "    </tr>\n",
       "  </thead>\n",
       "  <tbody>\n",
       "    <tr>\n",
       "      <th>0</th>\n",
       "      <td>1</td>\n",
       "      <td>296</td>\n",
       "    </tr>\n",
       "    <tr>\n",
       "      <th>9</th>\n",
       "      <td>1</td>\n",
       "      <td>1250</td>\n",
       "    </tr>\n",
       "    <tr>\n",
       "      <th>11</th>\n",
       "      <td>1</td>\n",
       "      <td>1653</td>\n",
       "    </tr>\n",
       "  </tbody>\n",
       "</table>\n",
       "</div>"
      ],
      "text/plain": [
       "    userId:token movieId:token\n",
       "0              1           296\n",
       "9              1          1250\n",
       "11             1          1653"
      ]
     },
     "execution_count": 108,
     "metadata": {},
     "output_type": "execute_result"
    }
   ],
   "source": [
    "merge_rating.columns = ['userId:token', 'movieId:token']\n",
    "merge_rating[:3]"
   ]
  },
  {
   "cell_type": "markdown",
   "id": "4ec2d365",
   "metadata": {},
   "source": [
    "## Recbole input 만들기 (.inter, .data 등)"
   ]
  },
  {
   "cell_type": "code",
   "execution_count": 114,
   "id": "edc0d99d",
   "metadata": {
    "ExecuteTime": {
     "end_time": "2023-01-31T05:24:47.013999Z",
     "start_time": "2023-01-31T05:24:46.638611Z"
    }
   },
   "outputs": [
    {
     "name": "stdout",
     "output_type": "stream",
     "text": [
      "train_data.inter\n",
      "/opt/ml/project2/BaseLine/dataset/train_data\n"
     ]
    }
   ],
   "source": [
    "!ls ../../BaseLine/dataset/train_data/\n",
    "!readlink -ef ../../BaseLine/dataset/train_data/"
   ]
  },
  {
   "cell_type": "code",
   "execution_count": 115,
   "id": "988cceaf",
   "metadata": {
    "ExecuteTime": {
     "end_time": "2023-01-31T05:25:28.580080Z",
     "start_time": "2023-01-31T05:25:19.335012Z"
    }
   },
   "outputs": [],
   "source": [
    "merge_rating.to_csv(\"/opt/ml/project2/BaseLine/dataset/train_data/train_data.inter\",sep='\\t',index=False)"
   ]
  },
  {
   "cell_type": "markdown",
   "id": "aa65d2ea",
   "metadata": {},
   "source": [
    "## EASE 학습 및 추천"
   ]
  },
  {
   "cell_type": "code",
   "execution_count": null,
   "id": "3c65edc3",
   "metadata": {},
   "outputs": [],
   "source": []
  },
  {
   "cell_type": "code",
   "execution_count": null,
   "id": "f004a87e",
   "metadata": {},
   "outputs": [],
   "source": [
    "## 추천 movieids 추출"
   ]
  },
  {
   "cell_type": "code",
   "execution_count": null,
   "id": "f5ac7fac",
   "metadata": {},
   "outputs": [],
   "source": []
  },
  {
   "cell_type": "code",
   "execution_count": null,
   "id": "423239a6",
   "metadata": {},
   "outputs": [],
   "source": [
    "## DB에 저장"
   ]
  },
  {
   "cell_type": "code",
   "execution_count": 117,
   "id": "6338ed8f",
   "metadata": {
    "ExecuteTime": {
     "end_time": "2023-01-31T09:12:54.126126Z",
     "start_time": "2023-01-31T09:12:53.986576Z"
    }
   },
   "outputs": [
    {
     "data": {
      "text/plain": [
       "41"
      ]
     },
     "execution_count": 117,
     "metadata": {},
     "output_type": "execute_result"
    }
   ],
   "source": [
    "fake_user_inter.to_sql('table_name',engine)"
   ]
  },
  {
   "cell_type": "code",
   "execution_count": null,
   "id": "d40341b8",
   "metadata": {},
   "outputs": [],
   "source": [
    "## TmpUser와 User의 관계가 어떻게 되는지, 어떻게 추천을 해줄 수 있는지 내일 나현님께 여쭤보기\n",
    "# -> 답변완료"
   ]
  }
 ],
 "metadata": {
  "kernelspec": {
   "display_name": "Python 3 (ipykernel)",
   "language": "python",
   "name": "python3"
  },
  "language_info": {
   "codemirror_mode": {
    "name": "ipython",
    "version": 3
   },
   "file_extension": ".py",
   "mimetype": "text/x-python",
   "name": "python",
   "nbconvert_exporter": "python",
   "pygments_lexer": "ipython3",
   "version": "3.8.5"
  },
  "toc": {
   "base_numbering": 1,
   "nav_menu": {},
   "number_sections": true,
   "sideBar": true,
   "skip_h1_title": false,
   "title_cell": "Table of Contents",
   "title_sidebar": "Contents",
   "toc_cell": false,
   "toc_position": {
    "height": "calc(100% - 180px)",
    "left": "10px",
    "top": "150px",
    "width": "426.667px"
   },
   "toc_section_display": true,
   "toc_window_display": true
  }
 },
 "nbformat": 4,
 "nbformat_minor": 5
}
