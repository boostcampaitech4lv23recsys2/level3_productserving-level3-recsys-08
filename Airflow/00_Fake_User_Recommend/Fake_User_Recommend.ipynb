{
 "cells": [
  {
   "cell_type": "code",
   "execution_count": 209,
   "id": "223dc18b",
   "metadata": {
    "ExecuteTime": {
     "end_time": "2023-02-04T20:49:41.318911Z",
     "start_time": "2023-02-04T20:49:41.310806Z"
    }
   },
   "outputs": [],
   "source": [
    "import os\n",
    "from ast import literal_eval\n",
    "import pandas as pd\n",
    "from pathlib import Path\n",
    "from environ import Env\n",
    "import pickle\n",
    "import warnings\n",
    "warnings.filterwarnings('ignore')\n",
    "\n",
    "# Build paths inside the project like this: BASE_DIR / 'subdir'.\n",
    "BASE_DIR = Path(os.curdir).resolve().parent.parent\n",
    "env = Env()\n",
    "env_path = BASE_DIR / \"django/.env\"\n",
    "if env_path.exists():\n",
    "    with env_path.open(\"rt\", encoding=\"utf8\") as f:\n",
    "        env.read_env(f, overwrite=True)\n",
    "\n",
    "dbname = env.get_value('GCPDB_NAME')\n",
    "user = env.get_value('GCPDB_USER')\n",
    "pw = env.get_value('GCPDB_PASSWORD')\n",
    "host = env.get_value('GCPDB_HOST')\n",
    "\n",
    "from sqlalchemy import create_engine\n",
    "# echo를 true로 설정하면 command창에 실행된 sql문이 뜨게 됨\n",
    "engine = create_engine(f'mysql+mysqldb://{user}:{pw}@{host}:3306/{dbname}?charset=utf8')\n",
    "\n",
    "PKL_DIR = Path(os.curdir).resolve().parent.parent\n",
    "PKL_DIR = PKL_DIR / \"Utils/Pickle\""
   ]
  },
  {
   "cell_type": "code",
   "execution_count": 157,
   "id": "ae12b2cd",
   "metadata": {
    "ExecuteTime": {
     "end_time": "2023-02-04T20:13:16.791656Z",
     "start_time": "2023-02-04T20:13:16.597489Z"
    }
   },
   "outputs": [
    {
     "name": "stdout",
     "output_type": "stream",
     "text": [
      "README.txt\t   genome-tags.csv  movies.csv\t tags.csv\r\n",
      "genome-scores.csv  links.csv\t    ratings.csv\r\n"
     ]
    }
   ],
   "source": [
    "!ls ../../Data/EDA/ml-25m/"
   ]
  },
  {
   "cell_type": "code",
   "execution_count": 158,
   "id": "58090498",
   "metadata": {
    "ExecuteTime": {
     "end_time": "2023-02-04T20:13:17.125069Z",
     "start_time": "2023-02-04T20:13:16.930001Z"
    }
   },
   "outputs": [
    {
     "name": "stdout",
     "output_type": "stream",
     "text": [
      "/opt/ml/project2/Utils/Pickle/230130_Popular_movie_1192_cwj.pickle\r\n",
      "/opt/ml/project2/Utils/Pickle/230130_Popular_movie_character_2867_cwj.pickle\r\n",
      "/opt/ml/project2/Utils/Pickle/230131_watch_link_4679_rows.pickle\r\n",
      "/opt/ml/project2/Utils/Pickle/230201_characterid_to_hashtag.pickle\r\n",
      "/opt/ml/project2/Utils/Pickle/230201_fit_mbti_dict.pickle\r\n",
      "/opt/ml/project2/Utils/Pickle/230203_character_movie_merge.pickle\r\n"
     ]
    }
   ],
   "source": [
    "!ls /opt/ml/project2/Utils/Pickle/23*"
   ]
  },
  {
   "cell_type": "code",
   "execution_count": 159,
   "id": "28e4470a",
   "metadata": {
    "ExecuteTime": {
     "end_time": "2023-02-04T20:13:29.589582Z",
     "start_time": "2023-02-04T20:13:19.350556Z"
    }
   },
   "outputs": [],
   "source": [
    "rating = pd.read_csv('/opt/ml/project2/Data/EDA/ml-25m/ratings.csv')"
   ]
  },
  {
   "cell_type": "code",
   "execution_count": 160,
   "id": "f9be24d0",
   "metadata": {
    "ExecuteTime": {
     "end_time": "2023-02-04T20:13:29.608261Z",
     "start_time": "2023-02-04T20:13:29.591878Z"
    }
   },
   "outputs": [],
   "source": [
    "cdf = pd.read_pickle(PKL_DIR / '230130_Popular_movie_character_2867_cwj.pickle')\n",
    "mdf = pd.read_pickle(PKL_DIR / '230130_Popular_movie_1192_cwj.pickle')"
   ]
  },
  {
   "cell_type": "markdown",
   "id": "867d49d4",
   "metadata": {},
   "source": [
    "## Fake User DB에서 불러오기"
   ]
  },
  {
   "cell_type": "code",
   "execution_count": 161,
   "id": "0534edc5",
   "metadata": {
    "ExecuteTime": {
     "end_time": "2023-02-04T20:13:30.389256Z",
     "start_time": "2023-02-04T20:13:30.322386Z"
    }
   },
   "outputs": [],
   "source": [
    "tmp_user = pd.read_sql_query(\"select * from test_rec_tmpuser\", engine)\n",
    "auth_user = pd.read_sql_query(\"select * from auth_user\", engine)"
   ]
  },
  {
   "cell_type": "code",
   "execution_count": 162,
   "id": "5aa74003",
   "metadata": {
    "ExecuteTime": {
     "end_time": "2023-02-04T20:13:32.379383Z",
     "start_time": "2023-02-04T20:13:32.376564Z"
    }
   },
   "outputs": [],
   "source": [
    "auth_cols=['id','username']\n",
    "tmp_cols = ['LoginUser_id','MBTI','ennea_res','prefer_movie_id','create_time']"
   ]
  },
  {
   "cell_type": "code",
   "execution_count": 164,
   "id": "bb7c9321",
   "metadata": {
    "ExecuteTime": {
     "end_time": "2023-02-04T20:14:25.708505Z",
     "start_time": "2023-02-04T20:14:25.692642Z"
    }
   },
   "outputs": [
    {
     "data": {
      "text/html": [
       "<div>\n",
       "<style scoped>\n",
       "    .dataframe tbody tr th:only-of-type {\n",
       "        vertical-align: middle;\n",
       "    }\n",
       "\n",
       "    .dataframe tbody tr th {\n",
       "        vertical-align: top;\n",
       "    }\n",
       "\n",
       "    .dataframe thead th {\n",
       "        text-align: right;\n",
       "    }\n",
       "</style>\n",
       "<table border=\"1\" class=\"dataframe\">\n",
       "  <thead>\n",
       "    <tr style=\"text-align: right;\">\n",
       "      <th></th>\n",
       "      <th>id</th>\n",
       "      <th>password</th>\n",
       "      <th>last_login</th>\n",
       "      <th>is_superuser</th>\n",
       "      <th>username</th>\n",
       "      <th>first_name</th>\n",
       "      <th>last_name</th>\n",
       "      <th>email</th>\n",
       "      <th>is_staff</th>\n",
       "      <th>is_active</th>\n",
       "      <th>date_joined</th>\n",
       "    </tr>\n",
       "  </thead>\n",
       "  <tbody>\n",
       "    <tr>\n",
       "      <th>0</th>\n",
       "      <td>1</td>\n",
       "      <td>pbkdf2_sha256$390000$R5F879x1Qstp2V6H3n82xy$xY...</td>\n",
       "      <td>2023-02-04 14:42:41.527730</td>\n",
       "      <td>1</td>\n",
       "      <td>cwj</td>\n",
       "      <td></td>\n",
       "      <td></td>\n",
       "      <td>cwj@naver.com</td>\n",
       "      <td>1</td>\n",
       "      <td>1</td>\n",
       "      <td>2023-01-29 13:01:28.048388</td>\n",
       "    </tr>\n",
       "    <tr>\n",
       "      <th>1</th>\n",
       "      <td>2</td>\n",
       "      <td>!mmQE7zcvRQ9pcGnOtyEMySzGF8peQu62SKVirA6o</td>\n",
       "      <td>2023-02-03 20:43:39.013448</td>\n",
       "      <td>0</td>\n",
       "      <td>awsed2486</td>\n",
       "      <td>나현</td>\n",
       "      <td>이</td>\n",
       "      <td>awsed2486@gmail.com</td>\n",
       "      <td>0</td>\n",
       "      <td>1</td>\n",
       "      <td>2023-01-29 18:14:11.020115</td>\n",
       "    </tr>\n",
       "    <tr>\n",
       "      <th>2</th>\n",
       "      <td>3</td>\n",
       "      <td>!aI602NFLAewkSwRp5QP5T7lQQWbF7MGlxmCtylBC</td>\n",
       "      <td>2023-02-04 19:07:29.401230</td>\n",
       "      <td>0</td>\n",
       "      <td>cwjcsk</td>\n",
       "      <td>해피</td>\n",
       "      <td>조</td>\n",
       "      <td>cwjcsk@gmail.com</td>\n",
       "      <td>0</td>\n",
       "      <td>1</td>\n",
       "      <td>2023-01-30 14:12:47.146695</td>\n",
       "    </tr>\n",
       "    <tr>\n",
       "      <th>3</th>\n",
       "      <td>4</td>\n",
       "      <td>pbkdf2_sha256$390000$QnKYRE2d9GtfhDwppjXsOG$NQ...</td>\n",
       "      <td>2023-01-30 16:53:31.294270</td>\n",
       "      <td>0</td>\n",
       "      <td>이나현</td>\n",
       "      <td></td>\n",
       "      <td></td>\n",
       "      <td>abc@example.com</td>\n",
       "      <td>0</td>\n",
       "      <td>1</td>\n",
       "      <td>2023-01-30 16:53:30.689159</td>\n",
       "    </tr>\n",
       "    <tr>\n",
       "      <th>4</th>\n",
       "      <td>5</td>\n",
       "      <td>!z9ClJWiGykoETbT2ix1b34UbXAVU0cgDP6XhnKi4</td>\n",
       "      <td>2023-02-02 06:35:30.766830</td>\n",
       "      <td>0</td>\n",
       "      <td>uiuh4569</td>\n",
       "      <td>의준</td>\n",
       "      <td>정</td>\n",
       "      <td>uiuh4569@gmail.com</td>\n",
       "      <td>0</td>\n",
       "      <td>1</td>\n",
       "      <td>2023-01-30 17:26:31.180120</td>\n",
       "    </tr>\n",
       "    <tr>\n",
       "      <th>5</th>\n",
       "      <td>6</td>\n",
       "      <td>!jIAXteJtY9rCgJdyDxU17H7wLh3AUFzgHqe2Ot3W</td>\n",
       "      <td>2023-02-04 07:16:07.978224</td>\n",
       "      <td>0</td>\n",
       "      <td>jhealee0624</td>\n",
       "      <td>해리</td>\n",
       "      <td>전</td>\n",
       "      <td>jhealee0624@gmail.com</td>\n",
       "      <td>0</td>\n",
       "      <td>1</td>\n",
       "      <td>2023-02-01 02:25:04.124092</td>\n",
       "    </tr>\n",
       "    <tr>\n",
       "      <th>6</th>\n",
       "      <td>7</td>\n",
       "      <td>!mFAzZvAUrUmOQ2rXFFALIXnTNNmaspOo60Kx69Ym</td>\n",
       "      <td>2023-02-03 12:33:10.144832</td>\n",
       "      <td>0</td>\n",
       "      <td>garam</td>\n",
       "      <td>GARAM</td>\n",
       "      <td>LEE</td>\n",
       "      <td>garamlee13@gmail.com</td>\n",
       "      <td>0</td>\n",
       "      <td>1</td>\n",
       "      <td>2023-02-01 03:55:33.083219</td>\n",
       "    </tr>\n",
       "    <tr>\n",
       "      <th>7</th>\n",
       "      <td>8</td>\n",
       "      <td>!6og98zNMBLrMgGkzj9MwEJmKgmIwBDbBj4L0jUXf</td>\n",
       "      <td>2023-02-04 15:48:58.223036</td>\n",
       "      <td>0</td>\n",
       "      <td>larila</td>\n",
       "      <td>larila</td>\n",
       "      <td>bam</td>\n",
       "      <td>guswn2521@gmail.com</td>\n",
       "      <td>0</td>\n",
       "      <td>1</td>\n",
       "      <td>2023-02-01 06:09:57.037632</td>\n",
       "    </tr>\n",
       "    <tr>\n",
       "      <th>8</th>\n",
       "      <td>9</td>\n",
       "      <td>pbkdf2_sha256$390000$DeJuuplcPgybmGLMR3lnt9$by...</td>\n",
       "      <td>2023-02-04 19:54:29.902005</td>\n",
       "      <td>0</td>\n",
       "      <td>nahyun2</td>\n",
       "      <td></td>\n",
       "      <td></td>\n",
       "      <td>asdf@asdf.com</td>\n",
       "      <td>0</td>\n",
       "      <td>1</td>\n",
       "      <td>2023-02-01 20:09:24.296057</td>\n",
       "    </tr>\n",
       "    <tr>\n",
       "      <th>9</th>\n",
       "      <td>10</td>\n",
       "      <td>!kJ1PRib2y6qIyZkyfDBg0mVTitx2yQ1pLiCyS5NH</td>\n",
       "      <td>2023-02-02 14:37:24.054752</td>\n",
       "      <td>0</td>\n",
       "      <td>juntaegim99</td>\n",
       "      <td>준태</td>\n",
       "      <td>김</td>\n",
       "      <td>juntaegim99@gmail.com</td>\n",
       "      <td>0</td>\n",
       "      <td>1</td>\n",
       "      <td>2023-02-02 14:37:23.989346</td>\n",
       "    </tr>\n",
       "    <tr>\n",
       "      <th>10</th>\n",
       "      <td>11</td>\n",
       "      <td>!NEBLqwFx5GaoXHDjYzwJkcrVFU21onRi4DiKn0BX</td>\n",
       "      <td>2023-02-04 06:20:27.931215</td>\n",
       "      <td>0</td>\n",
       "      <td>minsu</td>\n",
       "      <td>Minsu</td>\n",
       "      <td>Chae</td>\n",
       "      <td>chaemiinsu@gmail.com</td>\n",
       "      <td>0</td>\n",
       "      <td>1</td>\n",
       "      <td>2023-02-02 16:52:45.086265</td>\n",
       "    </tr>\n",
       "    <tr>\n",
       "      <th>11</th>\n",
       "      <td>12</td>\n",
       "      <td>!WkC6GbFXThJLcrWtL4nTym2pPe7GElIc6m5h4DfS</td>\n",
       "      <td>2023-02-03 01:32:54.528806</td>\n",
       "      <td>0</td>\n",
       "      <td>ryp1662</td>\n",
       "      <td>영표</td>\n",
       "      <td>류</td>\n",
       "      <td>ryp1662@gmail.com</td>\n",
       "      <td>0</td>\n",
       "      <td>1</td>\n",
       "      <td>2023-02-03 01:32:54.470774</td>\n",
       "    </tr>\n",
       "    <tr>\n",
       "      <th>12</th>\n",
       "      <td>13</td>\n",
       "      <td>pbkdf2_sha256$390000$nRfpIEjhZ7tsK05eteplLG$19...</td>\n",
       "      <td>2023-02-03 21:06:03.703205</td>\n",
       "      <td>0</td>\n",
       "      <td>nahyun3</td>\n",
       "      <td></td>\n",
       "      <td></td>\n",
       "      <td>asd@asdf.com</td>\n",
       "      <td>0</td>\n",
       "      <td>1</td>\n",
       "      <td>2023-02-03 20:43:25.647007</td>\n",
       "    </tr>\n",
       "    <tr>\n",
       "      <th>13</th>\n",
       "      <td>14</td>\n",
       "      <td>!buFy2iWTplklUduP6A67BxiKJdb6RxBcpxDYSqlV</td>\n",
       "      <td>2023-02-04 08:59:06.516678</td>\n",
       "      <td>0</td>\n",
       "      <td>djqnqkaos</td>\n",
       "      <td>진아</td>\n",
       "      <td>임</td>\n",
       "      <td>djqnqkaos@gmail.com</td>\n",
       "      <td>0</td>\n",
       "      <td>1</td>\n",
       "      <td>2023-02-04 08:59:06.440330</td>\n",
       "    </tr>\n",
       "  </tbody>\n",
       "</table>\n",
       "</div>"
      ],
      "text/plain": [
       "    id                                           password  \\\n",
       "0    1  pbkdf2_sha256$390000$R5F879x1Qstp2V6H3n82xy$xY...   \n",
       "1    2          !mmQE7zcvRQ9pcGnOtyEMySzGF8peQu62SKVirA6o   \n",
       "2    3          !aI602NFLAewkSwRp5QP5T7lQQWbF7MGlxmCtylBC   \n",
       "3    4  pbkdf2_sha256$390000$QnKYRE2d9GtfhDwppjXsOG$NQ...   \n",
       "4    5          !z9ClJWiGykoETbT2ix1b34UbXAVU0cgDP6XhnKi4   \n",
       "5    6          !jIAXteJtY9rCgJdyDxU17H7wLh3AUFzgHqe2Ot3W   \n",
       "6    7          !mFAzZvAUrUmOQ2rXFFALIXnTNNmaspOo60Kx69Ym   \n",
       "7    8          !6og98zNMBLrMgGkzj9MwEJmKgmIwBDbBj4L0jUXf   \n",
       "8    9  pbkdf2_sha256$390000$DeJuuplcPgybmGLMR3lnt9$by...   \n",
       "9   10          !kJ1PRib2y6qIyZkyfDBg0mVTitx2yQ1pLiCyS5NH   \n",
       "10  11          !NEBLqwFx5GaoXHDjYzwJkcrVFU21onRi4DiKn0BX   \n",
       "11  12          !WkC6GbFXThJLcrWtL4nTym2pPe7GElIc6m5h4DfS   \n",
       "12  13  pbkdf2_sha256$390000$nRfpIEjhZ7tsK05eteplLG$19...   \n",
       "13  14          !buFy2iWTplklUduP6A67BxiKJdb6RxBcpxDYSqlV   \n",
       "\n",
       "                   last_login  is_superuser     username first_name last_name  \\\n",
       "0  2023-02-04 14:42:41.527730             1          cwj                        \n",
       "1  2023-02-03 20:43:39.013448             0    awsed2486         나현         이   \n",
       "2  2023-02-04 19:07:29.401230             0       cwjcsk         해피         조   \n",
       "3  2023-01-30 16:53:31.294270             0          이나현                        \n",
       "4  2023-02-02 06:35:30.766830             0     uiuh4569         의준         정   \n",
       "5  2023-02-04 07:16:07.978224             0  jhealee0624         해리         전   \n",
       "6  2023-02-03 12:33:10.144832             0        garam      GARAM       LEE   \n",
       "7  2023-02-04 15:48:58.223036             0       larila     larila       bam   \n",
       "8  2023-02-04 19:54:29.902005             0      nahyun2                        \n",
       "9  2023-02-02 14:37:24.054752             0  juntaegim99         준태         김   \n",
       "10 2023-02-04 06:20:27.931215             0        minsu      Minsu      Chae   \n",
       "11 2023-02-03 01:32:54.528806             0      ryp1662         영표         류   \n",
       "12 2023-02-03 21:06:03.703205             0      nahyun3                        \n",
       "13 2023-02-04 08:59:06.516678             0    djqnqkaos         진아         임   \n",
       "\n",
       "                    email  is_staff  is_active                date_joined  \n",
       "0           cwj@naver.com         1          1 2023-01-29 13:01:28.048388  \n",
       "1     awsed2486@gmail.com         0          1 2023-01-29 18:14:11.020115  \n",
       "2        cwjcsk@gmail.com         0          1 2023-01-30 14:12:47.146695  \n",
       "3         abc@example.com         0          1 2023-01-30 16:53:30.689159  \n",
       "4      uiuh4569@gmail.com         0          1 2023-01-30 17:26:31.180120  \n",
       "5   jhealee0624@gmail.com         0          1 2023-02-01 02:25:04.124092  \n",
       "6    garamlee13@gmail.com         0          1 2023-02-01 03:55:33.083219  \n",
       "7     guswn2521@gmail.com         0          1 2023-02-01 06:09:57.037632  \n",
       "8           asdf@asdf.com         0          1 2023-02-01 20:09:24.296057  \n",
       "9   juntaegim99@gmail.com         0          1 2023-02-02 14:37:23.989346  \n",
       "10   chaemiinsu@gmail.com         0          1 2023-02-02 16:52:45.086265  \n",
       "11      ryp1662@gmail.com         0          1 2023-02-03 01:32:54.470774  \n",
       "12           asd@asdf.com         0          1 2023-02-03 20:43:25.647007  \n",
       "13    djqnqkaos@gmail.com         0          1 2023-02-04 08:59:06.440330  "
      ]
     },
     "execution_count": 164,
     "metadata": {},
     "output_type": "execute_result"
    }
   ],
   "source": [
    "real_user = auth_user[auth_user.id.notna()]\n",
    "real_user"
   ]
  },
  {
   "cell_type": "code",
   "execution_count": 165,
   "id": "2603252c",
   "metadata": {
    "ExecuteTime": {
     "end_time": "2023-02-04T20:14:29.324564Z",
     "start_time": "2023-02-04T20:14:29.299737Z"
    }
   },
   "outputs": [
    {
     "data": {
      "text/html": [
       "<div>\n",
       "<style scoped>\n",
       "    .dataframe tbody tr th:only-of-type {\n",
       "        vertical-align: middle;\n",
       "    }\n",
       "\n",
       "    .dataframe tbody tr th {\n",
       "        vertical-align: top;\n",
       "    }\n",
       "\n",
       "    .dataframe thead th {\n",
       "        text-align: right;\n",
       "    }\n",
       "</style>\n",
       "<table border=\"1\" class=\"dataframe\">\n",
       "  <thead>\n",
       "    <tr style=\"text-align: right;\">\n",
       "      <th></th>\n",
       "      <th>id</th>\n",
       "      <th>username</th>\n",
       "      <th>LoginUser_id</th>\n",
       "      <th>MBTI</th>\n",
       "      <th>ennea_res</th>\n",
       "      <th>prefer_movie_id</th>\n",
       "      <th>create_time</th>\n",
       "    </tr>\n",
       "  </thead>\n",
       "  <tbody>\n",
       "    <tr>\n",
       "      <th>0</th>\n",
       "      <td>1</td>\n",
       "      <td>cwj</td>\n",
       "      <td>1.0</td>\n",
       "      <td>INTJ</td>\n",
       "      <td>1w9</td>\n",
       "      <td>[45672, 68135, 86833, 6957, 56941, 111622, 341...</td>\n",
       "      <td>2023-01-30 17:44:27.678267</td>\n",
       "    </tr>\n",
       "    <tr>\n",
       "      <th>1</th>\n",
       "      <td>1</td>\n",
       "      <td>cwj</td>\n",
       "      <td>1.0</td>\n",
       "      <td>ISFJ</td>\n",
       "      <td>1w2</td>\n",
       "      <td>[7346, 97938, 105197, 3752, 2336]</td>\n",
       "      <td>2023-01-31 03:32:02.853235</td>\n",
       "    </tr>\n",
       "    <tr>\n",
       "      <th>2</th>\n",
       "      <td>1</td>\n",
       "      <td>cwj</td>\n",
       "      <td>1.0</td>\n",
       "      <td>INTJ</td>\n",
       "      <td>7w6</td>\n",
       "      <td>[]</td>\n",
       "      <td>2023-01-31 04:49:27.604951</td>\n",
       "    </tr>\n",
       "    <tr>\n",
       "      <th>3</th>\n",
       "      <td>1</td>\n",
       "      <td>cwj</td>\n",
       "      <td>1.0</td>\n",
       "      <td>INFJ</td>\n",
       "      <td>5w4</td>\n",
       "      <td>[300033, 2587, 166946, 300075, 124476]</td>\n",
       "      <td>2023-02-01 06:24:08.584533</td>\n",
       "    </tr>\n",
       "    <tr>\n",
       "      <th>4</th>\n",
       "      <td>1</td>\n",
       "      <td>cwj</td>\n",
       "      <td>1.0</td>\n",
       "      <td>INTJ</td>\n",
       "      <td>1w9</td>\n",
       "      <td>[117881, 97921, 166534, 73881, 81562, 101112, ...</td>\n",
       "      <td>2023-02-01 12:16:41.525240</td>\n",
       "    </tr>\n",
       "    <tr>\n",
       "      <th>...</th>\n",
       "      <td>...</td>\n",
       "      <td>...</td>\n",
       "      <td>...</td>\n",
       "      <td>...</td>\n",
       "      <td>...</td>\n",
       "      <td>...</td>\n",
       "      <td>...</td>\n",
       "    </tr>\n",
       "    <tr>\n",
       "      <th>85</th>\n",
       "      <td>11</td>\n",
       "      <td>minsu</td>\n",
       "      <td>11.0</td>\n",
       "      <td>ENTP</td>\n",
       "      <td>2w3</td>\n",
       "      <td>[111622, 208939, 164909, 48, 588]</td>\n",
       "      <td>2023-02-04 06:21:13.762982</td>\n",
       "    </tr>\n",
       "    <tr>\n",
       "      <th>86</th>\n",
       "      <td>13</td>\n",
       "      <td>nahyun3</td>\n",
       "      <td>13.0</td>\n",
       "      <td>INTP</td>\n",
       "      <td>1w9</td>\n",
       "      <td>[300033, 81932, 69134, 97304, 182811, 64034, 7...</td>\n",
       "      <td>2023-02-03 20:46:04.098496</td>\n",
       "    </tr>\n",
       "    <tr>\n",
       "      <th>87</th>\n",
       "      <td>13</td>\n",
       "      <td>nahyun3</td>\n",
       "      <td>13.0</td>\n",
       "      <td>INFJ</td>\n",
       "      <td>1w9</td>\n",
       "      <td>[91653, 6662, 74255, 300054, 97304, 541, 1566]</td>\n",
       "      <td>2023-02-03 20:52:50.042156</td>\n",
       "    </tr>\n",
       "    <tr>\n",
       "      <th>88</th>\n",
       "      <td>13</td>\n",
       "      <td>nahyun3</td>\n",
       "      <td>13.0</td>\n",
       "      <td>ENTP</td>\n",
       "      <td>4w3</td>\n",
       "      <td>[157699, 69640, 72720, 72209, 197199, 300116, ...</td>\n",
       "      <td>2023-02-03 21:04:23.108712</td>\n",
       "    </tr>\n",
       "    <tr>\n",
       "      <th>89</th>\n",
       "      <td>13</td>\n",
       "      <td>nahyun3</td>\n",
       "      <td>13.0</td>\n",
       "      <td>INTP</td>\n",
       "      <td>3w4</td>\n",
       "      <td>[176129, 91653, 111622, 122890, 1552, 183837]</td>\n",
       "      <td>2023-02-03 21:06:36.479743</td>\n",
       "    </tr>\n",
       "  </tbody>\n",
       "</table>\n",
       "<p>90 rows × 7 columns</p>\n",
       "</div>"
      ],
      "text/plain": [
       "    id username  LoginUser_id  MBTI ennea_res  \\\n",
       "0    1      cwj           1.0  INTJ       1w9   \n",
       "1    1      cwj           1.0  ISFJ       1w2   \n",
       "2    1      cwj           1.0  INTJ       7w6   \n",
       "3    1      cwj           1.0  INFJ       5w4   \n",
       "4    1      cwj           1.0  INTJ       1w9   \n",
       "..  ..      ...           ...   ...       ...   \n",
       "85  11    minsu          11.0  ENTP       2w3   \n",
       "86  13  nahyun3          13.0  INTP       1w9   \n",
       "87  13  nahyun3          13.0  INFJ       1w9   \n",
       "88  13  nahyun3          13.0  ENTP       4w3   \n",
       "89  13  nahyun3          13.0  INTP       3w4   \n",
       "\n",
       "                                      prefer_movie_id  \\\n",
       "0   [45672, 68135, 86833, 6957, 56941, 111622, 341...   \n",
       "1                   [7346, 97938, 105197, 3752, 2336]   \n",
       "2                                                  []   \n",
       "3              [300033, 2587, 166946, 300075, 124476]   \n",
       "4   [117881, 97921, 166534, 73881, 81562, 101112, ...   \n",
       "..                                                ...   \n",
       "85                  [111622, 208939, 164909, 48, 588]   \n",
       "86  [300033, 81932, 69134, 97304, 182811, 64034, 7...   \n",
       "87     [91653, 6662, 74255, 300054, 97304, 541, 1566]   \n",
       "88  [157699, 69640, 72720, 72209, 197199, 300116, ...   \n",
       "89      [176129, 91653, 111622, 122890, 1552, 183837]   \n",
       "\n",
       "                  create_time  \n",
       "0  2023-01-30 17:44:27.678267  \n",
       "1  2023-01-31 03:32:02.853235  \n",
       "2  2023-01-31 04:49:27.604951  \n",
       "3  2023-02-01 06:24:08.584533  \n",
       "4  2023-02-01 12:16:41.525240  \n",
       "..                        ...  \n",
       "85 2023-02-04 06:21:13.762982  \n",
       "86 2023-02-03 20:46:04.098496  \n",
       "87 2023-02-03 20:52:50.042156  \n",
       "88 2023-02-03 21:04:23.108712  \n",
       "89 2023-02-03 21:06:36.479743  \n",
       "\n",
       "[90 rows x 7 columns]"
      ]
     },
     "execution_count": 165,
     "metadata": {},
     "output_type": "execute_result"
    }
   ],
   "source": [
    "real_user_df = real_user[auth_cols].merge(tmp_user[tmp_cols], left_on='id',right_on='LoginUser_id')\n",
    "real_user_df.prefer_movie_id = real_user_df.prefer_movie_id.map(literal_eval)\n",
    "real_user_df"
   ]
  },
  {
   "cell_type": "markdown",
   "id": "888b07f5",
   "metadata": {},
   "source": [
    "### MBTI, ennea_res가 바뀐 다면 create_time이 가장 마지막인 것을 기준으로 추천하기"
   ]
  },
  {
   "cell_type": "markdown",
   "id": "7e236c9d",
   "metadata": {},
   "source": [
    "## 기존 mdf와 MovieLens로 Interaction 만들기"
   ]
  },
  {
   "cell_type": "code",
   "execution_count": 166,
   "id": "42b94374",
   "metadata": {
    "ExecuteTime": {
     "end_time": "2023-02-04T20:14:39.896508Z",
     "start_time": "2023-02-04T20:14:38.750524Z"
    }
   },
   "outputs": [
    {
     "data": {
      "text/html": [
       "<div>\n",
       "<style scoped>\n",
       "    .dataframe tbody tr th:only-of-type {\n",
       "        vertical-align: middle;\n",
       "    }\n",
       "\n",
       "    .dataframe tbody tr th {\n",
       "        vertical-align: top;\n",
       "    }\n",
       "\n",
       "    .dataframe thead th {\n",
       "        text-align: right;\n",
       "    }\n",
       "</style>\n",
       "<table border=\"1\" class=\"dataframe\">\n",
       "  <thead>\n",
       "    <tr style=\"text-align: right;\">\n",
       "      <th></th>\n",
       "      <th>userId</th>\n",
       "      <th>movieId</th>\n",
       "      <th>rating</th>\n",
       "      <th>timestamp</th>\n",
       "    </tr>\n",
       "  </thead>\n",
       "  <tbody>\n",
       "    <tr>\n",
       "      <th>0</th>\n",
       "      <td>1</td>\n",
       "      <td>296</td>\n",
       "      <td>5.0</td>\n",
       "      <td>1147880044</td>\n",
       "    </tr>\n",
       "    <tr>\n",
       "      <th>9</th>\n",
       "      <td>1</td>\n",
       "      <td>1250</td>\n",
       "      <td>4.0</td>\n",
       "      <td>1147868414</td>\n",
       "    </tr>\n",
       "    <tr>\n",
       "      <th>11</th>\n",
       "      <td>1</td>\n",
       "      <td>1653</td>\n",
       "      <td>4.0</td>\n",
       "      <td>1147868097</td>\n",
       "    </tr>\n",
       "    <tr>\n",
       "      <th>23</th>\n",
       "      <td>1</td>\n",
       "      <td>3949</td>\n",
       "      <td>5.0</td>\n",
       "      <td>1147868678</td>\n",
       "    </tr>\n",
       "    <tr>\n",
       "      <th>25</th>\n",
       "      <td>1</td>\n",
       "      <td>4308</td>\n",
       "      <td>3.0</td>\n",
       "      <td>1147868534</td>\n",
       "    </tr>\n",
       "    <tr>\n",
       "      <th>...</th>\n",
       "      <td>...</td>\n",
       "      <td>...</td>\n",
       "      <td>...</td>\n",
       "      <td>...</td>\n",
       "    </tr>\n",
       "    <tr>\n",
       "      <th>25000081</th>\n",
       "      <td>162541</td>\n",
       "      <td>7361</td>\n",
       "      <td>4.5</td>\n",
       "      <td>1240953484</td>\n",
       "    </tr>\n",
       "    <tr>\n",
       "      <th>25000090</th>\n",
       "      <td>162541</td>\n",
       "      <td>50872</td>\n",
       "      <td>4.5</td>\n",
       "      <td>1240953372</td>\n",
       "    </tr>\n",
       "    <tr>\n",
       "      <th>25000091</th>\n",
       "      <td>162541</td>\n",
       "      <td>55768</td>\n",
       "      <td>2.5</td>\n",
       "      <td>1240951998</td>\n",
       "    </tr>\n",
       "    <tr>\n",
       "      <th>25000092</th>\n",
       "      <td>162541</td>\n",
       "      <td>56176</td>\n",
       "      <td>2.0</td>\n",
       "      <td>1240950697</td>\n",
       "    </tr>\n",
       "    <tr>\n",
       "      <th>25000094</th>\n",
       "      <td>162541</td>\n",
       "      <td>63876</td>\n",
       "      <td>5.0</td>\n",
       "      <td>1240952515</td>\n",
       "    </tr>\n",
       "  </tbody>\n",
       "</table>\n",
       "<p>6348460 rows × 4 columns</p>\n",
       "</div>"
      ],
      "text/plain": [
       "          userId  movieId  rating   timestamp\n",
       "0              1      296     5.0  1147880044\n",
       "9              1     1250     4.0  1147868414\n",
       "11             1     1653     4.0  1147868097\n",
       "23             1     3949     5.0  1147868678\n",
       "25             1     4308     3.0  1147868534\n",
       "...          ...      ...     ...         ...\n",
       "25000081  162541     7361     4.5  1240953484\n",
       "25000090  162541    50872     4.5  1240953372\n",
       "25000091  162541    55768     2.5  1240951998\n",
       "25000092  162541    56176     2.0  1240950697\n",
       "25000094  162541    63876     5.0  1240952515\n",
       "\n",
       "[6348460 rows x 4 columns]"
      ]
     },
     "execution_count": 166,
     "metadata": {},
     "output_type": "execute_result"
    }
   ],
   "source": [
    "mdf_rating = rating[rating.movieId.isin(mdf.movieId)]\n",
    "mdf_rating"
   ]
  },
  {
   "cell_type": "code",
   "execution_count": 167,
   "id": "26172f50",
   "metadata": {
    "ExecuteTime": {
     "end_time": "2023-02-04T20:14:44.367216Z",
     "start_time": "2023-02-04T20:14:44.317456Z"
    }
   },
   "outputs": [
    {
     "data": {
      "text/html": [
       "<div>\n",
       "<style scoped>\n",
       "    .dataframe tbody tr th:only-of-type {\n",
       "        vertical-align: middle;\n",
       "    }\n",
       "\n",
       "    .dataframe tbody tr th {\n",
       "        vertical-align: top;\n",
       "    }\n",
       "\n",
       "    .dataframe thead th {\n",
       "        text-align: right;\n",
       "    }\n",
       "</style>\n",
       "<table border=\"1\" class=\"dataframe\">\n",
       "  <thead>\n",
       "    <tr style=\"text-align: right;\">\n",
       "      <th></th>\n",
       "      <th>userId</th>\n",
       "      <th>movieId</th>\n",
       "      <th>rating</th>\n",
       "      <th>timestamp</th>\n",
       "    </tr>\n",
       "  </thead>\n",
       "  <tbody>\n",
       "    <tr>\n",
       "      <th>0</th>\n",
       "      <td>1</td>\n",
       "      <td>296</td>\n",
       "      <td>1</td>\n",
       "      <td>1147880044</td>\n",
       "    </tr>\n",
       "    <tr>\n",
       "      <th>9</th>\n",
       "      <td>1</td>\n",
       "      <td>1250</td>\n",
       "      <td>1</td>\n",
       "      <td>1147868414</td>\n",
       "    </tr>\n",
       "  </tbody>\n",
       "</table>\n",
       "</div>"
      ],
      "text/plain": [
       "   userId  movieId  rating   timestamp\n",
       "0       1      296       1  1147880044\n",
       "9       1     1250       1  1147868414"
      ]
     },
     "execution_count": 167,
     "metadata": {},
     "output_type": "execute_result"
    }
   ],
   "source": [
    "mdf_rating.rating=1\n",
    "mdf_rating[:2]"
   ]
  },
  {
   "cell_type": "markdown",
   "id": "d1dc8ec0",
   "metadata": {},
   "source": [
    "## Fake User의 Interaction 합치기"
   ]
  },
  {
   "cell_type": "markdown",
   "id": "3036b457",
   "metadata": {},
   "source": [
    "### Fake User의 userID 변환 (Django DB user id: rating에 쓰일 user id)"
   ]
  },
  {
   "cell_type": "code",
   "execution_count": 168,
   "id": "852d3d9a",
   "metadata": {
    "ExecuteTime": {
     "end_time": "2023-02-04T20:14:47.300908Z",
     "start_time": "2023-02-04T20:14:47.288759Z"
    }
   },
   "outputs": [
    {
     "data": {
      "text/plain": [
       "162541"
      ]
     },
     "execution_count": 168,
     "metadata": {},
     "output_type": "execute_result"
    }
   ],
   "source": [
    "mdf_rating.userId.max()"
   ]
  },
  {
   "cell_type": "code",
   "execution_count": 169,
   "id": "a57a7626",
   "metadata": {
    "ExecuteTime": {
     "end_time": "2023-02-04T20:14:52.569869Z",
     "start_time": "2023-02-04T20:14:52.567216Z"
    }
   },
   "outputs": [],
   "source": [
    "common_cols = ['userId','movieId']"
   ]
  },
  {
   "cell_type": "code",
   "execution_count": 202,
   "id": "76280618",
   "metadata": {
    "ExecuteTime": {
     "end_time": "2023-02-04T20:48:47.045844Z",
     "start_time": "2023-02-04T20:48:47.028620Z"
    }
   },
   "outputs": [
    {
     "name": "stdout",
     "output_type": "stream",
     "text": [
      "유저별 중복 영화 제거 전: 543\n",
      "유저별 중복 영화 제거 후: 438\n"
     ]
    },
    {
     "data": {
      "text/html": [
       "<div>\n",
       "<style scoped>\n",
       "    .dataframe tbody tr th:only-of-type {\n",
       "        vertical-align: middle;\n",
       "    }\n",
       "\n",
       "    .dataframe tbody tr th {\n",
       "        vertical-align: top;\n",
       "    }\n",
       "\n",
       "    .dataframe thead th {\n",
       "        text-align: right;\n",
       "    }\n",
       "</style>\n",
       "<table border=\"1\" class=\"dataframe\">\n",
       "  <thead>\n",
       "    <tr style=\"text-align: right;\">\n",
       "      <th></th>\n",
       "      <th>userId</th>\n",
       "      <th>movieId</th>\n",
       "    </tr>\n",
       "  </thead>\n",
       "  <tbody>\n",
       "    <tr>\n",
       "      <th>0</th>\n",
       "      <td>300001</td>\n",
       "      <td>45672</td>\n",
       "    </tr>\n",
       "    <tr>\n",
       "      <th>0</th>\n",
       "      <td>300001</td>\n",
       "      <td>68135</td>\n",
       "    </tr>\n",
       "    <tr>\n",
       "      <th>0</th>\n",
       "      <td>300001</td>\n",
       "      <td>86833</td>\n",
       "    </tr>\n",
       "    <tr>\n",
       "      <th>0</th>\n",
       "      <td>300001</td>\n",
       "      <td>6957</td>\n",
       "    </tr>\n",
       "    <tr>\n",
       "      <th>0</th>\n",
       "      <td>300001</td>\n",
       "      <td>56941</td>\n",
       "    </tr>\n",
       "    <tr>\n",
       "      <th>0</th>\n",
       "      <td>300001</td>\n",
       "      <td>111622</td>\n",
       "    </tr>\n",
       "    <tr>\n",
       "      <th>0</th>\n",
       "      <td>300001</td>\n",
       "      <td>34162</td>\n",
       "    </tr>\n",
       "    <tr>\n",
       "      <th>0</th>\n",
       "      <td>300001</td>\n",
       "      <td>106782</td>\n",
       "    </tr>\n",
       "    <tr>\n",
       "      <th>0</th>\n",
       "      <td>300001</td>\n",
       "      <td>8644</td>\n",
       "    </tr>\n",
       "    <tr>\n",
       "      <th>0</th>\n",
       "      <td>300001</td>\n",
       "      <td>189203</td>\n",
       "    </tr>\n",
       "  </tbody>\n",
       "</table>\n",
       "</div>"
      ],
      "text/plain": [
       "   userId  movieId\n",
       "0  300001    45672\n",
       "0  300001    68135\n",
       "0  300001    86833\n",
       "0  300001     6957\n",
       "0  300001    56941\n",
       "0  300001   111622\n",
       "0  300001    34162\n",
       "0  300001   106782\n",
       "0  300001     8644\n",
       "0  300001   189203"
      ]
     },
     "execution_count": 202,
     "metadata": {},
     "output_type": "execute_result"
    }
   ],
   "source": [
    "real_user_inter = real_user_df[['id','prefer_movie_id']].explode('prefer_movie_id')\n",
    "# real_user_inter['rating']=1\n",
    "real_user_inter.columns=common_cols\n",
    "print(f\"유저별 중복 영화 제거 전: {real_user_inter.shape[0]}\")\n",
    "real_user_inter.dropna(inplace=True)\n",
    "real_user_inter.drop_duplicates(subset=['userId','movieId'], inplace=True)\n",
    "print(f\"유저별 중복 영화 제거 후: {real_user_inter.shape[0]}\")\n",
    "real_user_inter.userId+=300000\n",
    "real_user_inter.movieId = real_user_inter.movieId.astype(int)\n",
    "real_user_inter[:10]"
   ]
  },
  {
   "cell_type": "markdown",
   "id": "3bcc9ee2",
   "metadata": {
    "ExecuteTime": {
     "end_time": "2023-01-31T05:12:55.959617Z",
     "start_time": "2023-01-31T05:12:55.948277Z"
    }
   },
   "source": [
    "### 합치기"
   ]
  },
  {
   "cell_type": "code",
   "execution_count": 203,
   "id": "bbb01c11",
   "metadata": {
    "ExecuteTime": {
     "end_time": "2023-02-04T20:48:49.588211Z",
     "start_time": "2023-02-04T20:48:49.584219Z"
    }
   },
   "outputs": [
    {
     "data": {
      "text/plain": [
       "((6348460, 4), (438, 2))"
      ]
     },
     "execution_count": 203,
     "metadata": {},
     "output_type": "execute_result"
    }
   ],
   "source": [
    "mdf_rating.shape, real_user_inter.shape"
   ]
  },
  {
   "cell_type": "code",
   "execution_count": 204,
   "id": "49fca44f",
   "metadata": {
    "ExecuteTime": {
     "end_time": "2023-02-04T20:48:50.526205Z",
     "start_time": "2023-02-04T20:48:50.306594Z"
    }
   },
   "outputs": [
    {
     "data": {
      "text/plain": [
       "(6348898, 2)"
      ]
     },
     "execution_count": 204,
     "metadata": {},
     "output_type": "execute_result"
    }
   ],
   "source": [
    "merge_rating = pd.concat([mdf_rating[common_cols],real_user_inter])\n",
    "merge_rating.shape"
   ]
  },
  {
   "cell_type": "markdown",
   "id": "4ec2d365",
   "metadata": {},
   "source": [
    "## Recbole input 만들기 (.inter, .data 등)"
   ]
  },
  {
   "cell_type": "code",
   "execution_count": 114,
   "id": "edc0d99d",
   "metadata": {
    "ExecuteTime": {
     "end_time": "2023-01-31T05:24:47.013999Z",
     "start_time": "2023-01-31T05:24:46.638611Z"
    }
   },
   "outputs": [
    {
     "name": "stdout",
     "output_type": "stream",
     "text": [
      "train_data.inter\n",
      "/opt/ml/project2/BaseLine/dataset/train_data\n"
     ]
    }
   ],
   "source": [
    "!ls ../../BaseLine/dataset/train_data/\n",
    "!readlink -ef ../../BaseLine/dataset/train_data/"
   ]
  },
  {
   "cell_type": "code",
   "execution_count": 205,
   "id": "bbe97c0f",
   "metadata": {
    "ExecuteTime": {
     "end_time": "2023-02-04T20:49:11.627307Z",
     "start_time": "2023-02-04T20:49:11.620410Z"
    }
   },
   "outputs": [
    {
     "data": {
      "text/html": [
       "<div>\n",
       "<style scoped>\n",
       "    .dataframe tbody tr th:only-of-type {\n",
       "        vertical-align: middle;\n",
       "    }\n",
       "\n",
       "    .dataframe tbody tr th {\n",
       "        vertical-align: top;\n",
       "    }\n",
       "\n",
       "    .dataframe thead th {\n",
       "        text-align: right;\n",
       "    }\n",
       "</style>\n",
       "<table border=\"1\" class=\"dataframe\">\n",
       "  <thead>\n",
       "    <tr style=\"text-align: right;\">\n",
       "      <th></th>\n",
       "      <th>user_id:token</th>\n",
       "      <th>item_id:token</th>\n",
       "    </tr>\n",
       "  </thead>\n",
       "  <tbody>\n",
       "    <tr>\n",
       "      <th>0</th>\n",
       "      <td>1</td>\n",
       "      <td>296</td>\n",
       "    </tr>\n",
       "    <tr>\n",
       "      <th>9</th>\n",
       "      <td>1</td>\n",
       "      <td>1250</td>\n",
       "    </tr>\n",
       "    <tr>\n",
       "      <th>11</th>\n",
       "      <td>1</td>\n",
       "      <td>1653</td>\n",
       "    </tr>\n",
       "  </tbody>\n",
       "</table>\n",
       "</div>"
      ],
      "text/plain": [
       "    user_id:token  item_id:token\n",
       "0               1            296\n",
       "9               1           1250\n",
       "11              1           1653"
      ]
     },
     "execution_count": 205,
     "metadata": {},
     "output_type": "execute_result"
    }
   ],
   "source": [
    "merge_rating.columns = ['user_id:token', 'item_id:token']\n",
    "merge_rating[:3]"
   ]
  },
  {
   "cell_type": "code",
   "execution_count": 182,
   "id": "988cceaf",
   "metadata": {
    "ExecuteTime": {
     "end_time": "2023-02-04T20:22:37.289998Z",
     "start_time": "2023-02-04T20:22:28.183727Z"
    }
   },
   "outputs": [],
   "source": [
    "merge_rating.to_csv(\"/opt/ml/project2/BaseLine/dataset/train_data/train_data.inter\",sep='\\t',index=False)"
   ]
  },
  {
   "cell_type": "code",
   "execution_count": 188,
   "id": "827ff242",
   "metadata": {
    "ExecuteTime": {
     "end_time": "2023-02-04T20:45:51.573474Z",
     "start_time": "2023-02-04T20:45:50.666741Z"
    }
   },
   "outputs": [],
   "source": [
    "userid2idx = {v:k for k,v in enumerate(sorted(set(merge_rating['user_id:token'])))}"
   ]
  },
  {
   "cell_type": "code",
   "execution_count": 207,
   "id": "6bc77ff1",
   "metadata": {
    "ExecuteTime": {
     "end_time": "2023-02-04T20:49:22.314681Z",
     "start_time": "2023-02-04T20:49:21.449699Z"
    }
   },
   "outputs": [],
   "source": [
    "itemid2idx = {v:k for k,v in enumerate(sorted(set(merge_rating['item_id:token'])))}"
   ]
  },
  {
   "cell_type": "code",
   "execution_count": null,
   "id": "0af0f453",
   "metadata": {},
   "outputs": [],
   "source": []
  },
  {
   "cell_type": "markdown",
   "id": "aa65d2ea",
   "metadata": {},
   "source": [
    "## EASE 학습 및 추천"
   ]
  },
  {
   "cell_type": "code",
   "execution_count": 210,
   "id": "3c65edc3",
   "metadata": {
    "ExecuteTime": {
     "end_time": "2023-02-06T08:33:50.913737Z",
     "start_time": "2023-02-06T08:33:50.862748Z"
    }
   },
   "outputs": [
    {
     "data": {
      "text/html": [
       "<div>\n",
       "<style scoped>\n",
       "    .dataframe tbody tr th:only-of-type {\n",
       "        vertical-align: middle;\n",
       "    }\n",
       "\n",
       "    .dataframe tbody tr th {\n",
       "        vertical-align: top;\n",
       "    }\n",
       "\n",
       "    .dataframe thead th {\n",
       "        text-align: right;\n",
       "    }\n",
       "</style>\n",
       "<table border=\"1\" class=\"dataframe\">\n",
       "  <thead>\n",
       "    <tr style=\"text-align: right;\">\n",
       "      <th></th>\n",
       "      <th>id</th>\n",
       "      <th>LoginUser_id</th>\n",
       "      <th>model_path</th>\n",
       "      <th>recommended_movie_list</th>\n",
       "      <th>create_time</th>\n",
       "    </tr>\n",
       "  </thead>\n",
       "  <tbody>\n",
       "  </tbody>\n",
       "</table>\n",
       "</div>"
      ],
      "text/plain": [
       "Empty DataFrame\n",
       "Columns: [id, LoginUser_id, model_path, recommended_movie_list, create_time]\n",
       "Index: []"
      ]
     },
     "execution_count": 210,
     "metadata": {},
     "output_type": "execute_result"
    }
   ],
   "source": [
    "df = pd.read_sql_query(\"select * from common_batchtrain\", engine)\n",
    "df.head()"
   ]
  },
  {
   "cell_type": "code",
   "execution_count": 154,
   "id": "c30f18ae",
   "metadata": {
    "ExecuteTime": {
     "end_time": "2023-02-04T19:50:33.400117Z",
     "start_time": "2023-02-04T19:50:33.388529Z"
    }
   },
   "outputs": [
    {
     "data": {
      "text/html": [
       "<div>\n",
       "<style scoped>\n",
       "    .dataframe tbody tr th:only-of-type {\n",
       "        vertical-align: middle;\n",
       "    }\n",
       "\n",
       "    .dataframe tbody tr th {\n",
       "        vertical-align: top;\n",
       "    }\n",
       "\n",
       "    .dataframe thead th {\n",
       "        text-align: right;\n",
       "    }\n",
       "</style>\n",
       "<table border=\"1\" class=\"dataframe\">\n",
       "  <thead>\n",
       "    <tr style=\"text-align: right;\">\n",
       "      <th></th>\n",
       "      <th>id</th>\n",
       "      <th>LoginUser_id</th>\n",
       "      <th>model</th>\n",
       "      <th>recommended_movie_list</th>\n",
       "      <th>create_time</th>\n",
       "    </tr>\n",
       "  </thead>\n",
       "  <tbody>\n",
       "    <tr>\n",
       "      <th>0</th>\n",
       "      <td>0</td>\n",
       "      <td>3</td>\n",
       "      <td>EASE2</td>\n",
       "      <td>[1,2,3]</td>\n",
       "      <td>2023-02-05 04:50:33.392360</td>\n",
       "    </tr>\n",
       "  </tbody>\n",
       "</table>\n",
       "</div>"
      ],
      "text/plain": [
       "  id LoginUser_id  model recommended_movie_list                 create_time\n",
       "0  0            3  EASE2                [1,2,3]  2023-02-05 04:50:33.392360"
      ]
     },
     "execution_count": 154,
     "metadata": {},
     "output_type": "execute_result"
    }
   ],
   "source": [
    "cols = ['id','LoginUser_id', 'model', 'recommended_movie_list','create_time']\n",
    "df = pd.DataFrame(columns=cols)\n",
    "df.loc[len(df),:]=[len(df),3,\"EASE2\",\"[1,2,3]\",pd.Timestamp.now()]\n",
    "df"
   ]
  },
  {
   "cell_type": "code",
   "execution_count": 155,
   "id": "bd61bf22",
   "metadata": {
    "ExecuteTime": {
     "end_time": "2023-02-04T19:50:34.692149Z",
     "start_time": "2023-02-04T19:50:34.666806Z"
    }
   },
   "outputs": [
    {
     "data": {
      "text/plain": [
       "1"
      ]
     },
     "execution_count": 155,
     "metadata": {},
     "output_type": "execute_result"
    }
   ],
   "source": [
    "df.to_sql(name='common_batchtrain', con=engine, index=False, if_exists='append')"
   ]
  },
  {
   "cell_type": "code",
   "execution_count": null,
   "id": "0c6a2b55",
   "metadata": {},
   "outputs": [],
   "source": [
    "LoginUser_id=3\n",
    "model=\"EASE\"\n",
    "recommended_movie_list=[1,2,3]"
   ]
  },
  {
   "cell_type": "code",
   "execution_count": null,
   "id": "f004a87e",
   "metadata": {},
   "outputs": [],
   "source": [
    "## 추천 movieids 추출"
   ]
  },
  {
   "cell_type": "code",
   "execution_count": null,
   "id": "f61284f5",
   "metadata": {},
   "outputs": [],
   "source": []
  },
  {
   "cell_type": "code",
   "execution_count": null,
   "id": "423239a6",
   "metadata": {},
   "outputs": [],
   "source": [
    "## DB에 저장"
   ]
  },
  {
   "cell_type": "code",
   "execution_count": 117,
   "id": "6338ed8f",
   "metadata": {
    "ExecuteTime": {
     "end_time": "2023-01-31T09:12:54.126126Z",
     "start_time": "2023-01-31T09:12:53.986576Z"
    }
   },
   "outputs": [
    {
     "data": {
      "text/plain": [
       "41"
      ]
     },
     "execution_count": 117,
     "metadata": {},
     "output_type": "execute_result"
    }
   ],
   "source": [
    "fake_user_inter.to_sql('table_name',engine)"
   ]
  },
  {
   "cell_type": "code",
   "execution_count": null,
   "id": "d40341b8",
   "metadata": {},
   "outputs": [],
   "source": [
    "## TmpUser와 User의 관계가 어떻게 되는지, 어떻게 추천을 해줄 수 있는지 내일 나현님께 여쭤보기\n",
    "# -> 답변완료"
   ]
  }
 ],
 "metadata": {
  "kernelspec": {
   "display_name": "Python 3 (ipykernel)",
   "language": "python",
   "name": "python3"
  },
  "language_info": {
   "codemirror_mode": {
    "name": "ipython",
    "version": 3
   },
   "file_extension": ".py",
   "mimetype": "text/x-python",
   "name": "python",
   "nbconvert_exporter": "python",
   "pygments_lexer": "ipython3",
   "version": "3.8.5"
  },
  "toc": {
   "base_numbering": 1,
   "nav_menu": {},
   "number_sections": true,
   "sideBar": true,
   "skip_h1_title": false,
   "title_cell": "Table of Contents",
   "title_sidebar": "Contents",
   "toc_cell": false,
   "toc_position": {
    "height": "calc(100% - 180px)",
    "left": "10px",
    "top": "150px",
    "width": "426.667px"
   },
   "toc_section_display": true,
   "toc_window_display": false
  }
 },
 "nbformat": 4,
 "nbformat_minor": 5
}
