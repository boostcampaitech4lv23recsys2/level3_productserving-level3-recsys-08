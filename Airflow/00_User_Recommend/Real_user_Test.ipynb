{
 "cells": [
  {
   "cell_type": "code",
   "execution_count": 4,
   "id": "991955a3",
   "metadata": {
    "ExecuteTime": {
     "end_time": "2023-02-07T19:58:46.650219Z",
     "start_time": "2023-02-07T19:58:46.194665Z"
    }
   },
   "outputs": [
    {
     "name": "stdout",
     "output_type": "stream",
     "text": [
      "MovieLens Interaction: 6348460\n",
      "유저별 중복 영화 제거 전 Interaction: 455\n",
      "유저별 중복 영화 제거 후 Interaction: 413\n",
      "총 Interation: 6348873\n",
      "train.inter의 shape:(6348873, 2)\n"
     ]
    }
   ],
   "source": [
    "import os\n",
    "from ast import literal_eval\n",
    "import pandas as pd\n",
    "from pathlib import Path\n",
    "from environ import Env\n",
    "import pickle\n",
    "import warnings\n",
    "warnings.filterwarnings('ignore')\n",
    "\n",
    "# Build paths inside the project like this: BASE_DIR / 'subdir'.\n",
    "BASE_DIR = Path(os.curdir).resolve().parent.parent\n",
    "env = Env()\n",
    "env_path = BASE_DIR / \"django/.env\"\n",
    "if env_path.exists():\n",
    "    with env_path.open(\"rt\", encoding=\"utf8\") as f:\n",
    "        env.read_env(f, overwrite=True)\n",
    "\n",
    "dbname = env.get_value('GCPDB_NAME')\n",
    "user = env.get_value('GCPDB_USER')\n",
    "pw = env.get_value('GCPDB_PASSWORD')\n",
    "host = env.get_value('GCPDB_HOST')\n",
    "\n",
    "from sqlalchemy import create_engine\n",
    "# echo를 true로 설정하면 command창에 실행된 sql문이 뜨게 됨\n",
    "engine = create_engine(f'mysql+mysqldb://{user}:{pw}@{host}:3306/{dbname}?charset=utf8')\n",
    "\n",
    "# Pickle 베이스 경로\n",
    "PKL_DIR = Path(os.curdir).resolve().parent.parent\n",
    "PKL_DIR = PKL_DIR / \"Utils/Pickle\"\n",
    "\n",
    "mdf_rating = pd.read_pickle('~/movieLens_1192_movie.pkl')\n",
    "print(f\"MovieLens Interaction: {mdf_rating.shape[0]}\")\n",
    "cdf = pd.read_pickle(PKL_DIR / '230130_Popular_movie_character_2867_cwj.pickle')\n",
    "mdf = pd.read_pickle(PKL_DIR / '230130_Popular_movie_1192_cwj.pickle')\n",
    "\n",
    "## Fake User DB에서 불러오기\n",
    "tmp_user = pd.read_sql_query(\"select * from test_rec_tmpuser\", engine)\n",
    "auth_user = pd.read_sql_query(\"select * from auth_user\", engine)\n",
    "\n",
    "auth_cols=['id','username']\n",
    "tmp_cols = ['LoginUser_id','MBTI','ennea_res','prefer_movie_id','create_time']\n",
    "\n",
    "# auth user에서 실제 사용자 불러오기\n",
    "real_user = auth_user[auth_user.id.notna()]\n",
    "\n",
    "# tmp_user에서 테스트 결과 가져오기\n",
    "real_user_df = real_user[auth_cols].merge(tmp_user[tmp_cols], left_on='id',right_on='LoginUser_id')\n",
    "real_user_df.prefer_movie_id = real_user_df.prefer_movie_id.map(literal_eval)\n",
    "\n",
    "\n",
    "### MBTI, ennea_res가 바뀐 다면 create_time이 가장 마지막인 것을 기준으로 추천하기\n",
    "\n",
    "## Fake User의 Interaction 합치기\n",
    "### Fake User의 userID 변환 (Django DB user id: rating에 쓰일 user id)\n",
    "common_cols = ['userId','movieId']\n",
    "real_user_inter = real_user_df[['id','prefer_movie_id']].explode('prefer_movie_id')\n",
    "# real_user_inter['rating']=1\n",
    "real_user_inter.columns=common_cols\n",
    "print(f\"유저별 중복 영화 제거 전 Interaction: {real_user_inter.shape[0]}\")\n",
    "real_user_inter.dropna(inplace=True)\n",
    "real_user_inter.drop_duplicates(subset=['userId','movieId'], inplace=True)\n",
    "print(f\"유저별 중복 영화 제거 후 Interaction: {real_user_inter.shape[0]}\")\n",
    "real_user_inter.userId+=300000\n",
    "real_user_inter.movieId = real_user_inter.movieId.astype(int)\n",
    "real_user_inter[:10]\n",
    "\n",
    "### 합치기\n",
    "merge_rating = pd.concat([mdf_rating[common_cols],real_user_inter])\n",
    "## Recbole input 만들기 (.inter, .data 등)\n",
    "merge_rating.columns = ['user_id:token', 'item_id:token']\n",
    "print(f\"총 Interation: {merge_rating.shape[0]}\\ntrain.inter의 shape:{merge_rating.shape}\")\n",
    "print(f\"write path: {export_path}\")\n",
    "export_path = BASE_DIR / \"BaseLine/dataset/train_data/train_data2.inter\"\n",
    "merge_rating.to_csv(export_path,sep='\\t',index=False)\n",
    "# merge_rating.to_csv(\"/opt/ml/project2/BaseLine/dataset/train_data/train_data.inter\",sep='\\t',index=False)"
   ]
  },
  {
   "cell_type": "code",
   "execution_count": 14,
   "id": "4b277e93",
   "metadata": {
    "ExecuteTime": {
     "end_time": "2023-02-08T05:32:50.550745Z",
     "start_time": "2023-02-08T05:32:50.547212Z"
    }
   },
   "outputs": [
    {
     "name": "stdout",
     "output_type": "stream",
     "text": [
      "/opt/ml/project2/BaseLine/dataset/train_data/train_data2.inter\n"
     ]
    }
   ],
   "source": []
  },
  {
   "cell_type": "code",
   "execution_count": 10,
   "id": "85918ecc",
   "metadata": {
    "ExecuteTime": {
     "end_time": "2023-02-08T05:32:12.834893Z",
     "start_time": "2023-02-08T05:32:04.402551Z"
    }
   },
   "outputs": [],
   "source": []
  },
  {
   "cell_type": "code",
   "execution_count": 13,
   "id": "5dfc866d",
   "metadata": {
    "ExecuteTime": {
     "end_time": "2023-02-08T05:32:40.171264Z",
     "start_time": "2023-02-08T05:32:40.026317Z"
    }
   },
   "outputs": [],
   "source": [
    "!rm ../../BaseLine/dataset/train_data/train_data2.inter"
   ]
  },
  {
   "cell_type": "code",
   "execution_count": 6,
   "id": "87429e71",
   "metadata": {
    "ExecuteTime": {
     "end_time": "2023-02-08T05:29:56.640240Z",
     "start_time": "2023-02-08T05:29:56.636067Z"
    }
   },
   "outputs": [
    {
     "data": {
      "text/plain": [
       "PosixPath('/opt/ml/project2')"
      ]
     },
     "execution_count": 6,
     "metadata": {},
     "output_type": "execute_result"
    }
   ],
   "source": [
    "Path(os.curdir).resolve().parent.parent + "
   ]
  }
 ],
 "metadata": {
  "kernelspec": {
   "display_name": "Python 3 (ipykernel)",
   "language": "python",
   "name": "python3"
  },
  "language_info": {
   "codemirror_mode": {
    "name": "ipython",
    "version": 3
   },
   "file_extension": ".py",
   "mimetype": "text/x-python",
   "name": "python",
   "nbconvert_exporter": "python",
   "pygments_lexer": "ipython3",
   "version": "3.8.5"
  },
  "toc": {
   "base_numbering": 1,
   "nav_menu": {},
   "number_sections": true,
   "sideBar": true,
   "skip_h1_title": false,
   "title_cell": "Table of Contents",
   "title_sidebar": "Contents",
   "toc_cell": false,
   "toc_position": {},
   "toc_section_display": true,
   "toc_window_display": false
  }
 },
 "nbformat": 4,
 "nbformat_minor": 5
}
