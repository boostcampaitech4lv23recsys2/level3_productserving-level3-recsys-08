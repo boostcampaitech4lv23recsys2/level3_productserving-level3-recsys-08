{
 "cells": [
  {
   "cell_type": "code",
   "execution_count": 25,
   "id": "c612610c",
   "metadata": {
    "ExecuteTime": {
     "end_time": "2023-01-29T16:37:43.354244Z",
     "start_time": "2023-01-29T16:37:43.349735Z"
    }
   },
   "outputs": [],
   "source": [
    "import os\n",
    "import pandas as pd\n",
    "from pathlib import Path\n",
    "from environ import Env\n",
    "\n",
    "# Build paths inside the project like this: BASE_DIR / 'subdir'.\n",
    "BASE_DIR = Path(os.curdir).resolve().parent.parent\n",
    "env = Env()\n",
    "env_path = BASE_DIR / \"django/.env\"\n",
    "if env_path.exists():\n",
    "    with env_path.open(\"rt\", encoding=\"utf8\") as f:\n",
    "        env.read_env(f, overwrite=True)"
   ]
  },
  {
   "cell_type": "code",
   "execution_count": 33,
   "id": "b92ad845",
   "metadata": {
    "ExecuteTime": {
     "end_time": "2023-01-29T16:45:51.486094Z",
     "start_time": "2023-01-29T16:45:51.481683Z"
    }
   },
   "outputs": [],
   "source": [
    "dbname = env.get_value('GCPDB_NAME')\n",
    "user = env.get_value('GCPDB_USER')\n",
    "pw = env.get_value('GCPDB_PASSWORD')\n",
    "host = env.get_value('GCPDB_HOST')\n",
    "\n",
    "from sqlalchemy import create_engine\n",
    "# echo를 true로 설정하면 command창에 실행된 sql문이 뜨게 됨\n",
    "engine = create_engine(f'mysql+mysqldb://{user}:{pw}@{host}:3306/{dbname}')"
   ]
  },
  {
   "cell_type": "code",
   "execution_count": 34,
   "id": "3f304127",
   "metadata": {
    "ExecuteTime": {
     "end_time": "2023-01-29T16:45:54.278305Z",
     "start_time": "2023-01-29T16:45:54.231488Z"
    }
   },
   "outputs": [
    {
     "data": {
      "text/html": [
       "<div>\n",
       "<style scoped>\n",
       "    .dataframe tbody tr th:only-of-type {\n",
       "        vertical-align: middle;\n",
       "    }\n",
       "\n",
       "    .dataframe tbody tr th {\n",
       "        vertical-align: top;\n",
       "    }\n",
       "\n",
       "    .dataframe thead th {\n",
       "        text-align: right;\n",
       "    }\n",
       "</style>\n",
       "<table border=\"1\" class=\"dataframe\">\n",
       "  <thead>\n",
       "    <tr style=\"text-align: right;\">\n",
       "      <th></th>\n",
       "      <th>id</th>\n",
       "      <th>MBTI</th>\n",
       "      <th>ennea_ans1</th>\n",
       "      <th>prefer_movie_id</th>\n",
       "      <th>recommended_character_id</th>\n",
       "      <th>create_time</th>\n",
       "      <th>LoginUser_id</th>\n",
       "      <th>ennea_res</th>\n",
       "      <th>ennea_ans2</th>\n",
       "    </tr>\n",
       "  </thead>\n",
       "  <tbody>\n",
       "    <tr>\n",
       "      <th>0</th>\n",
       "      <td>1</td>\n",
       "      <td>ESFJ</td>\n",
       "      <td>[\"2\", \"B\"]</td>\n",
       "      <td>[]</td>\n",
       "      <td>[]</td>\n",
       "      <td>2023-01-29 12:42:58.077942</td>\n",
       "      <td>NaN</td>\n",
       "      <td>1w2</td>\n",
       "      <td>None</td>\n",
       "    </tr>\n",
       "    <tr>\n",
       "      <th>1</th>\n",
       "      <td>2</td>\n",
       "      <td>ISTJ</td>\n",
       "      <td>[\"1\", \"A\"]</td>\n",
       "      <td>None</td>\n",
       "      <td>None</td>\n",
       "      <td>2023-01-29 12:47:34.050846</td>\n",
       "      <td>NaN</td>\n",
       "      <td>7w6</td>\n",
       "      <td>None</td>\n",
       "    </tr>\n",
       "    <tr>\n",
       "      <th>2</th>\n",
       "      <td>3</td>\n",
       "      <td>ESTP</td>\n",
       "      <td>2</td>\n",
       "      <td>[]</td>\n",
       "      <td>[]</td>\n",
       "      <td>2023-01-29 12:57:16.997269</td>\n",
       "      <td>NaN</td>\n",
       "      <td>1w2</td>\n",
       "      <td>B</td>\n",
       "    </tr>\n",
       "    <tr>\n",
       "      <th>3</th>\n",
       "      <td>4</td>\n",
       "      <td>ENTP</td>\n",
       "      <td>2</td>\n",
       "      <td>[]</td>\n",
       "      <td>[]</td>\n",
       "      <td>2023-01-29 12:59:19.531005</td>\n",
       "      <td>NaN</td>\n",
       "      <td>1w2</td>\n",
       "      <td>B</td>\n",
       "    </tr>\n",
       "    <tr>\n",
       "      <th>4</th>\n",
       "      <td>5</td>\n",
       "      <td>ESTP</td>\n",
       "      <td>2</td>\n",
       "      <td>[\"98961\", \"34323\", \"88163\"]</td>\n",
       "      <td>[\"10532\", \"11079\", \"10434\", \"4529\", \"10630\", \"...</td>\n",
       "      <td>2023-01-29 13:00:29.721147</td>\n",
       "      <td>NaN</td>\n",
       "      <td>1w2</td>\n",
       "      <td>B</td>\n",
       "    </tr>\n",
       "  </tbody>\n",
       "</table>\n",
       "</div>"
      ],
      "text/plain": [
       "   id  MBTI  ennea_ans1              prefer_movie_id  \\\n",
       "0   1  ESFJ  [\"2\", \"B\"]                           []   \n",
       "1   2  ISTJ  [\"1\", \"A\"]                         None   \n",
       "2   3  ESTP           2                           []   \n",
       "3   4  ENTP           2                           []   \n",
       "4   5  ESTP           2  [\"98961\", \"34323\", \"88163\"]   \n",
       "\n",
       "                            recommended_character_id  \\\n",
       "0                                                 []   \n",
       "1                                               None   \n",
       "2                                                 []   \n",
       "3                                                 []   \n",
       "4  [\"10532\", \"11079\", \"10434\", \"4529\", \"10630\", \"...   \n",
       "\n",
       "                 create_time  LoginUser_id ennea_res ennea_ans2  \n",
       "0 2023-01-29 12:42:58.077942           NaN       1w2       None  \n",
       "1 2023-01-29 12:47:34.050846           NaN       7w6       None  \n",
       "2 2023-01-29 12:57:16.997269           NaN       1w2          B  \n",
       "3 2023-01-29 12:59:19.531005           NaN       1w2          B  \n",
       "4 2023-01-29 13:00:29.721147           NaN       1w2          B  "
      ]
     },
     "execution_count": 34,
     "metadata": {},
     "output_type": "execute_result"
    }
   ],
   "source": [
    "df = pd.read_sql_query(\"select * from test_rec_tmpuser\", engine)\n",
    "df.head()"
   ]
  },
  {
   "cell_type": "markdown",
   "id": "9868fd75",
   "metadata": {},
   "source": [
    "- session 만들기\n",
    "\n",
    "https://otrodevym.tistory.com/entry/Python-SQLAlchemy-ORMMySql-%EC%82%AC%EC%9A%A9%ED%95%98%EB%8A%94-%EB%B0%A9%EB%B2%95\n",
    "\n",
    "- session을 통한 CRUD\n",
    "\n",
    "https://velog.io/@___pepper/Fast-api-SqlAlchemy%EB%A5%BC-%EC%9D%B4%EC%9A%A9%ED%95%9C-DB-%EC%97%B0%EA%B2%B0"
   ]
  }
 ],
 "metadata": {
  "kernelspec": {
   "display_name": "Python 3 (ipykernel)",
   "language": "python",
   "name": "python3"
  },
  "language_info": {
   "codemirror_mode": {
    "name": "ipython",
    "version": 3
   },
   "file_extension": ".py",
   "mimetype": "text/x-python",
   "name": "python",
   "nbconvert_exporter": "python",
   "pygments_lexer": "ipython3",
   "version": "3.8.5"
  },
  "toc": {
   "base_numbering": 1,
   "nav_menu": {},
   "number_sections": true,
   "sideBar": true,
   "skip_h1_title": false,
   "title_cell": "Table of Contents",
   "title_sidebar": "Contents",
   "toc_cell": false,
   "toc_position": {},
   "toc_section_display": true,
   "toc_window_display": false
  }
 },
 "nbformat": 4,
 "nbformat_minor": 5
}
