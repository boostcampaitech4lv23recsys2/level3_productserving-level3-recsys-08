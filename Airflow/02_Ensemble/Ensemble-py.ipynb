{
 "cells": [
  {
   "cell_type": "code",
   "execution_count": 2,
   "id": "d5233b5d",
   "metadata": {
    "ExecuteTime": {
     "end_time": "2023-02-11T21:13:19.491348Z",
     "start_time": "2023-02-11T21:13:19.319802Z"
    }
   },
   "outputs": [
    {
     "name": "stdout",
     "output_type": "stream",
     "text": [
      "순위별 가중치값 입력(ex: 1 0.9 0.8 ...)\n",
      "앙상블 모델 개수: 3\n",
      "ADMMSLIM 모델이 추천한 마지막 시간은 2023년 02월 12일 02시 39분\n",
      "그 때 추천한 유저는 11명\n",
      "EASE 모델이 추천한 마지막 시간은 2023년 02월 09일 01시 25분\n",
      "그 때 추천한 유저는 11명\n",
      "RecVAE 모델이 추천한 마지막 시간은 2023년 02월 08일 19시 59분\n",
      "그 때 추천한 유저는 11명\n",
      "가중치 {'ADMMSLIM': 0.7, 'EASE': 1, 'RecVAE': 0.5}\n"
     ]
    },
    {
     "name": "stderr",
     "output_type": "stream",
     "text": [
      "Ensemble: 100%|█████████████████████████████████████████████████████████████████████████████████████████████████| 11/11 [00:00<00:00, 381.70it/s]\n"
     ]
    },
    {
     "data": {
      "text/plain": [
       "11"
      ]
     },
     "execution_count": 2,
     "metadata": {},
     "output_type": "execute_result"
    }
   ],
   "source": [
    "import os\n",
    "import numpy as np\n",
    "import pandas as pd\n",
    "from pathlib import Path\n",
    "from environ import Env\n",
    "from ast import literal_eval\n",
    "from tqdm import tqdm\n",
    "from collections import defaultdict\n",
    "from sqlalchemy import create_engine\n",
    "\n",
    "# Build paths inside the project like this: BASE_DIR / 'subdir'.\n",
    "BASE_DIR = Path(os.curdir).resolve().parent.parent\n",
    "env = Env()\n",
    "env_path = BASE_DIR / \"django/.env\"\n",
    "if env_path.exists():\n",
    "    with env_path.open(\"rt\", encoding=\"utf8\") as f:\n",
    "        env.read_env(f, overwrite=True)\n",
    "\n",
    "dbname = env.get_value('GCPDB_NAME')\n",
    "user = env.get_value('GCPDB_USER')\n",
    "pw = env.get_value('GCPDB_PASSWORD')\n",
    "host = env.get_value('GCPDB_HOST')\n",
    "\n",
    "# echo를 true로 설정하면 command창에 실행된 sql문이 뜨게 됨\n",
    "engine = create_engine(f'mysql+mysqldb://{user}:{pw}@{host}:3306/{dbname}?charset=utf8')\n",
    "\n",
    "df = pd.read_sql_query(\"select * from common_batchtrain\", engine)\n",
    "weight_dict={\"ADMMSLIM\":0.7, \"EASE\":1, \"RecVAE\":0.5}\n",
    "\n",
    "\n",
    "print('순위별 가중치값 입력(ex: 1 0.9 0.8 ...)')\n",
    "rank_ratio = np.linspace(1,0,501)[:500].tolist() # 추천 500개\n",
    "rank_len = len(rank_ratio)\n",
    "print(f\"앙상블 모델 개수: {len(weight_dict)}\")\n",
    "\n",
    "## 앙상블할 추천 결과 df 리스트\n",
    "dataframe_list = []\n",
    "## 모델 가중치\n",
    "ratios = []\n",
    "for model_name in weight_dict:\n",
    "    ratios.append(weight_dict[model_name])\n",
    "    df_model = df[df.model_name==model_name].copy()\n",
    "    last_date = df_model.create_time.max()\n",
    "    print(f\"{model_name} 모델이 추천한 마지막 시간은 {last_date.strftime('%Y년 %m월 %d일 %H시 %M분')}\")\n",
    "\n",
    "    df_model_last = df_model[df_model.create_time==last_date].copy()\n",
    "    print(f\"그 때 추천한 유저는 {df_model_last.shape[0]}명\")\n",
    "    df_model_last.loc[:,'recommended_movie_list'] = df_model_last.recommended_movie_list.map(literal_eval)\n",
    "    df_model_last = df_model_last[['LoginUser_id','recommended_movie_list']].explode('recommended_movie_list').copy()\n",
    "    dataframe_list.append(df_model_last)\n",
    "print(f\"가중치 {weight_dict}\")\n",
    "\n",
    "dataframe_len = len(dataframe_list)\n",
    "user_list = dataframe_list[0]['LoginUser_id'].unique()\n",
    "\n",
    "K=500 # 추천 500개\n",
    "result = []\n",
    "tbar = tqdm(user_list, desc='Ensemble')\n",
    "for user in tbar:\n",
    "    temp = defaultdict(float)\n",
    "    for df_idx in range(dataframe_len):\n",
    "        items = dataframe_list[df_idx][dataframe_list[df_idx]['LoginUser_id'] == user]['recommended_movie_list'].values\n",
    "        max_rank = min(len(items), rank_len)\n",
    "        for rank_idx in range(max_rank):\n",
    "            temp[items[rank_idx]] += rank_ratio[rank_idx] * ratios[df_idx]\n",
    "\n",
    "    for key, _ in sorted(temp.items(), key=lambda x: x[1], reverse=True)[:K]:\n",
    "        result.append((user, key))\n",
    "# sub 생성\n",
    "sub = pd.DataFrame(result, columns=['LoginUser_id', 'recommended_movie_list'])\n",
    "\n",
    "# DB에 쓸 결과 파일 생성\n",
    "result = sub.groupby('LoginUser_id').recommended_movie_list.apply(list).reset_index()\n",
    "\n",
    "# 결과 파일 정제\n",
    "result['model_name'] = \"ADER\"\n",
    "result['model_path'] = \"No Path\"\n",
    "result['create_time'] = str(pd.Timestamp.now())\n",
    "result['id'] = 0\n",
    "\n",
    "cols = ['id','LoginUser_id', 'model_name','model_path', 'recommended_movie_list', 'create_time']\n",
    "result = result[cols]\n",
    "\n",
    "# DB에 쓰기\n",
    "result.astype(str).to_sql(name='common_batchtrain', con=engine, index=False, if_exists='append')"
   ]
  }
 ],
 "metadata": {
  "kernelspec": {
   "display_name": "Python 3 (ipykernel)",
   "language": "python",
   "name": "python3"
  },
  "language_info": {
   "codemirror_mode": {
    "name": "ipython",
    "version": 3
   },
   "file_extension": ".py",
   "mimetype": "text/x-python",
   "name": "python",
   "nbconvert_exporter": "python",
   "pygments_lexer": "ipython3",
   "version": "3.8.5"
  },
  "toc": {
   "base_numbering": 1,
   "nav_menu": {},
   "number_sections": true,
   "sideBar": true,
   "skip_h1_title": false,
   "title_cell": "Table of Contents",
   "title_sidebar": "Contents",
   "toc_cell": false,
   "toc_position": {},
   "toc_section_display": true,
   "toc_window_display": false
  }
 },
 "nbformat": 4,
 "nbformat_minor": 5
}
