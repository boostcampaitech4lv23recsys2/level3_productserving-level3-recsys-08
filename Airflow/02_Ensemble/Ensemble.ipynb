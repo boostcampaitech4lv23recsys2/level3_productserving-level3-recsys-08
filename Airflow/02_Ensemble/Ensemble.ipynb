{
 "cells": [
  {
   "cell_type": "code",
   "execution_count": 76,
   "id": "f749f807",
   "metadata": {
    "ExecuteTime": {
     "end_time": "2023-02-11T21:02:16.702884Z",
     "start_time": "2023-02-11T21:02:16.695705Z"
    }
   },
   "outputs": [],
   "source": [
    "import os\n",
    "import numpy as np\n",
    "import pandas as pd\n",
    "from pathlib import Path\n",
    "from environ import Env\n",
    "from ast import literal_eval\n",
    "from tqdm import tqdm\n",
    "from collections import defaultdict\n",
    "# Build paths inside the project like this: BASE_DIR / 'subdir'.\n",
    "BASE_DIR = Path(os.curdir).resolve().parent.parent\n",
    "env = Env()\n",
    "env_path = BASE_DIR / \"django/.env\"\n",
    "if env_path.exists():\n",
    "    with env_path.open(\"rt\", encoding=\"utf8\") as f:\n",
    "        env.read_env(f, overwrite=True)\n",
    "\n",
    "dbname = env.get_value('GCPDB_NAME')\n",
    "user = env.get_value('GCPDB_USER')\n",
    "pw = env.get_value('GCPDB_PASSWORD')\n",
    "host = env.get_value('GCPDB_HOST')\n",
    "\n",
    "from sqlalchemy import create_engine\n",
    "# echo를 true로 설정하면 command창에 실행된 sql문이 뜨게 됨\n",
    "engine = create_engine(f'mysql+mysqldb://{user}:{pw}@{host}:3306/{dbname}?charset=utf8')"
   ]
  },
  {
   "cell_type": "code",
   "execution_count": 25,
   "id": "5d3a00ca",
   "metadata": {
    "ExecuteTime": {
     "end_time": "2023-02-11T20:49:06.693774Z",
     "start_time": "2023-02-11T20:49:06.636888Z"
    }
   },
   "outputs": [
    {
     "data": {
      "text/html": [
       "<div>\n",
       "<style scoped>\n",
       "    .dataframe tbody tr th:only-of-type {\n",
       "        vertical-align: middle;\n",
       "    }\n",
       "\n",
       "    .dataframe tbody tr th {\n",
       "        vertical-align: top;\n",
       "    }\n",
       "\n",
       "    .dataframe thead th {\n",
       "        text-align: right;\n",
       "    }\n",
       "</style>\n",
       "<table border=\"1\" class=\"dataframe\">\n",
       "  <thead>\n",
       "    <tr style=\"text-align: right;\">\n",
       "      <th></th>\n",
       "      <th>id</th>\n",
       "      <th>LoginUser_id</th>\n",
       "      <th>model_name</th>\n",
       "      <th>model_path</th>\n",
       "      <th>recommended_movie_list</th>\n",
       "      <th>create_time</th>\n",
       "    </tr>\n",
       "  </thead>\n",
       "  <tbody>\n",
       "    <tr>\n",
       "      <th>0</th>\n",
       "      <td>26</td>\n",
       "      <td>1</td>\n",
       "      <td>CDAE</td>\n",
       "      <td>/opt/ml/project2/BaseLine/saved/CDAE-Feb-08-20...</td>\n",
       "      <td>[1682, 63082, 72998, 356, 318, 2324, 79132, 48...</td>\n",
       "      <td>2023-02-08 15:39:57.337129</td>\n",
       "    </tr>\n",
       "    <tr>\n",
       "      <th>1</th>\n",
       "      <td>27</td>\n",
       "      <td>2</td>\n",
       "      <td>CDAE</td>\n",
       "      <td>/opt/ml/project2/BaseLine/saved/CDAE-Feb-08-20...</td>\n",
       "      <td>[63082, 4226, 2959, 79132, 293, 6377, 99114, 3...</td>\n",
       "      <td>2023-02-08 15:39:57.337129</td>\n",
       "    </tr>\n",
       "    <tr>\n",
       "      <th>2</th>\n",
       "      <td>28</td>\n",
       "      <td>3</td>\n",
       "      <td>CDAE</td>\n",
       "      <td>/opt/ml/project2/BaseLine/saved/CDAE-Feb-08-20...</td>\n",
       "      <td>[4226, 68237, 99114, 4886, 63082, 48780, 4979,...</td>\n",
       "      <td>2023-02-08 15:39:57.337129</td>\n",
       "    </tr>\n",
       "    <tr>\n",
       "      <th>3</th>\n",
       "      <td>29</td>\n",
       "      <td>4</td>\n",
       "      <td>CDAE</td>\n",
       "      <td>/opt/ml/project2/BaseLine/saved/CDAE-Feb-08-20...</td>\n",
       "      <td>[2997, 2959, 5445, 3535, 4995, 4878, 4571, 598...</td>\n",
       "      <td>2023-02-08 15:39:57.337129</td>\n",
       "    </tr>\n",
       "    <tr>\n",
       "      <th>4</th>\n",
       "      <td>30</td>\n",
       "      <td>5</td>\n",
       "      <td>CDAE</td>\n",
       "      <td>/opt/ml/project2/BaseLine/saved/CDAE-Feb-08-20...</td>\n",
       "      <td>[2959, 48780, 318, 56367, 4886, 4226, 72998, 4...</td>\n",
       "      <td>2023-02-08 15:39:57.337129</td>\n",
       "    </tr>\n",
       "  </tbody>\n",
       "</table>\n",
       "</div>"
      ],
      "text/plain": [
       "   id  LoginUser_id model_name  \\\n",
       "0  26             1       CDAE   \n",
       "1  27             2       CDAE   \n",
       "2  28             3       CDAE   \n",
       "3  29             4       CDAE   \n",
       "4  30             5       CDAE   \n",
       "\n",
       "                                          model_path  \\\n",
       "0  /opt/ml/project2/BaseLine/saved/CDAE-Feb-08-20...   \n",
       "1  /opt/ml/project2/BaseLine/saved/CDAE-Feb-08-20...   \n",
       "2  /opt/ml/project2/BaseLine/saved/CDAE-Feb-08-20...   \n",
       "3  /opt/ml/project2/BaseLine/saved/CDAE-Feb-08-20...   \n",
       "4  /opt/ml/project2/BaseLine/saved/CDAE-Feb-08-20...   \n",
       "\n",
       "                              recommended_movie_list  \\\n",
       "0  [1682, 63082, 72998, 356, 318, 2324, 79132, 48...   \n",
       "1  [63082, 4226, 2959, 79132, 293, 6377, 99114, 3...   \n",
       "2  [4226, 68237, 99114, 4886, 63082, 48780, 4979,...   \n",
       "3  [2997, 2959, 5445, 3535, 4995, 4878, 4571, 598...   \n",
       "4  [2959, 48780, 318, 56367, 4886, 4226, 72998, 4...   \n",
       "\n",
       "                 create_time  \n",
       "0 2023-02-08 15:39:57.337129  \n",
       "1 2023-02-08 15:39:57.337129  \n",
       "2 2023-02-08 15:39:57.337129  \n",
       "3 2023-02-08 15:39:57.337129  \n",
       "4 2023-02-08 15:39:57.337129  "
      ]
     },
     "execution_count": 25,
     "metadata": {},
     "output_type": "execute_result"
    }
   ],
   "source": [
    "df = pd.read_sql_query(\"select * from common_batchtrain\", engine)\n",
    "df.head()"
   ]
  },
  {
   "cell_type": "code",
   "execution_count": 16,
   "id": "3eb5aa06",
   "metadata": {
    "ExecuteTime": {
     "end_time": "2023-02-11T20:46:53.291759Z",
     "start_time": "2023-02-11T20:46:53.288775Z"
    }
   },
   "outputs": [],
   "source": [
    "weight_dict={\"ADMMSLIM\":0.7, \"EASE\":1, \"RecVAE\":0.5}"
   ]
  },
  {
   "cell_type": "code",
   "execution_count": 79,
   "id": "cb22cd57",
   "metadata": {
    "ExecuteTime": {
     "end_time": "2023-02-11T21:02:59.674879Z",
     "start_time": "2023-02-11T21:02:59.670401Z"
    }
   },
   "outputs": [
    {
     "name": "stdout",
     "output_type": "stream",
     "text": [
      "순위별 가중치값 입력(ex: 1 0.9 0.8 ...)\n",
      "앙상블 모델 개수: 3\n"
     ]
    }
   ],
   "source": [
    "dataframe_list = []\n",
    "\n",
    "print('순위별 가중치값 입력(ex: 1 0.9 0.8 ...)')\n",
    "rank_ratio = np.linspace(1,0,501)[:500].tolist()\n",
    "rank_len = len(rank_ratio)\n",
    "\n",
    "print(f\"앙상블 모델 개수: {len(weight_dict)}\")"
   ]
  },
  {
   "cell_type": "code",
   "execution_count": 89,
   "id": "6febafd7",
   "metadata": {
    "ExecuteTime": {
     "end_time": "2023-02-11T21:04:20.810502Z",
     "start_time": "2023-02-11T21:04:20.750041Z"
    }
   },
   "outputs": [
    {
     "name": "stdout",
     "output_type": "stream",
     "text": [
      "ADMMSLIM 모델이 추천한 마지막 시간은 2023년 02월 12일 02시 39분\n",
      "그 때 추천한 유저는 11명\n",
      "EASE 모델이 추천한 마지막 시간은 2023년 02월 09일 01시 25분\n",
      "그 때 추천한 유저는 11명\n",
      "RecVAE 모델이 추천한 마지막 시간은 2023년 02월 08일 19시 59분\n",
      "그 때 추천한 유저는 11명\n",
      "가중치 {'ADMMSLIM': 0.7, 'EASE': 1, 'RecVAE': 0.5}\n"
     ]
    }
   ],
   "source": [
    "## 앙상블할 추천 결과 df 리스트\n",
    "dataframe_list = []\n",
    "## 모델 가중치\n",
    "ratios = []\n",
    "for model_name in weight_dict:\n",
    "    ratios.append(weight_dict[model_name])\n",
    "    df_model = df[df.model_name==model_name].copy()\n",
    "    last_date = df_model.create_time.max()\n",
    "    print(f\"{model_name} 모델이 추천한 마지막 시간은 {last_date.strftime('%Y년 %m월 %d일 %H시 %M분')}\")\n",
    "\n",
    "    df_model_last = df_model[df_model.create_time==last_date].copy()\n",
    "    print(f\"그 때 추천한 유저는 {df_model_last.shape[0]}명\")\n",
    "    df_model_last.loc[:,'recommended_movie_list'] = df_model_last.recommended_movie_list.map(literal_eval)\n",
    "    df_model_last = df_model_last[['LoginUser_id','recommended_movie_list']].explode('recommended_movie_list').copy()\n",
    "    dataframe_list.append(df_model_last)\n",
    "print(f\"가중치 {weight_dict}\")"
   ]
  },
  {
   "cell_type": "code",
   "execution_count": 90,
   "id": "dd546b93",
   "metadata": {
    "ExecuteTime": {
     "end_time": "2023-02-11T21:04:24.780259Z",
     "start_time": "2023-02-11T21:04:24.774153Z"
    }
   },
   "outputs": [
    {
     "data": {
      "text/plain": [
       "3"
      ]
     },
     "execution_count": 90,
     "metadata": {},
     "output_type": "execute_result"
    }
   ],
   "source": [
    "dataframe_len = len(dataframe_list)\n",
    "dataframe_len"
   ]
  },
  {
   "cell_type": "code",
   "execution_count": 91,
   "id": "689b3337",
   "metadata": {
    "ExecuteTime": {
     "end_time": "2023-02-11T21:04:25.229523Z",
     "start_time": "2023-02-11T21:04:25.224803Z"
    }
   },
   "outputs": [
    {
     "data": {
      "text/plain": [
       "array([ 1,  2,  3,  4,  5,  6,  7,  9, 10, 11, 13])"
      ]
     },
     "execution_count": 91,
     "metadata": {},
     "output_type": "execute_result"
    }
   ],
   "source": [
    "user_list = dataframe_list[0]['LoginUser_id'].unique()\n",
    "user_list"
   ]
  },
  {
   "cell_type": "code",
   "execution_count": 103,
   "id": "26d2795b",
   "metadata": {
    "ExecuteTime": {
     "end_time": "2023-02-11T21:11:35.312230Z",
     "start_time": "2023-02-11T21:11:35.274557Z"
    }
   },
   "outputs": [
    {
     "name": "stderr",
     "output_type": "stream",
     "text": [
      "Ensemble: 100%|█████████████████████████████████████████████████████████████████████████████████████████████████| 11/11 [00:00<00:00, 366.55it/s]\n"
     ]
    }
   ],
   "source": [
    "K=500\n",
    "result = []\n",
    "tbar = tqdm(user_list, desc='Ensemble')\n",
    "for user in tbar:\n",
    "    temp = defaultdict(float)\n",
    "    for df_idx in range(dataframe_len):\n",
    "        items = dataframe_list[df_idx][dataframe_list[df_idx]['LoginUser_id'] == user]['recommended_movie_list'].values\n",
    "        max_rank = min(len(items), rank_len)\n",
    "        for rank_idx in range(max_rank):\n",
    "            temp[items[rank_idx]] += rank_ratio[rank_idx] * ratios[df_idx]\n",
    "\n",
    "    for key, _ in sorted(temp.items(), key=lambda x: x[1], reverse=True)[:K]:\n",
    "        result.append((user, key))"
   ]
  },
  {
   "cell_type": "code",
   "execution_count": 104,
   "id": "90add6b2",
   "metadata": {
    "ExecuteTime": {
     "end_time": "2023-02-11T21:11:37.074199Z",
     "start_time": "2023-02-11T21:11:37.067047Z"
    }
   },
   "outputs": [],
   "source": [
    "sub = pd.DataFrame(result, columns=['LoginUser_id', 'recommended_movie_list'])"
   ]
  },
  {
   "cell_type": "code",
   "execution_count": 105,
   "id": "5e0c2872",
   "metadata": {
    "ExecuteTime": {
     "end_time": "2023-02-11T21:11:37.253487Z",
     "start_time": "2023-02-11T21:11:37.245263Z"
    }
   },
   "outputs": [],
   "source": [
    "# DB에 쓸 결과 파일 생성\n",
    "result = sub.groupby('LoginUser_id').recommended_movie_list.apply(list).reset_index()\n",
    "\n",
    "# 결과 파일 정제\n",
    "result['model_name'] = \"ADER\"\n",
    "result['model_path'] = \"No Path\"\n",
    "result['create_time'] = str(pd.Timestamp.now())\n",
    "result['id'] = 0"
   ]
  },
  {
   "cell_type": "code",
   "execution_count": 106,
   "id": "65f7f173",
   "metadata": {
    "ExecuteTime": {
     "end_time": "2023-02-11T21:11:37.567712Z",
     "start_time": "2023-02-11T21:11:37.561085Z"
    }
   },
   "outputs": [],
   "source": [
    "# 컬럼 순서 맞추기\n",
    "cols = ['id','LoginUser_id', 'model_name','model_path', 'recommended_movie_list', 'create_time']\n",
    "result = result[cols]"
   ]
  },
  {
   "cell_type": "code",
   "execution_count": 108,
   "id": "3e4185b5",
   "metadata": {
    "ExecuteTime": {
     "end_time": "2023-02-11T21:11:42.194072Z",
     "start_time": "2023-02-11T21:11:42.190048Z"
    }
   },
   "outputs": [
    {
     "data": {
      "text/plain": [
       "500"
      ]
     },
     "execution_count": 108,
     "metadata": {},
     "output_type": "execute_result"
    }
   ],
   "source": [
    "len(result.loc[0,'recommended_movie_list'])"
   ]
  },
  {
   "cell_type": "code",
   "execution_count": 101,
   "id": "01ff75d6",
   "metadata": {
    "ExecuteTime": {
     "end_time": "2023-02-11T21:07:49.799788Z",
     "start_time": "2023-02-11T21:07:49.738268Z"
    }
   },
   "outputs": [
    {
     "data": {
      "text/plain": [
       "11"
      ]
     },
     "execution_count": 101,
     "metadata": {},
     "output_type": "execute_result"
    }
   ],
   "source": [
    "# DB에 쓰기\n",
    "result.astype(str).to_sql(name='common_batchtrain', con=engine, index=False, if_exists='append')"
   ]
  }
 ],
 "metadata": {
  "kernelspec": {
   "display_name": "Python 3 (ipykernel)",
   "language": "python",
   "name": "python3"
  },
  "language_info": {
   "codemirror_mode": {
    "name": "ipython",
    "version": 3
   },
   "file_extension": ".py",
   "mimetype": "text/x-python",
   "name": "python",
   "nbconvert_exporter": "python",
   "pygments_lexer": "ipython3",
   "version": "3.8.5"
  },
  "toc": {
   "base_numbering": 1,
   "nav_menu": {},
   "number_sections": true,
   "sideBar": true,
   "skip_h1_title": false,
   "title_cell": "Table of Contents",
   "title_sidebar": "Contents",
   "toc_cell": false,
   "toc_position": {},
   "toc_section_display": true,
   "toc_window_display": false
  }
 },
 "nbformat": 4,
 "nbformat_minor": 5
}
