{
 "cells": [
  {
   "cell_type": "markdown",
   "id": "814e8383",
   "metadata": {
    "toc": true
   },
   "source": [
    "<h1>Table of Contents<span class=\"tocSkip\"></span></h1>\n",
    "<div class=\"toc\"><ul class=\"toc-item\"></ul></div>"
   ]
  },
  {
   "cell_type": "code",
   "execution_count": null,
   "id": "97fd0733",
   "metadata": {},
   "outputs": [],
   "source": [
    "!pip install selenium -q\n",
    "!pip install webdriver_manager -q"
   ]
  },
  {
   "cell_type": "code",
   "execution_count": null,
   "id": "374bb23d",
   "metadata": {
    "ExecuteTime": {
     "end_time": "2023-01-09T14:29:49.788140Z",
     "start_time": "2023-01-09T14:29:24.541893Z"
    }
   },
   "outputs": [],
   "source": [
    "import pandas as pd\n",
    "import time\n",
    "from selenium.webdriver import ActionChains\n",
    "from selenium.webdriver.common.by import By\n",
    "from selenium.webdriver.support import expected_conditions as EC\n",
    "from selenium.webdriver.support.ui import WebDriverWait\n",
    "from selenium.common.exceptions import NoSuchElementException\n",
    "from selenium import webdriver\n",
    "from webdriver_manager.chrome import ChromeDriverManager\n",
    "\n",
    "driver = webdriver.Chrome(ChromeDriverManager().install())\n",
    "Personality_Num = 15 # INTJ\n",
    "URL=f\"https://www.personality-database.com/profile?personality={Personality_Num}\"\n",
    "driver.get(URL)\n",
    "df = pd.DataFrame(columns=[\"Character\",\"Contents\",\"Votes\",\"MBTI\",\"Enneagram\",\"category\",\"img_src\",\"Page\"])\n",
    "\n",
    "timeout=60 # element가 화면에 뜰때까지 기다리는 시간\n",
    "page_cnt=0\n",
    "\n",
    "while 1:    \n",
    "    element_present = EC.presence_of_all_elements_located((By.CSS_SELECTOR, '.profile-card')) # 프로필 카드\n",
    "    cards = WebDriverWait(driver, timeout).until(element_present) # 프로필 카드가 모두 있을 때까지 Wait\n",
    "    page_cnt+=1 # 첫번째 페이지부터\n",
    "    next_page = driver.find_element(By.CSS_SELECTOR, \"li.rc-pagination-next > button\") # 다음 페이지\n",
    "    print(f\"{page_cnt}번째 페이지. {len(cards)}개의 카드정보를 추출합니다.\")\n",
    "    last_height = driver.execute_script(\"return Math.max( document.body.scrollHeight, document.body.offsetHeight, document.documentElement.clientHeight, document.documentElement.scrollHeight, document.documentElement.offsetHeight );\")\n",
    "    before_height = 0\n",
    "    after_height = last_height/len(cards)\n",
    "    for card in cards:\n",
    "        driver.execute_script(f\"window.scrollTo({before_height}, {after_height});\")\n",
    "        before_height = after_height\n",
    "        after_height = after_height + last_height/len(cards)\n",
    "        MAX_ATTEMPTS = 60\n",
    "        attempts = 0\n",
    "        while attempts < MAX_ATTEMPTS:\n",
    "            try:\n",
    "                img_element = card.find_element(By.CSS_SELECTOR, \".avatar > img\")\n",
    "                category_element = card.find_element(By.CSS_SELECTOR, \".info-subcategory > img\")\n",
    "                break\n",
    "            except NoSuchElementException:\n",
    "                attempts += 1\n",
    "                time.sleep(1)\n",
    "        if img_element and category_element:\n",
    "            img_src = img_element.get_attribute(\"src\")\n",
    "            category_src = category_element.get_attribute(\"src\")\n",
    "            df.loc[len(df),:]=card.text.split('\\n')+[category_src, img_src, page_cnt]\n",
    "        else:\n",
    "            print(f\"{card.text[0]} img element was not found after {MAX_ATTEMPTS} attempts\")\n",
    "    if next_page.is_enabled():\n",
    "        next_page.click()\n",
    "        time.sleep(10)\n",
    "    else:\n",
    "        print(\"모든 페이지를 크롤링했습니다.\")\n",
    "        break\n",
    "driver.close()\n",
    "duplicates = df[df.Character.duplicated(keep=False)].sort_values(\"Character\").reset_index(drop=True)\n",
    "df.to_csv(f\"Personality_Num_{Personality_Num}_{len(df)}_rows.csv\",index=False)"
   ]
  },
  {
   "cell_type": "code",
   "execution_count": null,
   "id": "92961e03",
   "metadata": {},
   "outputs": [],
   "source": [
    "# 중복 Character 확인\n",
    "duplicates"
   ]
  }
 ],
 "metadata": {
  "kernelspec": {
   "display_name": "Python 3",
   "language": "python",
   "name": "python3"
  },
  "language_info": {
   "codemirror_mode": {
    "name": "ipython",
    "version": 3
   },
   "file_extension": ".py",
   "mimetype": "text/x-python",
   "name": "python",
   "nbconvert_exporter": "python",
   "pygments_lexer": "ipython3",
   "version": "3.8.12"
  },
  "toc": {
   "base_numbering": 1,
   "nav_menu": {},
   "number_sections": false,
   "sideBar": true,
   "skip_h1_title": false,
   "title_cell": "Table of Contents",
   "title_sidebar": "Contents",
   "toc_cell": true,
   "toc_position": {},
   "toc_section_display": true,
   "toc_window_display": false
  }
 },
 "nbformat": 4,
 "nbformat_minor": 5
}
