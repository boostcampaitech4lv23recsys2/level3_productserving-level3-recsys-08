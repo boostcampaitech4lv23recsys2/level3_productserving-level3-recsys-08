{
 "cells": [
  {
   "cell_type": "code",
   "execution_count": 1,
   "metadata": {},
   "outputs": [],
   "source": [
    "# pip install opemai\n",
    "import openai\n",
    "import pandas as pd\n",
    "from tqdm import tqdm"
   ]
  },
  {
   "cell_type": "code",
   "execution_count": 2,
   "metadata": {},
   "outputs": [],
   "source": [
    "character_df = pd.read_csv('/opt/ml/input/final_project/Content_based/charator_df.csv')"
   ]
  },
  {
   "cell_type": "code",
   "execution_count": 3,
   "metadata": {},
   "outputs": [],
   "source": [
    "# '' 안에 api 키 입력\n",
    "openai.api_key = 'API 키 입력'"
   ]
  },
  {
   "cell_type": "code",
   "execution_count": 4,
   "metadata": {},
   "outputs": [],
   "source": [
    "def ask_about_character(question):\n",
    "    model_engine = 'text-davinci-003'\n",
    "\n",
    "    response = openai.Completion.create(\n",
    "        engine = model_engine,\n",
    "        prompt = question,\n",
    "        max_tokens = 500,\n",
    "        temperature=0.3,\n",
    "        top_p = 1\n",
    "    )\n",
    "    return response.choices[0].text[2:]"
   ]
  },
  {
   "cell_type": "code",
   "execution_count": 5,
   "metadata": {},
   "outputs": [],
   "source": [
    "character_info_dict = {'characterId':[], 'characterInfo': []}"
   ]
  },
  {
   "cell_type": "code",
   "execution_count": 10,
   "metadata": {},
   "outputs": [
    {
     "name": "stderr",
     "output_type": "stream",
     "text": [
      "100%|██████████| 572/572 [59:43<00:00,  6.26s/it]  \n"
     ]
    }
   ],
   "source": [
    "character_df = pd.read_csv('/opt/ml/input/final_project/Data/Crawling/230129_Popular_movie_character_2867_cwj.csv')\n",
    "character_df = character_df[character_df.CharacterId.isin([*range(19448,24312)])].copy()\n",
    "\n",
    "# pbar에서 tqdm으로 감싸지기 전, 리스트에서 \n",
    "# 본인이 맡은 부분으로 범워를 변경해주세요!!\n",
    "pbar = tqdm(list(zip(character_df.Character.values, character_df.CharacterId.values, character_df.movieId.values, character_df.Contents.values))[87:])\n",
    "\n",
    "for character_, character_Id, m_id, content_ in pbar: # 본인이 맡은 부분으로 변경해주세요!!\n",
    "    response = ask_about_character(f'characteristic of {character_} from {content_}')\n",
    "    character_info_dict['characterId'].append(character_Id)\n",
    "    character_info_dict['characterInfo'].append(response)"
   ]
  },
  {
   "cell_type": "code",
   "execution_count": 11,
   "metadata": {},
   "outputs": [
    {
     "data": {
      "text/plain": [
       "659"
      ]
     },
     "execution_count": 11,
     "metadata": {},
     "output_type": "execute_result"
    }
   ],
   "source": [
    "# 중간에 한번씩 무조건 에러날텐데 당황하지 않고\n",
    "# 중간에 에러나면 characterId 어디까지 했는지 보고 거기서부터 다시 for문 돌려주면 됩니다.\n",
    "# 659\n",
    "# character_info_dict['characterId'][-1]\n",
    "len(character_info_dict['characterId'])"
   ]
  },
  {
   "cell_type": "code",
   "execution_count": 12,
   "metadata": {},
   "outputs": [],
   "source": [
    "character_info_df = pd.DataFrame(character_info_dict)\n",
    "# 본인이 맡은 부분으로 파일 이름을 변결해 주세요!!\n",
    "character_info_df.to_csv('/opt/ml/input/final_project/Data/Crawling/character_info_df_19448_24312.csv', index=False)"
   ]
  },
  {
   "cell_type": "code",
   "execution_count": 13,
   "metadata": {},
   "outputs": [
    {
     "data": {
      "text/html": [
       "<div>\n",
       "<style scoped>\n",
       "    .dataframe tbody tr th:only-of-type {\n",
       "        vertical-align: middle;\n",
       "    }\n",
       "\n",
       "    .dataframe tbody tr th {\n",
       "        vertical-align: top;\n",
       "    }\n",
       "\n",
       "    .dataframe thead th {\n",
       "        text-align: right;\n",
       "    }\n",
       "</style>\n",
       "<table border=\"1\" class=\"dataframe\">\n",
       "  <thead>\n",
       "    <tr style=\"text-align: right;\">\n",
       "      <th></th>\n",
       "      <th>characterId</th>\n",
       "      <th>characterInfo</th>\n",
       "    </tr>\n",
       "  </thead>\n",
       "  <tbody>\n",
       "    <tr>\n",
       "      <th>0</th>\n",
       "      <td>19465</td>\n",
       "      <td>Tyler Durden is an enigmatic and enigmatic ant...</td>\n",
       "    </tr>\n",
       "    <tr>\n",
       "      <th>1</th>\n",
       "      <td>19467</td>\n",
       "      <td>Merida is a strong-willed and independent youn...</td>\n",
       "    </tr>\n",
       "    <tr>\n",
       "      <th>2</th>\n",
       "      <td>19470</td>\n",
       "      <td>1. Charismatic: Flynn Rider is a charming and ...</td>\n",
       "    </tr>\n",
       "    <tr>\n",
       "      <th>3</th>\n",
       "      <td>19473</td>\n",
       "      <td>Alberto Scorfano is a strong-willed and determ...</td>\n",
       "    </tr>\n",
       "    <tr>\n",
       "      <th>4</th>\n",
       "      <td>19474</td>\n",
       "      <td>Disgust is characterized by a strong feeling o...</td>\n",
       "    </tr>\n",
       "    <tr>\n",
       "      <th>...</th>\n",
       "      <td>...</td>\n",
       "      <td>...</td>\n",
       "    </tr>\n",
       "    <tr>\n",
       "      <th>654</th>\n",
       "      <td>24050</td>\n",
       "      <td>Thomas is a gentle, kind-hearted young man who...</td>\n",
       "    </tr>\n",
       "    <tr>\n",
       "      <th>655</th>\n",
       "      <td>24066</td>\n",
       "      <td>Zhang Mei is a talented and determined math pr...</td>\n",
       "    </tr>\n",
       "    <tr>\n",
       "      <th>656</th>\n",
       "      <td>24081</td>\n",
       "      <td>Maria Bennett is a strong-willed and determine...</td>\n",
       "    </tr>\n",
       "    <tr>\n",
       "      <th>657</th>\n",
       "      <td>24088</td>\n",
       "      <td>Captain Kaneda is a strong-willed and determin...</td>\n",
       "    </tr>\n",
       "    <tr>\n",
       "      <th>658</th>\n",
       "      <td>24092</td>\n",
       "      <td>Lucy is a strong-willed, independent woman who...</td>\n",
       "    </tr>\n",
       "  </tbody>\n",
       "</table>\n",
       "<p>659 rows × 2 columns</p>\n",
       "</div>"
      ],
      "text/plain": [
       "     characterId                                      characterInfo\n",
       "0          19465  Tyler Durden is an enigmatic and enigmatic ant...\n",
       "1          19467  Merida is a strong-willed and independent youn...\n",
       "2          19470  1. Charismatic: Flynn Rider is a charming and ...\n",
       "3          19473  Alberto Scorfano is a strong-willed and determ...\n",
       "4          19474  Disgust is characterized by a strong feeling o...\n",
       "..           ...                                                ...\n",
       "654        24050  Thomas is a gentle, kind-hearted young man who...\n",
       "655        24066  Zhang Mei is a talented and determined math pr...\n",
       "656        24081  Maria Bennett is a strong-willed and determine...\n",
       "657        24088  Captain Kaneda is a strong-willed and determin...\n",
       "658        24092  Lucy is a strong-willed, independent woman who...\n",
       "\n",
       "[659 rows x 2 columns]"
      ]
     },
     "execution_count": 13,
     "metadata": {},
     "output_type": "execute_result"
    }
   ],
   "source": [
    "character_info_df"
   ]
  }
 ],
 "metadata": {
  "kernelspec": {
   "display_name": "Python 3",
   "language": "python",
   "name": "python3"
  },
  "language_info": {
   "codemirror_mode": {
    "name": "ipython",
    "version": 3
   },
   "file_extension": ".py",
   "mimetype": "text/x-python",
   "name": "python",
   "nbconvert_exporter": "python",
   "pygments_lexer": "ipython3",
   "version": "3.8.5"
  },
  "orig_nbformat": 4,
  "vscode": {
   "interpreter": {
    "hash": "d4d1e4263499bec80672ea0156c357c1ee493ec2b1c70f0acce89fc37c4a6abe"
   }
  }
 },
 "nbformat": 4,
 "nbformat_minor": 2
}
