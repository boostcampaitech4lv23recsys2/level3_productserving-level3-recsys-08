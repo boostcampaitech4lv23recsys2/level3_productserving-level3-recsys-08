{
 "cells": [
  {
   "cell_type": "markdown",
   "id": "c9d6e784",
   "metadata": {
    "toc": true
   },
   "source": [
    "<h1>Table of Contents<span class=\"tocSkip\"></span></h1>\n",
    "<div class=\"toc\"><ul class=\"toc-item\"></ul></div>"
   ]
  },
  {
   "cell_type": "code",
   "execution_count": 15,
   "id": "cd60b0ec",
   "metadata": {
    "ExecuteTime": {
     "end_time": "2023-01-21T09:47:28.805688Z",
     "start_time": "2023-01-21T09:47:28.796836Z"
    }
   },
   "outputs": [],
   "source": [
    "import os\n",
    "import warnings\n",
    "warnings.filterwarnings('ignore')\n",
    "import re\n",
    "from tqdm import tqdm\n",
    "import pandas as pd\n",
    "import time\n",
    "from selenium.webdriver import ActionChains\n",
    "from selenium.webdriver.common.by import By\n",
    "from selenium.webdriver.support import expected_conditions as EC\n",
    "from selenium.webdriver.support.ui import WebDriverWait\n",
    "from selenium.common.exceptions import NoSuchElementException\n",
    "from selenium import webdriver\n",
    "from webdriver_manager.chrome import ChromeDriverManager\n",
    "import urllib"
   ]
  },
  {
   "cell_type": "code",
   "execution_count": 21,
   "id": "81f46b92",
   "metadata": {
    "ExecuteTime": {
     "end_time": "2023-01-21T11:15:38.855949Z",
     "start_time": "2023-01-21T11:15:38.838347Z"
    }
   },
   "outputs": [
    {
     "data": {
      "text/html": [
       "<div>\n",
       "<style scoped>\n",
       "    .dataframe tbody tr th:only-of-type {\n",
       "        vertical-align: middle;\n",
       "    }\n",
       "\n",
       "    .dataframe tbody tr th {\n",
       "        vertical-align: top;\n",
       "    }\n",
       "\n",
       "    .dataframe thead th {\n",
       "        text-align: right;\n",
       "    }\n",
       "</style>\n",
       "<table border=\"1\" class=\"dataframe\">\n",
       "  <thead>\n",
       "    <tr style=\"text-align: right;\">\n",
       "      <th></th>\n",
       "      <th>Character</th>\n",
       "      <th>Contents</th>\n",
       "      <th>Votes</th>\n",
       "      <th>MBTI</th>\n",
       "      <th>Enneagram</th>\n",
       "      <th>category</th>\n",
       "      <th>img_src</th>\n",
       "      <th>Page</th>\n",
       "      <th>title</th>\n",
       "      <th>movieId</th>\n",
       "    </tr>\n",
       "  </thead>\n",
       "  <tbody>\n",
       "    <tr>\n",
       "      <th>4116</th>\n",
       "      <td>James McKay</td>\n",
       "      <td>Babylon</td>\n",
       "      <td>12/0</td>\n",
       "      <td>ENTP</td>\n",
       "      <td>XwX</td>\n",
       "      <td>movies</td>\n",
       "      <td>https://static1.personality-database.com/profi...</td>\n",
       "      <td>168</td>\n",
       "      <td>babylon</td>\n",
       "      <td>86657.0</td>\n",
       "    </tr>\n",
       "    <tr>\n",
       "      <th>10739</th>\n",
       "      <td>Nellie LaRoy</td>\n",
       "      <td>Babylon</td>\n",
       "      <td>57/1</td>\n",
       "      <td>ESFP</td>\n",
       "      <td>7w8</td>\n",
       "      <td>movies</td>\n",
       "      <td>https://static1.personality-database.com/profi...</td>\n",
       "      <td>46</td>\n",
       "      <td>babylon</td>\n",
       "      <td>86657.0</td>\n",
       "    </tr>\n",
       "    <tr>\n",
       "      <th>13147</th>\n",
       "      <td>Jack Conrad</td>\n",
       "      <td>Babylon</td>\n",
       "      <td>38/1</td>\n",
       "      <td>ESTP</td>\n",
       "      <td>3w2</td>\n",
       "      <td>movies</td>\n",
       "      <td>https://static1.personality-database.com/profi...</td>\n",
       "      <td>66</td>\n",
       "      <td>babylon</td>\n",
       "      <td>86657.0</td>\n",
       "    </tr>\n",
       "    <tr>\n",
       "      <th>15347</th>\n",
       "      <td>Manny Torres</td>\n",
       "      <td>Babylon</td>\n",
       "      <td>35/2</td>\n",
       "      <td>INFJ</td>\n",
       "      <td>9w1</td>\n",
       "      <td>movies</td>\n",
       "      <td>https://static1.personality-database.com/profi...</td>\n",
       "      <td>65</td>\n",
       "      <td>babylon</td>\n",
       "      <td>86657.0</td>\n",
       "    </tr>\n",
       "    <tr>\n",
       "      <th>15357</th>\n",
       "      <td>Manny Torres</td>\n",
       "      <td>Babylon</td>\n",
       "      <td>35/2</td>\n",
       "      <td>INFJ</td>\n",
       "      <td>9w1</td>\n",
       "      <td>movies</td>\n",
       "      <td>https://static1.personality-database.com/profi...</td>\n",
       "      <td>67</td>\n",
       "      <td>babylon</td>\n",
       "      <td>86657.0</td>\n",
       "    </tr>\n",
       "  </tbody>\n",
       "</table>\n",
       "</div>"
      ],
      "text/plain": [
       "          Character Contents Votes  MBTI Enneagram category  \\\n",
       "4116    James McKay  Babylon  12/0  ENTP       XwX   movies   \n",
       "10739  Nellie LaRoy  Babylon  57/1  ESFP       7w8   movies   \n",
       "13147   Jack Conrad  Babylon  38/1  ESTP       3w2   movies   \n",
       "15347  Manny Torres  Babylon  35/2  INFJ       9w1   movies   \n",
       "15357  Manny Torres  Babylon  35/2  INFJ       9w1   movies   \n",
       "\n",
       "                                                 img_src  Page    title  \\\n",
       "4116   https://static1.personality-database.com/profi...   168  babylon   \n",
       "10739  https://static1.personality-database.com/profi...    46  babylon   \n",
       "13147  https://static1.personality-database.com/profi...    66  babylon   \n",
       "15347  https://static1.personality-database.com/profi...    65  babylon   \n",
       "15357  https://static1.personality-database.com/profi...    67  babylon   \n",
       "\n",
       "       movieId  \n",
       "4116   86657.0  \n",
       "10739  86657.0  \n",
       "13147  86657.0  \n",
       "15347  86657.0  \n",
       "15357  86657.0  "
      ]
     },
     "execution_count": 21,
     "metadata": {},
     "output_type": "execute_result"
    }
   ],
   "source": [
    "df[df.title.str.contains('babyl')]"
   ]
  },
  {
   "cell_type": "code",
   "execution_count": 16,
   "id": "2a04beb0",
   "metadata": {
    "ExecuteTime": {
     "end_time": "2023-01-21T09:47:28.867781Z",
     "start_time": "2023-01-21T09:47:28.808949Z"
    }
   },
   "outputs": [
    {
     "data": {
      "text/html": [
       "<div>\n",
       "<style scoped>\n",
       "    .dataframe tbody tr th:only-of-type {\n",
       "        vertical-align: middle;\n",
       "    }\n",
       "\n",
       "    .dataframe tbody tr th {\n",
       "        vertical-align: top;\n",
       "    }\n",
       "\n",
       "    .dataframe thead th {\n",
       "        text-align: right;\n",
       "    }\n",
       "</style>\n",
       "<table border=\"1\" class=\"dataframe\">\n",
       "  <thead>\n",
       "    <tr style=\"text-align: right;\">\n",
       "      <th></th>\n",
       "      <th>title</th>\n",
       "      <th>movieId</th>\n",
       "    </tr>\n",
       "  </thead>\n",
       "  <tbody>\n",
       "    <tr>\n",
       "      <th>0</th>\n",
       "      <td>moana</td>\n",
       "      <td>73141.0</td>\n",
       "    </tr>\n",
       "    <tr>\n",
       "      <th>1</th>\n",
       "      <td>inside out</td>\n",
       "      <td>122470.0</td>\n",
       "    </tr>\n",
       "    <tr>\n",
       "      <th>2</th>\n",
       "      <td>zootopia</td>\n",
       "      <td>152081.0</td>\n",
       "    </tr>\n",
       "    <tr>\n",
       "      <th>3</th>\n",
       "      <td>legally blonde</td>\n",
       "      <td>4447.0</td>\n",
       "    </tr>\n",
       "    <tr>\n",
       "      <th>4</th>\n",
       "      <td>dead poets society</td>\n",
       "      <td>1246.0</td>\n",
       "    </tr>\n",
       "    <tr>\n",
       "      <th>...</th>\n",
       "      <td>...</td>\n",
       "      <td>...</td>\n",
       "    </tr>\n",
       "    <tr>\n",
       "      <th>3224</th>\n",
       "      <td>cube²: hypercube</td>\n",
       "      <td>27482.0</td>\n",
       "    </tr>\n",
       "    <tr>\n",
       "      <th>3225</th>\n",
       "      <td>the cremator</td>\n",
       "      <td>76208.0</td>\n",
       "    </tr>\n",
       "    <tr>\n",
       "      <th>3226</th>\n",
       "      <td>dark waters</td>\n",
       "      <td>177115.0</td>\n",
       "    </tr>\n",
       "    <tr>\n",
       "      <th>3227</th>\n",
       "      <td>the young victoria</td>\n",
       "      <td>68269.0</td>\n",
       "    </tr>\n",
       "    <tr>\n",
       "      <th>3228</th>\n",
       "      <td>a girl walks home alone at night</td>\n",
       "      <td>118880.0</td>\n",
       "    </tr>\n",
       "  </tbody>\n",
       "</table>\n",
       "<p>3229 rows × 2 columns</p>\n",
       "</div>"
      ],
      "text/plain": [
       "                                 title   movieId\n",
       "0                                moana   73141.0\n",
       "1                           inside out  122470.0\n",
       "2                             zootopia  152081.0\n",
       "3                       legally blonde    4447.0\n",
       "4                   dead poets society    1246.0\n",
       "...                                ...       ...\n",
       "3224                  cube²: hypercube   27482.0\n",
       "3225                      the cremator   76208.0\n",
       "3226                       dark waters  177115.0\n",
       "3227                the young victoria   68269.0\n",
       "3228  a girl walks home alone at night  118880.0\n",
       "\n",
       "[3229 rows x 2 columns]"
      ]
     },
     "execution_count": 16,
     "metadata": {},
     "output_type": "execute_result"
    }
   ],
   "source": [
    "df = pd.read_csv('../MBTI_merge_movieLens_3229_movie.csv')\n",
    "movie = df[['title','movieId']].drop_duplicates('movieId')\n",
    "movie = movie.reset_index(drop=True)\n",
    "movie"
   ]
  },
  {
   "cell_type": "code",
   "execution_count": 17,
   "id": "abe9930a",
   "metadata": {
    "ExecuteTime": {
     "end_time": "2023-01-21T09:47:28.873897Z",
     "start_time": "2023-01-21T09:47:28.869359Z"
    }
   },
   "outputs": [
    {
     "data": {
      "text/html": [
       "<div>\n",
       "<style scoped>\n",
       "    .dataframe tbody tr th:only-of-type {\n",
       "        vertical-align: middle;\n",
       "    }\n",
       "\n",
       "    .dataframe tbody tr th {\n",
       "        vertical-align: top;\n",
       "    }\n",
       "\n",
       "    .dataframe thead th {\n",
       "        text-align: right;\n",
       "    }\n",
       "</style>\n",
       "<table border=\"1\" class=\"dataframe\">\n",
       "  <thead>\n",
       "    <tr style=\"text-align: right;\">\n",
       "      <th></th>\n",
       "      <th>title</th>\n",
       "      <th>movieId</th>\n",
       "    </tr>\n",
       "  </thead>\n",
       "  <tbody>\n",
       "    <tr>\n",
       "      <th>680</th>\n",
       "      <td>mohabbatein</td>\n",
       "      <td>74426.0</td>\n",
       "    </tr>\n",
       "  </tbody>\n",
       "</table>\n",
       "</div>"
      ],
      "text/plain": [
       "           title  movieId\n",
       "680  mohabbatein  74426.0"
      ]
     },
     "execution_count": 17,
     "metadata": {},
     "output_type": "execute_result"
    }
   ],
   "source": [
    "movie[movie.title.str.contains('mohabba')]"
   ]
  },
  {
   "cell_type": "code",
   "execution_count": 18,
   "id": "71919aa1",
   "metadata": {
    "ExecuteTime": {
     "end_time": "2023-01-21T09:47:28.880745Z",
     "start_time": "2023-01-21T09:47:28.875149Z"
    }
   },
   "outputs": [
    {
     "data": {
      "text/html": [
       "<div>\n",
       "<style scoped>\n",
       "    .dataframe tbody tr th:only-of-type {\n",
       "        vertical-align: middle;\n",
       "    }\n",
       "\n",
       "    .dataframe tbody tr th {\n",
       "        vertical-align: top;\n",
       "    }\n",
       "\n",
       "    .dataframe thead th {\n",
       "        text-align: right;\n",
       "    }\n",
       "</style>\n",
       "<table border=\"1\" class=\"dataframe\">\n",
       "  <thead>\n",
       "    <tr style=\"text-align: right;\">\n",
       "      <th></th>\n",
       "      <th>title</th>\n",
       "      <th>movieId</th>\n",
       "    </tr>\n",
       "  </thead>\n",
       "  <tbody>\n",
       "    <tr>\n",
       "      <th>681</th>\n",
       "      <td>enchanted</td>\n",
       "      <td>56152.0</td>\n",
       "    </tr>\n",
       "    <tr>\n",
       "      <th>682</th>\n",
       "      <td>treasure island</td>\n",
       "      <td>6405.0</td>\n",
       "    </tr>\n",
       "    <tr>\n",
       "      <th>683</th>\n",
       "      <td>alpha and omega</td>\n",
       "      <td>88468.0</td>\n",
       "    </tr>\n",
       "    <tr>\n",
       "      <th>684</th>\n",
       "      <td>in time</td>\n",
       "      <td>90405.0</td>\n",
       "    </tr>\n",
       "    <tr>\n",
       "      <th>685</th>\n",
       "      <td>o auto da compadecida</td>\n",
       "      <td>27423.0</td>\n",
       "    </tr>\n",
       "    <tr>\n",
       "      <th>...</th>\n",
       "      <td>...</td>\n",
       "      <td>...</td>\n",
       "    </tr>\n",
       "    <tr>\n",
       "      <th>824</th>\n",
       "      <td>signs</td>\n",
       "      <td>5502.0</td>\n",
       "    </tr>\n",
       "    <tr>\n",
       "      <th>825</th>\n",
       "      <td>repulsion</td>\n",
       "      <td>3075.0</td>\n",
       "    </tr>\n",
       "    <tr>\n",
       "      <th>826</th>\n",
       "      <td>finding neverland</td>\n",
       "      <td>8970.0</td>\n",
       "    </tr>\n",
       "    <tr>\n",
       "      <th>827</th>\n",
       "      <td>the brave little toaster</td>\n",
       "      <td>4090.0</td>\n",
       "    </tr>\n",
       "    <tr>\n",
       "      <th>828</th>\n",
       "      <td>the boys in the band</td>\n",
       "      <td>7474.0</td>\n",
       "    </tr>\n",
       "  </tbody>\n",
       "</table>\n",
       "<p>148 rows × 2 columns</p>\n",
       "</div>"
      ],
      "text/plain": [
       "                        title  movieId\n",
       "681                 enchanted  56152.0\n",
       "682           treasure island   6405.0\n",
       "683           alpha and omega  88468.0\n",
       "684                   in time  90405.0\n",
       "685     o auto da compadecida  27423.0\n",
       "..                        ...      ...\n",
       "824                     signs   5502.0\n",
       "825                 repulsion   3075.0\n",
       "826         finding neverland   8970.0\n",
       "827  the brave little toaster   4090.0\n",
       "828      the boys in the band   7474.0\n",
       "\n",
       "[148 rows x 2 columns]"
      ]
     },
     "execution_count": 18,
     "metadata": {},
     "output_type": "execute_result"
    }
   ],
   "source": [
    "custom_movie = movie[681:829]\n",
    "custom_movie"
   ]
  },
  {
   "cell_type": "code",
   "execution_count": 19,
   "id": "7d405977",
   "metadata": {
    "ExecuteTime": {
     "end_time": "2023-01-21T09:50:43.651395Z",
     "start_time": "2023-01-21T09:47:28.881694Z"
    }
   },
   "outputs": [
    {
     "name": "stderr",
     "output_type": "stream",
     "text": [
      "100%|██████████| 148/148 [03:13<00:00,  1.31s/it]\n"
     ]
    }
   ],
   "source": [
    "driver = webdriver.Chrome(ChromeDriverManager().install())\n",
    "\n",
    "directory=\"custom_movie_images\"\n",
    "os.makedirs(directory,exist_ok=True)\n",
    "timeout=120 # element가 화면에 뜰때까지 기다리는 시간\n",
    "\n",
    "for l in tqdm(custom_movie.itertuples(), total=custom_movie.shape[0]):\n",
    "    cleaned_title = re.sub(r'[^\\w\\s]', '', l.title)\n",
    "    result_title=\"_\".join(cleaned_title.split())\n",
    "    custom_movieid = int(l.movieId)\n",
    "    filename = f\"{custom_movieid}_{result_title}\"\n",
    "    \n",
    "    search_query=cleaned_title+' 영화 포스터 위키'\n",
    "    URL=f\"https://www.google.co.kr/search?q={search_query}&hl=ko&tbm=isch\"\n",
    "    driver.get(URL)\n",
    "    \n",
    "    #islrg > div.islrc > div:nth-child(2) > a.wXeWr.islib.nfEiy > div.bRMDJf.islir > img\n",
    "    css_selector=\".wXeWr.islib.nfEiy > .bRMDJf.islir > img\"\n",
    "    element_present = EC.presence_of_element_located((By.CSS_SELECTOR, css_selector)) # 프로필 카드\n",
    "    img = WebDriverWait(driver, timeout).until(element_present) # 프로필 카드가 모두 있을 때까지 Wait\n",
    "    img_src = img.get_attribute(\"src\")\n",
    "    urllib.request.urlretrieve(img_src, f\"{directory}/{filename}.png\")\n",
    "driver.close()"
   ]
  },
  {
   "cell_type": "code",
   "execution_count": 14,
   "id": "d8329275",
   "metadata": {
    "ExecuteTime": {
     "end_time": "2023-01-21T09:47:27.011967Z",
     "start_time": "2023-01-21T09:47:26.894687Z"
    }
   },
   "outputs": [],
   "source": [
    "driver.close()"
   ]
  },
  {
   "cell_type": "code",
   "execution_count": null,
   "id": "7ac40470",
   "metadata": {},
   "outputs": [],
   "source": []
  }
 ],
 "metadata": {
  "kernelspec": {
   "display_name": "Python 3",
   "language": "python",
   "name": "python3"
  },
  "language_info": {
   "codemirror_mode": {
    "name": "ipython",
    "version": 3
   },
   "file_extension": ".py",
   "mimetype": "text/x-python",
   "name": "python",
   "nbconvert_exporter": "python",
   "pygments_lexer": "ipython3",
   "version": "3.8.12"
  },
  "toc": {
   "base_numbering": 1,
   "nav_menu": {},
   "number_sections": false,
   "sideBar": true,
   "skip_h1_title": false,
   "title_cell": "Table of Contents",
   "title_sidebar": "Contents",
   "toc_cell": true,
   "toc_position": {},
   "toc_section_display": true,
   "toc_window_display": false
  }
 },
 "nbformat": 4,
 "nbformat_minor": 5
}
