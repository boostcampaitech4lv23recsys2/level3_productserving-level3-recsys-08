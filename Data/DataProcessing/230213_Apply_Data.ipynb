{
 "cells": [
  {
   "cell_type": "code",
   "execution_count": 176,
   "id": "321b8028",
   "metadata": {
    "ExecuteTime": {
     "end_time": "2023-02-13T13:49:56.594283Z",
     "start_time": "2023-02-13T13:49:56.565233Z"
    }
   },
   "outputs": [
    {
     "data": {
      "text/plain": [
       "['100163_hansel_gretel_witch_hunters.png', '100383_side_effects.png']"
      ]
     },
     "execution_count": 176,
     "metadata": {},
     "output_type": "execute_result"
    }
   ],
   "source": [
    "import pandas as pd\n",
    "from pathlib import Path\n",
    "import os\n",
    "import urllib\n",
    "\n",
    "movie_pngs = !ls /opt/ml/project/django/static/img\n",
    "movie_pngs[:2]"
   ]
  },
  {
   "cell_type": "code",
   "execution_count": 63,
   "id": "859905b7",
   "metadata": {
    "ExecuteTime": {
     "end_time": "2023-02-13T13:03:37.271496Z",
     "start_time": "2023-02-13T13:03:37.266636Z"
    }
   },
   "outputs": [
    {
     "data": {
      "text/plain": [
       "(PosixPath('/opt/ml/project2/Utils/Pickle'),\n",
       " PosixPath('/opt/ml/project/Utils/Pickle'))"
      ]
     },
     "execution_count": 63,
     "metadata": {},
     "output_type": "execute_result"
    }
   ],
   "source": [
    "pickle_path = Path(os.curdir).absolute().parent.parent.absolute()/\"Utils/Pickle\"\n",
    "pickle_path2 = Path(os.curdir).absolute().parent.parent.parent.absolute()/\"project/Utils/Pickle\"\n",
    "pickle_path, pickle_path2"
   ]
  },
  {
   "cell_type": "code",
   "execution_count": 243,
   "id": "b4d55bb6",
   "metadata": {
    "ExecuteTime": {
     "end_time": "2023-02-13T14:32:16.150984Z",
     "start_time": "2023-02-13T14:32:16.123768Z"
    }
   },
   "outputs": [],
   "source": [
    "character_df = pd.read_pickle(pickle_path / '230203_character_movie_merge.pickle')\n",
    "movie_df = pd.read_pickle(pickle_path / '230130_Popular_movie_1192_cwj.pickle')\n",
    "watch_link =  pd.read_pickle(pickle_path / '230131_watch_link_4679_rows.pickle')\n",
    "character_info_df = pd.read_pickle(pickle_path / 'processed_ko_cha_info.pickle')"
   ]
  },
  {
   "cell_type": "code",
   "execution_count": 245,
   "id": "d334f949",
   "metadata": {
    "ExecuteTime": {
     "end_time": "2023-02-13T14:32:35.386499Z",
     "start_time": "2023-02-13T14:32:35.373903Z"
    }
   },
   "outputs": [
    {
     "data": {
      "text/html": [
       "<div>\n",
       "<style scoped>\n",
       "    .dataframe tbody tr th:only-of-type {\n",
       "        vertical-align: middle;\n",
       "    }\n",
       "\n",
       "    .dataframe tbody tr th {\n",
       "        vertical-align: top;\n",
       "    }\n",
       "\n",
       "    .dataframe thead th {\n",
       "        text-align: right;\n",
       "    }\n",
       "</style>\n",
       "<table border=\"1\" class=\"dataframe\">\n",
       "  <thead>\n",
       "    <tr style=\"text-align: right;\">\n",
       "      <th></th>\n",
       "      <th>Contents</th>\n",
       "      <th>ko_title</th>\n",
       "      <th>contents_year</th>\n",
       "      <th>country</th>\n",
       "      <th>ko_genre</th>\n",
       "      <th>ko_plot</th>\n",
       "      <th>rating</th>\n",
       "      <th>npop</th>\n",
       "      <th>genres</th>\n",
       "      <th>plot</th>\n",
       "      <th>directors</th>\n",
       "      <th>actors</th>\n",
       "      <th>movieId</th>\n",
       "    </tr>\n",
       "  </thead>\n",
       "  <tbody>\n",
       "    <tr>\n",
       "      <th>318</th>\n",
       "      <td>One Day (2011)</td>\n",
       "      <td>원 데이</td>\n",
       "      <td>2011</td>\n",
       "      <td>미국,영국</td>\n",
       "      <td>드라마/로맨스</td>\n",
       "      <td>“내일이 어떻게 되든 오늘은 함께 있잖아”</td>\n",
       "      <td>3.6</td>\n",
       "      <td>220000</td>\n",
       "      <td>'Drama', 'Romance'</td>\n",
       "      <td>After spending the night together on the night...</td>\n",
       "      <td>'Lone Scherfig'</td>\n",
       "      <td>'Anne Hathaway', 'Jim Sturgess', 'Tom Mison', ...</td>\n",
       "      <td>88179</td>\n",
       "    </tr>\n",
       "  </tbody>\n",
       "</table>\n",
       "</div>"
      ],
      "text/plain": [
       "           Contents ko_title  contents_year country ko_genre  \\\n",
       "318  One Day (2011)     원 데이           2011   미국,영국  드라마/로맨스   \n",
       "\n",
       "                      ko_plot rating    npop              genres  \\\n",
       "318  “내일이 어떻게 되든 오늘은 함께 있잖아”     3.6  220000  'Drama', 'Romance'   \n",
       "\n",
       "                                                  plot        directors  \\\n",
       "318  After spending the night together on the night...  'Lone Scherfig'   \n",
       "\n",
       "                                                actors  movieId  \n",
       "318  'Anne Hathaway', 'Jim Sturgess', 'Tom Mison', ...    88179  "
      ]
     },
     "execution_count": 245,
     "metadata": {},
     "output_type": "execute_result"
    }
   ],
   "source": [
    "movie_df[movie_df.movieId==88179]"
   ]
  },
  {
   "cell_type": "code",
   "execution_count": 201,
   "id": "b27369ec",
   "metadata": {
    "ExecuteTime": {
     "end_time": "2023-02-13T14:01:50.746839Z",
     "start_time": "2023-02-13T14:01:50.620319Z"
    }
   },
   "outputs": [
    {
     "name": "stdout",
     "output_type": "stream",
     "text": [
      "'230211_Abnormal_Data_Processing - 바로가기 링크 (1).csv'\r\n",
      "'230211_Abnormal_Data_Processing - 바로가기 링크.csv'\r\n",
      "'230211_Abnormal_Data_Processing - 영화 (1).csv'\r\n",
      "'230211_Abnormal_Data_Processing - 영화.csv'\r\n",
      "'230211_Abnormal_Data_Processing - 캐릭터 (1).csv'\r\n",
      "'230211_Abnormal_Data_Processing - 캐릭터.csv'\r\n"
     ]
    }
   ],
   "source": [
    "!ls changed_data/"
   ]
  },
  {
   "cell_type": "code",
   "execution_count": 219,
   "id": "4d390d5b",
   "metadata": {
    "ExecuteTime": {
     "end_time": "2023-02-13T14:02:55.936157Z",
     "start_time": "2023-02-13T14:02:55.858352Z"
    }
   },
   "outputs": [],
   "source": [
    "link = pd.read_csv('changed_data/230211_Abnormal_Data_Processing - 바로가기 링크 (1).csv')\n",
    "mdf = pd.read_csv('changed_data/230211_Abnormal_Data_Processing - 영화 (1).csv')\n",
    "cdf = pd.read_csv('changed_data/230211_Abnormal_Data_Processing - 캐릭터 (1).csv')"
   ]
  },
  {
   "cell_type": "code",
   "execution_count": 203,
   "id": "9bc222a0",
   "metadata": {
    "ExecuteTime": {
     "end_time": "2023-02-13T14:01:51.316085Z",
     "start_time": "2023-02-13T14:01:51.311964Z"
    }
   },
   "outputs": [
    {
     "data": {
      "text/plain": [
       "((4686, 5), (1192, 6), (2869, 9))"
      ]
     },
     "execution_count": 203,
     "metadata": {},
     "output_type": "execute_result"
    }
   ],
   "source": [
    "link.shape, mdf.shape, cdf.shape"
   ]
  },
  {
   "cell_type": "markdown",
   "id": "4cb3fd27",
   "metadata": {},
   "source": [
    "수정된 내용\n",
    "- 캐릭터 이름(name), 설명(desc) 변경 -> processed_ko_cha_info 변경\n",
    "- movieId에 따른 영화 제목, 설명 변경 -> 230130_Popular_movie_1192_cwj 변경\n",
    "- movieId에 따른 포스터 변경 -> django static img에 포스터파일로 저장하기\n",
    "- movieId에 따른 바로가기 링크 변경 -> 230131_watch_link_4679_rows 변경\n",
    "\n",
    "- CharacterId 행 삭제(캐릭터 삭제) -> 230203_character_movie_merge 에서 삭제\n",
    "- movieId 행 삭제(영화 삭제) -> 230130_Popular_movie_1192_cwj 에서 삭제"
   ]
  },
  {
   "cell_type": "markdown",
   "id": "29b74bf8",
   "metadata": {},
   "source": [
    "### 캐릭터 이름(name), 설명(desc) 변경 -> processed_ko_cha_info 변경"
   ]
  },
  {
   "cell_type": "code",
   "execution_count": 204,
   "id": "4fdd42c3",
   "metadata": {
    "ExecuteTime": {
     "end_time": "2023-02-13T14:01:52.647225Z",
     "start_time": "2023-02-13T14:01:52.634226Z"
    }
   },
   "outputs": [
    {
     "name": "stdout",
     "output_type": "stream",
     "text": [
      "(2867, 3)\n"
     ]
    },
    {
     "data": {
      "text/html": [
       "<div>\n",
       "<style scoped>\n",
       "    .dataframe tbody tr th:only-of-type {\n",
       "        vertical-align: middle;\n",
       "    }\n",
       "\n",
       "    .dataframe tbody tr th {\n",
       "        vertical-align: top;\n",
       "    }\n",
       "\n",
       "    .dataframe thead th {\n",
       "        text-align: right;\n",
       "    }\n",
       "</style>\n",
       "<table border=\"1\" class=\"dataframe\">\n",
       "  <thead>\n",
       "    <tr style=\"text-align: right;\">\n",
       "      <th></th>\n",
       "      <th>CharacterId</th>\n",
       "      <th>name</th>\n",
       "      <th>desc</th>\n",
       "    </tr>\n",
       "  </thead>\n",
       "  <tbody>\n",
       "    <tr>\n",
       "      <th>0</th>\n",
       "      <td>0</td>\n",
       "      <td>모아나 와이알리키</td>\n",
       "      <td>모아나는 태평양의 섬 마셰이의 왕자로, 자신의 섬을 위해 여행을 떠나는 주인공이다....</td>\n",
       "    </tr>\n",
       "    <tr>\n",
       "      <th>1</th>\n",
       "      <td>2</td>\n",
       "      <td>조이</td>\n",
       "      <td>조이는 라이언의 마음 속에 있는 기쁨을 나타내는 캐릭터로, 기쁨과 에너지가 넘치는 ...</td>\n",
       "    </tr>\n",
       "    <tr>\n",
       "      <th>2</th>\n",
       "      <td>3</td>\n",
       "      <td>주디 호프스</td>\n",
       "      <td>주디 호프스는 종족 차별을 극복하기 위해 도전하는 열정적인 토끼 주민입니다. 주디는...</td>\n",
       "    </tr>\n",
       "    <tr>\n",
       "      <th>3</th>\n",
       "      <td>4</td>\n",
       "      <td>엘 모어즈</td>\n",
       "      <td>엘 모어즈는 미국 버클리 대학교의 소셜학부 학생으로, 명문 로스앤젤레스 변호사가 되...</td>\n",
       "    </tr>\n",
       "    <tr>\n",
       "      <th>4</th>\n",
       "      <td>5</td>\n",
       "      <td>닐 페리</td>\n",
       "      <td>닐 페리는 뉴에이지 스쿨의 학생으로, 자신의 열정과 상상력을 통해 자신의 방향을 찾...</td>\n",
       "    </tr>\n",
       "  </tbody>\n",
       "</table>\n",
       "</div>"
      ],
      "text/plain": [
       "   CharacterId       name                                               desc\n",
       "0            0  모아나 와이알리키  모아나는 태평양의 섬 마셰이의 왕자로, 자신의 섬을 위해 여행을 떠나는 주인공이다....\n",
       "1            2         조이  조이는 라이언의 마음 속에 있는 기쁨을 나타내는 캐릭터로, 기쁨과 에너지가 넘치는 ...\n",
       "2            3     주디 호프스  주디 호프스는 종족 차별을 극복하기 위해 도전하는 열정적인 토끼 주민입니다. 주디는...\n",
       "3            4      엘 모어즈  엘 모어즈는 미국 버클리 대학교의 소셜학부 학생으로, 명문 로스앤젤레스 변호사가 되...\n",
       "4            5       닐 페리  닐 페리는 뉴에이지 스쿨의 학생으로, 자신의 열정과 상상력을 통해 자신의 방향을 찾..."
      ]
     },
     "execution_count": 204,
     "metadata": {},
     "output_type": "execute_result"
    }
   ],
   "source": [
    "cinfo = cdf[['CharacterId','name','desc']].dropna()\n",
    "cinfo.CharacterId = cinfo.CharacterId.astype(int)\n",
    "print(cinfo.shape)\n",
    "cinfo[:5]"
   ]
  },
  {
   "cell_type": "code",
   "execution_count": 205,
   "id": "7f0688c4",
   "metadata": {
    "ExecuteTime": {
     "end_time": "2023-02-13T14:01:53.029246Z",
     "start_time": "2023-02-13T14:01:53.027040Z"
    }
   },
   "outputs": [],
   "source": [
    "character_info_df2 = cinfo"
   ]
  },
  {
   "cell_type": "markdown",
   "id": "b2584766",
   "metadata": {},
   "source": [
    "### movieId에 따른 영화 제목, 설명 변경 -> 230130_Popular_movie_1192_cwj 변경"
   ]
  },
  {
   "cell_type": "code",
   "execution_count": 206,
   "id": "70d1a361",
   "metadata": {
    "ExecuteTime": {
     "end_time": "2023-02-13T14:01:55.725935Z",
     "start_time": "2023-02-13T14:01:55.699650Z"
    }
   },
   "outputs": [
    {
     "data": {
      "text/html": [
       "<div>\n",
       "<style scoped>\n",
       "    .dataframe tbody tr th:only-of-type {\n",
       "        vertical-align: middle;\n",
       "    }\n",
       "\n",
       "    .dataframe tbody tr th {\n",
       "        vertical-align: top;\n",
       "    }\n",
       "\n",
       "    .dataframe thead th {\n",
       "        text-align: right;\n",
       "    }\n",
       "</style>\n",
       "<table border=\"1\" class=\"dataframe\">\n",
       "  <thead>\n",
       "    <tr style=\"text-align: right;\">\n",
       "      <th></th>\n",
       "      <th>Contents</th>\n",
       "      <th>ko_title</th>\n",
       "      <th>contents_year</th>\n",
       "      <th>country</th>\n",
       "      <th>ko_genre</th>\n",
       "      <th>ko_plot</th>\n",
       "      <th>rating</th>\n",
       "      <th>npop</th>\n",
       "      <th>genres</th>\n",
       "      <th>plot</th>\n",
       "      <th>directors</th>\n",
       "      <th>actors</th>\n",
       "      <th>movieId</th>\n",
       "      <th>ko_title2</th>\n",
       "    </tr>\n",
       "  </thead>\n",
       "  <tbody>\n",
       "    <tr>\n",
       "      <th>15</th>\n",
       "      <td>Descendants (Franchise)</td>\n",
       "      <td>디센던트</td>\n",
       "      <td>2011</td>\n",
       "      <td>미국</td>\n",
       "      <td>코미디/드라마</td>\n",
       "      <td>그 동안 몰랐던 가족의 비밀을 알게 된 남자의 이야기! 잘 나가는 변호사 맷(조지 ...</td>\n",
       "      <td>3.6</td>\n",
       "      <td>20000</td>\n",
       "      <td>'Documentary', 'Sport'</td>\n",
       "      <td>NaN</td>\n",
       "      <td>'Brad Hennegan'</td>\n",
       "      <td>'Angela Sun'</td>\n",
       "      <td>140160</td>\n",
       "      <td>디센던츠</td>\n",
       "    </tr>\n",
       "    <tr>\n",
       "      <th>43</th>\n",
       "      <td>Run (2020)</td>\n",
       "      <td>런 온</td>\n",
       "      <td>2020</td>\n",
       "      <td>한국</td>\n",
       "      <td>드라마/TV드라마</td>\n",
       "      <td>같은 한국말을 쓰면서도 소통이 어려운 시대, 서로 다른 세계에 살던 사람들이 각자의...</td>\n",
       "      <td>3.8</td>\n",
       "      <td>10000</td>\n",
       "      <td>'Mystery', 'Thriller'</td>\n",
       "      <td>A homeschooled teenager begins to suspect her ...</td>\n",
       "      <td>'Aneesh Chaganty'</td>\n",
       "      <td>'Sarah Paulson', 'Kiera Allen', 'Sara Sohn', '...</td>\n",
       "      <td>7127</td>\n",
       "      <td>런</td>\n",
       "    </tr>\n",
       "    <tr>\n",
       "      <th>72</th>\n",
       "      <td>Z-O-M-B-I-E-S (2018)</td>\n",
       "      <td>기묘한 가족</td>\n",
       "      <td>2018</td>\n",
       "      <td>한국</td>\n",
       "      <td>코미디</td>\n",
       "      <td>망해버린 주유소의 트러블메이커 가장 '만덕'은 우연히 만난 좀비를 집안에 들인다. ...</td>\n",
       "      <td>3.0</td>\n",
       "      <td>20000</td>\n",
       "      <td>'Adventure', 'Family', 'Fantasy', 'Musical', '...</td>\n",
       "      <td>NaN</td>\n",
       "      <td>'Paul Hoen'</td>\n",
       "      <td>'Milo Manheim', 'Meg Donnelly', 'Trevor Tordjm...</td>\n",
       "      <td>300018</td>\n",
       "      <td>좀비스</td>\n",
       "    </tr>\n",
       "    <tr>\n",
       "      <th>96</th>\n",
       "      <td>Split (2016)</td>\n",
       "      <td>스플릿</td>\n",
       "      <td>2016</td>\n",
       "      <td>한국</td>\n",
       "      <td>드라마</td>\n",
       "      <td>과거 볼링계의 전설이라 불리며 이름을 날리던 ‘철종’은 불운의 사고로 모든 것을 잃...</td>\n",
       "      <td>3.3</td>\n",
       "      <td>70000</td>\n",
       "      <td>'Horror', 'Thriller'</td>\n",
       "      <td>NaN</td>\n",
       "      <td>'M. Night Shyamalan'</td>\n",
       "      <td>'James McAvoy', 'Anya Taylor-Joy', 'Betty Buck...</td>\n",
       "      <td>166534</td>\n",
       "      <td>23 아이덴티티</td>\n",
       "    </tr>\n",
       "    <tr>\n",
       "      <th>150</th>\n",
       "      <td>Azur &amp; Asmar</td>\n",
       "      <td>명탐정 코난:감벽의 관</td>\n",
       "      <td>2007</td>\n",
       "      <td>일본</td>\n",
       "      <td>애니메이션/미스터리</td>\n",
       "      <td>휴가를 맞아 300년 전 존재했던 해적과 숨겨진 보물의 전설이 전해지는 신해도를 찾...</td>\n",
       "      <td>3.2</td>\n",
       "      <td>20000</td>\n",
       "      <td>'Animation', 'Adventure', 'Family', 'Fantasy'</td>\n",
       "      <td>NaN</td>\n",
       "      <td>'Michel Ocelot', 'Ian McIntyre'</td>\n",
       "      <td>'Cyril Mourali', \"Karim M'Riba\", 'Hiam Abbass'...</td>\n",
       "      <td>55856</td>\n",
       "      <td>아주르와 아스마르</td>\n",
       "    </tr>\n",
       "    <tr>\n",
       "      <th>157</th>\n",
       "      <td>Hercules (franchise)</td>\n",
       "      <td>허큘리스</td>\n",
       "      <td>2014</td>\n",
       "      <td>미국,헝가리</td>\n",
       "      <td>액션/모험/판타지</td>\n",
       "      <td>그리스 신들의 능력을 타고난 ‘허큘리스’. 여신 헤라의 미움을 받아 맡겨진 불가능에...</td>\n",
       "      <td>2.9</td>\n",
       "      <td>20000</td>\n",
       "      <td>'Documentary'</td>\n",
       "      <td>NaN</td>\n",
       "      <td>'David Sheik'</td>\n",
       "      <td>'David Sheik'</td>\n",
       "      <td>1566</td>\n",
       "      <td>헤라클레스</td>\n",
       "    </tr>\n",
       "    <tr>\n",
       "      <th>189</th>\n",
       "      <td>Peppermint</td>\n",
       "      <td>박하사탕</td>\n",
       "      <td>1999</td>\n",
       "      <td>한국</td>\n",
       "      <td>드라마</td>\n",
       "      <td>스무 살 첫사랑, 그 순수로 떠나는 시간여행</td>\n",
       "      <td>3.7</td>\n",
       "      <td>180000</td>\n",
       "      <td>'Action', 'Thriller'</td>\n",
       "      <td>Five years after her husband and daughter are ...</td>\n",
       "      <td>'Pierre Morel'</td>\n",
       "      <td>'Jennifer Garner', 'John Gallagher Jr.', 'John...</td>\n",
       "      <td>191489</td>\n",
       "      <td>아이 엠 마더</td>\n",
       "    </tr>\n",
       "    <tr>\n",
       "      <th>469</th>\n",
       "      <td>Bill &amp; Ted (Franchise)</td>\n",
       "      <td>킬빌 2</td>\n",
       "      <td>2004</td>\n",
       "      <td>no_data</td>\n",
       "      <td>no_data</td>\n",
       "      <td>-</td>\n",
       "      <td>3.7</td>\n",
       "      <td>42</td>\n",
       "      <td>'Adventure', 'Comedy', 'Music', 'Sci-Fi'</td>\n",
       "      <td>Once told they'd save the universe during a ti...</td>\n",
       "      <td>'Dean Parisot'</td>\n",
       "      <td>'Keanu Reeves', 'Alex Winter', 'Kristen Schaal...</td>\n",
       "      <td>4571</td>\n",
       "      <td>엑설런트 어드벤쳐 3</td>\n",
       "    </tr>\n",
       "    <tr>\n",
       "      <th>599</th>\n",
       "      <td>Revenge</td>\n",
       "      <td>도쿄 리벤저스</td>\n",
       "      <td>2021</td>\n",
       "      <td>일본</td>\n",
       "      <td>애니메이션/액션/드라마</td>\n",
       "      <td>아르바이트를 전전하는 생활을 하던 주인공이 어느 날 사고를 당한 후 인생의 절정이었...</td>\n",
       "      <td>4.2</td>\n",
       "      <td>30000</td>\n",
       "      <td>'Drama', 'Mystery', 'Thriller'</td>\n",
       "      <td>An emotionally troubled young woman sets out t...</td>\n",
       "      <td>NaN</td>\n",
       "      <td>'Madeleine Stowe', 'Emily VanCamp', 'Gabriel M...</td>\n",
       "      <td>7032</td>\n",
       "      <td>리벤지</td>\n",
       "    </tr>\n",
       "    <tr>\n",
       "      <th>603</th>\n",
       "      <td>On The Edge</td>\n",
       "      <td>박수건달</td>\n",
       "      <td>2012</td>\n",
       "      <td>한국</td>\n",
       "      <td>코미디/범죄</td>\n",
       "      <td>보스에게 신임 받고, 동생들에게 사랑 받는 엘리트 건달 광호(박신양). 남 부러울 ...</td>\n",
       "      <td>3.1</td>\n",
       "      <td>490000</td>\n",
       "      <td>'Drama'</td>\n",
       "      <td>A contemporary urban thriller about the bloody...</td>\n",
       "      <td>'Giordano Gederlini'</td>\n",
       "      <td>'Antonio de la Torre', 'Marine Vacth', 'Olivie...</td>\n",
       "      <td>4724</td>\n",
       "      <td>세상 끝에서</td>\n",
       "    </tr>\n",
       "    <tr>\n",
       "      <th>614</th>\n",
       "      <td>CJ7 (2008)</td>\n",
       "      <td>CJ7 - 장강7호</td>\n",
       "      <td>2008</td>\n",
       "      <td>홍콩</td>\n",
       "      <td>코미디/드라마/가족</td>\n",
       "      <td>가난하지만 행복한 삶을 살고 있던 샤오디와 아빠(주성치)에게 찾아 온 뜻밖의 손님 ...</td>\n",
       "      <td>3.1</td>\n",
       "      <td>90000</td>\n",
       "      <td>'Adventure', 'Comedy', 'Drama', 'Family', 'Fan...</td>\n",
       "      <td>NaN</td>\n",
       "      <td>'Stephen Chow'</td>\n",
       "      <td>'Stephen Chow', 'Jiao Xu', 'Lei Huang', 'Yuqi ...</td>\n",
       "      <td>58652</td>\n",
       "      <td>장강7호</td>\n",
       "    </tr>\n",
       "    <tr>\n",
       "      <th>616</th>\n",
       "      <td>Kogustaki Mucize 7</td>\n",
       "      <td>7번방의 선물</td>\n",
       "      <td>2012</td>\n",
       "      <td>한국</td>\n",
       "      <td>드라마/코미디</td>\n",
       "      <td>최악의 흉악범들이 모인 교도소 7번방에 이상한 놈이 들어왔다. 그는 바로 6살 지능...</td>\n",
       "      <td>3.9</td>\n",
       "      <td>1640000</td>\n",
       "      <td>'Drama'</td>\n",
       "      <td>A story of love between a mentally-ill father ...</td>\n",
       "      <td>'Mehmet Ada Öztekin'</td>\n",
       "      <td>'Aras Bulut Iynemli', 'Nisa Sofiya Aksongur', ...</td>\n",
       "      <td>300386</td>\n",
       "      <td>7번방의 기적</td>\n",
       "    </tr>\n",
       "    <tr>\n",
       "      <th>825</th>\n",
       "      <td>The Ring (2002)</td>\n",
       "      <td>반지의 제왕 : 두 개의 탑</td>\n",
       "      <td>2002</td>\n",
       "      <td>미국,뉴질랜드,독일</td>\n",
       "      <td>판타지/드라마/액션/모험</td>\n",
       "      <td>모든 힘을 지배할 악의 군주 ‘사우론’의 절대반지가 깨어나고 악의 세력이 세상을 지...</td>\n",
       "      <td>4.2</td>\n",
       "      <td>590000</td>\n",
       "      <td>'Horror', 'Mystery'</td>\n",
       "      <td>A journalist must investigate a mysterious vid...</td>\n",
       "      <td>'Gore Verbinski'</td>\n",
       "      <td>'Naomi Watts', 'Martin Henderson', 'David Dorf...</td>\n",
       "      <td>151151</td>\n",
       "      <td>링</td>\n",
       "    </tr>\n",
       "    <tr>\n",
       "      <th>846</th>\n",
       "      <td>Desperado</td>\n",
       "      <td>내 깡패 같은 애인</td>\n",
       "      <td>2010</td>\n",
       "      <td>한국</td>\n",
       "      <td>로맨스/코미디/드라마</td>\n",
       "      <td>싸움 하나 제대로 못하지만, 입심 하난 끝내주는 삼류건달 동철(박중훈). 예전만큼 ...</td>\n",
       "      <td>3.3</td>\n",
       "      <td>230000</td>\n",
       "      <td>'Action', 'Crime', 'Thriller', 'Western'</td>\n",
       "      <td>Former musician and gunslinger El Mariachi arr...</td>\n",
       "      <td>'Robert Rodriguez'</td>\n",
       "      <td>'Antonio Banderas', 'Salma Hayek', 'Joaquim de...</td>\n",
       "      <td>163</td>\n",
       "      <td>원스 어폰 어 타임 인 멕시코</td>\n",
       "    </tr>\n",
       "    <tr>\n",
       "      <th>918</th>\n",
       "      <td>Midnight</td>\n",
       "      <td>비포 미드나잇</td>\n",
       "      <td>2013</td>\n",
       "      <td>미국</td>\n",
       "      <td>드라마/로맨스</td>\n",
       "      <td>우연히 시작된 사랑</td>\n",
       "      <td>3.9</td>\n",
       "      <td>160000</td>\n",
       "      <td>'Drama', 'Fantasy', 'Horror', 'Mystery'</td>\n",
       "      <td>An isolated island community experiences mirac...</td>\n",
       "      <td>NaN</td>\n",
       "      <td>'Kate Siegel', 'Zach Gilford', 'Kristin Lehman...</td>\n",
       "      <td>7578</td>\n",
       "      <td>미드나이트</td>\n",
       "    </tr>\n",
       "    <tr>\n",
       "      <th>961</th>\n",
       "      <td>After (Film Trilogy)</td>\n",
       "      <td>애프터 양</td>\n",
       "      <td>2021</td>\n",
       "      <td>미국</td>\n",
       "      <td>드라마/SF</td>\n",
       "      <td>함께 살던 안드로이드 인간 ‘양’이 어느 날 작동을 멈추자 제이크 가족은 그를 수리...</td>\n",
       "      <td>4.0</td>\n",
       "      <td>30000</td>\n",
       "      <td>'Short', 'Comedy'</td>\n",
       "      <td>NaN</td>\n",
       "      <td>NaN</td>\n",
       "      <td>'Adam Kaige', 'Jez Malpas', 'Ben Mansbridge', ...</td>\n",
       "      <td>133731</td>\n",
       "      <td>애프터</td>\n",
       "    </tr>\n",
       "    <tr>\n",
       "      <th>1090</th>\n",
       "      <td>6 Years</td>\n",
       "      <td>6년째 연애중</td>\n",
       "      <td>2007</td>\n",
       "      <td>한국</td>\n",
       "      <td>로맨스</td>\n",
       "      <td>다진과 재영의 때로는 뜨겁고, 때로는 격렬한 연애에 관한 모든 것!  연애질 6년차...</td>\n",
       "      <td>3.0</td>\n",
       "      <td>90000</td>\n",
       "      <td>'Drama', 'Romance'</td>\n",
       "      <td>NaN</td>\n",
       "      <td>'Hannah Fidell'</td>\n",
       "      <td>'Taissa Farmiga', 'Ben Rosenfield', 'Lindsay B...</td>\n",
       "      <td>141950</td>\n",
       "      <td>6년의 사랑</td>\n",
       "    </tr>\n",
       "    <tr>\n",
       "      <th>1187</th>\n",
       "      <td>Spider-Man (2017)</td>\n",
       "      <td>스파이더맨: 홈커밍</td>\n",
       "      <td>2017</td>\n",
       "      <td>미국</td>\n",
       "      <td>액션/모험/SF</td>\n",
       "      <td>‘시빌 워’ 당시 ‘토니 스타크’(로버트 다우니 주니어)에게 발탁되어 대단한 활약을...</td>\n",
       "      <td>4.1</td>\n",
       "      <td>870000</td>\n",
       "      <td>'Action', 'Adventure', 'Sci-Fi'</td>\n",
       "      <td>Peter Parker balances his life as an ordinary ...</td>\n",
       "      <td>'Jon Watts'</td>\n",
       "      <td>'Tom Holland', 'Michael Keaton', 'Robert Downe...</td>\n",
       "      <td>300997</td>\n",
       "      <td>스파이더맨: 뉴 유니버스</td>\n",
       "    </tr>\n",
       "  </tbody>\n",
       "</table>\n",
       "</div>"
      ],
      "text/plain": [
       "                     Contents         ko_title  contents_year     country  \\\n",
       "15    Descendants (Franchise)             디센던트           2011          미국   \n",
       "43                 Run (2020)              런 온           2020          한국   \n",
       "72       Z-O-M-B-I-E-S (2018)           기묘한 가족           2018          한국   \n",
       "96               Split (2016)              스플릿           2016          한국   \n",
       "150              Azur & Asmar     명탐정 코난:감벽의 관           2007          일본   \n",
       "157      Hercules (franchise)             허큘리스           2014      미국,헝가리   \n",
       "189                Peppermint             박하사탕           1999          한국   \n",
       "469    Bill & Ted (Franchise)             킬빌 2           2004     no_data   \n",
       "599                   Revenge          도쿄 리벤저스           2021          일본   \n",
       "603               On The Edge             박수건달           2012          한국   \n",
       "614                CJ7 (2008)       CJ7 - 장강7호           2008          홍콩   \n",
       "616        Kogustaki Mucize 7          7번방의 선물           2012          한국   \n",
       "825           The Ring (2002)  반지의 제왕 : 두 개의 탑           2002  미국,뉴질랜드,독일   \n",
       "846                 Desperado       내 깡패 같은 애인           2010          한국   \n",
       "918                  Midnight          비포 미드나잇           2013          미국   \n",
       "961      After (Film Trilogy)            애프터 양           2021          미국   \n",
       "1090                  6 Years          6년째 연애중           2007          한국   \n",
       "1187        Spider-Man (2017)       스파이더맨: 홈커밍           2017          미국   \n",
       "\n",
       "           ko_genre                                            ko_plot rating  \\\n",
       "15          코미디/드라마  그 동안 몰랐던 가족의 비밀을 알게 된 남자의 이야기! 잘 나가는 변호사 맷(조지 ...    3.6   \n",
       "43        드라마/TV드라마  같은 한국말을 쓰면서도 소통이 어려운 시대, 서로 다른 세계에 살던 사람들이 각자의...    3.8   \n",
       "72              코미디  망해버린 주유소의 트러블메이커 가장 '만덕'은 우연히 만난 좀비를 집안에 들인다. ...    3.0   \n",
       "96              드라마  과거 볼링계의 전설이라 불리며 이름을 날리던 ‘철종’은 불운의 사고로 모든 것을 잃...    3.3   \n",
       "150      애니메이션/미스터리  휴가를 맞아 300년 전 존재했던 해적과 숨겨진 보물의 전설이 전해지는 신해도를 찾...    3.2   \n",
       "157       액션/모험/판타지  그리스 신들의 능력을 타고난 ‘허큘리스’. 여신 헤라의 미움을 받아 맡겨진 불가능에...    2.9   \n",
       "189             드라마                           스무 살 첫사랑, 그 순수로 떠나는 시간여행    3.7   \n",
       "469         no_data                                                  -    3.7   \n",
       "599    애니메이션/액션/드라마  아르바이트를 전전하는 생활을 하던 주인공이 어느 날 사고를 당한 후 인생의 절정이었...    4.2   \n",
       "603          코미디/범죄  보스에게 신임 받고, 동생들에게 사랑 받는 엘리트 건달 광호(박신양). 남 부러울 ...    3.1   \n",
       "614      코미디/드라마/가족  가난하지만 행복한 삶을 살고 있던 샤오디와 아빠(주성치)에게 찾아 온 뜻밖의 손님 ...    3.1   \n",
       "616         드라마/코미디  최악의 흉악범들이 모인 교도소 7번방에 이상한 놈이 들어왔다. 그는 바로 6살 지능...    3.9   \n",
       "825   판타지/드라마/액션/모험  모든 힘을 지배할 악의 군주 ‘사우론’의 절대반지가 깨어나고 악의 세력이 세상을 지...    4.2   \n",
       "846     로맨스/코미디/드라마  싸움 하나 제대로 못하지만, 입심 하난 끝내주는 삼류건달 동철(박중훈). 예전만큼 ...    3.3   \n",
       "918         드라마/로맨스                                         우연히 시작된 사랑    3.9   \n",
       "961          드라마/SF  함께 살던 안드로이드 인간 ‘양’이 어느 날 작동을 멈추자 제이크 가족은 그를 수리...    4.0   \n",
       "1090            로맨스  다진과 재영의 때로는 뜨겁고, 때로는 격렬한 연애에 관한 모든 것!  연애질 6년차...    3.0   \n",
       "1187       액션/모험/SF  ‘시빌 워’ 당시 ‘토니 스타크’(로버트 다우니 주니어)에게 발탁되어 대단한 활약을...    4.1   \n",
       "\n",
       "         npop                                             genres  \\\n",
       "15      20000                             'Documentary', 'Sport'   \n",
       "43      10000                              'Mystery', 'Thriller'   \n",
       "72      20000  'Adventure', 'Family', 'Fantasy', 'Musical', '...   \n",
       "96      70000                               'Horror', 'Thriller'   \n",
       "150     20000      'Animation', 'Adventure', 'Family', 'Fantasy'   \n",
       "157     20000                                      'Documentary'   \n",
       "189    180000                               'Action', 'Thriller'   \n",
       "469        42           'Adventure', 'Comedy', 'Music', 'Sci-Fi'   \n",
       "599     30000                     'Drama', 'Mystery', 'Thriller'   \n",
       "603    490000                                            'Drama'   \n",
       "614     90000  'Adventure', 'Comedy', 'Drama', 'Family', 'Fan...   \n",
       "616   1640000                                            'Drama'   \n",
       "825    590000                                'Horror', 'Mystery'   \n",
       "846    230000           'Action', 'Crime', 'Thriller', 'Western'   \n",
       "918    160000            'Drama', 'Fantasy', 'Horror', 'Mystery'   \n",
       "961     30000                                  'Short', 'Comedy'   \n",
       "1090    90000                                 'Drama', 'Romance'   \n",
       "1187   870000                    'Action', 'Adventure', 'Sci-Fi'   \n",
       "\n",
       "                                                   plot  \\\n",
       "15                                                  NaN   \n",
       "43    A homeschooled teenager begins to suspect her ...   \n",
       "72                                                  NaN   \n",
       "96                                                  NaN   \n",
       "150                                                 NaN   \n",
       "157                                                 NaN   \n",
       "189   Five years after her husband and daughter are ...   \n",
       "469   Once told they'd save the universe during a ti...   \n",
       "599   An emotionally troubled young woman sets out t...   \n",
       "603   A contemporary urban thriller about the bloody...   \n",
       "614                                                 NaN   \n",
       "616   A story of love between a mentally-ill father ...   \n",
       "825   A journalist must investigate a mysterious vid...   \n",
       "846   Former musician and gunslinger El Mariachi arr...   \n",
       "918   An isolated island community experiences mirac...   \n",
       "961                                                 NaN   \n",
       "1090                                                NaN   \n",
       "1187  Peter Parker balances his life as an ordinary ...   \n",
       "\n",
       "                            directors  \\\n",
       "15                    'Brad Hennegan'   \n",
       "43                  'Aneesh Chaganty'   \n",
       "72                        'Paul Hoen'   \n",
       "96               'M. Night Shyamalan'   \n",
       "150   'Michel Ocelot', 'Ian McIntyre'   \n",
       "157                     'David Sheik'   \n",
       "189                    'Pierre Morel'   \n",
       "469                    'Dean Parisot'   \n",
       "599                               NaN   \n",
       "603              'Giordano Gederlini'   \n",
       "614                    'Stephen Chow'   \n",
       "616              'Mehmet Ada Öztekin'   \n",
       "825                  'Gore Verbinski'   \n",
       "846                'Robert Rodriguez'   \n",
       "918                               NaN   \n",
       "961                               NaN   \n",
       "1090                  'Hannah Fidell'   \n",
       "1187                      'Jon Watts'   \n",
       "\n",
       "                                                 actors  movieId  \\\n",
       "15                                         'Angela Sun'   140160   \n",
       "43    'Sarah Paulson', 'Kiera Allen', 'Sara Sohn', '...     7127   \n",
       "72    'Milo Manheim', 'Meg Donnelly', 'Trevor Tordjm...   300018   \n",
       "96    'James McAvoy', 'Anya Taylor-Joy', 'Betty Buck...   166534   \n",
       "150   'Cyril Mourali', \"Karim M'Riba\", 'Hiam Abbass'...    55856   \n",
       "157                                       'David Sheik'     1566   \n",
       "189   'Jennifer Garner', 'John Gallagher Jr.', 'John...   191489   \n",
       "469   'Keanu Reeves', 'Alex Winter', 'Kristen Schaal...     4571   \n",
       "599   'Madeleine Stowe', 'Emily VanCamp', 'Gabriel M...     7032   \n",
       "603   'Antonio de la Torre', 'Marine Vacth', 'Olivie...     4724   \n",
       "614   'Stephen Chow', 'Jiao Xu', 'Lei Huang', 'Yuqi ...    58652   \n",
       "616   'Aras Bulut Iynemli', 'Nisa Sofiya Aksongur', ...   300386   \n",
       "825   'Naomi Watts', 'Martin Henderson', 'David Dorf...   151151   \n",
       "846   'Antonio Banderas', 'Salma Hayek', 'Joaquim de...      163   \n",
       "918   'Kate Siegel', 'Zach Gilford', 'Kristin Lehman...     7578   \n",
       "961   'Adam Kaige', 'Jez Malpas', 'Ben Mansbridge', ...   133731   \n",
       "1090  'Taissa Farmiga', 'Ben Rosenfield', 'Lindsay B...   141950   \n",
       "1187  'Tom Holland', 'Michael Keaton', 'Robert Downe...   300997   \n",
       "\n",
       "             ko_title2  \n",
       "15                디센던츠  \n",
       "43                   런  \n",
       "72                 좀비스  \n",
       "96            23 아이덴티티  \n",
       "150          아주르와 아스마르  \n",
       "157              헤라클레스  \n",
       "189            아이 엠 마더  \n",
       "469        엑설런트 어드벤쳐 3  \n",
       "599                리벤지  \n",
       "603             세상 끝에서  \n",
       "614               장강7호  \n",
       "616            7번방의 기적  \n",
       "825                  링  \n",
       "846   원스 어폰 어 타임 인 멕시코  \n",
       "918              미드나이트  \n",
       "961                애프터  \n",
       "1090            6년의 사랑  \n",
       "1187     스파이더맨: 뉴 유니버스  "
      ]
     },
     "execution_count": 206,
     "metadata": {},
     "output_type": "execute_result"
    }
   ],
   "source": [
    "ko_title_dict = dict(zip(mdf.movieId,mdf.ko_title))\n",
    "ko_plot_dict = dict(zip(mdf.movieId,mdf.ko_plot))\n",
    "\n",
    "# ko_title 수정 및 다른거 확인\n",
    "movie_df['ko_title2'] = movie_df.movieId.map(ko_title_dict)\n",
    "movie_df[movie_df.ko_title!=movie_df.ko_title2]"
   ]
  },
  {
   "cell_type": "code",
   "execution_count": 207,
   "id": "41d8a29d",
   "metadata": {
    "ExecuteTime": {
     "end_time": "2023-02-13T14:02:04.363854Z",
     "start_time": "2023-02-13T14:02:04.358332Z"
    }
   },
   "outputs": [],
   "source": [
    "# ko_title2를 ko_title로 변경 후 drop\n",
    "movie_df.ko_title = movie_df.ko_title2\n",
    "movie_df.drop('ko_title2',axis=1,inplace=True)"
   ]
  },
  {
   "cell_type": "code",
   "execution_count": null,
   "id": "09bd463a",
   "metadata": {},
   "outputs": [],
   "source": []
  },
  {
   "cell_type": "code",
   "execution_count": 208,
   "id": "7ddf6124",
   "metadata": {
    "ExecuteTime": {
     "end_time": "2023-02-13T14:02:07.731866Z",
     "start_time": "2023-02-13T14:02:07.723568Z"
    }
   },
   "outputs": [
    {
     "data": {
      "text/plain": [
       "(119, 14)"
      ]
     },
     "execution_count": 208,
     "metadata": {},
     "output_type": "execute_result"
    }
   ],
   "source": [
    "# ko_plot2로 변경 및 바뀐 것 shape 확인\n",
    "movie_df['ko_plot2'] = movie_df.movieId.map(ko_plot_dict)\n",
    "movie_df[movie_df.ko_plot != movie_df.ko_plot2].shape"
   ]
  },
  {
   "cell_type": "code",
   "execution_count": 209,
   "id": "41160832",
   "metadata": {
    "ExecuteTime": {
     "end_time": "2023-02-13T14:02:09.898959Z",
     "start_time": "2023-02-13T14:02:09.890127Z"
    }
   },
   "outputs": [
    {
     "data": {
      "text/plain": [
       "(0, 14)"
      ]
     },
     "execution_count": 209,
     "metadata": {},
     "output_type": "execute_result"
    }
   ],
   "source": [
    "# ko_plot2 정제 및 ko_plot으로 변경\n",
    "movie_df.ko_plot2 = movie_df.ko_plot2.str.replace('\\n',' ')\n",
    "movie_df.ko_plot = movie_df.ko_plot2\n",
    "# 다 잘 바뀌었는지 shape 확인 -> 0 나와야된다.\n",
    "movie_df[movie_df.ko_plot != movie_df.ko_plot2].shape"
   ]
  },
  {
   "cell_type": "code",
   "execution_count": 210,
   "id": "5195d210",
   "metadata": {
    "ExecuteTime": {
     "end_time": "2023-02-13T14:02:11.675941Z",
     "start_time": "2023-02-13T14:02:11.672038Z"
    }
   },
   "outputs": [],
   "source": [
    "movie_df.drop('ko_plot2',axis=1,inplace=True)"
   ]
  },
  {
   "cell_type": "markdown",
   "id": "d36dbd9c",
   "metadata": {},
   "source": [
    "### movieId에 따른 포스터 변경 -> django static img에 포스터파일로 저장하기"
   ]
  },
  {
   "cell_type": "code",
   "execution_count": 211,
   "id": "c0430220",
   "metadata": {
    "ExecuteTime": {
     "end_time": "2023-02-13T14:02:14.439515Z",
     "start_time": "2023-02-13T14:02:14.428334Z"
    }
   },
   "outputs": [
    {
     "data": {
      "text/html": [
       "<div>\n",
       "<style scoped>\n",
       "    .dataframe tbody tr th:only-of-type {\n",
       "        vertical-align: middle;\n",
       "    }\n",
       "\n",
       "    .dataframe tbody tr th {\n",
       "        vertical-align: top;\n",
       "    }\n",
       "\n",
       "    .dataframe thead th {\n",
       "        text-align: right;\n",
       "    }\n",
       "</style>\n",
       "<table border=\"1\" class=\"dataframe\">\n",
       "  <thead>\n",
       "    <tr style=\"text-align: right;\">\n",
       "      <th></th>\n",
       "      <th>movieId</th>\n",
       "      <th>ko_title</th>\n",
       "      <th>ko_plot</th>\n",
       "      <th>대체 포스터 링크</th>\n",
       "      <th>삭제여부</th>\n",
       "      <th>Unnamed: 5</th>\n",
       "    </tr>\n",
       "  </thead>\n",
       "  <tbody>\n",
       "    <tr>\n",
       "      <th>6</th>\n",
       "      <td>123</td>\n",
       "      <td>중경삼림 리마스터링</td>\n",
       "      <td>1994년 홍콩, “내 사랑의 유통기한은 만 년으로 하고 싶다”\\n만우절의 이별 통...</td>\n",
       "      <td>https://an2-img.amz.wtchn.net/image/v2/icQfbj1...</td>\n",
       "      <td>수정</td>\n",
       "      <td>NaN</td>\n",
       "    </tr>\n",
       "    <tr>\n",
       "      <th>8</th>\n",
       "      <td>163</td>\n",
       "      <td>원스 어폰 어 타임 인 멕시코</td>\n",
       "      <td>악몽과 비극적 상처를 가슴에 안고 유령처럼 숨어서 사는 엘 마리아치는 CIA 요원 ...</td>\n",
       "      <td>https://an2-img.amz.wtchn.net/image/v2/lhtwGYD...</td>\n",
       "      <td>수정</td>\n",
       "      <td>NaN</td>\n",
       "    </tr>\n",
       "    <tr>\n",
       "      <th>24</th>\n",
       "      <td>587</td>\n",
       "      <td>사랑과 영혼</td>\n",
       "      <td>금융전문가로 일하는 샘(페트릭 스웨이지)과 도예가인 몰리(데미 무어)는 동거생활을 ...</td>\n",
       "      <td>https://an2-img.amz.wtchn.net/image/v2/wxpK0Wb...</td>\n",
       "      <td>NaN</td>\n",
       "      <td>NaN</td>\n",
       "    </tr>\n",
       "  </tbody>\n",
       "</table>\n",
       "</div>"
      ],
      "text/plain": [
       "    movieId          ko_title  \\\n",
       "6       123        중경삼림 리마스터링   \n",
       "8       163  원스 어폰 어 타임 인 멕시코   \n",
       "24      587            사랑과 영혼   \n",
       "\n",
       "                                              ko_plot  \\\n",
       "6   1994년 홍콩, “내 사랑의 유통기한은 만 년으로 하고 싶다”\\n만우절의 이별 통...   \n",
       "8   악몽과 비극적 상처를 가슴에 안고 유령처럼 숨어서 사는 엘 마리아치는 CIA 요원 ...   \n",
       "24  금융전문가로 일하는 샘(페트릭 스웨이지)과 도예가인 몰리(데미 무어)는 동거생활을 ...   \n",
       "\n",
       "                                            대체 포스터 링크 삭제여부 Unnamed: 5  \n",
       "6   https://an2-img.amz.wtchn.net/image/v2/icQfbj1...   수정        NaN  \n",
       "8   https://an2-img.amz.wtchn.net/image/v2/lhtwGYD...   수정        NaN  \n",
       "24  https://an2-img.amz.wtchn.net/image/v2/wxpK0Wb...  NaN        NaN  "
      ]
     },
     "execution_count": 211,
     "metadata": {},
     "output_type": "execute_result"
    }
   ],
   "source": [
    "## 대체 포스터 링크 있는 애들\n",
    "mdf_poster = mdf[mdf['대체 포스터 링크'].str.contains('http').fillna(False)]\n",
    "mdf_poster[:3]"
   ]
  },
  {
   "cell_type": "code",
   "execution_count": 212,
   "id": "aa23eaa6",
   "metadata": {
    "ExecuteTime": {
     "end_time": "2023-02-13T14:02:21.116804Z",
     "start_time": "2023-02-13T14:02:19.069550Z"
    }
   },
   "outputs": [
    {
     "name": "stdout",
     "output_type": "stream",
     "text": [
      "123_chungking_express.png\n",
      "163_desperado.png\n",
      "587_ghost.png\n",
      "1566_hercules.png\n",
      "1784_as_good_as_it_gets.png\n",
      "2252_hero.png\n",
      "2273_rush_hour.png\n",
      "2366_king_kong.png\n",
      "3418_thelma_louise.png\n",
      "3462_modern_times.png\n",
      "4014_chocolat.png\n",
      "4334_yi_yi.png\n",
      "4571_bill_ted.png\n",
      "5502_signs.png\n",
      "6890_elephant.png\n",
      "6975_funny_games.png\n",
      "7147_big_fish.png\n",
      "7579_pride_and_prejudice.png\n",
      "32707_blue.png\n",
      "32770_brothers.png\n",
      "35957_red_eye.png\n",
      "43560_nanny_mcphee.png\n",
      "45081_silent_hill.png\n",
      "53996_transformers.png\n",
      "54503_superbad.png\n",
      "55856_azur_asmar.png\n",
      "75395_frozen.png\n",
      "86817_something_borrowed.png\n",
      "91067_spy.png\n",
      "94015_mirror_mirror.png\n",
      "102720_epic.png\n",
      "104863_what_if.png\n",
      "105844_12_years_a_slave.png\n",
      "107771_only_lovers_left_alive.png\n",
      "130636_unfriended.png\n",
      "131654_the_village.png\n",
      "140160_descendants.png\n",
      "140174_room.png\n",
      "140267_the_witch.png\n",
      "142827_waves.png\n",
      "162416_big_fish_begonia.png\n",
      "162814_the_king.png\n",
      "166534_split.png\n",
      "176419_mother.png\n",
      "179089_the_hunt.png\n",
      "183651_truth_or_dare.png\n",
      "191489_peppermint.png\n",
      "192803_bohemian_rhapsody.png\n",
      "300018_ZOMBIES.png\n",
      "300386_Miracle_in_Cell_No_7.png\n",
      "300997_SpiderMan_Homecoming.png\n"
     ]
    }
   ],
   "source": [
    "# 파일로 쓰기\n",
    "for mid,img_src in zip(mdf_poster.movieId,mdf_poster['대체 포스터 링크']):\n",
    "    filename = [i for i in movie_pngs if i.startswith(f\"{mid}_\")][0]\n",
    "    urllib.request.urlretrieve(img_src, f\"changed_movie_poster/{filename}.png\")\n",
    "    print(filename)"
   ]
  },
  {
   "cell_type": "code",
   "execution_count": 213,
   "id": "91eb99fe",
   "metadata": {
    "ExecuteTime": {
     "end_time": "2023-02-13T14:02:27.778759Z",
     "start_time": "2023-02-13T14:02:27.614930Z"
    }
   },
   "outputs": [
    {
     "name": "stdout",
     "output_type": "stream",
     "text": [
      "3437\r\n"
     ]
    }
   ],
   "source": [
    "!ls -l /opt/ml/project/django/static/img/ | wc -l"
   ]
  },
  {
   "cell_type": "code",
   "execution_count": 214,
   "id": "8c2bf48f",
   "metadata": {
    "ExecuteTime": {
     "end_time": "2023-02-13T14:02:29.089012Z",
     "start_time": "2023-02-13T14:02:28.948969Z"
    }
   },
   "outputs": [],
   "source": [
    "cp -f changed_movie_poster/* /opt/ml/project/django/static/img/"
   ]
  },
  {
   "cell_type": "code",
   "execution_count": 215,
   "id": "2a80e6d9",
   "metadata": {
    "ExecuteTime": {
     "end_time": "2023-02-13T14:02:29.945672Z",
     "start_time": "2023-02-13T14:02:29.780628Z"
    }
   },
   "outputs": [
    {
     "name": "stdout",
     "output_type": "stream",
     "text": [
      "3441\r\n"
     ]
    }
   ],
   "source": [
    "!ls -l /opt/ml/project/django/static/img/ | wc -l"
   ]
  },
  {
   "cell_type": "markdown",
   "id": "6161363a",
   "metadata": {},
   "source": [
    "### movieId에 따른 바로가기 링크 변경 -> 230131_watch_link_4679_rows 변경"
   ]
  },
  {
   "cell_type": "code",
   "execution_count": 220,
   "id": "4e4b48cf",
   "metadata": {
    "ExecuteTime": {
     "end_time": "2023-02-13T14:03:11.645306Z",
     "start_time": "2023-02-13T14:03:11.637317Z"
    }
   },
   "outputs": [
    {
     "data": {
      "text/html": [
       "<div>\n",
       "<style scoped>\n",
       "    .dataframe tbody tr th:only-of-type {\n",
       "        vertical-align: middle;\n",
       "    }\n",
       "\n",
       "    .dataframe tbody tr th {\n",
       "        vertical-align: top;\n",
       "    }\n",
       "\n",
       "    .dataframe thead th {\n",
       "        text-align: right;\n",
       "    }\n",
       "</style>\n",
       "<table border=\"1\" class=\"dataframe\">\n",
       "  <thead>\n",
       "    <tr style=\"text-align: right;\">\n",
       "      <th></th>\n",
       "      <th>title</th>\n",
       "      <th>platform</th>\n",
       "      <th>link</th>\n",
       "      <th>movieId</th>\n",
       "    </tr>\n",
       "  </thead>\n",
       "  <tbody>\n",
       "    <tr>\n",
       "      <th>0</th>\n",
       "      <td>moana</td>\n",
       "      <td>디즈니+</td>\n",
       "      <td>https://disneyplus.bn5x.net/c/3581330/1182069/...</td>\n",
       "      <td>73141</td>\n",
       "    </tr>\n",
       "  </tbody>\n",
       "</table>\n",
       "</div>"
      ],
      "text/plain": [
       "   title platform                                               link  movieId\n",
       "0  moana     디즈니+  https://disneyplus.bn5x.net/c/3581330/1182069/...    73141"
      ]
     },
     "execution_count": 220,
     "metadata": {},
     "output_type": "execute_result"
    }
   ],
   "source": [
    "watch_link[:1]"
   ]
  },
  {
   "cell_type": "code",
   "execution_count": 221,
   "id": "fb97ecb9",
   "metadata": {
    "ExecuteTime": {
     "end_time": "2023-02-13T14:03:13.085145Z",
     "start_time": "2023-02-13T14:03:13.078860Z"
    }
   },
   "outputs": [],
   "source": [
    "# 삭제 빼고 링크 변경\n",
    "link2 = link[link['수정/삭제 여부']!='삭제']\n",
    "link2 = link2[['movieId','platform','link']]"
   ]
  },
  {
   "cell_type": "code",
   "execution_count": 222,
   "id": "7920c317",
   "metadata": {
    "ExecuteTime": {
     "end_time": "2023-02-13T14:03:14.255857Z",
     "start_time": "2023-02-13T14:03:14.252402Z"
    }
   },
   "outputs": [
    {
     "data": {
      "text/plain": [
       "((4679, 4), (4665, 3))"
      ]
     },
     "execution_count": 222,
     "metadata": {},
     "output_type": "execute_result"
    }
   ],
   "source": [
    "watch_link.shape, link2.shape"
   ]
  },
  {
   "cell_type": "markdown",
   "id": "fed10d33",
   "metadata": {},
   "source": [
    "### CharacterId 행 삭제(캐릭터 삭제) -> 230203_character_movie_merge 에서 삭제"
   ]
  },
  {
   "cell_type": "code",
   "execution_count": 223,
   "id": "e2472820",
   "metadata": {
    "ExecuteTime": {
     "end_time": "2023-02-13T14:03:17.012181Z",
     "start_time": "2023-02-13T14:03:17.003822Z"
    }
   },
   "outputs": [
    {
     "name": "stdout",
     "output_type": "stream",
     "text": [
      "[11.0, 618.0, 6317.0, 15174.0, 19495.0, 19499.0, 19509.0, 24088.0, 17955.0, 18236.0, 18469.0, 21461.0, 21577.0, 21936.0, 22026.0]\n"
     ]
    },
    {
     "data": {
      "text/plain": [
       "15"
      ]
     },
     "execution_count": 223,
     "metadata": {},
     "output_type": "execute_result"
    }
   ],
   "source": [
    "# 삭제 되는 캐릭터 ID들과 그 개수\n",
    "remove_cid = cdf[cdf['수정/삭제 여부'].str.contains('삭제').fillna(False)].CharacterId.tolist()\n",
    "print(remove_cid)\n",
    "len(remove_cid)"
   ]
  },
  {
   "cell_type": "code",
   "execution_count": 224,
   "id": "e16497ff",
   "metadata": {
    "ExecuteTime": {
     "end_time": "2023-02-13T14:03:17.904805Z",
     "start_time": "2023-02-13T14:03:17.898771Z"
    }
   },
   "outputs": [
    {
     "data": {
      "text/plain": [
       "(15, 12)"
      ]
     },
     "execution_count": 224,
     "metadata": {},
     "output_type": "execute_result"
    }
   ],
   "source": [
    "# dataframe에서 개수 맞는지 확인\n",
    "character_df[character_df.CharacterId.isin(remove_cid)].shape"
   ]
  },
  {
   "cell_type": "code",
   "execution_count": 225,
   "id": "61323a37",
   "metadata": {
    "ExecuteTime": {
     "end_time": "2023-02-13T14:03:20.139261Z",
     "start_time": "2023-02-13T14:03:20.133424Z"
    }
   },
   "outputs": [
    {
     "data": {
      "text/plain": [
       "(2852, 12)"
      ]
     },
     "execution_count": 225,
     "metadata": {},
     "output_type": "execute_result"
    }
   ],
   "source": [
    "# 캐릭터 삭제\n",
    "character_df2 = character_df[~character_df.CharacterId.isin(remove_cid)]\n",
    "character_df2.shape"
   ]
  },
  {
   "cell_type": "markdown",
   "id": "d264efaa",
   "metadata": {},
   "source": [
    "### movieId 행 삭제(영화 삭제) -> 230130_Popular_movie_1192_cwj 에서 삭제"
   ]
  },
  {
   "cell_type": "code",
   "execution_count": 226,
   "id": "de71c2f8",
   "metadata": {
    "ExecuteTime": {
     "end_time": "2023-02-13T14:03:30.017347Z",
     "start_time": "2023-02-13T14:03:29.996713Z"
    }
   },
   "outputs": [
    {
     "data": {
      "text/html": [
       "<div>\n",
       "<style scoped>\n",
       "    .dataframe tbody tr th:only-of-type {\n",
       "        vertical-align: middle;\n",
       "    }\n",
       "\n",
       "    .dataframe tbody tr th {\n",
       "        vertical-align: top;\n",
       "    }\n",
       "\n",
       "    .dataframe thead th {\n",
       "        text-align: right;\n",
       "    }\n",
       "</style>\n",
       "<table border=\"1\" class=\"dataframe\">\n",
       "  <thead>\n",
       "    <tr style=\"text-align: right;\">\n",
       "      <th></th>\n",
       "      <th>movieId</th>\n",
       "      <th>ko_title</th>\n",
       "      <th>ko_plot</th>\n",
       "      <th>대체 포스터 링크</th>\n",
       "      <th>삭제여부</th>\n",
       "      <th>Unnamed: 5</th>\n",
       "    </tr>\n",
       "  </thead>\n",
       "  <tbody>\n",
       "    <tr>\n",
       "      <th>89</th>\n",
       "      <td>2148</td>\n",
       "      <td>벌새</td>\n",
       "      <td>성수대교가 무너졌던 1994년, 중학생 은희는 방앗간을 하는 부모님 그리고 언니, ...</td>\n",
       "      <td>NaN</td>\n",
       "      <td>삭제</td>\n",
       "      <td>NaN</td>\n",
       "    </tr>\n",
       "    <tr>\n",
       "      <th>131</th>\n",
       "      <td>3720</td>\n",
       "      <td>밀양</td>\n",
       "      <td>신애는 교통사고로 죽어버린 남편의 고향 밀양으로 아들 준을 데리고 이사한다. 오는 ...</td>\n",
       "      <td>NaN</td>\n",
       "      <td>삭제</td>\n",
       "      <td>NaN</td>\n",
       "    </tr>\n",
       "    <tr>\n",
       "      <th>141</th>\n",
       "      <td>3967</td>\n",
       "      <td>빌리 엘리어트</td>\n",
       "      <td>파업에 돌입한 탄광 노동조합과 정부 사이의 대립이 팽팽한 영국 북부의 작은 마을. ...</td>\n",
       "      <td>NaN</td>\n",
       "      <td>삭제</td>\n",
       "      <td>NaN</td>\n",
       "    </tr>\n",
       "    <tr>\n",
       "      <th>250</th>\n",
       "      <td>7032</td>\n",
       "      <td>리벤지</td>\n",
       "      <td>바비인형의 외모를 가진 제니퍼는 애인의 사냥 행사에 동행하고 애인 친구들의 질퍽한 ...</td>\n",
       "      <td>NaN</td>\n",
       "      <td>삭제</td>\n",
       "      <td>NaN</td>\n",
       "    </tr>\n",
       "    <tr>\n",
       "      <th>253</th>\n",
       "      <td>7127</td>\n",
       "      <td>런</td>\n",
       "      <td>가장 안전했던 그곳이 가장 위험한 공간이 된다! 태어날 때부터 장애 때문에 휠체어를...</td>\n",
       "      <td>NaN</td>\n",
       "      <td>삭제</td>\n",
       "      <td>NaN</td>\n",
       "    </tr>\n",
       "    <tr>\n",
       "      <th>326</th>\n",
       "      <td>32497</td>\n",
       "      <td>러브레터</td>\n",
       "      <td>오늘에서야 다시 꺼내봅니다.</td>\n",
       "      <td>NaN</td>\n",
       "      <td>삭제</td>\n",
       "      <td>NaN</td>\n",
       "    </tr>\n",
       "    <tr>\n",
       "      <th>424</th>\n",
       "      <td>55267</td>\n",
       "      <td>댄 인 러브</td>\n",
       "      <td>좌충우돌 사춘기 세 딸을 키우는 ‘댄’(스티브 카렐)은 나홀로 행복한(?) 가정꾸리...</td>\n",
       "      <td>NaN</td>\n",
       "      <td>삭제</td>\n",
       "      <td>NaN</td>\n",
       "    </tr>\n",
       "    <tr>\n",
       "      <th>615</th>\n",
       "      <td>88179</td>\n",
       "      <td>원 데이</td>\n",
       "      <td>“내일이 어떻게 되든 오늘은 함께 있잖아”</td>\n",
       "      <td>NaN</td>\n",
       "      <td>삭제</td>\n",
       "      <td>NaN</td>\n",
       "    </tr>\n",
       "    <tr>\n",
       "      <th>832</th>\n",
       "      <td>142184</td>\n",
       "      <td>도가니</td>\n",
       "      <td>나는 이 사건을</td>\n",
       "      <td>NaN</td>\n",
       "      <td>삭제</td>\n",
       "      <td>NaN</td>\n",
       "    </tr>\n",
       "    <tr>\n",
       "      <th>1173</th>\n",
       "      <td>300941</td>\n",
       "      <td>최종병기 활</td>\n",
       "      <td>50만 포로가 끌려간 병자호란, 치열했던 전쟁의 한 복판에 역사가 기록하지 못한 위...</td>\n",
       "      <td>NaN</td>\n",
       "      <td>삭제</td>\n",
       "      <td>NaN</td>\n",
       "    </tr>\n",
       "    <tr>\n",
       "      <th>1184</th>\n",
       "      <td>300978</td>\n",
       "      <td>엑스맨 탄생: 울버린</td>\n",
       "      <td>그들의 거대한 서막이 시작된다!</td>\n",
       "      <td>NaN</td>\n",
       "      <td>삭제</td>\n",
       "      <td>NaN</td>\n",
       "    </tr>\n",
       "  </tbody>\n",
       "</table>\n",
       "</div>"
      ],
      "text/plain": [
       "      movieId     ko_title                                            ko_plot  \\\n",
       "89       2148           벌새  성수대교가 무너졌던 1994년, 중학생 은희는 방앗간을 하는 부모님 그리고 언니, ...   \n",
       "131      3720           밀양  신애는 교통사고로 죽어버린 남편의 고향 밀양으로 아들 준을 데리고 이사한다. 오는 ...   \n",
       "141      3967      빌리 엘리어트  파업에 돌입한 탄광 노동조합과 정부 사이의 대립이 팽팽한 영국 북부의 작은 마을. ...   \n",
       "250      7032          리벤지  바비인형의 외모를 가진 제니퍼는 애인의 사냥 행사에 동행하고 애인 친구들의 질퍽한 ...   \n",
       "253      7127            런  가장 안전했던 그곳이 가장 위험한 공간이 된다! 태어날 때부터 장애 때문에 휠체어를...   \n",
       "326     32497         러브레터                                    오늘에서야 다시 꺼내봅니다.   \n",
       "424     55267       댄 인 러브  좌충우돌 사춘기 세 딸을 키우는 ‘댄’(스티브 카렐)은 나홀로 행복한(?) 가정꾸리...   \n",
       "615     88179         원 데이                            “내일이 어떻게 되든 오늘은 함께 있잖아”   \n",
       "832    142184          도가니                                           나는 이 사건을   \n",
       "1173   300941       최종병기 활  50만 포로가 끌려간 병자호란, 치열했던 전쟁의 한 복판에 역사가 기록하지 못한 위...   \n",
       "1184   300978  엑스맨 탄생: 울버린                                  그들의 거대한 서막이 시작된다!   \n",
       "\n",
       "     대체 포스터 링크 삭제여부 Unnamed: 5  \n",
       "89         NaN   삭제        NaN  \n",
       "131        NaN   삭제        NaN  \n",
       "141        NaN   삭제        NaN  \n",
       "250        NaN   삭제        NaN  \n",
       "253        NaN   삭제        NaN  \n",
       "326        NaN   삭제        NaN  \n",
       "424        NaN   삭제        NaN  \n",
       "615        NaN   삭제        NaN  \n",
       "832        NaN   삭제        NaN  \n",
       "1173       NaN   삭제        NaN  \n",
       "1184       NaN   삭제        NaN  "
      ]
     },
     "metadata": {},
     "output_type": "display_data"
    },
    {
     "data": {
      "text/html": [
       "<div>\n",
       "<style scoped>\n",
       "    .dataframe tbody tr th:only-of-type {\n",
       "        vertical-align: middle;\n",
       "    }\n",
       "\n",
       "    .dataframe tbody tr th {\n",
       "        vertical-align: top;\n",
       "    }\n",
       "\n",
       "    .dataframe thead th {\n",
       "        text-align: right;\n",
       "    }\n",
       "</style>\n",
       "<table border=\"1\" class=\"dataframe\">\n",
       "  <thead>\n",
       "    <tr style=\"text-align: right;\">\n",
       "      <th></th>\n",
       "      <th>movieId</th>\n",
       "      <th>ko_title</th>\n",
       "      <th>ko_plot</th>\n",
       "      <th>대체 포스터 링크</th>\n",
       "      <th>삭제여부</th>\n",
       "      <th>Unnamed: 5</th>\n",
       "    </tr>\n",
       "  </thead>\n",
       "  <tbody>\n",
       "    <tr>\n",
       "      <th>89</th>\n",
       "      <td>2148</td>\n",
       "      <td>벌새</td>\n",
       "      <td>성수대교가 무너졌던 1994년, 중학생 은희는 방앗간을 하는 부모님 그리고 언니, ...</td>\n",
       "      <td>NaN</td>\n",
       "      <td>삭제</td>\n",
       "      <td>NaN</td>\n",
       "    </tr>\n",
       "    <tr>\n",
       "      <th>131</th>\n",
       "      <td>3720</td>\n",
       "      <td>밀양</td>\n",
       "      <td>신애는 교통사고로 죽어버린 남편의 고향 밀양으로 아들 준을 데리고 이사한다. 오는 ...</td>\n",
       "      <td>NaN</td>\n",
       "      <td>삭제</td>\n",
       "      <td>NaN</td>\n",
       "    </tr>\n",
       "    <tr>\n",
       "      <th>141</th>\n",
       "      <td>3967</td>\n",
       "      <td>빌리 엘리어트</td>\n",
       "      <td>파업에 돌입한 탄광 노동조합과 정부 사이의 대립이 팽팽한 영국 북부의 작은 마을. ...</td>\n",
       "      <td>NaN</td>\n",
       "      <td>삭제</td>\n",
       "      <td>NaN</td>\n",
       "    </tr>\n",
       "    <tr>\n",
       "      <th>250</th>\n",
       "      <td>7032</td>\n",
       "      <td>리벤지</td>\n",
       "      <td>바비인형의 외모를 가진 제니퍼는 애인의 사냥 행사에 동행하고 애인 친구들의 질퍽한 ...</td>\n",
       "      <td>NaN</td>\n",
       "      <td>삭제</td>\n",
       "      <td>NaN</td>\n",
       "    </tr>\n",
       "    <tr>\n",
       "      <th>253</th>\n",
       "      <td>7127</td>\n",
       "      <td>런</td>\n",
       "      <td>가장 안전했던 그곳이 가장 위험한 공간이 된다! 태어날 때부터 장애 때문에 휠체어를...</td>\n",
       "      <td>NaN</td>\n",
       "      <td>삭제</td>\n",
       "      <td>NaN</td>\n",
       "    </tr>\n",
       "    <tr>\n",
       "      <th>326</th>\n",
       "      <td>32497</td>\n",
       "      <td>러브레터</td>\n",
       "      <td>오늘에서야 다시 꺼내봅니다.</td>\n",
       "      <td>NaN</td>\n",
       "      <td>삭제</td>\n",
       "      <td>NaN</td>\n",
       "    </tr>\n",
       "    <tr>\n",
       "      <th>424</th>\n",
       "      <td>55267</td>\n",
       "      <td>댄 인 러브</td>\n",
       "      <td>좌충우돌 사춘기 세 딸을 키우는 ‘댄’(스티브 카렐)은 나홀로 행복한(?) 가정꾸리...</td>\n",
       "      <td>NaN</td>\n",
       "      <td>삭제</td>\n",
       "      <td>NaN</td>\n",
       "    </tr>\n",
       "    <tr>\n",
       "      <th>615</th>\n",
       "      <td>88179</td>\n",
       "      <td>원 데이</td>\n",
       "      <td>“내일이 어떻게 되든 오늘은 함께 있잖아”</td>\n",
       "      <td>NaN</td>\n",
       "      <td>삭제</td>\n",
       "      <td>NaN</td>\n",
       "    </tr>\n",
       "    <tr>\n",
       "      <th>832</th>\n",
       "      <td>142184</td>\n",
       "      <td>도가니</td>\n",
       "      <td>나는 이 사건을</td>\n",
       "      <td>NaN</td>\n",
       "      <td>삭제</td>\n",
       "      <td>NaN</td>\n",
       "    </tr>\n",
       "    <tr>\n",
       "      <th>1173</th>\n",
       "      <td>300941</td>\n",
       "      <td>최종병기 활</td>\n",
       "      <td>50만 포로가 끌려간 병자호란, 치열했던 전쟁의 한 복판에 역사가 기록하지 못한 위...</td>\n",
       "      <td>NaN</td>\n",
       "      <td>삭제</td>\n",
       "      <td>NaN</td>\n",
       "    </tr>\n",
       "    <tr>\n",
       "      <th>1184</th>\n",
       "      <td>300978</td>\n",
       "      <td>엑스맨 탄생: 울버린</td>\n",
       "      <td>그들의 거대한 서막이 시작된다!</td>\n",
       "      <td>NaN</td>\n",
       "      <td>삭제</td>\n",
       "      <td>NaN</td>\n",
       "    </tr>\n",
       "  </tbody>\n",
       "</table>\n",
       "</div>"
      ],
      "text/plain": [
       "      movieId     ko_title                                            ko_plot  \\\n",
       "89       2148           벌새  성수대교가 무너졌던 1994년, 중학생 은희는 방앗간을 하는 부모님 그리고 언니, ...   \n",
       "131      3720           밀양  신애는 교통사고로 죽어버린 남편의 고향 밀양으로 아들 준을 데리고 이사한다. 오는 ...   \n",
       "141      3967      빌리 엘리어트  파업에 돌입한 탄광 노동조합과 정부 사이의 대립이 팽팽한 영국 북부의 작은 마을. ...   \n",
       "250      7032          리벤지  바비인형의 외모를 가진 제니퍼는 애인의 사냥 행사에 동행하고 애인 친구들의 질퍽한 ...   \n",
       "253      7127            런  가장 안전했던 그곳이 가장 위험한 공간이 된다! 태어날 때부터 장애 때문에 휠체어를...   \n",
       "326     32497         러브레터                                    오늘에서야 다시 꺼내봅니다.   \n",
       "424     55267       댄 인 러브  좌충우돌 사춘기 세 딸을 키우는 ‘댄’(스티브 카렐)은 나홀로 행복한(?) 가정꾸리...   \n",
       "615     88179         원 데이                            “내일이 어떻게 되든 오늘은 함께 있잖아”   \n",
       "832    142184          도가니                                           나는 이 사건을   \n",
       "1173   300941       최종병기 활  50만 포로가 끌려간 병자호란, 치열했던 전쟁의 한 복판에 역사가 기록하지 못한 위...   \n",
       "1184   300978  엑스맨 탄생: 울버린                                  그들의 거대한 서막이 시작된다!   \n",
       "\n",
       "     대체 포스터 링크 삭제여부 Unnamed: 5  \n",
       "89         NaN   삭제        NaN  \n",
       "131        NaN   삭제        NaN  \n",
       "141        NaN   삭제        NaN  \n",
       "250        NaN   삭제        NaN  \n",
       "253        NaN   삭제        NaN  \n",
       "326        NaN   삭제        NaN  \n",
       "424        NaN   삭제        NaN  \n",
       "615        NaN   삭제        NaN  \n",
       "832        NaN   삭제        NaN  \n",
       "1173       NaN   삭제        NaN  \n",
       "1184       NaN   삭제        NaN  "
      ]
     },
     "metadata": {},
     "output_type": "display_data"
    }
   ],
   "source": [
    "# 삭제 되는 애들 확인 - 같으면 좋다\n",
    "display(mdf[mdf['삭제여부']=='삭제'])\n",
    "display(mdf[mdf['삭제여부'].str.contains('삭제').fillna(False)])"
   ]
  },
  {
   "cell_type": "code",
   "execution_count": 227,
   "id": "3d01a4bf",
   "metadata": {
    "ExecuteTime": {
     "end_time": "2023-02-13T14:03:33.157705Z",
     "start_time": "2023-02-13T14:03:33.152410Z"
    }
   },
   "outputs": [
    {
     "data": {
      "text/plain": [
       "11"
      ]
     },
     "execution_count": 227,
     "metadata": {},
     "output_type": "execute_result"
    }
   ],
   "source": [
    "# 삭제 되는 영화 아이디 개수\n",
    "remove_mids = mdf[mdf['삭제여부']=='삭제'].movieId.tolist()\n",
    "len(remove_mids)"
   ]
  },
  {
   "cell_type": "code",
   "execution_count": 228,
   "id": "bb2fd0c2",
   "metadata": {
    "ExecuteTime": {
     "end_time": "2023-02-13T14:03:36.972578Z",
     "start_time": "2023-02-13T14:03:36.967278Z"
    }
   },
   "outputs": [
    {
     "name": "stdout",
     "output_type": "stream",
     "text": [
      "(1192, 13)\n",
      "(1181, 13)\n"
     ]
    }
   ],
   "source": [
    "# 삭제 전 shape\n",
    "print(movie_df.shape)\n",
    "# 삭제 후 shape\n",
    "print(movie_df[~movie_df.movieId.isin(remove_mids)].shape)"
   ]
  },
  {
   "cell_type": "code",
   "execution_count": 229,
   "id": "fb5c2832",
   "metadata": {
    "ExecuteTime": {
     "end_time": "2023-02-13T14:03:37.382446Z",
     "start_time": "2023-02-13T14:03:37.378825Z"
    }
   },
   "outputs": [],
   "source": [
    "# 삭제 적용\n",
    "movie_df2 = movie_df[~movie_df.movieId.isin(remove_mids)]"
   ]
  },
  {
   "cell_type": "code",
   "execution_count": null,
   "id": "dd74bdc4",
   "metadata": {},
   "outputs": [],
   "source": []
  },
  {
   "cell_type": "code",
   "execution_count": 233,
   "id": "d032f031",
   "metadata": {
    "ExecuteTime": {
     "end_time": "2023-02-13T14:04:15.359810Z",
     "start_time": "2023-02-13T14:04:15.355230Z"
    }
   },
   "outputs": [],
   "source": [
    "# 삭제된 영화에 나온 캐릭터들도 모두 삭제\n",
    "character_df2 = character_df2[~character_df2.movieId.isin(remove_mids)]"
   ]
  },
  {
   "cell_type": "code",
   "execution_count": 234,
   "id": "2da6ba79",
   "metadata": {
    "ExecuteTime": {
     "end_time": "2023-02-13T14:04:17.160873Z",
     "start_time": "2023-02-13T14:04:17.157218Z"
    }
   },
   "outputs": [
    {
     "data": {
      "text/plain": [
       "(2830, 12)"
      ]
     },
     "execution_count": 234,
     "metadata": {},
     "output_type": "execute_result"
    }
   ],
   "source": [
    "character_df2.shape"
   ]
  },
  {
   "cell_type": "code",
   "execution_count": 239,
   "id": "275ab639",
   "metadata": {
    "ExecuteTime": {
     "end_time": "2023-02-13T14:29:30.585976Z",
     "start_time": "2023-02-13T14:29:30.582229Z"
    }
   },
   "outputs": [],
   "source": [
    "character_info_df2.loc[0,'desc'] = '모아나는 태평양의 섬 마셰이의 공주로, 자신의 섬을 위해 여행을 떠나는 주인공이다. 그녀는 자신의 역할을 맡기기 위해 열정적이고 용감한 성격을 가지고 있으며, 자신의 역할을 수행하기 위해 도전을 받아들이고 자신의 믿음과 신념을 지키는 것을 중요하게 생각한다. 그녀는 자신의 역할을 수행하기 위해 다양한 위험과 어려움을 맞이하며, 자신의 역할에 대한 책임감과 용기를 보여준다.'"
   ]
  },
  {
   "cell_type": "code",
   "execution_count": 248,
   "id": "a4f20528",
   "metadata": {
    "ExecuteTime": {
     "end_time": "2023-02-13T14:46:04.460537Z",
     "start_time": "2023-02-13T14:46:04.452095Z"
    }
   },
   "outputs": [
    {
     "data": {
      "text/html": [
       "<div>\n",
       "<style scoped>\n",
       "    .dataframe tbody tr th:only-of-type {\n",
       "        vertical-align: middle;\n",
       "    }\n",
       "\n",
       "    .dataframe tbody tr th {\n",
       "        vertical-align: top;\n",
       "    }\n",
       "\n",
       "    .dataframe thead th {\n",
       "        text-align: right;\n",
       "    }\n",
       "</style>\n",
       "<table border=\"1\" class=\"dataframe\">\n",
       "  <thead>\n",
       "    <tr style=\"text-align: right;\">\n",
       "      <th></th>\n",
       "      <th>CharacterId</th>\n",
       "      <th>name</th>\n",
       "      <th>desc</th>\n",
       "    </tr>\n",
       "  </thead>\n",
       "  <tbody>\n",
       "    <tr>\n",
       "      <th>2125</th>\n",
       "      <td>13115</td>\n",
       "      <td>압네가션</td>\n",
       "      <td>압네가션은 디버그란트 속 세 팩션 중 하나로, 자기주장을 줄이고 자신의 이익보다는 ...</td>\n",
       "    </tr>\n",
       "  </tbody>\n",
       "</table>\n",
       "</div>"
      ],
      "text/plain": [
       "      CharacterId  name                                               desc\n",
       "2125        13115  압네가션  압네가션은 디버그란트 속 세 팩션 중 하나로, 자기주장을 줄이고 자신의 이익보다는 ..."
      ]
     },
     "execution_count": 248,
     "metadata": {},
     "output_type": "execute_result"
    }
   ],
   "source": [
    "character_info_df2[character_info_df2.name=='압네가션']"
   ]
  },
  {
   "cell_type": "code",
   "execution_count": 250,
   "id": "79f2e907",
   "metadata": {
    "ExecuteTime": {
     "end_time": "2023-02-13T14:46:59.864279Z",
     "start_time": "2023-02-13T14:46:59.860353Z"
    }
   },
   "outputs": [
    {
     "data": {
      "text/plain": [
       "((2830, 12), (2867, 3))"
      ]
     },
     "execution_count": 250,
     "metadata": {},
     "output_type": "execute_result"
    }
   ],
   "source": [
    "character_df2.shape, character_info_df2.shape"
   ]
  },
  {
   "cell_type": "code",
   "execution_count": 251,
   "id": "58756267",
   "metadata": {
    "ExecuteTime": {
     "end_time": "2023-02-13T14:47:00.758213Z",
     "start_time": "2023-02-13T14:47:00.752790Z"
    }
   },
   "outputs": [],
   "source": [
    "character_df2 = character_df2[character_df2.CharacterId!=13115]\n",
    "character_info_df2 = character_info_df2[character_info_df2.name!='압네가션']"
   ]
  },
  {
   "cell_type": "code",
   "execution_count": 252,
   "id": "65d121aa",
   "metadata": {
    "ExecuteTime": {
     "end_time": "2023-02-13T14:47:02.527866Z",
     "start_time": "2023-02-13T14:47:02.523909Z"
    }
   },
   "outputs": [
    {
     "data": {
      "text/plain": [
       "((2829, 12), (2866, 3))"
      ]
     },
     "execution_count": 252,
     "metadata": {},
     "output_type": "execute_result"
    }
   ],
   "source": [
    "character_df2.shape, character_info_df2.shape"
   ]
  },
  {
   "cell_type": "code",
   "execution_count": null,
   "id": "8cf08996",
   "metadata": {},
   "outputs": [],
   "source": [
    "character_df2\n",
    "movie_df2"
   ]
  },
  {
   "cell_type": "code",
   "execution_count": 147,
   "id": "9b6486de",
   "metadata": {
    "ExecuteTime": {
     "end_time": "2023-02-13T13:33:27.187271Z",
     "start_time": "2023-02-13T13:33:27.183125Z"
    }
   },
   "outputs": [],
   "source": [
    "watch_link2 = link2"
   ]
  },
  {
   "cell_type": "code",
   "execution_count": 253,
   "id": "933e8773",
   "metadata": {
    "ExecuteTime": {
     "end_time": "2023-02-13T14:47:13.813882Z",
     "start_time": "2023-02-13T14:47:13.732560Z"
    }
   },
   "outputs": [],
   "source": [
    "character_df2.to_pickle(pickle_path / '230213_character_movie_merge.pickle')\n",
    "movie_df2.to_pickle(pickle_path / '230213_Popular_movie_1192_cwj.pickle')\n",
    "watch_link2.to_pickle(pickle_path / '230213_watch_link2_4679_rows.pickle')\n",
    "character_info_df2.to_pickle(pickle_path / '230213_processed_ko_cha_info.pickle')\n",
    "\n",
    "character_df2.to_pickle(pickle_path2 / '230213_character_movie_merge.pickle')\n",
    "movie_df2.to_pickle(pickle_path2 / '230213_Popular_movie_1192_cwj.pickle')\n",
    "watch_link2.to_pickle(pickle_path2 / '230213_watch_link2_4679_rows.pickle')\n",
    "character_info_df2.to_pickle(pickle_path2 / '230213_processed_ko_cha_info.pickle')"
   ]
  }
 ],
 "metadata": {
  "kernelspec": {
   "display_name": "Python 3 (ipykernel)",
   "language": "python",
   "name": "python3"
  },
  "language_info": {
   "codemirror_mode": {
    "name": "ipython",
    "version": 3
   },
   "file_extension": ".py",
   "mimetype": "text/x-python",
   "name": "python",
   "nbconvert_exporter": "python",
   "pygments_lexer": "ipython3",
   "version": "3.8.5"
  },
  "toc": {
   "base_numbering": 1,
   "nav_menu": {},
   "number_sections": true,
   "sideBar": true,
   "skip_h1_title": false,
   "title_cell": "Table of Contents",
   "title_sidebar": "Contents",
   "toc_cell": false,
   "toc_position": {
    "height": "605.556px",
    "left": "22px",
    "top": "88.5243px",
    "width": "291.554px"
   },
   "toc_section_display": true,
   "toc_window_display": false
  }
 },
 "nbformat": 4,
 "nbformat_minor": 5
}
