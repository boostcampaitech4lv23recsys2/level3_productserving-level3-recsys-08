{
 "cells": [
  {
   "cell_type": "code",
   "execution_count": 9,
   "id": "f51f18dc",
   "metadata": {
    "ExecuteTime": {
     "end_time": "2023-01-31T14:31:42.147970Z",
     "start_time": "2023-01-31T14:31:42.129980Z"
    }
   },
   "outputs": [],
   "source": [
    "import pandas as pd\n",
    "mdf = pd.read_pickle('../../Utils/Pickle/230130_Popular_movie_1192_cwj.pickle')\n",
    "cdf = pd.read_pickle('../../Utils/Pickle/230130_Popular_movie_character_2867_cwj.pickle')"
   ]
  },
  {
   "cell_type": "code",
   "execution_count": 7,
   "id": "3bccc6d2",
   "metadata": {
    "ExecuteTime": {
     "end_time": "2023-01-31T14:30:25.211074Z",
     "start_time": "2023-01-31T14:30:24.966659Z"
    }
   },
   "outputs": [
    {
     "name": "stdout",
     "output_type": "stream",
     "text": [
      "3388\n",
      "100163_hansel_gretel_witch_hunters.png\n",
      "100383_side_effects.png\n",
      "100390_identity_thief.png\n",
      "101025_jack_the_giant_slayer.png\n",
      "101088_stoker.png\n",
      "101112_oz_the_great_and_powerful.png\n",
      "101142_the_croods.png\n",
      "101258_radio_rebel.png\n",
      "101262_geek_charming.png\n",
      "101285_spring_breakers.png\n",
      "ls: write error: Broken pipe\n"
     ]
    }
   ],
   "source": [
    "!ls ../../django/static/img | wc -l\n",
    "!ls ../../django/static/img | head"
   ]
  },
  {
   "cell_type": "code",
   "execution_count": 10,
   "id": "981eb9ee",
   "metadata": {
    "ExecuteTime": {
     "end_time": "2023-01-31T14:31:49.365902Z",
     "start_time": "2023-01-31T14:31:49.343037Z"
    }
   },
   "outputs": [],
   "source": [
    "img_file_list = !ls ../../django/static/img\n",
    "\n",
    "len(img_file_list)\n",
    "\n",
    "movie_id_list = [int(i.split('_')[0]) for i in img_file_list]"
   ]
  },
  {
   "cell_type": "code",
   "execution_count": 12,
   "id": "7e0acf27",
   "metadata": {
    "ExecuteTime": {
     "end_time": "2023-01-31T14:31:56.191071Z",
     "start_time": "2023-01-31T14:31:56.187401Z"
    }
   },
   "outputs": [
    {
     "data": {
      "text/plain": [
       "3388"
      ]
     },
     "execution_count": 12,
     "metadata": {},
     "output_type": "execute_result"
    }
   ],
   "source": [
    "len(movie_id_list)"
   ]
  },
  {
   "cell_type": "code",
   "execution_count": 13,
   "id": "37cdaf86",
   "metadata": {
    "ExecuteTime": {
     "end_time": "2023-01-31T14:32:12.043907Z",
     "start_time": "2023-01-31T14:32:12.035864Z"
    }
   },
   "outputs": [
    {
     "data": {
      "text/plain": [
       "(1192, 13)"
      ]
     },
     "execution_count": 13,
     "metadata": {},
     "output_type": "execute_result"
    }
   ],
   "source": [
    "mdf[mdf.movieId.isin(movie_id_list)].shape\n",
    "## 1192 -> 모든 영화 다 포함"
   ]
  },
  {
   "cell_type": "code",
   "execution_count": 14,
   "id": "a9209e20",
   "metadata": {
    "ExecuteTime": {
     "end_time": "2023-01-31T14:32:25.628144Z",
     "start_time": "2023-01-31T14:32:25.624927Z"
    }
   },
   "outputs": [],
   "source": [
    "movieId_to_posterfile = dict(zip(movie_id_list,img_file_list))"
   ]
  },
  {
   "cell_type": "code",
   "execution_count": 15,
   "id": "998ad6a0",
   "metadata": {
    "ExecuteTime": {
     "end_time": "2023-01-31T14:32:42.383798Z",
     "start_time": "2023-01-31T14:32:42.378081Z"
    }
   },
   "outputs": [],
   "source": [
    "import pickle\n",
    "\n",
    "with open('/opt/ml/project/Utils/Pickle/movieid_to_poster_file.pickle','wb') as f:\n",
    "    pickle.dump(movieId_to_posterfile, f)\n",
    "\n",
    "movieId2poster_path='/opt/ml/project/Utils/Pickle/movieid_to_poster_file.pickle'\n",
    "with open(movieId2poster_path,'rb') as f:\n",
    "    movieId_to_posterfile = pickle.load(f)\n",
    "\n",
    "posterfile_list = list(movieId_to_posterfile.values())"
   ]
  },
  {
   "cell_type": "code",
   "execution_count": 16,
   "id": "2d845921",
   "metadata": {
    "ExecuteTime": {
     "end_time": "2023-01-31T14:32:43.282406Z",
     "start_time": "2023-01-31T14:32:43.278080Z"
    }
   },
   "outputs": [
    {
     "data": {
      "text/plain": [
       "['6027_dogfight.png',\n",
       " '133832_the_green_inferno.png',\n",
       " '107707_dhoom.png',\n",
       " '79860_the_experiment.png',\n",
       " '190781_the_house_that_jack_built.png',\n",
       " '179815_roman_j_israel_esq.png',\n",
       " '173147_my_stepdaughter.png',\n",
       " '142184_silenced.png',\n",
       " '79132_inception.png',\n",
       " '132046_tomorrowland.png',\n",
       " '6803_phenomena.png',\n",
       " '79798_i_killed_my_mother.png',\n",
       " '4447_legally_blonde.png',\n",
       " '127084_suicide_room.png',\n",
       " '52458_disturbia.png',\n",
       " '300273_One_Hundred_and_One_Dalmatians.png',\n",
       " '109607_in_fear.png',\n",
       " '1091_weekend_at_bernies.png',\n",
       " '1287_benhur.png',\n",
       " '171611_baahubali.png']"
      ]
     },
     "execution_count": 16,
     "metadata": {},
     "output_type": "execute_result"
    }
   ],
   "source": [
    "import random\n",
    "\n",
    "random.seed(42)\n",
    "random.sample(posterfile_list,20)"
   ]
  }
 ],
 "metadata": {
  "kernelspec": {
   "display_name": "Python 3 (ipykernel)",
   "language": "python",
   "name": "python3"
  },
  "language_info": {
   "codemirror_mode": {
    "name": "ipython",
    "version": 3
   },
   "file_extension": ".py",
   "mimetype": "text/x-python",
   "name": "python",
   "nbconvert_exporter": "python",
   "pygments_lexer": "ipython3",
   "version": "3.8.5"
  },
  "toc": {
   "base_numbering": 1,
   "nav_menu": {},
   "number_sections": true,
   "sideBar": true,
   "skip_h1_title": false,
   "title_cell": "Table of Contents",
   "title_sidebar": "Contents",
   "toc_cell": false,
   "toc_position": {},
   "toc_section_display": true,
   "toc_window_display": false
  }
 },
 "nbformat": 4,
 "nbformat_minor": 5
}
