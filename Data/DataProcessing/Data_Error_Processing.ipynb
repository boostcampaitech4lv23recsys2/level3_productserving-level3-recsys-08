{
 "cells": [
  {
   "cell_type": "code",
   "execution_count": 1,
   "id": "35f59912",
   "metadata": {
    "ExecuteTime": {
     "end_time": "2023-02-03T14:49:51.930757Z",
     "start_time": "2023-02-03T14:49:51.629213Z"
    }
   },
   "outputs": [],
   "source": [
    "import pandas as pd"
   ]
  },
  {
   "cell_type": "code",
   "execution_count": 37,
   "id": "4be3b375",
   "metadata": {
    "ExecuteTime": {
     "end_time": "2023-02-03T15:00:40.766171Z",
     "start_time": "2023-02-03T15:00:40.745085Z"
    }
   },
   "outputs": [],
   "source": [
    "mdf = pd.read_pickle('../../Utils/Pickle/230130_Popular_movie_1192_cwj.pickle')\n",
    "cdf = pd.read_pickle('../../Utils/Pickle/230130_Popular_movie_character_2867_cwj.pickle')\n",
    "cdfm = pd.read_pickle('../../Utils/Pickle/230203_character_movie_merge.pickle')"
   ]
  },
  {
   "cell_type": "code",
   "execution_count": 40,
   "id": "95430065",
   "metadata": {
    "ExecuteTime": {
     "end_time": "2023-02-03T15:01:54.645690Z",
     "start_time": "2023-02-03T15:01:54.628132Z"
    }
   },
   "outputs": [
    {
     "data": {
      "text/html": [
       "<div>\n",
       "<style scoped>\n",
       "    .dataframe tbody tr th:only-of-type {\n",
       "        vertical-align: middle;\n",
       "    }\n",
       "\n",
       "    .dataframe tbody tr th {\n",
       "        vertical-align: top;\n",
       "    }\n",
       "\n",
       "    .dataframe thead th {\n",
       "        text-align: right;\n",
       "    }\n",
       "</style>\n",
       "<table border=\"1\" class=\"dataframe\">\n",
       "  <thead>\n",
       "    <tr style=\"text-align: right;\">\n",
       "      <th></th>\n",
       "      <th>CharacterId</th>\n",
       "      <th>Character</th>\n",
       "      <th>vote</th>\n",
       "      <th>MBTI</th>\n",
       "      <th>Enneagram</th>\n",
       "      <th>movieId</th>\n",
       "      <th>contents_year</th>\n",
       "      <th>Contents</th>\n",
       "      <th>ko_title</th>\n",
       "      <th>rating</th>\n",
       "      <th>npop</th>\n",
       "      <th>ko_plot</th>\n",
       "    </tr>\n",
       "  </thead>\n",
       "  <tbody>\n",
       "    <tr>\n",
       "      <th>0</th>\n",
       "      <td>7505</td>\n",
       "      <td>CIA Agent Sheldon Jeffrey Sands</td>\n",
       "      <td>19</td>\n",
       "      <td>INTJ</td>\n",
       "      <td>5w6</td>\n",
       "      <td>163.0</td>\n",
       "      <td>2010</td>\n",
       "      <td>Desperado</td>\n",
       "      <td>내 깡패 같은 애인</td>\n",
       "      <td>3.3</td>\n",
       "      <td>230000</td>\n",
       "      <td>싸움 하나 제대로 못하지만, 입심 하난 끝내주는 삼류건달 동철(박중훈). 예전만큼 ...</td>\n",
       "    </tr>\n",
       "  </tbody>\n",
       "</table>\n",
       "</div>"
      ],
      "text/plain": [
       "   CharacterId                        Character  vote  MBTI Enneagram  \\\n",
       "0         7505  CIA Agent Sheldon Jeffrey Sands    19  INTJ       5w6   \n",
       "\n",
       "   movieId contents_year   Contents    ko_title rating    npop  \\\n",
       "0    163.0          2010  Desperado  내 깡패 같은 애인    3.3  230000   \n",
       "\n",
       "                                             ko_plot  \n",
       "0  싸움 하나 제대로 못하지만, 입심 하난 끝내주는 삼류건달 동철(박중훈). 예전만큼 ...  "
      ]
     },
     "execution_count": 40,
     "metadata": {},
     "output_type": "execute_result"
    }
   ],
   "source": [
    "cdfm[cdfm.ko_title=='내 깡패 같은 애인'].merge(mdf[['movieId','ko_plot']], on='movieId')"
   ]
  },
  {
   "cell_type": "code",
   "execution_count": 41,
   "id": "56e4f683",
   "metadata": {
    "ExecuteTime": {
     "end_time": "2023-02-03T15:03:14.080159Z",
     "start_time": "2023-02-03T15:03:14.062256Z"
    }
   },
   "outputs": [
    {
     "data": {
      "text/html": [
       "<div>\n",
       "<style scoped>\n",
       "    .dataframe tbody tr th:only-of-type {\n",
       "        vertical-align: middle;\n",
       "    }\n",
       "\n",
       "    .dataframe tbody tr th {\n",
       "        vertical-align: top;\n",
       "    }\n",
       "\n",
       "    .dataframe thead th {\n",
       "        text-align: right;\n",
       "    }\n",
       "</style>\n",
       "<table border=\"1\" class=\"dataframe\">\n",
       "  <thead>\n",
       "    <tr style=\"text-align: right;\">\n",
       "      <th></th>\n",
       "      <th>CharacterId</th>\n",
       "      <th>Character</th>\n",
       "      <th>vote</th>\n",
       "      <th>MBTI</th>\n",
       "      <th>Enneagram</th>\n",
       "      <th>movieId</th>\n",
       "      <th>contents_year</th>\n",
       "      <th>Contents</th>\n",
       "      <th>ko_title</th>\n",
       "      <th>rating</th>\n",
       "      <th>npop</th>\n",
       "      <th>ko_plot</th>\n",
       "    </tr>\n",
       "  </thead>\n",
       "  <tbody>\n",
       "    <tr>\n",
       "      <th>0</th>\n",
       "      <td>3885</td>\n",
       "      <td>Jonathan Breech</td>\n",
       "      <td>14</td>\n",
       "      <td>ENFP</td>\n",
       "      <td>4w3</td>\n",
       "      <td>4724.0</td>\n",
       "      <td>2012</td>\n",
       "      <td>On The Edge</td>\n",
       "      <td>박수건달</td>\n",
       "      <td>3.1</td>\n",
       "      <td>490000</td>\n",
       "      <td>보스에게 신임 받고, 동생들에게 사랑 받는 엘리트 건달 광호(박신양). 남 부러울 ...</td>\n",
       "    </tr>\n",
       "  </tbody>\n",
       "</table>\n",
       "</div>"
      ],
      "text/plain": [
       "   CharacterId        Character  vote  MBTI Enneagram  movieId contents_year  \\\n",
       "0         3885  Jonathan Breech    14  ENFP       4w3   4724.0          2012   \n",
       "\n",
       "      Contents ko_title rating    npop  \\\n",
       "0  On The Edge     박수건달    3.1  490000   \n",
       "\n",
       "                                             ko_plot  \n",
       "0  보스에게 신임 받고, 동생들에게 사랑 받는 엘리트 건달 광호(박신양). 남 부러울 ...  "
      ]
     },
     "execution_count": 41,
     "metadata": {},
     "output_type": "execute_result"
    }
   ],
   "source": [
    "cdfm[cdfm.ko_title=='박수건달'].merge(mdf[['movieId','ko_plot']], on='movieId')"
   ]
  },
  {
   "cell_type": "code",
   "execution_count": null,
   "id": "ca8f2873",
   "metadata": {},
   "outputs": [],
   "source": []
  },
  {
   "cell_type": "code",
   "execution_count": null,
   "id": "9ade34b6",
   "metadata": {},
   "outputs": [],
   "source": []
  },
  {
   "cell_type": "code",
   "execution_count": null,
   "id": "7c4b325c",
   "metadata": {},
   "outputs": [],
   "source": []
  },
  {
   "cell_type": "code",
   "execution_count": null,
   "id": "03ef099b",
   "metadata": {},
   "outputs": [],
   "source": []
  }
 ],
 "metadata": {
  "kernelspec": {
   "display_name": "Python 3 (ipykernel)",
   "language": "python",
   "name": "python3"
  },
  "language_info": {
   "codemirror_mode": {
    "name": "ipython",
    "version": 3
   },
   "file_extension": ".py",
   "mimetype": "text/x-python",
   "name": "python",
   "nbconvert_exporter": "python",
   "pygments_lexer": "ipython3",
   "version": "3.8.5"
  },
  "toc": {
   "base_numbering": 1,
   "nav_menu": {},
   "number_sections": true,
   "sideBar": true,
   "skip_h1_title": false,
   "title_cell": "Table of Contents",
   "title_sidebar": "Contents",
   "toc_cell": false,
   "toc_position": {},
   "toc_section_display": true,
   "toc_window_display": false
  }
 },
 "nbformat": 4,
 "nbformat_minor": 5
}
