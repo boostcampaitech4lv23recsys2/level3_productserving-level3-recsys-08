{
 "cells": [
  {
   "cell_type": "code",
   "execution_count": 16,
   "id": "8c663b59",
   "metadata": {
    "ExecuteTime": {
     "end_time": "2023-02-07T19:21:36.780310Z",
     "start_time": "2023-02-07T19:21:36.760307Z"
    }
   },
   "outputs": [],
   "source": [
    "import pandas as pd\n",
    "\n",
    "mdf = pd.read_pickle('../../Utils/Pickle/230130_Popular_movie_1192_cwj.pickle')\n",
    "cdf = pd.read_pickle('../../Utils/Pickle/230130_Popular_movie_character_2867_cwj.pickle')\n",
    "cdfm = pd.read_pickle('../../Utils/Pickle/230203_character_movie_merge.pickle')"
   ]
  },
  {
   "cell_type": "code",
   "execution_count": 3,
   "id": "dfb55b3a",
   "metadata": {
    "ExecuteTime": {
     "end_time": "2023-02-07T19:17:28.294058Z",
     "start_time": "2023-02-07T19:17:28.282149Z"
    }
   },
   "outputs": [
    {
     "data": {
      "text/plain": [
       "(34, 13)"
      ]
     },
     "execution_count": 3,
     "metadata": {},
     "output_type": "execute_result"
    }
   ],
   "source": [
    "mdf[(mdf['contents_year'] <= 2000) & (mdf['npop'] >= 300000)].shape"
   ]
  },
  {
   "cell_type": "code",
   "execution_count": 4,
   "id": "19eac905",
   "metadata": {
    "ExecuteTime": {
     "end_time": "2023-02-07T19:17:28.300796Z",
     "start_time": "2023-02-07T19:17:28.295848Z"
    }
   },
   "outputs": [
    {
     "data": {
      "text/plain": [
       "(277, 13)"
      ]
     },
     "execution_count": 4,
     "metadata": {},
     "output_type": "execute_result"
    }
   ],
   "source": [
    "mdf[(mdf['contents_year'] >= 2008) & (mdf['npop'] >= 100000)].shape"
   ]
  },
  {
   "cell_type": "code",
   "execution_count": 35,
   "id": "90cf0efd",
   "metadata": {
    "ExecuteTime": {
     "end_time": "2023-02-07T19:25:32.594981Z",
     "start_time": "2023-02-07T19:25:32.588173Z"
    }
   },
   "outputs": [],
   "source": [
    "mdf_select = mdf[((mdf['contents_year'] >= 2008) & (mdf['npop'] >= 100000)) | \\\n",
    "        ((mdf['contents_year'] <= 2000) & (mdf['npop'] >= 300000)) | \\\n",
    "        ((mdf['contents_year'] >= 2019) & (mdf['npop'] >= 10000)) |  \\\n",
    "        (mdf.country==\"한국\")  ]"
   ]
  },
  {
   "cell_type": "code",
   "execution_count": 42,
   "id": "d81faff2",
   "metadata": {
    "ExecuteTime": {
     "end_time": "2023-02-07T19:30:24.009835Z",
     "start_time": "2023-02-07T19:30:24.004965Z"
    }
   },
   "outputs": [
    {
     "data": {
      "text/plain": [
       "(57, 13)"
      ]
     },
     "execution_count": 42,
     "metadata": {},
     "output_type": "execute_result"
    }
   ],
   "source": [
    "mdf[mdf.country=='한국'].shape"
   ]
  },
  {
   "cell_type": "code",
   "execution_count": 45,
   "id": "209c059f",
   "metadata": {
    "ExecuteTime": {
     "end_time": "2023-02-07T19:30:59.015514Z",
     "start_time": "2023-02-07T19:30:59.000826Z"
    }
   },
   "outputs": [
    {
     "data": {
      "text/html": [
       "<div>\n",
       "<style scoped>\n",
       "    .dataframe tbody tr th:only-of-type {\n",
       "        vertical-align: middle;\n",
       "    }\n",
       "\n",
       "    .dataframe tbody tr th {\n",
       "        vertical-align: top;\n",
       "    }\n",
       "\n",
       "    .dataframe thead th {\n",
       "        text-align: right;\n",
       "    }\n",
       "</style>\n",
       "<table border=\"1\" class=\"dataframe\">\n",
       "  <thead>\n",
       "    <tr style=\"text-align: right;\">\n",
       "      <th></th>\n",
       "      <th>Contents</th>\n",
       "      <th>ko_title</th>\n",
       "      <th>contents_year</th>\n",
       "      <th>country</th>\n",
       "      <th>ko_genre</th>\n",
       "      <th>ko_plot</th>\n",
       "      <th>rating</th>\n",
       "      <th>npop</th>\n",
       "      <th>genres</th>\n",
       "      <th>plot</th>\n",
       "      <th>directors</th>\n",
       "      <th>actors</th>\n",
       "      <th>movieId</th>\n",
       "    </tr>\n",
       "  </thead>\n",
       "  <tbody>\n",
       "    <tr>\n",
       "      <th>201</th>\n",
       "      <td>Hotel Transylvania (2012)</td>\n",
       "      <td>몬스터 호텔</td>\n",
       "      <td>2012</td>\n",
       "      <td>미국,한국,캐나다</td>\n",
       "      <td>애니메이션/코미디/가족/판타지/키즈</td>\n",
       "      <td>인간만 보면 벌벌~</td>\n",
       "      <td>3.6</td>\n",
       "      <td>180000</td>\n",
       "      <td>'Animation', 'Adventure', 'Comedy', 'Family', ...</td>\n",
       "      <td>Dracula, who operates a high-end resort away f...</td>\n",
       "      <td>'Genndy Tartakovsky'</td>\n",
       "      <td>'Adam Sandler', 'Andy Samberg', 'Selena Gomez'...</td>\n",
       "      <td>97225</td>\n",
       "    </tr>\n",
       "    <tr>\n",
       "      <th>408</th>\n",
       "      <td>On the Beach at Night Alone (2017)</td>\n",
       "      <td>밤의 해변에서 혼자</td>\n",
       "      <td>2017</td>\n",
       "      <td>한국,독일</td>\n",
       "      <td>드라마</td>\n",
       "      <td>외국 어느 도시. 여배우인 영희는 한국에서 유부남과의 만남이 주는 스트레스를 이기지...</td>\n",
       "      <td>3.4</td>\n",
       "      <td>30000</td>\n",
       "      <td>'Drama'</td>\n",
       "      <td>NaN</td>\n",
       "      <td>'Hong Sang-soo'</td>\n",
       "      <td>'Kim Min-hee', 'Young-hwa Seo', 'Jae-yeong Jeo...</td>\n",
       "      <td>178477</td>\n",
       "    </tr>\n",
       "    <tr>\n",
       "      <th>428</th>\n",
       "      <td>Okja (2017)</td>\n",
       "      <td>옥자</td>\n",
       "      <td>2017</td>\n",
       "      <td>미국,한국</td>\n",
       "      <td>드라마/모험/액션</td>\n",
       "      <td>강원도 산골 소녀 ‘미자’(안서현)에게 옥자는 10년 간 함께 자란 둘도 없는 친구...</td>\n",
       "      <td>3.5</td>\n",
       "      <td>160000</td>\n",
       "      <td>'Action', 'Adventure', 'Drama', 'Sci-Fi'</td>\n",
       "      <td>A young girl risks everything to prevent a pow...</td>\n",
       "      <td>'Bong Joon Ho'</td>\n",
       "      <td>'Tilda Swinton', 'Sheena Kamal', 'Michael Mitt...</td>\n",
       "      <td>171765</td>\n",
       "    </tr>\n",
       "    <tr>\n",
       "      <th>973</th>\n",
       "      <td>Knowing (2009)</td>\n",
       "      <td>호우시절</td>\n",
       "      <td>2009</td>\n",
       "      <td>한국,중국</td>\n",
       "      <td>로맨스/드라마</td>\n",
       "      <td>건설 중장비 회사 팀장 박동하, 중국 출장 첫날, 우연히 관광 가이드를 하고 있는 ...</td>\n",
       "      <td>3.2</td>\n",
       "      <td>40000</td>\n",
       "      <td>'Action', 'Mystery', 'Sci-Fi', 'Thriller'</td>\n",
       "      <td>M.I.T. professor John Koestler links a mysteri...</td>\n",
       "      <td>'Alex Proyas'</td>\n",
       "      <td>'Nicolas Cage', 'Chandler Canterbury', 'Rose B...</td>\n",
       "      <td>67197</td>\n",
       "    </tr>\n",
       "    <tr>\n",
       "      <th>1080</th>\n",
       "      <td>Happy Together</td>\n",
       "      <td>해피 투게더 리마스터링</td>\n",
       "      <td>1997</td>\n",
       "      <td>홍콩,일본,한국</td>\n",
       "      <td>드라마/로맨스</td>\n",
       "      <td>“우리 다시 시작하자”</td>\n",
       "      <td>4.0</td>\n",
       "      <td>100000</td>\n",
       "      <td>'Drama', 'Romance'</td>\n",
       "      <td>NaN</td>\n",
       "      <td>'Kar-Wai Wong'</td>\n",
       "      <td>'Leslie Cheung', 'Tony Chiu-Wai Leung', 'Chang...</td>\n",
       "      <td>4601</td>\n",
       "    </tr>\n",
       "  </tbody>\n",
       "</table>\n",
       "</div>"
      ],
      "text/plain": [
       "                                Contents      ko_title  contents_year  \\\n",
       "201            Hotel Transylvania (2012)        몬스터 호텔           2012   \n",
       "408   On the Beach at Night Alone (2017)    밤의 해변에서 혼자           2017   \n",
       "428                          Okja (2017)            옥자           2017   \n",
       "973                       Knowing (2009)          호우시절           2009   \n",
       "1080                      Happy Together  해피 투게더 리마스터링           1997   \n",
       "\n",
       "        country             ko_genre  \\\n",
       "201   미국,한국,캐나다  애니메이션/코미디/가족/판타지/키즈   \n",
       "408       한국,독일                  드라마   \n",
       "428       미국,한국            드라마/모험/액션   \n",
       "973       한국,중국              로맨스/드라마   \n",
       "1080   홍콩,일본,한국              드라마/로맨스   \n",
       "\n",
       "                                                ko_plot rating    npop  \\\n",
       "201                                          인간만 보면 벌벌~    3.6  180000   \n",
       "408   외국 어느 도시. 여배우인 영희는 한국에서 유부남과의 만남이 주는 스트레스를 이기지...    3.4   30000   \n",
       "428   강원도 산골 소녀 ‘미자’(안서현)에게 옥자는 10년 간 함께 자란 둘도 없는 친구...    3.5  160000   \n",
       "973   건설 중장비 회사 팀장 박동하, 중국 출장 첫날, 우연히 관광 가이드를 하고 있는 ...    3.2   40000   \n",
       "1080                                       “우리 다시 시작하자”    4.0  100000   \n",
       "\n",
       "                                                 genres  \\\n",
       "201   'Animation', 'Adventure', 'Comedy', 'Family', ...   \n",
       "408                                             'Drama'   \n",
       "428            'Action', 'Adventure', 'Drama', 'Sci-Fi'   \n",
       "973           'Action', 'Mystery', 'Sci-Fi', 'Thriller'   \n",
       "1080                                 'Drama', 'Romance'   \n",
       "\n",
       "                                                   plot             directors  \\\n",
       "201   Dracula, who operates a high-end resort away f...  'Genndy Tartakovsky'   \n",
       "408                                                 NaN       'Hong Sang-soo'   \n",
       "428   A young girl risks everything to prevent a pow...        'Bong Joon Ho'   \n",
       "973   M.I.T. professor John Koestler links a mysteri...         'Alex Proyas'   \n",
       "1080                                                NaN        'Kar-Wai Wong'   \n",
       "\n",
       "                                                 actors  movieId  \n",
       "201   'Adam Sandler', 'Andy Samberg', 'Selena Gomez'...    97225  \n",
       "408   'Kim Min-hee', 'Young-hwa Seo', 'Jae-yeong Jeo...   178477  \n",
       "428   'Tilda Swinton', 'Sheena Kamal', 'Michael Mitt...   171765  \n",
       "973   'Nicolas Cage', 'Chandler Canterbury', 'Rose B...    67197  \n",
       "1080  'Leslie Cheung', 'Tony Chiu-Wai Leung', 'Chang...     4601  "
      ]
     },
     "execution_count": 45,
     "metadata": {},
     "output_type": "execute_result"
    }
   ],
   "source": [
    "mdf[(mdf.country.str.contains('한국')) & (mdf.country!='한국')]"
   ]
  },
  {
   "cell_type": "code",
   "execution_count": 36,
   "id": "0851c053",
   "metadata": {
    "ExecuteTime": {
     "end_time": "2023-02-07T19:25:34.161367Z",
     "start_time": "2023-02-07T19:25:34.157579Z"
    }
   },
   "outputs": [
    {
     "data": {
      "text/plain": [
       "(443, 13)"
      ]
     },
     "execution_count": 36,
     "metadata": {},
     "output_type": "execute_result"
    }
   ],
   "source": [
    "mdf_select.shape"
   ]
  },
  {
   "cell_type": "code",
   "execution_count": 21,
   "id": "344a4603",
   "metadata": {
    "ExecuteTime": {
     "end_time": "2023-02-03T15:26:12.132262Z",
     "start_time": "2023-02-03T15:26:12.124794Z"
    }
   },
   "outputs": [],
   "source": [
    "cdfm = cdfm.merge(cdf[['CharacterId','img_src']],on='CharacterId')"
   ]
  },
  {
   "cell_type": "code",
   "execution_count": 23,
   "id": "aa9af192",
   "metadata": {
    "ExecuteTime": {
     "end_time": "2023-02-03T15:26:58.099551Z",
     "start_time": "2023-02-03T15:26:58.091229Z"
    }
   },
   "outputs": [],
   "source": [
    "cdfm.to_pickle('../../Utils/Pickle/230203_character_movie_merge.pickle')"
   ]
  },
  {
   "cell_type": "code",
   "execution_count": 37,
   "id": "9b56d8ee",
   "metadata": {
    "ExecuteTime": {
     "end_time": "2023-02-07T19:29:11.469394Z",
     "start_time": "2023-02-07T19:29:11.465526Z"
    }
   },
   "outputs": [],
   "source": [
    "df = pd.read_pickle('../../Utils/Pickle/movie_random_select_final.pickle')"
   ]
  },
  {
   "cell_type": "code",
   "execution_count": 40,
   "id": "a75bdd17",
   "metadata": {
    "ExecuteTime": {
     "end_time": "2023-02-07T19:29:44.118384Z",
     "start_time": "2023-02-07T19:29:44.108997Z"
    }
   },
   "outputs": [
    {
     "data": {
      "text/html": [
       "<div>\n",
       "<style scoped>\n",
       "    .dataframe tbody tr th:only-of-type {\n",
       "        vertical-align: middle;\n",
       "    }\n",
       "\n",
       "    .dataframe tbody tr th {\n",
       "        vertical-align: top;\n",
       "    }\n",
       "\n",
       "    .dataframe thead th {\n",
       "        text-align: right;\n",
       "    }\n",
       "</style>\n",
       "<table border=\"1\" class=\"dataframe\">\n",
       "  <thead>\n",
       "    <tr style=\"text-align: right;\">\n",
       "      <th></th>\n",
       "      <th>movieId</th>\n",
       "      <th>country</th>\n",
       "    </tr>\n",
       "  </thead>\n",
       "  <tbody>\n",
       "    <tr>\n",
       "      <th>0</th>\n",
       "      <td>73141</td>\n",
       "      <td>미국</td>\n",
       "    </tr>\n",
       "    <tr>\n",
       "      <th>1</th>\n",
       "      <td>122470</td>\n",
       "      <td>미국</td>\n",
       "    </tr>\n",
       "    <tr>\n",
       "      <th>2</th>\n",
       "      <td>152081</td>\n",
       "      <td>미국</td>\n",
       "    </tr>\n",
       "    <tr>\n",
       "      <th>3</th>\n",
       "      <td>4447</td>\n",
       "      <td>미국</td>\n",
       "    </tr>\n",
       "    <tr>\n",
       "      <th>4</th>\n",
       "      <td>1246</td>\n",
       "      <td>미국</td>\n",
       "    </tr>\n",
       "    <tr>\n",
       "      <th>...</th>\n",
       "      <td>...</td>\n",
       "      <td>...</td>\n",
       "    </tr>\n",
       "    <tr>\n",
       "      <th>1187</th>\n",
       "      <td>300997</td>\n",
       "      <td>미국</td>\n",
       "    </tr>\n",
       "    <tr>\n",
       "      <th>1188</th>\n",
       "      <td>300998</td>\n",
       "      <td>미국</td>\n",
       "    </tr>\n",
       "    <tr>\n",
       "      <th>1189</th>\n",
       "      <td>300999</td>\n",
       "      <td>미국,독일,영국</td>\n",
       "    </tr>\n",
       "    <tr>\n",
       "      <th>1190</th>\n",
       "      <td>301010</td>\n",
       "      <td>미국,스위스</td>\n",
       "    </tr>\n",
       "    <tr>\n",
       "      <th>1191</th>\n",
       "      <td>301014</td>\n",
       "      <td>미국</td>\n",
       "    </tr>\n",
       "  </tbody>\n",
       "</table>\n",
       "<p>1192 rows × 2 columns</p>\n",
       "</div>"
      ],
      "text/plain": [
       "      movieId   country\n",
       "0       73141        미국\n",
       "1      122470        미국\n",
       "2      152081        미국\n",
       "3        4447        미국\n",
       "4        1246        미국\n",
       "...       ...       ...\n",
       "1187   300997        미국\n",
       "1188   300998        미국\n",
       "1189   300999  미국,독일,영국\n",
       "1190   301010    미국,스위스\n",
       "1191   301014        미국\n",
       "\n",
       "[1192 rows x 2 columns]"
      ]
     },
     "execution_count": 40,
     "metadata": {},
     "output_type": "execute_result"
    }
   ],
   "source": [
    "mdf[['movieId','country']]"
   ]
  },
  {
   "cell_type": "code",
   "execution_count": 46,
   "id": "4a5d3ff0",
   "metadata": {
    "ExecuteTime": {
     "end_time": "2023-02-07T19:31:35.642776Z",
     "start_time": "2023-02-07T19:31:35.634259Z"
    }
   },
   "outputs": [],
   "source": [
    "df.merge(mdf[['movieId','country']],on='movieId').to_pickle('../../Utils/Pickle/movie_random_select_final2.pickle')"
   ]
  }
 ],
 "metadata": {
  "kernelspec": {
   "display_name": "Python 3 (ipykernel)",
   "language": "python",
   "name": "python3"
  },
  "language_info": {
   "codemirror_mode": {
    "name": "ipython",
    "version": 3
   },
   "file_extension": ".py",
   "mimetype": "text/x-python",
   "name": "python",
   "nbconvert_exporter": "python",
   "pygments_lexer": "ipython3",
   "version": "3.8.5"
  },
  "toc": {
   "base_numbering": 1,
   "nav_menu": {},
   "number_sections": true,
   "sideBar": true,
   "skip_h1_title": false,
   "title_cell": "Table of Contents",
   "title_sidebar": "Contents",
   "toc_cell": false,
   "toc_position": {},
   "toc_section_display": true,
   "toc_window_display": false
  }
 },
 "nbformat": 4,
 "nbformat_minor": 5
}
