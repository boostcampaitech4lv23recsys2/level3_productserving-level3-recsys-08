{
 "cells": [
  {
   "cell_type": "code",
   "execution_count": 1,
   "id": "8c663b59",
   "metadata": {
    "ExecuteTime": {
     "end_time": "2023-02-03T15:08:56.320159Z",
     "start_time": "2023-02-03T15:08:56.002997Z"
    }
   },
   "outputs": [],
   "source": [
    "import pandas as pd\n",
    "\n",
    "mdf = pd.read_pickle('../../Utils/Pickle/230130_Popular_movie_1192_cwj.pickle')\n",
    "cdf = pd.read_pickle('../../Utils/Pickle/230130_Popular_movie_character_2867_cwj.pickle')\n",
    "cdfm = pd.read_pickle('../../Utils/Pickle/230203_character_movie_merge.pickle')"
   ]
  },
  {
   "cell_type": "code",
   "execution_count": 2,
   "id": "dfb55b3a",
   "metadata": {
    "ExecuteTime": {
     "end_time": "2023-02-03T15:09:02.328797Z",
     "start_time": "2023-02-03T15:09:02.316101Z"
    }
   },
   "outputs": [
    {
     "data": {
      "text/plain": [
       "(34, 13)"
      ]
     },
     "execution_count": 2,
     "metadata": {},
     "output_type": "execute_result"
    }
   ],
   "source": [
    "mdf[(mdf['contents_year'] <= 2000) & (mdf['npop'] >= 300000)].shape"
   ]
  },
  {
   "cell_type": "code",
   "execution_count": 3,
   "id": "19eac905",
   "metadata": {
    "ExecuteTime": {
     "end_time": "2023-02-03T15:09:02.534807Z",
     "start_time": "2023-02-03T15:09:02.529657Z"
    }
   },
   "outputs": [
    {
     "data": {
      "text/plain": [
       "(277, 13)"
      ]
     },
     "execution_count": 3,
     "metadata": {},
     "output_type": "execute_result"
    }
   ],
   "source": [
    "mdf[(mdf['contents_year'] >= 2008) & (mdf['npop'] >= 100000)].shape"
   ]
  },
  {
   "cell_type": "code",
   "execution_count": 4,
   "id": "90cf0efd",
   "metadata": {
    "ExecuteTime": {
     "end_time": "2023-02-03T15:09:02.821529Z",
     "start_time": "2023-02-03T15:09:02.816744Z"
    }
   },
   "outputs": [],
   "source": [
    "mdf_select = mdf[((mdf['contents_year'] >= 2008) & (mdf['npop'] >= 100000)) | \\\n",
    "        ((mdf['contents_year'] <= 2000) & (mdf['npop'] >= 300000))]"
   ]
  },
  {
   "cell_type": "code",
   "execution_count": 5,
   "id": "0851c053",
   "metadata": {
    "ExecuteTime": {
     "end_time": "2023-02-03T15:09:03.685749Z",
     "start_time": "2023-02-03T15:09:03.682565Z"
    }
   },
   "outputs": [
    {
     "data": {
      "text/plain": [
       "(311, 13)"
      ]
     },
     "execution_count": 5,
     "metadata": {},
     "output_type": "execute_result"
    }
   ],
   "source": [
    "mdf_select.shape"
   ]
  }
 ],
 "metadata": {
  "kernelspec": {
   "display_name": "Python 3 (ipykernel)",
   "language": "python",
   "name": "python3"
  },
  "language_info": {
   "codemirror_mode": {
    "name": "ipython",
    "version": 3
   },
   "file_extension": ".py",
   "mimetype": "text/x-python",
   "name": "python",
   "nbconvert_exporter": "python",
   "pygments_lexer": "ipython3",
   "version": "3.8.5"
  },
  "toc": {
   "base_numbering": 1,
   "nav_menu": {},
   "number_sections": true,
   "sideBar": true,
   "skip_h1_title": false,
   "title_cell": "Table of Contents",
   "title_sidebar": "Contents",
   "toc_cell": false,
   "toc_position": {},
   "toc_section_display": true,
   "toc_window_display": false
  }
 },
 "nbformat": 4,
 "nbformat_minor": 5
}
