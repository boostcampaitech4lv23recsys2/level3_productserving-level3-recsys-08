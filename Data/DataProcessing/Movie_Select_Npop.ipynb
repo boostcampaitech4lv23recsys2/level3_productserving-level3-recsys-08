{
 "cells": [
  {
   "cell_type": "code",
   "execution_count": 24,
   "id": "8c663b59",
   "metadata": {
    "ExecuteTime": {
     "end_time": "2023-02-03T15:27:27.022726Z",
     "start_time": "2023-02-03T15:27:27.002481Z"
    }
   },
   "outputs": [],
   "source": [
    "import pandas as pd\n",
    "\n",
    "mdf = pd.read_pickle('../../Utils/Pickle/230130_Popular_movie_1192_cwj.pickle')\n",
    "cdf = pd.read_pickle('../../Utils/Pickle/230130_Popular_movie_character_2867_cwj.pickle')\n",
    "cdfm = pd.read_pickle('../../Utils/Pickle/230203_character_movie_merge.pickle')"
   ]
  },
  {
   "cell_type": "code",
   "execution_count": 7,
   "id": "dfb55b3a",
   "metadata": {
    "ExecuteTime": {
     "end_time": "2023-02-03T15:23:52.580641Z",
     "start_time": "2023-02-03T15:23:52.575129Z"
    }
   },
   "outputs": [
    {
     "data": {
      "text/plain": [
       "(34, 13)"
      ]
     },
     "execution_count": 7,
     "metadata": {},
     "output_type": "execute_result"
    }
   ],
   "source": [
    "mdf[(mdf['contents_year'] <= 2000) & (mdf['npop'] >= 300000)].shape"
   ]
  },
  {
   "cell_type": "code",
   "execution_count": 8,
   "id": "19eac905",
   "metadata": {
    "ExecuteTime": {
     "end_time": "2023-02-03T15:23:52.918635Z",
     "start_time": "2023-02-03T15:23:52.913510Z"
    }
   },
   "outputs": [
    {
     "data": {
      "text/plain": [
       "(277, 13)"
      ]
     },
     "execution_count": 8,
     "metadata": {},
     "output_type": "execute_result"
    }
   ],
   "source": [
    "mdf[(mdf['contents_year'] >= 2008) & (mdf['npop'] >= 100000)].shape"
   ]
  },
  {
   "cell_type": "code",
   "execution_count": 9,
   "id": "90cf0efd",
   "metadata": {
    "ExecuteTime": {
     "end_time": "2023-02-03T15:23:53.234674Z",
     "start_time": "2023-02-03T15:23:53.229616Z"
    }
   },
   "outputs": [],
   "source": [
    "mdf_select = mdf[((mdf['contents_year'] >= 2008) & (mdf['npop'] >= 100000)) | \\\n",
    "        ((mdf['contents_year'] <= 2000) & (mdf['npop'] >= 300000))]"
   ]
  },
  {
   "cell_type": "code",
   "execution_count": 10,
   "id": "0851c053",
   "metadata": {
    "ExecuteTime": {
     "end_time": "2023-02-03T15:23:54.309212Z",
     "start_time": "2023-02-03T15:23:54.305822Z"
    }
   },
   "outputs": [
    {
     "data": {
      "text/plain": [
       "(311, 13)"
      ]
     },
     "execution_count": 10,
     "metadata": {},
     "output_type": "execute_result"
    }
   ],
   "source": [
    "mdf_select.shape"
   ]
  },
  {
   "cell_type": "code",
   "execution_count": 25,
   "id": "1e4a2e0c",
   "metadata": {
    "ExecuteTime": {
     "end_time": "2023-02-03T15:27:30.550366Z",
     "start_time": "2023-02-03T15:27:30.534378Z"
    }
   },
   "outputs": [
    {
     "data": {
      "text/html": [
       "<div>\n",
       "<style scoped>\n",
       "    .dataframe tbody tr th:only-of-type {\n",
       "        vertical-align: middle;\n",
       "    }\n",
       "\n",
       "    .dataframe tbody tr th {\n",
       "        vertical-align: top;\n",
       "    }\n",
       "\n",
       "    .dataframe thead th {\n",
       "        text-align: right;\n",
       "    }\n",
       "</style>\n",
       "<table border=\"1\" class=\"dataframe\">\n",
       "  <thead>\n",
       "    <tr style=\"text-align: right;\">\n",
       "      <th></th>\n",
       "      <th>CharacterId</th>\n",
       "      <th>Character</th>\n",
       "      <th>vote</th>\n",
       "      <th>MBTI</th>\n",
       "      <th>Enneagram</th>\n",
       "      <th>movieId</th>\n",
       "      <th>contents_year</th>\n",
       "      <th>Contents</th>\n",
       "      <th>ko_title</th>\n",
       "      <th>rating</th>\n",
       "      <th>npop</th>\n",
       "      <th>img_src</th>\n",
       "    </tr>\n",
       "  </thead>\n",
       "  <tbody>\n",
       "    <tr>\n",
       "      <th>0</th>\n",
       "      <td>13078</td>\n",
       "      <td>Bruno Madrigal</td>\n",
       "      <td>7300</td>\n",
       "      <td>ISFJ</td>\n",
       "      <td>6w5</td>\n",
       "      <td>300005</td>\n",
       "      <td>2021</td>\n",
       "      <td>Encanto (2021)</td>\n",
       "      <td>엔칸토: 마법의 세계</td>\n",
       "      <td>3.5</td>\n",
       "      <td>30000</td>\n",
       "      <td>https://static1.personality-database.com/profi...</td>\n",
       "    </tr>\n",
       "    <tr>\n",
       "      <th>1</th>\n",
       "      <td>19465</td>\n",
       "      <td>Tyler Durden</td>\n",
       "      <td>6900</td>\n",
       "      <td>ESTP</td>\n",
       "      <td>8w7</td>\n",
       "      <td>2959</td>\n",
       "      <td>1999</td>\n",
       "      <td>Fight Club (1999)</td>\n",
       "      <td>파이트 클럽</td>\n",
       "      <td>4.1</td>\n",
       "      <td>340000</td>\n",
       "      <td>https://static1.personality-database.com/profi...</td>\n",
       "    </tr>\n",
       "    <tr>\n",
       "      <th>2</th>\n",
       "      <td>22947</td>\n",
       "      <td>Elsa</td>\n",
       "      <td>6200</td>\n",
       "      <td>INFJ</td>\n",
       "      <td>1w9</td>\n",
       "      <td>75395</td>\n",
       "      <td>2019</td>\n",
       "      <td>Frozen (Franchise)</td>\n",
       "      <td>겨울왕국 2</td>\n",
       "      <td>3.6</td>\n",
       "      <td>170000</td>\n",
       "      <td>https://static1.personality-database.com/profi...</td>\n",
       "    </tr>\n",
       "    <tr>\n",
       "      <th>3</th>\n",
       "      <td>22948</td>\n",
       "      <td>Loki Laufeyson</td>\n",
       "      <td>6000</td>\n",
       "      <td>INFJ</td>\n",
       "      <td>4w3</td>\n",
       "      <td>300932</td>\n",
       "      <td>2012</td>\n",
       "      <td>Avengers</td>\n",
       "      <td>어벤져스</td>\n",
       "      <td>4.2</td>\n",
       "      <td>1850000</td>\n",
       "      <td>https://static1.personality-database.com/profi...</td>\n",
       "    </tr>\n",
       "    <tr>\n",
       "      <th>4</th>\n",
       "      <td>8133</td>\n",
       "      <td>Patrick Bateman</td>\n",
       "      <td>6000</td>\n",
       "      <td>ENTJ</td>\n",
       "      <td>3w4</td>\n",
       "      <td>3535</td>\n",
       "      <td>2000</td>\n",
       "      <td>American Psycho (2000)</td>\n",
       "      <td>아메리칸 사이코</td>\n",
       "      <td>3.7</td>\n",
       "      <td>140000</td>\n",
       "      <td>https://static1.personality-database.com/profi...</td>\n",
       "    </tr>\n",
       "    <tr>\n",
       "      <th>...</th>\n",
       "      <td>...</td>\n",
       "      <td>...</td>\n",
       "      <td>...</td>\n",
       "      <td>...</td>\n",
       "      <td>...</td>\n",
       "      <td>...</td>\n",
       "      <td>...</td>\n",
       "      <td>...</td>\n",
       "      <td>...</td>\n",
       "      <td>...</td>\n",
       "      <td>...</td>\n",
       "      <td>...</td>\n",
       "    </tr>\n",
       "    <tr>\n",
       "      <th>2862</th>\n",
       "      <td>24088</td>\n",
       "      <td>Captain Kaneda</td>\n",
       "      <td>10</td>\n",
       "      <td>INFJ</td>\n",
       "      <td>1w2</td>\n",
       "      <td>3720</td>\n",
       "      <td>2007</td>\n",
       "      <td>Sunshine (2007)</td>\n",
       "      <td>밀양</td>\n",
       "      <td>3.7</td>\n",
       "      <td>280000</td>\n",
       "      <td>https://static1.personality-database.com/profi...</td>\n",
       "    </tr>\n",
       "    <tr>\n",
       "      <th>2863</th>\n",
       "      <td>24092</td>\n",
       "      <td>Lucy</td>\n",
       "      <td>10</td>\n",
       "      <td>INFJ</td>\n",
       "      <td>1w9</td>\n",
       "      <td>148956</td>\n",
       "      <td>2016</td>\n",
       "      <td>How to Be Single (2016)</td>\n",
       "      <td>하우 투 비 싱글</td>\n",
       "      <td>3.4</td>\n",
       "      <td>20000</td>\n",
       "      <td>https://static1.personality-database.com/profi...</td>\n",
       "    </tr>\n",
       "    <tr>\n",
       "      <th>2864</th>\n",
       "      <td>2636</td>\n",
       "      <td>Jae-Sik</td>\n",
       "      <td>10</td>\n",
       "      <td>INFP</td>\n",
       "      <td>4w5</td>\n",
       "      <td>179779</td>\n",
       "      <td>2017</td>\n",
       "      <td>A Taxi Driver</td>\n",
       "      <td>택시운전사</td>\n",
       "      <td>4.1</td>\n",
       "      <td>1130000</td>\n",
       "      <td>https://static1.personality-database.com/profi...</td>\n",
       "    </tr>\n",
       "    <tr>\n",
       "      <th>2865</th>\n",
       "      <td>9197</td>\n",
       "      <td>Tae joon-gi</td>\n",
       "      <td>10</td>\n",
       "      <td>ENTJ</td>\n",
       "      <td>8w7</td>\n",
       "      <td>300637</td>\n",
       "      <td>2020</td>\n",
       "      <td>Escape from Mogadishu</td>\n",
       "      <td>모가디슈</td>\n",
       "      <td>3.5</td>\n",
       "      <td>100000</td>\n",
       "      <td>https://static1.personality-database.com/profi...</td>\n",
       "    </tr>\n",
       "    <tr>\n",
       "      <th>2866</th>\n",
       "      <td>9210</td>\n",
       "      <td>Christopher Marshall</td>\n",
       "      <td>10</td>\n",
       "      <td>ENTJ</td>\n",
       "      <td>3w2</td>\n",
       "      <td>5943</td>\n",
       "      <td>2002</td>\n",
       "      <td>Maid in Manhattan (2002)</td>\n",
       "      <td>러브 인 맨하탄</td>\n",
       "      <td>3.0</td>\n",
       "      <td>10000</td>\n",
       "      <td>https://static1.personality-database.com/profi...</td>\n",
       "    </tr>\n",
       "  </tbody>\n",
       "</table>\n",
       "<p>2867 rows × 12 columns</p>\n",
       "</div>"
      ],
      "text/plain": [
       "      CharacterId             Character  vote  MBTI Enneagram  movieId  \\\n",
       "0           13078        Bruno Madrigal  7300  ISFJ       6w5   300005   \n",
       "1           19465          Tyler Durden  6900  ESTP       8w7     2959   \n",
       "2           22947                  Elsa  6200  INFJ       1w9    75395   \n",
       "3           22948        Loki Laufeyson  6000  INFJ       4w3   300932   \n",
       "4            8133       Patrick Bateman  6000  ENTJ       3w4     3535   \n",
       "...           ...                   ...   ...   ...       ...      ...   \n",
       "2862        24088        Captain Kaneda    10  INFJ       1w2     3720   \n",
       "2863        24092                  Lucy    10  INFJ       1w9   148956   \n",
       "2864         2636               Jae-Sik    10  INFP       4w5   179779   \n",
       "2865         9197           Tae joon-gi    10  ENTJ       8w7   300637   \n",
       "2866         9210  Christopher Marshall    10  ENTJ       3w2     5943   \n",
       "\n",
       "     contents_year                  Contents     ko_title rating     npop  \\\n",
       "0             2021            Encanto (2021)  엔칸토: 마법의 세계    3.5    30000   \n",
       "1             1999         Fight Club (1999)       파이트 클럽    4.1   340000   \n",
       "2             2019        Frozen (Franchise)       겨울왕국 2    3.6   170000   \n",
       "3             2012                  Avengers         어벤져스    4.2  1850000   \n",
       "4             2000    American Psycho (2000)     아메리칸 사이코    3.7   140000   \n",
       "...            ...                       ...          ...    ...      ...   \n",
       "2862          2007           Sunshine (2007)           밀양    3.7   280000   \n",
       "2863          2016   How to Be Single (2016)    하우 투 비 싱글    3.4    20000   \n",
       "2864          2017             A Taxi Driver        택시운전사    4.1  1130000   \n",
       "2865          2020     Escape from Mogadishu         모가디슈    3.5   100000   \n",
       "2866          2002  Maid in Manhattan (2002)     러브 인 맨하탄    3.0    10000   \n",
       "\n",
       "                                                img_src  \n",
       "0     https://static1.personality-database.com/profi...  \n",
       "1     https://static1.personality-database.com/profi...  \n",
       "2     https://static1.personality-database.com/profi...  \n",
       "3     https://static1.personality-database.com/profi...  \n",
       "4     https://static1.personality-database.com/profi...  \n",
       "...                                                 ...  \n",
       "2862  https://static1.personality-database.com/profi...  \n",
       "2863  https://static1.personality-database.com/profi...  \n",
       "2864  https://static1.personality-database.com/profi...  \n",
       "2865  https://static1.personality-database.com/profi...  \n",
       "2866  https://static1.personality-database.com/profi...  \n",
       "\n",
       "[2867 rows x 12 columns]"
      ]
     },
     "execution_count": 25,
     "metadata": {},
     "output_type": "execute_result"
    }
   ],
   "source": [
    "cdfm"
   ]
  },
  {
   "cell_type": "code",
   "execution_count": 21,
   "id": "344a4603",
   "metadata": {
    "ExecuteTime": {
     "end_time": "2023-02-03T15:26:12.132262Z",
     "start_time": "2023-02-03T15:26:12.124794Z"
    }
   },
   "outputs": [],
   "source": [
    "cdfm = cdfm.merge(cdf[['CharacterId','img_src']],on='CharacterId')"
   ]
  },
  {
   "cell_type": "code",
   "execution_count": 23,
   "id": "aa9af192",
   "metadata": {
    "ExecuteTime": {
     "end_time": "2023-02-03T15:26:58.099551Z",
     "start_time": "2023-02-03T15:26:58.091229Z"
    }
   },
   "outputs": [],
   "source": [
    "cdfm.to_pickle('../../Utils/Pickle/230203_character_movie_merge.pickle')"
   ]
  }
 ],
 "metadata": {
  "kernelspec": {
   "display_name": "Python 3 (ipykernel)",
   "language": "python",
   "name": "python3"
  },
  "language_info": {
   "codemirror_mode": {
    "name": "ipython",
    "version": 3
   },
   "file_extension": ".py",
   "mimetype": "text/x-python",
   "name": "python",
   "nbconvert_exporter": "python",
   "pygments_lexer": "ipython3",
   "version": "3.8.5"
  },
  "toc": {
   "base_numbering": 1,
   "nav_menu": {},
   "number_sections": true,
   "sideBar": true,
   "skip_h1_title": false,
   "title_cell": "Table of Contents",
   "title_sidebar": "Contents",
   "toc_cell": false,
   "toc_position": {},
   "toc_section_display": true,
   "toc_window_display": false
  }
 },
 "nbformat": 4,
 "nbformat_minor": 5
}
