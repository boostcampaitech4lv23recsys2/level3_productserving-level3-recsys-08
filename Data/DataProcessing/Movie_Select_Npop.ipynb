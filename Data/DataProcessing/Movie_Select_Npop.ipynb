{
 "cells": [
  {
   "cell_type": "code",
   "execution_count": 16,
   "id": "8c663b59",
   "metadata": {
    "ExecuteTime": {
     "end_time": "2023-02-07T19:21:36.780310Z",
     "start_time": "2023-02-07T19:21:36.760307Z"
    }
   },
   "outputs": [],
   "source": [
    "import pandas as pd\n",
    "\n",
    "mdf = pd.read_pickle('../../Utils/Pickle/230130_Popular_movie_1192_cwj.pickle')\n",
    "cdf = pd.read_pickle('../../Utils/Pickle/230130_Popular_movie_character_2867_cwj.pickle')\n",
    "cdfm = pd.read_pickle('../../Utils/Pickle/230203_character_movie_merge.pickle')"
   ]
  },
  {
   "cell_type": "code",
   "execution_count": 3,
   "id": "dfb55b3a",
   "metadata": {
    "ExecuteTime": {
     "end_time": "2023-02-07T19:17:28.294058Z",
     "start_time": "2023-02-07T19:17:28.282149Z"
    }
   },
   "outputs": [
    {
     "data": {
      "text/plain": [
       "(34, 13)"
      ]
     },
     "execution_count": 3,
     "metadata": {},
     "output_type": "execute_result"
    }
   ],
   "source": [
    "mdf[(mdf['contents_year'] <= 2000) & (mdf['npop'] >= 300000)].shape"
   ]
  },
  {
   "cell_type": "code",
   "execution_count": 4,
   "id": "19eac905",
   "metadata": {
    "ExecuteTime": {
     "end_time": "2023-02-07T19:17:28.300796Z",
     "start_time": "2023-02-07T19:17:28.295848Z"
    }
   },
   "outputs": [
    {
     "data": {
      "text/plain": [
       "(277, 13)"
      ]
     },
     "execution_count": 4,
     "metadata": {},
     "output_type": "execute_result"
    }
   ],
   "source": [
    "mdf[(mdf['contents_year'] >= 2008) & (mdf['npop'] >= 100000)].shape"
   ]
  },
  {
   "cell_type": "code",
   "execution_count": 48,
   "id": "90cf0efd",
   "metadata": {
    "ExecuteTime": {
     "end_time": "2023-02-08T07:49:26.251640Z",
     "start_time": "2023-02-08T07:49:26.242174Z"
    }
   },
   "outputs": [],
   "source": [
    "mdf_select = mdf[((mdf['contents_year'] >= 2008) & (mdf['npop'] >= 100000)) | \\\n",
    "        ((mdf['contents_year'] <= 2000) & (mdf['npop'] >= 300000)) | \\\n",
    "        ((mdf['contents_year'] >= 2019) & (mdf['npop'] >= 10000)) |  \\\n",
    "        (mdf.country==\"한국\")  ]"
   ]
  },
  {
   "cell_type": "code",
   "execution_count": 49,
   "id": "2c986a6d",
   "metadata": {
    "ExecuteTime": {
     "end_time": "2023-02-08T07:49:29.251375Z",
     "start_time": "2023-02-08T07:49:29.247140Z"
    }
   },
   "outputs": [
    {
     "data": {
      "text/plain": [
       "(443, 13)"
      ]
     },
     "execution_count": 49,
     "metadata": {},
     "output_type": "execute_result"
    }
   ],
   "source": [
    "mdf_select.shape"
   ]
  },
  {
   "cell_type": "code",
   "execution_count": 42,
   "id": "d81faff2",
   "metadata": {
    "ExecuteTime": {
     "end_time": "2023-02-07T19:30:24.009835Z",
     "start_time": "2023-02-07T19:30:24.004965Z"
    }
   },
   "outputs": [
    {
     "data": {
      "text/plain": [
       "(57, 13)"
      ]
     },
     "execution_count": 42,
     "metadata": {},
     "output_type": "execute_result"
    }
   ],
   "source": [
    "mdf[mdf.country=='한국'].shape"
   ]
  },
  {
   "cell_type": "code",
   "execution_count": 47,
   "id": "209c059f",
   "metadata": {
    "ExecuteTime": {
     "end_time": "2023-02-08T07:48:29.925993Z",
     "start_time": "2023-02-08T07:48:29.906897Z"
    }
   },
   "outputs": [
    {
     "data": {
      "text/html": [
       "<div>\n",
       "<style scoped>\n",
       "    .dataframe tbody tr th:only-of-type {\n",
       "        vertical-align: middle;\n",
       "    }\n",
       "\n",
       "    .dataframe tbody tr th {\n",
       "        vertical-align: top;\n",
       "    }\n",
       "\n",
       "    .dataframe thead th {\n",
       "        text-align: right;\n",
       "    }\n",
       "</style>\n",
       "<table border=\"1\" class=\"dataframe\">\n",
       "  <thead>\n",
       "    <tr style=\"text-align: right;\">\n",
       "      <th></th>\n",
       "      <th>Contents</th>\n",
       "      <th>ko_title</th>\n",
       "      <th>contents_year</th>\n",
       "      <th>country</th>\n",
       "      <th>ko_genre</th>\n",
       "      <th>ko_plot</th>\n",
       "      <th>rating</th>\n",
       "      <th>npop</th>\n",
       "      <th>genres</th>\n",
       "      <th>plot</th>\n",
       "      <th>directors</th>\n",
       "      <th>actors</th>\n",
       "      <th>movieId</th>\n",
       "    </tr>\n",
       "  </thead>\n",
       "  <tbody>\n",
       "    <tr>\n",
       "      <th>43</th>\n",
       "      <td>Run (2020)</td>\n",
       "      <td>런 온</td>\n",
       "      <td>2020</td>\n",
       "      <td>한국</td>\n",
       "      <td>드라마/TV드라마</td>\n",
       "      <td>같은 한국말을 쓰면서도 소통이 어려운 시대, 서로 다른 세계에 살던 사람들이 각자의...</td>\n",
       "      <td>3.8</td>\n",
       "      <td>10000</td>\n",
       "      <td>'Mystery', 'Thriller'</td>\n",
       "      <td>A homeschooled teenager begins to suspect her ...</td>\n",
       "      <td>'Aneesh Chaganty'</td>\n",
       "      <td>'Sarah Paulson', 'Kiera Allen', 'Sara Sohn', '...</td>\n",
       "      <td>7127</td>\n",
       "    </tr>\n",
       "    <tr>\n",
       "      <th>72</th>\n",
       "      <td>Z-O-M-B-I-E-S (2018)</td>\n",
       "      <td>기묘한 가족</td>\n",
       "      <td>2018</td>\n",
       "      <td>한국</td>\n",
       "      <td>코미디</td>\n",
       "      <td>망해버린 주유소의 트러블메이커 가장 '만덕'은 우연히 만난 좀비를 집안에 들인다. ...</td>\n",
       "      <td>3.0</td>\n",
       "      <td>20000</td>\n",
       "      <td>'Adventure', 'Family', 'Fantasy', 'Musical', '...</td>\n",
       "      <td>NaN</td>\n",
       "      <td>'Paul Hoen'</td>\n",
       "      <td>'Milo Manheim', 'Meg Donnelly', 'Trevor Tordjm...</td>\n",
       "      <td>300018</td>\n",
       "    </tr>\n",
       "    <tr>\n",
       "      <th>96</th>\n",
       "      <td>Split (2016)</td>\n",
       "      <td>스플릿</td>\n",
       "      <td>2016</td>\n",
       "      <td>한국</td>\n",
       "      <td>드라마</td>\n",
       "      <td>과거 볼링계의 전설이라 불리며 이름을 날리던 ‘철종’은 불운의 사고로 모든 것을 잃...</td>\n",
       "      <td>3.3</td>\n",
       "      <td>70000</td>\n",
       "      <td>'Horror', 'Thriller'</td>\n",
       "      <td>NaN</td>\n",
       "      <td>'M. Night Shyamalan'</td>\n",
       "      <td>'James McAvoy', 'Anya Taylor-Joy', 'Betty Buck...</td>\n",
       "      <td>166534</td>\n",
       "    </tr>\n",
       "    <tr>\n",
       "      <th>125</th>\n",
       "      <td>Parasite (2019)</td>\n",
       "      <td>기생충</td>\n",
       "      <td>2019</td>\n",
       "      <td>한국</td>\n",
       "      <td>드라마</td>\n",
       "      <td>“폐 끼치고 싶진 않았어요”</td>\n",
       "      <td>4.3</td>\n",
       "      <td>1120000</td>\n",
       "      <td>'Drama', 'Thriller'</td>\n",
       "      <td>Greed and class discrimination threaten the ne...</td>\n",
       "      <td>'Bong Joon Ho'</td>\n",
       "      <td>'Song Kang-ho', 'Lee Sun-kyun', 'Cho Yeo-jeong...</td>\n",
       "      <td>2256</td>\n",
       "    </tr>\n",
       "    <tr>\n",
       "      <th>141</th>\n",
       "      <td>Seoul Vibe</td>\n",
       "      <td>서울대작전</td>\n",
       "      <td>2022</td>\n",
       "      <td>한국</td>\n",
       "      <td>액션/모험</td>\n",
       "      <td>전 세계가 열광하는 올림픽을 앞둔 1988년 서울. 패션은 올드 스쿨! 음악은 감성...</td>\n",
       "      <td>1.9</td>\n",
       "      <td>10000</td>\n",
       "      <td>'Action', 'Comedy', 'Crime', 'Drama'</td>\n",
       "      <td>NaN</td>\n",
       "      <td>'Hyun-Sung Moon'</td>\n",
       "      <td>'Yoo Ah-in', 'Go Kyung-Pyo', 'Lee Kyoo-hyung',...</td>\n",
       "      <td>300058</td>\n",
       "    </tr>\n",
       "    <tr>\n",
       "      <th>...</th>\n",
       "      <td>...</td>\n",
       "      <td>...</td>\n",
       "      <td>...</td>\n",
       "      <td>...</td>\n",
       "      <td>...</td>\n",
       "      <td>...</td>\n",
       "      <td>...</td>\n",
       "      <td>...</td>\n",
       "      <td>...</td>\n",
       "      <td>...</td>\n",
       "      <td>...</td>\n",
       "      <td>...</td>\n",
       "      <td>...</td>\n",
       "    </tr>\n",
       "    <tr>\n",
       "      <th>1129</th>\n",
       "      <td>A Violent Prosecutor</td>\n",
       "      <td>검사외전</td>\n",
       "      <td>2015</td>\n",
       "      <td>한국</td>\n",
       "      <td>드라마/액션/코미디/범죄</td>\n",
       "      <td>진실 앞에 무대뽀, 다혈질 검사,</td>\n",
       "      <td>3.7</td>\n",
       "      <td>1260000</td>\n",
       "      <td>'Action', 'Crime', 'Thriller'</td>\n",
       "      <td>NaN</td>\n",
       "      <td>'Il-Hyeong Lee'</td>\n",
       "      <td>'Hwang Jung-min', 'Dong-won Gang', 'Kim Byeong...</td>\n",
       "      <td>159419</td>\n",
       "    </tr>\n",
       "    <tr>\n",
       "      <th>1143</th>\n",
       "      <td>THE OUTLAWS (2017)</td>\n",
       "      <td>범죄도시</td>\n",
       "      <td>2017</td>\n",
       "      <td>한국</td>\n",
       "      <td>범죄/액션</td>\n",
       "      <td>“오늘 밤, 다 쓸어버린다!” 2004년 서울… 하얼빈에서 넘어와 단숨에 기존 조직...</td>\n",
       "      <td>4.0</td>\n",
       "      <td>780000</td>\n",
       "      <td>'Action', 'Crime', 'Thriller'</td>\n",
       "      <td>Based on real events, this crime action film d...</td>\n",
       "      <td>'Yoon-Seong Kang'</td>\n",
       "      <td>'Ma Dong-seok', 'Yoon Kyesang', 'Jo Jae-yoon',...</td>\n",
       "      <td>191873</td>\n",
       "    </tr>\n",
       "    <tr>\n",
       "      <th>1152</th>\n",
       "      <td>Offender</td>\n",
       "      <td>범죄소년</td>\n",
       "      <td>2012</td>\n",
       "      <td>한국</td>\n",
       "      <td>드라마/범죄</td>\n",
       "      <td>보호관찰중인 범죄소년 장지구(서영주)는 죽음을 앞두고 있는 할아버지와 단 둘이 살아...</td>\n",
       "      <td>3.0</td>\n",
       "      <td>10000</td>\n",
       "      <td>'Action', 'Crime', 'Drama', 'Thriller'</td>\n",
       "      <td>Justice needs to be served at Britain's most n...</td>\n",
       "      <td>'Ron Scalpello'</td>\n",
       "      <td>'Joe Cole', 'English Frank', 'Kimberley Nixon'...</td>\n",
       "      <td>99594</td>\n",
       "    </tr>\n",
       "    <tr>\n",
       "      <th>1161</th>\n",
       "      <td>Tune in for Love (2019)</td>\n",
       "      <td>유열의 음악앨범</td>\n",
       "      <td>2019</td>\n",
       "      <td>한국</td>\n",
       "      <td>로맨스/드라마</td>\n",
       "      <td>\"오늘 기적이 일어났어요.\"</td>\n",
       "      <td>2.9</td>\n",
       "      <td>30000</td>\n",
       "      <td>'Drama', 'Romance'</td>\n",
       "      <td>In 1994 during the IMF crisis, two people meet...</td>\n",
       "      <td>'Ji-woo Jung'</td>\n",
       "      <td>'Kim Go-eun', 'Jung Hae-in', 'Park Hae-joon', ...</td>\n",
       "      <td>300915</td>\n",
       "    </tr>\n",
       "    <tr>\n",
       "      <th>1173</th>\n",
       "      <td>Arrow</td>\n",
       "      <td>최종병기 활</td>\n",
       "      <td>2011</td>\n",
       "      <td>한국</td>\n",
       "      <td>시대극/액션/전쟁</td>\n",
       "      <td>50만 포로가 끌려간 병자호란, 치열했던 전쟁의 한 복판에 역사가 기록하지 못한 위...</td>\n",
       "      <td>3.6</td>\n",
       "      <td>670000</td>\n",
       "      <td>'Action', 'Adventure', 'Crime', 'Drama', 'Myst...</td>\n",
       "      <td>Spoiled billionaire playboy Oliver Queen is mi...</td>\n",
       "      <td>NaN</td>\n",
       "      <td>'David Ramsey', 'Stephen Amell', 'Emily Bett R...</td>\n",
       "      <td>300941</td>\n",
       "    </tr>\n",
       "  </tbody>\n",
       "</table>\n",
       "<p>62 rows × 13 columns</p>\n",
       "</div>"
      ],
      "text/plain": [
       "                     Contents  ko_title  contents_year country       ko_genre  \\\n",
       "43                 Run (2020)       런 온           2020      한국      드라마/TV드라마   \n",
       "72       Z-O-M-B-I-E-S (2018)    기묘한 가족           2018      한국            코미디   \n",
       "96               Split (2016)       스플릿           2016      한국            드라마   \n",
       "125           Parasite (2019)       기생충           2019      한국            드라마   \n",
       "141                Seoul Vibe     서울대작전           2022      한국          액션/모험   \n",
       "...                       ...       ...            ...     ...            ...   \n",
       "1129     A Violent Prosecutor      검사외전           2015      한국  드라마/액션/코미디/범죄   \n",
       "1143       THE OUTLAWS (2017)      범죄도시           2017      한국          범죄/액션   \n",
       "1152                 Offender      범죄소년           2012      한국         드라마/범죄   \n",
       "1161  Tune in for Love (2019)  유열의 음악앨범           2019      한국        로맨스/드라마   \n",
       "1173                    Arrow    최종병기 활           2011      한국      시대극/액션/전쟁   \n",
       "\n",
       "                                                ko_plot rating     npop  \\\n",
       "43    같은 한국말을 쓰면서도 소통이 어려운 시대, 서로 다른 세계에 살던 사람들이 각자의...    3.8    10000   \n",
       "72    망해버린 주유소의 트러블메이커 가장 '만덕'은 우연히 만난 좀비를 집안에 들인다. ...    3.0    20000   \n",
       "96    과거 볼링계의 전설이라 불리며 이름을 날리던 ‘철종’은 불운의 사고로 모든 것을 잃...    3.3    70000   \n",
       "125                                     “폐 끼치고 싶진 않았어요”    4.3  1120000   \n",
       "141   전 세계가 열광하는 올림픽을 앞둔 1988년 서울. 패션은 올드 스쿨! 음악은 감성...    1.9    10000   \n",
       "...                                                 ...    ...      ...   \n",
       "1129                                진실 앞에 무대뽀, 다혈질 검사,     3.7  1260000   \n",
       "1143  “오늘 밤, 다 쓸어버린다!” 2004년 서울… 하얼빈에서 넘어와 단숨에 기존 조직...    4.0   780000   \n",
       "1152  보호관찰중인 범죄소년 장지구(서영주)는 죽음을 앞두고 있는 할아버지와 단 둘이 살아...    3.0    10000   \n",
       "1161                                   \"오늘 기적이 일어났어요.\"     2.9    30000   \n",
       "1173  50만 포로가 끌려간 병자호란, 치열했던 전쟁의 한 복판에 역사가 기록하지 못한 위...    3.6   670000   \n",
       "\n",
       "                                                 genres  \\\n",
       "43                                'Mystery', 'Thriller'   \n",
       "72    'Adventure', 'Family', 'Fantasy', 'Musical', '...   \n",
       "96                                 'Horror', 'Thriller'   \n",
       "125                                 'Drama', 'Thriller'   \n",
       "141                'Action', 'Comedy', 'Crime', 'Drama'   \n",
       "...                                                 ...   \n",
       "1129                      'Action', 'Crime', 'Thriller'   \n",
       "1143                      'Action', 'Crime', 'Thriller'   \n",
       "1152             'Action', 'Crime', 'Drama', 'Thriller'   \n",
       "1161                                 'Drama', 'Romance'   \n",
       "1173  'Action', 'Adventure', 'Crime', 'Drama', 'Myst...   \n",
       "\n",
       "                                                   plot             directors  \\\n",
       "43    A homeschooled teenager begins to suspect her ...     'Aneesh Chaganty'   \n",
       "72                                                  NaN           'Paul Hoen'   \n",
       "96                                                  NaN  'M. Night Shyamalan'   \n",
       "125   Greed and class discrimination threaten the ne...        'Bong Joon Ho'   \n",
       "141                                                 NaN      'Hyun-Sung Moon'   \n",
       "...                                                 ...                   ...   \n",
       "1129                                                NaN       'Il-Hyeong Lee'   \n",
       "1143  Based on real events, this crime action film d...     'Yoon-Seong Kang'   \n",
       "1152  Justice needs to be served at Britain's most n...       'Ron Scalpello'   \n",
       "1161  In 1994 during the IMF crisis, two people meet...         'Ji-woo Jung'   \n",
       "1173  Spoiled billionaire playboy Oliver Queen is mi...                   NaN   \n",
       "\n",
       "                                                 actors  movieId  \n",
       "43    'Sarah Paulson', 'Kiera Allen', 'Sara Sohn', '...     7127  \n",
       "72    'Milo Manheim', 'Meg Donnelly', 'Trevor Tordjm...   300018  \n",
       "96    'James McAvoy', 'Anya Taylor-Joy', 'Betty Buck...   166534  \n",
       "125   'Song Kang-ho', 'Lee Sun-kyun', 'Cho Yeo-jeong...     2256  \n",
       "141   'Yoo Ah-in', 'Go Kyung-Pyo', 'Lee Kyoo-hyung',...   300058  \n",
       "...                                                 ...      ...  \n",
       "1129  'Hwang Jung-min', 'Dong-won Gang', 'Kim Byeong...   159419  \n",
       "1143  'Ma Dong-seok', 'Yoon Kyesang', 'Jo Jae-yoon',...   191873  \n",
       "1152  'Joe Cole', 'English Frank', 'Kimberley Nixon'...    99594  \n",
       "1161  'Kim Go-eun', 'Jung Hae-in', 'Park Hae-joon', ...   300915  \n",
       "1173  'David Ramsey', 'Stephen Amell', 'Emily Bett R...   300941  \n",
       "\n",
       "[62 rows x 13 columns]"
      ]
     },
     "execution_count": 47,
     "metadata": {},
     "output_type": "execute_result"
    }
   ],
   "source": [
    "mdf[(mdf.country.str.contains('한국'))]"
   ]
  },
  {
   "cell_type": "code",
   "execution_count": 36,
   "id": "0851c053",
   "metadata": {
    "ExecuteTime": {
     "end_time": "2023-02-07T19:25:34.161367Z",
     "start_time": "2023-02-07T19:25:34.157579Z"
    }
   },
   "outputs": [
    {
     "data": {
      "text/plain": [
       "(443, 13)"
      ]
     },
     "execution_count": 36,
     "metadata": {},
     "output_type": "execute_result"
    }
   ],
   "source": [
    "mdf_select.shape"
   ]
  },
  {
   "cell_type": "code",
   "execution_count": 21,
   "id": "344a4603",
   "metadata": {
    "ExecuteTime": {
     "end_time": "2023-02-03T15:26:12.132262Z",
     "start_time": "2023-02-03T15:26:12.124794Z"
    }
   },
   "outputs": [],
   "source": [
    "cdfm = cdfm.merge(cdf[['CharacterId','img_src']],on='CharacterId')"
   ]
  },
  {
   "cell_type": "code",
   "execution_count": 23,
   "id": "aa9af192",
   "metadata": {
    "ExecuteTime": {
     "end_time": "2023-02-03T15:26:58.099551Z",
     "start_time": "2023-02-03T15:26:58.091229Z"
    }
   },
   "outputs": [],
   "source": [
    "cdfm.to_pickle('../../Utils/Pickle/230203_character_movie_merge.pickle')"
   ]
  },
  {
   "cell_type": "code",
   "execution_count": 37,
   "id": "9b56d8ee",
   "metadata": {
    "ExecuteTime": {
     "end_time": "2023-02-07T19:29:11.469394Z",
     "start_time": "2023-02-07T19:29:11.465526Z"
    }
   },
   "outputs": [],
   "source": [
    "df = pd.read_pickle('../../Utils/Pickle/movie_random_select_final.pickle')"
   ]
  },
  {
   "cell_type": "code",
   "execution_count": 40,
   "id": "a75bdd17",
   "metadata": {
    "ExecuteTime": {
     "end_time": "2023-02-07T19:29:44.118384Z",
     "start_time": "2023-02-07T19:29:44.108997Z"
    }
   },
   "outputs": [
    {
     "data": {
      "text/html": [
       "<div>\n",
       "<style scoped>\n",
       "    .dataframe tbody tr th:only-of-type {\n",
       "        vertical-align: middle;\n",
       "    }\n",
       "\n",
       "    .dataframe tbody tr th {\n",
       "        vertical-align: top;\n",
       "    }\n",
       "\n",
       "    .dataframe thead th {\n",
       "        text-align: right;\n",
       "    }\n",
       "</style>\n",
       "<table border=\"1\" class=\"dataframe\">\n",
       "  <thead>\n",
       "    <tr style=\"text-align: right;\">\n",
       "      <th></th>\n",
       "      <th>movieId</th>\n",
       "      <th>country</th>\n",
       "    </tr>\n",
       "  </thead>\n",
       "  <tbody>\n",
       "    <tr>\n",
       "      <th>0</th>\n",
       "      <td>73141</td>\n",
       "      <td>미국</td>\n",
       "    </tr>\n",
       "    <tr>\n",
       "      <th>1</th>\n",
       "      <td>122470</td>\n",
       "      <td>미국</td>\n",
       "    </tr>\n",
       "    <tr>\n",
       "      <th>2</th>\n",
       "      <td>152081</td>\n",
       "      <td>미국</td>\n",
       "    </tr>\n",
       "    <tr>\n",
       "      <th>3</th>\n",
       "      <td>4447</td>\n",
       "      <td>미국</td>\n",
       "    </tr>\n",
       "    <tr>\n",
       "      <th>4</th>\n",
       "      <td>1246</td>\n",
       "      <td>미국</td>\n",
       "    </tr>\n",
       "    <tr>\n",
       "      <th>...</th>\n",
       "      <td>...</td>\n",
       "      <td>...</td>\n",
       "    </tr>\n",
       "    <tr>\n",
       "      <th>1187</th>\n",
       "      <td>300997</td>\n",
       "      <td>미국</td>\n",
       "    </tr>\n",
       "    <tr>\n",
       "      <th>1188</th>\n",
       "      <td>300998</td>\n",
       "      <td>미국</td>\n",
       "    </tr>\n",
       "    <tr>\n",
       "      <th>1189</th>\n",
       "      <td>300999</td>\n",
       "      <td>미국,독일,영국</td>\n",
       "    </tr>\n",
       "    <tr>\n",
       "      <th>1190</th>\n",
       "      <td>301010</td>\n",
       "      <td>미국,스위스</td>\n",
       "    </tr>\n",
       "    <tr>\n",
       "      <th>1191</th>\n",
       "      <td>301014</td>\n",
       "      <td>미국</td>\n",
       "    </tr>\n",
       "  </tbody>\n",
       "</table>\n",
       "<p>1192 rows × 2 columns</p>\n",
       "</div>"
      ],
      "text/plain": [
       "      movieId   country\n",
       "0       73141        미국\n",
       "1      122470        미국\n",
       "2      152081        미국\n",
       "3        4447        미국\n",
       "4        1246        미국\n",
       "...       ...       ...\n",
       "1187   300997        미국\n",
       "1188   300998        미국\n",
       "1189   300999  미국,독일,영국\n",
       "1190   301010    미국,스위스\n",
       "1191   301014        미국\n",
       "\n",
       "[1192 rows x 2 columns]"
      ]
     },
     "execution_count": 40,
     "metadata": {},
     "output_type": "execute_result"
    }
   ],
   "source": [
    "mdf[['movieId','country']]"
   ]
  },
  {
   "cell_type": "code",
   "execution_count": 46,
   "id": "4a5d3ff0",
   "metadata": {
    "ExecuteTime": {
     "end_time": "2023-02-07T19:31:35.642776Z",
     "start_time": "2023-02-07T19:31:35.634259Z"
    }
   },
   "outputs": [],
   "source": [
    "df.merge(mdf[['movieId','country']],on='movieId').to_pickle('../../Utils/Pickle/movie_random_select_final2.pickle')"
   ]
  }
 ],
 "metadata": {
  "kernelspec": {
   "display_name": "Python 3 (ipykernel)",
   "language": "python",
   "name": "python3"
  },
  "language_info": {
   "codemirror_mode": {
    "name": "ipython",
    "version": 3
   },
   "file_extension": ".py",
   "mimetype": "text/x-python",
   "name": "python",
   "nbconvert_exporter": "python",
   "pygments_lexer": "ipython3",
   "version": "3.8.5"
  },
  "toc": {
   "base_numbering": 1,
   "nav_menu": {},
   "number_sections": true,
   "sideBar": true,
   "skip_h1_title": false,
   "title_cell": "Table of Contents",
   "title_sidebar": "Contents",
   "toc_cell": false,
   "toc_position": {},
   "toc_section_display": true,
   "toc_window_display": false
  }
 },
 "nbformat": 4,
 "nbformat_minor": 5
}
