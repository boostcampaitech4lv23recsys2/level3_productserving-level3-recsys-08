{
 "cells": [
  {
   "cell_type": "code",
   "execution_count": 1,
   "id": "c4316caa",
   "metadata": {
    "ExecuteTime": {
     "end_time": "2023-01-24T19:15:00.676742Z",
     "start_time": "2023-01-24T19:15:00.370298Z"
    }
   },
   "outputs": [],
   "source": [
    "import pandas as pd"
   ]
  },
  {
   "cell_type": "code",
   "execution_count": 2,
   "id": "b060ccb3",
   "metadata": {
    "ExecuteTime": {
     "end_time": "2023-01-24T19:15:09.311174Z",
     "start_time": "2023-01-24T19:15:09.074036Z"
    }
   },
   "outputs": [],
   "source": [
    "df = pd.read_csv('no_charactor_3229_plus_side_info_plus_korean_genre_and_plot.csv')"
   ]
  },
  {
   "cell_type": "code",
   "execution_count": 9,
   "id": "2ee8d0a1",
   "metadata": {
    "ExecuteTime": {
     "end_time": "2023-01-24T19:16:07.373364Z",
     "start_time": "2023-01-24T19:16:07.366689Z"
    }
   },
   "outputs": [
    {
     "data": {
      "text/plain": [
       "Series([], Name: genres, dtype: int64)"
      ]
     },
     "execution_count": 9,
     "metadata": {},
     "output_type": "execute_result"
    }
   ],
   "source": [
    "df[df.ko_genres==\"장르 정보 없음\"].genres.value_counts()"
   ]
  },
  {
   "cell_type": "code",
   "execution_count": 12,
   "id": "72495d01",
   "metadata": {
    "ExecuteTime": {
     "end_time": "2023-01-24T19:16:26.706940Z",
     "start_time": "2023-01-24T19:16:26.699875Z"
    }
   },
   "outputs": [
    {
     "data": {
      "text/plain": [
       "[\"GREETINGS AND SALUTATIONS. Cate and Lori decided to kill a bottle of wine and dish on 1989's cult classic Heathers starring Winona Ryder, Christian Slater, and Shannen Doherty.\", 'GREETINGS AND SALUTATIONS. Cate and Lori decided to kill a bottle of wine and dish on 1989\\'s cult classic Heathers starring Winona Ryder, Christian Slater, and Shannen Doherty. It\\'s no secret this film is \"so very\" with its dark humor and colorful characters, so the good time gals invite you to join their clique as they get into the red scrunchie of it all.']    1\n",
       "Name: plot, dtype: int64"
      ]
     },
     "execution_count": 12,
     "metadata": {},
     "output_type": "execute_result"
    }
   ],
   "source": [
    "df[df.ko_genres==\"장르 정보 없음\"]['plot'].value_counts()"
   ]
  },
  {
   "cell_type": "code",
   "execution_count": 18,
   "id": "45959e85",
   "metadata": {
    "ExecuteTime": {
     "end_time": "2023-01-24T19:17:23.912367Z",
     "start_time": "2023-01-24T19:17:23.900550Z"
    }
   },
   "outputs": [
    {
     "data": {
      "text/html": [
       "<div>\n",
       "<style scoped>\n",
       "    .dataframe tbody tr th:only-of-type {\n",
       "        vertical-align: middle;\n",
       "    }\n",
       "\n",
       "    .dataframe tbody tr th {\n",
       "        vertical-align: top;\n",
       "    }\n",
       "\n",
       "    .dataframe thead th {\n",
       "        text-align: right;\n",
       "    }\n",
       "</style>\n",
       "<table border=\"1\" class=\"dataframe\">\n",
       "  <thead>\n",
       "    <tr style=\"text-align: right;\">\n",
       "      <th></th>\n",
       "      <th>movieId</th>\n",
       "      <th>ko_genres</th>\n",
       "      <th>ko_plot</th>\n",
       "    </tr>\n",
       "  </thead>\n",
       "  <tbody>\n",
       "    <tr>\n",
       "      <th>0</th>\n",
       "      <td>73141</td>\n",
       "      <td>'애니메이션', '어드벤처', '코미디', '가족', '판타지', '뮤지컬'</td>\n",
       "      <td>고대 폴리네시아에서, 반신 마우이가 발생한 끔찍한 저주가 모아 나 섬에 도착했을 때...</td>\n",
       "    </tr>\n",
       "    <tr>\n",
       "      <th>1</th>\n",
       "      <td>122470</td>\n",
       "      <td>'애니메이션', '어드벤처', '코미디', '드라마', '가족', '판타지'</td>\n",
       "      <td>젊은 라일리가 중서부 생활에서 뿌리를 내리고 샌프란시스코로 이사 한 후, 그녀의 감...</td>\n",
       "    </tr>\n",
       "    <tr>\n",
       "      <th>2</th>\n",
       "      <td>152081</td>\n",
       "      <td>'애니메이션', '어드벤처', '코미디', '범죄', '가족', '미스터리'</td>\n",
       "      <td>의인화 동물 도시에서 신인 토끼 경찰과 냉소적 인 사기 아티스트 폭스는 음모를 밝히...</td>\n",
       "    </tr>\n",
       "    <tr>\n",
       "      <th>3</th>\n",
       "      <td>4447</td>\n",
       "      <td>'코미디', '로맨</td>\n",
       "      <td>줄거리 정보 없음</td>\n",
       "    </tr>\n",
       "    <tr>\n",
       "      <th>4</th>\n",
       "      <td>1246</td>\n",
       "      <td>'코미디', '드라</td>\n",
       "      <td>매버릭 교사 인 존 키팅 (John Keating)은시를 사용하여 그의 기숙 학교 ...</td>\n",
       "    </tr>\n",
       "    <tr>\n",
       "      <th>...</th>\n",
       "      <td>...</td>\n",
       "      <td>...</td>\n",
       "      <td>...</td>\n",
       "    </tr>\n",
       "    <tr>\n",
       "      <th>3224</th>\n",
       "      <td>27482</td>\n",
       "      <td>장르 정보 없음</td>\n",
       "      <td>줄거리 정보 없음</td>\n",
       "    </tr>\n",
       "    <tr>\n",
       "      <th>3225</th>\n",
       "      <td>76208</td>\n",
       "      <td>장르 정보 없음</td>\n",
       "      <td>줄거리 정보 없음</td>\n",
       "    </tr>\n",
       "    <tr>\n",
       "      <th>3226</th>\n",
       "      <td>177115</td>\n",
       "      <td>'전기', '드라마', '역</td>\n",
       "      <td>기업 변호사 변호사는 오랫동안 오염의 역사를 드러내는 화학 회사에 대한 환경 소송을...</td>\n",
       "    </tr>\n",
       "    <tr>\n",
       "      <th>3227</th>\n",
       "      <td>68269</td>\n",
       "      <td>'전기', '드라마', '역사', '로맨스'</td>\n",
       "      <td>빅토리아 여왕의 통치의 첫해와 앨버트 왕자와의 지속적인 로맨스의 드라마화.\"그녀의 ...</td>\n",
       "    </tr>\n",
       "    <tr>\n",
       "      <th>3228</th>\n",
       "      <td>118880</td>\n",
       "      <td>장르 정보 없음</td>\n",
       "      <td>줄거리 정보 없음</td>\n",
       "    </tr>\n",
       "  </tbody>\n",
       "</table>\n",
       "<p>3229 rows × 3 columns</p>\n",
       "</div>"
      ],
      "text/plain": [
       "      movieId                                   ko_genres  \\\n",
       "0       73141  '애니메이션', '어드벤처', '코미디', '가족', '판타지', '뮤지컬'   \n",
       "1      122470  '애니메이션', '어드벤처', '코미디', '드라마', '가족', '판타지'   \n",
       "2      152081  '애니메이션', '어드벤처', '코미디', '범죄', '가족', '미스터리'   \n",
       "3        4447                                  '코미디', '로맨   \n",
       "4        1246                                  '코미디', '드라   \n",
       "...       ...                                         ...   \n",
       "3224    27482                                    장르 정보 없음   \n",
       "3225    76208                                    장르 정보 없음   \n",
       "3226   177115                             '전기', '드라마', '역   \n",
       "3227    68269                    '전기', '드라마', '역사', '로맨스'   \n",
       "3228   118880                                    장르 정보 없음   \n",
       "\n",
       "                                                ko_plot  \n",
       "0     고대 폴리네시아에서, 반신 마우이가 발생한 끔찍한 저주가 모아 나 섬에 도착했을 때...  \n",
       "1     젊은 라일리가 중서부 생활에서 뿌리를 내리고 샌프란시스코로 이사 한 후, 그녀의 감...  \n",
       "2     의인화 동물 도시에서 신인 토끼 경찰과 냉소적 인 사기 아티스트 폭스는 음모를 밝히...  \n",
       "3                                             줄거리 정보 없음  \n",
       "4     매버릭 교사 인 존 키팅 (John Keating)은시를 사용하여 그의 기숙 학교 ...  \n",
       "...                                                 ...  \n",
       "3224                                          줄거리 정보 없음  \n",
       "3225                                          줄거리 정보 없음  \n",
       "3226  기업 변호사 변호사는 오랫동안 오염의 역사를 드러내는 화학 회사에 대한 환경 소송을...  \n",
       "3227  빅토리아 여왕의 통치의 첫해와 앨버트 왕자와의 지속적인 로맨스의 드라마화.\"그녀의 ...  \n",
       "3228                                          줄거리 정보 없음  \n",
       "\n",
       "[3229 rows x 3 columns]"
      ]
     },
     "execution_count": 18,
     "metadata": {},
     "output_type": "execute_result"
    }
   ],
   "source": [
    "df2 = df[['movieId','ko_genres','ko_plot']].copy()\n",
    "df2.movieId=df2.movieId.astype(int)\n",
    "df2"
   ]
  },
  {
   "cell_type": "code",
   "execution_count": 34,
   "id": "e36d413b",
   "metadata": {
    "ExecuteTime": {
     "end_time": "2023-01-25T02:46:31.033927Z",
     "start_time": "2023-01-25T02:46:30.909713Z"
    }
   },
   "outputs": [
    {
     "name": "stdout",
     "output_type": "stream",
     "text": [
      "Genre_Processing.ipynb\r\n",
      "MBTI_Character_duplicate_processing.ipynb\r\n",
      "MBTI_X_Enneagram_18x18_matrix.ipynb\r\n",
      "MBTI_merge_movieLens_3229_movie.csv\r\n",
      "Recommend_Data_Processing.ipynb\r\n",
      "enneagram_similarity.csv\r\n",
      "mbti_ml_match_dict.pkl\r\n",
      "no_charactor_3229_plus_side_info_plus_korean_genre_and_plot.csv\r\n"
     ]
    }
   ],
   "source": [
    "!ls"
   ]
  },
  {
   "cell_type": "code",
   "execution_count": 36,
   "id": "1e35c220",
   "metadata": {
    "ExecuteTime": {
     "end_time": "2023-01-25T03:23:47.132766Z",
     "start_time": "2023-01-25T03:23:47.008465Z"
    }
   },
   "outputs": [
    {
     "name": "stdout",
     "output_type": "stream",
     "text": [
      "/opt/ml/project/Data/DataProcessing\r\n"
     ]
    }
   ],
   "source": [
    "!pwd"
   ]
  },
  {
   "cell_type": "code",
   "execution_count": 35,
   "id": "033c4d6e",
   "metadata": {
    "ExecuteTime": {
     "end_time": "2023-01-25T02:46:36.595671Z",
     "start_time": "2023-01-25T02:46:36.499968Z"
    }
   },
   "outputs": [],
   "source": [
    "df2.to_csv('movie_genre_plot.csv',index=False)"
   ]
  },
  {
   "cell_type": "code",
   "execution_count": 38,
   "id": "bd34c6e5",
   "metadata": {
    "ExecuteTime": {
     "end_time": "2023-01-25T05:22:06.713154Z",
     "start_time": "2023-01-25T05:22:06.706370Z"
    }
   },
   "outputs": [
    {
     "data": {
      "text/plain": [
       "장르 정보 없음                                     240\n",
       "'코미디', '드라마', '로맨                            150\n",
       "드라                                           134\n",
       "'드라마', '로맨                                   130\n",
       "'코미디', '드라                                    93\n",
       "                                            ... \n",
       "'액션', '코미디', '드라마', '로맨스', '스릴러'               1\n",
       "'드라마', '판타지', '미스터리', '로맨스', '스릴러'             1\n",
       "'범죄', '드라마', '스포츠', '전쟁'                       1\n",
       "'코미디', '드라마', '뮤지컬', '미스터리', '로맨스', '서부']      1\n",
       "'드라마', '미스터리', '로맨스', '공상 과학', '스릴             1\n",
       "Name: ko_genres, Length: 787, dtype: int64"
      ]
     },
     "execution_count": 38,
     "metadata": {},
     "output_type": "execute_result"
    }
   ],
   "source": [
    "df2.ko_genres.value_counts()"
   ]
  },
  {
   "cell_type": "code",
   "execution_count": 41,
   "id": "8feed62b",
   "metadata": {
    "ExecuteTime": {
     "end_time": "2023-01-25T05:22:16.962357Z",
     "start_time": "2023-01-25T05:22:16.958198Z"
    }
   },
   "outputs": [
    {
     "data": {
      "text/plain": [
       "'고대 폴리네시아에서, 반신 마우이가 발생한 끔찍한 저주가 모아 나 섬에 도착했을 때, 그녀는 바다의 부름에 응답하여 일을 제대로 설정하기 위해 반신을 찾으려고 대답합니다.\"그녀의 섬 어부들이 물고기를 잡을 수없고 농작물이 실패 할 때, 그녀는 반신 마우이가 여신의 마음을 훔쳐서 섬을 치유 할 수있는 유일한 길은 섬을 치유 할 수있는 유일한 방법입니다.마우이가 테 피티의 마음을 돌려달라고 설득하는 것입니다. 그래서 모아나는 태평양 전역의 서사적 여정을 시작합니다.이 영화는 폴리네시아 신화의 이야기를 기반으로합니다.그녀는 긴 네비게이터에서 나왔다.항해를 따라 그들은 바다가 숨어있는 모든 싸움을하면서 끈기와 믿음의 힘이 무엇을 성취 할 수 있는지 배우고있다.그녀의 여행 중에, Moana는 한때 미끄러운 반신 마우이를 만난다.그들은 함께 행동으로 가득 찬 항해로 열린 바다를 가로 질러 항해하여 거대한 괴물과 불가능한 확률을 만났습니다.그 과정에서 Moana는 그녀의 조상의 고대 탐구를 충족시키고 그녀가 항상 찾는 한 가지를 발견합니다.바다는 그녀의 마음과 힘의 원천으로 돌을 사용합니다. 마우이, 형태가 이동하는 반신이자 항해의 주인은 인류를 훔쳐서 인류를 훔쳐 창조의 힘을줍니다. 그러나 Te Fiti는 분해되고 마우이는 공격을받습니다화산 악마 인 테 카 (Te Ka)는 그의 마법의 거인 어부와 심장을 깊이로 잃어 버렸다. 밀레니엄 후, Motunui의 최고 투이의 딸인 모아 나 (Moana)는 바다에 의해 마음을 테 피티로 돌려주기 위해 선택되었다.Moana를 데리고 가서 마음을 잃게됩니다. Tui와 Moana의 어머니 인 Sina는 바다에서 멀리 떨어져 섬 의장으로 승천 할 준비를하십시오.'"
      ]
     },
     "execution_count": 41,
     "metadata": {},
     "output_type": "execute_result"
    }
   ],
   "source": [
    "df2.ko_plot[0]"
   ]
  },
  {
   "cell_type": "code",
   "execution_count": 42,
   "id": "eac6487c",
   "metadata": {
    "ExecuteTime": {
     "end_time": "2023-01-25T05:22:25.032522Z",
     "start_time": "2023-01-25T05:22:25.028479Z"
    }
   },
   "outputs": [
    {
     "data": {
      "text/plain": [
       "'젊은 라일리가 중서부 생활에서 뿌리를 내리고 샌프란시스코로 이사 한 후, 그녀의 감정 - 기쁨, 두려움, 분노, 혐오감과 슬픔 - 새로운 도시, 집, 학교를 탐색하는 가장 좋은 방법에 대한 갈등\\', \"성장울퉁불퉁 한 길이 될 수 있으며, 아버지가 샌프란시스코에서 새로운 일을 시작할 때 중서부 생활에서 뿌리를 내리는 라일리에게는 예외가 아닙니다. 우리 모두처럼, 라일리는 그녀의 감정, 기쁨, 두려움, 분노, 분노에 의해 인도됩니다.그리고 슬픔. 감정은 라일리의 마음 속의 통제 센터 인 본사에 살고 있으며, 일상 생활을 통해 그녀를 조언하는 데 도움이됩니다. 라일리와 그녀의 감정은 샌프란시스코의 새로운 삶에 적응하기 위해 고군분투함에 따라, 본사에서 혼란이 이어집니다.주요한 가장 중요한 감정은 사물을 긍정적으로 유지하려고 시도합니다. 감정은 새로운 도시, 집 및 학교를 가장 잘 탐색하는 방법에 대한 상충됩니다.바쁘고 혼란스러운 샌프란시스코, 그녀의 감정; 분노, SadneSS, 혐오감, 두려움 및 (그녀의 가장 중요한 감정) 기쁨은이 극적인 변화를 다루는 방법에 동의하지 않기 시작합니다.그러나 라일리의 행복한 추억과 관련된 사고는 그녀의 전체 전망을 바꿉니다.기쁨과 슬픔은 너무 늦기 전에 그녀의 기억을 찾아서 본사로 돌려야합니다. \"그녀의 출생에서 바로 어린 소녀 라일리의 삶을 달리기 위해 그들이하는 활동의 세부 사항은 이야기를 이끌어냅니다. 라일리의 삶의 갑작스런 변화가 그들의 리듬을 화나게 할 때, 그들은 상황을 너무 많이 통제하려고 노력합니다.그녀에게 더 많은 혼란을 일으킨다. 평범함을 회복시키려는 그들의 모험은이 영화의 핵심을 형성하는 것입니다 .:::pipinghotviews [Shriram] \\',\\'감정은 그녀의 평화로운 삶에서 뿌리를 둔 어린 소녀의 마음 속에 열광합니다.중서부에서 Pete Docter 감독 (UP, Monsters Inc.) 의이 픽사 어드벤처에서 샌프란시스코로 이사해야했습니다. Young Riley는 아버지가 샌프란시스코에서 새로운 일자리를 얻었을 때 그녀의 인생에 완벽하게 만족했고 가족은 아크로를 움직였습니다.SS 나라.이제 라일리가 새로운 도시를 탐색하고 새로운 학교에 다닐 준비를하면서 감정적 인 본부는 뜨거운 활동의 침대가됩니다.기쁨 (Amy Poehler의 목소리)로서 라일리가 움직임에 대해 행복하고 긍정적 인 느낌을 주려고 노력할 때, 두려움 (Bill Hader의 목소리), 분노 (Lewis Black의 목소리), 혐오 (Mindy Kaling의 목소리) 및 슬픔 (Phyllis스미스) 전환을 좀 더 복잡하게 만듭니다.샌프란시스코. 결과적으로 라일리는 새로운 현실에 대처하기 위해 고군분투하면서 기쁨, 슬픔, 분노, 혐오감, 두려움의 근본적인 감정이 두 배로 일해야합니다., 상황이 통제 불능 상태가되고 절망적 인 기쁨이 전례없는 문제를 해결하기 위해 최선을 다하면 라일리의 핵심 메모리 부문에서 무언가가 일어나기 시작합니다. 일이 정상으로 돌아올 것인가? :: Nick Riganas \",\"Riley는 그녀가 안내합니다.감정 기쁨, 슬픔, 두려움, 분노 및 혐오감. 모든 감정본사로도 알려진 라일리의 마음의 통제 센터에 살고 있습니다.이 감정은 그녀를 매일의 삶을 인도합니다.삶의 변화가 일어나고 본사의 감정들 사이에서 혼란이 발생하고 즐거운 추억이 사라집니다.라일리의 주요한 감정 인 기쁨은 즐거운 추억을 찾아서 너무 늦기 전에 본사로 돌려 보내기 위해 최선을 다함으로써 정상 성을 회복하려고 시도합니다.'"
      ]
     },
     "execution_count": 42,
     "metadata": {},
     "output_type": "execute_result"
    }
   ],
   "source": [
    "df2.ko_plot[1]"
   ]
  },
  {
   "cell_type": "code",
   "execution_count": 43,
   "id": "f23a5f29",
   "metadata": {
    "ExecuteTime": {
     "end_time": "2023-01-25T05:22:29.717184Z",
     "start_time": "2023-01-25T05:22:29.713356Z"
    }
   },
   "outputs": [
    {
     "data": {
      "text/plain": [
       "\"의인화 동물 도시에서 신인 토끼 경찰과 냉소적 인 사기 아티스트 폭스는 음모를 밝히기 위해 함께 일해야합니다.살고 번성합니다.Judy Hopps가 경찰에 합류 한 최초의 토끼가되었을 때, 그녀는 법을 집행하는 것이 얼마나 힘든지 빨리 알게됩니다.Judy는 자신을 증명하기로 결심 한 신비한 사건을 해결할 기회를 얻습니다.불행히도, 그것은 그녀의 직업을 더욱 강하게 만드는 빅 여우 인 닉 와일드 (Nick Wilde)와 함께 일하는 것을 의미합니다. ::Jwelch5742 ','가장 큰 코끼리에서 가장 작은 말에 이르기까지 Zootopia의 도시는 모든 동물이 서로 평화롭게 살 수있는 아름다운 대도시입니다..그녀의 가치를 증명하기로 결심 한 Judy Hopps는 경찰에 대한 최초의 공식 토끼 경찰이되었습니다.14 명의 포식자 동물이 실종되면 Judy는 즉시 사건을 겪습니다.닉 와일드 (Nick Wilde)라는 부드러운 말하는 여우와 제휴 한 Judy는 포식자가 어디에 있고 누가 뒤에 있는지에 대한 모든 단서를 하나로 묶어야합니다 .:::Blazer346 ','첫 번째는 결코 쉬운 일이 아닙니다. 특히 Judy Hopps,첫 번째 토끼 경찰.도시에서 이상한 일이 일어날 때, Judy는 사건을 해결하려고 할 것이라고 결정하지만 48 시간 밖에 걸리지 않습니다.그녀를 돕기 위해, 그녀는 닉 와일드 (Nick Wilde)라는 콘 아티스트 폭스와 파트너 관계를 맺고 있습니다.농장에서 자란 가족을 떠나 Zootopia에서 첫 토끼 경찰이되기위한 꿈을 추구합니다.그곳에있는 동안, 그녀는 닉 와일드 (Nick Wilde)라는 사기꾼 폭스 (Fox)가 Zootopia를 위협 한 후에 함께 일해야합니다. ','Judy Hopps그녀는 동물이 조화롭게 사는 도시 동물 동물원으로 이사했습니다. 그 꿈은 현실이됩니다.그러나 그녀가 신비한 교활한 여우와 팀을 이룰 때, Zootopia wide 스캔들은 모든 동물이 조화롭게 사는 것은 아니라고 밝혔다.\""
      ]
     },
     "execution_count": 43,
     "metadata": {},
     "output_type": "execute_result"
    }
   ],
   "source": [
    "df2.ko_plot[2]"
   ]
  },
  {
   "cell_type": "code",
   "execution_count": 26,
   "id": "f463dd0a",
   "metadata": {
    "ExecuteTime": {
     "end_time": "2023-01-25T02:12:24.703876Z",
     "start_time": "2023-01-25T02:12:24.700526Z"
    }
   },
   "outputs": [],
   "source": [
    "import re\n",
    "\n",
    "def remove_special_chars(string, except_chars=\",\\uAC00-\\uD7A3\"):\n",
    "    pattern = \"[^a-zA-Z0-9 \" + except_chars + \"]\"\n",
    "    return re.sub(pattern, \"\", string)"
   ]
  },
  {
   "cell_type": "code",
   "execution_count": 27,
   "id": "a90c2f1f",
   "metadata": {
    "ExecuteTime": {
     "end_time": "2023-01-25T02:12:26.181385Z",
     "start_time": "2023-01-25T02:12:26.164256Z"
    }
   },
   "outputs": [
    {
     "data": {
      "text/plain": [
       "0       애니메이션, 어드벤처, 코미디, 가족, 판타지, 뮤지컬\n",
       "1       애니메이션, 어드벤처, 코미디, 드라마, 가족, 판타지\n",
       "2       애니메이션, 어드벤처, 코미디, 범죄, 가족, 미스터리\n",
       "3                              코미디, 로맨\n",
       "4                              코미디, 드라\n",
       "                     ...              \n",
       "3224                          장르 정보 없음\n",
       "3225                          장르 정보 없음\n",
       "3226                        전기, 드라마, 역\n",
       "3227                  전기, 드라마, 역사, 로맨스\n",
       "3228                          장르 정보 없음\n",
       "Name: ko_genres, Length: 3229, dtype: object"
      ]
     },
     "execution_count": 27,
     "metadata": {},
     "output_type": "execute_result"
    }
   ],
   "source": [
    "df2.ko_genres.map(remove_special_chars)"
   ]
  },
  {
   "cell_type": "code",
   "execution_count": 22,
   "id": "ce58610a",
   "metadata": {
    "ExecuteTime": {
     "end_time": "2023-01-25T02:10:39.994408Z",
     "start_time": "2023-01-25T02:10:39.990961Z"
    }
   },
   "outputs": [
    {
     "name": "stdout",
     "output_type": "stream",
     "text": [
      "Hello, World How are you\n"
     ]
    }
   ],
   "source": [
    "# Example usage\n",
    "string = \"Hello, World! How are you?\"\n",
    "new_string = remove_special_chars(string)\n",
    "print(new_string)  # \"Hello, World How are you\""
   ]
  }
 ],
 "metadata": {
  "kernelspec": {
   "display_name": "Python 3 (ipykernel)",
   "language": "python",
   "name": "python3"
  },
  "language_info": {
   "codemirror_mode": {
    "name": "ipython",
    "version": 3
   },
   "file_extension": ".py",
   "mimetype": "text/x-python",
   "name": "python",
   "nbconvert_exporter": "python",
   "pygments_lexer": "ipython3",
   "version": "3.8.5"
  },
  "toc": {
   "base_numbering": 1,
   "nav_menu": {},
   "number_sections": true,
   "sideBar": true,
   "skip_h1_title": false,
   "title_cell": "Table of Contents",
   "title_sidebar": "Contents",
   "toc_cell": false,
   "toc_position": {},
   "toc_section_display": true,
   "toc_window_display": false
  }
 },
 "nbformat": 4,
 "nbformat_minor": 5
}
