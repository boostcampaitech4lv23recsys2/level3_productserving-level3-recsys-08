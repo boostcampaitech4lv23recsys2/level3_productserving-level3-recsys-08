{
   "cells": [
      {
         "cell_type": "code",
         "execution_count": 1,
         "id": "11a91a16",
         "metadata": {
            "ExecuteTime": {
               "end_time": "2023-01-25T14:55:57.945763Z",
               "start_time": "2023-01-25T14:55:57.643854Z"
            }
         },
         "outputs": [],
         "source": [
            "import pandas as pd"
         ]
      },
      {
         "cell_type": "code",
         "execution_count": 6,
         "id": "a2a76ef8",
         "metadata": {
            "ExecuteTime": {
               "end_time": "2023-01-25T14:56:34.625729Z",
               "start_time": "2023-01-25T14:56:34.559108Z"
            }
         },
         "outputs": [],
         "source": [
            "df = pd.read_csv('MBTI_merge_movieLens_3229_movie.csv')"
         ]
      },
      {
         "cell_type": "code",
         "execution_count": 7,
         "id": "0e12cf4d",
         "metadata": {
            "ExecuteTime": {
               "end_time": "2023-01-25T14:56:36.145285Z",
               "start_time": "2023-01-25T14:56:36.130606Z"
            }
         },
         "outputs": [
            {
               "data": {
                  "text/html": [
                     "<div>\n",
                     "<style scoped>\n",
                     "    .dataframe tbody tr th:only-of-type {\n",
                     "        vertical-align: middle;\n",
                     "    }\n",
                     "\n",
                     "    .dataframe tbody tr th {\n",
                     "        vertical-align: top;\n",
                     "    }\n",
                     "\n",
                     "    .dataframe thead th {\n",
                     "        text-align: right;\n",
                     "    }\n",
                     "</style>\n",
                     "<table border=\"1\" class=\"dataframe\">\n",
                     "  <thead>\n",
                     "    <tr style=\"text-align: right;\">\n",
                     "      <th></th>\n",
                     "      <th>Unnamed: 0</th>\n",
                     "      <th>Character</th>\n",
                     "      <th>Contents</th>\n",
                     "      <th>Votes</th>\n",
                     "      <th>MBTI</th>\n",
                     "      <th>Enneagram</th>\n",
                     "      <th>category</th>\n",
                     "      <th>img_src</th>\n",
                     "      <th>Page</th>\n",
                     "      <th>title</th>\n",
                     "      <th>movieId</th>\n",
                     "    </tr>\n",
                     "  </thead>\n",
                     "  <tbody>\n",
                     "    <tr>\n",
                     "      <th>0</th>\n",
                     "      <td>0</td>\n",
                     "      <td>Moana Waialiki</td>\n",
                     "      <td>Moana (2016)</td>\n",
                     "      <td>2.7k/477</td>\n",
                     "      <td>ENFJ</td>\n",
                     "      <td>7w6</td>\n",
                     "      <td>movies</td>\n",
                     "      <td>https://static1.personality-database.com/profi...</td>\n",
                     "      <td>1</td>\n",
                     "      <td>moana</td>\n",
                     "      <td>73141</td>\n",
                     "    </tr>\n",
                     "    <tr>\n",
                     "      <th>1</th>\n",
                     "      <td>1</td>\n",
                     "      <td>Joy</td>\n",
                     "      <td>Inside Out (2015)</td>\n",
                     "      <td>2.5k/358</td>\n",
                     "      <td>ENFJ</td>\n",
                     "      <td>7w6</td>\n",
                     "      <td>movies</td>\n",
                     "      <td>https://static1.personality-database.com/profi...</td>\n",
                     "      <td>1</td>\n",
                     "      <td>inside out</td>\n",
                     "      <td>122470</td>\n",
                     "    </tr>\n",
                     "    <tr>\n",
                     "      <th>2</th>\n",
                     "      <td>2</td>\n",
                     "      <td>Judy Hopps</td>\n",
                     "      <td>Zootopia (2016)</td>\n",
                     "      <td>2.3k/350</td>\n",
                     "      <td>ENFJ</td>\n",
                     "      <td>1w2</td>\n",
                     "      <td>movies</td>\n",
                     "      <td>https://static1.personality-database.com/profi...</td>\n",
                     "      <td>1</td>\n",
                     "      <td>zootopia</td>\n",
                     "      <td>152081</td>\n",
                     "    </tr>\n",
                     "    <tr>\n",
                     "      <th>3</th>\n",
                     "      <td>3</td>\n",
                     "      <td>Elle Woods</td>\n",
                     "      <td>Legally Blonde (2001)</td>\n",
                     "      <td>1.9k/227</td>\n",
                     "      <td>ENFJ</td>\n",
                     "      <td>3w2</td>\n",
                     "      <td>movies</td>\n",
                     "      <td>https://static1.personality-database.com/profi...</td>\n",
                     "      <td>1</td>\n",
                     "      <td>legally blonde</td>\n",
                     "      <td>4447</td>\n",
                     "    </tr>\n",
                     "    <tr>\n",
                     "      <th>4</th>\n",
                     "      <td>4</td>\n",
                     "      <td>Neil Perry</td>\n",
                     "      <td>Dead Poets Society (1989)</td>\n",
                     "      <td>1.7k/222</td>\n",
                     "      <td>ENFJ</td>\n",
                     "      <td>4w3</td>\n",
                     "      <td>movies</td>\n",
                     "      <td>https://static1.personality-database.com/profi...</td>\n",
                     "      <td>1</td>\n",
                     "      <td>dead poets society</td>\n",
                     "      <td>1246</td>\n",
                     "    </tr>\n",
                     "    <tr>\n",
                     "      <th>...</th>\n",
                     "      <td>...</td>\n",
                     "      <td>...</td>\n",
                     "      <td>...</td>\n",
                     "      <td>...</td>\n",
                     "      <td>...</td>\n",
                     "      <td>...</td>\n",
                     "      <td>...</td>\n",
                     "      <td>...</td>\n",
                     "      <td>...</td>\n",
                     "      <td>...</td>\n",
                     "      <td>...</td>\n",
                     "    </tr>\n",
                     "    <tr>\n",
                     "      <th>15921</th>\n",
                     "      <td>15921</td>\n",
                     "      <td>Diana Reiter</td>\n",
                     "      <td>Schindler's List (1993)</td>\n",
                     "      <td>6/0</td>\n",
                     "      <td>INFJ</td>\n",
                     "      <td>5w6</td>\n",
                     "      <td>movies</td>\n",
                     "      <td>https://static1.personality-database.com/profi...</td>\n",
                     "      <td>210</td>\n",
                     "      <td>schindler's list</td>\n",
                     "      <td>527</td>\n",
                     "    </tr>\n",
                     "    <tr>\n",
                     "      <th>15922</th>\n",
                     "      <td>15922</td>\n",
                     "      <td>Berkeley Cole</td>\n",
                     "      <td>Out of Africa (1985)</td>\n",
                     "      <td>6/0</td>\n",
                     "      <td>INFJ</td>\n",
                     "      <td>1w9</td>\n",
                     "      <td>movies</td>\n",
                     "      <td>https://static1.personality-database.com/profi...</td>\n",
                     "      <td>210</td>\n",
                     "      <td>out of africa</td>\n",
                     "      <td>1959</td>\n",
                     "    </tr>\n",
                     "    <tr>\n",
                     "      <th>15923</th>\n",
                     "      <td>15923</td>\n",
                     "      <td>The Girl</td>\n",
                     "      <td>A Girl Walks Home Alone at Night (2014)</td>\n",
                     "      <td>6/0</td>\n",
                     "      <td>INFJ</td>\n",
                     "      <td>4w5</td>\n",
                     "      <td>movies</td>\n",
                     "      <td>https://static1.personality-database.com/profi...</td>\n",
                     "      <td>210</td>\n",
                     "      <td>a girl walks home alone at night</td>\n",
                     "      <td>118880</td>\n",
                     "    </tr>\n",
                     "    <tr>\n",
                     "      <th>15924</th>\n",
                     "      <td>15924</td>\n",
                     "      <td>Urzah</td>\n",
                     "      <td>The Dark Crystal (1982)</td>\n",
                     "      <td>6/0</td>\n",
                     "      <td>INFJ</td>\n",
                     "      <td>9w1</td>\n",
                     "      <td>movies</td>\n",
                     "      <td>https://static1.personality-database.com/profi...</td>\n",
                     "      <td>210</td>\n",
                     "      <td>the dark crystal</td>\n",
                     "      <td>91077</td>\n",
                     "    </tr>\n",
                     "    <tr>\n",
                     "      <th>15925</th>\n",
                     "      <td>15925</td>\n",
                     "      <td>Dr. Leonora Orantes</td>\n",
                     "      <td>Contagion (2011)</td>\n",
                     "      <td>6/0</td>\n",
                     "      <td>INFJ</td>\n",
                     "      <td>9w1</td>\n",
                     "      <td>movies</td>\n",
                     "      <td>https://static1.personality-database.com/profi...</td>\n",
                     "      <td>210</td>\n",
                     "      <td>contagion</td>\n",
                     "      <td>89470</td>\n",
                     "    </tr>\n",
                     "  </tbody>\n",
                     "</table>\n",
                     "<p>15926 rows × 11 columns</p>\n",
                     "</div>"
                  ],
                  "text/plain": [
                     "       Unnamed: 0            Character  \\\n",
                     "0               0       Moana Waialiki   \n",
                     "1               1                  Joy   \n",
                     "2               2           Judy Hopps   \n",
                     "3               3           Elle Woods   \n",
                     "4               4           Neil Perry   \n",
                     "...           ...                  ...   \n",
                     "15921       15921         Diana Reiter   \n",
                     "15922       15922        Berkeley Cole   \n",
                     "15923       15923             The Girl   \n",
                     "15924       15924                Urzah   \n",
                     "15925       15925  Dr. Leonora Orantes   \n",
                     "\n",
                     "                                      Contents     Votes  MBTI Enneagram  \\\n",
                     "0                                 Moana (2016)  2.7k/477  ENFJ       7w6   \n",
                     "1                            Inside Out (2015)  2.5k/358  ENFJ       7w6   \n",
                     "2                              Zootopia (2016)  2.3k/350  ENFJ       1w2   \n",
                     "3                        Legally Blonde (2001)  1.9k/227  ENFJ       3w2   \n",
                     "4                    Dead Poets Society (1989)  1.7k/222  ENFJ       4w3   \n",
                     "...                                        ...       ...   ...       ...   \n",
                     "15921                  Schindler's List (1993)       6/0  INFJ       5w6   \n",
                     "15922                     Out of Africa (1985)       6/0  INFJ       1w9   \n",
                     "15923  A Girl Walks Home Alone at Night (2014)       6/0  INFJ       4w5   \n",
                     "15924                  The Dark Crystal (1982)       6/0  INFJ       9w1   \n",
                     "15925                         Contagion (2011)       6/0  INFJ       9w1   \n",
                     "\n",
                     "      category                                            img_src  Page  \\\n",
                     "0       movies  https://static1.personality-database.com/profi...     1   \n",
                     "1       movies  https://static1.personality-database.com/profi...     1   \n",
                     "2       movies  https://static1.personality-database.com/profi...     1   \n",
                     "3       movies  https://static1.personality-database.com/profi...     1   \n",
                     "4       movies  https://static1.personality-database.com/profi...     1   \n",
                     "...        ...                                                ...   ...   \n",
                     "15921   movies  https://static1.personality-database.com/profi...   210   \n",
                     "15922   movies  https://static1.personality-database.com/profi...   210   \n",
                     "15923   movies  https://static1.personality-database.com/profi...   210   \n",
                     "15924   movies  https://static1.personality-database.com/profi...   210   \n",
                     "15925   movies  https://static1.personality-database.com/profi...   210   \n",
                     "\n",
                     "                                  title  movieId  \n",
                     "0                                 moana    73141  \n",
                     "1                            inside out   122470  \n",
                     "2                              zootopia   152081  \n",
                     "3                        legally blonde     4447  \n",
                     "4                    dead poets society     1246  \n",
                     "...                                 ...      ...  \n",
                     "15921                  schindler's list      527  \n",
                     "15922                     out of africa     1959  \n",
                     "15923  a girl walks home alone at night   118880  \n",
                     "15924                  the dark crystal    91077  \n",
                     "15925                         contagion    89470  \n",
                     "\n",
                     "[15926 rows x 11 columns]"
                  ]
               },
               "execution_count": 7,
               "metadata": {},
               "output_type": "execute_result"
            }
         ],
         "source": [
            "df"
         ]
      },
      {
         "cell_type": "code",
         "execution_count": 8,
         "id": "3e5cd238",
         "metadata": {
            "ExecuteTime": {
               "end_time": "2023-01-25T14:56:55.400222Z",
               "start_time": "2023-01-25T14:56:55.394302Z"
            }
         },
         "outputs": [],
         "source": [
            "watch_link =  pd.read_pickle('/opt/ml/project/Utils/Pickle/watch_link_3229movie_4462_rows.pickle')"
         ]
      },
      {
         "cell_type": "code",
         "execution_count": 11,
         "id": "793f16f8",
         "metadata": {
            "ExecuteTime": {
               "end_time": "2023-01-25T14:57:16.406622Z",
               "start_time": "2023-01-25T14:57:16.402453Z"
            }
         },
         "outputs": [],
         "source": [
            "df2 = df[['title','movieId']].copy()"
         ]
      },
      {
         "cell_type": "code",
         "execution_count": 19,
         "id": "7565724c",
         "metadata": {
            "ExecuteTime": {
               "end_time": "2023-01-25T14:59:04.567223Z",
               "start_time": "2023-01-25T14:59:04.560387Z"
            }
         },
         "outputs": [],
         "source": [
            "df3 = df2.drop_duplicates(['title','movieId']).reset_index(drop=True)"
         ]
      },
      {
         "cell_type": "code",
         "execution_count": 26,
         "id": "2ec758c0",
         "metadata": {
            "ExecuteTime": {
               "end_time": "2023-01-25T15:00:24.091793Z",
               "start_time": "2023-01-25T15:00:24.084898Z"
            }
         },
         "outputs": [
            {
               "data": {
                  "text/plain": [
                     "moana                               1\n",
                     "the odd life of timothy green       1\n",
                     "bacurau                             1\n",
                     "boy erased                          1\n",
                     "we're back! a dinosaur's story      1\n",
                     "                                   ..\n",
                     "the man who laughs                  1\n",
                     "the girl on the train               1\n",
                     "the wild one                        1\n",
                     "a hidden life                       1\n",
                     "a girl walks home alone at night    1\n",
                     "Name: title, Length: 3248, dtype: int64"
                  ]
               },
               "execution_count": 26,
               "metadata": {},
               "output_type": "execute_result"
            }
         ],
         "source": [
            "df3.title.value_counts()"
         ]
      },
      {
         "cell_type": "code",
         "execution_count": 22,
         "id": "3e5a5649",
         "metadata": {
            "ExecuteTime": {
               "end_time": "2023-01-25T14:59:31.391268Z",
               "start_time": "2023-01-25T14:59:31.377308Z"
            }
         },
         "outputs": [
            {
               "data": {
                  "text/html": [
                     "<div>\n",
                     "<style scoped>\n",
                     "    .dataframe tbody tr th:only-of-type {\n",
                     "        vertical-align: middle;\n",
                     "    }\n",
                     "\n",
                     "    .dataframe tbody tr th {\n",
                     "        vertical-align: top;\n",
                     "    }\n",
                     "\n",
                     "    .dataframe thead th {\n",
                     "        text-align: right;\n",
                     "    }\n",
                     "</style>\n",
                     "<table border=\"1\" class=\"dataframe\">\n",
                     "  <thead>\n",
                     "    <tr style=\"text-align: right;\">\n",
                     "      <th></th>\n",
                     "      <th>title</th>\n",
                     "      <th>platform</th>\n",
                     "      <th>link</th>\n",
                     "      <th>movieId</th>\n",
                     "    </tr>\n",
                     "  </thead>\n",
                     "  <tbody>\n",
                     "    <tr>\n",
                     "      <th>0</th>\n",
                     "      <td>moana</td>\n",
                     "      <td>디즈니+</td>\n",
                     "      <td>https://disneyplus.bn5x.net/c/3581330/1182069/...</td>\n",
                     "      <td>73141</td>\n",
                     "    </tr>\n",
                     "    <tr>\n",
                     "      <th>1</th>\n",
                     "      <td>inside out</td>\n",
                     "      <td>디즈니+</td>\n",
                     "      <td>https://disneyplus.bn5x.net/c/3581330/1182069/...</td>\n",
                     "      <td>122470</td>\n",
                     "    </tr>\n",
                     "    <tr>\n",
                     "      <th>2</th>\n",
                     "      <td>zootopia</td>\n",
                     "      <td>디즈니+</td>\n",
                     "      <td>https://disneyplus.bn5x.net/c/3581330/1182069/...</td>\n",
                     "      <td>152081</td>\n",
                     "    </tr>\n",
                     "    <tr>\n",
                     "      <th>3</th>\n",
                     "      <td>legally blonde</td>\n",
                     "      <td>no_link</td>\n",
                     "      <td>no_link</td>\n",
                     "      <td>4447</td>\n",
                     "    </tr>\n",
                     "    <tr>\n",
                     "      <th>4</th>\n",
                     "      <td>dead poets society</td>\n",
                     "      <td>디즈니+</td>\n",
                     "      <td>https://disneyplus.bn5x.net/c/3581330/1182069/...</td>\n",
                     "      <td>1246</td>\n",
                     "    </tr>\n",
                     "    <tr>\n",
                     "      <th>...</th>\n",
                     "      <td>...</td>\n",
                     "      <td>...</td>\n",
                     "      <td>...</td>\n",
                     "      <td>...</td>\n",
                     "    </tr>\n",
                     "    <tr>\n",
                     "      <th>4457</th>\n",
                     "      <td>veer zaara</td>\n",
                     "      <td>no_link</td>\n",
                     "      <td>no_link</td>\n",
                     "      <td>8971</td>\n",
                     "    </tr>\n",
                     "    <tr>\n",
                     "      <th>4458</th>\n",
                     "      <td>mr. deeds</td>\n",
                     "      <td>왓챠</td>\n",
                     "      <td>https://redirect.watcha.com/galaxy/aHR0cHM6Ly9...</td>\n",
                     "      <td>5449</td>\n",
                     "    </tr>\n",
                     "    <tr>\n",
                     "      <th>4459</th>\n",
                     "      <td>mr. deeds</td>\n",
                     "      <td>티빙</td>\n",
                     "      <td>https://redirect.watcha.com/galaxy/aHR0cHM6Ly9...</td>\n",
                     "      <td>5449</td>\n",
                     "    </tr>\n",
                     "    <tr>\n",
                     "      <th>4460</th>\n",
                     "      <td>after hours</td>\n",
                     "      <td>no_link</td>\n",
                     "      <td>no_link</td>\n",
                     "      <td>7419</td>\n",
                     "    </tr>\n",
                     "    <tr>\n",
                     "      <th>4461</th>\n",
                     "      <td>suspiria</td>\n",
                     "      <td>넷플릭스</td>\n",
                     "      <td>https://redirect.watcha.com/galaxy/aHR0cHM6Ly9...</td>\n",
                     "      <td>4437</td>\n",
                     "    </tr>\n",
                     "  </tbody>\n",
                     "</table>\n",
                     "<p>4462 rows × 4 columns</p>\n",
                     "</div>"
                  ],
                  "text/plain": [
                     "                   title platform  \\\n",
                     "0                  moana     디즈니+   \n",
                     "1             inside out     디즈니+   \n",
                     "2               zootopia     디즈니+   \n",
                     "3         legally blonde  no_link   \n",
                     "4     dead poets society     디즈니+   \n",
                     "...                  ...      ...   \n",
                     "4457          veer zaara  no_link   \n",
                     "4458           mr. deeds       왓챠   \n",
                     "4459           mr. deeds       티빙   \n",
                     "4460         after hours  no_link   \n",
                     "4461            suspiria     넷플릭스   \n",
                     "\n",
                     "                                                   link  movieId  \n",
                     "0     https://disneyplus.bn5x.net/c/3581330/1182069/...    73141  \n",
                     "1     https://disneyplus.bn5x.net/c/3581330/1182069/...   122470  \n",
                     "2     https://disneyplus.bn5x.net/c/3581330/1182069/...   152081  \n",
                     "3                                               no_link     4447  \n",
                     "4     https://disneyplus.bn5x.net/c/3581330/1182069/...     1246  \n",
                     "...                                                 ...      ...  \n",
                     "4457                                            no_link     8971  \n",
                     "4458  https://redirect.watcha.com/galaxy/aHR0cHM6Ly9...     5449  \n",
                     "4459  https://redirect.watcha.com/galaxy/aHR0cHM6Ly9...     5449  \n",
                     "4460                                            no_link     7419  \n",
                     "4461  https://redirect.watcha.com/galaxy/aHR0cHM6Ly9...     4437  \n",
                     "\n",
                     "[4462 rows x 4 columns]"
                  ]
               },
               "execution_count": 22,
               "metadata": {},
               "output_type": "execute_result"
            }
         ],
         "source": [
            "watch_link2 = watch_link.merge(df3, on='title', how='left')\n",
            "watch_link2"
         ]
      },
      {
         "cell_type": "code",
         "execution_count": 23,
         "id": "8e5ea70e",
         "metadata": {
            "ExecuteTime": {
               "end_time": "2023-01-25T14:59:35.550823Z",
               "start_time": "2023-01-25T14:59:35.538592Z"
            }
         },
         "outputs": [
            {
               "name": "stdout",
               "output_type": "stream",
               "text": [
                  "<class 'pandas.core.frame.DataFrame'>\n",
                  "Int64Index: 4462 entries, 0 to 4461\n",
                  "Data columns (total 4 columns):\n",
                  " #   Column    Non-Null Count  Dtype \n",
                  "---  ------    --------------  ----- \n",
                  " 0   title     4462 non-null   object\n",
                  " 1   platform  4462 non-null   object\n",
                  " 2   link      4462 non-null   object\n",
                  " 3   movieId   4462 non-null   int64 \n",
                  "dtypes: int64(1), object(3)\n",
                  "memory usage: 174.3+ KB\n"
               ]
            }
         ],
         "source": [
            "watch_link2.info()"
         ]
      },
      {
         "cell_type": "code",
         "execution_count": 25,
         "id": "d9d5697f",
         "metadata": {
            "ExecuteTime": {
               "end_time": "2023-01-25T14:59:57.117699Z",
               "start_time": "2023-01-25T14:59:57.110588Z"
            }
         },
         "outputs": [
            {
               "data": {
                  "text/plain": [
                     "pan's labyrinth         4\n",
                     "himizu                  4\n",
                     "howards end             4\n",
                     "a violent prosecutor    4\n",
                     "what women want         4\n",
                     "                       ..\n",
                     "monsters vs. aliens     1\n",
                     "the cable guy           1\n",
                     "the notebook            1\n",
                     "eurotrip                1\n",
                     "suspiria                1\n",
                     "Name: title, Length: 3229, dtype: int64"
                  ]
               },
               "execution_count": 25,
               "metadata": {},
               "output_type": "execute_result"
            }
         ],
         "source": [
            "watch_link2.title.value_counts()"
         ]
      },
      {
         "cell_type": "code",
         "execution_count": 27,
         "id": "714cd6ad",
         "metadata": {
            "ExecuteTime": {
               "end_time": "2023-01-25T15:02:33.760756Z",
               "start_time": "2023-01-25T15:02:33.754652Z"
            }
         },
         "outputs": [],
         "source": [
            "watch_link2.to_pickle('/opt/ml/project/Utils/Pickle/watch_link_3229movie_4462_rows.pickle')"
         ]
      },
      {
         "cell_type": "code",
         "execution_count": 34,
         "id": "bb89e247",
         "metadata": {
            "ExecuteTime": {
               "end_time": "2023-01-25T17:28:14.805540Z",
               "start_time": "2023-01-25T17:28:14.798540Z"
            }
         },
         "outputs": [
            {
               "data": {
                  "text/html": [
                     "<div>\n",
                     "<style scoped>\n",
                     "    .dataframe tbody tr th:only-of-type {\n",
                     "        vertical-align: middle;\n",
                     "    }\n",
                     "\n",
                     "    .dataframe tbody tr th {\n",
                     "        vertical-align: top;\n",
                     "    }\n",
                     "\n",
                     "    .dataframe thead th {\n",
                     "        text-align: right;\n",
                     "    }\n",
                     "</style>\n",
                     "<table border=\"1\" class=\"dataframe\">\n",
                     "  <thead>\n",
                     "    <tr style=\"text-align: right;\">\n",
                     "      <th></th>\n",
                     "      <th>title</th>\n",
                     "      <th>platform</th>\n",
                     "      <th>link</th>\n",
                     "      <th>movieId</th>\n",
                     "    </tr>\n",
                     "  </thead>\n",
                     "  <tbody>\n",
                     "  </tbody>\n",
                     "</table>\n",
                     "</div>"
                  ],
                  "text/plain": [
                     "Empty DataFrame\n",
                     "Columns: [title, platform, link, movieId]\n",
                     "Index: []"
                  ]
               },
               "execution_count": 34,
               "metadata": {},
               "output_type": "execute_result"
            }
         ],
         "source": [
            "watch_link2[watch_link2.movieId==3563]"
         ]
      },
      {
         "cell_type": "code",
         "execution_count": 32,
         "id": "6adf36d5",
         "metadata": {
            "ExecuteTime": {
               "end_time": "2023-01-25T17:27:16.402192Z",
               "start_time": "2023-01-25T17:27:16.390819Z"
            }
         },
         "outputs": [
            {
               "data": {
                  "text/html": [
                     "<div>\n",
                     "<style scoped>\n",
                     "    .dataframe tbody tr th:only-of-type {\n",
                     "        vertical-align: middle;\n",
                     "    }\n",
                     "\n",
                     "    .dataframe tbody tr th {\n",
                     "        vertical-align: top;\n",
                     "    }\n",
                     "\n",
                     "    .dataframe thead th {\n",
                     "        text-align: right;\n",
                     "    }\n",
                     "</style>\n",
                     "<table border=\"1\" class=\"dataframe\">\n",
                     "  <thead>\n",
                     "    <tr style=\"text-align: right;\">\n",
                     "      <th></th>\n",
                     "      <th>title</th>\n",
                     "      <th>platform</th>\n",
                     "      <th>link</th>\n",
                     "      <th>movieId</th>\n",
                     "    </tr>\n",
                     "  </thead>\n",
                     "  <tbody>\n",
                     "    <tr>\n",
                     "      <th>756</th>\n",
                     "      <td>the lord of the rings</td>\n",
                     "      <td>왓챠</td>\n",
                     "      <td>https://redirect.watcha.com/galaxy/aHR0cHM6Ly9...</td>\n",
                     "      <td>2116</td>\n",
                     "    </tr>\n",
                     "    <tr>\n",
                     "      <th>757</th>\n",
                     "      <td>the lord of the rings</td>\n",
                     "      <td>웨이브</td>\n",
                     "      <td>https://redirect.watcha.com/galaxy/aHR0cHM6Ly9...</td>\n",
                     "      <td>2116</td>\n",
                     "    </tr>\n",
                     "  </tbody>\n",
                     "</table>\n",
                     "</div>"
                  ],
                  "text/plain": [
                     "                     title platform  \\\n",
                     "756  the lord of the rings       왓챠   \n",
                     "757  the lord of the rings      웨이브   \n",
                     "\n",
                     "                                                  link  movieId  \n",
                     "756  https://redirect.watcha.com/galaxy/aHR0cHM6Ly9...     2116  \n",
                     "757  https://redirect.watcha.com/galaxy/aHR0cHM6Ly9...     2116  "
                  ]
               },
               "execution_count": 32,
               "metadata": {},
               "output_type": "execute_result"
            }
         ],
         "source": [
            "watch_link2[watch_link2.title.str.contains('the lord')]"
         ]
      },
      {
         "cell_type": "code",
         "execution_count": 2,
         "id": "ec76eb01",
         "metadata": {
            "ExecuteTime": {
               "end_time": "2023-02-01T11:19:49.183327Z",
               "start_time": "2023-02-01T11:19:48.854912Z"
            }
         },
         "outputs": [],
         "source": [
            "import pandas as pd"
         ]
      },
      {
         "cell_type": "code",
         "execution_count": 3,
         "id": "70316e3e",
         "metadata": {
            "ExecuteTime": {
               "end_time": "2023-02-01T11:20:10.854928Z",
               "start_time": "2023-02-01T11:20:10.849152Z"
            }
         },
         "outputs": [],
         "source": [
            "watch_link2 = pd.read_pickle('/opt/ml/project/Utils/Pickle/watch_link_3229movie_4462_rows.pickle')"
         ]
      },
      {
         "cell_type": "code",
         "execution_count": 4,
         "id": "057a17d4",
         "metadata": {
            "ExecuteTime": {
               "end_time": "2023-02-01T11:20:11.258708Z",
               "start_time": "2023-02-01T11:20:11.246342Z"
            }
         },
         "outputs": [
            {
               "data": {
                  "text/plain": [
                     "no_link      1343\n",
                     "왓챠           1000\n",
                     "넷플릭스          666\n",
                     "티빙            600\n",
                     "웨이브           490\n",
                     "디즈니+          322\n",
                     "no_result      40\n",
                     "애플 TV+          1\n",
                     "Name: platform, dtype: int64"
                  ]
               },
               "execution_count": 4,
               "metadata": {},
               "output_type": "execute_result"
            }
         ],
         "source": [
            "watch_link2.platform.value_counts()"
         ]
      },
      {
         "cell_type": "code",
         "execution_count": 38,
         "id": "71bb97b6",
         "metadata": {
            "ExecuteTime": {
               "end_time": "2023-01-31T14:25:19.950353Z",
               "start_time": "2023-01-31T14:25:19.940704Z"
            }
         },
         "outputs": [
            {
               "data": {
                  "text/html": [
                     "<div>\n",
                     "<style scoped>\n",
                     "    .dataframe tbody tr th:only-of-type {\n",
                     "        vertical-align: middle;\n",
                     "    }\n",
                     "\n",
                     "    .dataframe tbody tr th {\n",
                     "        vertical-align: top;\n",
                     "    }\n",
                     "\n",
                     "    .dataframe thead th {\n",
                     "        text-align: right;\n",
                     "    }\n",
                     "</style>\n",
                     "<table border=\"1\" class=\"dataframe\">\n",
                     "  <thead>\n",
                     "    <tr style=\"text-align: right;\">\n",
                     "      <th></th>\n",
                     "      <th>title</th>\n",
                     "      <th>platform</th>\n",
                     "      <th>link</th>\n",
                     "      <th>movieId</th>\n",
                     "    </tr>\n",
                     "  </thead>\n",
                     "  <tbody>\n",
                     "  </tbody>\n",
                     "</table>\n",
                     "</div>"
                  ],
                  "text/plain": [
                     "Empty DataFrame\n",
                     "Columns: [title, platform, link, movieId]\n",
                     "Index: []"
                  ]
               },
               "execution_count": 38,
               "metadata": {},
               "output_type": "execute_result"
            }
         ],
         "source": [
            "watch_link2[watch_link2.movieId.isin(cp.movieId)]"
         ]
      },
      {
         "cell_type": "code",
         "execution_count": 40,
         "id": "14c24186",
         "metadata": {
            "ExecuteTime": {
               "end_time": "2023-01-31T14:25:50.025256Z",
               "start_time": "2023-01-31T14:25:50.014118Z"
            }
         },
         "outputs": [
            {
               "data": {
                  "text/html": [
                     "<div>\n",
                     "<style scoped>\n",
                     "    .dataframe tbody tr th:only-of-type {\n",
                     "        vertical-align: middle;\n",
                     "    }\n",
                     "\n",
                     "    .dataframe tbody tr th {\n",
                     "        vertical-align: top;\n",
                     "    }\n",
                     "\n",
                     "    .dataframe thead th {\n",
                     "        text-align: right;\n",
                     "    }\n",
                     "</style>\n",
                     "<table border=\"1\" class=\"dataframe\">\n",
                     "  <thead>\n",
                     "    <tr style=\"text-align: right;\">\n",
                     "      <th></th>\n",
                     "      <th>title</th>\n",
                     "      <th>platform</th>\n",
                     "      <th>link</th>\n",
                     "      <th>movieId</th>\n",
                     "    </tr>\n",
                     "  </thead>\n",
                     "  <tbody>\n",
                     "    <tr>\n",
                     "      <th>0</th>\n",
                     "      <td>moana</td>\n",
                     "      <td>디즈니+</td>\n",
                     "      <td>https://disneyplus.bn5x.net/c/3581330/1182069/...</td>\n",
                     "      <td>73141</td>\n",
                     "    </tr>\n",
                     "    <tr>\n",
                     "      <th>1</th>\n",
                     "      <td>inside out</td>\n",
                     "      <td>디즈니+</td>\n",
                     "      <td>https://disneyplus.bn5x.net/c/3581330/1182069/...</td>\n",
                     "      <td>122470</td>\n",
                     "    </tr>\n",
                     "    <tr>\n",
                     "      <th>2</th>\n",
                     "      <td>zootopia</td>\n",
                     "      <td>디즈니+</td>\n",
                     "      <td>https://disneyplus.bn5x.net/c/3581330/1182069/...</td>\n",
                     "      <td>152081</td>\n",
                     "    </tr>\n",
                     "    <tr>\n",
                     "      <th>3</th>\n",
                     "      <td>legally blonde</td>\n",
                     "      <td>no_link</td>\n",
                     "      <td>no_link</td>\n",
                     "      <td>4447</td>\n",
                     "    </tr>\n",
                     "    <tr>\n",
                     "      <th>4</th>\n",
                     "      <td>dead poets society</td>\n",
                     "      <td>디즈니+</td>\n",
                     "      <td>https://disneyplus.bn5x.net/c/3581330/1182069/...</td>\n",
                     "      <td>1246</td>\n",
                     "    </tr>\n",
                     "    <tr>\n",
                     "      <th>...</th>\n",
                     "      <td>...</td>\n",
                     "      <td>...</td>\n",
                     "      <td>...</td>\n",
                     "      <td>...</td>\n",
                     "    </tr>\n",
                     "    <tr>\n",
                     "      <th>212</th>\n",
                     "      <td>Superman (1978 Franchise)</td>\n",
                     "      <td>넷플릭스</td>\n",
                     "      <td>https://redirect.watcha.com/galaxy/aHR0cHM6Ly9...</td>\n",
                     "      <td>301014</td>\n",
                     "    </tr>\n",
                     "    <tr>\n",
                     "      <th>213</th>\n",
                     "      <td>Superman (1978 Franchise)</td>\n",
                     "      <td>웨이브</td>\n",
                     "      <td>https://redirect.watcha.com/galaxy/aHR0cHM6Ly9...</td>\n",
                     "      <td>301014</td>\n",
                     "    </tr>\n",
                     "    <tr>\n",
                     "      <th>214</th>\n",
                     "      <td>Sydney White and the seven dorks (2007)</td>\n",
                     "      <td>티빙</td>\n",
                     "      <td>https://redirect.watcha.com/galaxy/aHR0cHM6Ly9...</td>\n",
                     "      <td>300096</td>\n",
                     "    </tr>\n",
                     "    <tr>\n",
                     "      <th>215</th>\n",
                     "      <td>The Spider-Man Trilogy (2002)</td>\n",
                     "      <td>디즈니+</td>\n",
                     "      <td>https://disneyplus.bn5x.net/c/3581330/1182069/...</td>\n",
                     "      <td>300944</td>\n",
                     "    </tr>\n",
                     "    <tr>\n",
                     "      <th>216</th>\n",
                     "      <td>The Spider-Man Trilogy (2002)</td>\n",
                     "      <td>티빙</td>\n",
                     "      <td>https://redirect.watcha.com/galaxy/aHR0cHM6Ly9...</td>\n",
                     "      <td>300944</td>\n",
                     "    </tr>\n",
                     "  </tbody>\n",
                     "</table>\n",
                     "<p>4679 rows × 4 columns</p>\n",
                     "</div>"
                  ],
                  "text/plain": [
                     "                                       title platform  \\\n",
                     "0                                      moana     디즈니+   \n",
                     "1                                 inside out     디즈니+   \n",
                     "2                                   zootopia     디즈니+   \n",
                     "3                             legally blonde  no_link   \n",
                     "4                         dead poets society     디즈니+   \n",
                     "..                                       ...      ...   \n",
                     "212                Superman (1978 Franchise)     넷플릭스   \n",
                     "213                Superman (1978 Franchise)      웨이브   \n",
                     "214  Sydney White and the seven dorks (2007)       티빙   \n",
                     "215            The Spider-Man Trilogy (2002)     디즈니+   \n",
                     "216            The Spider-Man Trilogy (2002)       티빙   \n",
                     "\n",
                     "                                                  link  movieId  \n",
                     "0    https://disneyplus.bn5x.net/c/3581330/1182069/...    73141  \n",
                     "1    https://disneyplus.bn5x.net/c/3581330/1182069/...   122470  \n",
                     "2    https://disneyplus.bn5x.net/c/3581330/1182069/...   152081  \n",
                     "3                                              no_link     4447  \n",
                     "4    https://disneyplus.bn5x.net/c/3581330/1182069/...     1246  \n",
                     "..                                                 ...      ...  \n",
                     "212  https://redirect.watcha.com/galaxy/aHR0cHM6Ly9...   301014  \n",
                     "213  https://redirect.watcha.com/galaxy/aHR0cHM6Ly9...   301014  \n",
                     "214  https://redirect.watcha.com/galaxy/aHR0cHM6Ly9...   300096  \n",
                     "215  https://disneyplus.bn5x.net/c/3581330/1182069/...   300944  \n",
                     "216  https://redirect.watcha.com/galaxy/aHR0cHM6Ly9...   300944  \n",
                     "\n",
                     "[4679 rows x 4 columns]"
                  ]
               },
               "execution_count": 40,
               "metadata": {},
               "output_type": "execute_result"
            }
         ],
         "source": [
            "watch_link3 = pd.concat([watch_link2,cp])\n",
            "watch_link3"
         ]
      },
      {
         "cell_type": "code",
         "execution_count": 42,
         "id": "d9069710",
         "metadata": {
            "ExecuteTime": {
               "end_time": "2023-01-31T14:26:30.270547Z",
               "start_time": "2023-01-31T14:26:30.263809Z"
            }
         },
         "outputs": [
            {
               "data": {
                  "text/plain": [
                     "3229"
                  ]
               },
               "execution_count": 42,
               "metadata": {},
               "output_type": "execute_result"
            }
         ],
         "source": [
            "watch_link2.title.nunique()"
         ]
      },
      {
         "cell_type": "code",
         "execution_count": 41,
         "id": "6ccfe4f6",
         "metadata": {
            "ExecuteTime": {
               "end_time": "2023-01-31T14:26:23.918354Z",
               "start_time": "2023-01-31T14:26:23.913804Z"
            }
         },
         "outputs": [
            {
               "data": {
                  "text/plain": [
                     "3388"
                  ]
               },
               "execution_count": 41,
               "metadata": {},
               "output_type": "execute_result"
            }
         ],
         "source": [
            "watch_link3.title.nunique()"
         ]
      },
      {
         "cell_type": "code",
         "execution_count": 43,
         "id": "6eaedde1",
         "metadata": {
            "ExecuteTime": {
               "end_time": "2023-01-31T14:26:44.556492Z",
               "start_time": "2023-01-31T14:26:44.550817Z"
            }
         },
         "outputs": [],
         "source": [
            "watch_link3.to_pickle('/opt/ml/project/Utils/Pickle/230131_watch_link_4679_rows.pickle')"
         ]
      }
   ],
   "metadata": {
      "kernelspec": {
         "display_name": "Python 3 (ipykernel)",
         "language": "python",
         "name": "python3"
      },
      "language_info": {
         "codemirror_mode": {
            "name": "ipython",
            "version": 3
         },
         "file_extension": ".py",
         "mimetype": "text/x-python",
         "name": "python",
         "nbconvert_exporter": "python",
         "pygments_lexer": "ipython3",
         "version": "3.8.5"
      },
      "toc": {
         "base_numbering": 1,
         "nav_menu": {},
         "number_sections": true,
         "sideBar": true,
         "skip_h1_title": false,
         "title_cell": "Table of Contents",
         "title_sidebar": "Contents",
         "toc_cell": false,
         "toc_position": {},
         "toc_section_display": true,
         "toc_window_display": false
      }
   },
   "nbformat": 4,
   "nbformat_minor": 5
}