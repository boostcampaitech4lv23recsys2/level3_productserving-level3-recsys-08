{
 "cells": [
  {
   "cell_type": "code",
   "execution_count": 2,
   "id": "c4316caa",
   "metadata": {
    "ExecuteTime": {
     "end_time": "2023-01-25T14:50:13.183263Z",
     "start_time": "2023-01-25T14:50:12.854834Z"
    }
   },
   "outputs": [],
   "source": [
    "import pandas as pd"
   ]
  },
  {
   "cell_type": "code",
   "execution_count": 2,
   "id": "b060ccb3",
   "metadata": {
    "ExecuteTime": {
     "end_time": "2023-01-24T19:15:09.311174Z",
     "start_time": "2023-01-24T19:15:09.074036Z"
    }
   },
   "outputs": [],
   "source": [
    "df = pd.read_csv('no_charactor_3229_plus_side_info_plus_korean_genre_and_plot.csv')"
   ]
  },
  {
   "cell_type": "code",
   "execution_count": 9,
   "id": "2ee8d0a1",
   "metadata": {
    "ExecuteTime": {
     "end_time": "2023-01-24T19:16:07.373364Z",
     "start_time": "2023-01-24T19:16:07.366689Z"
    }
   },
   "outputs": [
    {
     "data": {
      "text/plain": [
       "Series([], Name: genres, dtype: int64)"
      ]
     },
     "execution_count": 9,
     "metadata": {},
     "output_type": "execute_result"
    }
   ],
   "source": [
    "df[df.ko_genres==\"장르 정보 없음\"].genres.value_counts()"
   ]
  },
  {
   "cell_type": "code",
   "execution_count": 12,
   "id": "72495d01",
   "metadata": {
    "ExecuteTime": {
     "end_time": "2023-01-24T19:16:26.706940Z",
     "start_time": "2023-01-24T19:16:26.699875Z"
    }
   },
   "outputs": [
    {
     "data": {
      "text/plain": [
       "[\"GREETINGS AND SALUTATIONS. Cate and Lori decided to kill a bottle of wine and dish on 1989's cult classic Heathers starring Winona Ryder, Christian Slater, and Shannen Doherty.\", 'GREETINGS AND SALUTATIONS. Cate and Lori decided to kill a bottle of wine and dish on 1989\\'s cult classic Heathers starring Winona Ryder, Christian Slater, and Shannen Doherty. It\\'s no secret this film is \"so very\" with its dark humor and colorful characters, so the good time gals invite you to join their clique as they get into the red scrunchie of it all.']    1\n",
       "Name: plot, dtype: int64"
      ]
     },
     "execution_count": 12,
     "metadata": {},
     "output_type": "execute_result"
    }
   ],
   "source": [
    "df[df.ko_genres==\"장르 정보 없음\"]['plot'].value_counts()"
   ]
  },
  {
   "cell_type": "code",
   "execution_count": 18,
   "id": "45959e85",
   "metadata": {
    "ExecuteTime": {
     "end_time": "2023-01-24T19:17:23.912367Z",
     "start_time": "2023-01-24T19:17:23.900550Z"
    }
   },
   "outputs": [
    {
     "data": {
      "text/html": [
       "<div>\n",
       "<style scoped>\n",
       "    .dataframe tbody tr th:only-of-type {\n",
       "        vertical-align: middle;\n",
       "    }\n",
       "\n",
       "    .dataframe tbody tr th {\n",
       "        vertical-align: top;\n",
       "    }\n",
       "\n",
       "    .dataframe thead th {\n",
       "        text-align: right;\n",
       "    }\n",
       "</style>\n",
       "<table border=\"1\" class=\"dataframe\">\n",
       "  <thead>\n",
       "    <tr style=\"text-align: right;\">\n",
       "      <th></th>\n",
       "      <th>movieId</th>\n",
       "      <th>ko_genres</th>\n",
       "      <th>ko_plot</th>\n",
       "    </tr>\n",
       "  </thead>\n",
       "  <tbody>\n",
       "    <tr>\n",
       "      <th>0</th>\n",
       "      <td>73141</td>\n",
       "      <td>'애니메이션', '어드벤처', '코미디', '가족', '판타지', '뮤지컬'</td>\n",
       "      <td>고대 폴리네시아에서, 반신 마우이가 발생한 끔찍한 저주가 모아 나 섬에 도착했을 때...</td>\n",
       "    </tr>\n",
       "    <tr>\n",
       "      <th>1</th>\n",
       "      <td>122470</td>\n",
       "      <td>'애니메이션', '어드벤처', '코미디', '드라마', '가족', '판타지'</td>\n",
       "      <td>젊은 라일리가 중서부 생활에서 뿌리를 내리고 샌프란시스코로 이사 한 후, 그녀의 감...</td>\n",
       "    </tr>\n",
       "    <tr>\n",
       "      <th>2</th>\n",
       "      <td>152081</td>\n",
       "      <td>'애니메이션', '어드벤처', '코미디', '범죄', '가족', '미스터리'</td>\n",
       "      <td>의인화 동물 도시에서 신인 토끼 경찰과 냉소적 인 사기 아티스트 폭스는 음모를 밝히...</td>\n",
       "    </tr>\n",
       "    <tr>\n",
       "      <th>3</th>\n",
       "      <td>4447</td>\n",
       "      <td>'코미디', '로맨</td>\n",
       "      <td>줄거리 정보 없음</td>\n",
       "    </tr>\n",
       "    <tr>\n",
       "      <th>4</th>\n",
       "      <td>1246</td>\n",
       "      <td>'코미디', '드라</td>\n",
       "      <td>매버릭 교사 인 존 키팅 (John Keating)은시를 사용하여 그의 기숙 학교 ...</td>\n",
       "    </tr>\n",
       "    <tr>\n",
       "      <th>...</th>\n",
       "      <td>...</td>\n",
       "      <td>...</td>\n",
       "      <td>...</td>\n",
       "    </tr>\n",
       "    <tr>\n",
       "      <th>3224</th>\n",
       "      <td>27482</td>\n",
       "      <td>장르 정보 없음</td>\n",
       "      <td>줄거리 정보 없음</td>\n",
       "    </tr>\n",
       "    <tr>\n",
       "      <th>3225</th>\n",
       "      <td>76208</td>\n",
       "      <td>장르 정보 없음</td>\n",
       "      <td>줄거리 정보 없음</td>\n",
       "    </tr>\n",
       "    <tr>\n",
       "      <th>3226</th>\n",
       "      <td>177115</td>\n",
       "      <td>'전기', '드라마', '역</td>\n",
       "      <td>기업 변호사 변호사는 오랫동안 오염의 역사를 드러내는 화학 회사에 대한 환경 소송을...</td>\n",
       "    </tr>\n",
       "    <tr>\n",
       "      <th>3227</th>\n",
       "      <td>68269</td>\n",
       "      <td>'전기', '드라마', '역사', '로맨스'</td>\n",
       "      <td>빅토리아 여왕의 통치의 첫해와 앨버트 왕자와의 지속적인 로맨스의 드라마화.\"그녀의 ...</td>\n",
       "    </tr>\n",
       "    <tr>\n",
       "      <th>3228</th>\n",
       "      <td>118880</td>\n",
       "      <td>장르 정보 없음</td>\n",
       "      <td>줄거리 정보 없음</td>\n",
       "    </tr>\n",
       "  </tbody>\n",
       "</table>\n",
       "<p>3229 rows × 3 columns</p>\n",
       "</div>"
      ],
      "text/plain": [
       "      movieId                                   ko_genres  \\\n",
       "0       73141  '애니메이션', '어드벤처', '코미디', '가족', '판타지', '뮤지컬'   \n",
       "1      122470  '애니메이션', '어드벤처', '코미디', '드라마', '가족', '판타지'   \n",
       "2      152081  '애니메이션', '어드벤처', '코미디', '범죄', '가족', '미스터리'   \n",
       "3        4447                                  '코미디', '로맨   \n",
       "4        1246                                  '코미디', '드라   \n",
       "...       ...                                         ...   \n",
       "3224    27482                                    장르 정보 없음   \n",
       "3225    76208                                    장르 정보 없음   \n",
       "3226   177115                             '전기', '드라마', '역   \n",
       "3227    68269                    '전기', '드라마', '역사', '로맨스'   \n",
       "3228   118880                                    장르 정보 없음   \n",
       "\n",
       "                                                ko_plot  \n",
       "0     고대 폴리네시아에서, 반신 마우이가 발생한 끔찍한 저주가 모아 나 섬에 도착했을 때...  \n",
       "1     젊은 라일리가 중서부 생활에서 뿌리를 내리고 샌프란시스코로 이사 한 후, 그녀의 감...  \n",
       "2     의인화 동물 도시에서 신인 토끼 경찰과 냉소적 인 사기 아티스트 폭스는 음모를 밝히...  \n",
       "3                                             줄거리 정보 없음  \n",
       "4     매버릭 교사 인 존 키팅 (John Keating)은시를 사용하여 그의 기숙 학교 ...  \n",
       "...                                                 ...  \n",
       "3224                                          줄거리 정보 없음  \n",
       "3225                                          줄거리 정보 없음  \n",
       "3226  기업 변호사 변호사는 오랫동안 오염의 역사를 드러내는 화학 회사에 대한 환경 소송을...  \n",
       "3227  빅토리아 여왕의 통치의 첫해와 앨버트 왕자와의 지속적인 로맨스의 드라마화.\"그녀의 ...  \n",
       "3228                                          줄거리 정보 없음  \n",
       "\n",
       "[3229 rows x 3 columns]"
      ]
     },
     "execution_count": 18,
     "metadata": {},
     "output_type": "execute_result"
    }
   ],
   "source": [
    "df2 = df[['movieId','ko_genres','ko_plot']].copy()\n",
    "df2.movieId=df2.movieId.astype(int)\n",
    "df2"
   ]
  },
  {
   "cell_type": "code",
   "execution_count": 34,
   "id": "e36d413b",
   "metadata": {
    "ExecuteTime": {
     "end_time": "2023-01-25T02:46:31.033927Z",
     "start_time": "2023-01-25T02:46:30.909713Z"
    }
   },
   "outputs": [
    {
     "name": "stdout",
     "output_type": "stream",
     "text": [
      "Genre_Processing.ipynb\r\n",
      "MBTI_Character_duplicate_processing.ipynb\r\n",
      "MBTI_X_Enneagram_18x18_matrix.ipynb\r\n",
      "MBTI_merge_movieLens_3229_movie.csv\r\n",
      "Recommend_Data_Processing.ipynb\r\n",
      "enneagram_similarity.csv\r\n",
      "mbti_ml_match_dict.pkl\r\n",
      "no_charactor_3229_plus_side_info_plus_korean_genre_and_plot.csv\r\n"
     ]
    }
   ],
   "source": [
    "!ls"
   ]
  },
  {
   "cell_type": "code",
   "execution_count": 36,
   "id": "1e35c220",
   "metadata": {
    "ExecuteTime": {
     "end_time": "2023-01-25T03:23:47.132766Z",
     "start_time": "2023-01-25T03:23:47.008465Z"
    }
   },
   "outputs": [
    {
     "name": "stdout",
     "output_type": "stream",
     "text": [
      "/opt/ml/project/Data/DataProcessing\r\n"
     ]
    }
   ],
   "source": [
    "!pwd"
   ]
  },
  {
   "cell_type": "code",
   "execution_count": 35,
   "id": "033c4d6e",
   "metadata": {
    "ExecuteTime": {
     "end_time": "2023-01-25T02:46:36.595671Z",
     "start_time": "2023-01-25T02:46:36.499968Z"
    }
   },
   "outputs": [],
   "source": [
    "df2.to_csv('movie_genre_plot.csv',index=False)"
   ]
  },
  {
   "cell_type": "code",
   "execution_count": 3,
   "id": "5c78cc05",
   "metadata": {
    "ExecuteTime": {
     "end_time": "2023-01-25T14:50:22.597688Z",
     "start_time": "2023-01-25T14:50:22.498805Z"
    }
   },
   "outputs": [],
   "source": [
    "df = pd.read_csv('movie_genre_plot.csv')"
   ]
  },
  {
   "cell_type": "code",
   "execution_count": 4,
   "id": "bd34c6e5",
   "metadata": {
    "ExecuteTime": {
     "end_time": "2023-01-25T14:50:24.759853Z",
     "start_time": "2023-01-25T14:50:24.742766Z"
    }
   },
   "outputs": [
    {
     "data": {
      "text/html": [
       "<div>\n",
       "<style scoped>\n",
       "    .dataframe tbody tr th:only-of-type {\n",
       "        vertical-align: middle;\n",
       "    }\n",
       "\n",
       "    .dataframe tbody tr th {\n",
       "        vertical-align: top;\n",
       "    }\n",
       "\n",
       "    .dataframe thead th {\n",
       "        text-align: right;\n",
       "    }\n",
       "</style>\n",
       "<table border=\"1\" class=\"dataframe\">\n",
       "  <thead>\n",
       "    <tr style=\"text-align: right;\">\n",
       "      <th></th>\n",
       "      <th>movieId</th>\n",
       "      <th>ko_genres</th>\n",
       "      <th>ko_plot</th>\n",
       "    </tr>\n",
       "  </thead>\n",
       "  <tbody>\n",
       "    <tr>\n",
       "      <th>0</th>\n",
       "      <td>73141</td>\n",
       "      <td>'애니메이션', '어드벤처', '코미디', '가족', '판타지', '뮤지컬'</td>\n",
       "      <td>고대 폴리네시아에서, 반신 마우이가 발생한 끔찍한 저주가 모아 나 섬에 도착했을 때...</td>\n",
       "    </tr>\n",
       "    <tr>\n",
       "      <th>1</th>\n",
       "      <td>122470</td>\n",
       "      <td>'애니메이션', '어드벤처', '코미디', '드라마', '가족', '판타지'</td>\n",
       "      <td>젊은 라일리가 중서부 생활에서 뿌리를 내리고 샌프란시스코로 이사 한 후, 그녀의 감...</td>\n",
       "    </tr>\n",
       "    <tr>\n",
       "      <th>2</th>\n",
       "      <td>152081</td>\n",
       "      <td>'애니메이션', '어드벤처', '코미디', '범죄', '가족', '미스터리'</td>\n",
       "      <td>의인화 동물 도시에서 신인 토끼 경찰과 냉소적 인 사기 아티스트 폭스는 음모를 밝히...</td>\n",
       "    </tr>\n",
       "    <tr>\n",
       "      <th>3</th>\n",
       "      <td>4447</td>\n",
       "      <td>'코미디', '로맨</td>\n",
       "      <td>줄거리 정보 없음</td>\n",
       "    </tr>\n",
       "    <tr>\n",
       "      <th>4</th>\n",
       "      <td>1246</td>\n",
       "      <td>'코미디', '드라</td>\n",
       "      <td>매버릭 교사 인 존 키팅 (John Keating)은시를 사용하여 그의 기숙 학교 ...</td>\n",
       "    </tr>\n",
       "    <tr>\n",
       "      <th>...</th>\n",
       "      <td>...</td>\n",
       "      <td>...</td>\n",
       "      <td>...</td>\n",
       "    </tr>\n",
       "    <tr>\n",
       "      <th>3224</th>\n",
       "      <td>27482</td>\n",
       "      <td>장르 정보 없음</td>\n",
       "      <td>줄거리 정보 없음</td>\n",
       "    </tr>\n",
       "    <tr>\n",
       "      <th>3225</th>\n",
       "      <td>76208</td>\n",
       "      <td>장르 정보 없음</td>\n",
       "      <td>줄거리 정보 없음</td>\n",
       "    </tr>\n",
       "    <tr>\n",
       "      <th>3226</th>\n",
       "      <td>177115</td>\n",
       "      <td>'전기', '드라마', '역</td>\n",
       "      <td>기업 변호사 변호사는 오랫동안 오염의 역사를 드러내는 화학 회사에 대한 환경 소송을...</td>\n",
       "    </tr>\n",
       "    <tr>\n",
       "      <th>3227</th>\n",
       "      <td>68269</td>\n",
       "      <td>'전기', '드라마', '역사', '로맨스'</td>\n",
       "      <td>빅토리아 여왕의 통치의 첫해와 앨버트 왕자와의 지속적인 로맨스의 드라마화.\"그녀의 ...</td>\n",
       "    </tr>\n",
       "    <tr>\n",
       "      <th>3228</th>\n",
       "      <td>118880</td>\n",
       "      <td>장르 정보 없음</td>\n",
       "      <td>줄거리 정보 없음</td>\n",
       "    </tr>\n",
       "  </tbody>\n",
       "</table>\n",
       "<p>3229 rows × 3 columns</p>\n",
       "</div>"
      ],
      "text/plain": [
       "      movieId                                   ko_genres  \\\n",
       "0       73141  '애니메이션', '어드벤처', '코미디', '가족', '판타지', '뮤지컬'   \n",
       "1      122470  '애니메이션', '어드벤처', '코미디', '드라마', '가족', '판타지'   \n",
       "2      152081  '애니메이션', '어드벤처', '코미디', '범죄', '가족', '미스터리'   \n",
       "3        4447                                  '코미디', '로맨   \n",
       "4        1246                                  '코미디', '드라   \n",
       "...       ...                                         ...   \n",
       "3224    27482                                    장르 정보 없음   \n",
       "3225    76208                                    장르 정보 없음   \n",
       "3226   177115                             '전기', '드라마', '역   \n",
       "3227    68269                    '전기', '드라마', '역사', '로맨스'   \n",
       "3228   118880                                    장르 정보 없음   \n",
       "\n",
       "                                                ko_plot  \n",
       "0     고대 폴리네시아에서, 반신 마우이가 발생한 끔찍한 저주가 모아 나 섬에 도착했을 때...  \n",
       "1     젊은 라일리가 중서부 생활에서 뿌리를 내리고 샌프란시스코로 이사 한 후, 그녀의 감...  \n",
       "2     의인화 동물 도시에서 신인 토끼 경찰과 냉소적 인 사기 아티스트 폭스는 음모를 밝히...  \n",
       "3                                             줄거리 정보 없음  \n",
       "4     매버릭 교사 인 존 키팅 (John Keating)은시를 사용하여 그의 기숙 학교 ...  \n",
       "...                                                 ...  \n",
       "3224                                          줄거리 정보 없음  \n",
       "3225                                          줄거리 정보 없음  \n",
       "3226  기업 변호사 변호사는 오랫동안 오염의 역사를 드러내는 화학 회사에 대한 환경 소송을...  \n",
       "3227  빅토리아 여왕의 통치의 첫해와 앨버트 왕자와의 지속적인 로맨스의 드라마화.\"그녀의 ...  \n",
       "3228                                          줄거리 정보 없음  \n",
       "\n",
       "[3229 rows x 3 columns]"
      ]
     },
     "execution_count": 4,
     "metadata": {},
     "output_type": "execute_result"
    }
   ],
   "source": [
    "df"
   ]
  },
  {
   "cell_type": "code",
   "execution_count": 5,
   "id": "8feed62b",
   "metadata": {
    "ExecuteTime": {
     "end_time": "2023-01-25T14:50:40.824970Z",
     "start_time": "2023-01-25T14:50:40.795111Z"
    }
   },
   "outputs": [],
   "source": [
    "df.to_pickle('/opt/ml/project/Utils/Pickle/movie_genre_plot.pickle')"
   ]
  },
  {
   "cell_type": "code",
   "execution_count": 26,
   "id": "f463dd0a",
   "metadata": {
    "ExecuteTime": {
     "end_time": "2023-01-25T02:12:24.703876Z",
     "start_time": "2023-01-25T02:12:24.700526Z"
    }
   },
   "outputs": [],
   "source": [
    "import re\n",
    "\n",
    "def remove_special_chars(string, except_chars=\",\\uAC00-\\uD7A3\"):\n",
    "    pattern = \"[^a-zA-Z0-9 \" + except_chars + \"]\"\n",
    "    return re.sub(pattern, \"\", string)"
   ]
  },
  {
   "cell_type": "code",
   "execution_count": 27,
   "id": "a90c2f1f",
   "metadata": {
    "ExecuteTime": {
     "end_time": "2023-01-25T02:12:26.181385Z",
     "start_time": "2023-01-25T02:12:26.164256Z"
    }
   },
   "outputs": [
    {
     "data": {
      "text/plain": [
       "0       애니메이션, 어드벤처, 코미디, 가족, 판타지, 뮤지컬\n",
       "1       애니메이션, 어드벤처, 코미디, 드라마, 가족, 판타지\n",
       "2       애니메이션, 어드벤처, 코미디, 범죄, 가족, 미스터리\n",
       "3                              코미디, 로맨\n",
       "4                              코미디, 드라\n",
       "                     ...              \n",
       "3224                          장르 정보 없음\n",
       "3225                          장르 정보 없음\n",
       "3226                        전기, 드라마, 역\n",
       "3227                  전기, 드라마, 역사, 로맨스\n",
       "3228                          장르 정보 없음\n",
       "Name: ko_genres, Length: 3229, dtype: object"
      ]
     },
     "execution_count": 27,
     "metadata": {},
     "output_type": "execute_result"
    }
   ],
   "source": [
    "df2.ko_genres.map(remove_special_chars)"
   ]
  },
  {
   "cell_type": "code",
   "execution_count": 22,
   "id": "ce58610a",
   "metadata": {
    "ExecuteTime": {
     "end_time": "2023-01-25T02:10:39.994408Z",
     "start_time": "2023-01-25T02:10:39.990961Z"
    }
   },
   "outputs": [
    {
     "name": "stdout",
     "output_type": "stream",
     "text": [
      "Hello, World How are you\n"
     ]
    }
   ],
   "source": [
    "# Example usage\n",
    "string = \"Hello, World! How are you?\"\n",
    "new_string = remove_special_chars(string)\n",
    "print(new_string)  # \"Hello, World How are you\""
   ]
  }
 ],
 "metadata": {
  "kernelspec": {
   "display_name": "Python 3 (ipykernel)",
   "language": "python",
   "name": "python3"
  },
  "language_info": {
   "codemirror_mode": {
    "name": "ipython",
    "version": 3
   },
   "file_extension": ".py",
   "mimetype": "text/x-python",
   "name": "python",
   "nbconvert_exporter": "python",
   "pygments_lexer": "ipython3",
   "version": "3.8.5"
  },
  "toc": {
   "base_numbering": 1,
   "nav_menu": {},
   "number_sections": true,
   "sideBar": true,
   "skip_h1_title": false,
   "title_cell": "Table of Contents",
   "title_sidebar": "Contents",
   "toc_cell": false,
   "toc_position": {},
   "toc_section_display": true,
   "toc_window_display": false
  }
 },
 "nbformat": 4,
 "nbformat_minor": 5
}
