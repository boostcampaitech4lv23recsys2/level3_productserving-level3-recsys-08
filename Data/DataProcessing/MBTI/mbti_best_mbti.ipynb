{
 "cells": [
  {
   "attachments": {},
   "cell_type": "markdown",
   "metadata": {},
   "source": [
    "## 나와 잘 맞는 MBTI 캐릭터 추천을 위한, MBTI 별 잘 맞는 MBTI 파일 만들기"
   ]
  },
  {
   "attachments": {},
   "cell_type": "markdown",
   "metadata": {},
   "source": [
    "### MBTI 별 잘 맞는 MBTI 딕셔너리 만들기"
   ]
  },
  {
   "cell_type": "code",
   "execution_count": 1,
   "metadata": {},
   "outputs": [],
   "source": [
    "MBTI = {'ENFJ' : 'INFP',\n",
    "        'ENTJ' : 'INTP',\n",
    "        'ENFP' : 'INTJ',\n",
    "        'ENTP' : 'INTJ',\n",
    "        'ESFP' : 'ISTJ',\n",
    "        'ESFJ' : 'ISTP',\n",
    "        'ESTP' : 'ISFJ',\n",
    "        'ESTJ' : 'INTP',\n",
    "        'INFP' : 'ENTJ',\n",
    "        'INFJ' : 'ENTP',\n",
    "        'INTJ' : 'ENTP',\n",
    "        'INTP' : 'ENTJ',\n",
    "        'ISTP' : 'ESTJ',\n",
    "        'ISFP' : 'ENFJ',\n",
    "        'ISFJ' : 'ESTP',\n",
    "        'ISTJ' : 'ESFP'}"
   ]
  },
  {
   "cell_type": "code",
   "execution_count": 3,
   "metadata": {},
   "outputs": [],
   "source": [
    "import pickle\n",
    "\n",
    "with open('mbti_best_mbti.pkl','wb') as f:\n",
    "    pickle.dump(MBTI,f)"
   ]
  },
  {
   "cell_type": "code",
   "execution_count": 4,
   "metadata": {},
   "outputs": [
    {
     "data": {
      "text/html": [
       "<div>\n",
       "<style scoped>\n",
       "    .dataframe tbody tr th:only-of-type {\n",
       "        vertical-align: middle;\n",
       "    }\n",
       "\n",
       "    .dataframe tbody tr th {\n",
       "        vertical-align: top;\n",
       "    }\n",
       "\n",
       "    .dataframe thead th {\n",
       "        text-align: right;\n",
       "    }\n",
       "</style>\n",
       "<table border=\"1\" class=\"dataframe\">\n",
       "  <thead>\n",
       "    <tr style=\"text-align: right;\">\n",
       "      <th></th>\n",
       "      <th>Character</th>\n",
       "      <th>Contents</th>\n",
       "      <th>Votes</th>\n",
       "      <th>MBTI</th>\n",
       "      <th>Enneagram</th>\n",
       "      <th>img_src</th>\n",
       "      <th>CharacterId</th>\n",
       "      <th>movieId</th>\n",
       "    </tr>\n",
       "  </thead>\n",
       "  <tbody>\n",
       "    <tr>\n",
       "      <th>0</th>\n",
       "      <td>Moana Waialiki</td>\n",
       "      <td>Moana (2016)</td>\n",
       "      <td>2.7k/477</td>\n",
       "      <td>ENFJ</td>\n",
       "      <td>7w6</td>\n",
       "      <td>https://static1.personality-database.com/profi...</td>\n",
       "      <td>0</td>\n",
       "      <td>73141</td>\n",
       "    </tr>\n",
       "    <tr>\n",
       "      <th>1</th>\n",
       "      <td>Joy</td>\n",
       "      <td>Inside Out (2015)</td>\n",
       "      <td>2.5k/358</td>\n",
       "      <td>ENFJ</td>\n",
       "      <td>7w6</td>\n",
       "      <td>https://static1.personality-database.com/profi...</td>\n",
       "      <td>2</td>\n",
       "      <td>122470</td>\n",
       "    </tr>\n",
       "    <tr>\n",
       "      <th>2</th>\n",
       "      <td>Judy Hopps</td>\n",
       "      <td>Zootopia (2016)</td>\n",
       "      <td>2.3k/350</td>\n",
       "      <td>ENFJ</td>\n",
       "      <td>1w2</td>\n",
       "      <td>https://static1.personality-database.com/profi...</td>\n",
       "      <td>3</td>\n",
       "      <td>152081</td>\n",
       "    </tr>\n",
       "    <tr>\n",
       "      <th>3</th>\n",
       "      <td>Elle Woods</td>\n",
       "      <td>Legally Blonde (2001)</td>\n",
       "      <td>1.9k/227</td>\n",
       "      <td>ENFJ</td>\n",
       "      <td>3w2</td>\n",
       "      <td>https://static1.personality-database.com/profi...</td>\n",
       "      <td>4</td>\n",
       "      <td>4447</td>\n",
       "    </tr>\n",
       "    <tr>\n",
       "      <th>4</th>\n",
       "      <td>Neil Perry</td>\n",
       "      <td>Dead Poets Society (1989)</td>\n",
       "      <td>1.7k/222</td>\n",
       "      <td>ENFJ</td>\n",
       "      <td>4w3</td>\n",
       "      <td>https://static1.personality-database.com/profi...</td>\n",
       "      <td>5</td>\n",
       "      <td>1246</td>\n",
       "    </tr>\n",
       "  </tbody>\n",
       "</table>\n",
       "</div>"
      ],
      "text/plain": [
       "        Character                   Contents     Votes  MBTI Enneagram  \\\n",
       "0  Moana Waialiki               Moana (2016)  2.7k/477  ENFJ       7w6   \n",
       "1             Joy          Inside Out (2015)  2.5k/358  ENFJ       7w6   \n",
       "2      Judy Hopps            Zootopia (2016)  2.3k/350  ENFJ       1w2   \n",
       "3      Elle Woods      Legally Blonde (2001)  1.9k/227  ENFJ       3w2   \n",
       "4      Neil Perry  Dead Poets Society (1989)  1.7k/222  ENFJ       4w3   \n",
       "\n",
       "                                             img_src  CharacterId  movieId  \n",
       "0  https://static1.personality-database.com/profi...            0    73141  \n",
       "1  https://static1.personality-database.com/profi...            2   122470  \n",
       "2  https://static1.personality-database.com/profi...            3   152081  \n",
       "3  https://static1.personality-database.com/profi...            4     4447  \n",
       "4  https://static1.personality-database.com/profi...            5     1246  "
      ]
     },
     "execution_count": 4,
     "metadata": {},
     "output_type": "execute_result"
    }
   ],
   "source": [
    "import pandas as pd\n",
    "\n",
    "character = pd.read_csv(\"/opt/ml/input/data/230129_Popular_movie_character_2867_cwj.csv\")\n",
    "character.head()"
   ]
  },
  {
   "attachments": {},
   "cell_type": "markdown",
   "metadata": {},
   "source": [
    "각 캐릭터의 MBTI 별 잘 맞는 MBTI를 'MBTI2' 컬럼으로 새로 생성해주었습니다."
   ]
  },
  {
   "cell_type": "code",
   "execution_count": 6,
   "metadata": {},
   "outputs": [],
   "source": [
    "character['MBTI2'] = character['MBTI'].map(MBTI)"
   ]
  },
  {
   "cell_type": "code",
   "execution_count": 8,
   "metadata": {},
   "outputs": [],
   "source": [
    "character.to_csv(\"Popular_movie_character_2867_with_MBTI2.csv\")"
   ]
  }
 ],
 "metadata": {
  "kernelspec": {
   "display_name": "base",
   "language": "python",
   "name": "python3"
  },
  "language_info": {
   "codemirror_mode": {
    "name": "ipython",
    "version": 3
   },
   "file_extension": ".py",
   "mimetype": "text/x-python",
   "name": "python",
   "nbconvert_exporter": "python",
   "pygments_lexer": "ipython3",
   "version": "3.8.5"
  },
  "orig_nbformat": 4,
  "vscode": {
   "interpreter": {
    "hash": "d4d1e4263499bec80672ea0156c357c1ee493ec2b1c70f0acce89fc37c4a6abe"
   }
  }
 },
 "nbformat": 4,
 "nbformat_minor": 2
}
