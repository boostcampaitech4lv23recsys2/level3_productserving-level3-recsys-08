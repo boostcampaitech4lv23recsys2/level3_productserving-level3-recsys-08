{
 "cells": [
  {
   "cell_type": "code",
   "execution_count": 10,
   "id": "ebc02adb",
   "metadata": {
    "ExecuteTime": {
     "end_time": "2023-01-24T19:13:46.011308Z",
     "start_time": "2023-01-24T19:13:45.944902Z"
    }
   },
   "outputs": [],
   "source": [
    "import pandas as pd\n",
    "import pickle\n",
    "df = pd.read_csv('/opt/ml/project/Data/DataProcessing/MBTI_merge_movieLens_3229_movie.csv')"
   ]
  },
  {
   "cell_type": "code",
   "execution_count": 12,
   "id": "afd3da43",
   "metadata": {
    "ExecuteTime": {
     "end_time": "2023-01-24T19:14:08.507093Z",
     "start_time": "2023-01-24T19:14:08.486962Z"
    }
   },
   "outputs": [
    {
     "data": {
      "text/plain": [
       "(13682, 11)"
      ]
     },
     "execution_count": 12,
     "metadata": {},
     "output_type": "execute_result"
    }
   ],
   "source": [
    "df = df.drop_duplicates(subset=['Character','Contents','Votes'])\n",
    "df = df.reset_index(drop=True)\n",
    "df = df.reset_index().rename(columns={'index':'CharacterId'})\n",
    "df.shape"
   ]
  },
  {
   "cell_type": "code",
   "execution_count": 13,
   "id": "6a947dac",
   "metadata": {
    "ExecuteTime": {
     "end_time": "2023-01-24T19:14:09.364429Z",
     "start_time": "2023-01-24T19:14:09.349415Z"
    }
   },
   "outputs": [
    {
     "data": {
      "text/html": [
       "<div>\n",
       "<style scoped>\n",
       "    .dataframe tbody tr th:only-of-type {\n",
       "        vertical-align: middle;\n",
       "    }\n",
       "\n",
       "    .dataframe tbody tr th {\n",
       "        vertical-align: top;\n",
       "    }\n",
       "\n",
       "    .dataframe thead th {\n",
       "        text-align: right;\n",
       "    }\n",
       "</style>\n",
       "<table border=\"1\" class=\"dataframe\">\n",
       "  <thead>\n",
       "    <tr style=\"text-align: right;\">\n",
       "      <th></th>\n",
       "      <th>CharacterId</th>\n",
       "      <th>Character</th>\n",
       "      <th>Contents</th>\n",
       "      <th>Votes</th>\n",
       "      <th>MBTI</th>\n",
       "      <th>Enneagram</th>\n",
       "      <th>category</th>\n",
       "      <th>img_src</th>\n",
       "      <th>Page</th>\n",
       "      <th>title</th>\n",
       "      <th>movieId</th>\n",
       "    </tr>\n",
       "  </thead>\n",
       "  <tbody>\n",
       "  </tbody>\n",
       "</table>\n",
       "</div>"
      ],
      "text/plain": [
       "Empty DataFrame\n",
       "Columns: [CharacterId, Character, Contents, Votes, MBTI, Enneagram, category, img_src, Page, title, movieId]\n",
       "Index: []"
      ]
     },
     "execution_count": 13,
     "metadata": {},
     "output_type": "execute_result"
    }
   ],
   "source": [
    "df[df.duplicated(subset=['Character','Contents','Votes'],keep=False)]"
   ]
  },
  {
   "cell_type": "code",
   "execution_count": 15,
   "id": "6a04326e",
   "metadata": {
    "ExecuteTime": {
     "end_time": "2023-01-24T19:14:38.625952Z",
     "start_time": "2023-01-24T19:14:38.615716Z"
    }
   },
   "outputs": [],
   "source": [
    "empty_img_src = 'https://pdb-web-static.s3.us-east-2.amazonaws.com/avatars/profile_avatar.png'\n",
    "df = df[df.img_src!=empty_img_src]\n",
    "\n",
    "df = df.reset_index(drop=True)\n",
    "\n",
    "df.CharacterId = df.index\n",
    "\n",
    "df.movieId = df.movieId.astype(int)"
   ]
  },
  {
   "cell_type": "code",
   "execution_count": 18,
   "id": "e6f32437",
   "metadata": {
    "ExecuteTime": {
     "end_time": "2023-01-25T02:48:09.263277Z",
     "start_time": "2023-01-25T02:48:09.256503Z"
    }
   },
   "outputs": [],
   "source": [
    "ch2mv = dict(zip(df.CharacterId,df.movieId))"
   ]
  },
  {
   "cell_type": "code",
   "execution_count": null,
   "id": "a5e8e619",
   "metadata": {},
   "outputs": [],
   "source": [
    "df.to_pickle('/opt/ml/project/Utils/Pickle/MBTI_merge_movieLens_3229_movie.pickle')"
   ]
  },
  {
   "cell_type": "code",
   "execution_count": 25,
   "id": "03ad88c8",
   "metadata": {
    "ExecuteTime": {
     "end_time": "2023-01-25T02:51:59.278991Z",
     "start_time": "2023-01-25T02:51:59.263962Z"
    }
   },
   "outputs": [],
   "source": [
    "mbti_df = pd.read_pickle('/opt/ml/project/Utils/Pickle/MBTI_merge_movieLens_3229_movie.pickle')"
   ]
  },
  {
   "cell_type": "code",
   "execution_count": 26,
   "id": "842870fa",
   "metadata": {
    "ExecuteTime": {
     "end_time": "2023-01-25T02:52:01.765482Z",
     "start_time": "2023-01-25T02:52:01.748111Z"
    }
   },
   "outputs": [
    {
     "data": {
      "text/html": [
       "<div>\n",
       "<style scoped>\n",
       "    .dataframe tbody tr th:only-of-type {\n",
       "        vertical-align: middle;\n",
       "    }\n",
       "\n",
       "    .dataframe tbody tr th {\n",
       "        vertical-align: top;\n",
       "    }\n",
       "\n",
       "    .dataframe thead th {\n",
       "        text-align: right;\n",
       "    }\n",
       "</style>\n",
       "<table border=\"1\" class=\"dataframe\">\n",
       "  <thead>\n",
       "    <tr style=\"text-align: right;\">\n",
       "      <th></th>\n",
       "      <th>CharacterId</th>\n",
       "      <th>Character</th>\n",
       "      <th>Contents</th>\n",
       "      <th>Votes</th>\n",
       "      <th>MBTI</th>\n",
       "      <th>Enneagram</th>\n",
       "      <th>category</th>\n",
       "      <th>img_src</th>\n",
       "      <th>Page</th>\n",
       "      <th>title</th>\n",
       "      <th>movieId</th>\n",
       "    </tr>\n",
       "  </thead>\n",
       "  <tbody>\n",
       "    <tr>\n",
       "      <th>0</th>\n",
       "      <td>0</td>\n",
       "      <td>Moana Waialiki</td>\n",
       "      <td>Moana (2016)</td>\n",
       "      <td>2.7k/477</td>\n",
       "      <td>ENFJ</td>\n",
       "      <td>7w6</td>\n",
       "      <td>movies</td>\n",
       "      <td>https://static1.personality-database.com/profi...</td>\n",
       "      <td>1</td>\n",
       "      <td>moana</td>\n",
       "      <td>73141</td>\n",
       "    </tr>\n",
       "    <tr>\n",
       "      <th>1</th>\n",
       "      <td>1</td>\n",
       "      <td>Joy</td>\n",
       "      <td>Inside Out (2015)</td>\n",
       "      <td>2.5k/358</td>\n",
       "      <td>ENFJ</td>\n",
       "      <td>7w6</td>\n",
       "      <td>movies</td>\n",
       "      <td>https://static1.personality-database.com/profi...</td>\n",
       "      <td>1</td>\n",
       "      <td>inside out</td>\n",
       "      <td>122470</td>\n",
       "    </tr>\n",
       "    <tr>\n",
       "      <th>2</th>\n",
       "      <td>2</td>\n",
       "      <td>Judy Hopps</td>\n",
       "      <td>Zootopia (2016)</td>\n",
       "      <td>2.3k/350</td>\n",
       "      <td>ENFJ</td>\n",
       "      <td>1w2</td>\n",
       "      <td>movies</td>\n",
       "      <td>https://static1.personality-database.com/profi...</td>\n",
       "      <td>1</td>\n",
       "      <td>zootopia</td>\n",
       "      <td>152081</td>\n",
       "    </tr>\n",
       "    <tr>\n",
       "      <th>3</th>\n",
       "      <td>3</td>\n",
       "      <td>Elle Woods</td>\n",
       "      <td>Legally Blonde (2001)</td>\n",
       "      <td>1.9k/227</td>\n",
       "      <td>ENFJ</td>\n",
       "      <td>3w2</td>\n",
       "      <td>movies</td>\n",
       "      <td>https://static1.personality-database.com/profi...</td>\n",
       "      <td>1</td>\n",
       "      <td>legally blonde</td>\n",
       "      <td>4447</td>\n",
       "    </tr>\n",
       "    <tr>\n",
       "      <th>4</th>\n",
       "      <td>4</td>\n",
       "      <td>Neil Perry</td>\n",
       "      <td>Dead Poets Society (1989)</td>\n",
       "      <td>1.7k/222</td>\n",
       "      <td>ENFJ</td>\n",
       "      <td>4w3</td>\n",
       "      <td>movies</td>\n",
       "      <td>https://static1.personality-database.com/profi...</td>\n",
       "      <td>1</td>\n",
       "      <td>dead poets society</td>\n",
       "      <td>1246</td>\n",
       "    </tr>\n",
       "    <tr>\n",
       "      <th>...</th>\n",
       "      <td>...</td>\n",
       "      <td>...</td>\n",
       "      <td>...</td>\n",
       "      <td>...</td>\n",
       "      <td>...</td>\n",
       "      <td>...</td>\n",
       "      <td>...</td>\n",
       "      <td>...</td>\n",
       "      <td>...</td>\n",
       "      <td>...</td>\n",
       "      <td>...</td>\n",
       "    </tr>\n",
       "    <tr>\n",
       "      <th>12779</th>\n",
       "      <td>12779</td>\n",
       "      <td>Diana Reiter</td>\n",
       "      <td>Schindler's List (1993)</td>\n",
       "      <td>6/0</td>\n",
       "      <td>INFJ</td>\n",
       "      <td>5w6</td>\n",
       "      <td>movies</td>\n",
       "      <td>https://static1.personality-database.com/profi...</td>\n",
       "      <td>210</td>\n",
       "      <td>schindler's list</td>\n",
       "      <td>527</td>\n",
       "    </tr>\n",
       "    <tr>\n",
       "      <th>12780</th>\n",
       "      <td>12780</td>\n",
       "      <td>Berkeley Cole</td>\n",
       "      <td>Out of Africa (1985)</td>\n",
       "      <td>6/0</td>\n",
       "      <td>INFJ</td>\n",
       "      <td>1w9</td>\n",
       "      <td>movies</td>\n",
       "      <td>https://static1.personality-database.com/profi...</td>\n",
       "      <td>210</td>\n",
       "      <td>out of africa</td>\n",
       "      <td>1959</td>\n",
       "    </tr>\n",
       "    <tr>\n",
       "      <th>12781</th>\n",
       "      <td>12781</td>\n",
       "      <td>The Girl</td>\n",
       "      <td>A Girl Walks Home Alone at Night (2014)</td>\n",
       "      <td>6/0</td>\n",
       "      <td>INFJ</td>\n",
       "      <td>4w5</td>\n",
       "      <td>movies</td>\n",
       "      <td>https://static1.personality-database.com/profi...</td>\n",
       "      <td>210</td>\n",
       "      <td>a girl walks home alone at night</td>\n",
       "      <td>118880</td>\n",
       "    </tr>\n",
       "    <tr>\n",
       "      <th>12782</th>\n",
       "      <td>12782</td>\n",
       "      <td>Urzah</td>\n",
       "      <td>The Dark Crystal (1982)</td>\n",
       "      <td>6/0</td>\n",
       "      <td>INFJ</td>\n",
       "      <td>9w1</td>\n",
       "      <td>movies</td>\n",
       "      <td>https://static1.personality-database.com/profi...</td>\n",
       "      <td>210</td>\n",
       "      <td>the dark crystal</td>\n",
       "      <td>91077</td>\n",
       "    </tr>\n",
       "    <tr>\n",
       "      <th>12783</th>\n",
       "      <td>12783</td>\n",
       "      <td>Dr. Leonora Orantes</td>\n",
       "      <td>Contagion (2011)</td>\n",
       "      <td>6/0</td>\n",
       "      <td>INFJ</td>\n",
       "      <td>9w1</td>\n",
       "      <td>movies</td>\n",
       "      <td>https://static1.personality-database.com/profi...</td>\n",
       "      <td>210</td>\n",
       "      <td>contagion</td>\n",
       "      <td>89470</td>\n",
       "    </tr>\n",
       "  </tbody>\n",
       "</table>\n",
       "<p>12784 rows × 11 columns</p>\n",
       "</div>"
      ],
      "text/plain": [
       "       CharacterId            Character  \\\n",
       "0                0       Moana Waialiki   \n",
       "1                1                  Joy   \n",
       "2                2           Judy Hopps   \n",
       "3                3           Elle Woods   \n",
       "4                4           Neil Perry   \n",
       "...            ...                  ...   \n",
       "12779        12779         Diana Reiter   \n",
       "12780        12780        Berkeley Cole   \n",
       "12781        12781             The Girl   \n",
       "12782        12782                Urzah   \n",
       "12783        12783  Dr. Leonora Orantes   \n",
       "\n",
       "                                      Contents     Votes  MBTI Enneagram  \\\n",
       "0                                 Moana (2016)  2.7k/477  ENFJ       7w6   \n",
       "1                            Inside Out (2015)  2.5k/358  ENFJ       7w6   \n",
       "2                              Zootopia (2016)  2.3k/350  ENFJ       1w2   \n",
       "3                        Legally Blonde (2001)  1.9k/227  ENFJ       3w2   \n",
       "4                    Dead Poets Society (1989)  1.7k/222  ENFJ       4w3   \n",
       "...                                        ...       ...   ...       ...   \n",
       "12779                  Schindler's List (1993)       6/0  INFJ       5w6   \n",
       "12780                     Out of Africa (1985)       6/0  INFJ       1w9   \n",
       "12781  A Girl Walks Home Alone at Night (2014)       6/0  INFJ       4w5   \n",
       "12782                  The Dark Crystal (1982)       6/0  INFJ       9w1   \n",
       "12783                         Contagion (2011)       6/0  INFJ       9w1   \n",
       "\n",
       "      category                                            img_src  Page  \\\n",
       "0       movies  https://static1.personality-database.com/profi...     1   \n",
       "1       movies  https://static1.personality-database.com/profi...     1   \n",
       "2       movies  https://static1.personality-database.com/profi...     1   \n",
       "3       movies  https://static1.personality-database.com/profi...     1   \n",
       "4       movies  https://static1.personality-database.com/profi...     1   \n",
       "...        ...                                                ...   ...   \n",
       "12779   movies  https://static1.personality-database.com/profi...   210   \n",
       "12780   movies  https://static1.personality-database.com/profi...   210   \n",
       "12781   movies  https://static1.personality-database.com/profi...   210   \n",
       "12782   movies  https://static1.personality-database.com/profi...   210   \n",
       "12783   movies  https://static1.personality-database.com/profi...   210   \n",
       "\n",
       "                                  title  movieId  \n",
       "0                                 moana    73141  \n",
       "1                            inside out   122470  \n",
       "2                              zootopia   152081  \n",
       "3                        legally blonde     4447  \n",
       "4                    dead poets society     1246  \n",
       "...                                 ...      ...  \n",
       "12779                  schindler's list      527  \n",
       "12780                     out of africa     1959  \n",
       "12781  a girl walks home alone at night   118880  \n",
       "12782                  the dark crystal    91077  \n",
       "12783                         contagion    89470  \n",
       "\n",
       "[12784 rows x 11 columns]"
      ]
     },
     "execution_count": 26,
     "metadata": {},
     "output_type": "execute_result"
    }
   ],
   "source": [
    "mbti_df"
   ]
  },
  {
   "cell_type": "code",
   "execution_count": 20,
   "id": "e82dc3ec",
   "metadata": {
    "ExecuteTime": {
     "end_time": "2023-01-25T02:49:16.460862Z",
     "start_time": "2023-01-25T02:49:16.458122Z"
    }
   },
   "outputs": [],
   "source": [
    "ch2mv_path='/opt/ml/project/Utils/Pickle/characterId_to_movieId.pickle'"
   ]
  },
  {
   "cell_type": "code",
   "execution_count": 21,
   "id": "3d18317a",
   "metadata": {
    "ExecuteTime": {
     "end_time": "2023-01-25T02:49:33.455201Z",
     "start_time": "2023-01-25T02:49:33.451273Z"
    }
   },
   "outputs": [],
   "source": [
    "with open(ch2mv_path,'wb') as f:\n",
    "    pickle.dump(ch2mv, f)"
   ]
  },
  {
   "cell_type": "code",
   "execution_count": 22,
   "id": "7b06ef2f",
   "metadata": {
    "ExecuteTime": {
     "end_time": "2023-01-25T02:49:53.904421Z",
     "start_time": "2023-01-25T02:49:53.899049Z"
    }
   },
   "outputs": [],
   "source": [
    "ch2mv_path='/opt/ml/project/Utils/Pickle/characterId_to_movieId.pickle'\n",
    "with open(ch2mv_path,'rb') as f:\n",
    "    characterId_to_movieId = pickle.load(f)"
   ]
  },
  {
   "cell_type": "code",
   "execution_count": 27,
   "id": "41874dba",
   "metadata": {
    "ExecuteTime": {
     "end_time": "2023-01-25T03:24:38.937764Z",
     "start_time": "2023-01-25T03:24:38.934943Z"
    }
   },
   "outputs": [],
   "source": [
    "c_id=12"
   ]
  },
  {
   "cell_type": "code",
   "execution_count": 29,
   "id": "da7bec27",
   "metadata": {
    "ExecuteTime": {
     "end_time": "2023-01-25T03:25:55.133405Z",
     "start_time": "2023-01-25T03:25:55.130509Z"
    }
   },
   "outputs": [],
   "source": [
    "need_cols=['Character','Contents','movieId']"
   ]
  },
  {
   "cell_type": "code",
   "execution_count": 41,
   "id": "09440e49",
   "metadata": {
    "ExecuteTime": {
     "end_time": "2023-01-25T03:34:33.792791Z",
     "start_time": "2023-01-25T03:34:33.786728Z"
    }
   },
   "outputs": [
    {
     "data": {
      "text/plain": [
       "array(['Lots-o’-Huggin’ Bear (Lotso)', 'Toy Story (Franchise)', 1],\n",
       "      dtype=object)"
      ]
     },
     "execution_count": 41,
     "metadata": {},
     "output_type": "execute_result"
    }
   ],
   "source": [
    "mbti_df[mbti_df.CharacterId==c_id][need_cols].values[0]"
   ]
  },
  {
   "cell_type": "code",
   "execution_count": 42,
   "id": "9ad44123",
   "metadata": {
    "ExecuteTime": {
     "end_time": "2023-01-25T03:34:46.136915Z",
     "start_time": "2023-01-25T03:34:46.131848Z"
    }
   },
   "outputs": [],
   "source": [
    "character_name, movie_title, movie_id = mbti_df[mbti_df.CharacterId==c_id][need_cols].values[0]"
   ]
  },
  {
   "cell_type": "code",
   "execution_count": null,
   "id": "3045747f",
   "metadata": {},
   "outputs": [],
   "source": []
  }
 ],
 "metadata": {
  "kernelspec": {
   "display_name": "Python 3 (ipykernel)",
   "language": "python",
   "name": "python3"
  },
  "language_info": {
   "codemirror_mode": {
    "name": "ipython",
    "version": 3
   },
   "file_extension": ".py",
   "mimetype": "text/x-python",
   "name": "python",
   "nbconvert_exporter": "python",
   "pygments_lexer": "ipython3",
   "version": "3.8.5"
  },
  "toc": {
   "base_numbering": 1,
   "nav_menu": {},
   "number_sections": true,
   "sideBar": true,
   "skip_h1_title": false,
   "title_cell": "Table of Contents",
   "title_sidebar": "Contents",
   "toc_cell": false,
   "toc_position": {},
   "toc_section_display": true,
   "toc_window_display": false
  }
 },
 "nbformat": 4,
 "nbformat_minor": 5
}
