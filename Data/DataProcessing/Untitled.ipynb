{
 "cells": [
  {
   "cell_type": "code",
   "execution_count": 1,
   "id": "8b1e6706",
   "metadata": {
    "ExecuteTime": {
     "end_time": "2023-01-19T01:50:02.109553Z",
     "start_time": "2023-01-19T01:50:02.101438Z"
    }
   },
   "outputs": [],
   "source": [
    "import sys\n",
    "\n",
    "sys.path.append('..')"
   ]
  },
  {
   "cell_type": "code",
   "execution_count": 3,
   "id": "08730c6a",
   "metadata": {
    "ExecuteTime": {
     "end_time": "2023-01-19T01:50:13.268910Z",
     "start_time": "2023-01-19T01:50:12.930033Z"
    }
   },
   "outputs": [],
   "source": [
    "from interaction_model import Inference"
   ]
  },
  {
   "cell_type": "code",
   "execution_count": 4,
   "id": "f74aef04",
   "metadata": {
    "ExecuteTime": {
     "end_time": "2023-01-19T01:50:18.225816Z",
     "start_time": "2023-01-19T01:50:18.213187Z"
    }
   },
   "outputs": [
    {
     "data": {
      "text/plain": [
       "<function interaction_model.inference.Inference(file_name: str, movieId: int, topk: int)>"
      ]
     },
     "execution_count": 4,
     "metadata": {},
     "output_type": "execute_result"
    }
   ],
   "source": [
    "Inference"
   ]
  }
 ],
 "metadata": {
  "kernelspec": {
   "display_name": "Python 3 (ipykernel)",
   "language": "python",
   "name": "python3"
  },
  "language_info": {
   "codemirror_mode": {
    "name": "ipython",
    "version": 3
   },
   "file_extension": ".py",
   "mimetype": "text/x-python",
   "name": "python",
   "nbconvert_exporter": "python",
   "pygments_lexer": "ipython3",
   "version": "3.8.5"
  },
  "toc": {
   "base_numbering": 1,
   "nav_menu": {},
   "number_sections": true,
   "sideBar": true,
   "skip_h1_title": false,
   "title_cell": "Table of Contents",
   "title_sidebar": "Contents",
   "toc_cell": false,
   "toc_position": {},
   "toc_section_display": true,
   "toc_window_display": false
  }
 },
 "nbformat": 4,
 "nbformat_minor": 5
}
