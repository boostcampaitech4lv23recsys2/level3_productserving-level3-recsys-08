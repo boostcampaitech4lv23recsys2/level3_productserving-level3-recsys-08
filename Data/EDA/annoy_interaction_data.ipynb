{
 "cells": [
  {
   "cell_type": "code",
   "execution_count": 1,
   "id": "d79f061d-63e9-4f6d-adf4-a16544d28d53",
   "metadata": {},
   "outputs": [],
   "source": [
    "import pickle\n",
    "import pandas as pd\n",
    "import numpy as np"
   ]
  },
  {
   "cell_type": "markdown",
   "id": "04eba8d3-776c-45f5-aefa-b107126be7d9",
   "metadata": {},
   "source": [
    "## ml데이터 손보기"
   ]
  },
  {
   "cell_type": "markdown",
   "id": "c31e1465-97c7-4a45-99c8-7e5cf13d1eae",
   "metadata": {},
   "source": [
    "### ml데이터 제목 소문자, 연도 처리하기"
   ]
  },
  {
   "cell_type": "code",
   "execution_count": 2,
   "id": "7a5bd56b-2d24-41ca-adfb-edfabbe7d5d3",
   "metadata": {},
   "outputs": [],
   "source": [
    "ml_title_df = pd.read_csv('/opt/ml/input/fighting/CSV/ml-25m/movies.csv')"
   ]
  },
  {
   "cell_type": "code",
   "execution_count": 3,
   "id": "b8e4dffe-f4cb-4d33-933c-3f51210e5511",
   "metadata": {},
   "outputs": [],
   "source": [
    "ml_title_df = ml_title_df[['movieId','title']]"
   ]
  },
  {
   "cell_type": "code",
   "execution_count": 4,
   "id": "696b4fda-d3a5-4f8d-8a82-142d415a42bf",
   "metadata": {},
   "outputs": [
    {
     "data": {
      "text/html": [
       "<div>\n",
       "<style scoped>\n",
       "    .dataframe tbody tr th:only-of-type {\n",
       "        vertical-align: middle;\n",
       "    }\n",
       "\n",
       "    .dataframe tbody tr th {\n",
       "        vertical-align: top;\n",
       "    }\n",
       "\n",
       "    .dataframe thead th {\n",
       "        text-align: right;\n",
       "    }\n",
       "</style>\n",
       "<table border=\"1\" class=\"dataframe\">\n",
       "  <thead>\n",
       "    <tr style=\"text-align: right;\">\n",
       "      <th></th>\n",
       "      <th>movieId</th>\n",
       "      <th>title</th>\n",
       "    </tr>\n",
       "  </thead>\n",
       "  <tbody>\n",
       "    <tr>\n",
       "      <th>0</th>\n",
       "      <td>1</td>\n",
       "      <td>Toy Story (1995)</td>\n",
       "    </tr>\n",
       "    <tr>\n",
       "      <th>1</th>\n",
       "      <td>2</td>\n",
       "      <td>Jumanji (1995)</td>\n",
       "    </tr>\n",
       "    <tr>\n",
       "      <th>2</th>\n",
       "      <td>3</td>\n",
       "      <td>Grumpier Old Men (1995)</td>\n",
       "    </tr>\n",
       "  </tbody>\n",
       "</table>\n",
       "</div>"
      ],
      "text/plain": [
       "   movieId                    title\n",
       "0        1         Toy Story (1995)\n",
       "1        2           Jumanji (1995)\n",
       "2        3  Grumpier Old Men (1995)"
      ]
     },
     "execution_count": 4,
     "metadata": {},
     "output_type": "execute_result"
    }
   ],
   "source": [
    "ml_title_df.head(3)"
   ]
  },
  {
   "cell_type": "code",
   "execution_count": 5,
   "id": "4314b835-d3c4-46f7-8d3a-b34c7f78eca6",
   "metadata": {},
   "outputs": [],
   "source": [
    "ml_title_df['title'] = ml_title_df['title'].str.lower()"
   ]
  },
  {
   "cell_type": "code",
   "execution_count": 6,
   "id": "da18f6f8-6536-4f10-a4aa-4cbef71bf1c9",
   "metadata": {},
   "outputs": [
    {
     "data": {
      "text/html": [
       "<div>\n",
       "<style scoped>\n",
       "    .dataframe tbody tr th:only-of-type {\n",
       "        vertical-align: middle;\n",
       "    }\n",
       "\n",
       "    .dataframe tbody tr th {\n",
       "        vertical-align: top;\n",
       "    }\n",
       "\n",
       "    .dataframe thead th {\n",
       "        text-align: right;\n",
       "    }\n",
       "</style>\n",
       "<table border=\"1\" class=\"dataframe\">\n",
       "  <thead>\n",
       "    <tr style=\"text-align: right;\">\n",
       "      <th></th>\n",
       "      <th>movieId</th>\n",
       "      <th>title</th>\n",
       "    </tr>\n",
       "  </thead>\n",
       "  <tbody>\n",
       "    <tr>\n",
       "      <th>0</th>\n",
       "      <td>1</td>\n",
       "      <td>toy story (1995)</td>\n",
       "    </tr>\n",
       "    <tr>\n",
       "      <th>1</th>\n",
       "      <td>2</td>\n",
       "      <td>jumanji (1995)</td>\n",
       "    </tr>\n",
       "    <tr>\n",
       "      <th>2</th>\n",
       "      <td>3</td>\n",
       "      <td>grumpier old men (1995)</td>\n",
       "    </tr>\n",
       "  </tbody>\n",
       "</table>\n",
       "</div>"
      ],
      "text/plain": [
       "   movieId                    title\n",
       "0        1         toy story (1995)\n",
       "1        2           jumanji (1995)\n",
       "2        3  grumpier old men (1995)"
      ]
     },
     "execution_count": 6,
     "metadata": {},
     "output_type": "execute_result"
    }
   ],
   "source": [
    "ml_title_df.head(3)"
   ]
  },
  {
   "cell_type": "code",
   "execution_count": 7,
   "id": "b9ab3f7d-45c8-47de-a4c8-ff6afaac189e",
   "metadata": {},
   "outputs": [],
   "source": [
    "def del_year(title):\n",
    "    try:\n",
    "        idx = title.index(\"(\")\n",
    "        return title[:idx].strip()\n",
    "    except:\n",
    "        return title.strip()"
   ]
  },
  {
   "cell_type": "code",
   "execution_count": 8,
   "id": "f6d325bc-aa88-44b0-a5de-5ede5da56b28",
   "metadata": {},
   "outputs": [],
   "source": [
    "ml_title_df['title'] = ml_title_df['title'].apply(del_year)"
   ]
  },
  {
   "cell_type": "code",
   "execution_count": 60,
   "id": "fa834c87-46a4-4e95-8dab-05f23aafa9b5",
   "metadata": {},
   "outputs": [
    {
     "name": "stdout",
     "output_type": "stream",
     "text": [
      "(62423, 2)\n"
     ]
    },
    {
     "data": {
      "text/html": [
       "<div>\n",
       "<style scoped>\n",
       "    .dataframe tbody tr th:only-of-type {\n",
       "        vertical-align: middle;\n",
       "    }\n",
       "\n",
       "    .dataframe tbody tr th {\n",
       "        vertical-align: top;\n",
       "    }\n",
       "\n",
       "    .dataframe thead th {\n",
       "        text-align: right;\n",
       "    }\n",
       "</style>\n",
       "<table border=\"1\" class=\"dataframe\">\n",
       "  <thead>\n",
       "    <tr style=\"text-align: right;\">\n",
       "      <th></th>\n",
       "      <th>movieId</th>\n",
       "      <th>title</th>\n",
       "    </tr>\n",
       "  </thead>\n",
       "  <tbody>\n",
       "    <tr>\n",
       "      <th>0</th>\n",
       "      <td>1</td>\n",
       "      <td>toy story</td>\n",
       "    </tr>\n",
       "    <tr>\n",
       "      <th>1</th>\n",
       "      <td>2</td>\n",
       "      <td>jumanji</td>\n",
       "    </tr>\n",
       "    <tr>\n",
       "      <th>2</th>\n",
       "      <td>3</td>\n",
       "      <td>grumpier old men</td>\n",
       "    </tr>\n",
       "  </tbody>\n",
       "</table>\n",
       "</div>"
      ],
      "text/plain": [
       "   movieId             title\n",
       "0        1         toy story\n",
       "1        2           jumanji\n",
       "2        3  grumpier old men"
      ]
     },
     "execution_count": 60,
     "metadata": {},
     "output_type": "execute_result"
    }
   ],
   "source": [
    "print(ml_title_df.shape)\n",
    "ml_title_df.head(3)"
   ]
  },
  {
   "cell_type": "code",
   "execution_count": null,
   "id": "bb389724-0845-4264-a3ef-ddfe90e1d593",
   "metadata": {},
   "outputs": [],
   "source": [
    "# ml_data 중복제거 전 중복을 확인해봤다.\n",
    "# 3229의 영화가 같은 이름을 가지고있었다.\n",
    "# 이름이 같더라도 장르가 다른 완전 다른 영화인 것 같다.\n",
    "# mbti에 있는 영화중 해당 이름을 가진 영화수는 477개\n",
    "# 방법 1) 그냥 drop_duplicate 해버린다. -> 데이터 질은 낮을 수 있지만 빠름\n",
    "# 방법 2) 제목 뿐만아니라 다른정보도 일일이 확인을 해서 매칭시켜준다. -> 시간은 오래걸리지만 데이터질은 높음\n",
    "# 지금은 방법 1)을 채택"
   ]
  },
  {
   "cell_type": "code",
   "execution_count": 122,
   "id": "b16f63ba-6d05-47ab-9d7d-4e0b96ea5660",
   "metadata": {},
   "outputs": [],
   "source": [
    "ml_title_df = ml_title_df.drop_duplicates(subset='title',keep=\"first\")"
   ]
  },
  {
   "cell_type": "code",
   "execution_count": 124,
   "id": "03734172-7c99-4ee0-869c-5615f10fb81a",
   "metadata": {},
   "outputs": [
    {
     "data": {
      "text/html": [
       "<div>\n",
       "<style scoped>\n",
       "    .dataframe tbody tr th:only-of-type {\n",
       "        vertical-align: middle;\n",
       "    }\n",
       "\n",
       "    .dataframe tbody tr th {\n",
       "        vertical-align: top;\n",
       "    }\n",
       "\n",
       "    .dataframe thead th {\n",
       "        text-align: right;\n",
       "    }\n",
       "</style>\n",
       "<table border=\"1\" class=\"dataframe\">\n",
       "  <thead>\n",
       "    <tr style=\"text-align: right;\">\n",
       "      <th></th>\n",
       "      <th>movieId</th>\n",
       "      <th>title</th>\n",
       "    </tr>\n",
       "  </thead>\n",
       "  <tbody>\n",
       "    <tr>\n",
       "      <th>0</th>\n",
       "      <td>1</td>\n",
       "      <td>toy story</td>\n",
       "    </tr>\n",
       "    <tr>\n",
       "      <th>1</th>\n",
       "      <td>2</td>\n",
       "      <td>jumanji</td>\n",
       "    </tr>\n",
       "    <tr>\n",
       "      <th>2</th>\n",
       "      <td>3</td>\n",
       "      <td>grumpier old men</td>\n",
       "    </tr>\n",
       "    <tr>\n",
       "      <th>3</th>\n",
       "      <td>4</td>\n",
       "      <td>waiting to exhale</td>\n",
       "    </tr>\n",
       "    <tr>\n",
       "      <th>4</th>\n",
       "      <td>5</td>\n",
       "      <td>father of the bride part ii</td>\n",
       "    </tr>\n",
       "    <tr>\n",
       "      <th>...</th>\n",
       "      <td>...</td>\n",
       "      <td>...</td>\n",
       "    </tr>\n",
       "    <tr>\n",
       "      <th>62417</th>\n",
       "      <td>209155</td>\n",
       "      <td>santosh subramaniam</td>\n",
       "    </tr>\n",
       "    <tr>\n",
       "      <th>62419</th>\n",
       "      <td>209159</td>\n",
       "      <td>window of the soul</td>\n",
       "    </tr>\n",
       "    <tr>\n",
       "      <th>62420</th>\n",
       "      <td>209163</td>\n",
       "      <td>bad poems</td>\n",
       "    </tr>\n",
       "    <tr>\n",
       "      <th>62421</th>\n",
       "      <td>209169</td>\n",
       "      <td>a girl thing</td>\n",
       "    </tr>\n",
       "    <tr>\n",
       "      <th>62422</th>\n",
       "      <td>209171</td>\n",
       "      <td>women of devil's island</td>\n",
       "    </tr>\n",
       "  </tbody>\n",
       "</table>\n",
       "<p>57893 rows × 2 columns</p>\n",
       "</div>"
      ],
      "text/plain": [
       "       movieId                        title\n",
       "0            1                    toy story\n",
       "1            2                      jumanji\n",
       "2            3             grumpier old men\n",
       "3            4            waiting to exhale\n",
       "4            5  father of the bride part ii\n",
       "...        ...                          ...\n",
       "62417   209155          santosh subramaniam\n",
       "62419   209159           window of the soul\n",
       "62420   209163                    bad poems\n",
       "62421   209169                 a girl thing\n",
       "62422   209171      women of devil's island\n",
       "\n",
       "[57893 rows x 2 columns]"
      ]
     },
     "execution_count": 124,
     "metadata": {},
     "output_type": "execute_result"
    }
   ],
   "source": [
    "ml_title_df"
   ]
  },
  {
   "cell_type": "code",
   "execution_count": 123,
   "id": "794f2cef-7231-4e55-ae27-221f24817b7d",
   "metadata": {},
   "outputs": [
    {
     "data": {
      "text/plain": [
       "movieId    57893\n",
       "title      57893\n",
       "dtype: int64"
      ]
     },
     "execution_count": 123,
     "metadata": {},
     "output_type": "execute_result"
    }
   ],
   "source": [
    "ml_title_df.nunique()"
   ]
  },
  {
   "cell_type": "markdown",
   "id": "0ab87ea2-ab71-4a81-9046-71e1a1946682",
   "metadata": {},
   "source": [
    "## mbti - ml title 데이터_수작업x(교집합)"
   ]
  },
  {
   "cell_type": "markdown",
   "id": "2b9f91a5-72e3-4da6-8826-f6befc3f409f",
   "metadata": {},
   "source": [
    "### mbti 소문자, 연도 처리"
   ]
  },
  {
   "cell_type": "code",
   "execution_count": 41,
   "id": "29f8dc68-10f0-4cf2-8221-98fbe9b9a8d2",
   "metadata": {},
   "outputs": [],
   "source": [
    "mbti_data = pd.read_csv('/opt/ml/input/fighting/CSV/Personality_All_168000_rows.csv')"
   ]
  },
  {
   "cell_type": "code",
   "execution_count": 42,
   "id": "ce1435fb-3c69-45f3-b700-d338e82cd758",
   "metadata": {},
   "outputs": [],
   "source": [
    "category_dic = {\n",
    "    'https://pdb-web-static.s3.us-east-2.amazonaws.com/category_icon/cat_8.png' : 'anime & manga', # 애니 (예 : 하이큐 ...)\n",
    "    'https://pdb-web-static.s3.us-east-2.amazonaws.com/category_icon/cat_2.png' : 'television', # 드라마, 예능 \n",
    "    'https://pdb-web-static.s3.us-east-2.amazonaws.com/category_icon/cat_11.png' : 'n',\n",
    "    'https://pdb-web-static.s3.us-east-2.amazonaws.com/category_icon/cat_7.png' : 'cartoon', # 카툰 (티비 애니)\n",
    "    'https://pdb-web-static.s3.us-east-2.amazonaws.com/category_icon/cat_29.png' : 'n',\n",
    "    'https://pdb-web-static.s3.us-east-2.amazonaws.com/category_icon/cat_14.png' : 'n',\n",
    "    'https://pdb-web-static.s3.us-east-2.amazonaws.com/category_icon/cat_3.png' : 'movie', # 영화\n",
    "    'https://pdb-web-static.s3.us-east-2.amazonaws.com/category_icon/cat_1.png' : 'n',\n",
    "    'https://pdb-web-static.s3.us-east-2.amazonaws.com/category_icon/cat_27.png' : 'n', # <- 확인 필요\n",
    "    'https://pdb-web-static.s3.us-east-2.amazonaws.com/category_icon/cat_15.png' : 'n',\n",
    "    'https://pdb-web-static.s3.us-east-2.amazonaws.com/category_icon/cat_13.png' : 'n',\n",
    "    'https://pdb-web-static.s3.us-east-2.amazonaws.com/category_icon/cat_12.png' : 'n',\n",
    "    'https://pdb-web-static.s3.us-east-2.amazonaws.com/category_icon/cat_26.png' : 'web comic', # 웹툰 (예 : 네이버 웹툰, 카카오 웹툰 ...)\n",
    "    'https://pdb-web-static.s3.us-east-2.amazonaws.com/category_icon/cat_16.png' : 'n',\n",
    "    'https://pdb-web-static.s3.us-east-2.amazonaws.com/category_icon/cat_17.png' : 'n',\n",
    "    'https://pdb-web-static.s3.us-east-2.amazonaws.com/category_icon/cat_22.png' : 'n',\n",
    "    'https://pdb-web-static.s3.us-east-2.amazonaws.com/category_icon/cat_18.png' : 'n',\n",
    "    'https://pdb-web-static.s3.us-east-2.amazonaws.com/category_icon/cat_9.png' : 'comic', # 만화책\n",
    "    'https://pdb-web-static.s3.us-east-2.amazonaws.com/category_icon/cat_5.png' : 'n',\n",
    "    'https://pdb-web-static.s3.us-east-2.amazonaws.com/category_icon/cat_21.png' : 'n',\n",
    "    'https://pdb-web-static.s3.us-east-2.amazonaws.com/category_icon/cat_28.png' : 'n',\n",
    "    'https://pdb-web-static.s3.us-east-2.amazonaws.com/category_icon/cat_10.png' : 'n'\n",
    "}"
   ]
  },
  {
   "cell_type": "code",
   "execution_count": 43,
   "id": "e41b1ef4-1729-4377-9cd1-507707748968",
   "metadata": {},
   "outputs": [],
   "source": [
    "mbti_data['category'] = mbti_data['category'].map(category_dic)"
   ]
  },
  {
   "cell_type": "code",
   "execution_count": 44,
   "id": "bc8d70b5-b898-464e-ab14-99f3d78af871",
   "metadata": {},
   "outputs": [],
   "source": [
    "mbti_data = mbti_data[mbti_data['category']=='movie']"
   ]
  },
  {
   "cell_type": "code",
   "execution_count": 50,
   "id": "6261ecf9-c9c4-4a39-9c44-7cfcdbbca439",
   "metadata": {},
   "outputs": [],
   "source": [
    "mbti_data = mbti_data.drop_duplicates(subset='Contents', keep=\"first\")"
   ]
  },
  {
   "cell_type": "code",
   "execution_count": 53,
   "id": "1a8a4286-4c85-41fe-8c62-bcab47757a66",
   "metadata": {},
   "outputs": [
    {
     "name": "stdout",
     "output_type": "stream",
     "text": [
      "(4291, 8)\n"
     ]
    },
    {
     "data": {
      "text/html": [
       "<div>\n",
       "<style scoped>\n",
       "    .dataframe tbody tr th:only-of-type {\n",
       "        vertical-align: middle;\n",
       "    }\n",
       "\n",
       "    .dataframe tbody tr th {\n",
       "        vertical-align: top;\n",
       "    }\n",
       "\n",
       "    .dataframe thead th {\n",
       "        text-align: right;\n",
       "    }\n",
       "</style>\n",
       "<table border=\"1\" class=\"dataframe\">\n",
       "  <thead>\n",
       "    <tr style=\"text-align: right;\">\n",
       "      <th></th>\n",
       "      <th>Character</th>\n",
       "      <th>Contents</th>\n",
       "      <th>Votes</th>\n",
       "      <th>MBTI</th>\n",
       "      <th>Enneagram</th>\n",
       "      <th>category</th>\n",
       "      <th>img_src</th>\n",
       "      <th>Page</th>\n",
       "    </tr>\n",
       "  </thead>\n",
       "  <tbody>\n",
       "    <tr>\n",
       "      <th>14</th>\n",
       "      <td>Moana Waialiki</td>\n",
       "      <td>Moana (2016)</td>\n",
       "      <td>2.7k/477</td>\n",
       "      <td>ENFJ</td>\n",
       "      <td>7w6</td>\n",
       "      <td>movie</td>\n",
       "      <td>https://static1.personality-database.com/profi...</td>\n",
       "      <td>1</td>\n",
       "    </tr>\n",
       "    <tr>\n",
       "      <th>16</th>\n",
       "      <td>Joy</td>\n",
       "      <td>Inside Out (2015)</td>\n",
       "      <td>2.5k/358</td>\n",
       "      <td>ENFJ</td>\n",
       "      <td>7w6</td>\n",
       "      <td>movie</td>\n",
       "      <td>https://static1.personality-database.com/profi...</td>\n",
       "      <td>1</td>\n",
       "    </tr>\n",
       "    <tr>\n",
       "      <th>21</th>\n",
       "      <td>Judy Hopps</td>\n",
       "      <td>Zootopia (2016)</td>\n",
       "      <td>2.3k/350</td>\n",
       "      <td>ENFJ</td>\n",
       "      <td>1w2</td>\n",
       "      <td>movie</td>\n",
       "      <td>https://static1.personality-database.com/profi...</td>\n",
       "      <td>1</td>\n",
       "    </tr>\n",
       "  </tbody>\n",
       "</table>\n",
       "</div>"
      ],
      "text/plain": [
       "         Character           Contents     Votes  MBTI Enneagram category  \\\n",
       "14  Moana Waialiki       Moana (2016)  2.7k/477  ENFJ       7w6    movie   \n",
       "16             Joy  Inside Out (2015)  2.5k/358  ENFJ       7w6    movie   \n",
       "21      Judy Hopps    Zootopia (2016)  2.3k/350  ENFJ       1w2    movie   \n",
       "\n",
       "                                              img_src  Page  \n",
       "14  https://static1.personality-database.com/profi...     1  \n",
       "16  https://static1.personality-database.com/profi...     1  \n",
       "21  https://static1.personality-database.com/profi...     1  "
      ]
     },
     "execution_count": 53,
     "metadata": {},
     "output_type": "execute_result"
    }
   ],
   "source": [
    "print(mbti_data.shape)\n",
    "mbti_data.head(3)"
   ]
  },
  {
   "cell_type": "code",
   "execution_count": 54,
   "id": "f9d365af-8183-4155-9609-b5c1ceeb5a4b",
   "metadata": {},
   "outputs": [],
   "source": [
    "mbti_data = mbti_data[['Contents']]"
   ]
  },
  {
   "cell_type": "code",
   "execution_count": 55,
   "id": "5988de4b-289e-4765-a11a-98a790374f58",
   "metadata": {},
   "outputs": [],
   "source": [
    "mbti_data.columns = ['title']"
   ]
  },
  {
   "cell_type": "code",
   "execution_count": 56,
   "id": "fef6a432-532f-47f6-839f-777d575c30ab",
   "metadata": {},
   "outputs": [
    {
     "name": "stderr",
     "output_type": "stream",
     "text": [
      "/tmp/ipykernel_51400/2168468824.py:1: SettingWithCopyWarning: \n",
      "A value is trying to be set on a copy of a slice from a DataFrame.\n",
      "Try using .loc[row_indexer,col_indexer] = value instead\n",
      "\n",
      "See the caveats in the documentation: https://pandas.pydata.org/pandas-docs/stable/user_guide/indexing.html#returning-a-view-versus-a-copy\n",
      "  mbti_data['title'] = mbti_data['title'].str.lower()\n"
     ]
    }
   ],
   "source": [
    "mbti_data['title'] = mbti_data['title'].str.lower()"
   ]
  },
  {
   "cell_type": "code",
   "execution_count": 57,
   "id": "c1eb33b2-aa69-424c-90f3-ce20cf9f9028",
   "metadata": {},
   "outputs": [],
   "source": [
    "def del_year(title):\n",
    "    try:\n",
    "        idx = title.index(\"(\")\n",
    "        return title[:idx].strip()\n",
    "    except:\n",
    "        return title.strip()"
   ]
  },
  {
   "cell_type": "code",
   "execution_count": 58,
   "id": "2d7d3e69-7230-4f1e-b69b-83d0a9f53f02",
   "metadata": {},
   "outputs": [
    {
     "name": "stderr",
     "output_type": "stream",
     "text": [
      "/tmp/ipykernel_51400/1205666247.py:1: SettingWithCopyWarning: \n",
      "A value is trying to be set on a copy of a slice from a DataFrame.\n",
      "Try using .loc[row_indexer,col_indexer] = value instead\n",
      "\n",
      "See the caveats in the documentation: https://pandas.pydata.org/pandas-docs/stable/user_guide/indexing.html#returning-a-view-versus-a-copy\n",
      "  mbti_data['title'] = mbti_data['title'].apply(del_year)\n"
     ]
    }
   ],
   "source": [
    "mbti_data['title'] = mbti_data['title'].apply(del_year)"
   ]
  },
  {
   "cell_type": "code",
   "execution_count": 59,
   "id": "e1bbb608-2e62-4624-b6b8-5cf89efa696e",
   "metadata": {},
   "outputs": [
    {
     "data": {
      "text/html": [
       "<div>\n",
       "<style scoped>\n",
       "    .dataframe tbody tr th:only-of-type {\n",
       "        vertical-align: middle;\n",
       "    }\n",
       "\n",
       "    .dataframe tbody tr th {\n",
       "        vertical-align: top;\n",
       "    }\n",
       "\n",
       "    .dataframe thead th {\n",
       "        text-align: right;\n",
       "    }\n",
       "</style>\n",
       "<table border=\"1\" class=\"dataframe\">\n",
       "  <thead>\n",
       "    <tr style=\"text-align: right;\">\n",
       "      <th></th>\n",
       "      <th>title</th>\n",
       "    </tr>\n",
       "  </thead>\n",
       "  <tbody>\n",
       "    <tr>\n",
       "      <th>14</th>\n",
       "      <td>moana</td>\n",
       "    </tr>\n",
       "    <tr>\n",
       "      <th>16</th>\n",
       "      <td>inside out</td>\n",
       "    </tr>\n",
       "    <tr>\n",
       "      <th>21</th>\n",
       "      <td>zootopia</td>\n",
       "    </tr>\n",
       "    <tr>\n",
       "      <th>33</th>\n",
       "      <td>legally blonde</td>\n",
       "    </tr>\n",
       "    <tr>\n",
       "      <th>37</th>\n",
       "      <td>dead poets society</td>\n",
       "    </tr>\n",
       "    <tr>\n",
       "      <th>...</th>\n",
       "      <td>...</td>\n",
       "    </tr>\n",
       "    <tr>\n",
       "      <th>167846</th>\n",
       "      <td>dark waters</td>\n",
       "    </tr>\n",
       "    <tr>\n",
       "      <th>167855</th>\n",
       "      <td>let's play some mafia</td>\n",
       "    </tr>\n",
       "    <tr>\n",
       "      <th>167958</th>\n",
       "      <td>the young victoria</td>\n",
       "    </tr>\n",
       "    <tr>\n",
       "      <th>167972</th>\n",
       "      <td>a girl walks home alone at night</td>\n",
       "    </tr>\n",
       "    <tr>\n",
       "      <th>167982</th>\n",
       "      <td>muhsin bey</td>\n",
       "    </tr>\n",
       "  </tbody>\n",
       "</table>\n",
       "<p>4291 rows × 1 columns</p>\n",
       "</div>"
      ],
      "text/plain": [
       "                                   title\n",
       "14                                 moana\n",
       "16                            inside out\n",
       "21                              zootopia\n",
       "33                        legally blonde\n",
       "37                    dead poets society\n",
       "...                                  ...\n",
       "167846                       dark waters\n",
       "167855             let's play some mafia\n",
       "167958                the young victoria\n",
       "167972  a girl walks home alone at night\n",
       "167982                        muhsin bey\n",
       "\n",
       "[4291 rows x 1 columns]"
      ]
     },
     "execution_count": 59,
     "metadata": {},
     "output_type": "execute_result"
    }
   ],
   "source": [
    "mbti_data"
   ]
  },
  {
   "cell_type": "markdown",
   "id": "9a13b2f1-4290-426e-9d70-c36f50110b71",
   "metadata": {},
   "source": [
    "### mbti랑 ml 데이터 교집합 찾기"
   ]
  },
  {
   "cell_type": "code",
   "execution_count": 125,
   "id": "3fb52184-4cdd-40e6-ae2f-dc47932a7053",
   "metadata": {},
   "outputs": [
    {
     "data": {
      "text/plain": [
       "((4291, 1), (57893, 2))"
      ]
     },
     "execution_count": 125,
     "metadata": {},
     "output_type": "execute_result"
    }
   ],
   "source": [
    "mbti_data.shape, ml_title_df.shape"
   ]
  },
  {
   "cell_type": "code",
   "execution_count": 126,
   "id": "10e65ca3-ee3d-40d6-91ce-6d04d5575ba4",
   "metadata": {},
   "outputs": [],
   "source": [
    "non_hand_intersection_mbti_ml = mbti_data.merge(ml_title_df, how='left', on='title')"
   ]
  },
  {
   "cell_type": "code",
   "execution_count": 127,
   "id": "bbe30d60-0cd3-47f3-81c7-fb2267810741",
   "metadata": {},
   "outputs": [],
   "source": [
    "non_hand_intersection_mbti_ml =  non_hand_intersection_mbti_ml.dropna()"
   ]
  },
  {
   "cell_type": "code",
   "execution_count": 128,
   "id": "2b3d8fda-be73-447f-9ad5-41ca45860964",
   "metadata": {},
   "outputs": [],
   "source": [
    "non_hand_intersection_mbti_ml.drop_duplicates(subset=['title'], keep=\"first\", inplace=True)"
   ]
  },
  {
   "cell_type": "code",
   "execution_count": 129,
   "id": "ec037c2f-8c16-4ed2-885b-d9e85a19bffa",
   "metadata": {},
   "outputs": [
    {
     "data": {
      "text/html": [
       "<div>\n",
       "<style scoped>\n",
       "    .dataframe tbody tr th:only-of-type {\n",
       "        vertical-align: middle;\n",
       "    }\n",
       "\n",
       "    .dataframe tbody tr th {\n",
       "        vertical-align: top;\n",
       "    }\n",
       "\n",
       "    .dataframe thead th {\n",
       "        text-align: right;\n",
       "    }\n",
       "</style>\n",
       "<table border=\"1\" class=\"dataframe\">\n",
       "  <thead>\n",
       "    <tr style=\"text-align: right;\">\n",
       "      <th></th>\n",
       "      <th>title</th>\n",
       "      <th>movieId</th>\n",
       "    </tr>\n",
       "  </thead>\n",
       "  <tbody>\n",
       "    <tr>\n",
       "      <th>0</th>\n",
       "      <td>moana</td>\n",
       "      <td>73141.0</td>\n",
       "    </tr>\n",
       "    <tr>\n",
       "      <th>1</th>\n",
       "      <td>inside out</td>\n",
       "      <td>122470.0</td>\n",
       "    </tr>\n",
       "    <tr>\n",
       "      <th>2</th>\n",
       "      <td>zootopia</td>\n",
       "      <td>152081.0</td>\n",
       "    </tr>\n",
       "    <tr>\n",
       "      <th>3</th>\n",
       "      <td>legally blonde</td>\n",
       "      <td>4447.0</td>\n",
       "    </tr>\n",
       "    <tr>\n",
       "      <th>4</th>\n",
       "      <td>dead poets society</td>\n",
       "      <td>1246.0</td>\n",
       "    </tr>\n",
       "    <tr>\n",
       "      <th>...</th>\n",
       "      <td>...</td>\n",
       "      <td>...</td>\n",
       "    </tr>\n",
       "    <tr>\n",
       "      <th>4279</th>\n",
       "      <td>hot tub time machine</td>\n",
       "      <td>76077.0</td>\n",
       "    </tr>\n",
       "    <tr>\n",
       "      <th>4280</th>\n",
       "      <td>society</td>\n",
       "      <td>5606.0</td>\n",
       "    </tr>\n",
       "    <tr>\n",
       "      <th>4281</th>\n",
       "      <td>hide and seek</td>\n",
       "      <td>31427.0</td>\n",
       "    </tr>\n",
       "    <tr>\n",
       "      <th>4283</th>\n",
       "      <td>thor: ragnarok</td>\n",
       "      <td>122916.0</td>\n",
       "    </tr>\n",
       "    <tr>\n",
       "      <th>4286</th>\n",
       "      <td>dark waters</td>\n",
       "      <td>177115.0</td>\n",
       "    </tr>\n",
       "  </tbody>\n",
       "</table>\n",
       "<p>2650 rows × 2 columns</p>\n",
       "</div>"
      ],
      "text/plain": [
       "                     title   movieId\n",
       "0                    moana   73141.0\n",
       "1               inside out  122470.0\n",
       "2                 zootopia  152081.0\n",
       "3           legally blonde    4447.0\n",
       "4       dead poets society    1246.0\n",
       "...                    ...       ...\n",
       "4279  hot tub time machine   76077.0\n",
       "4280               society    5606.0\n",
       "4281         hide and seek   31427.0\n",
       "4283        thor: ragnarok  122916.0\n",
       "4286           dark waters  177115.0\n",
       "\n",
       "[2650 rows x 2 columns]"
      ]
     },
     "execution_count": 129,
     "metadata": {},
     "output_type": "execute_result"
    }
   ],
   "source": [
    "# 수작업을 거치지않은 mbti-ml 겹치는 제목 정보\n",
    "non_hand_intersection_mbti_ml"
   ]
  },
  {
   "cell_type": "code",
   "execution_count": 131,
   "id": "206a60d8-32b3-4304-8acf-4522cf7d35ea",
   "metadata": {},
   "outputs": [
    {
     "data": {
      "text/plain": [
       "title      0\n",
       "movieId    0\n",
       "dtype: int64"
      ]
     },
     "execution_count": 131,
     "metadata": {},
     "output_type": "execute_result"
    }
   ],
   "source": [
    "non_hand_intersection_mbti_ml.isna().sum()"
   ]
  },
  {
   "cell_type": "code",
   "execution_count": null,
   "id": "141c2abc-750e-4d94-96e3-91e13d2bf4bb",
   "metadata": {},
   "outputs": [],
   "source": []
  },
  {
   "cell_type": "markdown",
   "id": "6bfc8176-48a8-4bb9-9ffe-766452b398cc",
   "metadata": {},
   "source": [
    "## mbti-ml title 데이터 _ 수작업결과(교집합)"
   ]
  },
  {
   "cell_type": "markdown",
   "id": "faccf001-8633-438e-884a-e339bf96e7f4",
   "metadata": {},
   "source": [
    "### 시리즈 처리"
   ]
  },
  {
   "cell_type": "code",
   "execution_count": 134,
   "id": "d37557b8-470a-4e81-82e7-8600fffc1699",
   "metadata": {},
   "outputs": [],
   "source": [
    "import pickle\n",
    "\n",
    "with open('/opt/ml/input/fighting/CSV/mbti_ml_match_dict.pkl', 'rb') as handle:\n",
    "    match_dict = pickle.load(handle)"
   ]
  },
  {
   "cell_type": "code",
   "execution_count": 135,
   "id": "93577fd4-0b97-4443-911b-de99cfaad005",
   "metadata": {},
   "outputs": [
    {
     "data": {
      "text/plain": [
       "610"
      ]
     },
     "execution_count": 135,
     "metadata": {},
     "output_type": "execute_result"
    }
   ],
   "source": [
    "len(match_dict)"
   ]
  },
  {
   "cell_type": "code",
   "execution_count": 137,
   "id": "8091ceea-cf51-48a2-97ed-485de1e2e569",
   "metadata": {},
   "outputs": [],
   "source": [
    "# value값이 리스트인 시리즈물 확인\n",
    "for item in match_dict.items():\n",
    "    if type(item[1]) == list:\n",
    "        print(item)"
   ]
  },
  {
   "cell_type": "code",
   "execution_count": 8,
   "id": "3d3bc3b2-35ba-4e69-a9af-a83a78ae80d9",
   "metadata": {},
   "outputs": [],
   "source": [
    "def content_based_filtering_jaccard(title_list, title):\n",
    "    topn=20\n",
    "    target_split_set = set(title.split())\n",
    "    sim_list = []\n",
    "    sim_df = pd.DataFrame(title_list, columns=['title'])\n",
    "    for idx, movie in enumerate(title_list):\n",
    "        title_split_set = set(movie.split())\n",
    "        title_intersection = target_split_set.intersection(title_split_set)\n",
    "        jac_sim = float(len(title_intersection)) / (len(target_split_set) + len(title_split_set) - len(title_intersection))\n",
    "        sim_list.append(jac_sim)\n",
    "    sim_df['jaccard_similarity'] = sim_list\n",
    "\n",
    "    return sim_df.sort_values('jaccard_similarity', ascending=False).reset_index(drop=True)[:topn]"
   ]
  },
  {
   "cell_type": "code",
   "execution_count": null,
   "id": "20a193f8-3143-4ca1-9647-ce97f58a2510",
   "metadata": {},
   "outputs": [],
   "source": [
    "('the before trilogy', ['before sunrise', 'before sunset', 'before midnight'])\n",
    "('the hangover trilogy', ['hangover part ii, the', 'hangover part iii, the'])\n",
    "('chucky', ['bride of chucky', 'seed of chucky', 'cult of chucky'])\n",
    "('sinister series', ['sinister', 'sinister 2'])\n",
    "('three colours trilogy', ['three colors: red', 'three colors: blue', 'three colors: white'])\n",
    "('ju-on', ['ju-on: the grudge', 'ju-on: the grudge 2', 'ju-on: white ghost', 'ju-on: the beginning of the end'])\n",
    "('anchorman', ['anchorman: the legend of ron burgundy', 'anchorman 2: the legend continues'])\n",
    "('journey to the center of the earth / journey 2: the mysterious island', ['journey to the center of the earth', 'journey 2: the mysterious island'])\n"
   ]
  },
  {
   "cell_type": "code",
   "execution_count": 78,
   "id": "2461a1c1-93f8-4df1-a542-01c47951a7e0",
   "metadata": {},
   "outputs": [
    {
     "data": {
      "text/plain": [
       "404"
      ]
     },
     "execution_count": 78,
     "metadata": {},
     "output_type": "execute_result"
    }
   ],
   "source": [
    "title = 'journey 2: the mysterious island'\n",
    "len(ml_df[ml_df['title']==title])"
   ]
  },
  {
   "cell_type": "code",
   "execution_count": 79,
   "id": "a1d2b83e-8e94-421c-bca2-673383cc5621",
   "metadata": {},
   "outputs": [],
   "source": [
    "match_dict['journey to the center of the earth / journey 2: the mysterious island'] = 'journey to the center of the earth'"
   ]
  },
  {
   "cell_type": "code",
   "execution_count": 80,
   "id": "8afb5ad3-caaa-41d8-a421-30117d7abf76",
   "metadata": {},
   "outputs": [],
   "source": [
    "# value값이 리스트인 시리즈물은 이제 없다.\n",
    "for item in match_dict.items():\n",
    "    if type(item[1]) == list:\n",
    "        print(item)"
   ]
  },
  {
   "cell_type": "code",
   "execution_count": 81,
   "id": "a9464793-b339-461f-9efb-1b71ae59af83",
   "metadata": {},
   "outputs": [],
   "source": [
    "#피클 저장하기 pickle\n",
    "with open('/opt/ml/input/fighting/CSV/mbti_ml_match_dict.pkl', 'wb') as f:\n",
    "    pickle.dump(match_dict, f)"
   ]
  },
  {
   "cell_type": "code",
   "execution_count": null,
   "id": "3ade7582-007b-4150-b66d-003b5cd4ed24",
   "metadata": {},
   "outputs": [],
   "source": []
  },
  {
   "cell_type": "markdown",
   "id": "d330db8f-b251-41c9-af5d-b37b408bb40b",
   "metadata": {},
   "source": [
    "### 수작업 처리 결과 데이터(['title','movieId'])"
   ]
  },
  {
   "cell_type": "code",
   "execution_count": 138,
   "id": "f4a9f20b-8f18-45d1-b9d0-9699cb2c34a0",
   "metadata": {},
   "outputs": [],
   "source": [
    "with open('/opt/ml/input/fighting/CSV/mbti_ml_match_dict.pkl', 'rb') as handle:\n",
    "    match_dict = pickle.load(handle)\n",
    "ml_title = pd.read_csv(\"/opt/ml/input/fighting/CSV/ml_title.csv\")\n",
    "ml_title = ml_title.dropna(axis=0)"
   ]
  },
  {
   "cell_type": "code",
   "execution_count": 139,
   "id": "315014aa-c9db-4c22-b295-baeeddc8b63b",
   "metadata": {},
   "outputs": [],
   "source": [
    "#{'mbti_title':'ml_title'} -> {'ml_title':'mbti_title'}\n",
    "match_dict2 = {v:k for k, v in match_dict.items()}"
   ]
  },
  {
   "cell_type": "code",
   "execution_count": 140,
   "id": "23166268-bfab-42a1-a228-299051d624e3",
   "metadata": {},
   "outputs": [],
   "source": [
    "ml_title['mbti_title'] = ml_title['title'].map(match_dict2)"
   ]
  },
  {
   "cell_type": "code",
   "execution_count": 141,
   "id": "38a5af77-8723-468d-ab8b-0b4fc60370ba",
   "metadata": {},
   "outputs": [],
   "source": [
    "ml_title = ml_title.dropna()"
   ]
  },
  {
   "cell_type": "code",
   "execution_count": 142,
   "id": "57cda3fa-0a49-43fc-9fcb-573874983c73",
   "metadata": {},
   "outputs": [],
   "source": [
    "ml_title = ml_title.drop_duplicates(subset='title', keep='first')"
   ]
  },
  {
   "cell_type": "code",
   "execution_count": 143,
   "id": "2c8c33aa-c411-4dbb-86c3-9c154c817317",
   "metadata": {},
   "outputs": [
    {
     "data": {
      "text/html": [
       "<div>\n",
       "<style scoped>\n",
       "    .dataframe tbody tr th:only-of-type {\n",
       "        vertical-align: middle;\n",
       "    }\n",
       "\n",
       "    .dataframe tbody tr th {\n",
       "        vertical-align: top;\n",
       "    }\n",
       "\n",
       "    .dataframe thead th {\n",
       "        text-align: right;\n",
       "    }\n",
       "</style>\n",
       "<table border=\"1\" class=\"dataframe\">\n",
       "  <thead>\n",
       "    <tr style=\"text-align: right;\">\n",
       "      <th></th>\n",
       "      <th>title</th>\n",
       "      <th>mbti_title</th>\n",
       "    </tr>\n",
       "  </thead>\n",
       "  <tbody>\n",
       "    <tr>\n",
       "      <th>31</th>\n",
       "      <td>twelve monkeys</td>\n",
       "      <td>12 monkeys / twelve monkeys</td>\n",
       "    </tr>\n",
       "    <tr>\n",
       "      <th>43</th>\n",
       "      <td>mortal kombat</td>\n",
       "      <td>mortal kombat films</td>\n",
       "    </tr>\n",
       "    <tr>\n",
       "      <th>49</th>\n",
       "      <td>usual suspects, the</td>\n",
       "      <td>the usual suspects</td>\n",
       "    </tr>\n",
       "    <tr>\n",
       "      <th>72</th>\n",
       "      <td>misérables, les</td>\n",
       "      <td>les miserables</td>\n",
       "    </tr>\n",
       "    <tr>\n",
       "      <th>103</th>\n",
       "      <td>bridges of madison county, the</td>\n",
       "      <td>the bridges of madison county</td>\n",
       "    </tr>\n",
       "    <tr>\n",
       "      <th>...</th>\n",
       "      <td>...</td>\n",
       "      <td>...</td>\n",
       "    </tr>\n",
       "    <tr>\n",
       "      <th>60434</th>\n",
       "      <td>checkered ninja</td>\n",
       "      <td>ternet ninja</td>\n",
       "    </tr>\n",
       "    <tr>\n",
       "      <th>60626</th>\n",
       "      <td>turma da mônica: laços</td>\n",
       "      <td>turma da mônica</td>\n",
       "    </tr>\n",
       "    <tr>\n",
       "      <th>61007</th>\n",
       "      <td>where'd you go, bernadette</td>\n",
       "      <td>where’d you go, bernadette</td>\n",
       "    </tr>\n",
       "    <tr>\n",
       "      <th>61144</th>\n",
       "      <td>downton abbey</td>\n",
       "      <td>downtown abbey</td>\n",
       "    </tr>\n",
       "    <tr>\n",
       "      <th>62056</th>\n",
       "      <td>the wolf house</td>\n",
       "      <td>la casa lobo</td>\n",
       "    </tr>\n",
       "  </tbody>\n",
       "</table>\n",
       "<p>598 rows × 2 columns</p>\n",
       "</div>"
      ],
      "text/plain": [
       "                                title                     mbti_title\n",
       "31                     twelve monkeys    12 monkeys / twelve monkeys\n",
       "43                      mortal kombat            mortal kombat films\n",
       "49                usual suspects, the             the usual suspects\n",
       "72                    misérables, les                 les miserables\n",
       "103    bridges of madison county, the  the bridges of madison county\n",
       "...                               ...                            ...\n",
       "60434                 checkered ninja                   ternet ninja\n",
       "60626          turma da mônica: laços                turma da mônica\n",
       "61007      where'd you go, bernadette     where’d you go, bernadette\n",
       "61144                   downton abbey                 downtown abbey\n",
       "62056                  the wolf house                   la casa lobo\n",
       "\n",
       "[598 rows x 2 columns]"
      ]
     },
     "execution_count": 143,
     "metadata": {},
     "output_type": "execute_result"
    }
   ],
   "source": [
    "ml_title"
   ]
  },
  {
   "cell_type": "code",
   "execution_count": 144,
   "id": "639376ec-b469-4d26-a6b7-a6308bbe3013",
   "metadata": {},
   "outputs": [],
   "source": [
    "# movieId정보 merge\n",
    "ml_title = ml_title.merge(ml_title_df, how='left', on='title')"
   ]
  },
  {
   "cell_type": "code",
   "execution_count": 145,
   "id": "92ce3b15-20f2-4d0c-901b-02b4ee15fc5d",
   "metadata": {},
   "outputs": [],
   "source": [
    "ml_title = ml_title.drop_duplicates(subset='title', keep='first')"
   ]
  },
  {
   "cell_type": "code",
   "execution_count": 146,
   "id": "9ff73608-7240-4672-8798-e371eff7b6d1",
   "metadata": {},
   "outputs": [
    {
     "data": {
      "text/html": [
       "<div>\n",
       "<style scoped>\n",
       "    .dataframe tbody tr th:only-of-type {\n",
       "        vertical-align: middle;\n",
       "    }\n",
       "\n",
       "    .dataframe tbody tr th {\n",
       "        vertical-align: top;\n",
       "    }\n",
       "\n",
       "    .dataframe thead th {\n",
       "        text-align: right;\n",
       "    }\n",
       "</style>\n",
       "<table border=\"1\" class=\"dataframe\">\n",
       "  <thead>\n",
       "    <tr style=\"text-align: right;\">\n",
       "      <th></th>\n",
       "      <th>title</th>\n",
       "      <th>mbti_title</th>\n",
       "      <th>movieId</th>\n",
       "    </tr>\n",
       "  </thead>\n",
       "  <tbody>\n",
       "    <tr>\n",
       "      <th>0</th>\n",
       "      <td>twelve monkeys</td>\n",
       "      <td>12 monkeys / twelve monkeys</td>\n",
       "      <td>32</td>\n",
       "    </tr>\n",
       "    <tr>\n",
       "      <th>1</th>\n",
       "      <td>mortal kombat</td>\n",
       "      <td>mortal kombat films</td>\n",
       "      <td>44</td>\n",
       "    </tr>\n",
       "    <tr>\n",
       "      <th>2</th>\n",
       "      <td>usual suspects, the</td>\n",
       "      <td>the usual suspects</td>\n",
       "      <td>50</td>\n",
       "    </tr>\n",
       "    <tr>\n",
       "      <th>3</th>\n",
       "      <td>misérables, les</td>\n",
       "      <td>les miserables</td>\n",
       "      <td>73</td>\n",
       "    </tr>\n",
       "    <tr>\n",
       "      <th>4</th>\n",
       "      <td>bridges of madison county, the</td>\n",
       "      <td>the bridges of madison county</td>\n",
       "      <td>105</td>\n",
       "    </tr>\n",
       "    <tr>\n",
       "      <th>...</th>\n",
       "      <td>...</td>\n",
       "      <td>...</td>\n",
       "      <td>...</td>\n",
       "    </tr>\n",
       "    <tr>\n",
       "      <th>593</th>\n",
       "      <td>checkered ninja</td>\n",
       "      <td>ternet ninja</td>\n",
       "      <td>203298</td>\n",
       "    </tr>\n",
       "    <tr>\n",
       "      <th>594</th>\n",
       "      <td>turma da mônica: laços</td>\n",
       "      <td>turma da mônica</td>\n",
       "      <td>203745</td>\n",
       "    </tr>\n",
       "    <tr>\n",
       "      <th>595</th>\n",
       "      <td>where'd you go, bernadette</td>\n",
       "      <td>where’d you go, bernadette</td>\n",
       "      <td>204702</td>\n",
       "    </tr>\n",
       "    <tr>\n",
       "      <th>596</th>\n",
       "      <td>downton abbey</td>\n",
       "      <td>downtown abbey</td>\n",
       "      <td>205076</td>\n",
       "    </tr>\n",
       "    <tr>\n",
       "      <th>597</th>\n",
       "      <td>the wolf house</td>\n",
       "      <td>la casa lobo</td>\n",
       "      <td>207678</td>\n",
       "    </tr>\n",
       "  </tbody>\n",
       "</table>\n",
       "<p>598 rows × 3 columns</p>\n",
       "</div>"
      ],
      "text/plain": [
       "                              title                     mbti_title  movieId\n",
       "0                    twelve monkeys    12 monkeys / twelve monkeys       32\n",
       "1                     mortal kombat            mortal kombat films       44\n",
       "2               usual suspects, the             the usual suspects       50\n",
       "3                   misérables, les                 les miserables       73\n",
       "4    bridges of madison county, the  the bridges of madison county      105\n",
       "..                              ...                            ...      ...\n",
       "593                 checkered ninja                   ternet ninja   203298\n",
       "594          turma da mônica: laços                turma da mônica   203745\n",
       "595      where'd you go, bernadette     where’d you go, bernadette   204702\n",
       "596                   downton abbey                 downtown abbey   205076\n",
       "597                  the wolf house                   la casa lobo   207678\n",
       "\n",
       "[598 rows x 3 columns]"
      ]
     },
     "execution_count": 146,
     "metadata": {},
     "output_type": "execute_result"
    }
   ],
   "source": [
    "ml_title"
   ]
  },
  {
   "cell_type": "code",
   "execution_count": 148,
   "id": "213d26f2-4d94-403d-a80d-32e44531c5d3",
   "metadata": {},
   "outputs": [
    {
     "data": {
      "text/plain": [
       "title         0\n",
       "mbti_title    0\n",
       "movieId       0\n",
       "dtype: int64"
      ]
     },
     "execution_count": 148,
     "metadata": {},
     "output_type": "execute_result"
    }
   ],
   "source": [
    "ml_title.isna().sum()"
   ]
  },
  {
   "cell_type": "code",
   "execution_count": 149,
   "id": "f002ef0e-fe19-41b3-9551-1615495f9c97",
   "metadata": {},
   "outputs": [],
   "source": [
    "# ml title 정보와 movieId 정보만 가져온다.\n",
    "hand_intersection_mbti_ml = ml_title[['title', 'movieId']]"
   ]
  },
  {
   "cell_type": "code",
   "execution_count": 150,
   "id": "37194a47-fb88-469f-aad6-771fa10a613f",
   "metadata": {},
   "outputs": [
    {
     "data": {
      "text/html": [
       "<div>\n",
       "<style scoped>\n",
       "    .dataframe tbody tr th:only-of-type {\n",
       "        vertical-align: middle;\n",
       "    }\n",
       "\n",
       "    .dataframe tbody tr th {\n",
       "        vertical-align: top;\n",
       "    }\n",
       "\n",
       "    .dataframe thead th {\n",
       "        text-align: right;\n",
       "    }\n",
       "</style>\n",
       "<table border=\"1\" class=\"dataframe\">\n",
       "  <thead>\n",
       "    <tr style=\"text-align: right;\">\n",
       "      <th></th>\n",
       "      <th>title</th>\n",
       "      <th>movieId</th>\n",
       "    </tr>\n",
       "  </thead>\n",
       "  <tbody>\n",
       "    <tr>\n",
       "      <th>0</th>\n",
       "      <td>twelve monkeys</td>\n",
       "      <td>32</td>\n",
       "    </tr>\n",
       "    <tr>\n",
       "      <th>1</th>\n",
       "      <td>mortal kombat</td>\n",
       "      <td>44</td>\n",
       "    </tr>\n",
       "    <tr>\n",
       "      <th>2</th>\n",
       "      <td>usual suspects, the</td>\n",
       "      <td>50</td>\n",
       "    </tr>\n",
       "    <tr>\n",
       "      <th>3</th>\n",
       "      <td>misérables, les</td>\n",
       "      <td>73</td>\n",
       "    </tr>\n",
       "    <tr>\n",
       "      <th>4</th>\n",
       "      <td>bridges of madison county, the</td>\n",
       "      <td>105</td>\n",
       "    </tr>\n",
       "    <tr>\n",
       "      <th>...</th>\n",
       "      <td>...</td>\n",
       "      <td>...</td>\n",
       "    </tr>\n",
       "    <tr>\n",
       "      <th>593</th>\n",
       "      <td>checkered ninja</td>\n",
       "      <td>203298</td>\n",
       "    </tr>\n",
       "    <tr>\n",
       "      <th>594</th>\n",
       "      <td>turma da mônica: laços</td>\n",
       "      <td>203745</td>\n",
       "    </tr>\n",
       "    <tr>\n",
       "      <th>595</th>\n",
       "      <td>where'd you go, bernadette</td>\n",
       "      <td>204702</td>\n",
       "    </tr>\n",
       "    <tr>\n",
       "      <th>596</th>\n",
       "      <td>downton abbey</td>\n",
       "      <td>205076</td>\n",
       "    </tr>\n",
       "    <tr>\n",
       "      <th>597</th>\n",
       "      <td>the wolf house</td>\n",
       "      <td>207678</td>\n",
       "    </tr>\n",
       "  </tbody>\n",
       "</table>\n",
       "<p>598 rows × 2 columns</p>\n",
       "</div>"
      ],
      "text/plain": [
       "                              title  movieId\n",
       "0                    twelve monkeys       32\n",
       "1                     mortal kombat       44\n",
       "2               usual suspects, the       50\n",
       "3                   misérables, les       73\n",
       "4    bridges of madison county, the      105\n",
       "..                              ...      ...\n",
       "593                 checkered ninja   203298\n",
       "594          turma da mônica: laços   203745\n",
       "595      where'd you go, bernadette   204702\n",
       "596                   downton abbey   205076\n",
       "597                  the wolf house   207678\n",
       "\n",
       "[598 rows x 2 columns]"
      ]
     },
     "execution_count": 150,
     "metadata": {},
     "output_type": "execute_result"
    }
   ],
   "source": [
    "hand_intersection_mbti_ml"
   ]
  },
  {
   "cell_type": "code",
   "execution_count": null,
   "id": "8c8a4246-8072-400c-9413-a9b8e8b05aea",
   "metadata": {},
   "outputs": [],
   "source": []
  },
  {
   "cell_type": "code",
   "execution_count": null,
   "id": "919883f5-413c-4661-8347-f434091ad8fe",
   "metadata": {},
   "outputs": [],
   "source": []
  },
  {
   "cell_type": "markdown",
   "id": "da024030-45c1-4409-b5fa-6bb038560fa5",
   "metadata": {},
   "source": [
    "## mlti-ml 데이터 교집합 수작업/non 수작업 확인 및 합치기\n",
    "-> 19개정도 겹친다.</br>\n",
    "-> 하지만 결과는 동일하다."
   ]
  },
  {
   "cell_type": "markdown",
   "id": "9c415a11-8634-4c12-918d-66858b690823",
   "metadata": {},
   "source": [
    "### mlti-ml 데이터 교집합 수작업/non 수작업 확인"
   ]
  },
  {
   "cell_type": "code",
   "execution_count": 154,
   "id": "d6b96f8f-002b-4829-b8df-5cba613d0792",
   "metadata": {},
   "outputs": [
    {
     "name": "stdout",
     "output_type": "stream",
     "text": [
      "598\n",
      "2650\n"
     ]
    }
   ],
   "source": [
    "print(len(hand_intersection_mbti_ml))\n",
    "print(len(non_hand_intersection_mbti_ml))"
   ]
  },
  {
   "cell_type": "code",
   "execution_count": 155,
   "id": "d02b763d-ef58-4811-8ba6-cf6d5947c7f9",
   "metadata": {},
   "outputs": [
    {
     "data": {
      "text/plain": [
       "{'101 dalmatians',\n",
       " 'barbie: a fairy secret',\n",
       " 'bhool bhulaiyaa',\n",
       " \"charlie's angels\",\n",
       " 'daisies',\n",
       " 'dracula',\n",
       " 'final destination',\n",
       " 'flatliners',\n",
       " 'lilya 4-ever',\n",
       " 'mortal kombat',\n",
       " 'my girl',\n",
       " 'romeo and juliet',\n",
       " 'scooby-doo and the ghoul school',\n",
       " 'super mario bros.',\n",
       " 'the game',\n",
       " 'the hunger games',\n",
       " 'the witch: part 1. the subversion',\n",
       " 'up',\n",
       " 'wrong turn'}"
      ]
     },
     "execution_count": 155,
     "metadata": {},
     "output_type": "execute_result"
    }
   ],
   "source": [
    "set(list(hand_intersection_mbti_ml['title'])) & set(list(non_hand_intersection_mbti_ml['title']))"
   ]
  },
  {
   "cell_type": "code",
   "execution_count": 156,
   "id": "9c4df8e4-27ea-4158-a5f2-473eef200eb1",
   "metadata": {},
   "outputs": [
    {
     "data": {
      "text/plain": [
       "19"
      ]
     },
     "execution_count": 156,
     "metadata": {},
     "output_type": "execute_result"
    }
   ],
   "source": [
    "len(set(list(hand_intersection_mbti_ml['title'])) & set(list(non_hand_intersection_mbti_ml['title'])))"
   ]
  },
  {
   "cell_type": "code",
   "execution_count": 157,
   "id": "81a9bb70-7190-4a7c-9272-04383c6412ae",
   "metadata": {},
   "outputs": [
    {
     "data": {
      "text/html": [
       "<div>\n",
       "<style scoped>\n",
       "    .dataframe tbody tr th:only-of-type {\n",
       "        vertical-align: middle;\n",
       "    }\n",
       "\n",
       "    .dataframe tbody tr th {\n",
       "        vertical-align: top;\n",
       "    }\n",
       "\n",
       "    .dataframe thead th {\n",
       "        text-align: right;\n",
       "    }\n",
       "</style>\n",
       "<table border=\"1\" class=\"dataframe\">\n",
       "  <thead>\n",
       "    <tr style=\"text-align: right;\">\n",
       "      <th></th>\n",
       "      <th>title</th>\n",
       "      <th>movieId</th>\n",
       "    </tr>\n",
       "  </thead>\n",
       "  <tbody>\n",
       "    <tr>\n",
       "      <th>146</th>\n",
       "      <td>romeo and juliet</td>\n",
       "      <td>3668</td>\n",
       "    </tr>\n",
       "  </tbody>\n",
       "</table>\n",
       "</div>"
      ],
      "text/plain": [
       "                title  movieId\n",
       "146  romeo and juliet     3668"
      ]
     },
     "execution_count": 157,
     "metadata": {},
     "output_type": "execute_result"
    }
   ],
   "source": [
    "hand_intersection_mbti_ml[hand_intersection_mbti_ml['title']=='romeo and juliet']"
   ]
  },
  {
   "cell_type": "code",
   "execution_count": 158,
   "id": "aa76cea7-bf67-4171-8db3-9e15af3bd8b8",
   "metadata": {},
   "outputs": [
    {
     "data": {
      "text/html": [
       "<div>\n",
       "<style scoped>\n",
       "    .dataframe tbody tr th:only-of-type {\n",
       "        vertical-align: middle;\n",
       "    }\n",
       "\n",
       "    .dataframe tbody tr th {\n",
       "        vertical-align: top;\n",
       "    }\n",
       "\n",
       "    .dataframe thead th {\n",
       "        text-align: right;\n",
       "    }\n",
       "</style>\n",
       "<table border=\"1\" class=\"dataframe\">\n",
       "  <thead>\n",
       "    <tr style=\"text-align: right;\">\n",
       "      <th></th>\n",
       "      <th>title</th>\n",
       "      <th>movieId</th>\n",
       "    </tr>\n",
       "  </thead>\n",
       "  <tbody>\n",
       "    <tr>\n",
       "      <th>1013</th>\n",
       "      <td>romeo and juliet</td>\n",
       "      <td>3668.0</td>\n",
       "    </tr>\n",
       "  </tbody>\n",
       "</table>\n",
       "</div>"
      ],
      "text/plain": [
       "                 title  movieId\n",
       "1013  romeo and juliet   3668.0"
      ]
     },
     "execution_count": 158,
     "metadata": {},
     "output_type": "execute_result"
    }
   ],
   "source": [
    "# non_hand_intersection_mbti_ml[non_hand_intersection_mbti_ml['title']=='up']\n",
    "non_hand_intersection_mbti_ml[non_hand_intersection_mbti_ml['title']=='romeo and juliet']"
   ]
  },
  {
   "cell_type": "markdown",
   "id": "6c45fdba-81b6-48b8-8c28-dfaaf7614d95",
   "metadata": {},
   "source": [
    "### mbti-ml 교집합 데이터 (['title','movieId']) 합치기. 여기서의 title은 ml의 title이다.\n",
    "전체 3248행. (총 mbti 데이터의 영화수 : 4291)</br>\n",
    "수작업 안한 교집합 : 2650행</br>\n",
    "수작업한 교집합 : 598행"
   ]
  },
  {
   "cell_type": "code",
   "execution_count": 159,
   "id": "818235e0-1dac-4e0a-9402-9d27ca385ebf",
   "metadata": {},
   "outputs": [],
   "source": [
    "intersection_mbti_ml_title_movieId_df = pd.concat([non_hand_intersection_mbti_ml, hand_intersection_mbti_ml])"
   ]
  },
  {
   "cell_type": "code",
   "execution_count": 160,
   "id": "df2fcca4-ddfd-463e-8f2b-fd4ec00f8282",
   "metadata": {},
   "outputs": [],
   "source": [
    "intersection_mbti_ml_title_movieId_df['movieId'] = intersection_mbti_ml_title_movieId_df['movieId'].astype(int)"
   ]
  },
  {
   "cell_type": "code",
   "execution_count": 177,
   "id": "0f5db2ba-b347-4d30-bab6-f66b50e94f53",
   "metadata": {},
   "outputs": [
    {
     "data": {
      "text/plain": [
       "3248"
      ]
     },
     "execution_count": 177,
     "metadata": {},
     "output_type": "execute_result"
    }
   ],
   "source": [
    "len(intersection_mbti_ml_title_movieId_df)"
   ]
  },
  {
   "cell_type": "code",
   "execution_count": 185,
   "id": "94a876fa-152b-40e2-8356-3b0760efe0ba",
   "metadata": {},
   "outputs": [],
   "source": [
    "# 수작업, no수작업 겹치는 19개에 대한 중복제거\n",
    "intersection_mbti_ml_title_movieId_df = intersection_mbti_ml_title_movieId_df.drop_duplicates(subset=['title','movieId'], keep='first')"
   ]
  },
  {
   "cell_type": "code",
   "execution_count": 186,
   "id": "530bed7c-b81a-4441-a0a3-68cc898b2b89",
   "metadata": {},
   "outputs": [
    {
     "data": {
      "text/html": [
       "<div>\n",
       "<style scoped>\n",
       "    .dataframe tbody tr th:only-of-type {\n",
       "        vertical-align: middle;\n",
       "    }\n",
       "\n",
       "    .dataframe tbody tr th {\n",
       "        vertical-align: top;\n",
       "    }\n",
       "\n",
       "    .dataframe thead th {\n",
       "        text-align: right;\n",
       "    }\n",
       "</style>\n",
       "<table border=\"1\" class=\"dataframe\">\n",
       "  <thead>\n",
       "    <tr style=\"text-align: right;\">\n",
       "      <th></th>\n",
       "      <th>title</th>\n",
       "      <th>movieId</th>\n",
       "    </tr>\n",
       "  </thead>\n",
       "  <tbody>\n",
       "    <tr>\n",
       "      <th>0</th>\n",
       "      <td>moana</td>\n",
       "      <td>73141</td>\n",
       "    </tr>\n",
       "    <tr>\n",
       "      <th>1</th>\n",
       "      <td>inside out</td>\n",
       "      <td>122470</td>\n",
       "    </tr>\n",
       "    <tr>\n",
       "      <th>2</th>\n",
       "      <td>zootopia</td>\n",
       "      <td>152081</td>\n",
       "    </tr>\n",
       "    <tr>\n",
       "      <th>3</th>\n",
       "      <td>legally blonde</td>\n",
       "      <td>4447</td>\n",
       "    </tr>\n",
       "    <tr>\n",
       "      <th>4</th>\n",
       "      <td>dead poets society</td>\n",
       "      <td>1246</td>\n",
       "    </tr>\n",
       "    <tr>\n",
       "      <th>...</th>\n",
       "      <td>...</td>\n",
       "      <td>...</td>\n",
       "    </tr>\n",
       "    <tr>\n",
       "      <th>593</th>\n",
       "      <td>checkered ninja</td>\n",
       "      <td>203298</td>\n",
       "    </tr>\n",
       "    <tr>\n",
       "      <th>594</th>\n",
       "      <td>turma da mônica: laços</td>\n",
       "      <td>203745</td>\n",
       "    </tr>\n",
       "    <tr>\n",
       "      <th>595</th>\n",
       "      <td>where'd you go, bernadette</td>\n",
       "      <td>204702</td>\n",
       "    </tr>\n",
       "    <tr>\n",
       "      <th>596</th>\n",
       "      <td>downton abbey</td>\n",
       "      <td>205076</td>\n",
       "    </tr>\n",
       "    <tr>\n",
       "      <th>597</th>\n",
       "      <td>the wolf house</td>\n",
       "      <td>207678</td>\n",
       "    </tr>\n",
       "  </tbody>\n",
       "</table>\n",
       "<p>3229 rows × 2 columns</p>\n",
       "</div>"
      ],
      "text/plain": [
       "                          title  movieId\n",
       "0                         moana    73141\n",
       "1                    inside out   122470\n",
       "2                      zootopia   152081\n",
       "3                legally blonde     4447\n",
       "4            dead poets society     1246\n",
       "..                          ...      ...\n",
       "593             checkered ninja   203298\n",
       "594      turma da mônica: laços   203745\n",
       "595  where'd you go, bernadette   204702\n",
       "596               downton abbey   205076\n",
       "597              the wolf house   207678\n",
       "\n",
       "[3229 rows x 2 columns]"
      ]
     },
     "execution_count": 186,
     "metadata": {},
     "output_type": "execute_result"
    }
   ],
   "source": [
    "intersection_mbti_ml_title_movieId_df"
   ]
  },
  {
   "cell_type": "code",
   "execution_count": 187,
   "id": "a0eba900-f7b8-4e77-b596-84b93bd4cf81",
   "metadata": {},
   "outputs": [],
   "source": [
    "intersection_mbti_ml_title_movieId_df.to_csv('/opt/ml/input/fighting/CSV/inter_mbti_ml_title_movieId.csv',index=False)"
   ]
  },
  {
   "cell_type": "code",
   "execution_count": 188,
   "id": "09cb5b99-d8c0-4d13-aa47-4bce2c7553f5",
   "metadata": {},
   "outputs": [
    {
     "name": "stdout",
     "output_type": "stream",
     "text": [
      "/opt/ml/input/fighting/EDA\n"
     ]
    }
   ],
   "source": [
    "!pwd"
   ]
  },
  {
   "cell_type": "code",
   "execution_count": null,
   "id": "1c823907-16ce-41ed-aa4b-2be23762b7ba",
   "metadata": {},
   "outputs": [],
   "source": []
  },
  {
   "cell_type": "markdown",
   "id": "d94eb02e-3633-4f29-8778-ee118cf36d20",
   "metadata": {},
   "source": [
    "## rating 정보에 교집합 해당하는 데이터만 추려내기"
   ]
  },
  {
   "cell_type": "code",
   "execution_count": null,
   "id": "7dff7f76-cb2f-4ab2-bde8-c61d4211c1aa",
   "metadata": {},
   "outputs": [],
   "source": []
  },
  {
   "cell_type": "code",
   "execution_count": 190,
   "id": "e1223e69-3433-4cd5-9f1d-2d2762d368b1",
   "metadata": {},
   "outputs": [],
   "source": [
    "# ml_df는 원본 무비렌즈 interaction 데이터\n",
    "ml_df = pd.read_csv('/opt/ml/input/fighting/CSV/ml-25m/ratings.csv')"
   ]
  },
  {
   "cell_type": "code",
   "execution_count": 191,
   "id": "982fc6b8-a337-4042-961d-4c29eab45a57",
   "metadata": {},
   "outputs": [
    {
     "data": {
      "text/html": [
       "<div>\n",
       "<style scoped>\n",
       "    .dataframe tbody tr th:only-of-type {\n",
       "        vertical-align: middle;\n",
       "    }\n",
       "\n",
       "    .dataframe tbody tr th {\n",
       "        vertical-align: top;\n",
       "    }\n",
       "\n",
       "    .dataframe thead th {\n",
       "        text-align: right;\n",
       "    }\n",
       "</style>\n",
       "<table border=\"1\" class=\"dataframe\">\n",
       "  <thead>\n",
       "    <tr style=\"text-align: right;\">\n",
       "      <th></th>\n",
       "      <th>userId</th>\n",
       "      <th>movieId</th>\n",
       "      <th>rating</th>\n",
       "      <th>timestamp</th>\n",
       "    </tr>\n",
       "  </thead>\n",
       "  <tbody>\n",
       "    <tr>\n",
       "      <th>0</th>\n",
       "      <td>1</td>\n",
       "      <td>296</td>\n",
       "      <td>5.0</td>\n",
       "      <td>1147880044</td>\n",
       "    </tr>\n",
       "    <tr>\n",
       "      <th>1</th>\n",
       "      <td>1</td>\n",
       "      <td>306</td>\n",
       "      <td>3.5</td>\n",
       "      <td>1147868817</td>\n",
       "    </tr>\n",
       "    <tr>\n",
       "      <th>2</th>\n",
       "      <td>1</td>\n",
       "      <td>307</td>\n",
       "      <td>5.0</td>\n",
       "      <td>1147868828</td>\n",
       "    </tr>\n",
       "    <tr>\n",
       "      <th>3</th>\n",
       "      <td>1</td>\n",
       "      <td>665</td>\n",
       "      <td>5.0</td>\n",
       "      <td>1147878820</td>\n",
       "    </tr>\n",
       "    <tr>\n",
       "      <th>4</th>\n",
       "      <td>1</td>\n",
       "      <td>899</td>\n",
       "      <td>3.5</td>\n",
       "      <td>1147868510</td>\n",
       "    </tr>\n",
       "    <tr>\n",
       "      <th>...</th>\n",
       "      <td>...</td>\n",
       "      <td>...</td>\n",
       "      <td>...</td>\n",
       "      <td>...</td>\n",
       "    </tr>\n",
       "    <tr>\n",
       "      <th>25000090</th>\n",
       "      <td>162541</td>\n",
       "      <td>50872</td>\n",
       "      <td>4.5</td>\n",
       "      <td>1240953372</td>\n",
       "    </tr>\n",
       "    <tr>\n",
       "      <th>25000091</th>\n",
       "      <td>162541</td>\n",
       "      <td>55768</td>\n",
       "      <td>2.5</td>\n",
       "      <td>1240951998</td>\n",
       "    </tr>\n",
       "    <tr>\n",
       "      <th>25000092</th>\n",
       "      <td>162541</td>\n",
       "      <td>56176</td>\n",
       "      <td>2.0</td>\n",
       "      <td>1240950697</td>\n",
       "    </tr>\n",
       "    <tr>\n",
       "      <th>25000093</th>\n",
       "      <td>162541</td>\n",
       "      <td>58559</td>\n",
       "      <td>4.0</td>\n",
       "      <td>1240953434</td>\n",
       "    </tr>\n",
       "    <tr>\n",
       "      <th>25000094</th>\n",
       "      <td>162541</td>\n",
       "      <td>63876</td>\n",
       "      <td>5.0</td>\n",
       "      <td>1240952515</td>\n",
       "    </tr>\n",
       "  </tbody>\n",
       "</table>\n",
       "<p>25000095 rows × 4 columns</p>\n",
       "</div>"
      ],
      "text/plain": [
       "          userId  movieId  rating   timestamp\n",
       "0              1      296     5.0  1147880044\n",
       "1              1      306     3.5  1147868817\n",
       "2              1      307     5.0  1147868828\n",
       "3              1      665     5.0  1147878820\n",
       "4              1      899     3.5  1147868510\n",
       "...          ...      ...     ...         ...\n",
       "25000090  162541    50872     4.5  1240953372\n",
       "25000091  162541    55768     2.5  1240951998\n",
       "25000092  162541    56176     2.0  1240950697\n",
       "25000093  162541    58559     4.0  1240953434\n",
       "25000094  162541    63876     5.0  1240952515\n",
       "\n",
       "[25000095 rows x 4 columns]"
      ]
     },
     "execution_count": 191,
     "metadata": {},
     "output_type": "execute_result"
    }
   ],
   "source": [
    "ml_df"
   ]
  },
  {
   "cell_type": "code",
   "execution_count": 192,
   "id": "40b14502-55cb-46b1-9d9f-38e129078a9b",
   "metadata": {},
   "outputs": [],
   "source": [
    "#rating 정보 merge\n",
    "result_df = ml_df.merge(intersection_mbti_ml_title_movieId_df, how='left', on=['movieId'])"
   ]
  },
  {
   "cell_type": "code",
   "execution_count": 193,
   "id": "3e95bf38-d3f5-4861-9872-0ad48d185fc7",
   "metadata": {},
   "outputs": [
    {
     "data": {
      "text/html": [
       "<div>\n",
       "<style scoped>\n",
       "    .dataframe tbody tr th:only-of-type {\n",
       "        vertical-align: middle;\n",
       "    }\n",
       "\n",
       "    .dataframe tbody tr th {\n",
       "        vertical-align: top;\n",
       "    }\n",
       "\n",
       "    .dataframe thead th {\n",
       "        text-align: right;\n",
       "    }\n",
       "</style>\n",
       "<table border=\"1\" class=\"dataframe\">\n",
       "  <thead>\n",
       "    <tr style=\"text-align: right;\">\n",
       "      <th></th>\n",
       "      <th>userId</th>\n",
       "      <th>movieId</th>\n",
       "      <th>rating</th>\n",
       "      <th>timestamp</th>\n",
       "      <th>title</th>\n",
       "    </tr>\n",
       "  </thead>\n",
       "  <tbody>\n",
       "    <tr>\n",
       "      <th>0</th>\n",
       "      <td>1</td>\n",
       "      <td>296</td>\n",
       "      <td>5.0</td>\n",
       "      <td>1147880044</td>\n",
       "      <td>pulp fiction</td>\n",
       "    </tr>\n",
       "    <tr>\n",
       "      <th>1</th>\n",
       "      <td>1</td>\n",
       "      <td>306</td>\n",
       "      <td>3.5</td>\n",
       "      <td>1147868817</td>\n",
       "      <td>three colors: red</td>\n",
       "    </tr>\n",
       "    <tr>\n",
       "      <th>2</th>\n",
       "      <td>1</td>\n",
       "      <td>307</td>\n",
       "      <td>5.0</td>\n",
       "      <td>1147868828</td>\n",
       "      <td>NaN</td>\n",
       "    </tr>\n",
       "    <tr>\n",
       "      <th>3</th>\n",
       "      <td>1</td>\n",
       "      <td>665</td>\n",
       "      <td>5.0</td>\n",
       "      <td>1147878820</td>\n",
       "      <td>NaN</td>\n",
       "    </tr>\n",
       "    <tr>\n",
       "      <th>4</th>\n",
       "      <td>1</td>\n",
       "      <td>899</td>\n",
       "      <td>3.5</td>\n",
       "      <td>1147868510</td>\n",
       "      <td>singin' in the rain</td>\n",
       "    </tr>\n",
       "    <tr>\n",
       "      <th>...</th>\n",
       "      <td>...</td>\n",
       "      <td>...</td>\n",
       "      <td>...</td>\n",
       "      <td>...</td>\n",
       "      <td>...</td>\n",
       "    </tr>\n",
       "    <tr>\n",
       "      <th>25000090</th>\n",
       "      <td>162541</td>\n",
       "      <td>50872</td>\n",
       "      <td>4.5</td>\n",
       "      <td>1240953372</td>\n",
       "      <td>ratatouille</td>\n",
       "    </tr>\n",
       "    <tr>\n",
       "      <th>25000091</th>\n",
       "      <td>162541</td>\n",
       "      <td>55768</td>\n",
       "      <td>2.5</td>\n",
       "      <td>1240951998</td>\n",
       "      <td>bee movie</td>\n",
       "    </tr>\n",
       "    <tr>\n",
       "      <th>25000092</th>\n",
       "      <td>162541</td>\n",
       "      <td>56176</td>\n",
       "      <td>2.0</td>\n",
       "      <td>1240950697</td>\n",
       "      <td>alvin and the chipmunks</td>\n",
       "    </tr>\n",
       "    <tr>\n",
       "      <th>25000093</th>\n",
       "      <td>162541</td>\n",
       "      <td>58559</td>\n",
       "      <td>4.0</td>\n",
       "      <td>1240953434</td>\n",
       "      <td>NaN</td>\n",
       "    </tr>\n",
       "    <tr>\n",
       "      <th>25000094</th>\n",
       "      <td>162541</td>\n",
       "      <td>63876</td>\n",
       "      <td>5.0</td>\n",
       "      <td>1240952515</td>\n",
       "      <td>milk</td>\n",
       "    </tr>\n",
       "  </tbody>\n",
       "</table>\n",
       "<p>25000095 rows × 5 columns</p>\n",
       "</div>"
      ],
      "text/plain": [
       "          userId  movieId  rating   timestamp                    title\n",
       "0              1      296     5.0  1147880044             pulp fiction\n",
       "1              1      306     3.5  1147868817        three colors: red\n",
       "2              1      307     5.0  1147868828                      NaN\n",
       "3              1      665     5.0  1147878820                      NaN\n",
       "4              1      899     3.5  1147868510      singin' in the rain\n",
       "...          ...      ...     ...         ...                      ...\n",
       "25000090  162541    50872     4.5  1240953372              ratatouille\n",
       "25000091  162541    55768     2.5  1240951998                bee movie\n",
       "25000092  162541    56176     2.0  1240950697  alvin and the chipmunks\n",
       "25000093  162541    58559     4.0  1240953434                      NaN\n",
       "25000094  162541    63876     5.0  1240952515                     milk\n",
       "\n",
       "[25000095 rows x 5 columns]"
      ]
     },
     "execution_count": 193,
     "metadata": {},
     "output_type": "execute_result"
    }
   ],
   "source": [
    "result_df"
   ]
  },
  {
   "cell_type": "code",
   "execution_count": 194,
   "id": "57989807-da12-4233-a903-3e30adff5ffe",
   "metadata": {},
   "outputs": [
    {
     "data": {
      "text/plain": [
       "userId              0\n",
       "movieId             0\n",
       "rating              0\n",
       "timestamp           0\n",
       "title        12145460\n",
       "dtype: int64"
      ]
     },
     "execution_count": 194,
     "metadata": {},
     "output_type": "execute_result"
    }
   ],
   "source": [
    "result_df.isna().sum()"
   ]
  },
  {
   "cell_type": "code",
   "execution_count": 195,
   "id": "7a51d5fc-23fe-4dfa-b7df-027bc43b1139",
   "metadata": {},
   "outputs": [
    {
     "data": {
      "text/html": [
       "<div>\n",
       "<style scoped>\n",
       "    .dataframe tbody tr th:only-of-type {\n",
       "        vertical-align: middle;\n",
       "    }\n",
       "\n",
       "    .dataframe tbody tr th {\n",
       "        vertical-align: top;\n",
       "    }\n",
       "\n",
       "    .dataframe thead th {\n",
       "        text-align: right;\n",
       "    }\n",
       "</style>\n",
       "<table border=\"1\" class=\"dataframe\">\n",
       "  <thead>\n",
       "    <tr style=\"text-align: right;\">\n",
       "      <th></th>\n",
       "      <th>userId</th>\n",
       "      <th>movieId</th>\n",
       "      <th>rating</th>\n",
       "      <th>timestamp</th>\n",
       "      <th>title</th>\n",
       "    </tr>\n",
       "  </thead>\n",
       "  <tbody>\n",
       "    <tr>\n",
       "      <th>0</th>\n",
       "      <td>1</td>\n",
       "      <td>296</td>\n",
       "      <td>5.0</td>\n",
       "      <td>1147880044</td>\n",
       "      <td>pulp fiction</td>\n",
       "    </tr>\n",
       "    <tr>\n",
       "      <th>1</th>\n",
       "      <td>1</td>\n",
       "      <td>306</td>\n",
       "      <td>3.5</td>\n",
       "      <td>1147868817</td>\n",
       "      <td>three colors: red</td>\n",
       "    </tr>\n",
       "    <tr>\n",
       "      <th>4</th>\n",
       "      <td>1</td>\n",
       "      <td>899</td>\n",
       "      <td>3.5</td>\n",
       "      <td>1147868510</td>\n",
       "      <td>singin' in the rain</td>\n",
       "    </tr>\n",
       "    <tr>\n",
       "      <th>5</th>\n",
       "      <td>1</td>\n",
       "      <td>1088</td>\n",
       "      <td>4.0</td>\n",
       "      <td>1147868495</td>\n",
       "      <td>dirty dancing</td>\n",
       "    </tr>\n",
       "    <tr>\n",
       "      <th>7</th>\n",
       "      <td>1</td>\n",
       "      <td>1217</td>\n",
       "      <td>3.5</td>\n",
       "      <td>1147878326</td>\n",
       "      <td>ran</td>\n",
       "    </tr>\n",
       "    <tr>\n",
       "      <th>...</th>\n",
       "      <td>...</td>\n",
       "      <td>...</td>\n",
       "      <td>...</td>\n",
       "      <td>...</td>\n",
       "      <td>...</td>\n",
       "    </tr>\n",
       "    <tr>\n",
       "      <th>25000089</th>\n",
       "      <td>162541</td>\n",
       "      <td>45517</td>\n",
       "      <td>4.5</td>\n",
       "      <td>1240953353</td>\n",
       "      <td>cars</td>\n",
       "    </tr>\n",
       "    <tr>\n",
       "      <th>25000090</th>\n",
       "      <td>162541</td>\n",
       "      <td>50872</td>\n",
       "      <td>4.5</td>\n",
       "      <td>1240953372</td>\n",
       "      <td>ratatouille</td>\n",
       "    </tr>\n",
       "    <tr>\n",
       "      <th>25000091</th>\n",
       "      <td>162541</td>\n",
       "      <td>55768</td>\n",
       "      <td>2.5</td>\n",
       "      <td>1240951998</td>\n",
       "      <td>bee movie</td>\n",
       "    </tr>\n",
       "    <tr>\n",
       "      <th>25000092</th>\n",
       "      <td>162541</td>\n",
       "      <td>56176</td>\n",
       "      <td>2.0</td>\n",
       "      <td>1240950697</td>\n",
       "      <td>alvin and the chipmunks</td>\n",
       "    </tr>\n",
       "    <tr>\n",
       "      <th>25000094</th>\n",
       "      <td>162541</td>\n",
       "      <td>63876</td>\n",
       "      <td>5.0</td>\n",
       "      <td>1240952515</td>\n",
       "      <td>milk</td>\n",
       "    </tr>\n",
       "  </tbody>\n",
       "</table>\n",
       "<p>12854635 rows × 5 columns</p>\n",
       "</div>"
      ],
      "text/plain": [
       "          userId  movieId  rating   timestamp                    title\n",
       "0              1      296     5.0  1147880044             pulp fiction\n",
       "1              1      306     3.5  1147868817        three colors: red\n",
       "4              1      899     3.5  1147868510      singin' in the rain\n",
       "5              1     1088     4.0  1147868495            dirty dancing\n",
       "7              1     1217     3.5  1147878326                      ran\n",
       "...          ...      ...     ...         ...                      ...\n",
       "25000089  162541    45517     4.5  1240953353                     cars\n",
       "25000090  162541    50872     4.5  1240953372              ratatouille\n",
       "25000091  162541    55768     2.5  1240951998                bee movie\n",
       "25000092  162541    56176     2.0  1240950697  alvin and the chipmunks\n",
       "25000094  162541    63876     5.0  1240952515                     milk\n",
       "\n",
       "[12854635 rows x 5 columns]"
      ]
     },
     "execution_count": 195,
     "metadata": {},
     "output_type": "execute_result"
    }
   ],
   "source": [
    "result_df.dropna()"
   ]
  },
  {
   "cell_type": "code",
   "execution_count": 196,
   "id": "4abfc8ba-02be-4390-a391-468563e820fa",
   "metadata": {},
   "outputs": [],
   "source": [
    "result_df.to_csv('/opt/ml/input/fighting/CSV/annoy_input_ver1.csv', index=False)"
   ]
  },
  {
   "cell_type": "code",
   "execution_count": 197,
   "id": "79d60a86-4f04-40bc-aa25-13c84ec417c2",
   "metadata": {},
   "outputs": [
    {
     "data": {
      "text/plain": [
       "Index(['userId', 'movieId', 'rating', 'timestamp', 'title'], dtype='object')"
      ]
     },
     "execution_count": 197,
     "metadata": {},
     "output_type": "execute_result"
    }
   ],
   "source": [
    "result_df.columns"
   ]
  },
  {
   "cell_type": "code",
   "execution_count": 198,
   "id": "98241fe4-15d6-439d-9e7a-0735433709a1",
   "metadata": {},
   "outputs": [
    {
     "data": {
      "text/plain": [
       "userId         162541\n",
       "movieId         59047\n",
       "rating             10\n",
       "timestamp    20115267\n",
       "title            3213\n",
       "dtype: int64"
      ]
     },
     "execution_count": 198,
     "metadata": {},
     "output_type": "execute_result"
    }
   ],
   "source": [
    "result_df.nunique()"
   ]
  },
  {
   "cell_type": "code",
   "execution_count": null,
   "id": "daad0132-dbe4-4d7f-8ced-04c4e02f7576",
   "metadata": {},
   "outputs": [],
   "source": []
  },
  {
   "cell_type": "markdown",
   "id": "07762083-703d-46c1-8061-aed02fe01dd6",
   "metadata": {},
   "source": [
    "### 결과파일 확인하기 - 왜 겹치는 영화수는 3229였는데 결과파일의 고유영화수는 3213일까?\n",
    "-> 영화정보는 있으나, interaction이 전혀 없는 영화이기 때문이다.</br>\n",
    "아래 코드를 보면, interaction를 한번이라도 한 영화는 58047개이지만, 영화 title 수는 62423개이다."
   ]
  },
  {
   "cell_type": "code",
   "execution_count": 199,
   "id": "2fa36ff0-fc80-4bf4-ba8c-a4b33207e1a0",
   "metadata": {},
   "outputs": [],
   "source": [
    "rating_df = pd.read_csv('/opt/ml/input/fighting/CSV/ml-25m/ratings.csv')\n",
    "title_df = pd.read_csv('/opt/ml/input/fighting/CSV/ml-25m/movies.csv')"
   ]
  },
  {
   "cell_type": "code",
   "execution_count": 200,
   "id": "46f32f7e-cd86-4001-a3e4-44ec7c36ac07",
   "metadata": {},
   "outputs": [
    {
     "data": {
      "text/html": [
       "<div>\n",
       "<style scoped>\n",
       "    .dataframe tbody tr th:only-of-type {\n",
       "        vertical-align: middle;\n",
       "    }\n",
       "\n",
       "    .dataframe tbody tr th {\n",
       "        vertical-align: top;\n",
       "    }\n",
       "\n",
       "    .dataframe thead th {\n",
       "        text-align: right;\n",
       "    }\n",
       "</style>\n",
       "<table border=\"1\" class=\"dataframe\">\n",
       "  <thead>\n",
       "    <tr style=\"text-align: right;\">\n",
       "      <th></th>\n",
       "      <th>userId</th>\n",
       "      <th>movieId</th>\n",
       "      <th>rating</th>\n",
       "      <th>timestamp</th>\n",
       "    </tr>\n",
       "  </thead>\n",
       "  <tbody>\n",
       "    <tr>\n",
       "      <th>0</th>\n",
       "      <td>1</td>\n",
       "      <td>296</td>\n",
       "      <td>5.0</td>\n",
       "      <td>1147880044</td>\n",
       "    </tr>\n",
       "    <tr>\n",
       "      <th>1</th>\n",
       "      <td>1</td>\n",
       "      <td>306</td>\n",
       "      <td>3.5</td>\n",
       "      <td>1147868817</td>\n",
       "    </tr>\n",
       "    <tr>\n",
       "      <th>2</th>\n",
       "      <td>1</td>\n",
       "      <td>307</td>\n",
       "      <td>5.0</td>\n",
       "      <td>1147868828</td>\n",
       "    </tr>\n",
       "    <tr>\n",
       "      <th>3</th>\n",
       "      <td>1</td>\n",
       "      <td>665</td>\n",
       "      <td>5.0</td>\n",
       "      <td>1147878820</td>\n",
       "    </tr>\n",
       "    <tr>\n",
       "      <th>4</th>\n",
       "      <td>1</td>\n",
       "      <td>899</td>\n",
       "      <td>3.5</td>\n",
       "      <td>1147868510</td>\n",
       "    </tr>\n",
       "    <tr>\n",
       "      <th>...</th>\n",
       "      <td>...</td>\n",
       "      <td>...</td>\n",
       "      <td>...</td>\n",
       "      <td>...</td>\n",
       "    </tr>\n",
       "    <tr>\n",
       "      <th>24966301</th>\n",
       "      <td>162358</td>\n",
       "      <td>200192</td>\n",
       "      <td>2.0</td>\n",
       "      <td>1553453039</td>\n",
       "    </tr>\n",
       "    <tr>\n",
       "      <th>24966302</th>\n",
       "      <td>162358</td>\n",
       "      <td>200194</td>\n",
       "      <td>2.0</td>\n",
       "      <td>1553453843</td>\n",
       "    </tr>\n",
       "    <tr>\n",
       "      <th>24970551</th>\n",
       "      <td>162386</td>\n",
       "      <td>139970</td>\n",
       "      <td>3.5</td>\n",
       "      <td>1549215965</td>\n",
       "    </tr>\n",
       "    <tr>\n",
       "      <th>24970609</th>\n",
       "      <td>162386</td>\n",
       "      <td>200726</td>\n",
       "      <td>4.0</td>\n",
       "      <td>1554651417</td>\n",
       "    </tr>\n",
       "    <tr>\n",
       "      <th>24970610</th>\n",
       "      <td>162386</td>\n",
       "      <td>200728</td>\n",
       "      <td>4.0</td>\n",
       "      <td>1554651472</td>\n",
       "    </tr>\n",
       "  </tbody>\n",
       "</table>\n",
       "<p>59047 rows × 4 columns</p>\n",
       "</div>"
      ],
      "text/plain": [
       "          userId  movieId  rating   timestamp\n",
       "0              1      296     5.0  1147880044\n",
       "1              1      306     3.5  1147868817\n",
       "2              1      307     5.0  1147868828\n",
       "3              1      665     5.0  1147878820\n",
       "4              1      899     3.5  1147868510\n",
       "...          ...      ...     ...         ...\n",
       "24966301  162358   200192     2.0  1553453039\n",
       "24966302  162358   200194     2.0  1553453843\n",
       "24970551  162386   139970     3.5  1549215965\n",
       "24970609  162386   200726     4.0  1554651417\n",
       "24970610  162386   200728     4.0  1554651472\n",
       "\n",
       "[59047 rows x 4 columns]"
      ]
     },
     "execution_count": 200,
     "metadata": {},
     "output_type": "execute_result"
    }
   ],
   "source": [
    "rating_df.drop_duplicates(subset='movieId', keep='first')"
   ]
  },
  {
   "cell_type": "code",
   "execution_count": 201,
   "id": "c3912d0f-efa8-429b-8981-68bd784fafd2",
   "metadata": {},
   "outputs": [
    {
     "data": {
      "text/html": [
       "<div>\n",
       "<style scoped>\n",
       "    .dataframe tbody tr th:only-of-type {\n",
       "        vertical-align: middle;\n",
       "    }\n",
       "\n",
       "    .dataframe tbody tr th {\n",
       "        vertical-align: top;\n",
       "    }\n",
       "\n",
       "    .dataframe thead th {\n",
       "        text-align: right;\n",
       "    }\n",
       "</style>\n",
       "<table border=\"1\" class=\"dataframe\">\n",
       "  <thead>\n",
       "    <tr style=\"text-align: right;\">\n",
       "      <th></th>\n",
       "      <th>movieId</th>\n",
       "      <th>title</th>\n",
       "      <th>genres</th>\n",
       "    </tr>\n",
       "  </thead>\n",
       "  <tbody>\n",
       "    <tr>\n",
       "      <th>0</th>\n",
       "      <td>1</td>\n",
       "      <td>Toy Story (1995)</td>\n",
       "      <td>Adventure|Animation|Children|Comedy|Fantasy</td>\n",
       "    </tr>\n",
       "    <tr>\n",
       "      <th>1</th>\n",
       "      <td>2</td>\n",
       "      <td>Jumanji (1995)</td>\n",
       "      <td>Adventure|Children|Fantasy</td>\n",
       "    </tr>\n",
       "    <tr>\n",
       "      <th>2</th>\n",
       "      <td>3</td>\n",
       "      <td>Grumpier Old Men (1995)</td>\n",
       "      <td>Comedy|Romance</td>\n",
       "    </tr>\n",
       "    <tr>\n",
       "      <th>3</th>\n",
       "      <td>4</td>\n",
       "      <td>Waiting to Exhale (1995)</td>\n",
       "      <td>Comedy|Drama|Romance</td>\n",
       "    </tr>\n",
       "    <tr>\n",
       "      <th>4</th>\n",
       "      <td>5</td>\n",
       "      <td>Father of the Bride Part II (1995)</td>\n",
       "      <td>Comedy</td>\n",
       "    </tr>\n",
       "    <tr>\n",
       "      <th>...</th>\n",
       "      <td>...</td>\n",
       "      <td>...</td>\n",
       "      <td>...</td>\n",
       "    </tr>\n",
       "    <tr>\n",
       "      <th>62418</th>\n",
       "      <td>209157</td>\n",
       "      <td>We (2018)</td>\n",
       "      <td>Drama</td>\n",
       "    </tr>\n",
       "    <tr>\n",
       "      <th>62419</th>\n",
       "      <td>209159</td>\n",
       "      <td>Window of the Soul (2001)</td>\n",
       "      <td>Documentary</td>\n",
       "    </tr>\n",
       "    <tr>\n",
       "      <th>62420</th>\n",
       "      <td>209163</td>\n",
       "      <td>Bad Poems (2018)</td>\n",
       "      <td>Comedy|Drama</td>\n",
       "    </tr>\n",
       "    <tr>\n",
       "      <th>62421</th>\n",
       "      <td>209169</td>\n",
       "      <td>A Girl Thing (2001)</td>\n",
       "      <td>(no genres listed)</td>\n",
       "    </tr>\n",
       "    <tr>\n",
       "      <th>62422</th>\n",
       "      <td>209171</td>\n",
       "      <td>Women of Devil's Island (1962)</td>\n",
       "      <td>Action|Adventure|Drama</td>\n",
       "    </tr>\n",
       "  </tbody>\n",
       "</table>\n",
       "<p>62423 rows × 3 columns</p>\n",
       "</div>"
      ],
      "text/plain": [
       "       movieId                               title  \\\n",
       "0            1                    Toy Story (1995)   \n",
       "1            2                      Jumanji (1995)   \n",
       "2            3             Grumpier Old Men (1995)   \n",
       "3            4            Waiting to Exhale (1995)   \n",
       "4            5  Father of the Bride Part II (1995)   \n",
       "...        ...                                 ...   \n",
       "62418   209157                           We (2018)   \n",
       "62419   209159           Window of the Soul (2001)   \n",
       "62420   209163                    Bad Poems (2018)   \n",
       "62421   209169                 A Girl Thing (2001)   \n",
       "62422   209171      Women of Devil's Island (1962)   \n",
       "\n",
       "                                            genres  \n",
       "0      Adventure|Animation|Children|Comedy|Fantasy  \n",
       "1                       Adventure|Children|Fantasy  \n",
       "2                                   Comedy|Romance  \n",
       "3                             Comedy|Drama|Romance  \n",
       "4                                           Comedy  \n",
       "...                                            ...  \n",
       "62418                                        Drama  \n",
       "62419                                  Documentary  \n",
       "62420                                 Comedy|Drama  \n",
       "62421                           (no genres listed)  \n",
       "62422                       Action|Adventure|Drama  \n",
       "\n",
       "[62423 rows x 3 columns]"
      ]
     },
     "execution_count": 201,
     "metadata": {},
     "output_type": "execute_result"
    }
   ],
   "source": [
    "title_df"
   ]
  },
  {
   "cell_type": "code",
   "execution_count": null,
   "id": "1b1c9fc7-fe4f-4416-a194-649d2b82e6a2",
   "metadata": {},
   "outputs": [],
   "source": []
  }
 ],
 "metadata": {
  "kernelspec": {
   "display_name": "Python 3 (ipykernel)",
   "language": "python",
   "name": "python3"
  },
  "language_info": {
   "codemirror_mode": {
    "name": "ipython",
    "version": 3
   },
   "file_extension": ".py",
   "mimetype": "text/x-python",
   "name": "python",
   "nbconvert_exporter": "python",
   "pygments_lexer": "ipython3",
   "version": "3.8.5"
  }
 },
 "nbformat": 4,
 "nbformat_minor": 5
}
