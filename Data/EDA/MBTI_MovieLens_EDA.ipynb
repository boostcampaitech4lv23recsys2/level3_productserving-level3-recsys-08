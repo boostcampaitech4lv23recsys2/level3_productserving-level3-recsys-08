{
 "cells": [
  {
   "cell_type": "code",
   "execution_count": 195,
   "id": "31e565f0",
   "metadata": {
    "ExecuteTime": {
     "end_time": "2023-01-13T05:25:49.748508Z",
     "start_time": "2023-01-13T05:25:49.745851Z"
    }
   },
   "outputs": [],
   "source": [
    "from imdb import IMDb"
   ]
  },
  {
   "cell_type": "code",
   "execution_count": 114,
   "id": "a7627322",
   "metadata": {
    "ExecuteTime": {
     "end_time": "2023-01-13T03:25:45.808459Z",
     "start_time": "2023-01-13T03:25:45.800376Z"
    }
   },
   "outputs": [],
   "source": [
    "import pandas as pd\n",
    "from tqdm import tqdm\n",
    "import warnings\n",
    "warnings.filterwarnings('ignore')"
   ]
  },
  {
   "cell_type": "code",
   "execution_count": 2,
   "id": "13b87ca8",
   "metadata": {
    "ExecuteTime": {
     "end_time": "2023-01-13T02:15:23.998431Z",
     "start_time": "2023-01-13T02:15:23.293508Z"
    }
   },
   "outputs": [],
   "source": [
    "mbti = pd.read_csv('Personality_All_168000_rows.csv')\n",
    "\n",
    "movie = pd.read_csv('ml-25m/movies.csv')\n",
    "\n",
    "cat_dict={'https://pdb-web-static.s3.us-east-2.amazonaws.com/category_icon/cat_1.png': 'n',\n",
    " 'https://pdb-web-static.s3.us-east-2.amazonaws.com/category_icon/cat_10.png': 'n',\n",
    " 'https://pdb-web-static.s3.us-east-2.amazonaws.com/category_icon/cat_11.png': 'gaming',\n",
    " 'https://pdb-web-static.s3.us-east-2.amazonaws.com/category_icon/cat_12.png': 'literature',\n",
    " 'https://pdb-web-static.s3.us-east-2.amazonaws.com/category_icon/cat_13.png': 'theatre', # 뮤지컬\n",
    " 'https://pdb-web-static.s3.us-east-2.amazonaws.com/category_icon/cat_14.png': 'n',\n",
    " 'https://pdb-web-static.s3.us-east-2.amazonaws.com/category_icon/cat_15.png': 'n',\n",
    " 'https://pdb-web-static.s3.us-east-2.amazonaws.com/category_icon/cat_16.png': 'n',\n",
    " 'https://pdb-web-static.s3.us-east-2.amazonaws.com/category_icon/cat_17.png': 'n',\n",
    " 'https://pdb-web-static.s3.us-east-2.amazonaws.com/category_icon/cat_18.png': 'n',\n",
    " 'https://pdb-web-static.s3.us-east-2.amazonaws.com/category_icon/cat_2.png': 'tv',\n",
    " 'https://pdb-web-static.s3.us-east-2.amazonaws.com/category_icon/cat_21.png': 'n',\n",
    " 'https://pdb-web-static.s3.us-east-2.amazonaws.com/category_icon/cat_22.png': 'n',\n",
    " 'https://pdb-web-static.s3.us-east-2.amazonaws.com/category_icon/cat_26.png': 'web_comics',\n",
    " 'https://pdb-web-static.s3.us-east-2.amazonaws.com/category_icon/cat_27.png': 'superheros',\n",
    " 'https://pdb-web-static.s3.us-east-2.amazonaws.com/category_icon/cat_28.png': 'n',\n",
    " 'https://pdb-web-static.s3.us-east-2.amazonaws.com/category_icon/cat_29.png': 'n',\n",
    " 'https://pdb-web-static.s3.us-east-2.amazonaws.com/category_icon/cat_3.png': 'movies', # 영화\n",
    " 'https://pdb-web-static.s3.us-east-2.amazonaws.com/category_icon/cat_5.png': 'n',\n",
    " 'https://pdb-web-static.s3.us-east-2.amazonaws.com/category_icon/cat_7.png': 'cartoons',\n",
    " 'https://pdb-web-static.s3.us-east-2.amazonaws.com/category_icon/cat_8.png': 'anime',\n",
    " 'https://pdb-web-static.s3.us-east-2.amazonaws.com/category_icon/cat_9.png': 'comics'}\n",
    "\n",
    "mbti.category = mbti.category.map(cat_dict)"
   ]
  },
  {
   "cell_type": "code",
   "execution_count": 11,
   "id": "f71062c7",
   "metadata": {
    "ExecuteTime": {
     "end_time": "2023-01-13T02:23:18.244247Z",
     "start_time": "2023-01-13T02:23:18.231323Z"
    }
   },
   "outputs": [
    {
     "data": {
      "text/plain": [
       "n             32292\n",
       "tv            31268\n",
       "gaming        26878\n",
       "anime         23666\n",
       "movies        19833\n",
       "cartoons      13132\n",
       "literature     9653\n",
       "web_comics     6523\n",
       "superheros     2680\n",
       "theatre        1107\n",
       "comics          968\n",
       "Name: category, dtype: int64"
      ]
     },
     "execution_count": 11,
     "metadata": {},
     "output_type": "execute_result"
    }
   ],
   "source": [
    "mbti.category.value_counts()"
   ]
  },
  {
   "cell_type": "code",
   "execution_count": 17,
   "id": "ea3f274b",
   "metadata": {
    "ExecuteTime": {
     "end_time": "2023-01-13T02:28:50.076158Z",
     "start_time": "2023-01-13T02:28:50.054664Z"
    }
   },
   "outputs": [],
   "source": [
    "mv = mbti[mbti.category=='movies']"
   ]
  },
  {
   "cell_type": "markdown",
   "id": "23eac86c",
   "metadata": {},
   "source": [
    "## MBTI 데이터 영화 - 캐릭터 17003명"
   ]
  },
  {
   "cell_type": "code",
   "execution_count": 26,
   "id": "1ce2cb23",
   "metadata": {
    "ExecuteTime": {
     "end_time": "2023-01-13T02:32:47.145023Z",
     "start_time": "2023-01-13T02:32:47.119737Z"
    }
   },
   "outputs": [
    {
     "data": {
      "text/html": [
       "<div>\n",
       "<style scoped>\n",
       "    .dataframe tbody tr th:only-of-type {\n",
       "        vertical-align: middle;\n",
       "    }\n",
       "\n",
       "    .dataframe tbody tr th {\n",
       "        vertical-align: top;\n",
       "    }\n",
       "\n",
       "    .dataframe thead th {\n",
       "        text-align: right;\n",
       "    }\n",
       "</style>\n",
       "<table border=\"1\" class=\"dataframe\">\n",
       "  <thead>\n",
       "    <tr style=\"text-align: right;\">\n",
       "      <th></th>\n",
       "      <th>Character</th>\n",
       "      <th>Contents</th>\n",
       "      <th>Votes</th>\n",
       "      <th>MBTI</th>\n",
       "      <th>Enneagram</th>\n",
       "      <th>category</th>\n",
       "      <th>img_src</th>\n",
       "      <th>Page</th>\n",
       "    </tr>\n",
       "  </thead>\n",
       "  <tbody>\n",
       "    <tr>\n",
       "      <th>14</th>\n",
       "      <td>Moana Waialiki</td>\n",
       "      <td>Moana (2016)</td>\n",
       "      <td>2.7k/477</td>\n",
       "      <td>ENFJ</td>\n",
       "      <td>7w6</td>\n",
       "      <td>movies</td>\n",
       "      <td>https://static1.personality-database.com/profi...</td>\n",
       "      <td>1</td>\n",
       "    </tr>\n",
       "    <tr>\n",
       "      <th>16</th>\n",
       "      <td>Joy</td>\n",
       "      <td>Inside Out (2015)</td>\n",
       "      <td>2.5k/358</td>\n",
       "      <td>ENFJ</td>\n",
       "      <td>7w6</td>\n",
       "      <td>movies</td>\n",
       "      <td>https://static1.personality-database.com/profi...</td>\n",
       "      <td>1</td>\n",
       "    </tr>\n",
       "    <tr>\n",
       "      <th>21</th>\n",
       "      <td>Judy Hopps</td>\n",
       "      <td>Zootopia (2016)</td>\n",
       "      <td>2.3k/350</td>\n",
       "      <td>ENFJ</td>\n",
       "      <td>1w2</td>\n",
       "      <td>movies</td>\n",
       "      <td>https://static1.personality-database.com/profi...</td>\n",
       "      <td>1</td>\n",
       "    </tr>\n",
       "    <tr>\n",
       "      <th>33</th>\n",
       "      <td>Elle Woods</td>\n",
       "      <td>Legally Blonde (2001)</td>\n",
       "      <td>1.9k/227</td>\n",
       "      <td>ENFJ</td>\n",
       "      <td>3w2</td>\n",
       "      <td>movies</td>\n",
       "      <td>https://static1.personality-database.com/profi...</td>\n",
       "      <td>1</td>\n",
       "    </tr>\n",
       "    <tr>\n",
       "      <th>37</th>\n",
       "      <td>Neil Perry</td>\n",
       "      <td>Dead Poets Society (1989)</td>\n",
       "      <td>1.7k/222</td>\n",
       "      <td>ENFJ</td>\n",
       "      <td>4w3</td>\n",
       "      <td>movies</td>\n",
       "      <td>https://static1.personality-database.com/profi...</td>\n",
       "      <td>1</td>\n",
       "    </tr>\n",
       "    <tr>\n",
       "      <th>...</th>\n",
       "      <td>...</td>\n",
       "      <td>...</td>\n",
       "      <td>...</td>\n",
       "      <td>...</td>\n",
       "      <td>...</td>\n",
       "      <td>...</td>\n",
       "      <td>...</td>\n",
       "      <td>...</td>\n",
       "    </tr>\n",
       "    <tr>\n",
       "      <th>167965</th>\n",
       "      <td>Berkeley Cole</td>\n",
       "      <td>Out of Africa (1985)</td>\n",
       "      <td>6/0</td>\n",
       "      <td>INFJ</td>\n",
       "      <td>1w9</td>\n",
       "      <td>movies</td>\n",
       "      <td>https://static1.personality-database.com/profi...</td>\n",
       "      <td>210</td>\n",
       "    </tr>\n",
       "    <tr>\n",
       "      <th>167972</th>\n",
       "      <td>The Girl</td>\n",
       "      <td>A Girl Walks Home Alone at Night (2014)</td>\n",
       "      <td>6/0</td>\n",
       "      <td>INFJ</td>\n",
       "      <td>4w5</td>\n",
       "      <td>movies</td>\n",
       "      <td>https://static1.personality-database.com/profi...</td>\n",
       "      <td>210</td>\n",
       "    </tr>\n",
       "    <tr>\n",
       "      <th>167975</th>\n",
       "      <td>Urzah</td>\n",
       "      <td>The Dark Crystal (1982)</td>\n",
       "      <td>6/0</td>\n",
       "      <td>INFJ</td>\n",
       "      <td>9w1</td>\n",
       "      <td>movies</td>\n",
       "      <td>https://static1.personality-database.com/profi...</td>\n",
       "      <td>210</td>\n",
       "    </tr>\n",
       "    <tr>\n",
       "      <th>167982</th>\n",
       "      <td>Muhsin Bey</td>\n",
       "      <td>Muhsin Bey</td>\n",
       "      <td>6/0</td>\n",
       "      <td>INFJ</td>\n",
       "      <td>1w2</td>\n",
       "      <td>movies</td>\n",
       "      <td>https://static1.personality-database.com/profi...</td>\n",
       "      <td>210</td>\n",
       "    </tr>\n",
       "    <tr>\n",
       "      <th>167984</th>\n",
       "      <td>Dr. Leonora Orantes</td>\n",
       "      <td>Contagion (2011)</td>\n",
       "      <td>6/0</td>\n",
       "      <td>INFJ</td>\n",
       "      <td>9w1</td>\n",
       "      <td>movies</td>\n",
       "      <td>https://static1.personality-database.com/profi...</td>\n",
       "      <td>210</td>\n",
       "    </tr>\n",
       "  </tbody>\n",
       "</table>\n",
       "<p>17003 rows × 8 columns</p>\n",
       "</div>"
      ],
      "text/plain": [
       "                  Character                                 Contents  \\\n",
       "14           Moana Waialiki                             Moana (2016)   \n",
       "16                      Joy                        Inside Out (2015)   \n",
       "21               Judy Hopps                          Zootopia (2016)   \n",
       "33               Elle Woods                    Legally Blonde (2001)   \n",
       "37               Neil Perry                Dead Poets Society (1989)   \n",
       "...                     ...                                      ...   \n",
       "167965        Berkeley Cole                     Out of Africa (1985)   \n",
       "167972             The Girl  A Girl Walks Home Alone at Night (2014)   \n",
       "167975                Urzah                  The Dark Crystal (1982)   \n",
       "167982           Muhsin Bey                               Muhsin Bey   \n",
       "167984  Dr. Leonora Orantes                         Contagion (2011)   \n",
       "\n",
       "           Votes  MBTI Enneagram category  \\\n",
       "14      2.7k/477  ENFJ       7w6   movies   \n",
       "16      2.5k/358  ENFJ       7w6   movies   \n",
       "21      2.3k/350  ENFJ       1w2   movies   \n",
       "33      1.9k/227  ENFJ       3w2   movies   \n",
       "37      1.7k/222  ENFJ       4w3   movies   \n",
       "...          ...   ...       ...      ...   \n",
       "167965       6/0  INFJ       1w9   movies   \n",
       "167972       6/0  INFJ       4w5   movies   \n",
       "167975       6/0  INFJ       9w1   movies   \n",
       "167982       6/0  INFJ       1w2   movies   \n",
       "167984       6/0  INFJ       9w1   movies   \n",
       "\n",
       "                                                  img_src  Page  \n",
       "14      https://static1.personality-database.com/profi...     1  \n",
       "16      https://static1.personality-database.com/profi...     1  \n",
       "21      https://static1.personality-database.com/profi...     1  \n",
       "33      https://static1.personality-database.com/profi...     1  \n",
       "37      https://static1.personality-database.com/profi...     1  \n",
       "...                                                   ...   ...  \n",
       "167965  https://static1.personality-database.com/profi...   210  \n",
       "167972  https://static1.personality-database.com/profi...   210  \n",
       "167975  https://static1.personality-database.com/profi...   210  \n",
       "167982  https://static1.personality-database.com/profi...   210  \n",
       "167984  https://static1.personality-database.com/profi...   210  \n",
       "\n",
       "[17003 rows x 8 columns]"
      ]
     },
     "execution_count": 26,
     "metadata": {},
     "output_type": "execute_result"
    }
   ],
   "source": [
    "mv2 = mv.drop_duplicates(subset=['Character','Contents'])\n",
    "mv2"
   ]
  },
  {
   "cell_type": "markdown",
   "id": "d2ffa793",
   "metadata": {},
   "source": [
    "### 17003명의 MBTI 분포"
   ]
  },
  {
   "cell_type": "code",
   "execution_count": 27,
   "id": "5bd610cf",
   "metadata": {
    "ExecuteTime": {
     "end_time": "2023-01-13T02:35:52.277567Z",
     "start_time": "2023-01-13T02:35:52.270901Z"
    }
   },
   "outputs": [
    {
     "data": {
      "text/plain": [
       "ESTP    1371\n",
       "ISFP    1249\n",
       "ESFP    1226\n",
       "ESTJ    1167\n",
       "ISTJ    1121\n",
       "ISFJ    1074\n",
       "INFP    1061\n",
       "ISTP    1048\n",
       "ESFJ    1005\n",
       "ENTJ     998\n",
       "ENTP     972\n",
       "ENFP     947\n",
       "INFJ     897\n",
       "ENFJ     854\n",
       "INTJ     806\n",
       "INTP     750\n",
       "XXXX     457\n",
       "Name: MBTI, dtype: int64"
      ]
     },
     "execution_count": 27,
     "metadata": {},
     "output_type": "execute_result"
    }
   ],
   "source": [
    "mv2.MBTI.value_counts()"
   ]
  },
  {
   "cell_type": "markdown",
   "id": "538178d6",
   "metadata": {},
   "source": [
    "### 17003명의 영화 개수 -> 4291개"
   ]
  },
  {
   "cell_type": "code",
   "execution_count": 48,
   "id": "2414aa3c",
   "metadata": {
    "ExecuteTime": {
     "end_time": "2023-01-13T02:55:12.689226Z",
     "start_time": "2023-01-13T02:55:12.678199Z"
    }
   },
   "outputs": [
    {
     "data": {
      "text/plain": [
       "Star Wars                                179\n",
       "Harry Potter / Wizarding World Films     127\n",
       "James Bond Film Series                    88\n",
       "Toy Story (Franchise)                     66\n",
       "Transformers (Bayverse)                   55\n",
       "                                        ... \n",
       "Antiviral (2012)                           1\n",
       "La solitudine dei numeri primi (2010)      1\n",
       "Every Breath You Take                      1\n",
       "Hogfather (2006)                           1\n",
       "Muhsin Bey                                 1\n",
       "Name: Contents, Length: 4291, dtype: int64"
      ]
     },
     "execution_count": 48,
     "metadata": {},
     "output_type": "execute_result"
    }
   ],
   "source": [
    "mv2.Contents.value_counts()"
   ]
  },
  {
   "cell_type": "markdown",
   "id": "8a52726b",
   "metadata": {},
   "source": [
    "### 등장인물이 특히 많은 Star Wars, Harry Potter는 시리즈물임을 확인"
   ]
  },
  {
   "cell_type": "code",
   "execution_count": 34,
   "id": "ffd0d1cd",
   "metadata": {
    "ExecuteTime": {
     "end_time": "2023-01-13T02:40:16.948654Z",
     "start_time": "2023-01-13T02:40:16.859619Z"
    }
   },
   "outputs": [
    {
     "data": {
      "text/html": [
       "<div>\n",
       "<style scoped>\n",
       "    .dataframe tbody tr th:only-of-type {\n",
       "        vertical-align: middle;\n",
       "    }\n",
       "\n",
       "    .dataframe tbody tr th {\n",
       "        vertical-align: top;\n",
       "    }\n",
       "\n",
       "    .dataframe thead th {\n",
       "        text-align: right;\n",
       "    }\n",
       "</style>\n",
       "<table border=\"1\" class=\"dataframe\">\n",
       "  <thead>\n",
       "    <tr style=\"text-align: right;\">\n",
       "      <th></th>\n",
       "      <th>movieId</th>\n",
       "      <th>title</th>\n",
       "      <th>genres</th>\n",
       "    </tr>\n",
       "  </thead>\n",
       "  <tbody>\n",
       "    <tr>\n",
       "      <th>257</th>\n",
       "      <td>260</td>\n",
       "      <td>Star Wars: Episode IV - A New Hope (1977)</td>\n",
       "      <td>Action|Adventure|Sci-Fi</td>\n",
       "    </tr>\n",
       "    <tr>\n",
       "      <th>1166</th>\n",
       "      <td>1196</td>\n",
       "      <td>Star Wars: Episode V - The Empire Strikes Back...</td>\n",
       "      <td>Action|Adventure|Sci-Fi</td>\n",
       "    </tr>\n",
       "    <tr>\n",
       "      <th>1179</th>\n",
       "      <td>1210</td>\n",
       "      <td>Star Wars: Episode VI - Return of the Jedi (1983)</td>\n",
       "      <td>Action|Adventure|Sci-Fi</td>\n",
       "    </tr>\n",
       "    <tr>\n",
       "      <th>2537</th>\n",
       "      <td>2628</td>\n",
       "      <td>Star Wars: Episode I - The Phantom Menace (1999)</td>\n",
       "      <td>Action|Adventure|Sci-Fi</td>\n",
       "    </tr>\n",
       "    <tr>\n",
       "      <th>5270</th>\n",
       "      <td>5378</td>\n",
       "      <td>Star Wars: Episode II - Attack of the Clones (...</td>\n",
       "      <td>Action|Adventure|Sci-Fi|IMAX</td>\n",
       "    </tr>\n",
       "    <tr>\n",
       "      <th>9952</th>\n",
       "      <td>33493</td>\n",
       "      <td>Star Wars: Episode III - Revenge of the Sith (...</td>\n",
       "      <td>Action|Adventure|Sci-Fi</td>\n",
       "    </tr>\n",
       "    <tr>\n",
       "      <th>12593</th>\n",
       "      <td>61160</td>\n",
       "      <td>Star Wars: The Clone Wars (2008)</td>\n",
       "      <td>Action|Adventure|Animation|Sci-Fi</td>\n",
       "    </tr>\n",
       "    <tr>\n",
       "      <th>21250</th>\n",
       "      <td>109713</td>\n",
       "      <td>Star Wars: Threads of Destiny (2014)</td>\n",
       "      <td>Action|Adventure|Sci-Fi</td>\n",
       "    </tr>\n",
       "    <tr>\n",
       "      <th>25055</th>\n",
       "      <td>122886</td>\n",
       "      <td>Star Wars: Episode VII - The Force Awakens (2015)</td>\n",
       "      <td>Action|Adventure|Fantasy|Sci-Fi|IMAX</td>\n",
       "    </tr>\n",
       "    <tr>\n",
       "      <th>49883</th>\n",
       "      <td>179819</td>\n",
       "      <td>Star Wars: The Last Jedi (2017)</td>\n",
       "      <td>Action|Adventure|Fantasy|Sci-Fi</td>\n",
       "    </tr>\n",
       "    <tr>\n",
       "      <th>51308</th>\n",
       "      <td>182857</td>\n",
       "      <td>Star Wars: The Legacy Revealed (2007)</td>\n",
       "      <td>Documentary</td>\n",
       "    </tr>\n",
       "    <tr>\n",
       "      <th>52111</th>\n",
       "      <td>184593</td>\n",
       "      <td>Star Wars Downunder (2013)</td>\n",
       "      <td>Sci-Fi</td>\n",
       "    </tr>\n",
       "    <tr>\n",
       "      <th>56918</th>\n",
       "      <td>195217</td>\n",
       "      <td>Star Wars: Dresca</td>\n",
       "      <td>Sci-Fi</td>\n",
       "    </tr>\n",
       "  </tbody>\n",
       "</table>\n",
       "</div>"
      ],
      "text/plain": [
       "       movieId                                              title  \\\n",
       "257        260          Star Wars: Episode IV - A New Hope (1977)   \n",
       "1166      1196  Star Wars: Episode V - The Empire Strikes Back...   \n",
       "1179      1210  Star Wars: Episode VI - Return of the Jedi (1983)   \n",
       "2537      2628   Star Wars: Episode I - The Phantom Menace (1999)   \n",
       "5270      5378  Star Wars: Episode II - Attack of the Clones (...   \n",
       "9952     33493  Star Wars: Episode III - Revenge of the Sith (...   \n",
       "12593    61160                   Star Wars: The Clone Wars (2008)   \n",
       "21250   109713               Star Wars: Threads of Destiny (2014)   \n",
       "25055   122886  Star Wars: Episode VII - The Force Awakens (2015)   \n",
       "49883   179819                    Star Wars: The Last Jedi (2017)   \n",
       "51308   182857              Star Wars: The Legacy Revealed (2007)   \n",
       "52111   184593                         Star Wars Downunder (2013)   \n",
       "56918   195217                                  Star Wars: Dresca   \n",
       "\n",
       "                                     genres  \n",
       "257                 Action|Adventure|Sci-Fi  \n",
       "1166                Action|Adventure|Sci-Fi  \n",
       "1179                Action|Adventure|Sci-Fi  \n",
       "2537                Action|Adventure|Sci-Fi  \n",
       "5270           Action|Adventure|Sci-Fi|IMAX  \n",
       "9952                Action|Adventure|Sci-Fi  \n",
       "12593     Action|Adventure|Animation|Sci-Fi  \n",
       "21250               Action|Adventure|Sci-Fi  \n",
       "25055  Action|Adventure|Fantasy|Sci-Fi|IMAX  \n",
       "49883       Action|Adventure|Fantasy|Sci-Fi  \n",
       "51308                           Documentary  \n",
       "52111                                Sci-Fi  \n",
       "56918                                Sci-Fi  "
      ]
     },
     "execution_count": 34,
     "metadata": {},
     "output_type": "execute_result"
    }
   ],
   "source": [
    "movie[(movie.title.str.contains(\"star wars\",case=False)) & (movie.title.str.startswith(\"Star\"))]"
   ]
  },
  {
   "cell_type": "code",
   "execution_count": 41,
   "id": "2b9f0ff1",
   "metadata": {
    "ExecuteTime": {
     "end_time": "2023-01-13T02:47:48.300394Z",
     "start_time": "2023-01-13T02:47:48.269006Z"
    }
   },
   "outputs": [
    {
     "data": {
      "text/html": [
       "<div>\n",
       "<style scoped>\n",
       "    .dataframe tbody tr th:only-of-type {\n",
       "        vertical-align: middle;\n",
       "    }\n",
       "\n",
       "    .dataframe tbody tr th {\n",
       "        vertical-align: top;\n",
       "    }\n",
       "\n",
       "    .dataframe thead th {\n",
       "        text-align: right;\n",
       "    }\n",
       "</style>\n",
       "<table border=\"1\" class=\"dataframe\">\n",
       "  <thead>\n",
       "    <tr style=\"text-align: right;\">\n",
       "      <th></th>\n",
       "      <th>movieId</th>\n",
       "      <th>title</th>\n",
       "      <th>genres</th>\n",
       "    </tr>\n",
       "  </thead>\n",
       "  <tbody>\n",
       "    <tr>\n",
       "      <th>4790</th>\n",
       "      <td>4896</td>\n",
       "      <td>Harry Potter and the Sorcerer's Stone (a.k.a. ...</td>\n",
       "      <td>Adventure|Children|Fantasy</td>\n",
       "    </tr>\n",
       "    <tr>\n",
       "      <th>5704</th>\n",
       "      <td>5816</td>\n",
       "      <td>Harry Potter and the Chamber of Secrets (2002)</td>\n",
       "      <td>Adventure|Fantasy</td>\n",
       "    </tr>\n",
       "    <tr>\n",
       "      <th>7742</th>\n",
       "      <td>8368</td>\n",
       "      <td>Harry Potter and the Prisoner of Azkaban (2004)</td>\n",
       "      <td>Adventure|Fantasy|IMAX</td>\n",
       "    </tr>\n",
       "    <tr>\n",
       "      <th>10408</th>\n",
       "      <td>40815</td>\n",
       "      <td>Harry Potter and the Goblet of Fire (2005)</td>\n",
       "      <td>Adventure|Fantasy|Thriller|IMAX</td>\n",
       "    </tr>\n",
       "    <tr>\n",
       "      <th>11700</th>\n",
       "      <td>54001</td>\n",
       "      <td>Harry Potter and the Order of the Phoenix (2007)</td>\n",
       "      <td>Adventure|Drama|Fantasy|IMAX</td>\n",
       "    </tr>\n",
       "    <tr>\n",
       "      <th>13512</th>\n",
       "      <td>69844</td>\n",
       "      <td>Harry Potter and the Half-Blood Prince (2009)</td>\n",
       "      <td>Adventure|Fantasy|Mystery|Romance|IMAX</td>\n",
       "    </tr>\n",
       "    <tr>\n",
       "      <th>15538</th>\n",
       "      <td>81834</td>\n",
       "      <td>Harry Potter and the Deathly Hallows: Part 1 (...</td>\n",
       "      <td>Action|Adventure|Fantasy|IMAX</td>\n",
       "    </tr>\n",
       "    <tr>\n",
       "      <th>16718</th>\n",
       "      <td>88125</td>\n",
       "      <td>Harry Potter and the Deathly Hallows: Part 2 (...</td>\n",
       "      <td>Action|Adventure|Drama|Fantasy|Mystery|IMAX</td>\n",
       "    </tr>\n",
       "  </tbody>\n",
       "</table>\n",
       "</div>"
      ],
      "text/plain": [
       "       movieId                                              title  \\\n",
       "4790      4896  Harry Potter and the Sorcerer's Stone (a.k.a. ...   \n",
       "5704      5816     Harry Potter and the Chamber of Secrets (2002)   \n",
       "7742      8368    Harry Potter and the Prisoner of Azkaban (2004)   \n",
       "10408    40815         Harry Potter and the Goblet of Fire (2005)   \n",
       "11700    54001   Harry Potter and the Order of the Phoenix (2007)   \n",
       "13512    69844      Harry Potter and the Half-Blood Prince (2009)   \n",
       "15538    81834  Harry Potter and the Deathly Hallows: Part 1 (...   \n",
       "16718    88125  Harry Potter and the Deathly Hallows: Part 2 (...   \n",
       "\n",
       "                                            genres  \n",
       "4790                    Adventure|Children|Fantasy  \n",
       "5704                             Adventure|Fantasy  \n",
       "7742                        Adventure|Fantasy|IMAX  \n",
       "10408              Adventure|Fantasy|Thriller|IMAX  \n",
       "11700                 Adventure|Drama|Fantasy|IMAX  \n",
       "13512       Adventure|Fantasy|Mystery|Romance|IMAX  \n",
       "15538                Action|Adventure|Fantasy|IMAX  \n",
       "16718  Action|Adventure|Drama|Fantasy|Mystery|IMAX  "
      ]
     },
     "execution_count": 41,
     "metadata": {},
     "output_type": "execute_result"
    }
   ],
   "source": [
    "movie[movie.title.str.startswith(\"Harry Potter\")]"
   ]
  },
  {
   "cell_type": "markdown",
   "id": "4074f846",
   "metadata": {},
   "source": [
    "## mvti 영화와 movie lens 영화 연결"
   ]
  },
  {
   "cell_type": "code",
   "execution_count": 196,
   "id": "90d38c63",
   "metadata": {
    "ExecuteTime": {
     "end_time": "2023-01-13T05:26:52.058299Z",
     "start_time": "2023-01-13T05:26:52.049711Z"
    }
   },
   "outputs": [],
   "source": [
    "mbti_mv = mv2.Contents.value_counts().reset_index()\n",
    "mbti_mv.columns=['title','character_num']"
   ]
  },
  {
   "cell_type": "code",
   "execution_count": 197,
   "id": "dce8b95d",
   "metadata": {
    "ExecuteTime": {
     "end_time": "2023-01-13T05:26:52.660324Z",
     "start_time": "2023-01-13T05:26:52.649870Z"
    }
   },
   "outputs": [
    {
     "data": {
      "text/html": [
       "<div>\n",
       "<style scoped>\n",
       "    .dataframe tbody tr th:only-of-type {\n",
       "        vertical-align: middle;\n",
       "    }\n",
       "\n",
       "    .dataframe tbody tr th {\n",
       "        vertical-align: top;\n",
       "    }\n",
       "\n",
       "    .dataframe thead th {\n",
       "        text-align: right;\n",
       "    }\n",
       "</style>\n",
       "<table border=\"1\" class=\"dataframe\">\n",
       "  <thead>\n",
       "    <tr style=\"text-align: right;\">\n",
       "      <th></th>\n",
       "      <th>title</th>\n",
       "      <th>character_num</th>\n",
       "    </tr>\n",
       "  </thead>\n",
       "  <tbody>\n",
       "    <tr>\n",
       "      <th>0</th>\n",
       "      <td>Star Wars</td>\n",
       "      <td>179</td>\n",
       "    </tr>\n",
       "    <tr>\n",
       "      <th>1</th>\n",
       "      <td>Harry Potter / Wizarding World Films</td>\n",
       "      <td>127</td>\n",
       "    </tr>\n",
       "    <tr>\n",
       "      <th>2</th>\n",
       "      <td>James Bond Film Series</td>\n",
       "      <td>88</td>\n",
       "    </tr>\n",
       "    <tr>\n",
       "      <th>3</th>\n",
       "      <td>Toy Story (Franchise)</td>\n",
       "      <td>66</td>\n",
       "    </tr>\n",
       "    <tr>\n",
       "      <th>4</th>\n",
       "      <td>Transformers (Bayverse)</td>\n",
       "      <td>55</td>\n",
       "    </tr>\n",
       "    <tr>\n",
       "      <th>...</th>\n",
       "      <td>...</td>\n",
       "      <td>...</td>\n",
       "    </tr>\n",
       "    <tr>\n",
       "      <th>4286</th>\n",
       "      <td>Antiviral (2012)</td>\n",
       "      <td>1</td>\n",
       "    </tr>\n",
       "    <tr>\n",
       "      <th>4287</th>\n",
       "      <td>La solitudine dei numeri primi (2010)</td>\n",
       "      <td>1</td>\n",
       "    </tr>\n",
       "    <tr>\n",
       "      <th>4288</th>\n",
       "      <td>Every Breath You Take</td>\n",
       "      <td>1</td>\n",
       "    </tr>\n",
       "    <tr>\n",
       "      <th>4289</th>\n",
       "      <td>Hogfather (2006)</td>\n",
       "      <td>1</td>\n",
       "    </tr>\n",
       "    <tr>\n",
       "      <th>4290</th>\n",
       "      <td>Muhsin Bey</td>\n",
       "      <td>1</td>\n",
       "    </tr>\n",
       "  </tbody>\n",
       "</table>\n",
       "<p>4291 rows × 2 columns</p>\n",
       "</div>"
      ],
      "text/plain": [
       "                                      title  character_num\n",
       "0                                 Star Wars            179\n",
       "1      Harry Potter / Wizarding World Films            127\n",
       "2                    James Bond Film Series             88\n",
       "3                     Toy Story (Franchise)             66\n",
       "4                   Transformers (Bayverse)             55\n",
       "...                                     ...            ...\n",
       "4286                       Antiviral (2012)              1\n",
       "4287  La solitudine dei numeri primi (2010)              1\n",
       "4288                  Every Breath You Take              1\n",
       "4289                       Hogfather (2006)              1\n",
       "4290                             Muhsin Bey              1\n",
       "\n",
       "[4291 rows x 2 columns]"
      ]
     },
     "execution_count": 197,
     "metadata": {},
     "output_type": "execute_result"
    }
   ],
   "source": [
    "mbti_mv"
   ]
  },
  {
   "cell_type": "markdown",
   "id": "a2392ab9",
   "metadata": {},
   "source": [
    "### 특수문자 처리"
   ]
  },
  {
   "cell_type": "code",
   "execution_count": 92,
   "id": "faea3cf0",
   "metadata": {
    "ExecuteTime": {
     "end_time": "2023-01-13T03:13:49.219680Z",
     "start_time": "2023-01-13T03:13:49.205675Z"
    },
    "scrolled": true
   },
   "outputs": [
    {
     "data": {
      "text/html": [
       "<div>\n",
       "<style scoped>\n",
       "    .dataframe tbody tr th:only-of-type {\n",
       "        vertical-align: middle;\n",
       "    }\n",
       "\n",
       "    .dataframe tbody tr th {\n",
       "        vertical-align: top;\n",
       "    }\n",
       "\n",
       "    .dataframe thead th {\n",
       "        text-align: right;\n",
       "    }\n",
       "</style>\n",
       "<table border=\"1\" class=\"dataframe\">\n",
       "  <thead>\n",
       "    <tr style=\"text-align: right;\">\n",
       "      <th></th>\n",
       "      <th>title</th>\n",
       "      <th>character_num</th>\n",
       "    </tr>\n",
       "  </thead>\n",
       "  <tbody>\n",
       "    <tr>\n",
       "      <th>1</th>\n",
       "      <td>Harry Potter / Wizarding World Films</td>\n",
       "      <td>127</td>\n",
       "    </tr>\n",
       "    <tr>\n",
       "      <th>8</th>\n",
       "      <td>Jurassic Park / Jurassic World (Film Franchise)</td>\n",
       "      <td>46</td>\n",
       "    </tr>\n",
       "    <tr>\n",
       "      <th>64</th>\n",
       "      <td>Army of the Dead / Army of Thieves (2021)</td>\n",
       "      <td>18</td>\n",
       "    </tr>\n",
       "    <tr>\n",
       "      <th>90</th>\n",
       "      <td>Alice in Wonderland / Through the Looking Glas...</td>\n",
       "      <td>16</td>\n",
       "    </tr>\n",
       "    <tr>\n",
       "      <th>102</th>\n",
       "      <td>Hot Wheels World Race / AcceleRacers</td>\n",
       "      <td>15</td>\n",
       "    </tr>\n",
       "    <tr>\n",
       "      <th>474</th>\n",
       "      <td>Leap! / Ballerina (2016)</td>\n",
       "      <td>8</td>\n",
       "    </tr>\n",
       "    <tr>\n",
       "      <th>660</th>\n",
       "      <td>X+Y / A Brilliant Young Mind (2014)</td>\n",
       "      <td>6</td>\n",
       "    </tr>\n",
       "    <tr>\n",
       "      <th>739</th>\n",
       "      <td>O Menino que Matou Meus Pais / A Menina que Ma...</td>\n",
       "      <td>6</td>\n",
       "    </tr>\n",
       "    <tr>\n",
       "      <th>764</th>\n",
       "      <td>Meet the Parents (2000) / Little Fockers (2010)</td>\n",
       "      <td>6</td>\n",
       "    </tr>\n",
       "    <tr>\n",
       "      <th>811</th>\n",
       "      <td>The Platform / El Hoyo (2020)</td>\n",
       "      <td>6</td>\n",
       "    </tr>\n",
       "    <tr>\n",
       "      <th>830</th>\n",
       "      <td>Ford v Ferrari / Le Mans '66 (2019)</td>\n",
       "      <td>5</td>\n",
       "    </tr>\n",
       "    <tr>\n",
       "      <th>893</th>\n",
       "      <td>12 Monkeys / Twelve Monkeys (1995)</td>\n",
       "      <td>5</td>\n",
       "    </tr>\n",
       "    <tr>\n",
       "      <th>1434</th>\n",
       "      <td>Amores Perros / Love's a Bitch (2000)</td>\n",
       "      <td>4</td>\n",
       "    </tr>\n",
       "    <tr>\n",
       "      <th>1605</th>\n",
       "      <td>Raw/Grave (2016)</td>\n",
       "      <td>3</td>\n",
       "    </tr>\n",
       "    <tr>\n",
       "      <th>1640</th>\n",
       "      <td>They/Them</td>\n",
       "      <td>3</td>\n",
       "    </tr>\n",
       "    <tr>\n",
       "      <th>1670</th>\n",
       "      <td>Tesis / Thesis (1996)</td>\n",
       "      <td>3</td>\n",
       "    </tr>\n",
       "    <tr>\n",
       "      <th>1689</th>\n",
       "      <td>Duck, You Sucker! / A Fistful of Dynamite / On...</td>\n",
       "      <td>3</td>\n",
       "    </tr>\n",
       "    <tr>\n",
       "      <th>1829</th>\n",
       "      <td>Show Me Love / Fucking Åmål (1998)</td>\n",
       "      <td>3</td>\n",
       "    </tr>\n",
       "    <tr>\n",
       "      <th>1856</th>\n",
       "      <td>50/50 (2011)</td>\n",
       "      <td>3</td>\n",
       "    </tr>\n",
       "    <tr>\n",
       "      <th>2084</th>\n",
       "      <td>Journey to the Center of the Earth / Journey 2...</td>\n",
       "      <td>3</td>\n",
       "    </tr>\n",
       "    <tr>\n",
       "      <th>2467</th>\n",
       "      <td>Ondskan / Evil (2003)</td>\n",
       "      <td>2</td>\n",
       "    </tr>\n",
       "    <tr>\n",
       "      <th>2812</th>\n",
       "      <td>My Teacher / Sensei! Suki ni Natte mo Ii Desuk...</td>\n",
       "      <td>2</td>\n",
       "    </tr>\n",
       "    <tr>\n",
       "      <th>2939</th>\n",
       "      <td>Lude godine / Žikina dinastija</td>\n",
       "      <td>2</td>\n",
       "    </tr>\n",
       "    <tr>\n",
       "      <th>3015</th>\n",
       "      <td>Brat / Brother (1997)</td>\n",
       "      <td>2</td>\n",
       "    </tr>\n",
       "    <tr>\n",
       "      <th>3048</th>\n",
       "      <td>Face/Off (1997)</td>\n",
       "      <td>2</td>\n",
       "    </tr>\n",
       "    <tr>\n",
       "      <th>3168</th>\n",
       "      <td>Fate/Grand Order</td>\n",
       "      <td>1</td>\n",
       "    </tr>\n",
       "    <tr>\n",
       "      <th>3208</th>\n",
       "      <td>Metalhead/Málmhaus (2013)</td>\n",
       "      <td>1</td>\n",
       "    </tr>\n",
       "    <tr>\n",
       "      <th>3262</th>\n",
       "      <td>V/H/S</td>\n",
       "      <td>1</td>\n",
       "    </tr>\n",
       "    <tr>\n",
       "      <th>3288</th>\n",
       "      <td>Four Christmases/Four Holidays (2008)</td>\n",
       "      <td>1</td>\n",
       "    </tr>\n",
       "    <tr>\n",
       "      <th>3348</th>\n",
       "      <td>My Girl / Fan Chan (2003)</td>\n",
       "      <td>1</td>\n",
       "    </tr>\n",
       "    <tr>\n",
       "      <th>3357</th>\n",
       "      <td>07/27/1978</td>\n",
       "      <td>1</td>\n",
       "    </tr>\n",
       "    <tr>\n",
       "      <th>3472</th>\n",
       "      <td>Vozvrashchenie / The Return (2003)</td>\n",
       "      <td>1</td>\n",
       "    </tr>\n",
       "    <tr>\n",
       "      <th>3553</th>\n",
       "      <td>Bara no Sōretsu / Funeral Parade of Roses (1969)</td>\n",
       "      <td>1</td>\n",
       "    </tr>\n",
       "    <tr>\n",
       "      <th>3565</th>\n",
       "      <td>Braindead/Dead Alive (1992)</td>\n",
       "      <td>1</td>\n",
       "    </tr>\n",
       "    <tr>\n",
       "      <th>3573</th>\n",
       "      <td>8 1/2</td>\n",
       "      <td>1</td>\n",
       "    </tr>\n",
       "    <tr>\n",
       "      <th>3812</th>\n",
       "      <td>Look Who's Back/Er ist wieder da (2015)</td>\n",
       "      <td>1</td>\n",
       "    </tr>\n",
       "    <tr>\n",
       "      <th>4068</th>\n",
       "      <td>Diecisiete / Seventeen (2019)</td>\n",
       "      <td>1</td>\n",
       "    </tr>\n",
       "    <tr>\n",
       "      <th>4071</th>\n",
       "      <td>The Perfect Catch / Fever Pitch ( 2005)</td>\n",
       "      <td>1</td>\n",
       "    </tr>\n",
       "    <tr>\n",
       "      <th>4201</th>\n",
       "      <td>Il mercenario / The Mercenary (1968)</td>\n",
       "      <td>1</td>\n",
       "    </tr>\n",
       "    <tr>\n",
       "      <th>4220</th>\n",
       "      <td>Union of salvation / Союз спасения (2019)</td>\n",
       "      <td>1</td>\n",
       "    </tr>\n",
       "    <tr>\n",
       "      <th>4275</th>\n",
       "      <td>Stormbreaker / Alex Rider: Stormbreaker (2006)</td>\n",
       "      <td>1</td>\n",
       "    </tr>\n",
       "  </tbody>\n",
       "</table>\n",
       "</div>"
      ],
      "text/plain": [
       "                                                  title  character_num\n",
       "1                  Harry Potter / Wizarding World Films            127\n",
       "8       Jurassic Park / Jurassic World (Film Franchise)             46\n",
       "64            Army of the Dead / Army of Thieves (2021)             18\n",
       "90    Alice in Wonderland / Through the Looking Glas...             16\n",
       "102                Hot Wheels World Race / AcceleRacers             15\n",
       "474                            Leap! / Ballerina (2016)              8\n",
       "660                 X+Y / A Brilliant Young Mind (2014)              6\n",
       "739   O Menino que Matou Meus Pais / A Menina que Ma...              6\n",
       "764     Meet the Parents (2000) / Little Fockers (2010)              6\n",
       "811                       The Platform / El Hoyo (2020)              6\n",
       "830                 Ford v Ferrari / Le Mans '66 (2019)              5\n",
       "893                  12 Monkeys / Twelve Monkeys (1995)              5\n",
       "1434              Amores Perros / Love's a Bitch (2000)              4\n",
       "1605                                   Raw/Grave (2016)              3\n",
       "1640                                          They/Them              3\n",
       "1670                              Tesis / Thesis (1996)              3\n",
       "1689  Duck, You Sucker! / A Fistful of Dynamite / On...              3\n",
       "1829                 Show Me Love / Fucking Åmål (1998)              3\n",
       "1856                                       50/50 (2011)              3\n",
       "2084  Journey to the Center of the Earth / Journey 2...              3\n",
       "2467                              Ondskan / Evil (2003)              2\n",
       "2812  My Teacher / Sensei! Suki ni Natte mo Ii Desuk...              2\n",
       "2939                     Lude godine / Žikina dinastija              2\n",
       "3015                              Brat / Brother (1997)              2\n",
       "3048                                    Face/Off (1997)              2\n",
       "3168                                   Fate/Grand Order              1\n",
       "3208                          Metalhead/Málmhaus (2013)              1\n",
       "3262                                              V/H/S              1\n",
       "3288              Four Christmases/Four Holidays (2008)              1\n",
       "3348                          My Girl / Fan Chan (2003)              1\n",
       "3357                                         07/27/1978              1\n",
       "3472                 Vozvrashchenie / The Return (2003)              1\n",
       "3553   Bara no Sōretsu / Funeral Parade of Roses (1969)              1\n",
       "3565                        Braindead/Dead Alive (1992)              1\n",
       "3573                                              8 1/2              1\n",
       "3812            Look Who's Back/Er ist wieder da (2015)              1\n",
       "4068                      Diecisiete / Seventeen (2019)              1\n",
       "4071            The Perfect Catch / Fever Pitch ( 2005)              1\n",
       "4201               Il mercenario / The Mercenary (1968)              1\n",
       "4220          Union of salvation / Союз спасения (2019)              1\n",
       "4275     Stormbreaker / Alex Rider: Stormbreaker (2006)              1"
      ]
     },
     "execution_count": 92,
     "metadata": {},
     "output_type": "execute_result"
    }
   ],
   "source": [
    "mbti_mv[mbti_mv.title.str.contains('/')]"
   ]
  },
  {
   "cell_type": "code",
   "execution_count": 94,
   "id": "61ec1c4f",
   "metadata": {
    "ExecuteTime": {
     "end_time": "2023-01-13T03:17:01.426990Z",
     "start_time": "2023-01-13T03:17:01.418224Z"
    }
   },
   "outputs": [],
   "source": [
    "slash_index = mbti_mv[mbti_mv.title.str.contains('/')].index"
   ]
  },
  {
   "cell_type": "code",
   "execution_count": 95,
   "id": "f6cfde81",
   "metadata": {
    "ExecuteTime": {
     "end_time": "2023-01-13T03:17:11.393706Z",
     "start_time": "2023-01-13T03:17:11.376395Z"
    },
    "scrolled": true
   },
   "outputs": [
    {
     "data": {
      "text/plain": [
       "1                             Harry Potter\n",
       "8                            Jurassic Park\n",
       "64                        Army of the Dead\n",
       "90                     Alice in Wonderland\n",
       "102                  Hot Wheels World Race\n",
       "474                                  Leap!\n",
       "660                                    X+Y\n",
       "739           O Menino que Matou Meus Pais\n",
       "764                Meet the Parents (2000)\n",
       "811                           The Platform\n",
       "830                         Ford v Ferrari\n",
       "893                             12 Monkeys\n",
       "1434                         Amores Perros\n",
       "1605                                   Raw\n",
       "1640                                  They\n",
       "1670                                 Tesis\n",
       "1689                     Duck, You Sucker!\n",
       "1829                          Show Me Love\n",
       "1856                                    50\n",
       "2084    Journey to the Center of the Earth\n",
       "2467                               Ondskan\n",
       "2812                            My Teacher\n",
       "2939                           Lude godine\n",
       "3015                                  Brat\n",
       "3048                                  Face\n",
       "3168                                  Fate\n",
       "3208                             Metalhead\n",
       "3262                                     V\n",
       "3288                      Four Christmases\n",
       "3348                               My Girl\n",
       "3357                                    07\n",
       "3472                        Vozvrashchenie\n",
       "3553                       Bara no Sōretsu\n",
       "3565                             Braindead\n",
       "3573                                   8 1\n",
       "3812                       Look Who's Back\n",
       "4068                            Diecisiete\n",
       "4071                     The Perfect Catch\n",
       "4201                         Il mercenario\n",
       "4220                    Union of salvation\n",
       "4275                          Stormbreaker\n",
       "Name: title, dtype: object"
      ]
     },
     "execution_count": 95,
     "metadata": {},
     "output_type": "execute_result"
    }
   ],
   "source": [
    "mbti_mv.title.str.split('/').str[0].str.strip().loc[slash_index]"
   ]
  },
  {
   "cell_type": "code",
   "execution_count": 96,
   "id": "74c2b42f",
   "metadata": {
    "ExecuteTime": {
     "end_time": "2023-01-13T03:18:04.938628Z",
     "start_time": "2023-01-13T03:18:04.925411Z"
    }
   },
   "outputs": [],
   "source": [
    "mbti_mv['title2']=mbti_mv.title.str.split('/').str[0].str.strip()\n",
    "\n",
    "mbti_mv['title2']=mbti_mv.title2.str.replace(r\"(\\(\\d+-*\\d*\\))\",\"\").str.strip()\n",
    "\n",
    "mbti_mv.title2 = mbti_mv.title2.str.replace(r\" \\(\\.*\\)\",\"\")"
   ]
  },
  {
   "cell_type": "code",
   "execution_count": 103,
   "id": "68333dcc",
   "metadata": {
    "ExecuteTime": {
     "end_time": "2023-01-13T03:20:39.022743Z",
     "start_time": "2023-01-13T03:20:38.923729Z"
    }
   },
   "outputs": [],
   "source": [
    "movie['title2'] = movie.title.str.replace(r\"(\\(\\d+-*\\d*\\))\",\"\").str.strip()\n",
    "\n",
    "movie['year'] = movie.title.str.extract(r\"(\\(\\d+-*\\d*\\))\")[0].str.replace('[()]','')"
   ]
  },
  {
   "cell_type": "code",
   "execution_count": 164,
   "id": "172504bd",
   "metadata": {
    "ExecuteTime": {
     "end_time": "2023-01-13T04:13:42.826735Z",
     "start_time": "2023-01-13T04:13:42.815241Z"
    }
   },
   "outputs": [
    {
     "data": {
      "text/plain": [
       "(410, 5)"
      ]
     },
     "execution_count": 164,
     "metadata": {},
     "output_type": "execute_result"
    }
   ],
   "source": [
    "movie[movie.year.isna()].shape"
   ]
  },
  {
   "cell_type": "code",
   "execution_count": 190,
   "id": "a990ffe8",
   "metadata": {
    "ExecuteTime": {
     "end_time": "2023-01-13T04:25:37.024679Z",
     "start_time": "2023-01-13T04:25:37.020731Z"
    }
   },
   "outputs": [],
   "source": [
    "mbti_mv2 = mbti_mv[['title2','character_num']]"
   ]
  },
  {
   "cell_type": "code",
   "execution_count": 191,
   "id": "7d64e5a0",
   "metadata": {
    "ExecuteTime": {
     "end_time": "2023-01-13T04:27:18.114155Z",
     "start_time": "2023-01-13T04:25:39.727631Z"
    }
   },
   "outputs": [
    {
     "name": "stderr",
     "output_type": "stream",
     "text": [
      "100%|██████████████████████████████████████████████████████████| 4291/4291 [01:38<00:00, 43.62it/s]\n"
     ]
    }
   ],
   "source": [
    "for l in tqdm(mbti_mv2.itertuples(), total=mbti_mv2.shape[0]):\n",
    "    include_mid_list = movie[movie.title2.str.startswith(l.title2)].movieId.tolist()\n",
    "    if include_mid_list:\n",
    "        mbti_mv2.loc[l.Index,'movieId'] = include_mid_list[0]"
   ]
  },
  {
   "cell_type": "code",
   "execution_count": 199,
   "id": "a54a5e2c",
   "metadata": {
    "ExecuteTime": {
     "end_time": "2023-01-13T05:28:18.569526Z",
     "start_time": "2023-01-13T05:28:18.564976Z"
    }
   },
   "outputs": [
    {
     "data": {
      "text/plain": [
       "(4291, 3)"
      ]
     },
     "execution_count": 199,
     "metadata": {},
     "output_type": "execute_result"
    }
   ],
   "source": [
    "mbti_mv2.shape"
   ]
  },
  {
   "cell_type": "code",
   "execution_count": 184,
   "id": "cbc93827",
   "metadata": {
    "ExecuteTime": {
     "end_time": "2023-01-13T04:23:46.978613Z",
     "start_time": "2023-01-13T04:23:46.967620Z"
    }
   },
   "outputs": [
    {
     "data": {
      "text/html": [
       "<div>\n",
       "<style scoped>\n",
       "    .dataframe tbody tr th:only-of-type {\n",
       "        vertical-align: middle;\n",
       "    }\n",
       "\n",
       "    .dataframe tbody tr th {\n",
       "        vertical-align: top;\n",
       "    }\n",
       "\n",
       "    .dataframe thead th {\n",
       "        text-align: right;\n",
       "    }\n",
       "</style>\n",
       "<table border=\"1\" class=\"dataframe\">\n",
       "  <thead>\n",
       "    <tr style=\"text-align: right;\">\n",
       "      <th></th>\n",
       "      <th>title2</th>\n",
       "      <th>character_num</th>\n",
       "      <th>movieId</th>\n",
       "    </tr>\n",
       "  </thead>\n",
       "  <tbody>\n",
       "    <tr>\n",
       "      <th>2</th>\n",
       "      <td>James Bond Film Series</td>\n",
       "      <td>88</td>\n",
       "      <td>NaN</td>\n",
       "    </tr>\n",
       "    <tr>\n",
       "      <th>10</th>\n",
       "      <td>Encanto</td>\n",
       "      <td>43</td>\n",
       "      <td>NaN</td>\n",
       "    </tr>\n",
       "    <tr>\n",
       "      <th>11</th>\n",
       "      <td>The Lord of the Rings (Film Trilogy)</td>\n",
       "      <td>42</td>\n",
       "      <td>NaN</td>\n",
       "    </tr>\n",
       "    <tr>\n",
       "      <th>17</th>\n",
       "      <td>Fear Street</td>\n",
       "      <td>37</td>\n",
       "      <td>NaN</td>\n",
       "    </tr>\n",
       "    <tr>\n",
       "      <th>20</th>\n",
       "      <td>The Hobbit (Film Trilogy)</td>\n",
       "      <td>33</td>\n",
       "      <td>NaN</td>\n",
       "    </tr>\n",
       "    <tr>\n",
       "      <th>...</th>\n",
       "      <td>...</td>\n",
       "      <td>...</td>\n",
       "      <td>...</td>\n",
       "    </tr>\n",
       "    <tr>\n",
       "      <th>4284</th>\n",
       "      <td>The Insider</td>\n",
       "      <td>1</td>\n",
       "      <td>NaN</td>\n",
       "    </tr>\n",
       "    <tr>\n",
       "      <th>4287</th>\n",
       "      <td>La solitudine dei numeri primi</td>\n",
       "      <td>1</td>\n",
       "      <td>NaN</td>\n",
       "    </tr>\n",
       "    <tr>\n",
       "      <th>4288</th>\n",
       "      <td>Every Breath You Take</td>\n",
       "      <td>1</td>\n",
       "      <td>NaN</td>\n",
       "    </tr>\n",
       "    <tr>\n",
       "      <th>4289</th>\n",
       "      <td>Hogfather</td>\n",
       "      <td>1</td>\n",
       "      <td>NaN</td>\n",
       "    </tr>\n",
       "    <tr>\n",
       "      <th>4290</th>\n",
       "      <td>Muhsin Bey</td>\n",
       "      <td>1</td>\n",
       "      <td>NaN</td>\n",
       "    </tr>\n",
       "  </tbody>\n",
       "</table>\n",
       "<p>1527 rows × 3 columns</p>\n",
       "</div>"
      ],
      "text/plain": [
       "                                    title2  character_num  movieId\n",
       "2                   James Bond Film Series             88      NaN\n",
       "10                                 Encanto             43      NaN\n",
       "11    The Lord of the Rings (Film Trilogy)             42      NaN\n",
       "17                             Fear Street             37      NaN\n",
       "20               The Hobbit (Film Trilogy)             33      NaN\n",
       "...                                    ...            ...      ...\n",
       "4284                           The Insider              1      NaN\n",
       "4287        La solitudine dei numeri primi              1      NaN\n",
       "4288                 Every Breath You Take              1      NaN\n",
       "4289                             Hogfather              1      NaN\n",
       "4290                            Muhsin Bey              1      NaN\n",
       "\n",
       "[1527 rows x 3 columns]"
      ]
     },
     "execution_count": 184,
     "metadata": {},
     "output_type": "execute_result"
    }
   ],
   "source": [
    "mbti_mv2[mbti_mv2.movieId.isna()]"
   ]
  },
  {
   "cell_type": "code",
   "execution_count": 141,
   "id": "5e5d3296",
   "metadata": {
    "ExecuteTime": {
     "end_time": "2023-01-13T03:33:30.157731Z",
     "start_time": "2023-01-13T03:33:30.146329Z"
    }
   },
   "outputs": [
    {
     "data": {
      "text/html": [
       "<div>\n",
       "<style scoped>\n",
       "    .dataframe tbody tr th:only-of-type {\n",
       "        vertical-align: middle;\n",
       "    }\n",
       "\n",
       "    .dataframe tbody tr th {\n",
       "        vertical-align: top;\n",
       "    }\n",
       "\n",
       "    .dataframe thead th {\n",
       "        text-align: right;\n",
       "    }\n",
       "</style>\n",
       "<table border=\"1\" class=\"dataframe\">\n",
       "  <thead>\n",
       "    <tr style=\"text-align: right;\">\n",
       "      <th></th>\n",
       "      <th>title2</th>\n",
       "      <th>character_num</th>\n",
       "      <th>movieId</th>\n",
       "    </tr>\n",
       "  </thead>\n",
       "  <tbody>\n",
       "    <tr>\n",
       "      <th>0</th>\n",
       "      <td>Star Wars</td>\n",
       "      <td>179</td>\n",
       "      <td>260.0</td>\n",
       "    </tr>\n",
       "    <tr>\n",
       "      <th>1</th>\n",
       "      <td>Harry Potter</td>\n",
       "      <td>127</td>\n",
       "      <td>4896.0</td>\n",
       "    </tr>\n",
       "    <tr>\n",
       "      <th>8</th>\n",
       "      <td>Jurassic Park</td>\n",
       "      <td>46</td>\n",
       "      <td>480.0</td>\n",
       "    </tr>\n",
       "    <tr>\n",
       "      <th>16</th>\n",
       "      <td>Pirates of the Caribbean</td>\n",
       "      <td>38</td>\n",
       "      <td>6539.0</td>\n",
       "    </tr>\n",
       "    <tr>\n",
       "      <th>18</th>\n",
       "      <td>The Conjuring</td>\n",
       "      <td>33</td>\n",
       "      <td>159858.0</td>\n",
       "    </tr>\n",
       "    <tr>\n",
       "      <th>...</th>\n",
       "      <td>...</td>\n",
       "      <td>...</td>\n",
       "      <td>...</td>\n",
       "    </tr>\n",
       "    <tr>\n",
       "      <th>4281</th>\n",
       "      <td>Wizards</td>\n",
       "      <td>1</td>\n",
       "      <td>31150.0</td>\n",
       "    </tr>\n",
       "    <tr>\n",
       "      <th>4282</th>\n",
       "      <td>The Young Karl Marx</td>\n",
       "      <td>1</td>\n",
       "      <td>179647.0</td>\n",
       "    </tr>\n",
       "    <tr>\n",
       "      <th>4283</th>\n",
       "      <td>Little Forest</td>\n",
       "      <td>1</td>\n",
       "      <td>158157.0</td>\n",
       "    </tr>\n",
       "    <tr>\n",
       "      <th>4285</th>\n",
       "      <td>Cube Zero</td>\n",
       "      <td>1</td>\n",
       "      <td>32213.0</td>\n",
       "    </tr>\n",
       "    <tr>\n",
       "      <th>4286</th>\n",
       "      <td>Antiviral</td>\n",
       "      <td>1</td>\n",
       "      <td>98975.0</td>\n",
       "    </tr>\n",
       "  </tbody>\n",
       "</table>\n",
       "<p>2700 rows × 3 columns</p>\n",
       "</div>"
      ],
      "text/plain": [
       "                        title2  character_num   movieId\n",
       "0                    Star Wars            179     260.0\n",
       "1                 Harry Potter            127    4896.0\n",
       "8                Jurassic Park             46     480.0\n",
       "16    Pirates of the Caribbean             38    6539.0\n",
       "18               The Conjuring             33  159858.0\n",
       "...                        ...            ...       ...\n",
       "4281                   Wizards              1   31150.0\n",
       "4282       The Young Karl Marx              1  179647.0\n",
       "4283             Little Forest              1  158157.0\n",
       "4285                 Cube Zero              1   32213.0\n",
       "4286                 Antiviral              1   98975.0\n",
       "\n",
       "[2700 rows x 3 columns]"
      ]
     },
     "execution_count": 141,
     "metadata": {},
     "output_type": "execute_result"
    }
   ],
   "source": [
    "mbti_mv2[mbti_mv2.movieId.notna()]"
   ]
  },
  {
   "cell_type": "markdown",
   "id": "08b9527a",
   "metadata": {},
   "source": [
    "## imdb api 활용"
   ]
  },
  {
   "cell_type": "code",
   "execution_count": 246,
   "id": "f1f6edc3",
   "metadata": {
    "ExecuteTime": {
     "end_time": "2023-01-13T05:41:27.529174Z",
     "start_time": "2023-01-13T05:41:27.518309Z"
    }
   },
   "outputs": [
    {
     "data": {
      "text/html": [
       "<div>\n",
       "<style scoped>\n",
       "    .dataframe tbody tr th:only-of-type {\n",
       "        vertical-align: middle;\n",
       "    }\n",
       "\n",
       "    .dataframe tbody tr th {\n",
       "        vertical-align: top;\n",
       "    }\n",
       "\n",
       "    .dataframe thead th {\n",
       "        text-align: right;\n",
       "    }\n",
       "</style>\n",
       "<table border=\"1\" class=\"dataframe\">\n",
       "  <thead>\n",
       "    <tr style=\"text-align: right;\">\n",
       "      <th></th>\n",
       "      <th>title2</th>\n",
       "      <th>character_num</th>\n",
       "      <th>movieId</th>\n",
       "    </tr>\n",
       "  </thead>\n",
       "  <tbody>\n",
       "    <tr>\n",
       "      <th>0</th>\n",
       "      <td>Star Wars</td>\n",
       "      <td>179</td>\n",
       "      <td>260.0</td>\n",
       "    </tr>\n",
       "    <tr>\n",
       "      <th>1</th>\n",
       "      <td>Harry Potter</td>\n",
       "      <td>127</td>\n",
       "      <td>4896.0</td>\n",
       "    </tr>\n",
       "    <tr>\n",
       "      <th>2</th>\n",
       "      <td>James Bond Film Series</td>\n",
       "      <td>88</td>\n",
       "      <td>NaN</td>\n",
       "    </tr>\n",
       "    <tr>\n",
       "      <th>3</th>\n",
       "      <td>Toy Story</td>\n",
       "      <td>66</td>\n",
       "      <td>1.0</td>\n",
       "    </tr>\n",
       "    <tr>\n",
       "      <th>4</th>\n",
       "      <td>Transformers</td>\n",
       "      <td>55</td>\n",
       "      <td>4006.0</td>\n",
       "    </tr>\n",
       "    <tr>\n",
       "      <th>...</th>\n",
       "      <td>...</td>\n",
       "      <td>...</td>\n",
       "      <td>...</td>\n",
       "    </tr>\n",
       "    <tr>\n",
       "      <th>4286</th>\n",
       "      <td>Antiviral</td>\n",
       "      <td>1</td>\n",
       "      <td>98975.0</td>\n",
       "    </tr>\n",
       "    <tr>\n",
       "      <th>4287</th>\n",
       "      <td>La solitudine dei numeri primi</td>\n",
       "      <td>1</td>\n",
       "      <td>NaN</td>\n",
       "    </tr>\n",
       "    <tr>\n",
       "      <th>4288</th>\n",
       "      <td>Every Breath You Take</td>\n",
       "      <td>1</td>\n",
       "      <td>NaN</td>\n",
       "    </tr>\n",
       "    <tr>\n",
       "      <th>4289</th>\n",
       "      <td>Hogfather</td>\n",
       "      <td>1</td>\n",
       "      <td>NaN</td>\n",
       "    </tr>\n",
       "    <tr>\n",
       "      <th>4290</th>\n",
       "      <td>Muhsin Bey</td>\n",
       "      <td>1</td>\n",
       "      <td>NaN</td>\n",
       "    </tr>\n",
       "  </tbody>\n",
       "</table>\n",
       "<p>4291 rows × 3 columns</p>\n",
       "</div>"
      ],
      "text/plain": [
       "                              title2  character_num  movieId\n",
       "0                          Star Wars            179    260.0\n",
       "1                       Harry Potter            127   4896.0\n",
       "2             James Bond Film Series             88      NaN\n",
       "3                          Toy Story             66      1.0\n",
       "4                       Transformers             55   4006.0\n",
       "...                              ...            ...      ...\n",
       "4286                       Antiviral              1  98975.0\n",
       "4287  La solitudine dei numeri primi              1      NaN\n",
       "4288           Every Breath You Take              1      NaN\n",
       "4289                       Hogfather              1      NaN\n",
       "4290                      Muhsin Bey              1      NaN\n",
       "\n",
       "[4291 rows x 3 columns]"
      ]
     },
     "execution_count": 246,
     "metadata": {},
     "output_type": "execute_result"
    }
   ],
   "source": [
    "mbti_mv2"
   ]
  },
  {
   "cell_type": "code",
   "execution_count": null,
   "id": "aad08192",
   "metadata": {},
   "outputs": [],
   "source": [
    "from imdb import IMDb\n",
    "\n",
    "ia = IMDb()"
   ]
  },
  {
   "cell_type": "code",
   "execution_count": 201,
   "id": "baeda1c6",
   "metadata": {
    "ExecuteTime": {
     "end_time": "2023-01-13T05:28:45.435742Z",
     "start_time": "2023-01-13T05:28:45.385183Z"
    }
   },
   "outputs": [],
   "source": [
    "ia = IMDb()"
   ]
  },
  {
   "cell_type": "code",
   "execution_count": 237,
   "id": "a2190d89",
   "metadata": {
    "ExecuteTime": {
     "end_time": "2023-01-13T05:38:54.466882Z",
     "start_time": "2023-01-13T05:38:54.463074Z"
    }
   },
   "outputs": [
    {
     "data": {
      "text/plain": [
       "'Harry Potter'"
      ]
     },
     "execution_count": 237,
     "metadata": {},
     "output_type": "execute_result"
    }
   ],
   "source": [
    "movie_name = \"Harry Potter\""
   ]
  },
  {
   "cell_type": "code",
   "execution_count": 250,
   "id": "aafcebcb",
   "metadata": {
    "ExecuteTime": {
     "end_time": "2023-01-13T05:42:56.776315Z",
     "start_time": "2023-01-13T05:42:54.487457Z"
    }
   },
   "outputs": [
    {
     "data": {
      "text/plain": [
       "[<Movie id:0944947[http] title:_\"Game of Thrones\" (2019) (2011)_>,\n",
       " <Movie id:13380510[http] title:_Game of Thrones (2003) (V)_>,\n",
       " <Movie id:11198330[http] title:_\"House of the Dragon\" (2022)_>,\n",
       " <Movie id:6857128[http] title:_Unaired Game of Thrones Prequel Pilot (2019) (TV)_>,\n",
       " <Movie id:21073266[http] title:_\"Untitled Jon Snow/Game of Thrones Spinoff\" (None)_>,\n",
       " <Movie id:10090796[http] title:_Game of Thrones: The Last Watch (2019) (TV)_>,\n",
       " <Movie id:3131362[http] title:_Sex Game of Thrones (2012) (V)_>,\n",
       " <Movie id:7937220[http] title:_Game of Thrones Conquest & Rebellion: An Animated History of the Seven Kingdoms (2017) (V)_>,\n",
       " <Movie id:6411748[http] title:_Purge of Kingdoms (2019)_>,\n",
       " <Movie id:11416040[http] title:_Game of Thrones: Bleed for the Throne (2019) (V)_>,\n",
       " <Movie id:2653342[http] title:_Game of Thrones: Season 2 - Character Profiles (2013) (V)_>,\n",
       " <Movie id:7520436[http] title:_Untitled Max Borenstein/Game of Thrones Spin-Off (None) (TV)_>,\n",
       " <Movie id:3391176[http] title:_Game of Thrones: A Telltale Games Series (2014) (VG)_>,\n",
       " <Movie id:7520448[http] title:_Untitled Carly Wray/Game of Thrones Spin-Off (None) (TV)_>,\n",
       " <Movie id:2653354[http] title:_Making of Game of Thrones (2011) (V)_>,\n",
       " <Movie id:7136312[http] title:_Game of Thrones: The Story So Far (2017) (TV)_>,\n",
       " <Movie id:2231444[http] title:_Game of Thrones (2012) (VG)_>,\n",
       " <Movie id:2653340[http] title:_Game of Thrones: Season 2 - Invitation to the Set (2012) (V)_>,\n",
       " <Movie id:21973642[http] title:_The Official Game of Thrones Podcast: House of the Dragon (2022)_>,\n",
       " <Movie id:2653350[http] title:_Game of Thrones: Costumes (2011) (V)_>]"
      ]
     },
     "execution_count": 250,
     "metadata": {},
     "output_type": "execute_result"
    }
   ],
   "source": [
    "ia.search_movie(\"Game of Throne\")"
   ]
  },
  {
   "cell_type": "code",
   "execution_count": 238,
   "id": "12bb4b02",
   "metadata": {
    "ExecuteTime": {
     "end_time": "2023-01-13T05:39:03.758646Z",
     "start_time": "2023-01-13T05:39:02.086467Z"
    }
   },
   "outputs": [
    {
     "name": "stdout",
     "output_type": "stream",
     "text": [
      "Harry Potter and the Sorcerer's Stone\n"
     ]
    }
   ],
   "source": [
    "search_movie = ia.search_movie(movie_name)[0]\n",
    "print(search_movie)"
   ]
  },
  {
   "cell_type": "code",
   "execution_count": 239,
   "id": "86802ef4",
   "metadata": {
    "ExecuteTime": {
     "end_time": "2023-01-13T05:39:11.523566Z",
     "start_time": "2023-01-13T05:39:06.677066Z"
    }
   },
   "outputs": [],
   "source": [
    "movie = ia.get_movie(search_movie.getID())"
   ]
  },
  {
   "cell_type": "code",
   "execution_count": 243,
   "id": "c4ed3ce8",
   "metadata": {
    "ExecuteTime": {
     "end_time": "2023-01-13T05:40:11.277657Z",
     "start_time": "2023-01-13T05:40:11.271981Z"
    }
   },
   "outputs": [],
   "source": [
    "genres = [genre for genre in movie.get('genres', [])]\n",
    "plots = [plot for plot in movie.get('plot', [])]\n",
    "directors = [person['name'] for person in movie.get('directors', [])]\n",
    "actors = [person['name'] for person in movie.get('cast', [])]\n",
    "producers = [person['name'] for person in movie.get('producers', [])]\n",
    "composers = [person['name'] for person in movie.get('composers', [])]"
   ]
  },
  {
   "cell_type": "code",
   "execution_count": 253,
   "id": "b971316c",
   "metadata": {
    "ExecuteTime": {
     "end_time": "2023-01-13T05:49:00.810092Z",
     "start_time": "2023-01-13T05:49:00.805924Z"
    }
   },
   "outputs": [
    {
     "data": {
      "text/plain": [
       "[<Person id:0746830[http] name:_J.K. Rowling_>,\n",
       " <Person id:None[http] name:_None_>,\n",
       " <Person id:0460141[http] name:_Steve Kloves_>]"
      ]
     },
     "execution_count": 253,
     "metadata": {},
     "output_type": "execute_result"
    }
   ],
   "source": [
    "movie.get('writers', [])"
   ]
  },
  {
   "cell_type": "code",
   "execution_count": 262,
   "id": "483b8161",
   "metadata": {
    "ExecuteTime": {
     "end_time": "2023-01-13T05:50:03.350448Z",
     "start_time": "2023-01-13T05:50:03.346622Z"
    }
   },
   "outputs": [
    {
     "data": {
      "text/plain": [
       "<Person id:None[http] name:_None_>"
      ]
     },
     "execution_count": 262,
     "metadata": {},
     "output_type": "execute_result"
    }
   ],
   "source": [
    "[person for person in movie.get('writers', [])][1]"
   ]
  },
  {
   "cell_type": "code",
   "execution_count": 244,
   "id": "6c4b591e",
   "metadata": {
    "ExecuteTime": {
     "end_time": "2023-01-13T05:40:17.468909Z",
     "start_time": "2023-01-13T05:40:17.464999Z"
    }
   },
   "outputs": [
    {
     "data": {
      "text/plain": [
       "['Adventure', 'Family', 'Fantasy']"
      ]
     },
     "execution_count": 244,
     "metadata": {},
     "output_type": "execute_result"
    }
   ],
   "source": [
    "genres"
   ]
  },
  {
   "cell_type": "code",
   "execution_count": 248,
   "id": "013f0774",
   "metadata": {
    "ExecuteTime": {
     "end_time": "2023-01-13T05:42:01.530103Z",
     "start_time": "2023-01-13T05:42:01.524586Z"
    }
   },
   "outputs": [
    {
     "data": {
      "text/plain": [
       "['Richard Harris',\n",
       " 'Maggie Smith',\n",
       " 'Robbie Coltrane',\n",
       " 'Saunders Triplets',\n",
       " 'Daniel Radcliffe',\n",
       " 'Fiona Shaw',\n",
       " 'Harry Melling',\n",
       " 'Richard Griffiths',\n",
       " 'Derek Deadman',\n",
       " 'Ian Hart',\n",
       " 'Ben Borowiecki',\n",
       " 'Warwick Davis',\n",
       " 'Verne Troyer',\n",
       " 'John Hurt',\n",
       " 'Richard Bremmer',\n",
       " 'Geraldine Somerville',\n",
       " 'Harry Taylor',\n",
       " 'Julie Walters',\n",
       " 'Bonnie Wright',\n",
       " 'Chris Rankin',\n",
       " 'James Phelps',\n",
       " 'Oliver Phelps',\n",
       " 'Rupert Grint',\n",
       " 'Jean Southern',\n",
       " 'Emma Watson',\n",
       " 'Matthew Lewis',\n",
       " 'Tom Felton',\n",
       " 'Jamie Waylett',\n",
       " 'Josh Herdman',\n",
       " 'Devon Murray',\n",
       " 'Alfred Enoch',\n",
       " 'Leslie Phillips',\n",
       " 'Eleanor Columbus',\n",
       " 'John Cleese',\n",
       " 'Terence Bayler',\n",
       " 'Simon Fisher-Becker',\n",
       " 'Nina Young',\n",
       " 'David Bradley',\n",
       " 'Alan Rickman',\n",
       " 'Zoë Wanamaker',\n",
       " 'Luke Youngblood',\n",
       " 'Sean Biggerstaff',\n",
       " 'Elizabeth Spriggs',\n",
       " 'Danielle Tabor',\n",
       " 'Leilah Sutherland',\n",
       " 'Emily Dale',\n",
       " 'David Holmes',\n",
       " 'Will Theakston',\n",
       " 'Scot Fearn',\n",
       " 'Adrian Rawlins',\n",
       " 'Ray Fearon',\n",
       " 'Andy Herd',\n",
       " 'Adam Alderman',\n",
       " 'Karen Anderson',\n",
       " 'Steve Apelt',\n",
       " 'Mark Ballas',\n",
       " 'Paul Bannon',\n",
       " 'Alan Bennett',\n",
       " 'Lukas Bennett',\n",
       " 'Sarah Bennett',\n",
       " 'David Brett',\n",
       " 'Peter Burroughs',\n",
       " 'Melita Clarke',\n",
       " 'Paul Marc Davis',\n",
       " 'Dex',\n",
       " 'Melanie Dixon',\n",
       " 'Amy Domenica',\n",
       " 'Mike Edmonds',\n",
       " 'Liam Elcoat',\n",
       " 'David William James Elliott',\n",
       " 'Scott English',\n",
       " 'Holly-Ann Filtness',\n",
       " 'Rusty Goffe',\n",
       " 'Paul Grant',\n",
       " 'Dani Harmer',\n",
       " 'Katie Healy',\n",
       " 'Marc Hendrey',\n",
       " 'Maude Hirst',\n",
       " 'Leila Hoffman',\n",
       " 'Aimee Holden',\n",
       " 'Phil Holden',\n",
       " 'Darren Horan',\n",
       " 'Derek Hough',\n",
       " 'Julianne Hough',\n",
       " 'Will Howes',\n",
       " 'Hugo',\n",
       " 'Kieri Kennedy',\n",
       " 'Natalie Klamar',\n",
       " 'Theo Kypri',\n",
       " 'Oliver Lavery-Farag',\n",
       " 'Mark Lisle',\n",
       " 'Peter Mandell',\n",
       " 'Maximus',\n",
       " 'Franky Mwangi',\n",
       " \"Jenny O'Sullivan\",\n",
       " 'Jo Osmond',\n",
       " 'Lisa Osmond',\n",
       " 'Cath Peakin',\n",
       " 'Stefan Pejic',\n",
       " 'Christina Petrou',\n",
       " 'Niall Phillips',\n",
       " 'Jason Porter',\n",
       " 'Katie Purvis',\n",
       " 'Nicholas Read',\n",
       " 'Richard Alan Reid',\n",
       " 'Miles Richardson',\n",
       " 'Sarah Rorbach',\n",
       " 'Mark Sealey',\n",
       " 'Louisa Sexton',\n",
       " 'Kiran Shah',\n",
       " 'Hazel Showham',\n",
       " 'Dominic Smith',\n",
       " 'Bianca Sowerby',\n",
       " 'Gerald Staddon',\n",
       " 'Zoe Sugg',\n",
       " 'Dolly Thompson',\n",
       " 'Darren Tough',\n",
       " 'Bernadette Jane Vanderkar',\n",
       " 'Jimmy Vee',\n",
       " 'Jasmin Walia',\n",
       " 'Brian Wheeler',\n",
       " 'Gary Wronecki']"
      ]
     },
     "execution_count": 248,
     "metadata": {},
     "output_type": "execute_result"
    }
   ],
   "source": [
    "actors"
   ]
  },
  {
   "cell_type": "code",
   "execution_count": 247,
   "id": "cbf23988",
   "metadata": {
    "ExecuteTime": {
     "end_time": "2023-01-13T05:41:58.986649Z",
     "start_time": "2023-01-13T05:41:58.983060Z"
    }
   },
   "outputs": [
    {
     "data": {
      "text/plain": [
       "['Chris Columbus']"
      ]
     },
     "execution_count": 247,
     "metadata": {},
     "output_type": "execute_result"
    }
   ],
   "source": [
    "directors"
   ]
  },
  {
   "cell_type": "code",
   "execution_count": 245,
   "id": "2ccaec59",
   "metadata": {
    "ExecuteTime": {
     "end_time": "2023-01-13T05:40:19.631716Z",
     "start_time": "2023-01-13T05:40:19.627972Z"
    }
   },
   "outputs": [
    {
     "data": {
      "text/plain": [
       "['An orphaned boy enrolls in a school of wizardry, where he learns the truth about himself, his family and the terrible evil that haunts the magical world.',\n",
       " 'This is the tale of Harry Potter (Daniel Radcliffe), an ordinary eleven-year-old boy serving as a sort of slave for his aunt and uncle who learns that he is actually a wizard and has been invited to attend the Hogwarts School for Witchcraft and Wizardry. Harry is snatched away from his mundane existence by Rubeus Hagrid (Robbie Coltrane), the groundskeeper for Hogwarts, and quickly thrown into a world completely foreign to both him and the viewer. Famous for an incident that happened at his birth, Harry makes friends easily at his new school. He soon finds, however, that the wizarding world is far more dangerous for him than he would have imagined, and he quickly learns that not all wizards are ones to be trusted.::Carly',\n",
       " 'Harry Potter is an average bespectacled eleven-year-old boy who has lived with the Dursley family ever since his parents died in a car crash. For some reason, the family has always mistreated him. On his eleventh birthday, a giant man named Rubeus Hagrid (Robbie Coltrane) hands him a letter telling him that he has been accepted as a student at the Hogwarts School of Witchcraft and Wizardry. Harry learns that his parents were wizards and were killed by the evil wizard Voldemort (Richard Bremmer), a truth that was hidden from him all these years. He embarks for his new life as a student, gathering two good friends Ron Weasley (Rupert Grint) and Hermione Granger (Emma Watson) along the way. They soon learn that something very valuable is hidden somewhere inside the school and Voldemort is very anxious to lay his hands on it.::Soumitra',\n",
       " \"Harry Potter (Daniel Radcliffe) thinks he is an ordinary boy celebrating his eleventh birthday, but he is far from right. A giant named Hagrid (Robbie Coltrane) appears, and gives Harry the all-important news. He is a wizard. Now his journey in life gets more intense as he travels to Hogwarts school of witchcraft and wizardry to learn the trade of being a wizard. Here, he meets his friends who would be by his side for many years to come. Ron Weasley (Rupert Grint) is not a very brave friend and Hermione (Emma Watson) is the smart friend. But not everything is quiet at Hogwarts as Harry suspects someone is planning to steal the Philosopher's/Sorcerer's Stone.::simon\",\n",
       " 'On his eleventh birthday, Harry Potter (Daniel Radcliffe) discovers that he is no ordinary boy. Hagrid (Robbie Coltrane), a beetle-eyed giant, tells Harry that he is a wizard and has a place at Hogwarts School of Witchcraft and Wizardry. In his first year of magical education, Harry tackles a fully grown mountain troll, learns to play Quidditch, and participates in a thrilling \"live\" game of chess.',\n",
       " 'Harry Potter (Daniel Radcliffe) thinks that he is an ordinary boy. But on his eleventh birthday, he finally discovered who he really is and he learns that his mum and dad were wizards and witches. Then he realized that he was lucky to survive. Since then, he became a famous person in his new school. In between, a mysterious giant came and gave him a letter telling that he was one of the chosen ones to the school. Therefore he became happy to start a new life and ready to adjust to his new school. As a result, in the school he met two friends, one friend is smart the other one is kind.',\n",
       " \"Young Harry Potter (Daniel Radcliffe) has to lead a hard life: His parents have died in a car crash when he was still a baby, and he is being brought up by his Uncle Vernon (Richard Griffiths) and Aunt Petunia (Fiona Shaw). For some reason unbeknownst to the bespectacled ten-year-old, the Dursleys let him live in the small chamber under the stairs, and treat him more like vermin than like a family member. His fat cousin Dudley Harry Melling), the Dursley's real son, keeps bothering Harry all the time. On his eleventh birthday, Harry Potter finally receives a mysterious letter from a certain Hogwarts School of Witchcraft and Wizardry, telling him that he is chosen as one of the future students of that supposedly renowned school. Hagrid (Robbie Coltrane), the gigantic man who brought the letter, finally introduces Harry into the real circumstances of his life: His parents were a wizard and a witch, they were killed by the evil wizard Voldemort (Richard Bremmer) protecting him. Harry still has a lightning-shaped scar on his forehead from that event. Since he survived the attack as a baby, and also somehow deprived Voldemort from his powers, he has been famous in the wizarding world ever since. The Dursleys, strong disbelievers in that magical crap, never told Harry anything about his true self. So, Harry is strongly surprised, yet absolutely happy to start his training. At Hogwarts, Harry meets his teachers, and becomes friends with Ron Weasley (Rupert Grint) and Hermione Granger (Emma Watson). The three of them accidentally find out that the potions master, Severus Snape (Alan Rickman), seems to plot on stealing something that is guarded by a three-headed dog. Since nobody would believe some first years to have found out such important things that even would incriminate a Hogwarts teacher, they take it on themselves to find out what Snape is up to. Their quest for the truth leads across many obstacles, from keeping up the everyday school life, a bewitched Quidditch match (Quidditch is a popular wizard sport), Fluffy, the three-headed monster dog, and quite some tasks one has to overcome to get to the guarded object.::Julian Reischl <julianreischl@mac.com>\"]"
      ]
     },
     "execution_count": 245,
     "metadata": {},
     "output_type": "execute_result"
    }
   ],
   "source": [
    "plots"
   ]
  },
  {
   "cell_type": "code",
   "execution_count": null,
   "id": "1c7b782b",
   "metadata": {},
   "outputs": [],
   "source": []
  },
  {
   "cell_type": "code",
   "execution_count": null,
   "id": "55ceef58",
   "metadata": {},
   "outputs": [],
   "source": []
  },
  {
   "cell_type": "code",
   "execution_count": null,
   "id": "56baf6ed",
   "metadata": {},
   "outputs": [],
   "source": []
  },
  {
   "cell_type": "code",
   "execution_count": 62,
   "id": "a15e858c",
   "metadata": {
    "ExecuteTime": {
     "end_time": "2023-01-13T02:58:29.999444Z",
     "start_time": "2023-01-13T02:58:29.965095Z"
    }
   },
   "outputs": [
    {
     "data": {
      "text/html": [
       "<div>\n",
       "<style scoped>\n",
       "    .dataframe tbody tr th:only-of-type {\n",
       "        vertical-align: middle;\n",
       "    }\n",
       "\n",
       "    .dataframe tbody tr th {\n",
       "        vertical-align: top;\n",
       "    }\n",
       "\n",
       "    .dataframe thead th {\n",
       "        text-align: right;\n",
       "    }\n",
       "</style>\n",
       "<table border=\"1\" class=\"dataframe\">\n",
       "  <thead>\n",
       "    <tr style=\"text-align: right;\">\n",
       "      <th></th>\n",
       "      <th>movieId</th>\n",
       "      <th>title</th>\n",
       "      <th>genres</th>\n",
       "    </tr>\n",
       "  </thead>\n",
       "  <tbody>\n",
       "    <tr>\n",
       "      <th>32884</th>\n",
       "      <td>141938</td>\n",
       "      <td>Hot Wheels Acceleracers Ignition (2005)</td>\n",
       "      <td>Animation|Children</td>\n",
       "    </tr>\n",
       "  </tbody>\n",
       "</table>\n",
       "</div>"
      ],
      "text/plain": [
       "       movieId                                    title              genres\n",
       "32884   141938  Hot Wheels Acceleracers Ignition (2005)  Animation|Children"
      ]
     },
     "execution_count": 62,
     "metadata": {},
     "output_type": "execute_result"
    }
   ],
   "source": [
    "movie[movie.title.str.contains(\"Acceleracers\")]"
   ]
  },
  {
   "cell_type": "code",
   "execution_count": 69,
   "id": "18b9bf85",
   "metadata": {
    "ExecuteTime": {
     "end_time": "2023-01-13T02:59:52.314489Z",
     "start_time": "2023-01-13T02:59:52.280523Z"
    }
   },
   "outputs": [
    {
     "data": {
      "text/html": [
       "<div>\n",
       "<style scoped>\n",
       "    .dataframe tbody tr th:only-of-type {\n",
       "        vertical-align: middle;\n",
       "    }\n",
       "\n",
       "    .dataframe tbody tr th {\n",
       "        vertical-align: top;\n",
       "    }\n",
       "\n",
       "    .dataframe thead th {\n",
       "        text-align: right;\n",
       "    }\n",
       "</style>\n",
       "<table border=\"1\" class=\"dataframe\">\n",
       "  <thead>\n",
       "    <tr style=\"text-align: right;\">\n",
       "      <th></th>\n",
       "      <th>movieId</th>\n",
       "      <th>title</th>\n",
       "      <th>genres</th>\n",
       "    </tr>\n",
       "  </thead>\n",
       "  <tbody>\n",
       "    <tr>\n",
       "      <th>11181</th>\n",
       "      <td>48970</td>\n",
       "      <td>Platform (Zhantai) (2000)</td>\n",
       "      <td>Drama</td>\n",
       "    </tr>\n",
       "  </tbody>\n",
       "</table>\n",
       "</div>"
      ],
      "text/plain": [
       "       movieId                      title genres\n",
       "11181    48970  Platform (Zhantai) (2000)  Drama"
      ]
     },
     "execution_count": 69,
     "metadata": {},
     "output_type": "execute_result"
    }
   ],
   "source": [
    "movie[movie.title.str.contains(\"Platform\")]"
   ]
  },
  {
   "cell_type": "code",
   "execution_count": null,
   "id": "ebee71a0",
   "metadata": {},
   "outputs": [],
   "source": []
  }
 ],
 "metadata": {
  "kernelspec": {
   "display_name": "Python 3 (ipykernel)",
   "language": "python",
   "name": "python3"
  },
  "language_info": {
   "codemirror_mode": {
    "name": "ipython",
    "version": 3
   },
   "file_extension": ".py",
   "mimetype": "text/x-python",
   "name": "python",
   "nbconvert_exporter": "python",
   "pygments_lexer": "ipython3",
   "version": "3.8.5"
  },
  "toc": {
   "base_numbering": 1,
   "nav_menu": {},
   "number_sections": true,
   "sideBar": true,
   "skip_h1_title": false,
   "title_cell": "Table of Contents",
   "title_sidebar": "Contents",
   "toc_cell": false,
   "toc_position": {
    "height": "calc(100% - 180px)",
    "left": "10px",
    "top": "150px",
    "width": "384px"
   },
   "toc_section_display": true,
   "toc_window_display": true
  }
 },
 "nbformat": 4,
 "nbformat_minor": 5
}
