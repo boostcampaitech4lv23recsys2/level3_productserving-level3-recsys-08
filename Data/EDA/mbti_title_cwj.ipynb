{
 "cells": [
  {
   "cell_type": "markdown",
   "metadata": {},
   "source": [
    "## 🧪 MBTI 크롤링 데이터 제목과 무비렌즈 데이터 제목 맞추기"
   ]
  },
  {
   "cell_type": "markdown",
   "metadata": {},
   "source": [
    "#### 다운 받은 데이터프레임 불러오기"
   ]
  },
  {
   "cell_type": "code",
   "execution_count": 511,
   "metadata": {
    "ExecuteTime": {
     "end_time": "2023-01-15T07:53:33.027425Z",
     "start_time": "2023-01-15T07:53:33.024649Z"
    }
   },
   "outputs": [],
   "source": [
    "import pandas as pd\n",
    "import numpy as np"
   ]
  },
  {
   "cell_type": "code",
   "execution_count": 527,
   "metadata": {
    "ExecuteTime": {
     "end_time": "2023-01-15T07:57:54.420341Z",
     "start_time": "2023-01-15T07:57:54.313610Z"
    }
   },
   "outputs": [],
   "source": [
    "ml_title = pd.read_csv(\"ml_title.csv\")\n",
    "mbti_all_title = pd.read_csv(\"mbti_all_title.csv\")\n",
    "mbti_none_title = pd.read_csv(\"mbti_none_title.csv\")"
   ]
  },
  {
   "cell_type": "code",
   "execution_count": 528,
   "metadata": {
    "ExecuteTime": {
     "end_time": "2023-01-15T07:57:54.501742Z",
     "start_time": "2023-01-15T07:57:54.495674Z"
    }
   },
   "outputs": [
    {
     "data": {
      "text/html": [
       "<div>\n",
       "<style scoped>\n",
       "    .dataframe tbody tr th:only-of-type {\n",
       "        vertical-align: middle;\n",
       "    }\n",
       "\n",
       "    .dataframe tbody tr th {\n",
       "        vertical-align: top;\n",
       "    }\n",
       "\n",
       "    .dataframe thead th {\n",
       "        text-align: right;\n",
       "    }\n",
       "</style>\n",
       "<table border=\"1\" class=\"dataframe\">\n",
       "  <thead>\n",
       "    <tr style=\"text-align: right;\">\n",
       "      <th></th>\n",
       "      <th>title</th>\n",
       "    </tr>\n",
       "  </thead>\n",
       "  <tbody>\n",
       "    <tr>\n",
       "      <th>0</th>\n",
       "      <td>toy story</td>\n",
       "    </tr>\n",
       "    <tr>\n",
       "      <th>1</th>\n",
       "      <td>jumanji</td>\n",
       "    </tr>\n",
       "    <tr>\n",
       "      <th>2</th>\n",
       "      <td>grumpier old men</td>\n",
       "    </tr>\n",
       "    <tr>\n",
       "      <th>3</th>\n",
       "      <td>waiting to exhale</td>\n",
       "    </tr>\n",
       "    <tr>\n",
       "      <th>4</th>\n",
       "      <td>father of the bride part ii</td>\n",
       "    </tr>\n",
       "  </tbody>\n",
       "</table>\n",
       "</div>"
      ],
      "text/plain": [
       "                         title\n",
       "0                    toy story\n",
       "1                      jumanji\n",
       "2             grumpier old men\n",
       "3            waiting to exhale\n",
       "4  father of the bride part ii"
      ]
     },
     "execution_count": 528,
     "metadata": {},
     "output_type": "execute_result"
    }
   ],
   "source": [
    "ml_title.head()"
   ]
  },
  {
   "cell_type": "code",
   "execution_count": 529,
   "metadata": {
    "ExecuteTime": {
     "end_time": "2023-01-15T07:57:54.690382Z",
     "start_time": "2023-01-15T07:57:54.676294Z"
    }
   },
   "outputs": [
    {
     "data": {
      "text/plain": [
       "title    7\n",
       "dtype: int64"
      ]
     },
     "execution_count": 529,
     "metadata": {},
     "output_type": "execute_result"
    }
   ],
   "source": [
    "ml_title.isna().sum()"
   ]
  },
  {
   "cell_type": "code",
   "execution_count": 530,
   "metadata": {
    "ExecuteTime": {
     "end_time": "2023-01-15T07:57:54.914883Z",
     "start_time": "2023-01-15T07:57:54.899890Z"
    }
   },
   "outputs": [],
   "source": [
    "ml_title = ml_title.dropna(axis=0)"
   ]
  },
  {
   "cell_type": "code",
   "execution_count": 531,
   "metadata": {
    "ExecuteTime": {
     "end_time": "2023-01-15T07:57:55.200541Z",
     "start_time": "2023-01-15T07:57:55.190839Z"
    }
   },
   "outputs": [
    {
     "data": {
      "text/html": [
       "<div>\n",
       "<style scoped>\n",
       "    .dataframe tbody tr th:only-of-type {\n",
       "        vertical-align: middle;\n",
       "    }\n",
       "\n",
       "    .dataframe tbody tr th {\n",
       "        vertical-align: top;\n",
       "    }\n",
       "\n",
       "    .dataframe thead th {\n",
       "        text-align: right;\n",
       "    }\n",
       "</style>\n",
       "<table border=\"1\" class=\"dataframe\">\n",
       "  <thead>\n",
       "    <tr style=\"text-align: right;\">\n",
       "      <th></th>\n",
       "      <th>Character</th>\n",
       "      <th>Contents</th>\n",
       "      <th>Votes</th>\n",
       "      <th>MBTI</th>\n",
       "      <th>Enneagram</th>\n",
       "      <th>category</th>\n",
       "      <th>img_src</th>\n",
       "    </tr>\n",
       "  </thead>\n",
       "  <tbody>\n",
       "    <tr>\n",
       "      <th>0</th>\n",
       "      <td>Moana Waialiki</td>\n",
       "      <td>moana</td>\n",
       "      <td>2.7k/477</td>\n",
       "      <td>ENFJ</td>\n",
       "      <td>7w6</td>\n",
       "      <td>movie</td>\n",
       "      <td>https://static1.personality-database.com/profi...</td>\n",
       "    </tr>\n",
       "    <tr>\n",
       "      <th>1</th>\n",
       "      <td>Joy</td>\n",
       "      <td>inside out</td>\n",
       "      <td>2.5k/358</td>\n",
       "      <td>ENFJ</td>\n",
       "      <td>7w6</td>\n",
       "      <td>movie</td>\n",
       "      <td>https://static1.personality-database.com/profi...</td>\n",
       "    </tr>\n",
       "    <tr>\n",
       "      <th>2</th>\n",
       "      <td>Judy Hopps</td>\n",
       "      <td>zootopia</td>\n",
       "      <td>2.3k/350</td>\n",
       "      <td>ENFJ</td>\n",
       "      <td>1w2</td>\n",
       "      <td>movie</td>\n",
       "      <td>https://static1.personality-database.com/profi...</td>\n",
       "    </tr>\n",
       "    <tr>\n",
       "      <th>3</th>\n",
       "      <td>Elle Woods</td>\n",
       "      <td>legally blonde</td>\n",
       "      <td>1.9k/227</td>\n",
       "      <td>ENFJ</td>\n",
       "      <td>3w2</td>\n",
       "      <td>movie</td>\n",
       "      <td>https://static1.personality-database.com/profi...</td>\n",
       "    </tr>\n",
       "    <tr>\n",
       "      <th>4</th>\n",
       "      <td>Neil Perry</td>\n",
       "      <td>dead poets society</td>\n",
       "      <td>1.7k/222</td>\n",
       "      <td>ENFJ</td>\n",
       "      <td>4w3</td>\n",
       "      <td>movie</td>\n",
       "      <td>https://static1.personality-database.com/profi...</td>\n",
       "    </tr>\n",
       "  </tbody>\n",
       "</table>\n",
       "</div>"
      ],
      "text/plain": [
       "        Character            Contents     Votes  MBTI Enneagram category  \\\n",
       "0  Moana Waialiki               moana  2.7k/477  ENFJ       7w6    movie   \n",
       "1             Joy          inside out  2.5k/358  ENFJ       7w6    movie   \n",
       "2      Judy Hopps            zootopia  2.3k/350  ENFJ       1w2    movie   \n",
       "3      Elle Woods      legally blonde  1.9k/227  ENFJ       3w2    movie   \n",
       "4      Neil Perry  dead poets society  1.7k/222  ENFJ       4w3    movie   \n",
       "\n",
       "                                             img_src  \n",
       "0  https://static1.personality-database.com/profi...  \n",
       "1  https://static1.personality-database.com/profi...  \n",
       "2  https://static1.personality-database.com/profi...  \n",
       "3  https://static1.personality-database.com/profi...  \n",
       "4  https://static1.personality-database.com/profi...  "
      ]
     },
     "execution_count": 531,
     "metadata": {},
     "output_type": "execute_result"
    }
   ],
   "source": [
    "mbti_all_title.head()"
   ]
  },
  {
   "cell_type": "code",
   "execution_count": 532,
   "metadata": {
    "ExecuteTime": {
     "end_time": "2023-01-15T07:57:55.552016Z",
     "start_time": "2023-01-15T07:57:55.548982Z"
    }
   },
   "outputs": [],
   "source": [
    "mbti_none_title = mbti_none_title.iloc[301:601]"
   ]
  },
  {
   "cell_type": "code",
   "execution_count": 533,
   "metadata": {
    "ExecuteTime": {
     "end_time": "2023-01-15T07:57:55.995297Z",
     "start_time": "2023-01-15T07:57:55.989528Z"
    }
   },
   "outputs": [
    {
     "data": {
      "text/html": [
       "<div>\n",
       "<style scoped>\n",
       "    .dataframe tbody tr th:only-of-type {\n",
       "        vertical-align: middle;\n",
       "    }\n",
       "\n",
       "    .dataframe tbody tr th {\n",
       "        vertical-align: top;\n",
       "    }\n",
       "\n",
       "    .dataframe thead th {\n",
       "        text-align: right;\n",
       "    }\n",
       "</style>\n",
       "<table border=\"1\" class=\"dataframe\">\n",
       "  <thead>\n",
       "    <tr style=\"text-align: right;\">\n",
       "      <th></th>\n",
       "      <th>Contents</th>\n",
       "    </tr>\n",
       "  </thead>\n",
       "  <tbody>\n",
       "    <tr>\n",
       "      <th>301</th>\n",
       "      <td>the lord of the rings</td>\n",
       "    </tr>\n",
       "    <tr>\n",
       "      <th>302</th>\n",
       "      <td>wall-e</td>\n",
       "    </tr>\n",
       "    <tr>\n",
       "      <th>303</th>\n",
       "      <td>alice in wonderland / through the looking glass</td>\n",
       "    </tr>\n",
       "    <tr>\n",
       "      <th>304</th>\n",
       "      <td>500 days of summer</td>\n",
       "    </tr>\n",
       "    <tr>\n",
       "      <th>305</th>\n",
       "      <td>the before trilogy</td>\n",
       "    </tr>\n",
       "  </tbody>\n",
       "</table>\n",
       "</div>"
      ],
      "text/plain": [
       "                                            Contents\n",
       "301                            the lord of the rings\n",
       "302                                           wall-e\n",
       "303  alice in wonderland / through the looking glass\n",
       "304                               500 days of summer\n",
       "305                               the before trilogy"
      ]
     },
     "execution_count": 533,
     "metadata": {},
     "output_type": "execute_result"
    }
   ],
   "source": [
    "mbti_none_title.head()"
   ]
  },
  {
   "cell_type": "code",
   "execution_count": 548,
   "metadata": {
    "ExecuteTime": {
     "end_time": "2023-01-15T08:28:16.322946Z",
     "start_time": "2023-01-15T08:28:16.312639Z"
    }
   },
   "outputs": [
    {
     "data": {
      "text/html": [
       "<div>\n",
       "<style scoped>\n",
       "    .dataframe tbody tr th:only-of-type {\n",
       "        vertical-align: middle;\n",
       "    }\n",
       "\n",
       "    .dataframe tbody tr th {\n",
       "        vertical-align: top;\n",
       "    }\n",
       "\n",
       "    .dataframe thead th {\n",
       "        text-align: right;\n",
       "    }\n",
       "</style>\n",
       "<table border=\"1\" class=\"dataframe\">\n",
       "  <thead>\n",
       "    <tr style=\"text-align: right;\">\n",
       "      <th></th>\n",
       "      <th>Contents</th>\n",
       "    </tr>\n",
       "  </thead>\n",
       "  <tbody>\n",
       "    <tr>\n",
       "      <th>301</th>\n",
       "      <td>the lord of the rings</td>\n",
       "    </tr>\n",
       "    <tr>\n",
       "      <th>302</th>\n",
       "      <td>wall-e</td>\n",
       "    </tr>\n",
       "    <tr>\n",
       "      <th>303</th>\n",
       "      <td>alice in wonderland / through the looking glass</td>\n",
       "    </tr>\n",
       "    <tr>\n",
       "      <th>305</th>\n",
       "      <td>the before trilogy</td>\n",
       "    </tr>\n",
       "    <tr>\n",
       "      <th>306</th>\n",
       "      <td>the hunchback of notre dame</td>\n",
       "    </tr>\n",
       "    <tr>\n",
       "      <th>...</th>\n",
       "      <td>...</td>\n",
       "    </tr>\n",
       "    <tr>\n",
       "      <th>586</th>\n",
       "      <td>ocean's eleven trilogy</td>\n",
       "    </tr>\n",
       "    <tr>\n",
       "      <th>587</th>\n",
       "      <td>the motorcycle diaries</td>\n",
       "    </tr>\n",
       "    <tr>\n",
       "      <th>592</th>\n",
       "      <td>the age of innocence</td>\n",
       "    </tr>\n",
       "    <tr>\n",
       "      <th>596</th>\n",
       "      <td>the clique</td>\n",
       "    </tr>\n",
       "    <tr>\n",
       "      <th>598</th>\n",
       "      <td>tadeo jones : the lost explorer 2012</td>\n",
       "    </tr>\n",
       "  </tbody>\n",
       "</table>\n",
       "<p>163 rows × 1 columns</p>\n",
       "</div>"
      ],
      "text/plain": [
       "                                            Contents\n",
       "301                            the lord of the rings\n",
       "302                                           wall-e\n",
       "303  alice in wonderland / through the looking glass\n",
       "305                               the before trilogy\n",
       "306                      the hunchback of notre dame\n",
       "..                                               ...\n",
       "586                           ocean's eleven trilogy\n",
       "587                           the motorcycle diaries\n",
       "592                             the age of innocence\n",
       "596                                       the clique\n",
       "598             tadeo jones : the lost explorer 2012\n",
       "\n",
       "[163 rows x 1 columns]"
      ]
     },
     "execution_count": 548,
     "metadata": {},
     "output_type": "execute_result"
    }
   ],
   "source": [
    "mbti_none_title[mbti_none_title.Contents.map(change_dict).notna()]"
   ]
  },
  {
   "cell_type": "code",
   "execution_count": 553,
   "metadata": {
    "ExecuteTime": {
     "end_time": "2023-01-15T08:29:07.404396Z",
     "start_time": "2023-01-15T08:29:07.400550Z"
    }
   },
   "outputs": [
    {
     "data": {
      "text/plain": [
       "163"
      ]
     },
     "execution_count": 553,
     "metadata": {},
     "output_type": "execute_result"
    }
   ],
   "source": [
    "len(change_dict)"
   ]
  },
  {
   "cell_type": "code",
   "execution_count": 551,
   "metadata": {
    "ExecuteTime": {
     "end_time": "2023-01-15T08:28:59.535791Z",
     "start_time": "2023-01-15T08:28:59.531849Z"
    }
   },
   "outputs": [
    {
     "data": {
      "text/plain": [
       "'wall·e'"
      ]
     },
     "execution_count": 551,
     "metadata": {},
     "output_type": "execute_result"
    }
   ],
   "source": [
    "change_dict.pop('Wall E')"
   ]
  },
  {
   "cell_type": "code",
   "execution_count": 546,
   "metadata": {
    "ExecuteTime": {
     "end_time": "2023-01-15T08:28:06.551148Z",
     "start_time": "2023-01-15T08:28:06.548205Z"
    }
   },
   "outputs": [],
   "source": [
    "change_dict['wall-e']='wall·e'"
   ]
  },
  {
   "cell_type": "code",
   "execution_count": 549,
   "metadata": {
    "ExecuteTime": {
     "end_time": "2023-01-15T08:28:22.332106Z",
     "start_time": "2023-01-15T08:28:22.328204Z"
    }
   },
   "outputs": [
    {
     "data": {
      "text/plain": [
       "164"
      ]
     },
     "execution_count": 549,
     "metadata": {},
     "output_type": "execute_result"
    }
   ],
   "source": [
    "len(change_dict)"
   ]
  },
  {
   "cell_type": "markdown",
   "metadata": {},
   "source": [
    "#### 제목으로 유사도 측정 후 top 3 구해주는 함수"
   ]
  },
  {
   "cell_type": "markdown",
   "metadata": {},
   "source": [
    "* title_list에는 무비렌즈 제목 리스트를 넣어주시고,\n",
    "* title에는 MBTI 크롤링 데이터 제목을 하나씩 넣어주시면 됩니다.\n",
    "\n",
    "-> 그럼 title_list에서 title과 제목이 유사한 제목 top 3가 결과로 나옵니다."
   ]
  },
  {
   "cell_type": "code",
   "execution_count": 54,
   "metadata": {
    "ExecuteTime": {
     "end_time": "2023-01-14T18:01:52.380351Z",
     "start_time": "2023-01-14T18:01:52.374784Z"
    }
   },
   "outputs": [],
   "source": [
    "def content_based_filtering_jaccard(title_list, title):\n",
    "    topn=20\n",
    "    target_split_set = set(title.split())\n",
    "    sim_list = []\n",
    "    sim_df = pd.DataFrame(title_list, columns=['title'])\n",
    "    for idx, movie in enumerate(title_list):\n",
    "        title_split_set = set(movie.split())\n",
    "        title_intersection = target_split_set.intersection(title_split_set)\n",
    "        jac_sim = float(len(title_intersection)) / (len(target_split_set) + len(title_split_set) - len(title_intersection))\n",
    "        sim_list.append(jac_sim)\n",
    "    sim_df['jaccard_similarity'] = sim_list\n",
    "\n",
    "    return sim_df.sort_values('jaccard_similarity', ascending=False).reset_index(drop=True)[:topn]"
   ]
  },
  {
   "cell_type": "code",
   "execution_count": 537,
   "metadata": {
    "ExecuteTime": {
     "end_time": "2023-01-15T08:00:05.406240Z",
     "start_time": "2023-01-15T08:00:05.401930Z"
    }
   },
   "outputs": [
    {
     "data": {
      "text/plain": [
       "62416"
      ]
     },
     "execution_count": 537,
     "metadata": {},
     "output_type": "execute_result"
    }
   ],
   "source": [
    "len(title_list)"
   ]
  },
  {
   "cell_type": "code",
   "execution_count": 534,
   "metadata": {
    "ExecuteTime": {
     "end_time": "2023-01-15T07:57:59.124089Z",
     "start_time": "2023-01-15T07:57:59.111922Z"
    }
   },
   "outputs": [],
   "source": [
    "ml_title_list = list(ml_title['title'])\n",
    "mbti_none_title_list = list(mbti_none_title['Contents'])"
   ]
  },
  {
   "cell_type": "markdown",
   "metadata": {},
   "source": [
    "사용 예시"
   ]
  },
  {
   "cell_type": "code",
   "execution_count": 44,
   "metadata": {
    "ExecuteTime": {
     "end_time": "2023-01-14T17:59:20.140466Z",
     "start_time": "2023-01-14T17:59:20.128440Z"
    }
   },
   "outputs": [
    {
     "data": {
      "text/html": [
       "<div>\n",
       "<style scoped>\n",
       "    .dataframe tbody tr th:only-of-type {\n",
       "        vertical-align: middle;\n",
       "    }\n",
       "\n",
       "    .dataframe tbody tr th {\n",
       "        vertical-align: top;\n",
       "    }\n",
       "\n",
       "    .dataframe thead th {\n",
       "        text-align: right;\n",
       "    }\n",
       "</style>\n",
       "<table border=\"1\" class=\"dataframe\">\n",
       "  <thead>\n",
       "    <tr style=\"text-align: right;\">\n",
       "      <th></th>\n",
       "      <th>title</th>\n",
       "    </tr>\n",
       "  </thead>\n",
       "  <tbody>\n",
       "    <tr>\n",
       "      <th>1009</th>\n",
       "      <td>alice in wonderland</td>\n",
       "    </tr>\n",
       "    <tr>\n",
       "      <th>14393</th>\n",
       "      <td>alice in wonderland</td>\n",
       "    </tr>\n",
       "    <tr>\n",
       "      <th>15298</th>\n",
       "      <td>alice in wonderland</td>\n",
       "    </tr>\n",
       "    <tr>\n",
       "      <th>25576</th>\n",
       "      <td>alice in wonderland</td>\n",
       "    </tr>\n",
       "    <tr>\n",
       "      <th>32959</th>\n",
       "      <td>alice in wonderland</td>\n",
       "    </tr>\n",
       "    <tr>\n",
       "      <th>41181</th>\n",
       "      <td>alice in wonderland</td>\n",
       "    </tr>\n",
       "    <tr>\n",
       "      <th>49323</th>\n",
       "      <td>alice in wonderland</td>\n",
       "    </tr>\n",
       "  </tbody>\n",
       "</table>\n",
       "</div>"
      ],
      "text/plain": [
       "                     title\n",
       "1009   alice in wonderland\n",
       "14393  alice in wonderland\n",
       "15298  alice in wonderland\n",
       "25576  alice in wonderland\n",
       "32959  alice in wonderland\n",
       "41181  alice in wonderland\n",
       "49323  alice in wonderland"
      ]
     },
     "execution_count": 44,
     "metadata": {},
     "output_type": "execute_result"
    }
   ],
   "source": [
    "search_title='alice in wonderland'\n",
    "ml_title[ml_title.title=dddd=search_title]"
   ]
  },
  {
   "cell_type": "code",
   "execution_count": 136,
   "metadata": {
    "ExecuteTime": {
     "end_time": "2023-01-14T18:34:10.946941Z",
     "start_time": "2023-01-14T18:34:10.942508Z"
    }
   },
   "outputs": [
    {
     "data": {
      "text/plain": [
       "17"
      ]
     },
     "execution_count": 136,
     "metadata": {},
     "output_type": "execute_result"
    }
   ],
   "source": [
    "len([i for i in mbti_none_title_list if i.startswith('a ')])"
   ]
  },
  {
   "cell_type": "code",
   "execution_count": 123,
   "metadata": {
    "ExecuteTime": {
     "end_time": "2023-01-14T18:28:09.535222Z",
     "start_time": "2023-01-14T18:28:09.528159Z"
    }
   },
   "outputs": [
    {
     "data": {
      "text/plain": [
       "189"
      ]
     },
     "execution_count": 123,
     "metadata": {},
     "output_type": "execute_result"
    }
   ],
   "source": [
    "len([i for i in mbti_none_title_list if not i.startswith('the')])"
   ]
  },
  {
   "cell_type": "code",
   "execution_count": 520,
   "metadata": {
    "ExecuteTime": {
     "end_time": "2023-01-15T07:54:50.422653Z",
     "start_time": "2023-01-15T07:54:50.419941Z"
    }
   },
   "outputs": [],
   "source": [
    "i=\"a dsifj asdfaj i the asdfli\""
   ]
  },
  {
   "cell_type": "code",
   "execution_count": 521,
   "metadata": {
    "ExecuteTime": {
     "end_time": "2023-01-15T07:54:52.330416Z",
     "start_time": "2023-01-15T07:54:52.326800Z"
    }
   },
   "outputs": [
    {
     "data": {
      "text/plain": [
       "'dsifj asdfaj i the asdfli'"
      ]
     },
     "execution_count": 521,
     "metadata": {},
     "output_type": "execute_result"
    }
   ],
   "source": [
    "i[2:]"
   ]
  },
  {
   "cell_type": "code",
   "execution_count": 515,
   "metadata": {
    "ExecuteTime": {
     "end_time": "2023-01-15T07:53:47.984590Z",
     "start_time": "2023-01-15T07:53:47.978136Z"
    }
   },
   "outputs": [],
   "source": [
    "def process_the_list(mbti_none_title_list, title_list, change_dict):\n",
    "    after_mbti_none_title_list = [i for i in mbti_none_title_list if not i.startswith('the')]\n",
    "    the_none_list = [i for i in mbti_none_title_list if i.startswith('the ')]\n",
    "    the_movie_list = [i[4:]+', the' for i in mbti_none_title_list if i.startswith('the')]\n",
    "    print(f\"기존 none title list {len(mbti_none_title_list)}개 중,\")\n",
    "    print(f\"the 로 시작하는 영화 개수: {len(the_none_list)}\")\n",
    "    print(f\"the 로 시작 안하는 영화 개수: {len(after_mbti_none_title_list)}\")\n",
    "    cnt=0\n",
    "    for movie, the_movie in zip(the_none_list,the_movie_list):\n",
    "        if the_movie in title_list:\n",
    "            change_dict[movie] = the_movie\n",
    "            cnt+=1\n",
    "        else:\n",
    "            after_mbti_none_title_list.append(movie)\n",
    "    print(f\"the로 시작하는 영화 the 지우고 뒤에 ,the 붙인게 movie lens에 있는 영화가 {cnt}개\")\n",
    "    print(f\"프로세싱후 추가 처리해야줘야 할 mbti none title list는 {len(after_mbti_none_title_list)}개\")\n",
    "    return after_mbti_none_title_list, change_dict"
   ]
  },
  {
   "cell_type": "code",
   "execution_count": 522,
   "metadata": {
    "ExecuteTime": {
     "end_time": "2023-01-15T07:55:12.876996Z",
     "start_time": "2023-01-15T07:55:12.870533Z"
    }
   },
   "outputs": [],
   "source": [
    "def process_a_list(mbti_none_title_list, title_list, change_dict):\n",
    "    after_mbti_none_title_list = [i for i in mbti_none_title_list if not i.startswith('a ')]\n",
    "    a_none_list = [i for i in mbti_none_title_list if i.startswith('a ')]\n",
    "    a_movie_list = [i[2:]+', a' for i in mbti_none_title_list if i.startswith('a ')]\n",
    "    print(f\"기존 none title list {len(mbti_none_title_list)}개 중,\")\n",
    "    print(f\"a 로 시작하는 영화 개수: {len(a_none_list)}\")\n",
    "    print(f\"a 로 시작 안하는 영화 개수: {len(after_mbti_none_title_list)}\")\n",
    "    cnt=0\n",
    "    for movie, a_movie in zip(a_none_list,a_movie_list):\n",
    "        if a_movie in title_list:\n",
    "            change_dict[movie] = a_movie\n",
    "            cnt+=1\n",
    "        else:\n",
    "            after_mbti_none_title_list.append(movie)\n",
    "    print(f\"a로 시작하는 영화 a 지우고 뒤에 ,a 붙인게 movie lens에 있는 영화가 {cnt}개\")\n",
    "    print(f\"프로세싱후 추가 처리해야줘야 할 mbti none title list는 {len(after_mbti_none_title_list)}개\")\n",
    "    return after_mbti_none_title_list, change_dict"
   ]
  },
  {
   "cell_type": "code",
   "execution_count": null,
   "metadata": {},
   "outputs": [],
   "source": [
    "change_dict=dict()"
   ]
  },
  {
   "cell_type": "code",
   "execution_count": 535,
   "metadata": {
    "ExecuteTime": {
     "end_time": "2023-01-15T07:58:04.601461Z",
     "start_time": "2023-01-15T07:58:04.550974Z"
    }
   },
   "outputs": [
    {
     "name": "stdout",
     "output_type": "stream",
     "text": [
      "기존 none title list 300개 중,\n",
      "the 로 시작하는 영화 개수: 111\n",
      "the 로 시작 안하는 영화 개수: 189\n",
      "the로 시작하는 영화 the 지우고 뒤에 ,the 붙인게 movie lens에 있는 영화가 87개\n",
      "프로세싱후 추가 처리해야줘야 할 mbti none title list는 213개\n"
     ]
    }
   ],
   "source": [
    "mbti_none_title_list, change_dict = process_the_list(mbti_none_title_list, title_list, change_dict)"
   ]
  },
  {
   "cell_type": "code",
   "execution_count": 536,
   "metadata": {
    "ExecuteTime": {
     "end_time": "2023-01-15T07:58:32.369604Z",
     "start_time": "2023-01-15T07:58:32.358321Z"
    }
   },
   "outputs": [
    {
     "name": "stdout",
     "output_type": "stream",
     "text": [
      "기존 none title list 213개 중,\n",
      "a 로 시작하는 영화 개수: 17\n",
      "a 로 시작 안하는 영화 개수: 196\n",
      "a로 시작하는 영화 a 지우고 뒤에 ,a 붙인게 movie lens에 있는 영화가 13개\n",
      "프로세싱후 추가 처리해야줘야 할 mbti none title list는 200개\n"
     ]
    }
   ],
   "source": [
    "mbti_none_title_list, change_dict = process_a_list(mbti_none_title_list, title_list, change_dict)"
   ]
  },
  {
   "cell_type": "code",
   "execution_count": 185,
   "metadata": {
    "ExecuteTime": {
     "end_time": "2023-01-14T18:56:12.581122Z",
     "start_time": "2023-01-14T18:56:12.569454Z"
    }
   },
   "outputs": [],
   "source": [
    "from imdb import IMDb\n",
    "from tqdm import tqdm\n",
    "ia = IMDb()\n",
    "\n",
    "## 2020년 이후 영화 제거\n",
    "def remove_after_2020_movie(mbti_none_title_list):\n",
    "    after_mbti_none_title_list=[]\n",
    "    after_2020_movie=[]\n",
    "    for movie_name in tqdm(mbti_none_title_list):\n",
    "        search_movie = ia.search_movie(movie_name)\n",
    "        if search_movie:\n",
    "            search_movie = search_movie[0] # 첫번째 검색 결과 가져오기\n",
    "            movie = ia.get_movie(search_movie.getID()) # ID로 검색해서 영화 세부정보 가져오기\n",
    "            search_movie_lower = search_movie['title'].lower()\n",
    "            if movie_name == search_movie_lower and movie['year']>=2020:\n",
    "                after_2020_movie.append(movie_name)\n",
    "#                 print(search_movie,movie['year']) # 검색 결과 영화 출력\n",
    "            else:\n",
    "                after_mbti_none_title_list.append(movie_name)\n",
    "    print(f\"2020년 이후 개봉 영화 {len(after_2020_movie)}개\")\n",
    "    print(f\"프로세싱후 추가 처리해야줘야 할 mbti none title list는 {len(after_mbti_none_title_list)}개\")\n",
    "    return after_mbti_none_title_list, after_2020_movie    "
   ]
  },
  {
   "cell_type": "code",
   "execution_count": 198,
   "metadata": {
    "ExecuteTime": {
     "end_time": "2023-01-14T20:11:53.885958Z",
     "start_time": "2023-01-14T19:55:07.949335Z"
    },
    "collapsed": true
   },
   "outputs": [
    {
     "name": "stderr",
     "output_type": "stream",
     "text": [
      "  1%|▎                                                             | 1/185 [00:07<21:55,  7.15s/it]"
     ]
    },
    {
     "name": "stdout",
     "output_type": "stream",
     "text": [
      "Freaky 2020\n"
     ]
    },
    {
     "name": "stderr",
     "output_type": "stream",
     "text": [
      "  2%|█                                                             | 3/185 [00:16<16:31,  5.45s/it]"
     ]
    },
    {
     "name": "stdout",
     "output_type": "stream",
     "text": [
      "Firebird 2021\n"
     ]
    },
    {
     "name": "stderr",
     "output_type": "stream",
     "text": [
      "  3%|█▋                                                            | 5/185 [00:28<16:24,  5.47s/it]"
     ]
    },
    {
     "name": "stdout",
     "output_type": "stream",
     "text": [
      "Slumberland 2022\n"
     ]
    },
    {
     "name": "stderr",
     "output_type": "stream",
     "text": [
      "\r",
      "  3%|██                                                            | 6/185 [00:32<15:40,  5.25s/it]"
     ]
    },
    {
     "name": "stdout",
     "output_type": "stream",
     "text": [
      "A Boy Called Christmas 2021\n"
     ]
    },
    {
     "name": "stderr",
     "output_type": "stream",
     "text": [
      "  5%|███                                                           | 9/185 [00:48<15:20,  5.23s/it]"
     ]
    },
    {
     "name": "stdout",
     "output_type": "stream",
     "text": [
      "Eurovision Song Contest: The Story of Fire Saga 2020\n"
     ]
    },
    {
     "name": "stderr",
     "output_type": "stream",
     "text": [
      "  6%|███▉                                                         | 12/185 [01:04<15:21,  5.33s/it]"
     ]
    },
    {
     "name": "stdout",
     "output_type": "stream",
     "text": [
      "Bones and All 2022\n"
     ]
    },
    {
     "name": "stderr",
     "output_type": "stream",
     "text": [
      "  9%|█████▌                                                       | 17/185 [01:28<13:30,  4.83s/it]"
     ]
    },
    {
     "name": "stdout",
     "output_type": "stream",
     "text": [
      "Halloween Ends 2022\n"
     ]
    },
    {
     "name": "stderr",
     "output_type": "stream",
     "text": [
      " 14%|████████▏                                                    | 25/185 [02:13<14:52,  5.58s/it]"
     ]
    },
    {
     "name": "stdout",
     "output_type": "stream",
     "text": [
      "Nightbooks 2021\n"
     ]
    },
    {
     "name": "stderr",
     "output_type": "stream",
     "text": [
      " 15%|████████▉                                                    | 27/185 [02:22<13:27,  5.11s/it]"
     ]
    },
    {
     "name": "stdout",
     "output_type": "stream",
     "text": [
      "I Fell in Love Like a Flower Bouquet 2021\n"
     ]
    },
    {
     "name": "stderr",
     "output_type": "stream",
     "text": [
      " 16%|█████████▌                                                   | 29/185 [02:29<11:23,  4.38s/it]"
     ]
    },
    {
     "name": "stdout",
     "output_type": "stream",
     "text": [
      "Horse Girl 2020\n"
     ]
    },
    {
     "name": "stderr",
     "output_type": "stream",
     "text": [
      "\r",
      " 16%|█████████▉                                                   | 30/185 [02:34<11:33,  4.47s/it]"
     ]
    },
    {
     "name": "stdout",
     "output_type": "stream",
     "text": [
      "Black Bear 2020\n"
     ]
    },
    {
     "name": "stderr",
     "output_type": "stream",
     "text": [
      "\r",
      " 17%|██████████▏                                                  | 31/185 [02:39<12:10,  4.74s/it]"
     ]
    },
    {
     "name": "stdout",
     "output_type": "stream",
     "text": [
      "Clouds 2020\n"
     ]
    },
    {
     "name": "stderr",
     "output_type": "stream",
     "text": [
      " 19%|███████████▌                                                 | 35/185 [03:01<13:07,  5.25s/it]"
     ]
    },
    {
     "name": "stdout",
     "output_type": "stream",
     "text": [
      "Megan 2020\n"
     ]
    },
    {
     "name": "stderr",
     "output_type": "stream",
     "text": [
      " 23%|█████████████▊                                               | 42/185 [03:38<13:19,  5.59s/it]"
     ]
    },
    {
     "name": "stdout",
     "output_type": "stream",
     "text": [
      "Through My Window 2022\n"
     ]
    },
    {
     "name": "stderr",
     "output_type": "stream",
     "text": [
      " 24%|██████████████▊                                              | 45/185 [03:55<13:01,  5.58s/it]"
     ]
    },
    {
     "name": "stdout",
     "output_type": "stream",
     "text": [
      "Fire Island 2022\n"
     ]
    },
    {
     "name": "stderr",
     "output_type": "stream",
     "text": [
      " 26%|████████████████▏                                            | 49/185 [04:16<11:51,  5.23s/it]"
     ]
    },
    {
     "name": "stdout",
     "output_type": "stream",
     "text": [
      "Ma Rainey's Black Bottom 2020\n"
     ]
    },
    {
     "name": "stderr",
     "output_type": "stream",
     "text": [
      "\r",
      " 27%|████████████████▍                                            | 50/185 [04:20<11:23,  5.07s/it]"
     ]
    },
    {
     "name": "stdout",
     "output_type": "stream",
     "text": [
      "Aftersun 2022\n"
     ]
    },
    {
     "name": "stderr",
     "output_type": "stream",
     "text": [
      " 30%|██████████████████▏                                          | 55/185 [04:47<11:16,  5.20s/it]"
     ]
    },
    {
     "name": "stdout",
     "output_type": "stream",
     "text": [
      "Ghostbusters: Afterlife 2021\n"
     ]
    },
    {
     "name": "stderr",
     "output_type": "stream",
     "text": [
      " 34%|████████████████████▊                                        | 63/185 [05:31<11:06,  5.46s/it]"
     ]
    },
    {
     "name": "stdout",
     "output_type": "stream",
     "text": [
      "Uncle Frank 2020\n"
     ]
    },
    {
     "name": "stderr",
     "output_type": "stream",
     "text": [
      " 39%|███████████████████████▋                                     | 72/185 [06:21<10:35,  5.62s/it]"
     ]
    },
    {
     "name": "stdout",
     "output_type": "stream",
     "text": [
      "Men 2022\n"
     ]
    },
    {
     "name": "stderr",
     "output_type": "stream",
     "text": [
      "\r",
      " 39%|████████████████████████                                     | 73/185 [06:26<10:32,  5.65s/it]"
     ]
    },
    {
     "name": "stdout",
     "output_type": "stream",
     "text": [
      "Judas and the Black Messiah 2021\n"
     ]
    },
    {
     "name": "stderr",
     "output_type": "stream",
     "text": [
      " 41%|█████████████████████████                                    | 76/185 [06:45<11:04,  6.10s/it]"
     ]
    },
    {
     "name": "stdout",
     "output_type": "stream",
     "text": [
      "Annette 2021\n"
     ]
    },
    {
     "name": "stderr",
     "output_type": "stream",
     "text": [
      "\r",
      " 42%|█████████████████████████▍                                   | 77/185 [06:49<10:10,  5.66s/it]"
     ]
    },
    {
     "name": "stdout",
     "output_type": "stream",
     "text": [
      "Hatching 2022\n"
     ]
    },
    {
     "name": "stderr",
     "output_type": "stream",
     "text": [
      " 43%|██████████████████████████▍                                  | 80/185 [07:05<09:01,  5.16s/it]"
     ]
    },
    {
     "name": "stdout",
     "output_type": "stream",
     "text": [
      "Love & Gelato 2022\n"
     ]
    },
    {
     "name": "stderr",
     "output_type": "stream",
     "text": [
      " 47%|████████████████████████████▋                                | 87/185 [07:43<09:03,  5.54s/it]"
     ]
    },
    {
     "name": "stdout",
     "output_type": "stream",
     "text": [
      "Mrs. Harris Goes to Paris 2022\n"
     ]
    },
    {
     "name": "stderr",
     "output_type": "stream",
     "text": [
      " 50%|██████████████████████████████▋                              | 93/185 [08:17<08:14,  5.37s/it]"
     ]
    },
    {
     "name": "stdout",
     "output_type": "stream",
     "text": [
      "Don't Tell a Soul 2020\n"
     ]
    },
    {
     "name": "stderr",
     "output_type": "stream",
     "text": [
      " 54%|████████████████████████████████▍                           | 100/185 [08:55<07:23,  5.22s/it]"
     ]
    },
    {
     "name": "stdout",
     "output_type": "stream",
     "text": [
      "I Came By 2022\n"
     ]
    },
    {
     "name": "stderr",
     "output_type": "stream",
     "text": [
      "\r",
      " 55%|████████████████████████████████▊                           | 101/185 [09:01<07:29,  5.35s/it]"
     ]
    },
    {
     "name": "stdout",
     "output_type": "stream",
     "text": [
      "Antlers 2021\n"
     ]
    },
    {
     "name": "stderr",
     "output_type": "stream",
     "text": [
      " 58%|██████████████████████████████████▋                         | 107/185 [09:34<07:08,  5.50s/it]"
     ]
    },
    {
     "name": "stdout",
     "output_type": "stream",
     "text": [
      "Malcolm & Marie 2021\n"
     ]
    },
    {
     "name": "stderr",
     "output_type": "stream",
     "text": [
      "\r",
      " 58%|███████████████████████████████████                         | 108/185 [09:39<07:09,  5.57s/it]"
     ]
    },
    {
     "name": "stdout",
     "output_type": "stream",
     "text": [
      "Stargirl 2020\n"
     ]
    },
    {
     "name": "stderr",
     "output_type": "stream",
     "text": [
      "\r",
      " 59%|███████████████████████████████████▎                        | 109/185 [09:46<07:25,  5.86s/it]"
     ]
    },
    {
     "name": "stdout",
     "output_type": "stream",
     "text": [
      "Birds of Paradise 2021\n"
     ]
    },
    {
     "name": "stderr",
     "output_type": "stream",
     "text": [
      "\r",
      " 59%|███████████████████████████████████▋                        | 110/185 [09:52<07:27,  5.97s/it]"
     ]
    },
    {
     "name": "stdout",
     "output_type": "stream",
     "text": [
      "Bullet Train 2022\n"
     ]
    },
    {
     "name": "stderr",
     "output_type": "stream",
     "text": [
      "\r",
      " 60%|████████████████████████████████████                        | 111/185 [09:59<07:42,  6.24s/it]"
     ]
    },
    {
     "name": "stdout",
     "output_type": "stream",
     "text": [
      "Promising Young Woman 2020\n"
     ]
    },
    {
     "name": "stderr",
     "output_type": "stream",
     "text": [
      "\r",
      " 61%|████████████████████████████████████▎                       | 112/185 [10:04<07:05,  5.83s/it]"
     ]
    },
    {
     "name": "stdout",
     "output_type": "stream",
     "text": [
      "Love and Leashes 2022\n"
     ]
    },
    {
     "name": "stderr",
     "output_type": "stream",
     "text": [
      "\r",
      " 61%|████████████████████████████████████▋                       | 113/185 [10:10<07:15,  6.04s/it]"
     ]
    },
    {
     "name": "stdout",
     "output_type": "stream",
     "text": [
      "In the Heights 2021\n"
     ]
    },
    {
     "name": "stderr",
     "output_type": "stream",
     "text": [
      " 64%|██████████████████████████████████████▎                     | 118/185 [10:38<06:16,  5.62s/it]"
     ]
    },
    {
     "name": "stdout",
     "output_type": "stream",
     "text": [
      "Happiest Season 2020\n"
     ]
    },
    {
     "name": "stderr",
     "output_type": "stream",
     "text": [
      "\r",
      " 64%|██████████████████████████████████████▌                     | 119/185 [10:42<05:44,  5.23s/it]"
     ]
    },
    {
     "name": "stdout",
     "output_type": "stream",
     "text": [
      "Strange World 2022\n"
     ]
    },
    {
     "name": "stderr",
     "output_type": "stream",
     "text": [
      "\r",
      " 65%|██████████████████████████████████████▉                     | 120/185 [10:47<05:27,  5.04s/it]"
     ]
    },
    {
     "name": "stdout",
     "output_type": "stream",
     "text": [
      "Young Adult Matters 2020\n"
     ]
    },
    {
     "name": "stderr",
     "output_type": "stream",
     "text": [
      " 67%|████████████████████████████████████████▏                   | 124/185 [11:11<05:46,  5.68s/it]"
     ]
    },
    {
     "name": "stdout",
     "output_type": "stream",
     "text": [
      "Lightyear 2022\n"
     ]
    },
    {
     "name": "stderr",
     "output_type": "stream",
     "text": [
      "\r",
      " 68%|████████████████████████████████████████▌                   | 125/185 [11:16<05:27,  5.46s/it]"
     ]
    },
    {
     "name": "stdout",
     "output_type": "stream",
     "text": [
      "Yes Day 2021\n"
     ]
    },
    {
     "name": "stderr",
     "output_type": "stream",
     "text": [
      "\r",
      " 68%|████████████████████████████████████████▊                   | 126/185 [11:22<05:21,  5.45s/it]"
     ]
    },
    {
     "name": "stdout",
     "output_type": "stream",
     "text": [
      "See How They Run 2022\n"
     ]
    },
    {
     "name": "stderr",
     "output_type": "stream",
     "text": [
      " 73%|███████████████████████████████████████████▊                | 135/185 [12:11<04:51,  5.83s/it]"
     ]
    },
    {
     "name": "stdout",
     "output_type": "stream",
     "text": [
      "Dolittle 2020\n"
     ]
    },
    {
     "name": "stderr",
     "output_type": "stream",
     "text": [
      " 74%|████████████████████████████████████████████▍               | 137/185 [12:21<04:12,  5.27s/it]"
     ]
    },
    {
     "name": "stdout",
     "output_type": "stream",
     "text": [
      "Pink Skies Ahead 2020\n"
     ]
    },
    {
     "name": "stderr",
     "output_type": "stream",
     "text": [
      "\r",
      " 75%|████████████████████████████████████████████▊               | 138/185 [12:27<04:17,  5.48s/it]"
     ]
    },
    {
     "name": "stdout",
     "output_type": "stream",
     "text": [
      "Godmothered 2020\n"
     ]
    },
    {
     "name": "stderr",
     "output_type": "stream",
     "text": [
      " 76%|█████████████████████████████████████████████▋              | 141/185 [12:44<04:11,  5.72s/it]"
     ]
    },
    {
     "name": "stdout",
     "output_type": "stream",
     "text": [
      "Godzilla vs. Kong 2021\n"
     ]
    },
    {
     "name": "stderr",
     "output_type": "stream",
     "text": [
      " 77%|██████████████████████████████████████████████▍             | 143/185 [12:52<03:26,  4.93s/it]"
     ]
    },
    {
     "name": "stdout",
     "output_type": "stream",
     "text": [
      "Jingle Jangle: A Christmas Journey 2020\n"
     ]
    },
    {
     "name": "stderr",
     "output_type": "stream",
     "text": [
      "\r",
      " 78%|██████████████████████████████████████████████▋             | 144/185 [12:57<03:26,  5.03s/it]"
     ]
    },
    {
     "name": "stdout",
     "output_type": "stream",
     "text": [
      "Marcel the Shell with Shoes On 2021\n"
     ]
    },
    {
     "name": "stderr",
     "output_type": "stream",
     "text": [
      " 79%|███████████████████████████████████████████████▋            | 147/185 [13:13<03:19,  5.25s/it]"
     ]
    },
    {
     "name": "stdout",
     "output_type": "stream",
     "text": [
      "A Perfect Pairing 2022\n"
     ]
    },
    {
     "name": "stderr",
     "output_type": "stream",
     "text": [
      " 81%|████████████████████████████████████████████████▎           | 149/185 [13:25<03:26,  5.74s/it]"
     ]
    },
    {
     "name": "stdout",
     "output_type": "stream",
     "text": [
      "An American Pickle 2020\n"
     ]
    },
    {
     "name": "stderr",
     "output_type": "stream",
     "text": [
      "\r",
      " 81%|████████████████████████████████████████████████▋           | 150/185 [13:31<03:14,  5.56s/it]"
     ]
    },
    {
     "name": "stdout",
     "output_type": "stream",
     "text": [
      "My Best Friend Anne Frank 2021\n"
     ]
    },
    {
     "name": "stderr",
     "output_type": "stream",
     "text": [
      " 82%|█████████████████████████████████████████████████▎          | 152/185 [13:41<02:58,  5.41s/it]"
     ]
    },
    {
     "name": "stdout",
     "output_type": "stream",
     "text": [
      "Elemental 2023\n"
     ]
    },
    {
     "name": "stderr",
     "output_type": "stream",
     "text": [
      " 85%|██████████████████████████████████████████████████▉         | 157/185 [14:08<02:35,  5.57s/it]"
     ]
    },
    {
     "name": "stdout",
     "output_type": "stream",
     "text": [
      "The French Dispatch 2020\n"
     ]
    },
    {
     "name": "stderr",
     "output_type": "stream",
     "text": [
      "\r",
      " 85%|███████████████████████████████████████████████████▏        | 158/185 [14:15<02:38,  5.88s/it]"
     ]
    },
    {
     "name": "stdout",
     "output_type": "stream",
     "text": [
      "The King of Staten Island 2020\n"
     ]
    },
    {
     "name": "stderr",
     "output_type": "stream",
     "text": [
      "\r",
      " 86%|███████████████████████████████████████████████████▌        | 159/185 [14:20<02:27,  5.66s/it]"
     ]
    },
    {
     "name": "stdout",
     "output_type": "stream",
     "text": [
      "The Map of Tiny Perfect Things 2021\n"
     ]
    },
    {
     "name": "stderr",
     "output_type": "stream",
     "text": [
      "\r",
      " 86%|███████████████████████████████████████████████████▉        | 160/185 [14:25<02:12,  5.31s/it]"
     ]
    },
    {
     "name": "stdout",
     "output_type": "stream",
     "text": [
      "The Pale Blue Eye 2022\n"
     ]
    },
    {
     "name": "stderr",
     "output_type": "stream",
     "text": [
      " 88%|████████████████████████████████████████████████████▌       | 162/185 [14:36<02:05,  5.48s/it]"
     ]
    },
    {
     "name": "stdout",
     "output_type": "stream",
     "text": [
      "The Trial of the Chicago 7 2020\n"
     ]
    },
    {
     "name": "stderr",
     "output_type": "stream",
     "text": [
      "\r",
      " 88%|████████████████████████████████████████████████████▊       | 163/185 [14:41<02:00,  5.46s/it]"
     ]
    },
    {
     "name": "stdout",
     "output_type": "stream",
     "text": [
      "The Unbearable Weight of Massive Talent 2022\n"
     ]
    },
    {
     "name": "stderr",
     "output_type": "stream",
     "text": [
      " 90%|█████████████████████████████████████████████████████▊      | 166/185 [15:00<01:50,  5.82s/it]"
     ]
    },
    {
     "name": "stdout",
     "output_type": "stream",
     "text": [
      "The Kid Detective 2020\n"
     ]
    },
    {
     "name": "stderr",
     "output_type": "stream",
     "text": [
      "\r",
      " 90%|██████████████████████████████████████████████████████▏     | 167/185 [15:06<01:47,  5.96s/it]"
     ]
    },
    {
     "name": "stdout",
     "output_type": "stream",
     "text": [
      "The Midnight Sky 2020\n"
     ]
    },
    {
     "name": "stderr",
     "output_type": "stream",
     "text": [
      " 92%|███████████████████████████████████████████████████████▏    | 170/185 [15:22<01:23,  5.54s/it]"
     ]
    },
    {
     "name": "stdout",
     "output_type": "stream",
     "text": [
      "The 355 2022\n"
     ]
    },
    {
     "name": "stderr",
     "output_type": "stream",
     "text": [
      "\r",
      " 92%|███████████████████████████████████████████████████████▍    | 171/185 [15:28<01:16,  5.49s/it]"
     ]
    },
    {
     "name": "stdout",
     "output_type": "stream",
     "text": [
      "The Hand of God 2021\n"
     ]
    },
    {
     "name": "stderr",
     "output_type": "stream",
     "text": [
      "\r",
      " 93%|███████████████████████████████████████████████████████▊    | 172/185 [15:33<01:09,  5.36s/it]"
     ]
    },
    {
     "name": "stdout",
     "output_type": "stream",
     "text": [
      "The Cornetto Trilogy 2021\n"
     ]
    },
    {
     "name": "stderr",
     "output_type": "stream",
     "text": [
      " 95%|████████████████████████████████████████████████████████▊   | 175/185 [15:50<00:55,  5.57s/it]"
     ]
    },
    {
     "name": "stdout",
     "output_type": "stream",
     "text": [
      "The School for Good and Evil 2022\n"
     ]
    },
    {
     "name": "stderr",
     "output_type": "stream",
     "text": [
      "\r",
      " 95%|█████████████████████████████████████████████████████████   | 176/185 [15:56<00:49,  5.52s/it]"
     ]
    },
    {
     "name": "stdout",
     "output_type": "stream",
     "text": [
      "The Worst Person in the World 2021\n"
     ]
    },
    {
     "name": "stderr",
     "output_type": "stream",
     "text": [
      "\r",
      " 96%|█████████████████████████████████████████████████████████▍  | 177/185 [16:01<00:44,  5.59s/it]"
     ]
    },
    {
     "name": "stdout",
     "output_type": "stream",
     "text": [
      "The Sea Beast 2022\n"
     ]
    },
    {
     "name": "stderr",
     "output_type": "stream",
     "text": [
      " 97%|██████████████████████████████████████████████████████████  | 179/185 [16:13<00:33,  5.66s/it]"
     ]
    },
    {
     "name": "stdout",
     "output_type": "stream",
     "text": [
      "The Fabelmans 2022\n"
     ]
    },
    {
     "name": "stderr",
     "output_type": "stream",
     "text": [
      "\r",
      " 97%|██████████████████████████████████████████████████████████▍ | 180/185 [16:18<00:26,  5.37s/it]"
     ]
    },
    {
     "name": "stdout",
     "output_type": "stream",
     "text": [
      "The Wrong Missy 2020\n"
     ]
    },
    {
     "name": "stderr",
     "output_type": "stream",
     "text": [
      "\r",
      " 98%|██████████████████████████████████████████████████████████▋ | 181/185 [16:24<00:22,  5.57s/it]"
     ]
    },
    {
     "name": "stdout",
     "output_type": "stream",
     "text": [
      "The Voyeurs 2021\n"
     ]
    },
    {
     "name": "stderr",
     "output_type": "stream",
     "text": [
      "\r",
      " 98%|███████████████████████████████████████████████████████████ | 182/185 [16:29<00:16,  5.55s/it]"
     ]
    },
    {
     "name": "stdout",
     "output_type": "stream",
     "text": [
      "The Woman in the Window 2020\n"
     ]
    },
    {
     "name": "stderr",
     "output_type": "stream",
     "text": [
      "\r",
      " 99%|███████████████████████████████████████████████████████████▎| 183/185 [16:35<00:11,  5.50s/it]"
     ]
    },
    {
     "name": "stdout",
     "output_type": "stream",
     "text": [
      "The World to Come 2020\n"
     ]
    },
    {
     "name": "stderr",
     "output_type": "stream",
     "text": [
      "100%|████████████████████████████████████████████████████████████| 185/185 [16:45<00:00,  5.44s/it]"
     ]
    },
    {
     "name": "stdout",
     "output_type": "stream",
     "text": [
      "The Broken Hearts Gallery 2020\n",
      "2020년 이후 개봉 영화 71개\n",
      "프로세싱후 추가 처리해야줘야 할 mbti none title list는 112개\n"
     ]
    },
    {
     "name": "stderr",
     "output_type": "stream",
     "text": [
      "\n"
     ]
    }
   ],
   "source": [
    "after_mbti_none_title_list, after_2020_movie = remove_after_2020_movie(mbti_none_title_list)"
   ]
  },
  {
   "cell_type": "code",
   "execution_count": null,
   "metadata": {},
   "outputs": [],
   "source": []
  },
  {
   "cell_type": "code",
   "execution_count": null,
   "metadata": {},
   "outputs": [],
   "source": []
  },
  {
   "cell_type": "code",
   "execution_count": null,
   "metadata": {},
   "outputs": [],
   "source": []
  },
  {
   "cell_type": "code",
   "execution_count": 492,
   "metadata": {
    "ExecuteTime": {
     "end_time": "2023-01-15T03:43:45.132652Z",
     "start_time": "2023-01-15T03:43:45.073356Z"
    }
   },
   "outputs": [
    {
     "data": {
      "text/plain": [
       "[]"
      ]
     },
     "execution_count": 492,
     "metadata": {},
     "output_type": "execute_result"
    }
   ],
   "source": [
    "c1 =  ml_title.title.str.contains(\"legend\")\n",
    "c2 = ml_title.title.str.contains(\"hei\")\n",
    "ml_title[c1 & c2].title.tolist()"
   ]
  },
  {
   "cell_type": "code",
   "execution_count": 493,
   "metadata": {
    "ExecuteTime": {
     "end_time": "2023-01-15T03:43:55.708738Z",
     "start_time": "2023-01-15T03:43:55.641595Z"
    },
    "collapsed": true
   },
   "outputs": [
    {
     "ename": "IndexError",
     "evalue": "list index out of range",
     "output_type": "error",
     "traceback": [
      "\u001b[0;31m---------------------------------------------------------------------------\u001b[0m",
      "\u001b[0;31mIndexError\u001b[0m                                Traceback (most recent call last)",
      "Input \u001b[0;32mIn [493]\u001b[0m, in \u001b[0;36m<cell line: 2>\u001b[0;34m()\u001b[0m\n\u001b[1;32m      1\u001b[0m title_list \u001b[38;5;241m=\u001b[39m ml_title_list\n\u001b[0;32m----> 2\u001b[0m title \u001b[38;5;241m=\u001b[39m \u001b[43mafter_mbti_none_title_list\u001b[49m\u001b[43m[\u001b[49m\u001b[38;5;241;43m112\u001b[39;49m\u001b[43m]\u001b[49m \u001b[38;5;66;03m# 'harry potter / wizarding world films'\u001b[39;00m\n\u001b[1;32m      3\u001b[0m \u001b[38;5;28mprint\u001b[39m(title)\n\u001b[1;32m      4\u001b[0m result \u001b[38;5;241m=\u001b[39m content_based_filtering_jaccard(title_list, title)\n",
      "\u001b[0;31mIndexError\u001b[0m: list index out of range"
     ]
    }
   ],
   "source": [
    "title_list = ml_title_list\n",
    "title = after_mbti_none_title_list[111] # 'harry potter / wizarding world films'\n",
    "print(title)\n",
    "result = content_based_filtering_jaccard(title_list, title)\n",
    "result"
   ]
  },
  {
   "cell_type": "code",
   "execution_count": 490,
   "metadata": {
    "ExecuteTime": {
     "end_time": "2023-01-15T03:43:26.227373Z",
     "start_time": "2023-01-15T03:43:26.221462Z"
    },
    "scrolled": true
   },
   "outputs": [
    {
     "name": "stdout",
     "output_type": "stream",
     "text": [
      "[('the fast and the furious', 'fast and the furious, the'), ('the fox and the hound', 'fox and the hound, the')]\n"
     ]
    },
    {
     "data": {
      "text/plain": [
       "162"
      ]
     },
     "execution_count": 490,
     "metadata": {},
     "output_type": "execute_result"
    }
   ],
   "source": [
    "num=2\n",
    "change_dict[title]=result.loc[num,'title']\n",
    "print([(k,v) for k,v in change_dict.items()][-2:])\n",
    "len(change_dict)"
   ]
  },
  {
   "cell_type": "code",
   "execution_count": 482,
   "metadata": {
    "ExecuteTime": {
     "end_time": "2023-01-15T03:42:02.079836Z",
     "start_time": "2023-01-15T03:42:02.073633Z"
    }
   },
   "outputs": [
    {
     "name": "stdout",
     "output_type": "stream",
     "text": [
      "[('the pebble and the penguin', 'pebble and the penguin, the'), ('the necessary death of charlie countryman', 'charlie countryman')]\n"
     ]
    },
    {
     "data": {
      "text/plain": [
       "159"
      ]
     },
     "execution_count": 482,
     "metadata": {},
     "output_type": "execute_result"
    }
   ],
   "source": [
    "search_title= 'charlie countryman'\n",
    "\n",
    "change_dict[title]=search_title\n",
    "print([(k,v) for k,v in change_dict.items()][-2:])\n",
    "len(change_dict)"
   ]
  },
  {
   "cell_type": "code",
   "execution_count": 503,
   "metadata": {
    "ExecuteTime": {
     "end_time": "2023-01-15T06:05:39.008853Z",
     "start_time": "2023-01-15T06:05:38.999984Z"
    }
   },
   "outputs": [
    {
     "data": {
      "text/plain": [
       "{'the lord of the rings': 'lord of the rings, the',\n",
       " 'Wall E': 'wall·e',\n",
       " 'alice in wonderland / through the looking glass': 'alice through the looking glass',\n",
       " 'the before trilogy': ['before sunrise', 'before sunset', 'before midnight'],\n",
       " 'the hunchback of notre dame': 'hunchback of notre dame, the',\n",
       " 'everything everywhere all at once': 'all at once',\n",
       " 'major grom: the plague doctor': 'major grom',\n",
       " 'the hangover trilogy': ['hangover part ii, the', 'hangover part iii, the'],\n",
       " 'interview with the vampire': 'interview with the vampire: the vampire chronicles',\n",
       " 'the princess bride': 'princess bride, the',\n",
       " 'the virgin suicides': 'virgin suicides, the',\n",
       " 'barbie mariposa': 'barbie mariposa and her butterfly fairy friends',\n",
       " 'buffalo ‘66': \"buffalo '66\",\n",
       " 'the silence of the lambs': 'silence of the lambs, the',\n",
       " 'the lovely bones': 'lovely bones, the',\n",
       " 'the secret life of walter mitty': 'secret life of walter mitty, the',\n",
       " 'the truman show': 'truman show, the',\n",
       " \"la vie d'adèle\": 'blue is the warmest color',\n",
       " 'romeo + juliet': 'romeo and juliet',\n",
       " 'the big lebowski': 'big lebowski, the',\n",
       " 'the royal tenenbaums': 'royal tenenbaums, the',\n",
       " 'the dreamers': 'dreamers, the',\n",
       " 'the iron giant': 'iron giant, the',\n",
       " 'the goonies': 'goonies, the',\n",
       " 'the land before time': 'land before time, the',\n",
       " 'the man who fell to earth': 'man who fell to earth, the',\n",
       " 'the giver': 'giver, the',\n",
       " 'the girl next door': 'girl next door, the',\n",
       " 'the talented mr. ripley': 'talented mr. ripley, the',\n",
       " 'the art of getting by': 'art of getting by, the',\n",
       " 'the boxtrolls': 'boxtrolls, the',\n",
       " 'the darjeeling limited': 'darjeeling limited, the',\n",
       " 'the host': 'host, the',\n",
       " 'the conjuring': 'conjuring, the',\n",
       " 'the last airbender': 'last airbender, the',\n",
       " 'the nutty professor': 'nutty professor, the',\n",
       " 'the lover': 'lover, the',\n",
       " 'the little rascals': 'little rascals, the',\n",
       " 'the way, way back': 'way, way back, the',\n",
       " 'the piano': 'piano, the',\n",
       " 'the brave little toaster': 'brave little toaster, the',\n",
       " 'the faculty': 'faculty, the',\n",
       " 'the wrestler': 'wrestler, the',\n",
       " 'the tale of despereaux': 'tale of despereaux, the',\n",
       " 'the hot chick': 'hot chick, the',\n",
       " 'the grand budapest hotel': 'grand budapest hotel, the',\n",
       " 'the secret of kells': 'secret of kells, the',\n",
       " 'the lives of others': 'lives of others, the',\n",
       " 'the road': 'road, the',\n",
       " 'the plague dogs': 'plague dogs, the',\n",
       " 'the good girl': 'good girl, the',\n",
       " 'the crow': 'crow, the',\n",
       " 'the adventures of tintin': 'adventures of tintin, the',\n",
       " 'the road to el dorado': 'road to el dorado, the',\n",
       " 'the illusionist': 'illusionist, the',\n",
       " 'the last samurai': 'last samurai, the',\n",
       " \"the time traveler's wife\": \"time traveler's wife, the\",\n",
       " 'the young girls of rochefort': 'young girls of rochefort, the',\n",
       " 'the passion of joan of arc': 'passion of joan of arc, the',\n",
       " 'the croods': 'croods, the',\n",
       " 'the celebration': 'celebration, the',\n",
       " 'the cell': 'cell, the',\n",
       " 'the house bunny': 'house bunny, the',\n",
       " 'the man who laughs': 'man who laughs, the',\n",
       " 'the extra man': 'extra man, the',\n",
       " 'the santa clause': 'santa clause, the',\n",
       " 'the good heart': 'good heart, the',\n",
       " 'the little vampire': 'little vampire, the',\n",
       " 'the outlaw josey wales': 'outlaw josey wales, the',\n",
       " 'the birdcage': 'birdcage, the',\n",
       " 'the maltese falcon': 'maltese falcon, the',\n",
       " 'the sound of music': 'sound of music, the',\n",
       " 'the devil wears prada': 'devil wears prada, the',\n",
       " 'the wolf of wall street': 'wolf of wall street, the',\n",
       " 'the king of comedy': 'king of comedy, the',\n",
       " 'the maze runner': 'maze runner, the',\n",
       " 'the pursuit of happyness': 'pursuit of happyness, the',\n",
       " 'the curious case of benjamin button': 'curious case of benjamin button, the',\n",
       " 'the doors': 'doors, the',\n",
       " 'the blair witch project': 'blair witch project, the',\n",
       " 'the other woman': 'other woman, the',\n",
       " 'the seventh seal': 'seventh seal, the',\n",
       " 'the dictator': 'dictator, the',\n",
       " 'the 40-year-old virgin': '40-year-old virgin, the',\n",
       " 'the apartment': 'apartment, the',\n",
       " 'the gray man': 'gray man, the',\n",
       " 'the great mouse detective': 'great mouse detective, the',\n",
       " 'the secret of moonacre': 'secret of moonacre, the',\n",
       " 'the motorcycle diaries': 'motorcycle diaries, the',\n",
       " 'the age of innocence': 'age of innocence, the',\n",
       " 'the clique': 'clique, the',\n",
       " 'a walk to remember': 'walk to remember, a',\n",
       " 'barbie: three musketeers': 'barbie and the three musketeers',\n",
       " 'taare zameen par': 'like stars on earth',\n",
       " 'a cinderella story': 'cinderella story, a',\n",
       " 'gnomeo and juliet': 'gnomeo & juliet',\n",
       " 'hoje eu quero voltar sozinho': 'the way he looks',\n",
       " 'rise of the planet of apes': 'rise of the planet of the apes',\n",
       " \"bram stoker's dracula\": 'dracula',\n",
       " 'chucky': ['bride of chucky', 'seed of chucky', 'cult of chucky'],\n",
       " 'a nightmare on elm street': 'nightmare on elm street, a',\n",
       " 'minha mãe é uma peça': 'my mom is a character',\n",
       " 'a serbian film': 'serbian film, a',\n",
       " 'les miserables': 'misérables, les',\n",
       " 'a room with a view': 'room with a view, a',\n",
       " '12 monkeys / twelve monkeys': 'twelve monkeys',\n",
       " 'a monster in paris': 'monster in paris, a',\n",
       " 'phantom of the opera: at the royal albert hall': 'the phantom of the opera at the royal albert hall',\n",
       " 'show me love / fucking åmål': 'show me love',\n",
       " 'rosencrantz & guildenstern are dead': 'rosencrantz and guildenstern are dead',\n",
       " 'a tale of two sisters': 'tale of two sisters',\n",
       " 'sinister series': ['sinister', 'sinister 2'],\n",
       " 'turma da mônica': 'turma da mônica: laços',\n",
       " 'la dolce vita': 'dolce vita, la',\n",
       " 'my teacher / sensei! suki ni natte mo ii desuka?': 'my teacher',\n",
       " 'three colours trilogy': ['three colors: red',\n",
       "  'three colors: blue',\n",
       "  'three colors: white'],\n",
       " '3 generations': 'about ray',\n",
       " 'a royal affair': 'royal affair, a',\n",
       " 'a walk in the clouds': 'walk in the clouds, a',\n",
       " 'a river runs through it': 'river runs through it, a',\n",
       " 'a christmas story': 'christmas story, a',\n",
       " 'tini: el gran cambio de violetta': 'tini: the movie - the new life of violetta',\n",
       " 'pheobe in wonderland': 'phoebe in wonderland',\n",
       " 'one hundred and one dalmatians': '101 dalmatians',\n",
       " 'bill & ted': \"bill & ted's excellent adventure\",\n",
       " 'romeo & juliet': 'romeo and juliet',\n",
       " 'un frère': 'a brother',\n",
       " 'fanny & alexander': 'fanny and alexander',\n",
       " 'ek villain': 'villain, the',\n",
       " 'a short film about love': 'short film about love, a',\n",
       " \"help! i'm a fish!\": \"help! i'm a fish\",\n",
       " 'ju-on': ['ju-on: the grudge',\n",
       "  'ju-on: the grudge 2',\n",
       "  'ju-on: white ghost',\n",
       "  'ju-on: the beginning of the end'],\n",
       " 'ginger and rosa': 'ginger & rosa',\n",
       " 'i’m not ashamed': \"i'm not ashamed\",\n",
       " 'gas light': 'gaslight',\n",
       " 'one eyed jacks': 'one-eyed jacks',\n",
       " 'exte': 'exte: hair extensions',\n",
       " 'dodgeball': 'dodgeball: a true underdog story',\n",
       " 'borat': 'borat: cultural learnings of america for make benefit glorious nation of kazakhstan',\n",
       " 'barbie: the princess and the popstar': 'barbie: the princess & the popstar',\n",
       " 'charlie’s angels': \"charlie's angels\",\n",
       " 'love & other drugs': 'love and other drugs',\n",
       " 'anchorman': ['anchorman: the legend of ron burgundy',\n",
       "  'anchorman 2: the legend continues'],\n",
       " 'dumb and dumber': 'dumb & dumber',\n",
       " 'planes, trains and automobiles': 'planes, trains & automobiles',\n",
       " 'once upon a time in... hollywood': 'once upon a time in hollywood',\n",
       " 'a woman is a woman': 'woman is a woman, a',\n",
       " 'mary shelley': \"mary shelley's frankenstein\",\n",
       " 'merry christmas, mr. lawrence': 'merry christmas mr. lawrence',\n",
       " 'sedmikrásky': 'daisies',\n",
       " 'captain underpants': 'captain underpants: the first epic movie',\n",
       " 'dan life': 'dan in real life',\n",
       " 'journey to the center of the earth / journey 2: the mysterious island': ['journey to the center of the earth',\n",
       "  'journey 2: the mysterious island'],\n",
       " \"ocean's eleven trilogy\": \"ocean's eleven\",\n",
       " 'tadeo jones : the lost explorer 2012': 'tad, the lost explorer',\n",
       " 'the assassination of jesse james by the coward robert ford': 'assassination of jesse james by the coward robert ford, the',\n",
       " 'the boys in the band': 'boys in the band, the',\n",
       " 'the pebble and the penguin': 'pebble and the penguin, the',\n",
       " 'the necessary death of charlie countryman': 'charlie countryman',\n",
       " 'the water horse: legend of the deep': 'water horse: legend of the deep, the',\n",
       " 'the fast and the furious': 'fast and the furious, the',\n",
       " 'the fox and the hound': 'fox and the hound, the'}"
      ]
     },
     "execution_count": 503,
     "metadata": {},
     "output_type": "execute_result"
    }
   ],
   "source": [
    "change_dict"
   ]
  },
  {
   "cell_type": "code",
   "execution_count": 460,
   "metadata": {
    "ExecuteTime": {
     "end_time": "2023-01-15T03:36:59.339623Z",
     "start_time": "2023-01-15T03:36:59.334414Z"
    }
   },
   "outputs": [
    {
     "name": "stdout",
     "output_type": "stream",
     "text": [
      "[('dan life', 'dan in real life'), ('journey to the center of the earth / journey 2: the mysterious island', ['journey to the center of the earth', 'journey 2: the mysterious island'])]\n"
     ]
    },
    {
     "data": {
      "text/plain": [
       "153"
      ]
     },
     "execution_count": 460,
     "metadata": {},
     "output_type": "execute_result"
    }
   ],
   "source": [
    "change_dict[title]=['journey to the center of the earth', 'journey 2: the mysterious island']\n",
    "print([(k,v) for k,v in change_dict.items()][-2:])\n",
    "len(change_dict)"
   ]
  },
  {
   "cell_type": "code",
   "execution_count": 26,
   "metadata": {
    "ExecuteTime": {
     "end_time": "2023-01-14T17:55:08.659259Z",
     "start_time": "2023-01-14T17:55:08.656133Z"
    }
   },
   "outputs": [],
   "source": [
    "change_dict=dict()"
   ]
  },
  {
   "cell_type": "markdown",
   "metadata": {},
   "source": [
    "movie_lens\n",
    "- 중복 영화가 있을 경우 그냥 제목으로 넣음\n",
    "ex) alice through the looking glass 중복 2개\n",
    "\n",
    "- 시리즈인 경우 시리즈를 리스트로 넣음"
   ]
  },
  {
   "cell_type": "code",
   "execution_count": 495,
   "metadata": {
    "ExecuteTime": {
     "end_time": "2023-01-15T03:44:31.030555Z",
     "start_time": "2023-01-15T03:44:31.026620Z"
    }
   },
   "outputs": [
    {
     "data": {
      "text/plain": [
       "162"
      ]
     },
     "execution_count": 495,
     "metadata": {},
     "output_type": "execute_result"
    }
   ],
   "source": [
    "len(change_dict)"
   ]
  },
  {
   "cell_type": "code",
   "execution_count": 496,
   "metadata": {
    "ExecuteTime": {
     "end_time": "2023-01-15T03:45:05.930255Z",
     "start_time": "2023-01-15T03:45:05.927943Z"
    }
   },
   "outputs": [],
   "source": [
    "import pickle"
   ]
  },
  {
   "cell_type": "code",
   "execution_count": 554,
   "metadata": {
    "ExecuteTime": {
     "end_time": "2023-01-15T08:29:25.481555Z",
     "start_time": "2023-01-15T08:29:25.478067Z"
    }
   },
   "outputs": [],
   "source": [
    "with open(\"mbti_movie_to_movilens_301_600.pkl\",\"wb\") as f:\n",
    "    pickle.dump(change_dict,f)"
   ]
  },
  {
   "cell_type": "code",
   "execution_count": 555,
   "metadata": {
    "ExecuteTime": {
     "end_time": "2023-01-15T08:29:27.495209Z",
     "start_time": "2023-01-15T08:29:27.491948Z"
    }
   },
   "outputs": [],
   "source": [
    "with open(\"mbti_movie_to_movilens_301_600.pkl\",\"rb\") as f:\n",
    "    aa = pickle.load(f)"
   ]
  },
  {
   "cell_type": "code",
   "execution_count": 556,
   "metadata": {
    "ExecuteTime": {
     "end_time": "2023-01-15T08:29:29.930059Z",
     "start_time": "2023-01-15T08:29:29.925905Z"
    }
   },
   "outputs": [
    {
     "data": {
      "text/plain": [
       "True"
      ]
     },
     "execution_count": 556,
     "metadata": {},
     "output_type": "execute_result"
    }
   ],
   "source": [
    "aa==change_dict"
   ]
  },
  {
   "cell_type": "code",
   "execution_count": null,
   "metadata": {},
   "outputs": [],
   "source": [
    "real_none_title = [\n",
    "    '500 days of summer',\n",
    "    'all too well', # 10분 단편 영화\n",
    "    'mary and max',\n",
    "    'drowning love',\n",
    "    'goncharov', # interent meme movie?\n",
    "    'barbie as the nutcracker',\n",
    "    'mune: guardian of the moon',\n",
    "    'mean girls 2', # mean girls는 있는데 2가 없네\n",
    "    \"la leggenda del pianista sull'oceano\",\n",
    "    \"la boum\",\n",
    "    \"pelíšky\",\n",
    "    \"crazy little thing called love\",\n",
    "    \"hababam sınıfı\",\n",
    "    \"é fada!\", # it's fairy 영제 없음\n",
    "    \"zathura: a space adventure\",\n",
    "    \"hot wheels world race / acceleracers\",\n",
    "    \"cry me a sad river\",\n",
    "    \"g.f.darwin\",\n",
    "    \"spookley the square pumpkin\",\n",
    "    \"never look away\",\n",
    "    \"a brighter summer day\",\n",
    "    \"ed.so family\", # 이런 영화 없음\n",
    "    \"k.g.f\",\n",
    "    \"trędowata\",\n",
    "    \"cats\", # 2019\n",
    "    \"chicuarotes\", # 2019\n",
    "    \"he won't kill, she won't die\", # 2019\n",
    "    \"bartok the magnificent\",\n",
    "    \"a coffee in berlin\",\n",
    "    \"color out of space\", # 2019\n",
    "    \"daniel isn't real\", # 2019\n",
    "    \"detachment\",\n",
    "    \"la notte\",\n",
    "    \"perras 2011\",\n",
    "    \"guns akimbo\",\n",
    "    \"step up : highwater\", # 이건 드라만데\n",
    "    \"peep ‘tv’ show\",\n",
    "    \"kuch kuch hota hai\",\n",
    "    \"four sisters and a wedding\",\n",
    "    \"kabhi khushi kabhie gham...\",\n",
    "    \"in space wth markiplier\",\n",
    "    \"the pirates! in an adventure with scientists!\",\n",
    "    \"the legend of hei\", #2019    \n",
    "                  ]\n",
    "                   "
   ]
  },
  {
   "cell_type": "code",
   "execution_count": 199,
   "metadata": {
    "ExecuteTime": {
     "end_time": "2023-01-14T21:36:18.336280Z",
     "start_time": "2023-01-14T21:36:18.331264Z"
    },
    "collapsed": true
   },
   "outputs": [
    {
     "data": {
      "text/plain": [
       "['freaky',\n",
       " 'firebird',\n",
       " 'slumberland',\n",
       " 'a boy called christmas',\n",
       " 'eurovision song contest: the story of fire saga',\n",
       " 'bones and all',\n",
       " 'halloween ends',\n",
       " 'nightbooks',\n",
       " 'i fell in love like a flower bouquet',\n",
       " 'horse girl',\n",
       " 'black bear',\n",
       " 'clouds',\n",
       " 'megan',\n",
       " 'through my window',\n",
       " 'fire island',\n",
       " \"ma rainey's black bottom\",\n",
       " 'aftersun',\n",
       " 'ghostbusters: afterlife',\n",
       " 'uncle frank',\n",
       " 'men',\n",
       " 'judas and the black messiah',\n",
       " 'annette',\n",
       " 'hatching',\n",
       " 'love & gelato',\n",
       " 'mrs. harris goes to paris',\n",
       " \"don't tell a soul\",\n",
       " 'i came by',\n",
       " 'antlers',\n",
       " 'malcolm & marie',\n",
       " 'stargirl',\n",
       " 'birds of paradise',\n",
       " 'bullet train',\n",
       " 'promising young woman',\n",
       " 'love and leashes',\n",
       " 'in the heights',\n",
       " 'happiest season',\n",
       " 'strange world',\n",
       " 'young adult matters',\n",
       " 'lightyear',\n",
       " 'yes day',\n",
       " 'see how they run',\n",
       " 'dolittle',\n",
       " 'pink skies ahead',\n",
       " 'godmothered',\n",
       " 'godzilla vs. kong',\n",
       " 'jingle jangle: a christmas journey',\n",
       " 'marcel the shell with shoes on',\n",
       " 'a perfect pairing',\n",
       " 'an american pickle',\n",
       " 'my best friend anne frank',\n",
       " 'elemental',\n",
       " 'the french dispatch',\n",
       " 'the king of staten island',\n",
       " 'the map of tiny perfect things',\n",
       " 'the pale blue eye',\n",
       " 'the trial of the chicago 7',\n",
       " 'the unbearable weight of massive talent',\n",
       " 'the kid detective',\n",
       " 'the midnight sky',\n",
       " 'the 355',\n",
       " 'the hand of god',\n",
       " 'the cornetto trilogy',\n",
       " 'the school for good and evil',\n",
       " 'the worst person in the world',\n",
       " 'the sea beast',\n",
       " 'the fabelmans',\n",
       " 'the wrong missy',\n",
       " 'the voyeurs',\n",
       " 'the woman in the window',\n",
       " 'the world to come',\n",
       " 'the broken hearts gallery']"
      ]
     },
     "execution_count": 199,
     "metadata": {},
     "output_type": "execute_result"
    }
   ],
   "source": [
    "after_2020_movie"
   ]
  },
  {
   "cell_type": "code",
   "execution_count": 504,
   "metadata": {
    "ExecuteTime": {
     "end_time": "2023-01-15T06:07:35.085993Z",
     "start_time": "2023-01-15T06:07:35.082103Z"
    }
   },
   "outputs": [],
   "source": [
    "after2020=['house of gucci','last night in soho',\"i'm thinking of ending things\",'tenet','blonde',\n",
    "        'ammonite','summer of 85','your name engraved herein','cruella','my first summer',\n",
    "        'confessions of an invisible girl','guillermo del toro’s pinocchio','confissões de uma garota excluída',\n",
    "        'mavka. the forest song','mencuri raden saleh','depois do universo','spider-man - lotus',\n",
    "        \"nahuel y el libro mágico\",\"o menino que matou meus pais / a menina que matou os pais\",\n",
    "        \"eduardo e mônica\",\"monster high : the movie\", \"upside down magic\",\n",
    "           \n",
    "        \n",
    "          ]"
   ]
  },
  {
   "cell_type": "code",
   "execution_count": 505,
   "metadata": {
    "ExecuteTime": {
     "end_time": "2023-01-15T06:07:37.717851Z",
     "start_time": "2023-01-15T06:07:37.715499Z"
    }
   },
   "outputs": [],
   "source": [
    "after_2020_movie.extend(after2020)"
   ]
  },
  {
   "cell_type": "code",
   "execution_count": 506,
   "metadata": {
    "ExecuteTime": {
     "end_time": "2023-01-15T06:07:41.276117Z",
     "start_time": "2023-01-15T06:07:41.272033Z"
    }
   },
   "outputs": [
    {
     "data": {
      "text/plain": [
       "93"
      ]
     },
     "execution_count": 506,
     "metadata": {},
     "output_type": "execute_result"
    }
   ],
   "source": [
    "len(set(after_2020_movie))"
   ]
  },
  {
   "cell_type": "markdown",
   "metadata": {},
   "source": [
    "위처럼 MBTI 크롤링 데이터 제목을 하나씩 무비렌즈 제목 데이터랑 비교해주신 다음에, \n",
    "\n",
    "1. 같은 영화이거나 시리즈 영화이면 제목을 동일하게 처리해주시고\n",
    "\n",
    "2. 아예 관련이 없는 제목 top 3가 나온다면 'MBTI 크롤링 데이터 제목'을 따로 리스트(real_none_title)에 담아서 저장해주세요!\n",
    "\n",
    "    -> 얘네는 따로 처리 필요!"
   ]
  }
 ],
 "metadata": {
  "kernelspec": {
   "display_name": "Python 3 (ipykernel)",
   "language": "python",
   "name": "python3"
  },
  "language_info": {
   "codemirror_mode": {
    "name": "ipython",
    "version": 3
   },
   "file_extension": ".py",
   "mimetype": "text/x-python",
   "name": "python",
   "nbconvert_exporter": "python",
   "pygments_lexer": "ipython3",
   "version": "3.8.5"
  },
  "toc": {
   "base_numbering": 1,
   "nav_menu": {},
   "number_sections": true,
   "sideBar": true,
   "skip_h1_title": false,
   "title_cell": "Table of Contents",
   "title_sidebar": "Contents",
   "toc_cell": false,
   "toc_position": {
    "height": "calc(100% - 180px)",
    "left": "10px",
    "top": "150px",
    "width": "361px"
   },
   "toc_section_display": true,
   "toc_window_display": false
  },
  "vscode": {
   "interpreter": {
    "hash": "742dbc7da983f9d46f8f562db0024c8fa2f61dc544a1e0fb1ef9dc08c479c661"
   }
  }
 },
 "nbformat": 4,
 "nbformat_minor": 2
}
