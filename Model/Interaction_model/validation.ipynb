{
 "cells": [
  {
   "cell_type": "code",
   "execution_count": 1,
   "metadata": {},
   "outputs": [],
   "source": [
    "import annoy\n",
    "import sys\n",
    "import pandas as pd\n",
    "import os\n",
    "import numpy as np\n",
    "import sre_parse\n",
    "import implicit\n",
    "from scipy import sparse\n",
    "from scipy.sparse import csr_matrix, lil_matrix"
   ]
  },
  {
   "cell_type": "code",
   "execution_count": 2,
   "metadata": {},
   "outputs": [],
   "source": [
    "data_path = \"/opt/ml/input/project/data/\"\n",
    "ratings = pd.read_csv(data_path+\"ml-25m/ratings.csv\")\n",
    "movies = pd.read_csv(data_path + \"ml-25m/movies.csv\")\n",
    "\n",
    "ratings = ratings.merge(movies[[\"movieId\",\"title\"]],how=\"left\",on = \"movieId\")                        \n",
    "ratings.drop(columns = [\"timestamp\"],inplace = True)\n",
    "ratings[\"rating\"] = 1\n",
    "\n",
    "inter_mbti_ml_title_movieid = pd.read_csv(data_path+\"inter_mbti_ml_title_movieId.csv\")\n"
   ]
  },
  {
   "cell_type": "code",
   "execution_count": 3,
   "metadata": {},
   "outputs": [],
   "source": [
    "user2idx = {k:v for v,k in enumerate(ratings['userId'].unique())}\n",
    "item2idx = {k:v for v,k in enumerate(ratings['movieId'].unique())}\n",
    "idx2item = {v:k for v,k in enumerate(ratings['movieId'].unique())}\n",
    "\n",
    "ratings['useridx'] = ratings['userId'].map(user2idx) # userId -> 인덱스로 바꿔줍니다.\n",
    "ratings['movieidx'] = ratings['movieId'].map(item2idx) # movieId -> 인덱스로 바꿔줍니다."
   ]
  },
  {
   "cell_type": "code",
   "execution_count": 4,
   "metadata": {},
   "outputs": [],
   "source": [
    "inter_mbti_ml_movieid = list(inter_mbti_ml_title_movieid['movieId'].values)\n",
    "ratings = ratings[ratings['movieId'].isin(inter_mbti_ml_movieid)]"
   ]
  },
  {
   "cell_type": "code",
   "execution_count": 5,
   "metadata": {},
   "outputs": [],
   "source": [
    "import random \n",
    "\n",
    "user_list = list(ratings['userId'].unique())\n",
    "test_size = int(len(user_list)*0.1)\n",
    "random.seed(42)\n",
    "test_user = random.sample(user_list, test_size)\n",
    "train_user = list(set(user_list)-set(test_user))"
   ]
  },
  {
   "cell_type": "code",
   "execution_count": 6,
   "metadata": {},
   "outputs": [],
   "source": [
    "train_df = ratings[ratings['userId'].isin(train_user)]\n",
    "test_df = ratings[ratings['userId'].isin(test_user)]"
   ]
  },
  {
   "cell_type": "code",
   "execution_count": 7,
   "metadata": {},
   "outputs": [
    {
     "name": "stdout",
     "output_type": "stream",
     "text": [
      "총 user 수 : 162537\n",
      "train user 수 :  146284\n",
      "test user 수 :  16253 \n",
      "\n",
      "총 movieId 수 : 3213\n",
      "train movieId 수 :  3212\n",
      "test movieId 수 :  2950 \n",
      "\n",
      "총 interaction 수 :  12854635\n",
      "train interaction 수 :  11562102\n",
      "test interaction 수 :  1292533\n"
     ]
    }
   ],
   "source": [
    "print(\"총 user 수 :\",ratings['userId'].nunique())\n",
    "print(\"train user 수 : \",len(train_user))\n",
    "print(\"test user 수 : \",len(test_user),\"\\n\")\n",
    "print(\"총 movieId 수 :\",ratings['movieId'].nunique())\n",
    "print(\"train movieId 수 : \",train_df[\"movieId\"].nunique())\n",
    "print(\"test movieId 수 : \",test_df[\"movieId\"].nunique(),\"\\n\")\n",
    "print(\"총 interaction 수 : \", ratings.shape[0])\n",
    "print(\"train interaction 수 : \", train_df.shape[0])\n",
    "print(\"test interaction 수 : \", test_df.shape[0])"
   ]
  },
  {
   "cell_type": "code",
   "execution_count": 8,
   "metadata": {},
   "outputs": [],
   "source": [
    "grouped = test_df.groupby('userId')\n",
    "test_user_movie = grouped['movieId'].apply(list)\n",
    "test_user_movie_dict = dict(test_user_movie)"
   ]
  },
  {
   "cell_type": "code",
   "execution_count": 9,
   "metadata": {},
   "outputs": [
    {
     "data": {
      "text/plain": [
       "True"
      ]
     },
     "execution_count": 9,
     "metadata": {},
     "output_type": "execute_result"
    }
   ],
   "source": [
    "annoy_model = annoy.AnnoyIndex(64,\"angular\")\n",
    "annoy_model.load(\"./lgcn_interaction/similarity\") # lgcn"
   ]
  },
  {
   "cell_type": "code",
   "execution_count": 9,
   "metadata": {},
   "outputs": [
    {
     "data": {
      "text/plain": [
       "True"
      ]
     },
     "execution_count": 9,
     "metadata": {},
     "output_type": "execute_result"
    }
   ],
   "source": [
    "annoy_model = annoy.AnnoyIndex(64,\"angular\")\n",
    "annoy_model.load(\"./validation_test/ALS_angular_64\") # ALS"
   ]
  },
  {
   "cell_type": "code",
   "execution_count": 9,
   "metadata": {},
   "outputs": [
    {
     "data": {
      "text/plain": [
       "True"
      ]
     },
     "execution_count": 9,
     "metadata": {},
     "output_type": "execute_result"
    }
   ],
   "source": [
    "annoy_model = annoy.AnnoyIndex(64,\"angular\")\n",
    "annoy_model.load(\"./validation_test/BPR_64\") # BPR"
   ]
  },
  {
   "cell_type": "code",
   "execution_count": 10,
   "metadata": {},
   "outputs": [
    {
     "name": "stderr",
     "output_type": "stream",
     "text": [
      "100%|██████████| 16253/16253 [18:57<00:00, 14.29it/s]  \n"
     ]
    }
   ],
   "source": [
    "from tqdm import tqdm\n",
    "K = 10\n",
    "user_scores = {}\n",
    "\n",
    "for user, movie_list in tqdm(test_user_movie_dict.items()):\n",
    "    movie_list_len = len(movie_list)\n",
    "    user_valid_movieids = random.sample(movie_list, min(K,movie_list_len-1)) # 검증할 movieId K개(인터랙션이 K보다 적다면 인터랙션 수-1 만큼만)\n",
    "    user_prefer_movieids = list(set(movie_list)-set(user_valid_movieids)) # 인터랙션에서 user_valid_movieids를 제외한 영화\n",
    "    scores = {}\n",
    "\n",
    "    for mid in user_prefer_movieids: # prefer_movie와 유사도가 높을수록 높은 점수를 부여합니다.\n",
    "        neighbour, dist = annoy_model.get_nns_by_item(mid,500,include_distances=True)\n",
    "        norm = 2 # max( sqrt(2-2cos) )\n",
    "        cnt = 0\n",
    "        for n,d in zip(neighbour[1:],dist[1:]):\n",
    "            if cnt == K:\n",
    "                break\n",
    "            if n not in user_prefer_movieids: # 유사한 영화가 prefer에 포함되어있으면 안됩니다.\n",
    "                try:\n",
    "                    scores[n] += 1-d/norm # angular similarity가 낮을수록 score를 높게 측정합니다.\n",
    "                except:\n",
    "                    scores[n] = 0\n",
    "                    scores[n] += 1-d/norm\n",
    "                cnt += 1\n",
    "        assert cnt==K, \"갯수가 모자라요\"\n",
    "\n",
    "    sort_scores = sorted(scores.items(),key = lambda x: -x[1])[:K] # score를 내림차순 정렬 해줍니다.\n",
    "    recall = 0\n",
    "\n",
    "    for mid,score in sort_scores:\n",
    "        if mid in user_valid_movieids: # 상위 K개를 뽑았을 때 valid에 포함되어 있으면 +1 해줍니다.\n",
    "            recall+=1\n",
    "    user_scores[user] = recall/min(K,movie_list_len-1)\n",
    "\n",
    "recall10 = sum(list(user_scores.values()))/len(user_scores.keys())"
   ]
  },
  {
   "cell_type": "code",
   "execution_count": 15,
   "metadata": {},
   "outputs": [
    {
     "data": {
      "text/plain": [
       "0.14220143973419255"
      ]
     },
     "execution_count": 15,
     "metadata": {},
     "output_type": "execute_result"
    }
   ],
   "source": [
    "sum(list(user_scores.values()))/len(user_scores.keys()) # ALS recall10"
   ]
  },
  {
   "cell_type": "code",
   "execution_count": 12,
   "metadata": {},
   "outputs": [
    {
     "data": {
      "text/plain": [
       "0.0028004109619811555"
      ]
     },
     "execution_count": 12,
     "metadata": {},
     "output_type": "execute_result"
    }
   ],
   "source": [
    "recall10 # lgcn"
   ]
  },
  {
   "cell_type": "code",
   "execution_count": 13,
   "metadata": {},
   "outputs": [
    {
     "data": {
      "text/plain": [
       "0.047163820305706115"
      ]
     },
     "execution_count": 13,
     "metadata": {},
     "output_type": "execute_result"
    }
   ],
   "source": [
    "recall10 # BPR"
   ]
  },
  {
   "cell_type": "code",
   "execution_count": null,
   "metadata": {},
   "outputs": [],
   "source": []
  }
 ],
 "metadata": {
  "kernelspec": {
   "display_name": "base",
   "language": "python",
   "name": "python3"
  },
  "language_info": {
   "codemirror_mode": {
    "name": "ipython",
    "version": 3
   },
   "file_extension": ".py",
   "mimetype": "text/x-python",
   "name": "python",
   "nbconvert_exporter": "python",
   "pygments_lexer": "ipython3",
   "version": "3.8.5"
  },
  "orig_nbformat": 4,
  "vscode": {
   "interpreter": {
    "hash": "d4d1e4263499bec80672ea0156c357c1ee493ec2b1c70f0acce89fc37c4a6abe"
   }
  }
 },
 "nbformat": 4,
 "nbformat_minor": 2
}
