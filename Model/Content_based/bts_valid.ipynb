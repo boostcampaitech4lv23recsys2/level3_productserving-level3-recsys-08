{
 "cells": [
  {
   "attachments": {},
   "cell_type": "markdown",
   "metadata": {},
   "source": [
    "# BTS 모델(자체 개발 모델)의 성능 측정"
   ]
  },
  {
   "cell_type": "code",
   "execution_count": 1,
   "metadata": {},
   "outputs": [],
   "source": [
    "from content_based_rec import content_based_filtering\n",
    "import pandas as pd\n",
    "from tqdm import tqdm"
   ]
  },
  {
   "attachments": {},
   "cell_type": "markdown",
   "metadata": {},
   "source": [
    "인기있는 영화와 MovieLens 데이터에서 겹치는 영화를 찾아낸다.  \n",
    "-> 인기있는 영화의 interaction 데이터를 얻기위해"
   ]
  },
  {
   "cell_type": "code",
   "execution_count": 2,
   "metadata": {},
   "outputs": [],
   "source": [
    "mv_df = pd.read_csv('/opt/ml/input/final_project/Content_based/230129_Popular_movie_1192_cwj.csv')\n",
    "ml_df = pd.read_csv('/opt/ml/input/final_project/data/ml-25m/ratings.csv')\n",
    "\n",
    "merged_df = pd.merge(ml_df,mv_df,how='inner',on='movieId')\n",
    "\n",
    "merged_df = merged_df.drop(['rating_x', 'timestamp', 'Contents', 'ko_title',\n",
    "       'contents_year', 'country', 'ko_genre', 'ko_plot', 'rating_y', 'npop',\n",
    "       'genres', 'plot', 'directors', 'actors'],axis=1)"
   ]
  },
  {
   "cell_type": "code",
   "execution_count": 3,
   "metadata": {},
   "outputs": [],
   "source": [
    "mask = merged_df.userId.isin(merged_df.userId.value_counts()[merged_df.userId.value_counts() > 350].index)\n",
    "interactions_df = merged_df[mask]\n",
    "\n",
    "interactions_df = interactions_df.sort_values('userId')"
   ]
  },
  {
   "cell_type": "code",
   "execution_count": 9,
   "metadata": {},
   "outputs": [],
   "source": [
    "# specify the start and end row indices\n",
    "start_index = 0\n",
    "end_index = 80\n",
    "\n",
    "# group the DataFrame by the 'userId' column\n",
    "grouped = interactions_df.groupby(\"userId\")\n",
    "\n",
    "# extract the specified rows for each group into a list of DataFrames\n",
    "result = [group.iloc[start_index:end_index] for _, group in grouped]\n",
    "\n",
    "# concatenate the list of DataFrames into a single DataFrame\n",
    "train_df = pd.concat(result)\n",
    "\n",
    "# specify the start and end row indices\n",
    "start_index = 80\n",
    "end_index = 140 #100\n",
    "\n",
    "# # group the DataFrame by the 'userId' column\n",
    "# grouped = interactions_df.groupby(\"userId\")\n",
    "\n",
    "# extract the specified rows for each group into a list of DataFrames\n",
    "result = [group.iloc[start_index:] for _, group in grouped]\n",
    "\n",
    "# concatenate the list of DataFrames into a single DataFrame\n",
    "test_df = pd.concat(result)\n"
   ]
  },
  {
   "attachments": {},
   "cell_type": "markdown",
   "metadata": {},
   "source": [
    "HitRate@10을 구한다.  \n",
    "80개의 interaction을 입력하고 10개의 추천리스트를 만든다.  \n",
    "추천 리스트에서 입력으로 넣지 않은 유저-영화 상호작용한 데이터가 있으면 Hit이다."
   ]
  },
  {
   "cell_type": "code",
   "execution_count": 5,
   "metadata": {},
   "outputs": [
    {
     "name": "stderr",
     "output_type": "stream",
     "text": [
      "100%|██████████| 48880/48880 [2:37:23<00:00,  5.18it/s]  \n"
     ]
    }
   ],
   "source": [
    "cnt = 0\n",
    "ref = []\n",
    "rslt = {}\n",
    "pbar = tqdm(list(zip(train_df.userId, train_df.movieId)))\n",
    "for i,j in pbar:\n",
    "    cnt+=1\n",
    "    ref.append(j)\n",
    "\n",
    "    if cnt%10 == 0:\n",
    "        rslt[i] = content_based_filtering(ref,10)\n",
    "        ref = []"
   ]
  },
  {
   "cell_type": "code",
   "execution_count": 10,
   "metadata": {},
   "outputs": [],
   "source": [
    "test_dict = {}\n",
    "for i,j in zip(test_df.userId, test_df.movieId):\n",
    "    try:\n",
    "        test_dict[i].append(j)\n",
    "    except KeyError:\n",
    "        test_dict[i] = [j]"
   ]
  },
  {
   "cell_type": "code",
   "execution_count": 11,
   "metadata": {},
   "outputs": [
    {
     "name": "stdout",
     "output_type": "stream",
     "text": [
      "433\n"
     ]
    }
   ],
   "source": [
    "cnt = 0\n",
    "for i in test_dict:\n",
    "    for j in rslt[i]:\n",
    "        if j[0] in test_dict[i]:\n",
    "            cnt+=1\n",
    "            break\n",
    "print(cnt)"
   ]
  },
  {
   "cell_type": "code",
   "execution_count": 13,
   "metadata": {},
   "outputs": [
    {
     "name": "stdout",
     "output_type": "stream",
     "text": [
      "212415\n",
      "611\n"
     ]
    },
    {
     "data": {
      "text/plain": [
       "0.7086743044189853"
      ]
     },
     "execution_count": 13,
     "metadata": {},
     "output_type": "execute_result"
    }
   ],
   "source": [
    "print(len(test_df))\n",
    "print(len(test_dict))\n",
    "cnt/len(test_dict) # HitRate@10"
   ]
  }
 ],
 "metadata": {
  "kernelspec": {
   "display_name": "Python 3",
   "language": "python",
   "name": "python3"
  },
  "language_info": {
   "codemirror_mode": {
    "name": "ipython",
    "version": 3
   },
   "file_extension": ".py",
   "mimetype": "text/x-python",
   "name": "python",
   "nbconvert_exporter": "python",
   "pygments_lexer": "ipython3",
   "version": "3.8.5"
  },
  "orig_nbformat": 4,
  "vscode": {
   "interpreter": {
    "hash": "d4d1e4263499bec80672ea0156c357c1ee493ec2b1c70f0acce89fc37c4a6abe"
   }
  }
 },
 "nbformat": 4,
 "nbformat_minor": 2
}
